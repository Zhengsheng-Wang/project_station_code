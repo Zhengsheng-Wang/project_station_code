{
 "cells": [
  {
   "cell_type": "markdown",
   "metadata": {},
   "source": [
    "# 导入包"
   ]
  },
  {
   "cell_type": "code",
   "execution_count": 1,
   "metadata": {},
   "outputs": [],
   "source": [
    "import pdb, os, shutil, datetime, math, sys, time"
   ]
  },
  {
   "cell_type": "code",
   "execution_count": 2,
   "metadata": {},
   "outputs": [],
   "source": [
    "import scipy.stats as ss"
   ]
  },
  {
   "cell_type": "code",
   "execution_count": 3,
   "metadata": {},
   "outputs": [],
   "source": [
    "import json"
   ]
  },
  {
   "cell_type": "code",
   "execution_count": 4,
   "metadata": {},
   "outputs": [],
   "source": [
    "import matplotlib.pyplot as plt"
   ]
  },
  {
   "cell_type": "code",
   "execution_count": 5,
   "metadata": {},
   "outputs": [],
   "source": [
    "import numpy as np\n",
    "import pandas as pd"
   ]
  },
  {
   "cell_type": "code",
   "execution_count": 6,
   "metadata": {},
   "outputs": [],
   "source": [
    "import tensorflow as tf"
   ]
  },
  {
   "cell_type": "code",
   "execution_count": 7,
   "metadata": {},
   "outputs": [],
   "source": [
    "strJobsDir = \"../jobs_nobranch\""
   ]
  },
  {
   "cell_type": "markdown",
   "metadata": {},
   "source": [
    "# 帧同步锁前\n",
    "\n",
    "因为在MNIST中的样本有784个属性。用于分类的模型也只有2层。所以在整个解扰前的训练中，我使用的模型的层数均不变。\n",
    "\n",
    "只随着样本属性的增加，增加每层的神经元个数。"
   ]
  },
  {
   "cell_type": "markdown",
   "metadata": {},
   "source": [
    "## 工具函数"
   ]
  },
  {
   "cell_type": "markdown",
   "metadata": {},
   "source": [
    "### 训练函数\n",
    "训练模型，模型用全局变量表示。\n",
    "\n",
    "如果在某个迭代的最终损失不小于前一次迭代，终止循环，返回前一次迭代的生成器的三个元素。"
   ]
  },
  {
   "cell_type": "code",
   "execution_count": 23,
   "metadata": {},
   "outputs": [],
   "source": [
    "def fn_train(oGAN): \n",
    "    def fn_getGLoss(tensorInput):\n",
    "        # Apperant loss\n",
    "        tensorEncodedSamples = oGAN.oSeqGe(tensorInput)\n",
    "        tensorFakeSamples = oGAN.oSeqGd(tensorEncodedSamples)\n",
    "        tensorApperantLoss = tf.reduce_mean(tf.losses.mean_absolute_error(tensorInput, tensorFakeSamples))\n",
    "\n",
    "        # Latent loss\n",
    "        tensorEncoded1Samples = oGAN.oSeqGe1(tensorFakeSamples)\n",
    "        tensorLatentLoss = \\\n",
    "        tf.reduce_mean(tf.losses.mean_squared_error(tensorEncodedSamples, tensorEncoded1Samples))\n",
    "\n",
    "        # Feature matching loss\n",
    "        tensorPredFeatures = oGAN.oSeqDInner(tensorFakeSamples)\n",
    "        tensorTrueFeatures = oGAN.oSeqDInner(tensorInput)\n",
    "        tensorFeatureLoss = tf.reduce_mean(tf.losses.mean_squared_error(tensorPredFeatures, tensorTrueFeatures))\n",
    "\n",
    "        tensorGLoss = tensorApperantLoss + tensorLatentLoss + tensorFeatureLoss\n",
    "        return tensorGLoss\n",
    "    # 在每个epoch后存储最小的ALoss和对应的\n",
    "    fGLossLast = np.inf\n",
    "\n",
    "    timeStart = datetime.datetime.now()\n",
    "    g_nStep = 0\n",
    "    for nEpoch in range(g_nEpochs):\n",
    "        for tensorBatch in oDataset:\n",
    "            # Train discriminator\n",
    "            # Generator fake samples\n",
    "            tensorEncodedSamples = oGAN.oSeqGe(tensorBatch)\n",
    "            tensorFakeSamples = oGAN.oSeqGd(tensorEncodedSamples)\n",
    "            with tf.GradientTape() as oGradientTapeD:\n",
    "                # Train discriminator with real samples\n",
    "                tensorLabels = tf.random.uniform(minval=0.7, maxval=1.2, seed=42, shape=(tensorBatch.shape[0], 1))\n",
    "                tensorPreds = oGAN.oSeqD(tensorBatch)\n",
    "                tensorDLossR = tf.reduce_mean(tf.nn.sigmoid_cross_entropy_with_logits(tensorLabels, tensorPreds))\n",
    "            listDGradients = oGradientTapeD.gradient(tensorDLossR, oGAN.oSeqD.trainable_variables)\n",
    "            oOptimizerD.apply_gradients(zip(listDGradients, oGAN.oSeqD.trainable_variables))\n",
    "            with tf.GradientTape() as oGradientTapeD:\n",
    "                # Train discriminator with fake samples\n",
    "                tensorLabels = tf.random.uniform(minval=0., maxval=0.3, seed = 42, shape=(tensorFakeSamples.shape[0], 1))\n",
    "                tensorPreds = oGAN.oSeqD(tensorFakeSamples)\n",
    "                tensorDLossF = tf.reduce_mean(tf.nn.sigmoid_cross_entropy_with_logits(tensorLabels, tensorPreds))\n",
    "            listDGradients = oGradientTapeD.gradient(tensorDLossF, oGAN.oSeqD.trainable_variables)\n",
    "            oOptimizerD.apply_gradients(zip(listDGradients, oGAN.oSeqD.trainable_variables))\n",
    "            tensorDLoss = tensorDLossR + tensorDLossF\n",
    "            with oSummaryWriterDLoss.as_default():\n",
    "                tf.summary.scalar(\"D_Loss\", tensorDLoss, g_nStep)\n",
    "\n",
    "            # Train genertor\n",
    "            with tf.GradientTape() as oGradientTapeG:\n",
    "                tensorGLoss = fn_getGLoss(tensorBatch)\n",
    "            # Insert all generator trainable variables into a list\n",
    "            listTrainableGVariables = []\n",
    "            listTrainableGVariables.extend(oGAN.oSeqGe.trainable_variables)\n",
    "            listTrainableGVariables.extend(oGAN.oSeqGd.trainable_variables)\n",
    "            listTrainableGVariables.extend(oGAN.oSeqGe1.trainable_variables)\n",
    "\n",
    "            listGGradients = oGradientTapeG.gradient(tensorGLoss, listTrainableGVariables)\n",
    "            oOptimizerG.apply_gradients(zip(listGGradients, listTrainableGVariables))\n",
    "            with oSummaryWriterALoss.as_default():\n",
    "                tf.summary.scalar(\"A_loss\", tensorGLoss, g_nStep)\n",
    "\n",
    "            g_nStep = g_nStep + 1\n",
    "            \n",
    "        # 在整个训练集上计算generator的损失，并比较和上一次迭代的损失，如果小于上一次迭代，更新损失和最有模型；反之停止训练\n",
    "        tensorGLossOverTotalSamples = fn_getGLoss(g_tensorNormalTrainingSamples)\n",
    "        if fGLossLast > tensorGLossOverTotalSamples.numpy():\n",
    "            fGLossLast = tensorGLossOverTotalSamples.numpy()\n",
    "            global oSeqGe, oSeqGd, oSeqGe1\n",
    "            oSeqGe = oGAN.oSeqGe\n",
    "            oSeqGd = oGAN.oSeqGd\n",
    "            oSeqGe1 = oGAN.oSeqGe1\n",
    "        # 输出进度\n",
    "        fn_printBar(nEpoch)\n",
    "    timeEnd = datetime.datetime.now()\n",
    "    g_nTime = (timeEnd - timeStart).seconds"
   ]
  },
  {
   "cell_type": "markdown",
   "metadata": {},
   "source": [
    "### 算分函数"
   ]
  },
  {
   "cell_type": "markdown",
   "metadata": {},
   "source": [
    "计算分数的函数\n",
    "通过输入样本集和Ge，Gd，Ge1输出样本集中每个样本的分数的函数。"
   ]
  },
  {
   "cell_type": "code",
   "execution_count": 22,
   "metadata": {},
   "outputs": [],
   "source": [
    "def fn_scoreForASample(npSample):\n",
    "    tensorSample = tf.constant(npSample[np.newaxis, :])\n",
    "    tensorEncodedSample = oSeqGe(tensorSample)\n",
    "    tensorFakeSample = oSeqGd(tensorEncodedSample)\n",
    "    # Apperant loss\n",
    "    tensorApperantLoss = tf.reduce_mean(tf.losses.mean_absolute_error(tensorSample, tensorFakeSample))\n",
    "\n",
    "    # Latent loss\n",
    "    tensorEncoded1Sample = oSeqGe1(tensorFakeSample)\n",
    "    tensorLatentLoss = \\\n",
    "        tf.reduce_mean(tf.losses.mean_squared_error(tensorEncodedSample, tensorEncoded1Sample))\n",
    "\n",
    "    tensorScore = tensorApperantLoss + tensorLatentLoss\n",
    "    return tensorScore.numpy()\n",
    "\n",
    "def fn_score(pdDfSamples):\n",
    "    if pdDfSamples.empty:\n",
    "        pdDfScores = pd.DataFrame(columns=[\"score\"])\n",
    "        return pdDfScores\n",
    "    \n",
    "    pdDfScores = pd.DataFrame(data=np.apply_along_axis(fn_scoreForASample, 1, pdDfSamples.values), columns=[\"score\"], \\\n",
    "         index=pdDfSamples.index)\n",
    "    return pdDfScores"
   ]
  },
  {
   "cell_type": "markdown",
   "metadata": {},
   "source": [
    "### 输出训练进度函数"
   ]
  },
  {
   "cell_type": "code",
   "execution_count": 21,
   "metadata": {},
   "outputs": [],
   "source": [
    "def fn_printBar(nEpoch):\n",
    "    sys.stdout.write(f\"\\r{nEpoch:d}/{g_nEpochs}\")\n",
    "    sys.stdout.flush()"
   ]
  },
  {
   "cell_type": "markdown",
   "metadata": {},
   "source": [
    "### 通过任务文件夹路径获取解调器文件夹路径函数"
   ]
  },
  {
   "cell_type": "code",
   "execution_count": 20,
   "metadata": {},
   "outputs": [],
   "source": [
    "def fn_getDemodDirsOfAJob(strJobDir):\n",
    "    liststrDemodDirs = [os.path.join(strJobDir, strName) for strName in os.listdir(strJobDir) if \"Demod\" in strName]\n",
    "    return liststrDemodDirs"
   ]
  },
  {
   "cell_type": "markdown",
   "metadata": {},
   "source": [
    "## 中频输入"
   ]
  },
  {
   "cell_type": "markdown",
   "metadata": {},
   "source": [
    "### 构造建立模型"
   ]
  },
  {
   "cell_type": "code",
   "execution_count": 42,
   "metadata": {},
   "outputs": [],
   "source": [
    "# 2\n",
    "class GANinput(object):\n",
    "    def __init__(self):\n",
    "        self.fn_makeGenerator()\n",
    "        self.fn_makeDiscriminator()\n",
    "        \n",
    "    def fn_makeGenerator(self):\n",
    "        self.oSeqGe = tf.keras.Sequential(name=\"Ge\")\n",
    "        self.oSeqGe.add(tf.keras.Input(shape=(2,)))\n",
    "        self.oSeqGe.add(tf.keras.layers.Dense(1, kernel_initializer=\"he_normal\"))\n",
    "        self.oSeqGe.add(tf.keras.layers.LeakyReLU())\n",
    "        self.oSeqGe.add(tf.keras.layers.BatchNormalization())\n",
    "        self.oSeqGe.add(tf.keras.layers.Dense(1, kernel_initializer=\"he_normal\"))\n",
    "        self.oSeqGe.add(tf.keras.layers.LeakyReLU())\n",
    "\n",
    "        self.oSeqGd = tf.keras.Sequential(name=\"Gd\")\n",
    "        self.oSeqGd.add(tf.keras.Input(shape=(1,)))\n",
    "        self.oSeqGd.add(tf.keras.layers.Dense(1, kernel_initializer=\"he_normal\"))\n",
    "        self.oSeqGd.add(tf.keras.layers.LeakyReLU())\n",
    "        self.oSeqGd.add(tf.keras.layers.BatchNormalization())\n",
    "        self.oSeqGd.add(tf.keras.layers.Dense(2, activation = tf.keras.activations.tanh, kernel_initializer=\"he_normal\"))\n",
    "        \n",
    "        self.oSeqGe1 = tf.keras.Sequential(name=\"Ge1\")\n",
    "        self.oSeqGe1.add(tf.keras.Input(shape=(2,)))\n",
    "        self.oSeqGe1.add(tf.keras.layers.Dense(1, kernel_initializer=\"he_normal\"))\n",
    "        self.oSeqGe1.add(tf.keras.layers.LeakyReLU())\n",
    "        self.oSeqGe1.add(tf.keras.layers.BatchNormalization())\n",
    "        self.oSeqGe1.add(tf.keras.layers.Dense(1, kernel_initializer=\"he_normal\"))\n",
    "        self.oSeqGe1.add(tf.keras.layers.LeakyReLU())\n",
    "        \n",
    "    def fn_makeDiscriminator(self):\n",
    "        self.oSeqDInner = tf.keras.Sequential(name=\"DInner\")\n",
    "        self.oSeqDInner.add(tf.keras.Input(shape=(2,)))\n",
    "        self.oSeqDInner.add(tf.keras.layers.Dense(1, kernel_initializer=\"he_normal\"))\n",
    "        self.oSeqDInner.add(tf.keras.layers.LeakyReLU())\n",
    "        self.oSeqDInner.add(tf.keras.layers.BatchNormalization())\n",
    "        self.oSeqDInner.add(tf.keras.layers.Dense(1, kernel_initializer=\"he_normal\"))\n",
    "        self.oSeqDInner.add(tf.keras.layers.LeakyReLU())\n",
    "        self.oSeqDInner.add(tf.keras.layers.BatchNormalization())\n",
    "\n",
    "        self.oSeqD = tf.keras.Sequential([\n",
    "            self.oSeqDInner,\n",
    "            tf.keras.layers.Dense(1, activation = tf.keras.activations.sigmoid)\n",
    "        ], name=\"D\")"
   ]
  },
  {
   "cell_type": "code",
   "execution_count": 43,
   "metadata": {},
   "outputs": [],
   "source": [
    "# 新建模型\n",
    "oGANinput = GANinput()"
   ]
  },
  {
   "cell_type": "markdown",
   "metadata": {},
   "source": [
    "### 构造数据集"
   ]
  },
  {
   "cell_type": "code",
   "execution_count": 44,
   "metadata": {},
   "outputs": [],
   "source": [
    "g_nFeatures = 2\n",
    "g_nBatchSize = 256\n",
    "\n",
    "def fn_splitCsvLine(strLine):\n",
    "    tensorDefs = [0.] * g_nFeatures\n",
    "    tensorRecord = tf.io.decode_csv(strLine, record_defaults=tensorDefs)\n",
    "    tensorX = tf.stack(tensorRecord)\n",
    "    return tensorX\n",
    "\n",
    "oDataset = tf.data.Dataset.list_files(strJobsDir + \"/*/*/parts/sync/input/samples/normal/train/preprocessed/samples.csv\")\n",
    "oDataset = oDataset.interleave(lambda strSamplesFile: tf.data.TextLineDataset(strSamplesFile).skip(1), \\\n",
    "                              cycle_length=5, num_parallel_calls=5)\n",
    "oDataset = oDataset.map(fn_splitCsvLine, g_nFeatures)\n",
    "oDataset = oDataset.shuffle(1000)\n",
    "oDataset = oDataset.batch(g_nBatchSize)"
   ]
  },
  {
   "cell_type": "code",
   "execution_count": 45,
   "metadata": {},
   "outputs": [],
   "source": [
    "# 读入所有的训练样本，从而通过shape属性得到训练集大小，存入全局变量中\n",
    "listPreprocessedNormalTrainingSamples = []\n",
    "for strJob in os.listdir(strJobsDir):\n",
    "    strJobDir = os.path.join(strJobsDir, strJob)\n",
    "    listDemodDirs = fn_getDemodDirsOfAJob(strJobDir)\n",
    "    for strDemodDir in listDemodDirs:\n",
    "        strPreprocessedNormalTrainingSamplesFile = os.path.join(strDemodDir, \\\n",
    "                                                   \"parts/sync/input/samples/normal/train/preprocessed/samples.csv\")\n",
    "        pdDfPreprocessedNormalTrainingSamples = pd.read_csv(strPreprocessedNormalTrainingSamplesFile)\n",
    "        listPreprocessedNormalTrainingSamples.append(pdDfPreprocessedNormalTrainingSamples)\n",
    "pdDfPreprocessedNormalTrainingSamples = pd.concat(listPreprocessedNormalTrainingSamples)\n",
    "g_tensorNormalTrainingSamples = tf.constant(pdDfPreprocessedNormalTrainingSamples.values, dtype=tf.float32)\n",
    "g_nTrainingSize = len(g_tensorNormalTrainingSamples)"
   ]
  },
  {
   "cell_type": "code",
   "execution_count": 79,
   "metadata": {},
   "outputs": [],
   "source": [
    "# 读入所有的训练样本，从而通过shape属性得到训练集大小，存入全局变量中\n",
    "listPreprocessedAbnormalSamples = []\n",
    "for strJob in os.listdir(strJobsDir):\n",
    "    strJobDir = os.path.join(strJobsDir, strJob)\n",
    "    listDemodDirs = fn_getDemodDirsOfAJob(strJobDir)\n",
    "    for strDemodDir in listDemodDirs:\n",
    "        strPreprocessedAbnormalSamplesFile = os.path.join(strDemodDir, \\\n",
    "                                                   \"parts/sync/input/samples/abnormal/preprocessed/samples.csv\")\n",
    "        pdDfPreprocessedAbnormalSamples = pd.read_csv(strPreprocessedAbnormalSamplesFile, index_col=\"RECTIME\")\n",
    "            \n",
    "        listPreprocessedAbnormalSamples.append(pdDfPreprocessedAbnormalSamples)\n",
    "pdDfPreprocessedAbnormalSamples = pd.concat(listPreprocessedAbnormalSamples, ignore_index=True)\n",
    "g_tensorAbnormalSamples = tf.constant(pdDfPreprocessedAbnormalSamples.values, dtype=tf.float32)"
   ]
  },
  {
   "cell_type": "code",
   "execution_count": 71,
   "metadata": {},
   "outputs": [
    {
     "data": {
      "text/plain": [
       "array([], shape=(0, 2), dtype=float32)"
      ]
     },
     "execution_count": 71,
     "metadata": {},
     "output_type": "execute_result"
    }
   ],
   "source": [
    "abnormal_points"
   ]
  },
  {
   "cell_type": "code",
   "execution_count": 81,
   "metadata": {},
   "outputs": [
    {
     "data": {
      "text/plain": [
       "<matplotlib.collections.PathCollection at 0x26bb745e388>"
      ]
     },
     "execution_count": 81,
     "metadata": {},
     "output_type": "execute_result"
    },
    {
     "data": {
      "image/png": "[encoded data removed]",
      "text/plain": [
       "<Figure size 432x288 with 1 Axes>"
      ]
     },
     "metadata": {
      "needs_background": "light"
     },
     "output_type": "display_data"
    }
   ],
   "source": [
    "normal_points = g_tensorNormalTrainingSamples.numpy()\n",
    "abnormal_points = g_tensorAbnormalSamples.numpy()\n",
    "plt.scatter(normal_points[:, 0], normal_points[:, 1], c=\"b\", s=10)\n",
    "plt.scatter(abnormal_points[:, 0], abnormal_points[:, 1], c=\"r\", s=10)"
   ]
  },
  {
   "cell_type": "code",
   "execution_count": 84,
   "metadata": {},
   "outputs": [
    {
     "name": "stdout",
     "output_type": "stream",
     "text": [
      "../jobs_nobranch\\JOB201912276594418\\KJ_HDemodQH1 ---> 2019-12-28 08:05:57\n",
      "../jobs_nobranch\\JOB201912276594418\\KJ_HDemodQH1 ---> 2019-12-28 08:05:58\n",
      "../jobs_nobranch\\JOB201912276594418\\KJ_HDemodQH1 ---> 2019-12-28 08:05:59\n",
      "../jobs_nobranch\\JOB201912276594418\\KJ_HDemodQH1 ---> 2019-12-28 08:06:00\n",
      "../jobs_nobranch\\JOB201912276594418\\KJ_HDemodQH1 ---> 2019-12-28 08:06:01\n",
      "../jobs_nobranch\\JOB201912276594418\\KJ_HDemodQH1 ---> 2019-12-28 08:06:02\n",
      "../jobs_nobranch\\JOB201912276594418\\KJ_HDemodQH1 ---> 2019-12-28 08:06:03\n",
      "../jobs_nobranch\\JOB201912276594418\\KJ_HDemodQH1 ---> 2019-12-28 08:06:04\n",
      "../jobs_nobranch\\JOB201912276594418\\KJ_HDemodQH1 ---> 2019-12-28 08:06:05\n",
      "../jobs_nobranch\\JOB201912276594418\\KJ_HDemodQH1 ---> 2019-12-28 08:06:06\n",
      "../jobs_nobranch\\JOB201912276594418\\KJ_HDemodQH1 ---> 2019-12-28 08:06:07\n",
      "../jobs_nobranch\\JOB201912276594418\\KJ_HDemodQH1 ---> 2019-12-28 08:15:06\n",
      "../jobs_nobranch\\JOB201912276594418\\KJ_HDemodQH1 ---> 2019-12-28 08:15:07\n",
      "../jobs_nobranch\\JOB201912276594418\\KJ_HDemodQH1 ---> 2019-12-28 08:15:08\n",
      "../jobs_nobranch\\JOB201912276594418\\KJ_HDemodQH1 ---> 2019-12-28 08:15:09\n",
      "../jobs_nobranch\\JOB202001153252577\\KJ_HDemodQH1 ---> 2020-01-15 15:55:11\n",
      "../jobs_nobranch\\JOB202001153252577\\KJ_HDemodQH1 ---> 2020-01-15 15:55:12\n",
      "../jobs_nobranch\\JOB202001153252577\\KJ_HDemodQH1 ---> 2020-01-15 15:55:13\n",
      "../jobs_nobranch\\JOB202001153252577\\KJ_HDemodQH1 ---> 2020-01-15 15:55:14\n",
      "../jobs_nobranch\\JOB202001153252577\\KJ_HDemodQH1 ---> 2020-01-15 15:55:15\n",
      "../jobs_nobranch\\JOB202001153252577\\KJ_HDemodQH1 ---> 2020-01-15 15:55:16\n",
      "../jobs_nobranch\\JOB202001153252577\\KJ_HDemodQH1 ---> 2020-01-15 15:55:18\n",
      "../jobs_nobranch\\JOB202001153252577\\KJ_HDemodQH1 ---> 2020-01-15 15:55:19\n",
      "../jobs_nobranch\\JOB202001153252577\\KJ_HDemodQH1 ---> 2020-01-15 15:55:20\n",
      "../jobs_nobranch\\JOB202001153252577\\KJ_HDemodQH1 ---> 2020-01-15 15:55:21\n",
      "../jobs_nobranch\\JOB202001153252577\\KJ_HDemodQH1 ---> 2020-01-15 16:04:02\n",
      "../jobs_nobranch\\JOB202001153252577\\KJ_HDemodQH1 ---> 2020-01-15 16:04:03\n",
      "../jobs_nobranch\\JOB202001153252577\\KJ_HDemodQH1 ---> 2020-01-15 16:04:04\n",
      "../jobs_nobranch\\JOB202001153252577\\KJ_HDemodQH1 ---> 2020-01-15 16:04:05\n",
      "../jobs_nobranch\\JOB202001153252577\\KJ_HDemodQH1 ---> 2020-01-15 16:04:06\n",
      "../jobs_nobranch\\JOB202001153252577\\KJ_HDemodQH1 ---> 2020-01-15 16:04:07\n",
      "../jobs_nobranch\\JOB202001153252577\\KJ_HDemodQH1 ---> 2020-01-15 16:04:08\n",
      "../jobs_nobranch\\JOB202001153252577\\KJ_HDemodQH1 ---> 2020-01-15 16:04:09\n",
      "../jobs_nobranch\\JOB202001153252577\\KJ_HDemodQH1 ---> 2020-01-15 16:04:10\n",
      "../jobs_nobranch\\JOB202001153252577\\KJ_HDemodQH1 ---> 2020-01-15 16:04:11\n",
      "../jobs_nobranch\\JOB202001153252577\\KJ_HDemodQH1 ---> 2020-01-15 16:04:12\n",
      "../jobs_nobranch\\JOB202001153252577\\KJ_HDemodQH1 ---> 2020-01-15 16:04:13\n",
      "../jobs_nobranch\\JOB202001153252577\\KJ_HDemodQH2 ---> 2020-01-15 15:55:11\n",
      "../jobs_nobranch\\JOB202001153252577\\KJ_HDemodQH2 ---> 2020-01-15 15:55:12\n",
      "../jobs_nobranch\\JOB202001153252577\\KJ_HDemodQH2 ---> 2020-01-15 15:55:13\n",
      "../jobs_nobranch\\JOB202001153252577\\KJ_HDemodQH2 ---> 2020-01-15 15:55:14\n",
      "../jobs_nobranch\\JOB202001153252577\\KJ_HDemodQH2 ---> 2020-01-15 15:55:15\n",
      "../jobs_nobranch\\JOB202001153252577\\KJ_HDemodQH2 ---> 2020-01-15 15:55:16\n",
      "../jobs_nobranch\\JOB202001153252577\\KJ_HDemodQH2 ---> 2020-01-15 15:55:17\n",
      "../jobs_nobranch\\JOB202001153252577\\KJ_HDemodQH2 ---> 2020-01-15 15:55:18\n",
      "../jobs_nobranch\\JOB202001153252577\\KJ_HDemodQH2 ---> 2020-01-15 15:55:19\n",
      "../jobs_nobranch\\JOB202001153252577\\KJ_HDemodQH2 ---> 2020-01-15 15:55:20\n",
      "../jobs_nobranch\\JOB202001153252577\\KJ_HDemodQH2 ---> 2020-01-15 15:55:21\n",
      "../jobs_nobranch\\JOB202001153252577\\KJ_HDemodQH2 ---> 2020-01-15 15:55:23\n",
      "../jobs_nobranch\\JOB202001153252577\\KJ_HDemodQH2 ---> 2020-01-15 16:04:03\n",
      "../jobs_nobranch\\JOB202001153252577\\KJ_HDemodQH2 ---> 2020-01-15 16:04:05\n",
      "../jobs_nobranch\\JOB202001153252577\\KJ_HDemodQH2 ---> 2020-01-15 16:04:06\n",
      "../jobs_nobranch\\JOB202001153252577\\KJ_HDemodQH2 ---> 2020-01-15 16:04:07\n",
      "../jobs_nobranch\\JOB202001153252577\\KJ_HDemodQH2 ---> 2020-01-15 16:04:08\n",
      "../jobs_nobranch\\JOB202001153252577\\KJ_HDemodQH2 ---> 2020-01-15 16:04:09\n",
      "../jobs_nobranch\\JOB202001153252577\\KJ_HDemodQH2 ---> 2020-01-15 16:04:10\n",
      "../jobs_nobranch\\JOB202001153252577\\KJ_HDemodQH2 ---> 2020-01-15 16:04:11\n",
      "../jobs_nobranch\\JOB202001153252577\\KJ_HDemodQH2 ---> 2020-01-15 16:04:12\n",
      "../jobs_nobranch\\JOB202001153252577\\KJ_HDemodQH2 ---> 2020-01-15 16:04:13\n",
      "../jobs_nobranch\\JOB202001157475389\\KJ_HDemodQH1 ---> 2020-01-16 01:45:43\n",
      "../jobs_nobranch\\JOB202001157475389\\KJ_HDemodQH1 ---> 2020-01-16 01:45:44\n",
      "../jobs_nobranch\\JOB202001157475389\\KJ_HDemodQH1 ---> 2020-01-16 01:45:45\n",
      "../jobs_nobranch\\JOB202001157475389\\KJ_HDemodQH1 ---> 2020-01-16 01:45:46\n",
      "../jobs_nobranch\\JOB202001157475389\\KJ_HDemodQH1 ---> 2020-01-16 01:45:48\n",
      "../jobs_nobranch\\JOB202001157475389\\KJ_HDemodQH1 ---> 2020-01-16 01:45:49\n",
      "../jobs_nobranch\\JOB202001157475389\\KJ_HDemodQH1 ---> 2020-01-16 01:45:50\n",
      "../jobs_nobranch\\JOB202001157475389\\KJ_HDemodQH1 ---> 2020-01-16 01:45:51\n",
      "../jobs_nobranch\\JOB202001157475389\\KJ_HDemodQH1 ---> 2020-01-16 01:45:52\n",
      "../jobs_nobranch\\JOB202001157475389\\KJ_HDemodQH1 ---> 2020-01-16 01:45:53\n",
      "../jobs_nobranch\\JOB202001157475389\\KJ_HDemodQH1 ---> 2020-01-16 01:55:10\n",
      "../jobs_nobranch\\JOB202001157475389\\KJ_HDemodQH1 ---> 2020-01-16 01:55:11\n",
      "../jobs_nobranch\\JOB202001157475389\\KJ_HDemodQH1 ---> 2020-01-16 01:55:12\n",
      "../jobs_nobranch\\JOB202001157475389\\KJ_HDemodQH1 ---> 2020-01-16 01:55:13\n",
      "../jobs_nobranch\\JOB202001157475389\\KJ_HDemodQH1 ---> 2020-01-16 01:55:14\n",
      "../jobs_nobranch\\JOB202001157475389\\KJ_HDemodQH1 ---> 2020-01-16 01:55:15\n",
      "../jobs_nobranch\\JOB202001157475389\\KJ_HDemodQH1 ---> 2020-01-16 01:55:17\n",
      "../jobs_nobranch\\JOB202001157475389\\KJ_HDemodQH1 ---> 2020-01-16 01:55:18\n",
      "../jobs_nobranch\\JOB202001157475389\\KJ_HDemodQH1 ---> 2020-01-16 01:55:19\n",
      "../jobs_nobranch\\JOB202001157475389\\KJ_HDemodQH1 ---> 2020-01-16 01:55:20\n",
      "../jobs_nobranch\\JOB202001157475389\\KJ_HDemodQH2 ---> 2020-01-16 01:45:43\n",
      "../jobs_nobranch\\JOB202001157475389\\KJ_HDemodQH2 ---> 2020-01-16 01:45:44\n",
      "../jobs_nobranch\\JOB202001157475389\\KJ_HDemodQH2 ---> 2020-01-16 01:45:45\n",
      "../jobs_nobranch\\JOB202001157475389\\KJ_HDemodQH2 ---> 2020-01-16 01:45:46\n",
      "../jobs_nobranch\\JOB202001157475389\\KJ_HDemodQH2 ---> 2020-01-16 01:45:48\n",
      "../jobs_nobranch\\JOB202001157475389\\KJ_HDemodQH2 ---> 2020-01-16 01:45:49\n",
      "../jobs_nobranch\\JOB202001157475389\\KJ_HDemodQH2 ---> 2020-01-16 01:45:50\n",
      "../jobs_nobranch\\JOB202001157475389\\KJ_HDemodQH2 ---> 2020-01-16 01:45:51\n",
      "../jobs_nobranch\\JOB202001157475389\\KJ_HDemodQH2 ---> 2020-01-16 01:45:52\n",
      "../jobs_nobranch\\JOB202001157475389\\KJ_HDemodQH2 ---> 2020-01-16 01:45:53\n",
      "../jobs_nobranch\\JOB202001157475389\\KJ_HDemodQH2 ---> 2020-01-16 01:45:54\n",
      "../jobs_nobranch\\JOB202001157475389\\KJ_HDemodQH2 ---> 2020-01-16 01:55:11\n",
      "../jobs_nobranch\\JOB202001157475389\\KJ_HDemodQH2 ---> 2020-01-16 01:55:12\n",
      "../jobs_nobranch\\JOB202001157475389\\KJ_HDemodQH2 ---> 2020-01-16 01:55:13\n",
      "../jobs_nobranch\\JOB202001157475389\\KJ_HDemodQH2 ---> 2020-01-16 01:55:14\n",
      "../jobs_nobranch\\JOB202001157475389\\KJ_HDemodQH2 ---> 2020-01-16 01:55:15\n",
      "../jobs_nobranch\\JOB202001157475389\\KJ_HDemodQH2 ---> 2020-01-16 01:55:17\n",
      "../jobs_nobranch\\JOB202001157475389\\KJ_HDemodQH2 ---> 2020-01-16 01:55:18\n",
      "../jobs_nobranch\\JOB202001157475389\\KJ_HDemodQH2 ---> 2020-01-16 01:55:19\n",
      "../jobs_nobranch\\JOB202001157475389\\KJ_HDemodQH2 ---> 2020-01-16 01:55:20\n",
      "../jobs_nobranch\\JOB202001157579513\\KJ_HDemodQH1 ---> 2020-01-16 03:23:21\n",
      "../jobs_nobranch\\JOB202001157579513\\KJ_HDemodQH1 ---> 2020-01-16 03:23:22\n",
      "../jobs_nobranch\\JOB202001157579513\\KJ_HDemodQH1 ---> 2020-01-16 03:23:23\n",
      "../jobs_nobranch\\JOB202001157579513\\KJ_HDemodQH1 ---> 2020-01-16 03:23:24\n",
      "../jobs_nobranch\\JOB202001157579513\\KJ_HDemodQH1 ---> 2020-01-16 03:23:25\n",
      "../jobs_nobranch\\JOB202001157579513\\KJ_HDemodQH1 ---> 2020-01-16 03:23:26\n",
      "../jobs_nobranch\\JOB202001157579513\\KJ_HDemodQH1 ---> 2020-01-16 03:23:27\n",
      "../jobs_nobranch\\JOB202001157579513\\KJ_HDemodQH1 ---> 2020-01-16 03:23:28\n",
      "../jobs_nobranch\\JOB202001157579513\\KJ_HDemodQH1 ---> 2020-01-16 03:23:29\n",
      "../jobs_nobranch\\JOB202001157579513\\KJ_HDemodQH1 ---> 2020-01-16 03:23:30\n",
      "../jobs_nobranch\\JOB202001157579513\\KJ_HDemodQH1 ---> 2020-01-16 03:23:31\n",
      "../jobs_nobranch\\JOB202001157579513\\KJ_HDemodQH1 ---> 2020-01-16 03:23:32\n",
      "../jobs_nobranch\\JOB202001157579513\\KJ_HDemodQH1 ---> 2020-01-16 03:23:33\n",
      "../jobs_nobranch\\JOB202001157579513\\KJ_HDemodQH1 ---> 2020-01-16 03:23:34\n",
      "../jobs_nobranch\\JOB202001157579513\\KJ_HDemodQH1 ---> 2020-01-16 03:23:35\n",
      "../jobs_nobranch\\JOB202001158086775\\KJ_HDemodQH5 ---> 2020-01-16 00:35:31\n",
      "../jobs_nobranch\\JOB202001158086775\\KJ_HDemodQH5 ---> 2020-01-16 00:35:32\n",
      "../jobs_nobranch\\JOB202001158086775\\KJ_HDemodQH5 ---> 2020-01-16 00:35:33\n",
      "../jobs_nobranch\\JOB202001158086775\\KJ_HDemodQH5 ---> 2020-01-16 00:35:34\n",
      "../jobs_nobranch\\JOB202001158086775\\KJ_HDemodQH5 ---> 2020-01-16 00:35:35\n",
      "../jobs_nobranch\\JOB202001158086775\\KJ_HDemodQH5 ---> 2020-01-16 00:35:36\n",
      "../jobs_nobranch\\JOB202001158086775\\KJ_HDemodQH5 ---> 2020-01-16 00:35:37\n",
      "../jobs_nobranch\\JOB202001158086775\\KJ_HDemodQH5 ---> 2020-01-16 00:35:38\n",
      "../jobs_nobranch\\JOB202001158086775\\KJ_HDemodQH5 ---> 2020-01-16 00:35:39\n",
      "../jobs_nobranch\\JOB202001158086775\\KJ_HDemodQH5 ---> 2020-01-16 00:35:41\n",
      "../jobs_nobranch\\JOB202001158086775\\KJ_HDemodQH5 ---> 2020-01-16 00:35:42\n",
      "../jobs_nobranch\\JOB202001158086775\\KJ_HDemodQH5 ---> 2020-01-16 00:35:43\n",
      "../jobs_nobranch\\JOB202001158086775\\KJ_HDemodQH5 ---> 2020-01-16 00:35:44\n",
      "../jobs_nobranch\\JOB202001158086775\\KJ_HDemodQH5 ---> 2020-01-16 00:35:45\n",
      "../jobs_nobranch\\JOB202001158086775\\KJ_HDemodQH5 ---> 2020-01-16 00:35:46\n",
      "../jobs_nobranch\\JOB202001158086775\\KJ_HDemodQH5 ---> 2020-01-16 00:35:47\n",
      "../jobs_nobranch\\JOB202001158086775\\KJ_HDemodQH5 ---> 2020-01-16 00:35:48\n",
      "../jobs_nobranch\\JOB202001158086775\\KJ_HDemodQH5 ---> 2020-01-16 00:35:49\n",
      "../jobs_nobranch\\JOB202001158086775\\KJ_HDemodQH5 ---> 2020-01-16 00:35:50\n",
      "../jobs_nobranch\\JOB202001158086775\\KJ_HDemodQH5 ---> 2020-01-16 00:35:51\n",
      "../jobs_nobranch\\JOB202001158086775\\KJ_HDemodQH5 ---> 2020-01-16 00:35:52\n",
      "../jobs_nobranch\\JOB202001158086775\\KJ_HDemodQH5 ---> 2020-01-16 00:35:54\n",
      "../jobs_nobranch\\JOB202001158086775\\KJ_HDemodQH5 ---> 2020-01-16 00:35:55\n",
      "../jobs_nobranch\\JOB202001158086775\\KJ_HDemodQH5 ---> 2020-01-16 00:35:56\n",
      "../jobs_nobranch\\JOB202001158086775\\KJ_HDemodQH5 ---> 2020-01-16 00:35:57\n",
      "../jobs_nobranch\\JOB202001158086775\\KJ_HDemodQH5 ---> 2020-01-16 00:35:58\n",
      "../jobs_nobranch\\JOB202001158086775\\KJ_HDemodQH5 ---> 2020-01-16 00:35:59\n",
      "../jobs_nobranch\\JOB202001158086775\\KJ_HDemodQH5 ---> 2020-01-16 00:36:00\n",
      "../jobs_nobranch\\JOB202001158086775\\KJ_HDemodQH5 ---> 2020-01-16 00:36:01\n",
      "../jobs_nobranch\\JOB202001158086775\\KJ_HDemodQH5 ---> 2020-01-16 00:36:02\n",
      "../jobs_nobranch\\JOB202001158086775\\KJ_HDemodQH5 ---> 2020-01-16 00:36:03\n",
      "../jobs_nobranch\\JOB202001158086775\\KJ_HDemodQH5 ---> 2020-01-16 00:36:04\n",
      "../jobs_nobranch\\JOB202001158086775\\KJ_HDemodQH5 ---> 2020-01-16 00:36:05\n",
      "../jobs_nobranch\\JOB202001158086775\\KJ_HDemodQH5 ---> 2020-01-16 00:36:06\n",
      "../jobs_nobranch\\JOB202001158086775\\KJ_HDemodQH5 ---> 2020-01-16 00:36:07\n",
      "../jobs_nobranch\\JOB202001158086775\\KJ_HDemodQH5 ---> 2020-01-16 00:36:08\n",
      "../jobs_nobranch\\JOB202001158086775\\KJ_HDemodQH5 ---> 2020-01-16 00:36:09\n",
      "../jobs_nobranch\\JOB202001158086775\\KJ_HDemodQH5 ---> 2020-01-16 00:36:10\n",
      "../jobs_nobranch\\JOB202001158086775\\KJ_HDemodQH5 ---> 2020-01-16 00:36:12\n",
      "../jobs_nobranch\\JOB202001158086775\\KJ_HDemodQH5 ---> 2020-01-16 00:36:13\n",
      "../jobs_nobranch\\JOB202001158086775\\KJ_HDemodQH5 ---> 2020-01-16 00:36:14\n",
      "../jobs_nobranch\\JOB202001158086775\\KJ_HDemodQH5 ---> 2020-01-16 00:36:15\n",
      "../jobs_nobranch\\JOB202001158086775\\KJ_HDemodQH5 ---> 2020-01-16 00:36:16\n",
      "../jobs_nobranch\\JOB202001158086775\\KJ_HDemodQH5 ---> 2020-01-16 00:36:17\n",
      "../jobs_nobranch\\JOB202001158086775\\KJ_HDemodQH5 ---> 2020-01-16 00:36:18\n",
      "../jobs_nobranch\\JOB202001158086775\\KJ_HDemodQH5 ---> 2020-01-16 00:36:19\n",
      "../jobs_nobranch\\JOB202001158086775\\KJ_HDemodQH5 ---> 2020-01-16 00:36:20\n",
      "../jobs_nobranch\\JOB202001158086775\\KJ_HDemodQH5 ---> 2020-01-16 00:36:21\n",
      "../jobs_nobranch\\JOB202001158086775\\KJ_HDemodQH5 ---> 2020-01-16 00:36:22\n",
      "../jobs_nobranch\\JOB202001158086775\\KJ_HDemodQH5 ---> 2020-01-16 00:36:23\n",
      "../jobs_nobranch\\JOB202001158086775\\KJ_HDemodQH5 ---> 2020-01-16 00:36:25\n",
      "../jobs_nobranch\\JOB202001158086775\\KJ_HDemodQH5 ---> 2020-01-16 00:36:26\n",
      "../jobs_nobranch\\JOB202001158086775\\KJ_HDemodQH5 ---> 2020-01-16 00:36:27\n",
      "../jobs_nobranch\\JOB202001158086775\\KJ_HDemodQH5 ---> 2020-01-16 00:36:29\n",
      "../jobs_nobranch\\JOB202001158086775\\KJ_HDemodQH5 ---> 2020-01-16 00:36:30\n",
      "../jobs_nobranch\\JOB202001158086775\\KJ_HDemodQH5 ---> 2020-01-16 00:36:31\n",
      "../jobs_nobranch\\JOB202001158086775\\KJ_HDemodQH5 ---> 2020-01-16 00:36:32\n",
      "../jobs_nobranch\\JOB202001158086775\\KJ_HDemodQH5 ---> 2020-01-16 00:36:33\n",
      "../jobs_nobranch\\JOB202001158086775\\KJ_HDemodQH5 ---> 2020-01-16 00:36:36\n",
      "../jobs_nobranch\\JOB202001158086775\\KJ_HDemodQH5 ---> 2020-01-16 00:42:55\n",
      "../jobs_nobranch\\JOB202001158086775\\KJ_HDemodQH5 ---> 2020-01-16 00:43:14\n",
      "../jobs_nobranch\\JOB202001158086775\\KJ_HDemodQH5 ---> 2020-01-16 00:43:16\n",
      "../jobs_nobranch\\JOB202001158086775\\KJ_HDemodQH5 ---> 2020-01-16 00:43:17\n",
      "../jobs_nobranch\\JOB202001158086775\\KJ_HDemodQH5 ---> 2020-01-16 00:43:20\n",
      "../jobs_nobranch\\JOB202001158086775\\KJ_HDemodQH5 ---> 2020-01-16 00:43:21\n",
      "../jobs_nobranch\\JOB202001158086775\\KJ_HDemodQH5 ---> 2020-01-16 00:43:22\n",
      "../jobs_nobranch\\JOB202001158086775\\KJ_HDemodQH5 ---> 2020-01-16 00:43:23\n",
      "../jobs_nobranch\\JOB202001158086775\\KJ_HDemodQH5 ---> 2020-01-16 00:43:24\n",
      "../jobs_nobranch\\JOB202001158086775\\KJ_HDemodQH5 ---> 2020-01-16 00:43:25\n"
     ]
    },
    {
     "name": "stdout",
     "output_type": "stream",
     "text": [
      "../jobs_nobranch\\JOB202001158086775\\KJ_HDemodQH5 ---> 2020-01-16 00:43:26\n",
      "../jobs_nobranch\\JOB202001158086775\\KJ_HDemodQH5 ---> 2020-01-16 00:43:27\n",
      "../jobs_nobranch\\JOB202001158086775\\KJ_HDemodQH5 ---> 2020-01-16 00:43:28\n",
      "../jobs_nobranch\\JOB202001158086775\\KJ_HDemodQH5 ---> 2020-01-16 00:43:29\n",
      "../jobs_nobranch\\JOB202001158086775\\KJ_HDemodQH5 ---> 2020-01-16 00:43:30\n",
      "../jobs_nobranch\\JOB202001158086775\\KJ_HDemodQH5 ---> 2020-01-16 00:43:31\n",
      "../jobs_nobranch\\JOB202001158086775\\KJ_HDemodQH5 ---> 2020-01-16 00:43:32\n",
      "../jobs_nobranch\\JOB202001158086775\\KJ_HDemodQH5 ---> 2020-01-16 00:43:33\n",
      "../jobs_nobranch\\JOB202001158086775\\KJ_HDemodQH5 ---> 2020-01-16 00:43:34\n",
      "../jobs_nobranch\\JOB202001158086775\\KJ_HDemodQH5 ---> 2020-01-16 00:43:35\n",
      "../jobs_nobranch\\JOB202001158086775\\KJ_HDemodQH5 ---> 2020-01-16 00:43:36\n",
      "../jobs_nobranch\\JOB202001158086775\\KJ_HDemodQH5 ---> 2020-01-16 00:43:38\n",
      "../jobs_nobranch\\JOB202001158086775\\KJ_HDemodQH5 ---> 2020-01-16 00:43:39\n",
      "../jobs_nobranch\\JOB202001158086775\\KJ_HDemodQH5 ---> 2020-01-16 00:43:40\n",
      "../jobs_nobranch\\JOB202001158086775\\KJ_HDemodQH5 ---> 2020-01-16 00:43:41\n",
      "../jobs_nobranch\\JOB202001158086775\\KJ_HDemodQH5 ---> 2020-01-16 00:43:42\n",
      "../jobs_nobranch\\JOB202001158086775\\KJ_HDemodQH5 ---> 2020-01-16 00:43:43\n",
      "../jobs_nobranch\\JOB202001158086775\\KJ_HDemodQH5 ---> 2020-01-16 00:43:44\n",
      "../jobs_nobranch\\JOB202001158086775\\KJ_HDemodQH5 ---> 2020-01-16 00:43:45\n",
      "../jobs_nobranch\\JOB202001158086775\\KJ_HDemodQH5 ---> 2020-01-16 00:43:46\n",
      "../jobs_nobranch\\JOB202001158086775\\KJ_HDemodQH5 ---> 2020-01-16 00:43:47\n",
      "../jobs_nobranch\\JOB202001158086775\\KJ_HDemodQH5 ---> 2020-01-16 00:43:48\n",
      "../jobs_nobranch\\JOB202001158086775\\KJ_HDemodQH5 ---> 2020-01-16 00:43:49\n",
      "../jobs_nobranch\\JOB202001158086775\\KJ_HDemodQH5 ---> 2020-01-16 00:43:50\n",
      "../jobs_nobranch\\JOB202001158086775\\KJ_HDemodQH5 ---> 2020-01-16 00:43:51\n",
      "../jobs_nobranch\\JOB202001158086775\\KJ_HDemodQH5 ---> 2020-01-16 00:43:52\n",
      "../jobs_nobranch\\JOB202001158086775\\KJ_HDemodQH5 ---> 2020-01-16 00:43:53\n",
      "../jobs_nobranch\\JOB202001158086775\\KJ_HDemodQH5 ---> 2020-01-16 00:43:55\n",
      "../jobs_nobranch\\JOB202001158086775\\KJ_HDemodQH5 ---> 2020-01-16 00:43:56\n",
      "../jobs_nobranch\\JOB202001158086775\\KJ_HDemodQH5 ---> 2020-01-16 00:43:57\n",
      "../jobs_nobranch\\JOB202001158086775\\KJ_HDemodQH5 ---> 2020-01-16 00:43:58\n",
      "../jobs_nobranch\\JOB202001158086775\\KJ_HDemodQH5 ---> 2020-01-16 00:43:59\n",
      "../jobs_nobranch\\JOB202001158086775\\KJ_HDemodQH5 ---> 2020-01-16 00:44:00\n",
      "../jobs_nobranch\\JOB202001158086775\\KJ_HDemodQH5 ---> 2020-01-16 00:44:01\n",
      "../jobs_nobranch\\JOB202001158086775\\KJ_HDemodQH5 ---> 2020-01-16 00:44:02\n",
      "../jobs_nobranch\\JOB202001158086775\\KJ_HDemodQH5 ---> 2020-01-16 00:44:03\n",
      "../jobs_nobranch\\JOB202001158086775\\KJ_HDemodQH5 ---> 2020-01-16 00:44:04\n",
      "../jobs_nobranch\\JOB202001158086775\\KJ_HDemodQH5 ---> 2020-01-16 00:44:05\n",
      "../jobs_nobranch\\JOB202001158086775\\KJ_HDemodQH5 ---> 2020-01-16 00:44:06\n",
      "../jobs_nobranch\\JOB202001158086775\\KJ_HDemodQH5 ---> 2020-01-16 00:44:07\n",
      "../jobs_nobranch\\JOB202001158086775\\KJ_HDemodQH5 ---> 2020-01-16 00:44:08\n",
      "../jobs_nobranch\\JOB202001158086775\\KJ_HDemodQH5 ---> 2020-01-16 00:44:10\n",
      "../jobs_nobranch\\JOB202001158086775\\KJ_HDemodQH5 ---> 2020-01-16 00:44:11\n",
      "../jobs_nobranch\\JOB202001158086775\\KJ_HDemodQH5 ---> 2020-01-16 00:44:12\n",
      "../jobs_nobranch\\JOB202001158086775\\KJ_HDemodQH5 ---> 2020-01-16 00:44:13\n",
      "../jobs_nobranch\\JOB202001158086775\\KJ_HDemodQH5 ---> 2020-01-16 00:44:14\n",
      "../jobs_nobranch\\JOB202001158086775\\KJ_HDemodQH5 ---> 2020-01-16 00:44:15\n",
      "../jobs_nobranch\\JOB202001158086775\\KJ_HDemodQH5 ---> 2020-01-16 00:44:16\n",
      "../jobs_nobranch\\JOB202001158086775\\KJ_HDemodQH5 ---> 2020-01-16 00:44:17\n",
      "../jobs_nobranch\\JOB202001158086775\\KJ_HDemodQH5 ---> 2020-01-16 00:44:18\n",
      "../jobs_nobranch\\JOB202001158086775\\KJ_HDemodQH5 ---> 2020-01-16 00:44:19\n",
      "../jobs_nobranch\\JOB202001158086775\\KJ_HDemodQH5 ---> 2020-01-16 00:44:20\n",
      "../jobs_nobranch\\JOB202001158086775\\KJ_HDemodQH5 ---> 2020-01-16 00:44:21\n",
      "../jobs_nobranch\\JOB202001158086775\\KJ_HDemodQH5 ---> 2020-01-16 00:44:22\n",
      "../jobs_nobranch\\JOB202001158086775\\KJ_HDemodQH5 ---> 2020-01-16 00:44:23\n",
      "../jobs_nobranch\\JOB202001158086775\\KJ_HDemodQH5 ---> 2020-01-16 00:44:24\n",
      "../jobs_nobranch\\JOB202001158086775\\KJ_HDemodQH5 ---> 2020-01-16 00:44:25\n",
      "../jobs_nobranch\\JOB202001158086775\\KJ_HDemodQH5 ---> 2020-01-16 00:44:27\n",
      "../jobs_nobranch\\JOB202001158086775\\KJ_HDemodQH5 ---> 2020-01-16 00:44:28\n",
      "../jobs_nobranch\\JOB202001158086775\\KJ_HDemodQH5 ---> 2020-01-16 00:44:29\n",
      "../jobs_nobranch\\JOB202001158086775\\KJ_HDemodQH5 ---> 2020-01-16 00:44:30\n",
      "../jobs_nobranch\\JOB202001158086775\\KJ_HDemodQH5 ---> 2020-01-16 00:44:31\n",
      "../jobs_nobranch\\JOB202001158086775\\KJ_HDemodQH5 ---> 2020-01-16 00:44:32\n",
      "../jobs_nobranch\\JOB202001158086775\\KJ_HDemodQH5 ---> 2020-01-16 00:44:33\n",
      "../jobs_nobranch\\JOB202001158086775\\KJ_HDemodQH5 ---> 2020-01-16 00:44:34\n",
      "../jobs_nobranch\\JOB202001158086775\\KJ_HDemodQH5 ---> 2020-01-16 00:44:35\n",
      "../jobs_nobranch\\JOB202001158086775\\KJ_HDemodQH5 ---> 2020-01-16 00:44:36\n",
      "../jobs_nobranch\\JOB202001158086775\\KJ_HDemodQH5 ---> 2020-01-16 00:44:37\n",
      "../jobs_nobranch\\JOB202001158086775\\KJ_HDemodQH5 ---> 2020-01-16 00:44:38\n",
      "../jobs_nobranch\\JOB202001158086775\\KJ_HDemodQH5 ---> 2020-01-16 00:44:39\n",
      "../jobs_nobranch\\JOB202001158086775\\KJ_HDemodQH5 ---> 2020-01-16 00:44:40\n",
      "../jobs_nobranch\\JOB202001158086775\\KJ_HDemodQH5 ---> 2020-01-16 00:44:41\n",
      "../jobs_nobranch\\JOB202001158086775\\KJ_HDemodQH5 ---> 2020-01-16 00:44:42\n",
      "../jobs_nobranch\\JOB202001158086775\\KJ_HDemodQH5 ---> 2020-01-16 00:44:43\n",
      "../jobs_nobranch\\JOB202001158086775\\KJ_HDemodQH5 ---> 2020-01-16 00:44:44\n",
      "../jobs_nobranch\\JOB202001158086775\\KJ_HDemodQH5 ---> 2020-01-16 00:44:45\n",
      "../jobs_nobranch\\JOB202001158086775\\KJ_HDemodQH5 ---> 2020-01-16 00:44:47\n",
      "../jobs_nobranch\\JOB202001158086775\\KJ_HDemodQH5 ---> 2020-01-16 00:44:48\n",
      "../jobs_nobranch\\JOB202001158086775\\KJ_HDemodQH5 ---> 2020-01-16 00:44:49\n",
      "../jobs_nobranch\\JOB202001158086775\\KJ_HDemodQH5 ---> 2020-01-16 00:44:50\n",
      "../jobs_nobranch\\JOB202001158086775\\KJ_HDemodQH5 ---> 2020-01-16 00:44:51\n",
      "../jobs_nobranch\\JOB202001158086775\\KJ_HDemodQH5 ---> 2020-01-16 00:44:52\n",
      "../jobs_nobranch\\JOB202001158086775\\KJ_HDemodQH5 ---> 2020-01-16 00:44:53\n",
      "../jobs_nobranch\\JOB202001158086775\\KJ_HDemodQH5 ---> 2020-01-16 00:44:54\n",
      "../jobs_nobranch\\JOB202001158086775\\KJ_HDemodQH5 ---> 2020-01-16 00:44:55\n",
      "../jobs_nobranch\\JOB202001158086775\\KJ_HDemodQH5 ---> 2020-01-16 00:44:56\n",
      "../jobs_nobranch\\JOB202001158086775\\KJ_HDemodQH5 ---> 2020-01-16 00:44:57\n",
      "../jobs_nobranch\\JOB202001158086775\\KJ_HDemodQH5 ---> 2020-01-16 00:44:58\n",
      "../jobs_nobranch\\JOB202001158086775\\KJ_HDemodQH5 ---> 2020-01-16 00:44:59\n",
      "../jobs_nobranch\\JOB202001158086775\\KJ_HDemodQH5 ---> 2020-01-16 00:45:00\n",
      "../jobs_nobranch\\JOB202001158086775\\KJ_HDemodQH5 ---> 2020-01-16 00:45:01\n",
      "../jobs_nobranch\\JOB202001158086775\\KJ_HDemodQH5 ---> 2020-01-16 00:45:02\n",
      "../jobs_nobranch\\JOB202001158086775\\KJ_HDemodQH5 ---> 2020-01-16 00:45:03\n",
      "../jobs_nobranch\\JOB202001158086775\\KJ_HDemodQH6 ---> 2020-01-16 00:35:31\n",
      "../jobs_nobranch\\JOB202001158086775\\KJ_HDemodQH6 ---> 2020-01-16 00:35:32\n",
      "../jobs_nobranch\\JOB202001158086775\\KJ_HDemodQH6 ---> 2020-01-16 00:35:33\n",
      "../jobs_nobranch\\JOB202001158086775\\KJ_HDemodQH6 ---> 2020-01-16 00:35:34\n",
      "../jobs_nobranch\\JOB202001158086775\\KJ_HDemodQH6 ---> 2020-01-16 00:35:35\n",
      "../jobs_nobranch\\JOB202001158086775\\KJ_HDemodQH6 ---> 2020-01-16 00:35:36\n",
      "../jobs_nobranch\\JOB202001158086775\\KJ_HDemodQH6 ---> 2020-01-16 00:35:38\n",
      "../jobs_nobranch\\JOB202001158086775\\KJ_HDemodQH6 ---> 2020-01-16 00:35:39\n",
      "../jobs_nobranch\\JOB202001158086775\\KJ_HDemodQH6 ---> 2020-01-16 00:35:40\n",
      "../jobs_nobranch\\JOB202001158086775\\KJ_HDemodQH6 ---> 2020-01-16 00:35:41\n",
      "../jobs_nobranch\\JOB202001158086775\\KJ_HDemodQH6 ---> 2020-01-16 00:35:42\n",
      "../jobs_nobranch\\JOB202001158086775\\KJ_HDemodQH6 ---> 2020-01-16 00:35:43\n",
      "../jobs_nobranch\\JOB202001158086775\\KJ_HDemodQH6 ---> 2020-01-16 00:35:44\n",
      "../jobs_nobranch\\JOB202001158086775\\KJ_HDemodQH6 ---> 2020-01-16 00:35:45\n",
      "../jobs_nobranch\\JOB202001158086775\\KJ_HDemodQH6 ---> 2020-01-16 00:35:46\n",
      "../jobs_nobranch\\JOB202001158086775\\KJ_HDemodQH6 ---> 2020-01-16 00:35:47\n",
      "../jobs_nobranch\\JOB202001158086775\\KJ_HDemodQH6 ---> 2020-01-16 00:35:48\n",
      "../jobs_nobranch\\JOB202001158086775\\KJ_HDemodQH6 ---> 2020-01-16 00:35:49\n",
      "../jobs_nobranch\\JOB202001158086775\\KJ_HDemodQH6 ---> 2020-01-16 00:35:51\n",
      "../jobs_nobranch\\JOB202001158086775\\KJ_HDemodQH6 ---> 2020-01-16 00:35:52\n",
      "../jobs_nobranch\\JOB202001158086775\\KJ_HDemodQH6 ---> 2020-01-16 00:35:53\n",
      "../jobs_nobranch\\JOB202001158086775\\KJ_HDemodQH6 ---> 2020-01-16 00:35:54\n",
      "../jobs_nobranch\\JOB202001158086775\\KJ_HDemodQH6 ---> 2020-01-16 00:35:55\n",
      "../jobs_nobranch\\JOB202001158086775\\KJ_HDemodQH6 ---> 2020-01-16 00:35:56\n",
      "../jobs_nobranch\\JOB202001158086775\\KJ_HDemodQH6 ---> 2020-01-16 00:35:57\n",
      "../jobs_nobranch\\JOB202001158086775\\KJ_HDemodQH6 ---> 2020-01-16 00:35:58\n",
      "../jobs_nobranch\\JOB202001158086775\\KJ_HDemodQH6 ---> 2020-01-16 00:35:59\n",
      "../jobs_nobranch\\JOB202001158086775\\KJ_HDemodQH6 ---> 2020-01-16 00:36:00\n",
      "../jobs_nobranch\\JOB202001158086775\\KJ_HDemodQH6 ---> 2020-01-16 00:36:01\n",
      "../jobs_nobranch\\JOB202001158086775\\KJ_HDemodQH6 ---> 2020-01-16 00:36:02\n",
      "../jobs_nobranch\\JOB202001158086775\\KJ_HDemodQH6 ---> 2020-01-16 00:36:03\n",
      "../jobs_nobranch\\JOB202001158086775\\KJ_HDemodQH6 ---> 2020-01-16 00:36:04\n",
      "../jobs_nobranch\\JOB202001158086775\\KJ_HDemodQH6 ---> 2020-01-16 00:36:05\n",
      "../jobs_nobranch\\JOB202001158086775\\KJ_HDemodQH6 ---> 2020-01-16 00:36:06\n",
      "../jobs_nobranch\\JOB202001158086775\\KJ_HDemodQH6 ---> 2020-01-16 00:36:07\n",
      "../jobs_nobranch\\JOB202001158086775\\KJ_HDemodQH6 ---> 2020-01-16 00:36:09\n",
      "../jobs_nobranch\\JOB202001158086775\\KJ_HDemodQH6 ---> 2020-01-16 00:36:10\n",
      "../jobs_nobranch\\JOB202001158086775\\KJ_HDemodQH6 ---> 2020-01-16 00:36:11\n",
      "../jobs_nobranch\\JOB202001158086775\\KJ_HDemodQH6 ---> 2020-01-16 00:36:12\n",
      "../jobs_nobranch\\JOB202001158086775\\KJ_HDemodQH6 ---> 2020-01-16 00:36:13\n",
      "../jobs_nobranch\\JOB202001158086775\\KJ_HDemodQH6 ---> 2020-01-16 00:36:14\n",
      "../jobs_nobranch\\JOB202001158086775\\KJ_HDemodQH6 ---> 2020-01-16 00:36:15\n",
      "../jobs_nobranch\\JOB202001158086775\\KJ_HDemodQH6 ---> 2020-01-16 00:36:16\n",
      "../jobs_nobranch\\JOB202001158086775\\KJ_HDemodQH6 ---> 2020-01-16 00:36:17\n",
      "../jobs_nobranch\\JOB202001158086775\\KJ_HDemodQH6 ---> 2020-01-16 00:36:18\n",
      "../jobs_nobranch\\JOB202001158086775\\KJ_HDemodQH6 ---> 2020-01-16 00:36:19\n",
      "../jobs_nobranch\\JOB202001158086775\\KJ_HDemodQH6 ---> 2020-01-16 00:36:20\n",
      "../jobs_nobranch\\JOB202001158086775\\KJ_HDemodQH6 ---> 2020-01-16 00:36:21\n",
      "../jobs_nobranch\\JOB202001158086775\\KJ_HDemodQH6 ---> 2020-01-16 00:36:22\n",
      "../jobs_nobranch\\JOB202001158086775\\KJ_HDemodQH6 ---> 2020-01-16 00:36:23\n",
      "../jobs_nobranch\\JOB202001158086775\\KJ_HDemodQH6 ---> 2020-01-16 00:36:24\n",
      "../jobs_nobranch\\JOB202001158086775\\KJ_HDemodQH6 ---> 2020-01-16 00:36:26\n",
      "../jobs_nobranch\\JOB202001158086775\\KJ_HDemodQH6 ---> 2020-01-16 00:36:27\n",
      "../jobs_nobranch\\JOB202001158086775\\KJ_HDemodQH6 ---> 2020-01-16 00:36:28\n",
      "../jobs_nobranch\\JOB202001158086775\\KJ_HDemodQH6 ---> 2020-01-16 00:36:29\n",
      "../jobs_nobranch\\JOB202001158086775\\KJ_HDemodQH6 ---> 2020-01-16 00:36:30\n",
      "../jobs_nobranch\\JOB202001158086775\\KJ_HDemodQH6 ---> 2020-01-16 00:36:31\n",
      "../jobs_nobranch\\JOB202001158086775\\KJ_HDemodQH6 ---> 2020-01-16 00:36:32\n",
      "../jobs_nobranch\\JOB202001158086775\\KJ_HDemodQH6 ---> 2020-01-16 00:36:33\n",
      "../jobs_nobranch\\JOB202001158086775\\KJ_HDemodQH6 ---> 2020-01-16 00:36:34\n",
      "../jobs_nobranch\\JOB202001158086775\\KJ_HDemodQH6 ---> 2020-01-16 00:36:35\n",
      "../jobs_nobranch\\JOB202001158086775\\KJ_HDemodQH6 ---> 2020-01-16 00:36:36\n",
      "../jobs_nobranch\\JOB202001158086775\\KJ_HDemodQH6 ---> 2020-01-16 00:36:37\n",
      "../jobs_nobranch\\JOB202001158086775\\KJ_HDemodQH6 ---> 2020-01-16 00:36:38\n",
      "../jobs_nobranch\\JOB202001158086775\\KJ_HDemodQH6 ---> 2020-01-16 00:36:40\n",
      "../jobs_nobranch\\JOB202001158086775\\KJ_HDemodQH6 ---> 2020-01-16 00:36:41\n",
      "../jobs_nobranch\\JOB202001158086775\\KJ_HDemodQH6 ---> 2020-01-16 00:36:42\n",
      "../jobs_nobranch\\JOB202001158086775\\KJ_HDemodQH6 ---> 2020-01-16 00:36:43\n",
      "../jobs_nobranch\\JOB202001158086775\\KJ_HDemodQH6 ---> 2020-01-16 00:36:44\n",
      "../jobs_nobranch\\JOB202001158086775\\KJ_HDemodQH6 ---> 2020-01-16 00:36:45\n",
      "../jobs_nobranch\\JOB202001158086775\\KJ_HDemodQH6 ---> 2020-01-16 00:36:46\n",
      "../jobs_nobranch\\JOB202001158086775\\KJ_HDemodQH6 ---> 2020-01-16 00:36:47\n",
      "../jobs_nobranch\\JOB202001158086775\\KJ_HDemodQH6 ---> 2020-01-16 00:36:48\n",
      "../jobs_nobranch\\JOB202001158086775\\KJ_HDemodQH6 ---> 2020-01-16 00:36:49\n",
      "../jobs_nobranch\\JOB202001158086775\\KJ_HDemodQH6 ---> 2020-01-16 00:36:50\n",
      "../jobs_nobranch\\JOB202001158086775\\KJ_HDemodQH6 ---> 2020-01-16 00:36:51\n",
      "../jobs_nobranch\\JOB202001158086775\\KJ_HDemodQH6 ---> 2020-01-16 00:36:52\n",
      "../jobs_nobranch\\JOB202001158086775\\KJ_HDemodQH6 ---> 2020-01-16 00:36:53\n",
      "../jobs_nobranch\\JOB202001158086775\\KJ_HDemodQH6 ---> 2020-01-16 00:36:55\n",
      "../jobs_nobranch\\JOB202001158086775\\KJ_HDemodQH6 ---> 2020-01-16 00:36:56\n",
      "../jobs_nobranch\\JOB202001158086775\\KJ_HDemodQH6 ---> 2020-01-16 00:36:57\n",
      "../jobs_nobranch\\JOB202001158086775\\KJ_HDemodQH6 ---> 2020-01-16 00:36:58\n",
      "../jobs_nobranch\\JOB202001158086775\\KJ_HDemodQH6 ---> 2020-01-16 00:36:59\n",
      "../jobs_nobranch\\JOB202001158086775\\KJ_HDemodQH6 ---> 2020-01-16 00:37:00\n",
      "../jobs_nobranch\\JOB202001158086775\\KJ_HDemodQH6 ---> 2020-01-16 00:37:01\n",
      "../jobs_nobranch\\JOB202001158086775\\KJ_HDemodQH6 ---> 2020-01-16 00:37:02\n",
      "../jobs_nobranch\\JOB202001158086775\\KJ_HDemodQH6 ---> 2020-01-16 00:37:03\n",
      "../jobs_nobranch\\JOB202001158086775\\KJ_HDemodQH6 ---> 2020-01-16 00:37:04\n",
      "../jobs_nobranch\\JOB202001158086775\\KJ_HDemodQH6 ---> 2020-01-16 00:37:05\n",
      "../jobs_nobranch\\JOB202001158086775\\KJ_HDemodQH6 ---> 2020-01-16 00:37:06\n",
      "../jobs_nobranch\\JOB202001158086775\\KJ_HDemodQH6 ---> 2020-01-16 00:37:07\n",
      "../jobs_nobranch\\JOB202001158086775\\KJ_HDemodQH6 ---> 2020-01-16 00:37:08\n",
      "../jobs_nobranch\\JOB202001158086775\\KJ_HDemodQH6 ---> 2020-01-16 00:37:10\n",
      "../jobs_nobranch\\JOB202001158086775\\KJ_HDemodQH6 ---> 2020-01-16 00:37:11\n",
      "../jobs_nobranch\\JOB202001158086775\\KJ_HDemodQH6 ---> 2020-01-16 00:37:12\n",
      "../jobs_nobranch\\JOB202001158086775\\KJ_HDemodQH6 ---> 2020-01-16 00:37:13\n",
      "../jobs_nobranch\\JOB202001158086775\\KJ_HDemodQH6 ---> 2020-01-16 00:37:14\n",
      "../jobs_nobranch\\JOB202001158086775\\KJ_HDemodQH6 ---> 2020-01-16 00:37:15\n",
      "../jobs_nobranch\\JOB202001158086775\\KJ_HDemodQH6 ---> 2020-01-16 00:37:16\n",
      "../jobs_nobranch\\JOB202001158086775\\KJ_HDemodQH6 ---> 2020-01-16 00:37:17\n",
      "../jobs_nobranch\\JOB202001158086775\\KJ_HDemodQH6 ---> 2020-01-16 00:37:18\n",
      "../jobs_nobranch\\JOB202001158086775\\KJ_HDemodQH6 ---> 2020-01-16 00:37:19\n",
      "../jobs_nobranch\\JOB202001158086775\\KJ_HDemodQH6 ---> 2020-01-16 00:37:20\n",
      "../jobs_nobranch\\JOB202001158086775\\KJ_HDemodQH6 ---> 2020-01-16 00:37:21\n",
      "../jobs_nobranch\\JOB202001158086775\\KJ_HDemodQH6 ---> 2020-01-16 00:37:22\n",
      "../jobs_nobranch\\JOB202001158086775\\KJ_HDemodQH6 ---> 2020-01-16 00:37:23\n",
      "../jobs_nobranch\\JOB202001158086775\\KJ_HDemodQH6 ---> 2020-01-16 00:37:24\n",
      "../jobs_nobranch\\JOB202001158086775\\KJ_HDemodQH6 ---> 2020-01-16 00:37:26\n",
      "../jobs_nobranch\\JOB202001158086775\\KJ_HDemodQH6 ---> 2020-01-16 00:37:27\n",
      "../jobs_nobranch\\JOB202001158086775\\KJ_HDemodQH6 ---> 2020-01-16 00:37:28\n",
      "../jobs_nobranch\\JOB202001158086775\\KJ_HDemodQH6 ---> 2020-01-16 00:37:29\n",
      "../jobs_nobranch\\JOB202001158086775\\KJ_HDemodQH6 ---> 2020-01-16 00:37:30\n",
      "../jobs_nobranch\\JOB202001158086775\\KJ_HDemodQH6 ---> 2020-01-16 00:37:31\n",
      "../jobs_nobranch\\JOB202001158086775\\KJ_HDemodQH6 ---> 2020-01-16 00:37:32\n",
      "../jobs_nobranch\\JOB202001158086775\\KJ_HDemodQH6 ---> 2020-01-16 00:37:33\n",
      "../jobs_nobranch\\JOB202001158086775\\KJ_HDemodQH6 ---> 2020-01-16 00:37:34\n",
      "../jobs_nobranch\\JOB202001158086775\\KJ_HDemodQH6 ---> 2020-01-16 00:37:35\n",
      "../jobs_nobranch\\JOB202001158086775\\KJ_HDemodQH6 ---> 2020-01-16 00:37:36\n",
      "../jobs_nobranch\\JOB202001158086775\\KJ_HDemodQH6 ---> 2020-01-16 00:37:37\n",
      "../jobs_nobranch\\JOB202001158086775\\KJ_HDemodQH6 ---> 2020-01-16 00:37:38\n",
      "../jobs_nobranch\\JOB202001158086775\\KJ_HDemodQH6 ---> 2020-01-16 00:37:40\n",
      "../jobs_nobranch\\JOB202001158086775\\KJ_HDemodQH6 ---> 2020-01-16 00:37:41\n",
      "../jobs_nobranch\\JOB202001158086775\\KJ_HDemodQH6 ---> 2020-01-16 00:37:42\n",
      "../jobs_nobranch\\JOB202001158086775\\KJ_HDemodQH6 ---> 2020-01-16 00:37:43\n",
      "../jobs_nobranch\\JOB202001158086775\\KJ_HDemodQH6 ---> 2020-01-16 00:37:44\n",
      "../jobs_nobranch\\JOB202001158086775\\KJ_HDemodQH6 ---> 2020-01-16 00:37:45\n",
      "../jobs_nobranch\\JOB202001158086775\\KJ_HDemodQH6 ---> 2020-01-16 00:37:46\n",
      "../jobs_nobranch\\JOB202001158086775\\KJ_HDemodQH6 ---> 2020-01-16 00:37:47\n",
      "../jobs_nobranch\\JOB202001158086775\\KJ_HDemodQH6 ---> 2020-01-16 00:37:48\n",
      "../jobs_nobranch\\JOB202001158086775\\KJ_HDemodQH6 ---> 2020-01-16 00:37:49\n",
      "../jobs_nobranch\\JOB202001158086775\\KJ_HDemodQH6 ---> 2020-01-16 00:37:50\n",
      "../jobs_nobranch\\JOB202001158086775\\KJ_HDemodQH6 ---> 2020-01-16 00:37:51\n",
      "../jobs_nobranch\\JOB202001158086775\\KJ_HDemodQH6 ---> 2020-01-16 00:37:52\n",
      "../jobs_nobranch\\JOB202001158086775\\KJ_HDemodQH6 ---> 2020-01-16 00:37:53\n",
      "../jobs_nobranch\\JOB202001158086775\\KJ_HDemodQH6 ---> 2020-01-16 00:37:55\n",
      "../jobs_nobranch\\JOB202001158086775\\KJ_HDemodQH6 ---> 2020-01-16 00:37:56\n",
      "../jobs_nobranch\\JOB202001158086775\\KJ_HDemodQH6 ---> 2020-01-16 00:37:57\n",
      "../jobs_nobranch\\JOB202001158086775\\KJ_HDemodQH6 ---> 2020-01-16 00:37:58\n",
      "../jobs_nobranch\\JOB202001158086775\\KJ_HDemodQH6 ---> 2020-01-16 00:37:59\n",
      "../jobs_nobranch\\JOB202001158086775\\KJ_HDemodQH6 ---> 2020-01-16 00:38:00\n",
      "../jobs_nobranch\\JOB202001158086775\\KJ_HDemodQH6 ---> 2020-01-16 00:38:01\n",
      "../jobs_nobranch\\JOB202001158086775\\KJ_HDemodQH6 ---> 2020-01-16 00:38:02\n",
      "../jobs_nobranch\\JOB202001158086775\\KJ_HDemodQH6 ---> 2020-01-16 00:38:03\n",
      "../jobs_nobranch\\JOB202001158086775\\KJ_HDemodQH6 ---> 2020-01-16 00:38:04\n",
      "../jobs_nobranch\\JOB202001158086775\\KJ_HDemodQH6 ---> 2020-01-16 00:38:05\n",
      "../jobs_nobranch\\JOB202001158086775\\KJ_HDemodQH6 ---> 2020-01-16 00:38:06\n",
      "../jobs_nobranch\\JOB202001158086775\\KJ_HDemodQH6 ---> 2020-01-16 00:38:07\n",
      "../jobs_nobranch\\JOB202001158086775\\KJ_HDemodQH6 ---> 2020-01-16 00:38:08\n",
      "../jobs_nobranch\\JOB202001158086775\\KJ_HDemodQH6 ---> 2020-01-16 00:38:09\n",
      "../jobs_nobranch\\JOB202001158086775\\KJ_HDemodQH6 ---> 2020-01-16 00:38:11\n",
      "../jobs_nobranch\\JOB202001158086775\\KJ_HDemodQH6 ---> 2020-01-16 00:38:12\n",
      "../jobs_nobranch\\JOB202001158086775\\KJ_HDemodQH6 ---> 2020-01-16 00:38:13\n",
      "../jobs_nobranch\\JOB202001158086775\\KJ_HDemodQH6 ---> 2020-01-16 00:38:14\n",
      "../jobs_nobranch\\JOB202001158086775\\KJ_HDemodQH6 ---> 2020-01-16 00:38:15\n",
      "../jobs_nobranch\\JOB202001158086775\\KJ_HDemodQH6 ---> 2020-01-16 00:38:16\n",
      "../jobs_nobranch\\JOB202001158086775\\KJ_HDemodQH6 ---> 2020-01-16 00:38:17\n",
      "../jobs_nobranch\\JOB202001158086775\\KJ_HDemodQH6 ---> 2020-01-16 00:38:18\n",
      "../jobs_nobranch\\JOB202001158086775\\KJ_HDemodQH6 ---> 2020-01-16 00:38:19\n",
      "../jobs_nobranch\\JOB202001158086775\\KJ_HDemodQH6 ---> 2020-01-16 00:38:20\n",
      "../jobs_nobranch\\JOB202001158086775\\KJ_HDemodQH6 ---> 2020-01-16 00:38:21\n",
      "../jobs_nobranch\\JOB202001158086775\\KJ_HDemodQH6 ---> 2020-01-16 00:38:22\n",
      "../jobs_nobranch\\JOB202001158086775\\KJ_HDemodQH6 ---> 2020-01-16 00:38:23\n",
      "../jobs_nobranch\\JOB202001158086775\\KJ_HDemodQH6 ---> 2020-01-16 00:38:24\n",
      "../jobs_nobranch\\JOB202001158086775\\KJ_HDemodQH6 ---> 2020-01-16 00:38:25\n",
      "../jobs_nobranch\\JOB202001158086775\\KJ_HDemodQH6 ---> 2020-01-16 00:38:26\n",
      "../jobs_nobranch\\JOB202001158086775\\KJ_HDemodQH6 ---> 2020-01-16 00:38:28\n",
      "../jobs_nobranch\\JOB202001158086775\\KJ_HDemodQH6 ---> 2020-01-16 00:38:29\n",
      "../jobs_nobranch\\JOB202001158086775\\KJ_HDemodQH6 ---> 2020-01-16 00:38:30\n",
      "../jobs_nobranch\\JOB202001158086775\\KJ_HDemodQH6 ---> 2020-01-16 00:38:31\n",
      "../jobs_nobranch\\JOB202001158086775\\KJ_HDemodQH6 ---> 2020-01-16 00:38:32\n",
      "../jobs_nobranch\\JOB202001158086775\\KJ_HDemodQH6 ---> 2020-01-16 00:38:33\n",
      "../jobs_nobranch\\JOB202001158086775\\KJ_HDemodQH6 ---> 2020-01-16 00:38:34\n",
      "../jobs_nobranch\\JOB202001158086775\\KJ_HDemodQH6 ---> 2020-01-16 00:38:35\n",
      "../jobs_nobranch\\JOB202001158086775\\KJ_HDemodQH6 ---> 2020-01-16 00:38:36\n",
      "../jobs_nobranch\\JOB202001158086775\\KJ_HDemodQH6 ---> 2020-01-16 00:38:37\n",
      "../jobs_nobranch\\JOB202001158086775\\KJ_HDemodQH6 ---> 2020-01-16 00:38:38\n",
      "../jobs_nobranch\\JOB202001158086775\\KJ_HDemodQH6 ---> 2020-01-16 00:38:39\n",
      "../jobs_nobranch\\JOB202001158086775\\KJ_HDemodQH6 ---> 2020-01-16 00:38:41\n",
      "../jobs_nobranch\\JOB202001158086775\\KJ_HDemodQH6 ---> 2020-01-16 00:38:42\n",
      "../jobs_nobranch\\JOB202001158086775\\KJ_HDemodQH6 ---> 2020-01-16 00:38:43\n",
      "../jobs_nobranch\\JOB202001158086775\\KJ_HDemodQH6 ---> 2020-01-16 00:38:44\n",
      "../jobs_nobranch\\JOB202001158086775\\KJ_HDemodQH6 ---> 2020-01-16 00:38:45\n",
      "../jobs_nobranch\\JOB202001158086775\\KJ_HDemodQH6 ---> 2020-01-16 00:38:46\n",
      "../jobs_nobranch\\JOB202001158086775\\KJ_HDemodQH6 ---> 2020-01-16 00:38:47\n",
      "../jobs_nobranch\\JOB202001158086775\\KJ_HDemodQH6 ---> 2020-01-16 00:38:48\n",
      "../jobs_nobranch\\JOB202001158086775\\KJ_HDemodQH6 ---> 2020-01-16 00:38:49\n",
      "../jobs_nobranch\\JOB202001158086775\\KJ_HDemodQH6 ---> 2020-01-16 00:38:50\n",
      "../jobs_nobranch\\JOB202001158086775\\KJ_HDemodQH6 ---> 2020-01-16 00:38:51\n",
      "../jobs_nobranch\\JOB202001158086775\\KJ_HDemodQH6 ---> 2020-01-16 00:38:53\n",
      "../jobs_nobranch\\JOB202001158086775\\KJ_HDemodQH6 ---> 2020-01-16 00:38:54\n",
      "../jobs_nobranch\\JOB202001158086775\\KJ_HDemodQH6 ---> 2020-01-16 00:38:55\n",
      "../jobs_nobranch\\JOB202001158086775\\KJ_HDemodQH6 ---> 2020-01-16 00:38:56\n",
      "../jobs_nobranch\\JOB202001158086775\\KJ_HDemodQH6 ---> 2020-01-16 00:38:57\n",
      "../jobs_nobranch\\JOB202001158086775\\KJ_HDemodQH6 ---> 2020-01-16 00:38:58\n",
      "../jobs_nobranch\\JOB202001158086775\\KJ_HDemodQH6 ---> 2020-01-16 00:38:59\n",
      "../jobs_nobranch\\JOB202001158086775\\KJ_HDemodQH6 ---> 2020-01-16 00:39:00\n",
      "../jobs_nobranch\\JOB202001158086775\\KJ_HDemodQH6 ---> 2020-01-16 00:39:01\n",
      "../jobs_nobranch\\JOB202001158086775\\KJ_HDemodQH6 ---> 2020-01-16 00:39:02\n",
      "../jobs_nobranch\\JOB202001158086775\\KJ_HDemodQH6 ---> 2020-01-16 00:39:03\n",
      "../jobs_nobranch\\JOB202001158086775\\KJ_HDemodQH6 ---> 2020-01-16 00:39:04\n",
      "../jobs_nobranch\\JOB202001158086775\\KJ_HDemodQH6 ---> 2020-01-16 00:39:05\n",
      "../jobs_nobranch\\JOB202001158086775\\KJ_HDemodQH6 ---> 2020-01-16 00:39:06\n",
      "../jobs_nobranch\\JOB202001158086775\\KJ_HDemodQH6 ---> 2020-01-16 00:39:07\n",
      "../jobs_nobranch\\JOB202001158086775\\KJ_HDemodQH6 ---> 2020-01-16 00:39:09\n",
      "../jobs_nobranch\\JOB202001158086775\\KJ_HDemodQH6 ---> 2020-01-16 00:39:10\n",
      "../jobs_nobranch\\JOB202001158086775\\KJ_HDemodQH6 ---> 2020-01-16 00:39:11\n",
      "../jobs_nobranch\\JOB202001158086775\\KJ_HDemodQH6 ---> 2020-01-16 00:39:12\n",
      "../jobs_nobranch\\JOB202001158086775\\KJ_HDemodQH6 ---> 2020-01-16 00:39:13\n",
      "../jobs_nobranch\\JOB202001158086775\\KJ_HDemodQH6 ---> 2020-01-16 00:39:14\n",
      "../jobs_nobranch\\JOB202001158086775\\KJ_HDemodQH6 ---> 2020-01-16 00:39:15\n",
      "../jobs_nobranch\\JOB202001158086775\\KJ_HDemodQH6 ---> 2020-01-16 00:39:16\n",
      "../jobs_nobranch\\JOB202001158086775\\KJ_HDemodQH6 ---> 2020-01-16 00:39:17\n",
      "../jobs_nobranch\\JOB202001158086775\\KJ_HDemodQH6 ---> 2020-01-16 00:39:18\n",
      "../jobs_nobranch\\JOB202001158086775\\KJ_HDemodQH6 ---> 2020-01-16 00:39:19\n",
      "../jobs_nobranch\\JOB202001158086775\\KJ_HDemodQH6 ---> 2020-01-16 00:39:20\n",
      "../jobs_nobranch\\JOB202001158086775\\KJ_HDemodQH6 ---> 2020-01-16 00:39:21\n",
      "../jobs_nobranch\\JOB202001158086775\\KJ_HDemodQH6 ---> 2020-01-16 00:39:23\n",
      "../jobs_nobranch\\JOB202001158086775\\KJ_HDemodQH6 ---> 2020-01-16 00:39:24\n",
      "../jobs_nobranch\\JOB202001158086775\\KJ_HDemodQH6 ---> 2020-01-16 00:39:25\n",
      "../jobs_nobranch\\JOB202001158086775\\KJ_HDemodQH6 ---> 2020-01-16 00:39:26\n",
      "../jobs_nobranch\\JOB202001158086775\\KJ_HDemodQH6 ---> 2020-01-16 00:39:27\n",
      "../jobs_nobranch\\JOB202001158086775\\KJ_HDemodQH6 ---> 2020-01-16 00:39:28\n",
      "../jobs_nobranch\\JOB202001158086775\\KJ_HDemodQH6 ---> 2020-01-16 00:39:29\n",
      "../jobs_nobranch\\JOB202001158086775\\KJ_HDemodQH6 ---> 2020-01-16 00:39:30\n",
      "../jobs_nobranch\\JOB202001158086775\\KJ_HDemodQH6 ---> 2020-01-16 00:39:31\n",
      "../jobs_nobranch\\JOB202001158086775\\KJ_HDemodQH6 ---> 2020-01-16 00:39:32\n",
      "../jobs_nobranch\\JOB202001158086775\\KJ_HDemodQH6 ---> 2020-01-16 00:39:33\n",
      "../jobs_nobranch\\JOB202001158086775\\KJ_HDemodQH6 ---> 2020-01-16 00:39:34\n",
      "../jobs_nobranch\\JOB202001158086775\\KJ_HDemodQH6 ---> 2020-01-16 00:39:36\n",
      "../jobs_nobranch\\JOB202001158086775\\KJ_HDemodQH6 ---> 2020-01-16 00:39:37\n",
      "../jobs_nobranch\\JOB202001158086775\\KJ_HDemodQH6 ---> 2020-01-16 00:39:38\n",
      "../jobs_nobranch\\JOB202001158086775\\KJ_HDemodQH6 ---> 2020-01-16 00:39:39\n",
      "../jobs_nobranch\\JOB202001158086775\\KJ_HDemodQH6 ---> 2020-01-16 00:39:40\n",
      "../jobs_nobranch\\JOB202001158086775\\KJ_HDemodQH6 ---> 2020-01-16 00:39:41\n",
      "../jobs_nobranch\\JOB202001158086775\\KJ_HDemodQH6 ---> 2020-01-16 00:39:42\n",
      "../jobs_nobranch\\JOB202001158086775\\KJ_HDemodQH6 ---> 2020-01-16 00:39:43\n",
      "../jobs_nobranch\\JOB202001158086775\\KJ_HDemodQH6 ---> 2020-01-16 00:39:44\n",
      "../jobs_nobranch\\JOB202001158086775\\KJ_HDemodQH6 ---> 2020-01-16 00:39:45\n",
      "../jobs_nobranch\\JOB202001158086775\\KJ_HDemodQH6 ---> 2020-01-16 00:39:46\n",
      "../jobs_nobranch\\JOB202001158086775\\KJ_HDemodQH6 ---> 2020-01-16 00:39:47\n",
      "../jobs_nobranch\\JOB202001158086775\\KJ_HDemodQH6 ---> 2020-01-16 00:39:48\n",
      "../jobs_nobranch\\JOB202001158086775\\KJ_HDemodQH6 ---> 2020-01-16 00:39:50\n",
      "../jobs_nobranch\\JOB202001158086775\\KJ_HDemodQH6 ---> 2020-01-16 00:39:51\n",
      "../jobs_nobranch\\JOB202001158086775\\KJ_HDemodQH6 ---> 2020-01-16 00:39:52\n",
      "../jobs_nobranch\\JOB202001158086775\\KJ_HDemodQH6 ---> 2020-01-16 00:39:53\n",
      "../jobs_nobranch\\JOB202001158086775\\KJ_HDemodQH6 ---> 2020-01-16 00:39:54\n",
      "../jobs_nobranch\\JOB202001158086775\\KJ_HDemodQH6 ---> 2020-01-16 00:39:55\n",
      "../jobs_nobranch\\JOB202001158086775\\KJ_HDemodQH6 ---> 2020-01-16 00:39:56\n",
      "../jobs_nobranch\\JOB202001158086775\\KJ_HDemodQH6 ---> 2020-01-16 00:39:57\n",
      "../jobs_nobranch\\JOB202001158086775\\KJ_HDemodQH6 ---> 2020-01-16 00:39:58\n",
      "../jobs_nobranch\\JOB202001158086775\\KJ_HDemodQH6 ---> 2020-01-16 00:39:59\n",
      "../jobs_nobranch\\JOB202001158086775\\KJ_HDemodQH6 ---> 2020-01-16 00:40:00\n",
      "../jobs_nobranch\\JOB202001158086775\\KJ_HDemodQH6 ---> 2020-01-16 00:40:01\n",
      "../jobs_nobranch\\JOB202001158086775\\KJ_HDemodQH6 ---> 2020-01-16 00:40:02\n",
      "../jobs_nobranch\\JOB202001158086775\\KJ_HDemodQH6 ---> 2020-01-16 00:40:03\n",
      "../jobs_nobranch\\JOB202001158086775\\KJ_HDemodQH6 ---> 2020-01-16 00:40:05\n",
      "../jobs_nobranch\\JOB202001158086775\\KJ_HDemodQH6 ---> 2020-01-16 00:40:06\n",
      "../jobs_nobranch\\JOB202001158086775\\KJ_HDemodQH6 ---> 2020-01-16 00:40:07\n",
      "../jobs_nobranch\\JOB202001158086775\\KJ_HDemodQH6 ---> 2020-01-16 00:40:08\n",
      "../jobs_nobranch\\JOB202001158086775\\KJ_HDemodQH6 ---> 2020-01-16 00:40:09\n",
      "../jobs_nobranch\\JOB202001158086775\\KJ_HDemodQH6 ---> 2020-01-16 00:40:10\n",
      "../jobs_nobranch\\JOB202001158086775\\KJ_HDemodQH6 ---> 2020-01-16 00:40:11\n",
      "../jobs_nobranch\\JOB202001158086775\\KJ_HDemodQH6 ---> 2020-01-16 00:40:12\n",
      "../jobs_nobranch\\JOB202001158086775\\KJ_HDemodQH6 ---> 2020-01-16 00:40:13\n",
      "../jobs_nobranch\\JOB202001158086775\\KJ_HDemodQH6 ---> 2020-01-16 00:40:14\n",
      "../jobs_nobranch\\JOB202001158086775\\KJ_HDemodQH6 ---> 2020-01-16 00:40:15\n",
      "../jobs_nobranch\\JOB202001158086775\\KJ_HDemodQH6 ---> 2020-01-16 00:40:16\n",
      "../jobs_nobranch\\JOB202001158086775\\KJ_HDemodQH6 ---> 2020-01-16 00:40:17\n",
      "../jobs_nobranch\\JOB202001158086775\\KJ_HDemodQH6 ---> 2020-01-16 00:40:18\n",
      "../jobs_nobranch\\JOB202001158086775\\KJ_HDemodQH6 ---> 2020-01-16 00:40:20\n",
      "../jobs_nobranch\\JOB202001158086775\\KJ_HDemodQH6 ---> 2020-01-16 00:40:21\n",
      "../jobs_nobranch\\JOB202001158086775\\KJ_HDemodQH6 ---> 2020-01-16 00:40:22\n",
      "../jobs_nobranch\\JOB202001158086775\\KJ_HDemodQH6 ---> 2020-01-16 00:40:23\n",
      "../jobs_nobranch\\JOB202001158086775\\KJ_HDemodQH6 ---> 2020-01-16 00:40:24\n",
      "../jobs_nobranch\\JOB202001158086775\\KJ_HDemodQH6 ---> 2020-01-16 00:40:25\n",
      "../jobs_nobranch\\JOB202001158086775\\KJ_HDemodQH6 ---> 2020-01-16 00:40:26\n",
      "../jobs_nobranch\\JOB202001158086775\\KJ_HDemodQH6 ---> 2020-01-16 00:40:27\n",
      "../jobs_nobranch\\JOB202001158086775\\KJ_HDemodQH6 ---> 2020-01-16 00:40:28\n",
      "../jobs_nobranch\\JOB202001158086775\\KJ_HDemodQH6 ---> 2020-01-16 00:40:29\n",
      "../jobs_nobranch\\JOB202001158086775\\KJ_HDemodQH6 ---> 2020-01-16 00:40:30\n",
      "../jobs_nobranch\\JOB202001158086775\\KJ_HDemodQH6 ---> 2020-01-16 00:40:31\n",
      "../jobs_nobranch\\JOB202001158086775\\KJ_HDemodQH6 ---> 2020-01-16 00:40:32\n",
      "../jobs_nobranch\\JOB202001158086775\\KJ_HDemodQH6 ---> 2020-01-16 00:40:34\n",
      "../jobs_nobranch\\JOB202001158086775\\KJ_HDemodQH6 ---> 2020-01-16 00:40:35\n",
      "../jobs_nobranch\\JOB202001158086775\\KJ_HDemodQH6 ---> 2020-01-16 00:40:36\n",
      "../jobs_nobranch\\JOB202001158086775\\KJ_HDemodQH6 ---> 2020-01-16 00:40:37\n",
      "../jobs_nobranch\\JOB202001158086775\\KJ_HDemodQH6 ---> 2020-01-16 00:40:38\n",
      "../jobs_nobranch\\JOB202001158086775\\KJ_HDemodQH6 ---> 2020-01-16 00:40:39\n",
      "../jobs_nobranch\\JOB202001158086775\\KJ_HDemodQH6 ---> 2020-01-16 00:40:40\n",
      "../jobs_nobranch\\JOB202001158086775\\KJ_HDemodQH6 ---> 2020-01-16 00:40:41\n",
      "../jobs_nobranch\\JOB202001158086775\\KJ_HDemodQH6 ---> 2020-01-16 00:40:42\n",
      "../jobs_nobranch\\JOB202001158086775\\KJ_HDemodQH6 ---> 2020-01-16 00:40:43\n",
      "../jobs_nobranch\\JOB202001158086775\\KJ_HDemodQH6 ---> 2020-01-16 00:40:44\n",
      "../jobs_nobranch\\JOB202001158086775\\KJ_HDemodQH6 ---> 2020-01-16 00:40:45\n",
      "../jobs_nobranch\\JOB202001158086775\\KJ_HDemodQH6 ---> 2020-01-16 00:40:46\n",
      "../jobs_nobranch\\JOB202001158086775\\KJ_HDemodQH6 ---> 2020-01-16 00:40:47\n",
      "../jobs_nobranch\\JOB202001158086775\\KJ_HDemodQH6 ---> 2020-01-16 00:40:48\n",
      "../jobs_nobranch\\JOB202001158086775\\KJ_HDemodQH6 ---> 2020-01-16 00:40:49\n",
      "../jobs_nobranch\\JOB202001158086775\\KJ_HDemodQH6 ---> 2020-01-16 00:40:50\n",
      "../jobs_nobranch\\JOB202001158086775\\KJ_HDemodQH6 ---> 2020-01-16 00:40:51\n",
      "../jobs_nobranch\\JOB202001158086775\\KJ_HDemodQH6 ---> 2020-01-16 00:40:52\n",
      "../jobs_nobranch\\JOB202001158086775\\KJ_HDemodQH6 ---> 2020-01-16 00:40:54\n",
      "../jobs_nobranch\\JOB202001158086775\\KJ_HDemodQH6 ---> 2020-01-16 00:40:55\n",
      "../jobs_nobranch\\JOB202001158086775\\KJ_HDemodQH6 ---> 2020-01-16 00:40:56\n",
      "../jobs_nobranch\\JOB202001158086775\\KJ_HDemodQH6 ---> 2020-01-16 00:40:57\n",
      "../jobs_nobranch\\JOB202001158086775\\KJ_HDemodQH6 ---> 2020-01-16 00:40:58\n",
      "../jobs_nobranch\\JOB202001158086775\\KJ_HDemodQH6 ---> 2020-01-16 00:40:59\n",
      "../jobs_nobranch\\JOB202001158086775\\KJ_HDemodQH6 ---> 2020-01-16 00:41:00\n",
      "../jobs_nobranch\\JOB202001158086775\\KJ_HDemodQH6 ---> 2020-01-16 00:41:01\n",
      "../jobs_nobranch\\JOB202001158086775\\KJ_HDemodQH6 ---> 2020-01-16 00:41:02\n",
      "../jobs_nobranch\\JOB202001158086775\\KJ_HDemodQH6 ---> 2020-01-16 00:41:03\n",
      "../jobs_nobranch\\JOB202001158086775\\KJ_HDemodQH6 ---> 2020-01-16 00:41:04\n",
      "../jobs_nobranch\\JOB202001158086775\\KJ_HDemodQH6 ---> 2020-01-16 00:41:05\n",
      "../jobs_nobranch\\JOB202001158086775\\KJ_HDemodQH6 ---> 2020-01-16 00:41:06\n",
      "../jobs_nobranch\\JOB202001158086775\\KJ_HDemodQH6 ---> 2020-01-16 00:41:07\n",
      "../jobs_nobranch\\JOB202001158086775\\KJ_HDemodQH6 ---> 2020-01-16 00:41:09\n",
      "../jobs_nobranch\\JOB202001158086775\\KJ_HDemodQH6 ---> 2020-01-16 00:41:10\n",
      "../jobs_nobranch\\JOB202001158086775\\KJ_HDemodQH6 ---> 2020-01-16 00:41:11\n",
      "../jobs_nobranch\\JOB202001158086775\\KJ_HDemodQH6 ---> 2020-01-16 00:41:12\n",
      "../jobs_nobranch\\JOB202001158086775\\KJ_HDemodQH6 ---> 2020-01-16 00:41:13\n",
      "../jobs_nobranch\\JOB202001158086775\\KJ_HDemodQH6 ---> 2020-01-16 00:41:14\n",
      "../jobs_nobranch\\JOB202001158086775\\KJ_HDemodQH6 ---> 2020-01-16 00:41:15\n",
      "../jobs_nobranch\\JOB202001158086775\\KJ_HDemodQH6 ---> 2020-01-16 00:41:16\n",
      "../jobs_nobranch\\JOB202001158086775\\KJ_HDemodQH6 ---> 2020-01-16 00:41:17\n",
      "../jobs_nobranch\\JOB202001158086775\\KJ_HDemodQH6 ---> 2020-01-16 00:41:18\n",
      "../jobs_nobranch\\JOB202001158086775\\KJ_HDemodQH6 ---> 2020-01-16 00:41:19\n",
      "../jobs_nobranch\\JOB202001158086775\\KJ_HDemodQH6 ---> 2020-01-16 00:41:20\n",
      "../jobs_nobranch\\JOB202001158086775\\KJ_HDemodQH6 ---> 2020-01-16 00:41:21\n",
      "../jobs_nobranch\\JOB202001158086775\\KJ_HDemodQH6 ---> 2020-01-16 00:41:22\n",
      "../jobs_nobranch\\JOB202001158086775\\KJ_HDemodQH6 ---> 2020-01-16 00:41:23\n",
      "../jobs_nobranch\\JOB202001158086775\\KJ_HDemodQH6 ---> 2020-01-16 00:41:25\n",
      "../jobs_nobranch\\JOB202001158086775\\KJ_HDemodQH6 ---> 2020-01-16 00:41:26\n",
      "../jobs_nobranch\\JOB202001158086775\\KJ_HDemodQH6 ---> 2020-01-16 00:41:27\n",
      "../jobs_nobranch\\JOB202001158086775\\KJ_HDemodQH6 ---> 2020-01-16 00:41:28\n",
      "../jobs_nobranch\\JOB202001158086775\\KJ_HDemodQH6 ---> 2020-01-16 00:41:29\n",
      "../jobs_nobranch\\JOB202001158086775\\KJ_HDemodQH6 ---> 2020-01-16 00:41:30\n",
      "../jobs_nobranch\\JOB202001158086775\\KJ_HDemodQH6 ---> 2020-01-16 00:41:31\n",
      "../jobs_nobranch\\JOB202001158086775\\KJ_HDemodQH6 ---> 2020-01-16 00:41:32\n",
      "../jobs_nobranch\\JOB202001158086775\\KJ_HDemodQH6 ---> 2020-01-16 00:41:33\n",
      "../jobs_nobranch\\JOB202001158086775\\KJ_HDemodQH6 ---> 2020-01-16 00:41:34\n",
      "../jobs_nobranch\\JOB202001158086775\\KJ_HDemodQH6 ---> 2020-01-16 00:41:35\n",
      "../jobs_nobranch\\JOB202001158086775\\KJ_HDemodQH6 ---> 2020-01-16 00:41:36\n",
      "../jobs_nobranch\\JOB202001158086775\\KJ_HDemodQH6 ---> 2020-01-16 00:41:37\n",
      "../jobs_nobranch\\JOB202001158086775\\KJ_HDemodQH6 ---> 2020-01-16 00:41:38\n",
      "../jobs_nobranch\\JOB202001158086775\\KJ_HDemodQH6 ---> 2020-01-16 00:41:40\n",
      "../jobs_nobranch\\JOB202001158086775\\KJ_HDemodQH6 ---> 2020-01-16 00:41:41\n",
      "../jobs_nobranch\\JOB202001158086775\\KJ_HDemodQH6 ---> 2020-01-16 00:41:42\n",
      "../jobs_nobranch\\JOB202001158086775\\KJ_HDemodQH6 ---> 2020-01-16 00:41:43\n",
      "../jobs_nobranch\\JOB202001158086775\\KJ_HDemodQH6 ---> 2020-01-16 00:41:44\n",
      "../jobs_nobranch\\JOB202001158086775\\KJ_HDemodQH6 ---> 2020-01-16 00:41:45\n",
      "../jobs_nobranch\\JOB202001158086775\\KJ_HDemodQH6 ---> 2020-01-16 00:41:46\n",
      "../jobs_nobranch\\JOB202001158086775\\KJ_HDemodQH6 ---> 2020-01-16 00:41:47\n",
      "../jobs_nobranch\\JOB202001158086775\\KJ_HDemodQH6 ---> 2020-01-16 00:41:48\n",
      "../jobs_nobranch\\JOB202001158086775\\KJ_HDemodQH6 ---> 2020-01-16 00:41:49\n"
     ]
    },
    {
     "name": "stdout",
     "output_type": "stream",
     "text": [
      "../jobs_nobranch\\JOB202001158086775\\KJ_HDemodQH6 ---> 2020-01-16 00:41:50\n",
      "../jobs_nobranch\\JOB202001158086775\\KJ_HDemodQH6 ---> 2020-01-16 00:41:51\n",
      "../jobs_nobranch\\JOB202001158086775\\KJ_HDemodQH6 ---> 2020-01-16 00:41:52\n",
      "../jobs_nobranch\\JOB202001158086775\\KJ_HDemodQH6 ---> 2020-01-16 00:41:53\n",
      "../jobs_nobranch\\JOB202001158086775\\KJ_HDemodQH6 ---> 2020-01-16 00:41:54\n",
      "../jobs_nobranch\\JOB202001158086775\\KJ_HDemodQH6 ---> 2020-01-16 00:41:56\n",
      "../jobs_nobranch\\JOB202001158086775\\KJ_HDemodQH6 ---> 2020-01-16 00:41:57\n",
      "../jobs_nobranch\\JOB202001158086775\\KJ_HDemodQH6 ---> 2020-01-16 00:41:58\n",
      "../jobs_nobranch\\JOB202001158086775\\KJ_HDemodQH6 ---> 2020-01-16 00:41:59\n",
      "../jobs_nobranch\\JOB202001158086775\\KJ_HDemodQH6 ---> 2020-01-16 00:42:00\n",
      "../jobs_nobranch\\JOB202001158086775\\KJ_HDemodQH6 ---> 2020-01-16 00:42:01\n",
      "../jobs_nobranch\\JOB202001158086775\\KJ_HDemodQH6 ---> 2020-01-16 00:42:02\n",
      "../jobs_nobranch\\JOB202001158086775\\KJ_HDemodQH6 ---> 2020-01-16 00:42:03\n",
      "../jobs_nobranch\\JOB202001158086775\\KJ_HDemodQH6 ---> 2020-01-16 00:42:04\n",
      "../jobs_nobranch\\JOB202001158086775\\KJ_HDemodQH6 ---> 2020-01-16 00:42:05\n",
      "../jobs_nobranch\\JOB202001158086775\\KJ_HDemodQH6 ---> 2020-01-16 00:42:06\n",
      "../jobs_nobranch\\JOB202001158086775\\KJ_HDemodQH6 ---> 2020-01-16 00:42:07\n",
      "../jobs_nobranch\\JOB202001158086775\\KJ_HDemodQH6 ---> 2020-01-16 00:42:08\n",
      "../jobs_nobranch\\JOB202001158086775\\KJ_HDemodQH6 ---> 2020-01-16 00:42:10\n",
      "../jobs_nobranch\\JOB202001158086775\\KJ_HDemodQH6 ---> 2020-01-16 00:42:11\n",
      "../jobs_nobranch\\JOB202001158086775\\KJ_HDemodQH6 ---> 2020-01-16 00:42:12\n",
      "../jobs_nobranch\\JOB202001158086775\\KJ_HDemodQH6 ---> 2020-01-16 00:42:13\n",
      "../jobs_nobranch\\JOB202001158086775\\KJ_HDemodQH6 ---> 2020-01-16 00:42:14\n",
      "../jobs_nobranch\\JOB202001158086775\\KJ_HDemodQH6 ---> 2020-01-16 00:42:15\n",
      "../jobs_nobranch\\JOB202001158086775\\KJ_HDemodQH6 ---> 2020-01-16 00:42:16\n",
      "../jobs_nobranch\\JOB202001158086775\\KJ_HDemodQH6 ---> 2020-01-16 00:42:17\n",
      "../jobs_nobranch\\JOB202001158086775\\KJ_HDemodQH6 ---> 2020-01-16 00:42:18\n",
      "../jobs_nobranch\\JOB202001158086775\\KJ_HDemodQH6 ---> 2020-01-16 00:42:19\n",
      "../jobs_nobranch\\JOB202001158086775\\KJ_HDemodQH6 ---> 2020-01-16 00:42:20\n",
      "../jobs_nobranch\\JOB202001158086775\\KJ_HDemodQH6 ---> 2020-01-16 00:42:21\n",
      "../jobs_nobranch\\JOB202001158086775\\KJ_HDemodQH6 ---> 2020-01-16 00:42:22\n",
      "../jobs_nobranch\\JOB202001158086775\\KJ_HDemodQH6 ---> 2020-01-16 00:42:24\n",
      "../jobs_nobranch\\JOB202001158086775\\KJ_HDemodQH6 ---> 2020-01-16 00:42:25\n",
      "../jobs_nobranch\\JOB202001158086775\\KJ_HDemodQH6 ---> 2020-01-16 00:42:26\n",
      "../jobs_nobranch\\JOB202001158086775\\KJ_HDemodQH6 ---> 2020-01-16 00:42:27\n",
      "../jobs_nobranch\\JOB202001158086775\\KJ_HDemodQH6 ---> 2020-01-16 00:42:28\n",
      "../jobs_nobranch\\JOB202001158086775\\KJ_HDemodQH6 ---> 2020-01-16 00:42:29\n",
      "../jobs_nobranch\\JOB202001158086775\\KJ_HDemodQH6 ---> 2020-01-16 00:42:30\n",
      "../jobs_nobranch\\JOB202001158086775\\KJ_HDemodQH6 ---> 2020-01-16 00:42:31\n",
      "../jobs_nobranch\\JOB202001158086775\\KJ_HDemodQH6 ---> 2020-01-16 00:42:32\n",
      "../jobs_nobranch\\JOB202001158086775\\KJ_HDemodQH6 ---> 2020-01-16 00:42:33\n",
      "../jobs_nobranch\\JOB202001158086775\\KJ_HDemodQH6 ---> 2020-01-16 00:42:34\n",
      "../jobs_nobranch\\JOB202001158086775\\KJ_HDemodQH6 ---> 2020-01-16 00:42:35\n",
      "../jobs_nobranch\\JOB202001158086775\\KJ_HDemodQH6 ---> 2020-01-16 00:42:36\n",
      "../jobs_nobranch\\JOB202001158086775\\KJ_HDemodQH6 ---> 2020-01-16 00:42:37\n",
      "../jobs_nobranch\\JOB202001158086775\\KJ_HDemodQH6 ---> 2020-01-16 00:42:38\n",
      "../jobs_nobranch\\JOB202001158086775\\KJ_HDemodQH6 ---> 2020-01-16 00:42:39\n",
      "../jobs_nobranch\\JOB202001158086775\\KJ_HDemodQH6 ---> 2020-01-16 00:42:41\n",
      "../jobs_nobranch\\JOB202001158086775\\KJ_HDemodQH6 ---> 2020-01-16 00:42:42\n",
      "../jobs_nobranch\\JOB202001158086775\\KJ_HDemodQH6 ---> 2020-01-16 00:42:43\n",
      "../jobs_nobranch\\JOB202001158086775\\KJ_HDemodQH6 ---> 2020-01-16 00:42:44\n",
      "../jobs_nobranch\\JOB202001158086775\\KJ_HDemodQH6 ---> 2020-01-16 00:42:45\n",
      "../jobs_nobranch\\JOB202001158086775\\KJ_HDemodQH6 ---> 2020-01-16 00:42:46\n",
      "../jobs_nobranch\\JOB202001158086775\\KJ_HDemodQH6 ---> 2020-01-16 00:42:47\n",
      "../jobs_nobranch\\JOB202001158086775\\KJ_HDemodQH6 ---> 2020-01-16 00:42:48\n",
      "../jobs_nobranch\\JOB202001158086775\\KJ_HDemodQH6 ---> 2020-01-16 00:42:49\n",
      "../jobs_nobranch\\JOB202001158086775\\KJ_HDemodQH6 ---> 2020-01-16 00:42:50\n",
      "../jobs_nobranch\\JOB202001158086775\\KJ_HDemodQH6 ---> 2020-01-16 00:42:51\n",
      "../jobs_nobranch\\JOB202001158086775\\KJ_HDemodQH6 ---> 2020-01-16 00:42:52\n",
      "../jobs_nobranch\\JOB202001158086775\\KJ_HDemodQH6 ---> 2020-01-16 00:42:53\n",
      "../jobs_nobranch\\JOB202001158086775\\KJ_HDemodQH6 ---> 2020-01-16 00:42:54\n",
      "../jobs_nobranch\\JOB202001158086775\\KJ_HDemodQH6 ---> 2020-01-16 00:42:55\n",
      "../jobs_nobranch\\JOB202001158086775\\KJ_HDemodQH6 ---> 2020-01-16 00:42:56\n",
      "../jobs_nobranch\\JOB202001158086775\\KJ_HDemodQH6 ---> 2020-01-16 00:42:58\n",
      "../jobs_nobranch\\JOB202001158086775\\KJ_HDemodQH6 ---> 2020-01-16 00:42:59\n",
      "../jobs_nobranch\\JOB202001158086775\\KJ_HDemodQH6 ---> 2020-01-16 00:43:00\n",
      "../jobs_nobranch\\JOB202001158086775\\KJ_HDemodQH6 ---> 2020-01-16 00:43:01\n",
      "../jobs_nobranch\\JOB202001158086775\\KJ_HDemodQH6 ---> 2020-01-16 00:43:02\n",
      "../jobs_nobranch\\JOB202001158086775\\KJ_HDemodQH6 ---> 2020-01-16 00:43:03\n",
      "../jobs_nobranch\\JOB202001158086775\\KJ_HDemodQH6 ---> 2020-01-16 00:43:04\n",
      "../jobs_nobranch\\JOB202001158086775\\KJ_HDemodQH6 ---> 2020-01-16 00:43:05\n",
      "../jobs_nobranch\\JOB202001158086775\\KJ_HDemodQH6 ---> 2020-01-16 00:43:06\n",
      "../jobs_nobranch\\JOB202001158086775\\KJ_HDemodQH6 ---> 2020-01-16 00:43:07\n",
      "../jobs_nobranch\\JOB202001158086775\\KJ_HDemodQH6 ---> 2020-01-16 00:43:08\n",
      "../jobs_nobranch\\JOB202001158086775\\KJ_HDemodQH6 ---> 2020-01-16 00:43:09\n",
      "../jobs_nobranch\\JOB202001158086775\\KJ_HDemodQH6 ---> 2020-01-16 00:43:10\n",
      "../jobs_nobranch\\JOB202001158086775\\KJ_HDemodQH6 ---> 2020-01-16 00:43:11\n",
      "../jobs_nobranch\\JOB202001158086775\\KJ_HDemodQH6 ---> 2020-01-16 00:43:12\n",
      "../jobs_nobranch\\JOB202001158086775\\KJ_HDemodQH6 ---> 2020-01-16 00:43:13\n",
      "../jobs_nobranch\\JOB202001158086775\\KJ_HDemodQH6 ---> 2020-01-16 00:43:14\n",
      "../jobs_nobranch\\JOB202001158086775\\KJ_HDemodQH6 ---> 2020-01-16 00:43:16\n",
      "../jobs_nobranch\\JOB202001158086775\\KJ_HDemodQH6 ---> 2020-01-16 00:43:17\n",
      "../jobs_nobranch\\JOB202001158086775\\KJ_HDemodQH6 ---> 2020-01-16 00:43:18\n",
      "../jobs_nobranch\\JOB202001158086775\\KJ_HDemodQH6 ---> 2020-01-16 00:43:19\n",
      "../jobs_nobranch\\JOB202001158086775\\KJ_HDemodQH6 ---> 2020-01-16 00:43:20\n",
      "../jobs_nobranch\\JOB202001158086775\\KJ_HDemodQH6 ---> 2020-01-16 00:43:21\n",
      "../jobs_nobranch\\JOB202001158086775\\KJ_HDemodQH6 ---> 2020-01-16 00:43:22\n",
      "../jobs_nobranch\\JOB202001158086775\\KJ_HDemodQH6 ---> 2020-01-16 00:43:23\n",
      "../jobs_nobranch\\JOB202001158086775\\KJ_HDemodQH6 ---> 2020-01-16 00:43:24\n",
      "../jobs_nobranch\\JOB202001158086775\\KJ_HDemodQH6 ---> 2020-01-16 00:43:25\n",
      "../jobs_nobranch\\JOB202001158086775\\KJ_HDemodQH6 ---> 2020-01-16 00:43:26\n",
      "../jobs_nobranch\\JOB202001158086775\\KJ_HDemodQH6 ---> 2020-01-16 00:43:27\n",
      "../jobs_nobranch\\JOB202001158086775\\KJ_HDemodQH6 ---> 2020-01-16 00:43:28\n",
      "../jobs_nobranch\\JOB202001158086775\\KJ_HDemodQH6 ---> 2020-01-16 00:43:29\n",
      "../jobs_nobranch\\JOB202001158086775\\KJ_HDemodQH6 ---> 2020-01-16 00:43:30\n",
      "../jobs_nobranch\\JOB202001158086775\\KJ_HDemodQH6 ---> 2020-01-16 00:43:31\n",
      "../jobs_nobranch\\JOB202001158086775\\KJ_HDemodQH6 ---> 2020-01-16 00:43:32\n",
      "../jobs_nobranch\\JOB202001158086775\\KJ_HDemodQH6 ---> 2020-01-16 00:43:34\n",
      "../jobs_nobranch\\JOB202001158086775\\KJ_HDemodQH6 ---> 2020-01-16 00:43:35\n",
      "../jobs_nobranch\\JOB202001158086775\\KJ_HDemodQH6 ---> 2020-01-16 00:43:36\n",
      "../jobs_nobranch\\JOB202001158086775\\KJ_HDemodQH6 ---> 2020-01-16 00:43:37\n",
      "../jobs_nobranch\\JOB202001158086775\\KJ_HDemodQH6 ---> 2020-01-16 00:43:38\n",
      "../jobs_nobranch\\JOB202001158086775\\KJ_HDemodQH6 ---> 2020-01-16 00:43:39\n",
      "../jobs_nobranch\\JOB202001158086775\\KJ_HDemodQH6 ---> 2020-01-16 00:43:40\n",
      "../jobs_nobranch\\JOB202001158086775\\KJ_HDemodQH6 ---> 2020-01-16 00:43:41\n",
      "../jobs_nobranch\\JOB202001158086775\\KJ_HDemodQH6 ---> 2020-01-16 00:43:42\n",
      "../jobs_nobranch\\JOB202001158086775\\KJ_HDemodQH6 ---> 2020-01-16 00:43:43\n",
      "../jobs_nobranch\\JOB202001158086775\\KJ_HDemodQH6 ---> 2020-01-16 00:43:44\n",
      "../jobs_nobranch\\JOB202001158086775\\KJ_HDemodQH6 ---> 2020-01-16 00:43:45\n",
      "../jobs_nobranch\\JOB202001158086775\\KJ_HDemodQH6 ---> 2020-01-16 00:43:46\n",
      "../jobs_nobranch\\JOB202001158086775\\KJ_HDemodQH6 ---> 2020-01-16 00:43:47\n",
      "../jobs_nobranch\\JOB202001158086775\\KJ_HDemodQH6 ---> 2020-01-16 00:43:48\n",
      "../jobs_nobranch\\JOB202001158086775\\KJ_HDemodQH6 ---> 2020-01-16 00:43:49\n",
      "../jobs_nobranch\\JOB202001158086775\\KJ_HDemodQH6 ---> 2020-01-16 00:43:50\n",
      "../jobs_nobranch\\JOB202001158086775\\KJ_HDemodQH6 ---> 2020-01-16 00:43:52\n",
      "../jobs_nobranch\\JOB202001158086775\\KJ_HDemodQH6 ---> 2020-01-16 00:43:53\n",
      "../jobs_nobranch\\JOB202001158086775\\KJ_HDemodQH6 ---> 2020-01-16 00:43:54\n",
      "../jobs_nobranch\\JOB202001158086775\\KJ_HDemodQH6 ---> 2020-01-16 00:43:55\n",
      "../jobs_nobranch\\JOB202001158086775\\KJ_HDemodQH6 ---> 2020-01-16 00:43:56\n",
      "../jobs_nobranch\\JOB202001158086775\\KJ_HDemodQH6 ---> 2020-01-16 00:43:57\n",
      "../jobs_nobranch\\JOB202001158086775\\KJ_HDemodQH6 ---> 2020-01-16 00:43:58\n",
      "../jobs_nobranch\\JOB202001158086775\\KJ_HDemodQH6 ---> 2020-01-16 00:43:59\n",
      "../jobs_nobranch\\JOB202001158086775\\KJ_HDemodQH6 ---> 2020-01-16 00:44:00\n",
      "../jobs_nobranch\\JOB202001158086775\\KJ_HDemodQH6 ---> 2020-01-16 00:44:01\n",
      "../jobs_nobranch\\JOB202001158086775\\KJ_HDemodQH6 ---> 2020-01-16 00:44:02\n",
      "../jobs_nobranch\\JOB202001158086775\\KJ_HDemodQH6 ---> 2020-01-16 00:44:03\n",
      "../jobs_nobranch\\JOB202001158086775\\KJ_HDemodQH6 ---> 2020-01-16 00:44:04\n",
      "../jobs_nobranch\\JOB202001158086775\\KJ_HDemodQH6 ---> 2020-01-16 00:44:05\n",
      "../jobs_nobranch\\JOB202001158086775\\KJ_HDemodQH6 ---> 2020-01-16 00:44:07\n",
      "../jobs_nobranch\\JOB202001158086775\\KJ_HDemodQH6 ---> 2020-01-16 00:44:08\n",
      "../jobs_nobranch\\JOB202001158086775\\KJ_HDemodQH6 ---> 2020-01-16 00:44:09\n",
      "../jobs_nobranch\\JOB202001158086775\\KJ_HDemodQH6 ---> 2020-01-16 00:44:10\n",
      "../jobs_nobranch\\JOB202001158086775\\KJ_HDemodQH6 ---> 2020-01-16 00:44:11\n",
      "../jobs_nobranch\\JOB202001158086775\\KJ_HDemodQH6 ---> 2020-01-16 00:44:12\n",
      "../jobs_nobranch\\JOB202001158086775\\KJ_HDemodQH6 ---> 2020-01-16 00:44:13\n",
      "../jobs_nobranch\\JOB202001158086775\\KJ_HDemodQH6 ---> 2020-01-16 00:44:14\n",
      "../jobs_nobranch\\JOB202001158086775\\KJ_HDemodQH6 ---> 2020-01-16 00:44:15\n",
      "../jobs_nobranch\\JOB202001158086775\\KJ_HDemodQH6 ---> 2020-01-16 00:44:16\n",
      "../jobs_nobranch\\JOB202001158086775\\KJ_HDemodQH6 ---> 2020-01-16 00:44:17\n",
      "../jobs_nobranch\\JOB202001158086775\\KJ_HDemodQH6 ---> 2020-01-16 00:44:18\n",
      "../jobs_nobranch\\JOB202001158086775\\KJ_HDemodQH6 ---> 2020-01-16 00:44:19\n",
      "../jobs_nobranch\\JOB202001158086775\\KJ_HDemodQH6 ---> 2020-01-16 00:44:20\n",
      "../jobs_nobranch\\JOB202001158086775\\KJ_HDemodQH6 ---> 2020-01-16 00:44:21\n",
      "../jobs_nobranch\\JOB202001158086775\\KJ_HDemodQH6 ---> 2020-01-16 00:44:22\n",
      "../jobs_nobranch\\JOB202001158086775\\KJ_HDemodQH6 ---> 2020-01-16 00:44:24\n",
      "../jobs_nobranch\\JOB202001158086775\\KJ_HDemodQH6 ---> 2020-01-16 00:44:25\n",
      "../jobs_nobranch\\JOB202001158086775\\KJ_HDemodQH6 ---> 2020-01-16 00:44:26\n",
      "../jobs_nobranch\\JOB202001158086775\\KJ_HDemodQH6 ---> 2020-01-16 00:44:27\n",
      "../jobs_nobranch\\JOB202001158086775\\KJ_HDemodQH6 ---> 2020-01-16 00:44:28\n",
      "../jobs_nobranch\\JOB202001158086775\\KJ_HDemodQH6 ---> 2020-01-16 00:44:29\n",
      "../jobs_nobranch\\JOB202001158086775\\KJ_HDemodQH6 ---> 2020-01-16 00:44:30\n",
      "../jobs_nobranch\\JOB202001158086775\\KJ_HDemodQH6 ---> 2020-01-16 00:44:31\n",
      "../jobs_nobranch\\JOB202001158086775\\KJ_HDemodQH6 ---> 2020-01-16 00:44:32\n",
      "../jobs_nobranch\\JOB202001158086775\\KJ_HDemodQH6 ---> 2020-01-16 00:44:33\n",
      "../jobs_nobranch\\JOB202001158086775\\KJ_HDemodQH6 ---> 2020-01-16 00:44:34\n",
      "../jobs_nobranch\\JOB202001158086775\\KJ_HDemodQH6 ---> 2020-01-16 00:44:35\n",
      "../jobs_nobranch\\JOB202001158086775\\KJ_HDemodQH6 ---> 2020-01-16 00:44:36\n",
      "../jobs_nobranch\\JOB202001158086775\\KJ_HDemodQH6 ---> 2020-01-16 00:44:37\n",
      "../jobs_nobranch\\JOB202001158086775\\KJ_HDemodQH6 ---> 2020-01-16 00:44:38\n",
      "../jobs_nobranch\\JOB202001158086775\\KJ_HDemodQH6 ---> 2020-01-16 00:44:39\n",
      "../jobs_nobranch\\JOB202001158086775\\KJ_HDemodQH6 ---> 2020-01-16 00:44:40\n",
      "../jobs_nobranch\\JOB202001158086775\\KJ_HDemodQH6 ---> 2020-01-16 00:44:41\n",
      "../jobs_nobranch\\JOB202001158086775\\KJ_HDemodQH6 ---> 2020-01-16 00:44:43\n",
      "../jobs_nobranch\\JOB202001158086775\\KJ_HDemodQH6 ---> 2020-01-16 00:44:44\n",
      "../jobs_nobranch\\JOB202001158086775\\KJ_HDemodQH6 ---> 2020-01-16 00:44:45\n",
      "../jobs_nobranch\\JOB202001158086775\\KJ_HDemodQH6 ---> 2020-01-16 00:44:46\n",
      "../jobs_nobranch\\JOB202001158086775\\KJ_HDemodQH6 ---> 2020-01-16 00:44:47\n",
      "../jobs_nobranch\\JOB202001158086775\\KJ_HDemodQH6 ---> 2020-01-16 00:44:48\n",
      "../jobs_nobranch\\JOB202001158086775\\KJ_HDemodQH6 ---> 2020-01-16 00:44:49\n",
      "../jobs_nobranch\\JOB202001158086775\\KJ_HDemodQH6 ---> 2020-01-16 00:44:50\n",
      "../jobs_nobranch\\JOB202001158086775\\KJ_HDemodQH6 ---> 2020-01-16 00:44:51\n",
      "../jobs_nobranch\\JOB202001158086775\\KJ_HDemodQH6 ---> 2020-01-16 00:44:52\n",
      "../jobs_nobranch\\JOB202001158086775\\KJ_HDemodQH6 ---> 2020-01-16 00:44:53\n",
      "../jobs_nobranch\\JOB202001158086775\\KJ_HDemodQH6 ---> 2020-01-16 00:44:54\n",
      "../jobs_nobranch\\JOB202001158086775\\KJ_HDemodQH6 ---> 2020-01-16 00:44:55\n",
      "../jobs_nobranch\\JOB202001158086775\\KJ_HDemodQH6 ---> 2020-01-16 00:44:56\n",
      "../jobs_nobranch\\JOB202001158086775\\KJ_HDemodQH6 ---> 2020-01-16 00:44:57\n",
      "../jobs_nobranch\\JOB202001158086775\\KJ_HDemodQH6 ---> 2020-01-16 00:44:58\n",
      "../jobs_nobranch\\JOB202001158086775\\KJ_HDemodQH6 ---> 2020-01-16 00:44:59\n",
      "../jobs_nobranch\\JOB202001158086775\\KJ_HDemodQH6 ---> 2020-01-16 00:45:00\n",
      "../jobs_nobranch\\JOB202001158086775\\KJ_HDemodQH6 ---> 2020-01-16 00:45:02\n",
      "../jobs_nobranch\\JOB202001158086775\\KJ_HDemodQH6 ---> 2020-01-16 00:45:03\n",
      "../jobs_nobranch\\JOB202001158086775\\KJ_HDemodQH6 ---> 2020-01-16 00:45:04\n",
      "../jobs_nobranch\\JOB202001163324240\\KJ_HDemodQH1 ---> 2020-01-16 14:55:19\n",
      "../jobs_nobranch\\JOB202001163324240\\KJ_HDemodQH1 ---> 2020-01-16 14:55:20\n",
      "../jobs_nobranch\\JOB202001163324240\\KJ_HDemodQH1 ---> 2020-01-16 14:55:22\n",
      "../jobs_nobranch\\JOB202001163324240\\KJ_HDemodQH1 ---> 2020-01-16 14:55:23\n",
      "../jobs_nobranch\\JOB202001163324240\\KJ_HDemodQH1 ---> 2020-01-16 14:55:24\n",
      "../jobs_nobranch\\JOB202001163324240\\KJ_HDemodQH1 ---> 2020-01-16 14:55:26\n",
      "../jobs_nobranch\\JOB202001163324240\\KJ_HDemodQH1 ---> 2020-01-16 14:55:27\n",
      "../jobs_nobranch\\JOB202001163324240\\KJ_HDemodQH1 ---> 2020-01-16 14:55:29\n",
      "../jobs_nobranch\\JOB202001163324240\\KJ_HDemodQH1 ---> 2020-01-16 14:55:30\n",
      "../jobs_nobranch\\JOB202001163324240\\KJ_HDemodQH1 ---> 2020-01-16 14:55:31\n",
      "../jobs_nobranch\\JOB202001163324240\\KJ_HDemodQH1 ---> 2020-01-16 14:55:32\n",
      "../jobs_nobranch\\JOB202001163324240\\KJ_HDemodQH1 ---> 2020-01-16 14:55:33\n",
      "../jobs_nobranch\\JOB202001163324240\\KJ_HDemodQH1 ---> 2020-01-16 14:55:34\n",
      "../jobs_nobranch\\JOB202001163324240\\KJ_HDemodQH1 ---> 2020-01-16 14:55:35\n",
      "../jobs_nobranch\\JOB202001163324240\\KJ_HDemodQH1 ---> 2020-01-16 14:55:36\n",
      "../jobs_nobranch\\JOB202001163324240\\KJ_HDemodQH1 ---> 2020-01-16 14:55:37\n",
      "../jobs_nobranch\\JOB202001163324240\\KJ_HDemodQH1 ---> 2020-01-16 14:55:38\n",
      "../jobs_nobranch\\JOB202001163324240\\KJ_HDemodQH1 ---> 2020-01-16 14:55:40\n",
      "../jobs_nobranch\\JOB202001163324240\\KJ_HDemodQH1 ---> 2020-01-16 14:55:41\n",
      "../jobs_nobranch\\JOB202001163324240\\KJ_HDemodQH1 ---> 2020-01-16 14:55:42\n",
      "../jobs_nobranch\\JOB202001163324240\\KJ_HDemodQH1 ---> 2020-01-16 14:55:43\n",
      "../jobs_nobranch\\JOB202001163324240\\KJ_HDemodQH1 ---> 2020-01-16 14:55:44\n",
      "../jobs_nobranch\\JOB202001163324240\\KJ_HDemodQH1 ---> 2020-01-16 14:55:46\n",
      "../jobs_nobranch\\JOB202001163324240\\KJ_HDemodQH1 ---> 2020-01-16 14:55:50\n",
      "../jobs_nobranch\\JOB202001163324240\\KJ_HDemodQH1 ---> 2020-01-16 14:55:53\n",
      "../jobs_nobranch\\JOB202001163324240\\KJ_HDemodQH1 ---> 2020-01-16 14:55:54\n",
      "../jobs_nobranch\\JOB202001163324240\\KJ_HDemodQH1 ---> 2020-01-16 14:55:56\n",
      "../jobs_nobranch\\JOB202001163324240\\KJ_HDemodQH1 ---> 2020-01-16 14:55:57\n",
      "../jobs_nobranch\\JOB202001163324240\\KJ_HDemodQH1 ---> 2020-01-16 14:55:58\n",
      "../jobs_nobranch\\JOB202001163324240\\KJ_HDemodQH1 ---> 2020-01-16 14:55:59\n",
      "../jobs_nobranch\\JOB202001163324240\\KJ_HDemodQH1 ---> 2020-01-16 14:56:00\n",
      "../jobs_nobranch\\JOB202001163324240\\KJ_HDemodQH1 ---> 2020-01-16 14:56:02\n",
      "../jobs_nobranch\\JOB202001163324240\\KJ_HDemodQH1 ---> 2020-01-16 14:56:03\n",
      "../jobs_nobranch\\JOB202001163324240\\KJ_HDemodQH1 ---> 2020-01-16 14:56:04\n",
      "../jobs_nobranch\\JOB202001163324240\\KJ_HDemodQH1 ---> 2020-01-16 14:56:06\n",
      "../jobs_nobranch\\JOB202001163324240\\KJ_HDemodQH1 ---> 2020-01-16 14:56:08\n",
      "../jobs_nobranch\\JOB202001163324240\\KJ_HDemodQH1 ---> 2020-01-16 15:05:26\n",
      "../jobs_nobranch\\JOB202001163324240\\KJ_HDemodQH1 ---> 2020-01-16 15:05:29\n",
      "../jobs_nobranch\\JOB202001163324240\\KJ_HDemodQH1 ---> 2020-01-16 15:05:30\n",
      "../jobs_nobranch\\JOB202001163324240\\KJ_HDemodQH2 ---> 2020-01-16 14:55:19\n",
      "../jobs_nobranch\\JOB202001163324240\\KJ_HDemodQH2 ---> 2020-01-16 14:55:21\n",
      "../jobs_nobranch\\JOB202001163324240\\KJ_HDemodQH2 ---> 2020-01-16 14:55:22\n",
      "../jobs_nobranch\\JOB202001163324240\\KJ_HDemodQH2 ---> 2020-01-16 14:55:23\n",
      "../jobs_nobranch\\JOB202001163324240\\KJ_HDemodQH2 ---> 2020-01-16 14:55:25\n",
      "../jobs_nobranch\\JOB202001163324240\\KJ_HDemodQH2 ---> 2020-01-16 14:55:27\n",
      "../jobs_nobranch\\JOB202001163324240\\KJ_HDemodQH2 ---> 2020-01-16 14:55:28\n",
      "../jobs_nobranch\\JOB202001163324240\\KJ_HDemodQH2 ---> 2020-01-16 14:55:29\n",
      "../jobs_nobranch\\JOB202001163324240\\KJ_HDemodQH2 ---> 2020-01-16 14:55:31\n",
      "../jobs_nobranch\\JOB202001163324240\\KJ_HDemodQH2 ---> 2020-01-16 14:55:33\n",
      "../jobs_nobranch\\JOB202001163324240\\KJ_HDemodQH2 ---> 2020-01-16 14:55:35\n",
      "../jobs_nobranch\\JOB202001163324240\\KJ_HDemodQH2 ---> 2020-01-16 14:55:36\n",
      "../jobs_nobranch\\JOB202001163324240\\KJ_HDemodQH2 ---> 2020-01-16 14:55:37\n",
      "../jobs_nobranch\\JOB202001163324240\\KJ_HDemodQH2 ---> 2020-01-16 14:55:38\n",
      "../jobs_nobranch\\JOB202001163324240\\KJ_HDemodQH2 ---> 2020-01-16 14:55:39\n",
      "../jobs_nobranch\\JOB202001163324240\\KJ_HDemodQH2 ---> 2020-01-16 14:55:41\n",
      "../jobs_nobranch\\JOB202001163324240\\KJ_HDemodQH2 ---> 2020-01-16 14:55:42\n",
      "../jobs_nobranch\\JOB202001163324240\\KJ_HDemodQH2 ---> 2020-01-16 14:55:45\n",
      "../jobs_nobranch\\JOB202001163324240\\KJ_HDemodQH2 ---> 2020-01-16 14:55:46\n",
      "../jobs_nobranch\\JOB202001163324240\\KJ_HDemodQH2 ---> 2020-01-16 14:55:47\n",
      "../jobs_nobranch\\JOB202001163324240\\KJ_HDemodQH2 ---> 2020-01-16 14:55:49\n",
      "../jobs_nobranch\\JOB202001163324240\\KJ_HDemodQH2 ---> 2020-01-16 14:55:52\n",
      "../jobs_nobranch\\JOB202001163324240\\KJ_HDemodQH2 ---> 2020-01-16 14:55:53\n",
      "../jobs_nobranch\\JOB202001163324240\\KJ_HDemodQH2 ---> 2020-01-16 14:55:55\n",
      "../jobs_nobranch\\JOB202001163324240\\KJ_HDemodQH2 ---> 2020-01-16 14:56:02\n",
      "../jobs_nobranch\\JOB202001163324240\\KJ_HDemodQH2 ---> 2020-01-16 14:56:03\n",
      "../jobs_nobranch\\JOB202001163324240\\KJ_HDemodQH2 ---> 2020-01-16 14:56:05\n",
      "../jobs_nobranch\\JOB202001163324240\\KJ_HDemodQH2 ---> 2020-01-16 14:56:07\n",
      "../jobs_nobranch\\JOB202001163324240\\KJ_HDemodQH2 ---> 2020-01-16 14:56:08\n",
      "../jobs_nobranch\\JOB202001163324240\\KJ_HDemodQH2 ---> 2020-01-16 14:56:09\n",
      "../jobs_nobranch\\JOB202001163324240\\KJ_HDemodQH2 ---> 2020-01-16 15:05:29\n"
     ]
    }
   ],
   "source": [
    "# 读入所有的训练样本，从而通过shape属性得到训练集大小，存入全局变量中\n",
    "listPreprocessedAbnormalSamples = []\n",
    "for strJob in os.listdir(strJobsDir):\n",
    "    strJobDir = os.path.join(strJobsDir, strJob)\n",
    "    listDemodDirs = fn_getDemodDirsOfAJob(strJobDir)\n",
    "    for strDemodDir in listDemodDirs:\n",
    "        strPreprocessedAbnormalSamplesFile = os.path.join(strDemodDir, \\\n",
    "                                                   \"parts/sync/input/samples/abnormal/preprocessed/samples.csv\")\n",
    "        pdDfPreprocessedAbnormalSamples = pd.read_csv(strPreprocessedAbnormalSamplesFile, index_col=\"RECTIME\")\n",
    "            \n",
    "        for row in pdDfPreprocessedAbnormalSamples.index:\n",
    "            point = pdDfPreprocessedAbnormalSamples.loc[row, :]\n",
    "            if point[0] > 0.0 and point[0] < 0.5:\n",
    "                print(strDemodDir, \"--->\", row)\n",
    "        listPreprocessedAbnormalSamples.append(pdDfPreprocessedAbnormalSamples)\n",
    "pdDfPreprocessedAbnormalSamples = pd.concat(listPreprocessedAbnormalSamples, ignore_index=True)\n",
    "g_tensorAbnormalSamples = tf.constant(pdDfPreprocessedAbnormalSamples.values, dtype=tf.float32)"
   ]
  },
  {
   "cell_type": "markdown",
   "metadata": {},
   "source": [
    "### 训练"
   ]
  },
  {
   "cell_type": "code",
   "execution_count": 46,
   "metadata": {},
   "outputs": [],
   "source": [
    "# g_nTrainingSize在中频控制已经设置好了\n",
    "g_nEpochs = 10000\n",
    "nSteps = g_nEpochs * g_nTrainingSize // g_nBatchSize\n",
    "oExponentialDecay = tf.keras.optimizers.schedules.ExponentialDecay(1e-2, nSteps, 1e-1)\n",
    "oOptimizerG = tf.keras.optimizers.Adam(learning_rate=oExponentialDecay)\n",
    "oOptimizerD = tf.keras.optimizers.SGD(learning_rate=oExponentialDecay)"
   ]
  },
  {
   "cell_type": "code",
   "execution_count": 47,
   "metadata": {},
   "outputs": [],
   "source": [
    "strD = \"(2,1)_D_long\"\n",
    "strA = \"(2,1)_A_long\"\n",
    "strRootDir = \"logs/nobranch/sync/input\"\n",
    "strDDir = os.path.join(strRootDir, strD)\n",
    "strADir = os.path.join(strRootDir, strA)\n",
    "if os.path.exists(strDDir):\n",
    "    shutil.rmtree(strDDir)\n",
    "if os.path.exists(strADir):\n",
    "    shutil.rmtree(strADir)"
   ]
  },
  {
   "cell_type": "code",
   "execution_count": 48,
   "metadata": {},
   "outputs": [],
   "source": [
    "oSummaryWriterDLoss = tf.summary.create_file_writer(strDDir)\n",
    "oSummaryWriterALoss = tf.summary.create_file_writer(strADir)"
   ]
  },
  {
   "cell_type": "code",
   "execution_count": 49,
   "metadata": {},
   "outputs": [
    {
     "name": "stdout",
     "output_type": "stream",
     "text": [
      "265/10000"
     ]
    },
    {
     "ename": "KeyboardInterrupt",
     "evalue": "",
     "output_type": "error",
     "traceback": [
      "\u001b[1;31m---------------------------------------------------------------------------\u001b[0m",
      "\u001b[1;31mKeyboardInterrupt\u001b[0m                         Traceback (most recent call last)",
      "\u001b[1;32m<ipython-input-49-550e66f5f928>\u001b[0m in \u001b[0;36m<module>\u001b[1;34m\u001b[0m\n\u001b[0;32m      2\u001b[0m \u001b[0moSeqGd\u001b[0m \u001b[1;33m=\u001b[0m \u001b[1;32mNone\u001b[0m\u001b[1;33m\u001b[0m\u001b[1;33m\u001b[0m\u001b[0m\n\u001b[0;32m      3\u001b[0m \u001b[0moSeqGe1\u001b[0m \u001b[1;33m=\u001b[0m \u001b[1;32mNone\u001b[0m\u001b[1;33m\u001b[0m\u001b[1;33m\u001b[0m\u001b[0m\n\u001b[1;32m----> 4\u001b[1;33m \u001b[0mfn_train\u001b[0m\u001b[1;33m(\u001b[0m\u001b[0moGANinput\u001b[0m\u001b[1;33m)\u001b[0m\u001b[1;33m\u001b[0m\u001b[1;33m\u001b[0m\u001b[0m\n\u001b[0m",
      "\u001b[1;32m<ipython-input-23-3855d8924bd9>\u001b[0m in \u001b[0;36mfn_train\u001b[1;34m(oGAN)\u001b[0m\n\u001b[0;32m     45\u001b[0m             \u001b[0mtensorDLoss\u001b[0m \u001b[1;33m=\u001b[0m \u001b[0mtensorDLossR\u001b[0m \u001b[1;33m+\u001b[0m \u001b[0mtensorDLossF\u001b[0m\u001b[1;33m\u001b[0m\u001b[1;33m\u001b[0m\u001b[0m\n\u001b[0;32m     46\u001b[0m             \u001b[1;32mwith\u001b[0m \u001b[0moSummaryWriterDLoss\u001b[0m\u001b[1;33m.\u001b[0m\u001b[0mas_default\u001b[0m\u001b[1;33m(\u001b[0m\u001b[1;33m)\u001b[0m\u001b[1;33m:\u001b[0m\u001b[1;33m\u001b[0m\u001b[1;33m\u001b[0m\u001b[0m\n\u001b[1;32m---> 47\u001b[1;33m                 \u001b[0mtf\u001b[0m\u001b[1;33m.\u001b[0m\u001b[0msummary\u001b[0m\u001b[1;33m.\u001b[0m\u001b[0mscalar\u001b[0m\u001b[1;33m(\u001b[0m\u001b[1;34m\"D_Loss\"\u001b[0m\u001b[1;33m,\u001b[0m \u001b[0mtensorDLoss\u001b[0m\u001b[1;33m,\u001b[0m \u001b[0mg_nStep\u001b[0m\u001b[1;33m)\u001b[0m\u001b[1;33m\u001b[0m\u001b[1;33m\u001b[0m\u001b[0m\n\u001b[0m\u001b[0;32m     48\u001b[0m \u001b[1;33m\u001b[0m\u001b[0m\n\u001b[0;32m     49\u001b[0m             \u001b[1;31m# Train genertor\u001b[0m\u001b[1;33m\u001b[0m\u001b[1;33m\u001b[0m\u001b[1;33m\u001b[0m\u001b[0m\n",
      "\u001b[1;32mf:\\python\\python37\\Lib\\contextlib.py\u001b[0m in \u001b[0;36m__exit__\u001b[1;34m(self, type, value, traceback)\u001b[0m\n\u001b[0;32m    117\u001b[0m         \u001b[1;32mif\u001b[0m \u001b[0mtype\u001b[0m \u001b[1;32mis\u001b[0m \u001b[1;32mNone\u001b[0m\u001b[1;33m:\u001b[0m\u001b[1;33m\u001b[0m\u001b[1;33m\u001b[0m\u001b[0m\n\u001b[0;32m    118\u001b[0m             \u001b[1;32mtry\u001b[0m\u001b[1;33m:\u001b[0m\u001b[1;33m\u001b[0m\u001b[1;33m\u001b[0m\u001b[0m\n\u001b[1;32m--> 119\u001b[1;33m                 \u001b[0mnext\u001b[0m\u001b[1;33m(\u001b[0m\u001b[0mself\u001b[0m\u001b[1;33m.\u001b[0m\u001b[0mgen\u001b[0m\u001b[1;33m)\u001b[0m\u001b[1;33m\u001b[0m\u001b[1;33m\u001b[0m\u001b[0m\n\u001b[0m\u001b[0;32m    120\u001b[0m             \u001b[1;32mexcept\u001b[0m \u001b[0mStopIteration\u001b[0m\u001b[1;33m:\u001b[0m\u001b[1;33m\u001b[0m\u001b[1;33m\u001b[0m\u001b[0m\n\u001b[0;32m    121\u001b[0m                 \u001b[1;32mreturn\u001b[0m \u001b[1;32mFalse\u001b[0m\u001b[1;33m\u001b[0m\u001b[1;33m\u001b[0m\u001b[0m\n",
      "\u001b[1;32md:\\py_virtualenv\\lib\\site-packages\\tensorflow_core\\python\\ops\\summary_ops_v2.py\u001b[0m in \u001b[0;36mas_default\u001b[1;34m(self)\u001b[0m\n\u001b[0;32m    237\u001b[0m       \u001b[1;31m# Flushes the summary writer in eager mode or in graph functions, but\u001b[0m\u001b[1;33m\u001b[0m\u001b[1;33m\u001b[0m\u001b[1;33m\u001b[0m\u001b[0m\n\u001b[0;32m    238\u001b[0m       \u001b[1;31m# not in legacy graph mode (you're on your own there).\u001b[0m\u001b[1;33m\u001b[0m\u001b[1;33m\u001b[0m\u001b[1;33m\u001b[0m\u001b[0m\n\u001b[1;32m--> 239\u001b[1;33m       \u001b[0mself\u001b[0m\u001b[1;33m.\u001b[0m\u001b[0mflush\u001b[0m\u001b[1;33m(\u001b[0m\u001b[1;33m)\u001b[0m\u001b[1;33m\u001b[0m\u001b[1;33m\u001b[0m\u001b[0m\n\u001b[0m\u001b[0;32m    240\u001b[0m     \u001b[1;32mfinally\u001b[0m\u001b[1;33m:\u001b[0m\u001b[1;33m\u001b[0m\u001b[1;33m\u001b[0m\u001b[0m\n\u001b[0;32m    241\u001b[0m       \u001b[0mcontext\u001b[0m\u001b[1;33m.\u001b[0m\u001b[0mcontext\u001b[0m\u001b[1;33m(\u001b[0m\u001b[1;33m)\u001b[0m\u001b[1;33m.\u001b[0m\u001b[0msummary_writer\u001b[0m \u001b[1;33m=\u001b[0m \u001b[0mold\u001b[0m\u001b[1;33m\u001b[0m\u001b[1;33m\u001b[0m\u001b[0m\n",
      "\u001b[1;32md:\\py_virtualenv\\lib\\site-packages\\tensorflow_core\\python\\ops\\summary_ops_v2.py\u001b[0m in \u001b[0;36mflush\u001b[1;34m(self)\u001b[0m\n\u001b[0;32m    254\u001b[0m     \u001b[1;32mif\u001b[0m \u001b[0mself\u001b[0m\u001b[1;33m.\u001b[0m\u001b[0m_v2\u001b[0m \u001b[1;32mand\u001b[0m \u001b[0mcontext\u001b[0m\u001b[1;33m.\u001b[0m\u001b[0mexecuting_eagerly\u001b[0m\u001b[1;33m(\u001b[0m\u001b[1;33m)\u001b[0m \u001b[1;32mand\u001b[0m \u001b[0mself\u001b[0m\u001b[1;33m.\u001b[0m\u001b[0m_closed\u001b[0m\u001b[1;33m:\u001b[0m\u001b[1;33m\u001b[0m\u001b[1;33m\u001b[0m\u001b[0m\n\u001b[0;32m    255\u001b[0m       \u001b[1;32mreturn\u001b[0m\u001b[1;33m\u001b[0m\u001b[1;33m\u001b[0m\u001b[0m\n\u001b[1;32m--> 256\u001b[1;33m     \u001b[1;32mreturn\u001b[0m \u001b[0m_flush_fn\u001b[0m\u001b[1;33m(\u001b[0m\u001b[0mwriter\u001b[0m\u001b[1;33m=\u001b[0m\u001b[0mself\u001b[0m\u001b[1;33m)\u001b[0m\u001b[1;33m\u001b[0m\u001b[1;33m\u001b[0m\u001b[0m\n\u001b[0m\u001b[0;32m    257\u001b[0m \u001b[1;33m\u001b[0m\u001b[0m\n\u001b[0;32m    258\u001b[0m   \u001b[1;32mdef\u001b[0m \u001b[0mclose\u001b[0m\u001b[1;33m(\u001b[0m\u001b[0mself\u001b[0m\u001b[1;33m)\u001b[0m\u001b[1;33m:\u001b[0m\u001b[1;33m\u001b[0m\u001b[1;33m\u001b[0m\u001b[0m\n",
      "\u001b[1;32md:\\py_virtualenv\\lib\\site-packages\\tensorflow_core\\python\\ops\\summary_ops_v2.py\u001b[0m in \u001b[0;36mflush\u001b[1;34m(writer, name)\u001b[0m\n\u001b[0;32m    930\u001b[0m     \u001b[0mresource\u001b[0m \u001b[1;33m=\u001b[0m \u001b[0mwriter\u001b[0m\u001b[1;33m\u001b[0m\u001b[1;33m\u001b[0m\u001b[0m\n\u001b[0;32m    931\u001b[0m   \u001b[1;32mwith\u001b[0m \u001b[0mops\u001b[0m\u001b[1;33m.\u001b[0m\u001b[0mdevice\u001b[0m\u001b[1;33m(\u001b[0m\u001b[1;34m\"cpu:0\"\u001b[0m\u001b[1;33m)\u001b[0m\u001b[1;33m:\u001b[0m\u001b[1;33m\u001b[0m\u001b[1;33m\u001b[0m\u001b[0m\n\u001b[1;32m--> 932\u001b[1;33m     \u001b[1;32mreturn\u001b[0m \u001b[0mgen_summary_ops\u001b[0m\u001b[1;33m.\u001b[0m\u001b[0mflush_summary_writer\u001b[0m\u001b[1;33m(\u001b[0m\u001b[0mresource\u001b[0m\u001b[1;33m,\u001b[0m \u001b[0mname\u001b[0m\u001b[1;33m=\u001b[0m\u001b[0mname\u001b[0m\u001b[1;33m)\u001b[0m\u001b[1;33m\u001b[0m\u001b[1;33m\u001b[0m\u001b[0m\n\u001b[0m\u001b[0;32m    933\u001b[0m \u001b[1;33m\u001b[0m\u001b[0m\n\u001b[0;32m    934\u001b[0m \u001b[1;33m\u001b[0m\u001b[0m\n",
      "\u001b[1;32md:\\py_virtualenv\\lib\\site-packages\\tensorflow_core\\python\\ops\\gen_summary_ops.py\u001b[0m in \u001b[0;36mflush_summary_writer\u001b[1;34m(writer, name)\u001b[0m\n\u001b[0;32m    241\u001b[0m       _result = _pywrap_tensorflow.TFE_Py_FastPathExecute(\n\u001b[0;32m    242\u001b[0m         \u001b[0m_ctx\u001b[0m\u001b[1;33m.\u001b[0m\u001b[0m_context_handle\u001b[0m\u001b[1;33m,\u001b[0m \u001b[0m_ctx\u001b[0m\u001b[1;33m.\u001b[0m\u001b[0m_thread_local_data\u001b[0m\u001b[1;33m.\u001b[0m\u001b[0mdevice_name\u001b[0m\u001b[1;33m,\u001b[0m\u001b[1;33m\u001b[0m\u001b[1;33m\u001b[0m\u001b[0m\n\u001b[1;32m--> 243\u001b[1;33m         \"FlushSummaryWriter\", name, _ctx._post_execution_callbacks, writer)\n\u001b[0m\u001b[0;32m    244\u001b[0m       \u001b[1;32mreturn\u001b[0m \u001b[0m_result\u001b[0m\u001b[1;33m\u001b[0m\u001b[1;33m\u001b[0m\u001b[0m\n\u001b[0;32m    245\u001b[0m     \u001b[1;32mexcept\u001b[0m \u001b[0m_core\u001b[0m\u001b[1;33m.\u001b[0m\u001b[0m_FallbackException\u001b[0m\u001b[1;33m:\u001b[0m\u001b[1;33m\u001b[0m\u001b[1;33m\u001b[0m\u001b[0m\n",
      "\u001b[1;31mKeyboardInterrupt\u001b[0m: "
     ]
    }
   ],
   "source": [
    "oSeqGe = None\n",
    "oSeqGd = None\n",
    "oSeqGe1 = None\n",
    "fn_train(oGANinput)"
   ]
  },
  {
   "cell_type": "markdown",
   "metadata": {},
   "source": [
    "保存模型"
   ]
  },
  {
   "cell_type": "code",
   "execution_count": 32,
   "metadata": {},
   "outputs": [],
   "source": [
    "strGe = \"Ge.h5\"\n",
    "strGd = \"Gd.h5\"\n",
    "strGe1 = \"Ge1.h5\"\n",
    "strRootDir = \"models/nobranch/sync/input\"\n",
    "strModelsDir = os.path.join(strRootDir, \"(2,1)\")\n",
    "strGeFile = os.path.join(strModelsDir, strGe)\n",
    "strGdFile = os.path.join(strModelsDir, strGd)\n",
    "strGe1File = os.path.join(strModelsDir, strGe1)"
   ]
  },
  {
   "cell_type": "code",
   "execution_count": 33,
   "metadata": {},
   "outputs": [],
   "source": [
    "if os.path.exists(strModelsDir):\n",
    "    shutil.rmtree(strModelsDir)\n",
    "os.mkdir(strModelsDir)"
   ]
  },
  {
   "cell_type": "code",
   "execution_count": 34,
   "metadata": {},
   "outputs": [],
   "source": [
    "oSeqGe.save(strGeFile)\n",
    "oSeqGd.save(strGdFile)\n",
    "oSeqGe1.save(strGe1File)"
   ]
  },
  {
   "cell_type": "markdown",
   "metadata": {},
   "source": [
    "### 评估\n",
    "然后利用训练好的模型算出测试集样本的分数，存档。"
   ]
  },
  {
   "cell_type": "markdown",
   "metadata": {},
   "source": [
    "从文件夹中载入训练好的模型。\n",
    "\n",
    "遍历每个解调器的测试集，将相应的分数存入preprocessed/scores.csv中"
   ]
  },
  {
   "cell_type": "code",
   "execution_count": 35,
   "metadata": {},
   "outputs": [
    {
     "name": "stdout",
     "output_type": "stream",
     "text": [
      "WARNING:tensorflow:No training configuration found in save file: the model was *not* compiled. Compile it manually.\n",
      "WARNING:tensorflow:No training configuration found in save file: the model was *not* compiled. Compile it manually.\n",
      "WARNING:tensorflow:No training configuration found in save file: the model was *not* compiled. Compile it manually.\n"
     ]
    }
   ],
   "source": [
    "oSeqGe = tf.keras.models.load_model(strGeFile)\n",
    "oSeqGd = tf.keras.models.load_model(strGdFile)\n",
    "oSeqGe1 = tf.keras.models.load_model(strGe1File)"
   ]
  },
  {
   "cell_type": "markdown",
   "metadata": {},
   "source": [
    "计算测试样本分数并存档\n",
    "执行后：\n",
    "* samples/\n",
    "    * normal/\n",
    "        * test/\n",
    "            * preprocessed/\n",
    "                * samples.csv\n",
    "                * scores.csv\n",
    "    * abnormal/\n",
    "        * preprocessed/\n",
    "            * samples.csv\n",
    "            * scores.csv"
   ]
  },
  {
   "cell_type": "code",
   "execution_count": 36,
   "metadata": {},
   "outputs": [],
   "source": [
    "# 算出正常训练集和异常测试集的分数\n",
    "# train samples\n",
    "for strJob in os.listdir(strJobsDir):\n",
    "    listDemodDirs = fn_getDemodDirsOfAJob(os.path.join(strJobsDir, strJob))\n",
    "    for strDemodDir in listDemodDirs:\n",
    "        strSamplesDir = os.path.join(strDemodDir, \"parts/sync/input/samples/normal/train\")\n",
    "        pdDfPreprocessedSamples = pd.read_csv(\\\n",
    "              os.path.join(strSamplesDir, \"preprocessed/samples.csv\"))\n",
    "        pdDfSamples = pd.read_csv(os.path.join(strSamplesDir, \"samples.csv\"), index_col=\"RECTIME\")\n",
    "        # 分数csv包含scores列\n",
    "        pdDfScores = fn_score(pdDfPreprocessedSamples)\n",
    "        pdDfScores.index = pdDfSamples.index\n",
    "\n",
    "        pdDfScores.to_csv(os.path.join(strSamplesDir, \"preprocessed/scores.csv\"), index_label=\"RECTIME\")\n",
    "        \n",
    "# Abnormal samples\n",
    "for strJob in os.listdir(strJobsDir):\n",
    "    listDemodDirs = fn_getDemodDirsOfAJob(os.path.join(strJobsDir, strJob))\n",
    "    for strDemodDir in listDemodDirs:\n",
    "        strSamplesDir = os.path.join(strDemodDir, \"parts/sync/input/samples/abnormal\")\n",
    "        pdDfPreprocessedSamples = pd.read_csv(os.path.join(strSamplesDir, \"preprocessed/samples.csv\"), index_col=\"RECTIME\")\n",
    "        pdDfScores = fn_score(pdDfPreprocessedSamples)\n",
    "\n",
    "        pdDfScores.to_csv(os.path.join(strSamplesDir, \"preprocessed/scores.csv\"), index_label=\"RECTIME\")"
   ]
  },
  {
   "cell_type": "code",
   "execution_count": 37,
   "metadata": {},
   "outputs": [],
   "source": [
    "# 读入正常测试样本和异常测试样本的分数，分别存入numpy数组\n",
    "listScores = []\n",
    "listX = []\n",
    "for strJob in os.listdir(strJobsDir):\n",
    "    strJobDir = os.path.join(strJobsDir, strJob)\n",
    "    listDemodDirs = fn_getDemodDirsOfAJob(strJobDir)\n",
    "    for strDemodDir in listDemodDirs:\n",
    "        strNormalTestingScoresFile = os.path.join(strDemodDir, \\\n",
    "                                                  \"parts/sync/input/samples/normal/train/preprocessed/scores.csv\")\n",
    "        pdDfNormalTestingScores = pd.read_csv(strNormalTestingScoresFile, index_col=\"RECTIME\")\n",
    "        \n",
    "        if not pdDfNormalTestingScores.empty:\n",
    "            listScores.append(pdDfNormalTestingScores[\"score\"].values)\n",
    "            \n",
    "            # 分数的横坐标——用crc编码“解调器名+上报时间”\n",
    "            strDemod = os.path.split(strDemodDir)[1]\n",
    "            listX.append([hash(strDemod + strIndex) for strIndex in pdDfNormalTestingScores.index])\n",
    "            \n",
    "npNormalScores = np.concatenate(listScores)\n",
    "npNormalX = np.concatenate(listX)"
   ]
  },
  {
   "cell_type": "code",
   "execution_count": 38,
   "metadata": {},
   "outputs": [],
   "source": [
    "listScores = []\n",
    "listX = []\n",
    "for strJob in os.listdir(strJobsDir):\n",
    "    strJobDir = os.path.join(strJobsDir, strJob)\n",
    "    listDemodDirs = fn_getDemodDirsOfAJob(strJobDir)\n",
    "    for strDemodDir in listDemodDirs:\n",
    "        strAbnormalTestingScoresFile = os.path.join(strDemodDir, \\\n",
    "                                                  \"parts/sync/input/samples/abnormal/preprocessed/scores.csv\")\n",
    "        pdDfAbnormalTestingScores = pd.read_csv(strAbnormalTestingScoresFile, index_col=\"RECTIME\")\n",
    "        if not pdDfAbnormalTestingScores.empty:\n",
    "            listScores.append(pdDfAbnormalTestingScores[\"score\"].values)\n",
    "            \n",
    "             # 分数的横坐标——用crc编码“解调器名+上报时间”\n",
    "            strDemod = os.path.split(strDemodDir)[1]\n",
    "            listX.append([hash(strDemod + strIndex) for strIndex in pdDfAbnormalTestingScores.index])\n",
    "            \n",
    "npAbnormalScores = np.concatenate(listScores)\n",
    "npAbnormalX = np.concatenate(listX)"
   ]
  },
  {
   "cell_type": "code",
   "execution_count": 39,
   "metadata": {},
   "outputs": [],
   "source": [
    "\"\"\"\n",
    "通过正常训练样本的分数计算相应的正太分布，利用正态分布计算异常样本该部分正确的概率\n",
    "\"\"\"\n",
    "fMeaninput = np.mean(npNormalScores)\n",
    "fSigmainput = np.var(npNormalScores)\n",
    "npAbnormalprob = np.apply_along_axis(lambda x: 1 if x <= fMeaninput else ss.norm.sf(x, fMeaninput, fSigmainput), 1, \\\n",
    "     npAbnormalScores[:, np.newaxis])"
   ]
  },
  {
   "cell_type": "code",
   "execution_count": 40,
   "metadata": {},
   "outputs": [
    {
     "data": {
      "image/png": "[encoded data removed]",
      "text/plain": [
       "<Figure size 1080x720 with 1 Axes>"
      ]
     },
     "metadata": {
      "needs_background": "light"
     },
     "output_type": "display_data"
    }
   ],
   "source": [
    "plt.figure(figsize=(15, 10))\n",
    "plt.scatter(npAbnormalX, npAbnormalprob, s=40)\n",
    "plt.show()"
   ]
  },
  {
   "cell_type": "code",
   "execution_count": 41,
   "metadata": {},
   "outputs": [
    {
     "data": {
      "image/png": "[encoded data removed]",
      "text/plain": [
       "<Figure size 1080x720 with 1 Axes>"
      ]
     },
     "metadata": {
      "needs_background": "light"
     },
     "output_type": "display_data"
    }
   ],
   "source": [
    "# 做出散点图。其中，虚线表示阈值。\n",
    "plt.figure(figsize=(15, 10))\n",
    "plt.scatter(npNormalX, npNormalScores, c=\"green\", s=0.5)\n",
    "plt.scatter(npAbnormalX, npAbnormalScores, c=\"red\", s=0.5)\n",
    "plt.show()"
   ]
  },
  {
   "cell_type": "markdown",
   "metadata": {},
   "source": [
    "## 载波同步"
   ]
  },
  {
   "cell_type": "markdown",
   "metadata": {},
   "source": [
    "### 构造建立模型"
   ]
  },
  {
   "cell_type": "code",
   "execution_count": 84,
   "metadata": {},
   "outputs": [],
   "source": [
    "# 4参数\n",
    "class GANcarrier(object):\n",
    "    def __init__(self):\n",
    "        self.fn_makeGenerator()\n",
    "        self.fn_makeDiscriminator()\n",
    "        \n",
    "    def fn_makeGenerator(self):\n",
    "        self.oSeqGe = tf.keras.Sequential(name=\"Ge\")\n",
    "        self.oSeqGe.add(tf.keras.Input(shape=(4,)))\n",
    "        self.oSeqGe.add(tf.keras.layers.Dense(2, kernel_initializer=\"he_normal\"))\n",
    "        self.oSeqGe.add(tf.keras.layers.LeakyReLU())\n",
    "        self.oSeqGe.add(tf.keras.layers.BatchNormalization())\n",
    "        self.oSeqGe.add(tf.keras.layers.Dense(2, kernel_initializer=\"he_normal\"))\n",
    "        self.oSeqGe.add(tf.keras.layers.LeakyReLU())\n",
    "\n",
    "        self.oSeqGd = tf.keras.Sequential(name=\"Gd\")\n",
    "        self.oSeqGd.add(tf.keras.Input(shape=(2,)))\n",
    "        self.oSeqGd.add(tf.keras.layers.Dense(2, kernel_initializer=\"he_normal\"))\n",
    "        self.oSeqGd.add(tf.keras.layers.LeakyReLU())\n",
    "        self.oSeqGd.add(tf.keras.layers.BatchNormalization())\n",
    "        self.oSeqGd.add(tf.keras.layers.Dense(4, activation = tf.keras.activations.tanh, kernel_initializer=\"he_normal\"))\n",
    "        \n",
    "        self.oSeqGe1 = tf.keras.Sequential(name=\"Ge1\")\n",
    "        self.oSeqGe1.add(tf.keras.Input(shape=(4,)))\n",
    "        self.oSeqGe1.add(tf.keras.layers.Dense(2, kernel_initializer=\"he_normal\"))\n",
    "        self.oSeqGe1.add(tf.keras.layers.LeakyReLU())\n",
    "        self.oSeqGe1.add(tf.keras.layers.BatchNormalization())\n",
    "        self.oSeqGe1.add(tf.keras.layers.Dense(2, kernel_initializer=\"he_normal\"))\n",
    "        self.oSeqGe1.add(tf.keras.layers.LeakyReLU())\n",
    "        \n",
    "    def fn_makeDiscriminator(self):\n",
    "        self.oSeqDInner = tf.keras.Sequential(name=\"DInner\")\n",
    "        self.oSeqDInner.add(tf.keras.Input(shape=(4,)))\n",
    "        self.oSeqDInner.add(tf.keras.layers.Dense(2, kernel_initializer=\"he_normal\"))\n",
    "        self.oSeqDInner.add(tf.keras.layers.LeakyReLU())\n",
    "        self.oSeqDInner.add(tf.keras.layers.BatchNormalization())\n",
    "        self.oSeqDInner.add(tf.keras.layers.Dense(2, kernel_initializer=\"he_normal\"))\n",
    "        self.oSeqDInner.add(tf.keras.layers.LeakyReLU())\n",
    "        self.oSeqDInner.add(tf.keras.layers.BatchNormalization())\n",
    "\n",
    "        self.oSeqD = tf.keras.Sequential([\n",
    "            self.oSeqDInner,\n",
    "            tf.keras.layers.Dense(1, activation = tf.keras.activations.sigmoid)\n",
    "        ], name=\"D\")"
   ]
  },
  {
   "cell_type": "code",
   "execution_count": 85,
   "metadata": {},
   "outputs": [],
   "source": [
    "# 新建模型\n",
    "oGANcarrier = GANcarrier()"
   ]
  },
  {
   "cell_type": "markdown",
   "metadata": {},
   "source": [
    "### 构造数据集"
   ]
  },
  {
   "cell_type": "code",
   "execution_count": 86,
   "metadata": {},
   "outputs": [],
   "source": [
    "g_nFeatures = 4\n",
    "g_nBatchSize = 256\n",
    "\n",
    "def fn_splitCsvLine(strLine):\n",
    "    tensorDefs = [0.] * g_nFeatures\n",
    "    tensorRecord = tf.io.decode_csv(strLine, record_defaults=tensorDefs)\n",
    "    tensorX = tf.stack(tensorRecord)\n",
    "    return tensorX\n",
    "\n",
    "\n",
    "oDataset = tf.data.Dataset.list_files(strJobsDir + \"/*/*/parts/sync/carrier/samples/normal/train/preprocessed/samples.csv\")\n",
    "oDataset = oDataset.interleave(lambda strSamplesFile: tf.data.TextLineDataset(strSamplesFile).skip(1), \\\n",
    "                              cycle_length=5, num_parallel_calls=5)\n",
    "oDataset = oDataset.map(fn_splitCsvLine, g_nFeatures)\n",
    "oDataset = oDataset.shuffle(1000)\n",
    "oDataset = oDataset.batch(g_nBatchSize)"
   ]
  },
  {
   "cell_type": "code",
   "execution_count": 87,
   "metadata": {},
   "outputs": [],
   "source": [
    "# 读入所有的训练样本，从而通过shape属性得到训练集大小，存入全局变量中\n",
    "listPreprocessedNormalTrainingSamples = []\n",
    "for strJob in os.listdir(strJobsDir):\n",
    "    strJobDir = os.path.join(strJobsDir, strJob)\n",
    "    listDemodDirs = fn_getDemodDirsOfAJob(strJobDir)\n",
    "    for strDemodDir in listDemodDirs:\n",
    "        strPreprocessedNormalTrainingSamplesFile = os.path.join(strDemodDir, \\\n",
    "                                                   \"parts/sync/carrier/samples/normal/train/preprocessed/samples.csv\")\n",
    "        pdDfPreprocessedNormalTrainingSamples = pd.read_csv(strPreprocessedNormalTrainingSamplesFile)\n",
    "        listPreprocessedNormalTrainingSamples.append(pdDfPreprocessedNormalTrainingSamples)\n",
    "pdDfPreprocessedNormalTrainingSamples = pd.concat(listPreprocessedNormalTrainingSamples)\n",
    "g_tensorNormalTrainingSamples = tf.constant(pdDfPreprocessedNormalTrainingSamples.values, dtype=tf.float32)\n",
    "g_nTrainingSize = len(g_tensorNormalTrainingSamples)"
   ]
  },
  {
   "cell_type": "markdown",
   "metadata": {},
   "source": [
    "### 训练"
   ]
  },
  {
   "cell_type": "code",
   "execution_count": 88,
   "metadata": {},
   "outputs": [],
   "source": [
    "# g_nTrainingSize在中频控制已经设置好了\n",
    "g_nEpochs = 10000\n",
    "nSteps = g_nEpochs * g_nTrainingSize // g_nBatchSize\n",
    "oExponentialDecay = tf.keras.optimizers.schedules.ExponentialDecay(1e-2, nSteps, 1e-1)\n",
    "oOptimizerG = tf.keras.optimizers.Adam(learning_rate=oExponentialDecay)\n",
    "oOptimizerD = tf.keras.optimizers.SGD(learning_rate=oExponentialDecay)"
   ]
  },
  {
   "cell_type": "code",
   "execution_count": 92,
   "metadata": {},
   "outputs": [],
   "source": [
    "strD = \"(4,2)_D\"\n",
    "strA = \"(4,2)_A\"\n",
    "strRootDir = \"logs/nobranch/sync/carrier\"\n",
    "strDDir = os.path.join(strRootDir, strD)\n",
    "strADir = os.path.join(strRootDir, strA)\n",
    "if os.path.exists(strDDir):\n",
    "    shutil.rmtree(strDDir)\n",
    "if os.path.exists(strADir):\n",
    "    shutil.rmtree(strADir)"
   ]
  },
  {
   "cell_type": "code",
   "execution_count": 93,
   "metadata": {},
   "outputs": [],
   "source": [
    "oSummaryWriterDLoss = tf.summary.create_file_writer(strDDir)\n",
    "oSummaryWriterALoss = tf.summary.create_file_writer(strADir)"
   ]
  },
  {
   "cell_type": "code",
   "execution_count": 94,
   "metadata": {},
   "outputs": [
    {
     "name": "stdout",
     "output_type": "stream",
     "text": [
      "166/10000"
     ]
    },
    {
     "ename": "KeyboardInterrupt",
     "evalue": "",
     "output_type": "error",
     "traceback": [
      "\u001b[1;31m---------------------------------------------------------------------------\u001b[0m",
      "\u001b[1;31mKeyboardInterrupt\u001b[0m                         Traceback (most recent call last)",
      "\u001b[1;32m<ipython-input-94-eee76639653f>\u001b[0m in \u001b[0;36m<module>\u001b[1;34m\u001b[0m\n\u001b[0;32m      2\u001b[0m \u001b[0moSeqGd\u001b[0m \u001b[1;33m=\u001b[0m \u001b[1;32mNone\u001b[0m\u001b[1;33m\u001b[0m\u001b[1;33m\u001b[0m\u001b[0m\n\u001b[0;32m      3\u001b[0m \u001b[0moSeqGe1\u001b[0m \u001b[1;33m=\u001b[0m \u001b[1;32mNone\u001b[0m\u001b[1;33m\u001b[0m\u001b[1;33m\u001b[0m\u001b[0m\n\u001b[1;32m----> 4\u001b[1;33m \u001b[0mfn_train\u001b[0m\u001b[1;33m(\u001b[0m\u001b[0moGANcarrier\u001b[0m\u001b[1;33m)\u001b[0m\u001b[1;33m\u001b[0m\u001b[1;33m\u001b[0m\u001b[0m\n\u001b[0m",
      "\u001b[1;32m<ipython-input-8-3855d8924bd9>\u001b[0m in \u001b[0;36mfn_train\u001b[1;34m(oGAN)\u001b[0m\n\u001b[0;32m     59\u001b[0m             \u001b[0moOptimizerG\u001b[0m\u001b[1;33m.\u001b[0m\u001b[0mapply_gradients\u001b[0m\u001b[1;33m(\u001b[0m\u001b[0mzip\u001b[0m\u001b[1;33m(\u001b[0m\u001b[0mlistGGradients\u001b[0m\u001b[1;33m,\u001b[0m \u001b[0mlistTrainableGVariables\u001b[0m\u001b[1;33m)\u001b[0m\u001b[1;33m)\u001b[0m\u001b[1;33m\u001b[0m\u001b[1;33m\u001b[0m\u001b[0m\n\u001b[0;32m     60\u001b[0m             \u001b[1;32mwith\u001b[0m \u001b[0moSummaryWriterALoss\u001b[0m\u001b[1;33m.\u001b[0m\u001b[0mas_default\u001b[0m\u001b[1;33m(\u001b[0m\u001b[1;33m)\u001b[0m\u001b[1;33m:\u001b[0m\u001b[1;33m\u001b[0m\u001b[1;33m\u001b[0m\u001b[0m\n\u001b[1;32m---> 61\u001b[1;33m                 \u001b[0mtf\u001b[0m\u001b[1;33m.\u001b[0m\u001b[0msummary\u001b[0m\u001b[1;33m.\u001b[0m\u001b[0mscalar\u001b[0m\u001b[1;33m(\u001b[0m\u001b[1;34m\"A_loss\"\u001b[0m\u001b[1;33m,\u001b[0m \u001b[0mtensorGLoss\u001b[0m\u001b[1;33m,\u001b[0m \u001b[0mg_nStep\u001b[0m\u001b[1;33m)\u001b[0m\u001b[1;33m\u001b[0m\u001b[1;33m\u001b[0m\u001b[0m\n\u001b[0m\u001b[0;32m     62\u001b[0m \u001b[1;33m\u001b[0m\u001b[0m\n\u001b[0;32m     63\u001b[0m             \u001b[0mg_nStep\u001b[0m \u001b[1;33m=\u001b[0m \u001b[0mg_nStep\u001b[0m \u001b[1;33m+\u001b[0m \u001b[1;36m1\u001b[0m\u001b[1;33m\u001b[0m\u001b[1;33m\u001b[0m\u001b[0m\n",
      "\u001b[1;32mf:\\python\\python37\\Lib\\contextlib.py\u001b[0m in \u001b[0;36m__exit__\u001b[1;34m(self, type, value, traceback)\u001b[0m\n\u001b[0;32m    117\u001b[0m         \u001b[1;32mif\u001b[0m \u001b[0mtype\u001b[0m \u001b[1;32mis\u001b[0m \u001b[1;32mNone\u001b[0m\u001b[1;33m:\u001b[0m\u001b[1;33m\u001b[0m\u001b[1;33m\u001b[0m\u001b[0m\n\u001b[0;32m    118\u001b[0m             \u001b[1;32mtry\u001b[0m\u001b[1;33m:\u001b[0m\u001b[1;33m\u001b[0m\u001b[1;33m\u001b[0m\u001b[0m\n\u001b[1;32m--> 119\u001b[1;33m                 \u001b[0mnext\u001b[0m\u001b[1;33m(\u001b[0m\u001b[0mself\u001b[0m\u001b[1;33m.\u001b[0m\u001b[0mgen\u001b[0m\u001b[1;33m)\u001b[0m\u001b[1;33m\u001b[0m\u001b[1;33m\u001b[0m\u001b[0m\n\u001b[0m\u001b[0;32m    120\u001b[0m             \u001b[1;32mexcept\u001b[0m \u001b[0mStopIteration\u001b[0m\u001b[1;33m:\u001b[0m\u001b[1;33m\u001b[0m\u001b[1;33m\u001b[0m\u001b[0m\n\u001b[0;32m    121\u001b[0m                 \u001b[1;32mreturn\u001b[0m \u001b[1;32mFalse\u001b[0m\u001b[1;33m\u001b[0m\u001b[1;33m\u001b[0m\u001b[0m\n",
      "\u001b[1;32md:\\py_virtualenv\\lib\\site-packages\\tensorflow_core\\python\\ops\\summary_ops_v2.py\u001b[0m in \u001b[0;36mas_default\u001b[1;34m(self)\u001b[0m\n\u001b[0;32m    237\u001b[0m       \u001b[1;31m# Flushes the summary writer in eager mode or in graph functions, but\u001b[0m\u001b[1;33m\u001b[0m\u001b[1;33m\u001b[0m\u001b[1;33m\u001b[0m\u001b[0m\n\u001b[0;32m    238\u001b[0m       \u001b[1;31m# not in legacy graph mode (you're on your own there).\u001b[0m\u001b[1;33m\u001b[0m\u001b[1;33m\u001b[0m\u001b[1;33m\u001b[0m\u001b[0m\n\u001b[1;32m--> 239\u001b[1;33m       \u001b[0mself\u001b[0m\u001b[1;33m.\u001b[0m\u001b[0mflush\u001b[0m\u001b[1;33m(\u001b[0m\u001b[1;33m)\u001b[0m\u001b[1;33m\u001b[0m\u001b[1;33m\u001b[0m\u001b[0m\n\u001b[0m\u001b[0;32m    240\u001b[0m     \u001b[1;32mfinally\u001b[0m\u001b[1;33m:\u001b[0m\u001b[1;33m\u001b[0m\u001b[1;33m\u001b[0m\u001b[0m\n\u001b[0;32m    241\u001b[0m       \u001b[0mcontext\u001b[0m\u001b[1;33m.\u001b[0m\u001b[0mcontext\u001b[0m\u001b[1;33m(\u001b[0m\u001b[1;33m)\u001b[0m\u001b[1;33m.\u001b[0m\u001b[0msummary_writer\u001b[0m \u001b[1;33m=\u001b[0m \u001b[0mold\u001b[0m\u001b[1;33m\u001b[0m\u001b[1;33m\u001b[0m\u001b[0m\n",
      "\u001b[1;32md:\\py_virtualenv\\lib\\site-packages\\tensorflow_core\\python\\ops\\summary_ops_v2.py\u001b[0m in \u001b[0;36mflush\u001b[1;34m(self)\u001b[0m\n\u001b[0;32m    254\u001b[0m     \u001b[1;32mif\u001b[0m \u001b[0mself\u001b[0m\u001b[1;33m.\u001b[0m\u001b[0m_v2\u001b[0m \u001b[1;32mand\u001b[0m \u001b[0mcontext\u001b[0m\u001b[1;33m.\u001b[0m\u001b[0mexecuting_eagerly\u001b[0m\u001b[1;33m(\u001b[0m\u001b[1;33m)\u001b[0m \u001b[1;32mand\u001b[0m \u001b[0mself\u001b[0m\u001b[1;33m.\u001b[0m\u001b[0m_closed\u001b[0m\u001b[1;33m:\u001b[0m\u001b[1;33m\u001b[0m\u001b[1;33m\u001b[0m\u001b[0m\n\u001b[0;32m    255\u001b[0m       \u001b[1;32mreturn\u001b[0m\u001b[1;33m\u001b[0m\u001b[1;33m\u001b[0m\u001b[0m\n\u001b[1;32m--> 256\u001b[1;33m     \u001b[1;32mreturn\u001b[0m \u001b[0m_flush_fn\u001b[0m\u001b[1;33m(\u001b[0m\u001b[0mwriter\u001b[0m\u001b[1;33m=\u001b[0m\u001b[0mself\u001b[0m\u001b[1;33m)\u001b[0m\u001b[1;33m\u001b[0m\u001b[1;33m\u001b[0m\u001b[0m\n\u001b[0m\u001b[0;32m    257\u001b[0m \u001b[1;33m\u001b[0m\u001b[0m\n\u001b[0;32m    258\u001b[0m   \u001b[1;32mdef\u001b[0m \u001b[0mclose\u001b[0m\u001b[1;33m(\u001b[0m\u001b[0mself\u001b[0m\u001b[1;33m)\u001b[0m\u001b[1;33m:\u001b[0m\u001b[1;33m\u001b[0m\u001b[1;33m\u001b[0m\u001b[0m\n",
      "\u001b[1;32md:\\py_virtualenv\\lib\\site-packages\\tensorflow_core\\python\\ops\\summary_ops_v2.py\u001b[0m in \u001b[0;36mflush\u001b[1;34m(writer, name)\u001b[0m\n\u001b[0;32m    930\u001b[0m     \u001b[0mresource\u001b[0m \u001b[1;33m=\u001b[0m \u001b[0mwriter\u001b[0m\u001b[1;33m\u001b[0m\u001b[1;33m\u001b[0m\u001b[0m\n\u001b[0;32m    931\u001b[0m   \u001b[1;32mwith\u001b[0m \u001b[0mops\u001b[0m\u001b[1;33m.\u001b[0m\u001b[0mdevice\u001b[0m\u001b[1;33m(\u001b[0m\u001b[1;34m\"cpu:0\"\u001b[0m\u001b[1;33m)\u001b[0m\u001b[1;33m:\u001b[0m\u001b[1;33m\u001b[0m\u001b[1;33m\u001b[0m\u001b[0m\n\u001b[1;32m--> 932\u001b[1;33m     \u001b[1;32mreturn\u001b[0m \u001b[0mgen_summary_ops\u001b[0m\u001b[1;33m.\u001b[0m\u001b[0mflush_summary_writer\u001b[0m\u001b[1;33m(\u001b[0m\u001b[0mresource\u001b[0m\u001b[1;33m,\u001b[0m \u001b[0mname\u001b[0m\u001b[1;33m=\u001b[0m\u001b[0mname\u001b[0m\u001b[1;33m)\u001b[0m\u001b[1;33m\u001b[0m\u001b[1;33m\u001b[0m\u001b[0m\n\u001b[0m\u001b[0;32m    933\u001b[0m \u001b[1;33m\u001b[0m\u001b[0m\n\u001b[0;32m    934\u001b[0m \u001b[1;33m\u001b[0m\u001b[0m\n",
      "\u001b[1;32md:\\py_virtualenv\\lib\\site-packages\\tensorflow_core\\python\\ops\\gen_summary_ops.py\u001b[0m in \u001b[0;36mflush_summary_writer\u001b[1;34m(writer, name)\u001b[0m\n\u001b[0;32m    241\u001b[0m       _result = _pywrap_tensorflow.TFE_Py_FastPathExecute(\n\u001b[0;32m    242\u001b[0m         \u001b[0m_ctx\u001b[0m\u001b[1;33m.\u001b[0m\u001b[0m_context_handle\u001b[0m\u001b[1;33m,\u001b[0m \u001b[0m_ctx\u001b[0m\u001b[1;33m.\u001b[0m\u001b[0m_thread_local_data\u001b[0m\u001b[1;33m.\u001b[0m\u001b[0mdevice_name\u001b[0m\u001b[1;33m,\u001b[0m\u001b[1;33m\u001b[0m\u001b[1;33m\u001b[0m\u001b[0m\n\u001b[1;32m--> 243\u001b[1;33m         \"FlushSummaryWriter\", name, _ctx._post_execution_callbacks, writer)\n\u001b[0m\u001b[0;32m    244\u001b[0m       \u001b[1;32mreturn\u001b[0m \u001b[0m_result\u001b[0m\u001b[1;33m\u001b[0m\u001b[1;33m\u001b[0m\u001b[0m\n\u001b[0;32m    245\u001b[0m     \u001b[1;32mexcept\u001b[0m \u001b[0m_core\u001b[0m\u001b[1;33m.\u001b[0m\u001b[0m_FallbackException\u001b[0m\u001b[1;33m:\u001b[0m\u001b[1;33m\u001b[0m\u001b[1;33m\u001b[0m\u001b[0m\n",
      "\u001b[1;31mKeyboardInterrupt\u001b[0m: "
     ]
    }
   ],
   "source": [
    "oSeqGe = None\n",
    "oSeqGd = None \n",
    "oSeqGe1 = None\n",
    "fn_train(oGANcarrier)"
   ]
  },
  {
   "cell_type": "code",
   "execution_count": 95,
   "metadata": {},
   "outputs": [],
   "source": [
    "strGe = \"Ge.h5\"\n",
    "strGd = \"Gd.h5\"\n",
    "strGe1 = \"Ge1.h5\"\n",
    "strRootDir = \"models/nobranch/sync/carrier\"\n",
    "strModelsDir = os.path.join(strRootDir, \"(4,2)\")\n",
    "strGeFile = os.path.join(strModelsDir, strGe)\n",
    "strGdFile = os.path.join(strModelsDir, strGd)\n",
    "strGe1File = os.path.join(strModelsDir, strGe1)"
   ]
  },
  {
   "cell_type": "code",
   "execution_count": 96,
   "metadata": {},
   "outputs": [],
   "source": [
    "if os.path.exists(strModelsDir):\n",
    "    shutil.rmtree(strModelsDir)\n",
    "os.mkdir(strModelsDir)"
   ]
  },
  {
   "cell_type": "code",
   "execution_count": 97,
   "metadata": {},
   "outputs": [],
   "source": [
    "oSeqGe.save(strGeFile)\n",
    "oSeqGd.save(strGdFile)\n",
    "oSeqGe1.save(strGe1File)"
   ]
  },
  {
   "cell_type": "markdown",
   "metadata": {},
   "source": [
    "### 评估"
   ]
  },
  {
   "cell_type": "code",
   "execution_count": 98,
   "metadata": {},
   "outputs": [
    {
     "name": "stdout",
     "output_type": "stream",
     "text": [
      "WARNING:tensorflow:No training configuration found in save file: the model was *not* compiled. Compile it manually.\n",
      "WARNING:tensorflow:No training configuration found in save file: the model was *not* compiled. Compile it manually.\n",
      "WARNING:tensorflow:No training configuration found in save file: the model was *not* compiled. Compile it manually.\n"
     ]
    }
   ],
   "source": [
    "oSeqGe = tf.keras.models.load_model(strGeFile)\n",
    "oSeqGd = tf.keras.models.load_model(strGdFile)\n",
    "oSeqGe1 = tf.keras.models.load_model(strGe1File)"
   ]
  },
  {
   "cell_type": "code",
   "execution_count": 99,
   "metadata": {},
   "outputs": [],
   "source": [
    "# 算出正常训练集和异常测试集的分数\n",
    "# train samples\n",
    "for strJob in os.listdir(strJobsDir):\n",
    "    listDemodDirs = fn_getDemodDirsOfAJob(os.path.join(strJobsDir, strJob))\n",
    "    for strDemodDir in listDemodDirs:\n",
    "        strSamplesDir = os.path.join(strDemodDir, \"parts/sync/carrier/samples/normal/train\")\n",
    "        pdDfPreprocessedSamples = pd.read_csv(\\\n",
    "              os.path.join(strSamplesDir, \"preprocessed/samples.csv\"))\n",
    "        pdDfSamples = pd.read_csv(os.path.join(strSamplesDir, \"samples.csv\"), index_col=\"RECTIME\")\n",
    "        # 分数csv包含scores列\n",
    "        pdDfScores = fn_score(pdDfPreprocessedSamples)\n",
    "        pdDfScores.index = pdDfSamples.index\n",
    "\n",
    "        pdDfScores.to_csv(os.path.join(strSamplesDir, \"preprocessed/scores.csv\"), index_label=\"RECTIME\")\n",
    "        \n",
    "# Abnormal samples\n",
    "for strJob in os.listdir(strJobsDir):\n",
    "    listDemodDirs = fn_getDemodDirsOfAJob(os.path.join(strJobsDir, strJob))\n",
    "    for strDemodDir in listDemodDirs:\n",
    "        strSamplesDir = os.path.join(strDemodDir, \"parts/sync/carrier/samples/abnormal\")\n",
    "        pdDfPreprocessedSamples = pd.read_csv(os.path.join(strSamplesDir, \"preprocessed/samples.csv\"), index_col=\"RECTIME\")\n",
    "        pdDfScores = fn_score(pdDfPreprocessedSamples)\n",
    "\n",
    "        pdDfScores.to_csv(os.path.join(strSamplesDir, \"preprocessed/scores.csv\"), index_label=\"RECTIME\")"
   ]
  },
  {
   "cell_type": "code",
   "execution_count": 17,
   "metadata": {},
   "outputs": [],
   "source": [
    "# 读入正常测试样本和异常测试样本的分数，分别存入numpy数组\n",
    "listScores = []\n",
    "listX = []\n",
    "for strJob in os.listdir(strJobsDir):\n",
    "    strJobDir = os.path.join(strJobsDir, strJob)\n",
    "    listDemodDirs = fn_getDemodDirsOfAJob(strJobDir)\n",
    "    for strDemodDir in listDemodDirs:\n",
    "        strNormalTestingScoresFile = os.path.join(strDemodDir, \\\n",
    "                                                  \"parts/sync/carrier/samples/normal/train/preprocessed/scores.csv\")\n",
    "        pdDfNormalTestingScores = pd.read_csv(strNormalTestingScoresFile, index_col=\"RECTIME\")\n",
    "        \n",
    "        if not pdDfNormalTestingScores.empty:\n",
    "            listScores.append(pdDfNormalTestingScores[\"score\"].values)\n",
    "            \n",
    "            # 分数的横坐标——用crc编码“解调器名+上报时间”\n",
    "            strDemod = os.path.split(strDemodDir)[1]\n",
    "            listX.append([hash(strDemod + strIndex) for strIndex in pdDfNormalTestingScores.index])\n",
    "            \n",
    "npNormalScores = np.concatenate(listScores)\n",
    "npNormalX = np.concatenate(listX)"
   ]
  },
  {
   "cell_type": "code",
   "execution_count": 18,
   "metadata": {},
   "outputs": [],
   "source": [
    "listScores = []\n",
    "listX = []\n",
    "for strJob in os.listdir(strJobsDir):\n",
    "    strJobDir = os.path.join(strJobsDir, strJob)\n",
    "    listDemodDirs = fn_getDemodDirsOfAJob(strJobDir)\n",
    "    for strDemodDir in listDemodDirs:\n",
    "        strAbnormalTestingScoresFile = os.path.join(strDemodDir, \\\n",
    "                                                  \"parts/sync/carrier/samples/abnormal/preprocessed/scores.csv\")\n",
    "        pdDfAbnormalTestingScores = pd.read_csv(strAbnormalTestingScoresFile, index_col=\"RECTIME\")\n",
    "        if not pdDfAbnormalTestingScores.empty:\n",
    "            listScores.append(pdDfAbnormalTestingScores[\"score\"].values)\n",
    "            \n",
    "             # 分数的横坐标——用crc编码“解调器名+上报时间”\n",
    "            strDemod = os.path.split(strDemodDir)[1]\n",
    "            listX.append([hash(strDemod + strIndex) for strIndex in pdDfAbnormalTestingScores.index])\n",
    "            \n",
    "npAbnormalScores = np.concatenate(listScores)\n",
    "npAbnormalX = np.concatenate(listX)"
   ]
  },
  {
   "cell_type": "code",
   "execution_count": 19,
   "metadata": {},
   "outputs": [],
   "source": [
    "\"\"\"\n",
    "通过正常训练样本的分数计算相应的正太分布，利用正态分布计算异常样本该部分正确的概率\n",
    "\"\"\"\n",
    "fMeancarrier = np.mean(npNormalScores)\n",
    "fSigmacarrier = np.var(npNormalScores)\n",
    "npAbnormalprob = np.apply_along_axis(lambda x: 1 if x <= fMeancarrier else ss.norm.sf(x, fMeancarrier, fSigmacarrier), 1, \\\n",
    "     npAbnormalScores[:, np.newaxis])"
   ]
  },
  {
   "cell_type": "code",
   "execution_count": 20,
   "metadata": {},
   "outputs": [
    {
     "data": {
      "image/png": "[encoded data removed]",
      "text/plain": [
       "<Figure size 1080x720 with 1 Axes>"
      ]
     },
     "metadata": {
      "needs_background": "light"
     },
     "output_type": "display_data"
    }
   ],
   "source": [
    "plt.figure(figsize=(15, 10))\n",
    "plt.scatter(npAbnormalX, npAbnormalprob, s=40)\n",
    "plt.show()"
   ]
  },
  {
   "cell_type": "markdown",
   "metadata": {},
   "source": [
    "## 比特同步"
   ]
  },
  {
   "cell_type": "markdown",
   "metadata": {},
   "source": [
    "### 构造建立模型"
   ]
  },
  {
   "cell_type": "code",
   "execution_count": 129,
   "metadata": {},
   "outputs": [],
   "source": [
    "# 10参数\n",
    "class GANbit(object):\n",
    "    def __init__(self):\n",
    "        self.fn_makeGenerator()\n",
    "        self.fn_makeDiscriminator()\n",
    "        \n",
    "    def fn_makeGenerator(self):\n",
    "        self.oSeqGe = tf.keras.Sequential(name=\"Ge\")\n",
    "        self.oSeqGe.add(tf.keras.Input(shape=(10,)))\n",
    "        self.oSeqGe.add(tf.keras.layers.Dense(5, kernel_initializer=\"he_normal\"))\n",
    "        self.oSeqGe.add(tf.keras.layers.LeakyReLU())\n",
    "        self.oSeqGe.add(tf.keras.layers.BatchNormalization())\n",
    "        self.oSeqGe.add(tf.keras.layers.Dense(5, kernel_initializer=\"he_normal\"))\n",
    "        self.oSeqGe.add(tf.keras.layers.LeakyReLU())\n",
    "\n",
    "        self.oSeqGd = tf.keras.Sequential(name=\"Gd\")\n",
    "        self.oSeqGd.add(tf.keras.Input(shape=(5,)))\n",
    "        self.oSeqGd.add(tf.keras.layers.Dense(5, kernel_initializer=\"he_normal\"))\n",
    "        self.oSeqGd.add(tf.keras.layers.LeakyReLU())\n",
    "        self.oSeqGd.add(tf.keras.layers.BatchNormalization())\n",
    "        self.oSeqGd.add(tf.keras.layers.Dense(10, activation = tf.keras.activations.tanh, kernel_initializer=\"he_normal\"))\n",
    "        \n",
    "        self.oSeqGe1 = tf.keras.Sequential(name=\"Ge1\")\n",
    "        self.oSeqGe1.add(tf.keras.Input(shape=(10,)))\n",
    "        self.oSeqGe1.add(tf.keras.layers.Dense(5, kernel_initializer=\"he_normal\"))\n",
    "        self.oSeqGe1.add(tf.keras.layers.LeakyReLU())\n",
    "        self.oSeqGe1.add(tf.keras.layers.BatchNormalization())\n",
    "        self.oSeqGe1.add(tf.keras.layers.Dense(5, kernel_initializer=\"he_normal\"))\n",
    "        self.oSeqGe1.add(tf.keras.layers.LeakyReLU())\n",
    "        \n",
    "    def fn_makeDiscriminator(self):\n",
    "        self.oSeqDInner = tf.keras.Sequential(name=\"DInner\")\n",
    "        self.oSeqDInner.add(tf.keras.Input(shape=(10,)))\n",
    "        self.oSeqDInner.add(tf.keras.layers.Dense(5, kernel_initializer=\"he_normal\"))\n",
    "        self.oSeqDInner.add(tf.keras.layers.LeakyReLU())\n",
    "        self.oSeqDInner.add(tf.keras.layers.BatchNormalization())\n",
    "        self.oSeqDInner.add(tf.keras.layers.Dense(5, kernel_initializer=\"he_normal\"))\n",
    "        self.oSeqDInner.add(tf.keras.layers.LeakyReLU())\n",
    "        self.oSeqDInner.add(tf.keras.layers.BatchNormalization())\n",
    "\n",
    "        self.oSeqD = tf.keras.Sequential([\n",
    "            self.oSeqDInner,\n",
    "            tf.keras.layers.Dense(1, activation = tf.keras.activations.sigmoid)\n",
    "        ], name=\"D\")"
   ]
  },
  {
   "cell_type": "code",
   "execution_count": 130,
   "metadata": {},
   "outputs": [],
   "source": [
    "# 新建模型\n",
    "oGANbit = GANbit()"
   ]
  },
  {
   "cell_type": "markdown",
   "metadata": {},
   "source": [
    "### 构造数据集"
   ]
  },
  {
   "cell_type": "code",
   "execution_count": 131,
   "metadata": {},
   "outputs": [],
   "source": [
    "g_nFeatures = 10\n",
    "g_nBatchSize = 256\n",
    "\n",
    "def fn_splitCsvLine(strLine):\n",
    "    tensorDefs = [0.] * g_nFeatures\n",
    "    tensorRecord = tf.io.decode_csv(strLine, record_defaults=tensorDefs)\n",
    "    tensorX = tf.stack(tensorRecord)\n",
    "    return tensorX\n",
    "\n",
    "oDataset = tf.data.Dataset.list_files(strJobsDir + \"/*/*/parts/sync/bit/samples/normal/train/preprocessed/samples.csv\")\n",
    "oDataset = oDataset.interleave(lambda strSamplesFile: tf.data.TextLineDataset(strSamplesFile).skip(1), \\\n",
    "                              cycle_length=5, num_parallel_calls=5)\n",
    "oDataset = oDataset.map(fn_splitCsvLine, g_nFeatures)\n",
    "oDataset = oDataset.shuffle(1000)\n",
    "oDataset = oDataset.batch(g_nBatchSize)"
   ]
  },
  {
   "cell_type": "code",
   "execution_count": 132,
   "metadata": {},
   "outputs": [],
   "source": [
    "# 读入所有的训练样本，从而通过shape属性得到训练集大小，存入全局变量中\n",
    "listPreprocessedNormalTrainingSamples = []\n",
    "for strJob in os.listdir(strJobsDir):\n",
    "    strJobDir = os.path.join(strJobsDir, strJob)\n",
    "    listDemodDirs = fn_getDemodDirsOfAJob(strJobDir)\n",
    "    for strDemodDir in listDemodDirs:\n",
    "        strPreprocessedNormalTrainingSamplesFile = os.path.join(strDemodDir, \\\n",
    "                                                   \"parts/sync/bit/samples/normal/train/preprocessed/samples.csv\")\n",
    "        pdDfPreprocessedNormalTrainingSamples = pd.read_csv(strPreprocessedNormalTrainingSamplesFile)\n",
    "        listPreprocessedNormalTrainingSamples.append(pdDfPreprocessedNormalTrainingSamples)\n",
    "pdDfPreprocessedNormalTrainingSamples = pd.concat(listPreprocessedNormalTrainingSamples)\n",
    "g_tensorNormalTrainingSamples = tf.constant(pdDfPreprocessedNormalTrainingSamples.values, dtype=tf.float32)\n",
    "g_nTrainingSize = len(g_tensorNormalTrainingSamples)"
   ]
  },
  {
   "cell_type": "markdown",
   "metadata": {},
   "source": [
    "### 训练"
   ]
  },
  {
   "cell_type": "code",
   "execution_count": 133,
   "metadata": {},
   "outputs": [],
   "source": [
    "# g_nTrainingSize在中频控制已经设置好了\n",
    "g_nEpochs = 10000\n",
    "nSteps = g_nEpochs * g_nTrainingSize // g_nBatchSize\n",
    "oExponentialDecay = tf.keras.optimizers.schedules.ExponentialDecay(1e-2, nSteps, 1e-1)\n",
    "oOptimizerG = tf.keras.optimizers.Adam(learning_rate=oExponentialDecay)\n",
    "oOptimizerD = tf.keras.optimizers.SGD(learning_rate=oExponentialDecay)"
   ]
  },
  {
   "cell_type": "code",
   "execution_count": 134,
   "metadata": {},
   "outputs": [],
   "source": [
    "strD = \"(10,5)_D\"\n",
    "strA = \"(10,5)_A\"\n",
    "strRootDir = \"logs/nobranch/sync/bit\"\n",
    "strDDir = os.path.join(strRootDir, strD)\n",
    "strADir = os.path.join(strRootDir, strA)\n",
    "if os.path.exists(strDDir):\n",
    "    shutil.rmtree(strDDir)\n",
    "if os.path.exists(strADir):\n",
    "    shutil.rmtree(strADir)"
   ]
  },
  {
   "cell_type": "code",
   "execution_count": 136,
   "metadata": {},
   "outputs": [],
   "source": [
    "oSummaryWriterDLoss = tf.summary.create_file_writer(strDDir)\n",
    "oSummaryWriterALoss = tf.summary.create_file_writer(strADir)"
   ]
  },
  {
   "cell_type": "code",
   "execution_count": 137,
   "metadata": {},
   "outputs": [
    {
     "name": "stdout",
     "output_type": "stream",
     "text": [
      "397/10000"
     ]
    },
    {
     "ename": "KeyboardInterrupt",
     "evalue": "",
     "output_type": "error",
     "traceback": [
      "\u001b[1;31m---------------------------------------------------------------------------\u001b[0m",
      "\u001b[1;31mKeyboardInterrupt\u001b[0m                         Traceback (most recent call last)",
      "\u001b[1;32m<ipython-input-137-ca30fd47e083>\u001b[0m in \u001b[0;36m<module>\u001b[1;34m\u001b[0m\n\u001b[0;32m      2\u001b[0m \u001b[0moSeqGd\u001b[0m \u001b[1;33m=\u001b[0m \u001b[1;32mNone\u001b[0m\u001b[1;33m\u001b[0m\u001b[1;33m\u001b[0m\u001b[0m\n\u001b[0;32m      3\u001b[0m \u001b[0moSeqGe1\u001b[0m \u001b[1;33m=\u001b[0m \u001b[1;32mNone\u001b[0m\u001b[1;33m\u001b[0m\u001b[1;33m\u001b[0m\u001b[0m\n\u001b[1;32m----> 4\u001b[1;33m \u001b[0mfn_train\u001b[0m\u001b[1;33m(\u001b[0m\u001b[0moGANbit\u001b[0m\u001b[1;33m)\u001b[0m\u001b[1;33m\u001b[0m\u001b[1;33m\u001b[0m\u001b[0m\n\u001b[0m",
      "\u001b[1;32m<ipython-input-72-3855d8924bd9>\u001b[0m in \u001b[0;36mfn_train\u001b[1;34m(oGAN)\u001b[0m\n\u001b[0;32m     56\u001b[0m             \u001b[0mlistTrainableGVariables\u001b[0m\u001b[1;33m.\u001b[0m\u001b[0mextend\u001b[0m\u001b[1;33m(\u001b[0m\u001b[0moGAN\u001b[0m\u001b[1;33m.\u001b[0m\u001b[0moSeqGe1\u001b[0m\u001b[1;33m.\u001b[0m\u001b[0mtrainable_variables\u001b[0m\u001b[1;33m)\u001b[0m\u001b[1;33m\u001b[0m\u001b[1;33m\u001b[0m\u001b[0m\n\u001b[0;32m     57\u001b[0m \u001b[1;33m\u001b[0m\u001b[0m\n\u001b[1;32m---> 58\u001b[1;33m             \u001b[0mlistGGradients\u001b[0m \u001b[1;33m=\u001b[0m \u001b[0moGradientTapeG\u001b[0m\u001b[1;33m.\u001b[0m\u001b[0mgradient\u001b[0m\u001b[1;33m(\u001b[0m\u001b[0mtensorGLoss\u001b[0m\u001b[1;33m,\u001b[0m \u001b[0mlistTrainableGVariables\u001b[0m\u001b[1;33m)\u001b[0m\u001b[1;33m\u001b[0m\u001b[1;33m\u001b[0m\u001b[0m\n\u001b[0m\u001b[0;32m     59\u001b[0m             \u001b[0moOptimizerG\u001b[0m\u001b[1;33m.\u001b[0m\u001b[0mapply_gradients\u001b[0m\u001b[1;33m(\u001b[0m\u001b[0mzip\u001b[0m\u001b[1;33m(\u001b[0m\u001b[0mlistGGradients\u001b[0m\u001b[1;33m,\u001b[0m \u001b[0mlistTrainableGVariables\u001b[0m\u001b[1;33m)\u001b[0m\u001b[1;33m)\u001b[0m\u001b[1;33m\u001b[0m\u001b[1;33m\u001b[0m\u001b[0m\n\u001b[0;32m     60\u001b[0m             \u001b[1;32mwith\u001b[0m \u001b[0moSummaryWriterALoss\u001b[0m\u001b[1;33m.\u001b[0m\u001b[0mas_default\u001b[0m\u001b[1;33m(\u001b[0m\u001b[1;33m)\u001b[0m\u001b[1;33m:\u001b[0m\u001b[1;33m\u001b[0m\u001b[1;33m\u001b[0m\u001b[0m\n",
      "\u001b[1;32md:\\py_virtualenv\\lib\\site-packages\\tensorflow_core\\python\\eager\\backprop.py\u001b[0m in \u001b[0;36mgradient\u001b[1;34m(self, target, sources, output_gradients, unconnected_gradients)\u001b[0m\n\u001b[0;32m   1012\u001b[0m         \u001b[0moutput_gradients\u001b[0m\u001b[1;33m=\u001b[0m\u001b[0moutput_gradients\u001b[0m\u001b[1;33m,\u001b[0m\u001b[1;33m\u001b[0m\u001b[1;33m\u001b[0m\u001b[0m\n\u001b[0;32m   1013\u001b[0m         \u001b[0msources_raw\u001b[0m\u001b[1;33m=\u001b[0m\u001b[0mflat_sources_raw\u001b[0m\u001b[1;33m,\u001b[0m\u001b[1;33m\u001b[0m\u001b[1;33m\u001b[0m\u001b[0m\n\u001b[1;32m-> 1014\u001b[1;33m         unconnected_gradients=unconnected_gradients)\n\u001b[0m\u001b[0;32m   1015\u001b[0m \u001b[1;33m\u001b[0m\u001b[0m\n\u001b[0;32m   1016\u001b[0m     \u001b[1;32mif\u001b[0m \u001b[1;32mnot\u001b[0m \u001b[0mself\u001b[0m\u001b[1;33m.\u001b[0m\u001b[0m_persistent\u001b[0m\u001b[1;33m:\u001b[0m\u001b[1;33m\u001b[0m\u001b[1;33m\u001b[0m\u001b[0m\n",
      "\u001b[1;32md:\\py_virtualenv\\lib\\site-packages\\tensorflow_core\\python\\eager\\imperative_grad.py\u001b[0m in \u001b[0;36mimperative_grad\u001b[1;34m(tape, target, sources, output_gradients, sources_raw, unconnected_gradients)\u001b[0m\n\u001b[0;32m     74\u001b[0m       \u001b[0moutput_gradients\u001b[0m\u001b[1;33m,\u001b[0m\u001b[1;33m\u001b[0m\u001b[1;33m\u001b[0m\u001b[0m\n\u001b[0;32m     75\u001b[0m       \u001b[0msources_raw\u001b[0m\u001b[1;33m,\u001b[0m\u001b[1;33m\u001b[0m\u001b[1;33m\u001b[0m\u001b[0m\n\u001b[1;32m---> 76\u001b[1;33m       compat.as_str(unconnected_gradients.value))\n\u001b[0m",
      "\u001b[1;32md:\\py_virtualenv\\lib\\site-packages\\tensorflow_core\\python\\eager\\backprop.py\u001b[0m in \u001b[0;36m_gradient_function\u001b[1;34m(op_name, attr_tuple, num_inputs, inputs, outputs, out_grads, skip_input_indices)\u001b[0m\n\u001b[0;32m    136\u001b[0m     \u001b[1;32mreturn\u001b[0m \u001b[1;33m[\u001b[0m\u001b[1;32mNone\u001b[0m\u001b[1;33m]\u001b[0m \u001b[1;33m*\u001b[0m \u001b[0mnum_inputs\u001b[0m\u001b[1;33m\u001b[0m\u001b[1;33m\u001b[0m\u001b[0m\n\u001b[0;32m    137\u001b[0m \u001b[1;33m\u001b[0m\u001b[0m\n\u001b[1;32m--> 138\u001b[1;33m   \u001b[1;32mreturn\u001b[0m \u001b[0mgrad_fn\u001b[0m\u001b[1;33m(\u001b[0m\u001b[0mmock_op\u001b[0m\u001b[1;33m,\u001b[0m \u001b[1;33m*\u001b[0m\u001b[0mout_grads\u001b[0m\u001b[1;33m)\u001b[0m\u001b[1;33m\u001b[0m\u001b[1;33m\u001b[0m\u001b[0m\n\u001b[0m\u001b[0;32m    139\u001b[0m \u001b[1;33m\u001b[0m\u001b[0m\n\u001b[0;32m    140\u001b[0m \u001b[1;33m\u001b[0m\u001b[0m\n",
      "\u001b[1;32md:\\py_virtualenv\\lib\\site-packages\\tensorflow_core\\python\\ops\\math_grad.py\u001b[0m in \u001b[0;36m_MeanGrad\u001b[1;34m(op, grad)\u001b[0m\n\u001b[0;32m    235\u001b[0m \u001b[1;32mdef\u001b[0m \u001b[0m_MeanGrad\u001b[0m\u001b[1;33m(\u001b[0m\u001b[0mop\u001b[0m\u001b[1;33m,\u001b[0m \u001b[0mgrad\u001b[0m\u001b[1;33m)\u001b[0m\u001b[1;33m:\u001b[0m\u001b[1;33m\u001b[0m\u001b[1;33m\u001b[0m\u001b[0m\n\u001b[0;32m    236\u001b[0m   \u001b[1;34m\"\"\"Gradient for Mean.\"\"\"\u001b[0m\u001b[1;33m\u001b[0m\u001b[1;33m\u001b[0m\u001b[0m\n\u001b[1;32m--> 237\u001b[1;33m   \u001b[0msum_grad\u001b[0m \u001b[1;33m=\u001b[0m \u001b[0m_SumGrad\u001b[0m\u001b[1;33m(\u001b[0m\u001b[0mop\u001b[0m\u001b[1;33m,\u001b[0m \u001b[0mgrad\u001b[0m\u001b[1;33m)\u001b[0m\u001b[1;33m[\u001b[0m\u001b[1;36m0\u001b[0m\u001b[1;33m]\u001b[0m\u001b[1;33m\u001b[0m\u001b[1;33m\u001b[0m\u001b[0m\n\u001b[0m\u001b[0;32m    238\u001b[0m   \u001b[0minput_shape\u001b[0m \u001b[1;33m=\u001b[0m \u001b[0mop\u001b[0m\u001b[1;33m.\u001b[0m\u001b[0minputs\u001b[0m\u001b[1;33m[\u001b[0m\u001b[1;36m0\u001b[0m\u001b[1;33m]\u001b[0m\u001b[1;33m.\u001b[0m\u001b[0m_shape_tuple\u001b[0m\u001b[1;33m(\u001b[0m\u001b[1;33m)\u001b[0m  \u001b[1;31m# pylint: disable=protected-access\u001b[0m\u001b[1;33m\u001b[0m\u001b[1;33m\u001b[0m\u001b[0m\n\u001b[0;32m    239\u001b[0m   \u001b[0moutput_shape\u001b[0m \u001b[1;33m=\u001b[0m \u001b[0mop\u001b[0m\u001b[1;33m.\u001b[0m\u001b[0moutputs\u001b[0m\u001b[1;33m[\u001b[0m\u001b[1;36m0\u001b[0m\u001b[1;33m]\u001b[0m\u001b[1;33m.\u001b[0m\u001b[0m_shape_tuple\u001b[0m\u001b[1;33m(\u001b[0m\u001b[1;33m)\u001b[0m  \u001b[1;31m# pylint: disable=protected-access\u001b[0m\u001b[1;33m\u001b[0m\u001b[1;33m\u001b[0m\u001b[0m\n",
      "\u001b[1;32md:\\py_virtualenv\\lib\\site-packages\\tensorflow_core\\python\\ops\\math_grad.py\u001b[0m in \u001b[0;36m_SumGrad\u001b[1;34m(op, grad)\u001b[0m\n\u001b[0;32m    198\u001b[0m   \u001b[1;32mwith\u001b[0m \u001b[0mops\u001b[0m\u001b[1;33m.\u001b[0m\u001b[0mcolocate_with\u001b[0m\u001b[1;33m(\u001b[0m\u001b[0minput_shape\u001b[0m\u001b[1;33m)\u001b[0m\u001b[1;33m:\u001b[0m\u001b[1;33m\u001b[0m\u001b[1;33m\u001b[0m\u001b[0m\n\u001b[0;32m    199\u001b[0m     \u001b[0moutput_shape_kept_dims\u001b[0m \u001b[1;33m=\u001b[0m \u001b[0mmath_ops\u001b[0m\u001b[1;33m.\u001b[0m\u001b[0mreduced_shape\u001b[0m\u001b[1;33m(\u001b[0m\u001b[0minput_shape\u001b[0m\u001b[1;33m,\u001b[0m \u001b[0mop\u001b[0m\u001b[1;33m.\u001b[0m\u001b[0minputs\u001b[0m\u001b[1;33m[\u001b[0m\u001b[1;36m1\u001b[0m\u001b[1;33m]\u001b[0m\u001b[1;33m)\u001b[0m\u001b[1;33m\u001b[0m\u001b[1;33m\u001b[0m\u001b[0m\n\u001b[1;32m--> 200\u001b[1;33m     \u001b[0mtile_scaling\u001b[0m \u001b[1;33m=\u001b[0m \u001b[0m_safe_shape_div\u001b[0m\u001b[1;33m(\u001b[0m\u001b[0minput_shape\u001b[0m\u001b[1;33m,\u001b[0m \u001b[0moutput_shape_kept_dims\u001b[0m\u001b[1;33m)\u001b[0m\u001b[1;33m\u001b[0m\u001b[1;33m\u001b[0m\u001b[0m\n\u001b[0m\u001b[0;32m    201\u001b[0m   \u001b[0mgrad\u001b[0m \u001b[1;33m=\u001b[0m \u001b[0marray_ops\u001b[0m\u001b[1;33m.\u001b[0m\u001b[0mreshape\u001b[0m\u001b[1;33m(\u001b[0m\u001b[0mgrad\u001b[0m\u001b[1;33m,\u001b[0m \u001b[0moutput_shape_kept_dims\u001b[0m\u001b[1;33m)\u001b[0m\u001b[1;33m\u001b[0m\u001b[1;33m\u001b[0m\u001b[0m\n\u001b[0;32m    202\u001b[0m   \u001b[1;32mreturn\u001b[0m \u001b[1;33m[\u001b[0m\u001b[0marray_ops\u001b[0m\u001b[1;33m.\u001b[0m\u001b[0mtile\u001b[0m\u001b[1;33m(\u001b[0m\u001b[0mgrad\u001b[0m\u001b[1;33m,\u001b[0m \u001b[0mtile_scaling\u001b[0m\u001b[1;33m)\u001b[0m\u001b[1;33m,\u001b[0m \u001b[1;32mNone\u001b[0m\u001b[1;33m]\u001b[0m\u001b[1;33m\u001b[0m\u001b[1;33m\u001b[0m\u001b[0m\n",
      "\u001b[1;32md:\\py_virtualenv\\lib\\site-packages\\tensorflow_core\\python\\ops\\math_grad.py\u001b[0m in \u001b[0;36m_safe_shape_div\u001b[1;34m(x, y)\u001b[0m\n\u001b[0;32m     36\u001b[0m \u001b[1;32mdef\u001b[0m \u001b[0m_safe_shape_div\u001b[0m\u001b[1;33m(\u001b[0m\u001b[0mx\u001b[0m\u001b[1;33m,\u001b[0m \u001b[0my\u001b[0m\u001b[1;33m)\u001b[0m\u001b[1;33m:\u001b[0m\u001b[1;33m\u001b[0m\u001b[1;33m\u001b[0m\u001b[0m\n\u001b[0;32m     37\u001b[0m   \u001b[1;34m\"\"\"Divides `x / y` assuming `x, y >= 0`, treating `0 / 0 = 0`.\"\"\"\u001b[0m\u001b[1;33m\u001b[0m\u001b[1;33m\u001b[0m\u001b[0m\n\u001b[1;32m---> 38\u001b[1;33m   \u001b[1;32mreturn\u001b[0m \u001b[0mx\u001b[0m \u001b[1;33m//\u001b[0m \u001b[0mmath_ops\u001b[0m\u001b[1;33m.\u001b[0m\u001b[0mmaximum\u001b[0m\u001b[1;33m(\u001b[0m\u001b[0my\u001b[0m\u001b[1;33m,\u001b[0m \u001b[1;36m1\u001b[0m\u001b[1;33m)\u001b[0m\u001b[1;33m\u001b[0m\u001b[1;33m\u001b[0m\u001b[0m\n\u001b[0m\u001b[0;32m     39\u001b[0m \u001b[1;33m\u001b[0m\u001b[0m\n\u001b[0;32m     40\u001b[0m \u001b[1;33m\u001b[0m\u001b[0m\n",
      "\u001b[1;32md:\\py_virtualenv\\lib\\site-packages\\tensorflow_core\\python\\ops\\gen_math_ops.py\u001b[0m in \u001b[0;36mmaximum\u001b[1;34m(x, y, name)\u001b[0m\n\u001b[0;32m   6279\u001b[0m       _result = _pywrap_tensorflow.TFE_Py_FastPathExecute(\n\u001b[0;32m   6280\u001b[0m         \u001b[0m_ctx\u001b[0m\u001b[1;33m.\u001b[0m\u001b[0m_context_handle\u001b[0m\u001b[1;33m,\u001b[0m \u001b[0m_ctx\u001b[0m\u001b[1;33m.\u001b[0m\u001b[0m_thread_local_data\u001b[0m\u001b[1;33m.\u001b[0m\u001b[0mdevice_name\u001b[0m\u001b[1;33m,\u001b[0m \u001b[1;34m\"Maximum\"\u001b[0m\u001b[1;33m,\u001b[0m\u001b[1;33m\u001b[0m\u001b[1;33m\u001b[0m\u001b[0m\n\u001b[1;32m-> 6281\u001b[1;33m         name, _ctx._post_execution_callbacks, x, y)\n\u001b[0m\u001b[0;32m   6282\u001b[0m       \u001b[1;32mreturn\u001b[0m \u001b[0m_result\u001b[0m\u001b[1;33m\u001b[0m\u001b[1;33m\u001b[0m\u001b[0m\n\u001b[0;32m   6283\u001b[0m     \u001b[1;32mexcept\u001b[0m \u001b[0m_core\u001b[0m\u001b[1;33m.\u001b[0m\u001b[0m_FallbackException\u001b[0m\u001b[1;33m:\u001b[0m\u001b[1;33m\u001b[0m\u001b[1;33m\u001b[0m\u001b[0m\n",
      "\u001b[1;31mKeyboardInterrupt\u001b[0m: "
     ]
    }
   ],
   "source": [
    "oSeqGe = None\n",
    "oSeqGd = None\n",
    "oSeqGe1 = None\n",
    "fn_train(oGANbit)"
   ]
  },
  {
   "cell_type": "code",
   "execution_count": 105,
   "metadata": {},
   "outputs": [],
   "source": [
    "strGe = \"Ge.h5\"\n",
    "strGd = \"Gd.h5\"\n",
    "strGe1 = \"Ge1.h5\"\n",
    "strRootDir = \"models/nobranch/sync/bit\"\n",
    "strModelsDir = os.path.join(strRootDir, \"(10,5)\")\n",
    "strGeFile = os.path.join(strModelsDir, strGe)\n",
    "strGdFile = os.path.join(strModelsDir, strGd)\n",
    "strGe1File = os.path.join(strModelsDir, strGe1)"
   ]
  },
  {
   "cell_type": "code",
   "execution_count": 139,
   "metadata": {},
   "outputs": [],
   "source": [
    "if os.path.exists(strModelsDir):\n",
    "    shutil.rmtree(strModelsDir)\n",
    "os.mkdir(strModelsDir)"
   ]
  },
  {
   "cell_type": "code",
   "execution_count": 140,
   "metadata": {},
   "outputs": [],
   "source": [
    "oSeqGe.save(strGeFile)\n",
    "oSeqGd.save(strGdFile)\n",
    "oSeqGe1.save(strGe1File)"
   ]
  },
  {
   "cell_type": "markdown",
   "metadata": {},
   "source": [
    "### 评估"
   ]
  },
  {
   "cell_type": "code",
   "execution_count": 106,
   "metadata": {},
   "outputs": [
    {
     "name": "stdout",
     "output_type": "stream",
     "text": [
      "WARNING:tensorflow:No training configuration found in save file: the model was *not* compiled. Compile it manually.\n",
      "WARNING:tensorflow:No training configuration found in save file: the model was *not* compiled. Compile it manually.\n",
      "WARNING:tensorflow:No training configuration found in save file: the model was *not* compiled. Compile it manually.\n"
     ]
    }
   ],
   "source": [
    "oSeqGe = tf.keras.models.load_model(strGeFile)\n",
    "oSeqGd = tf.keras.models.load_model(strGdFile)\n",
    "oSeqGe1 = tf.keras.models.load_model(strGe1File)"
   ]
  },
  {
   "cell_type": "code",
   "execution_count": 142,
   "metadata": {},
   "outputs": [],
   "source": [
    "# 算出正常训练集和异常测试集的分数\n",
    "# train samples\n",
    "for strJob in os.listdir(strJobsDir):\n",
    "    listDemodDirs = fn_getDemodDirsOfAJob(os.path.join(strJobsDir, strJob))\n",
    "    for strDemodDir in listDemodDirs:\n",
    "        strSamplesDir = os.path.join(strDemodDir, \"parts/sync/bit/samples/normal/train\")\n",
    "        pdDfPreprocessedSamples = pd.read_csv(\\\n",
    "              os.path.join(strSamplesDir, \"preprocessed/samples.csv\"))\n",
    "        pdDfSamples = pd.read_csv(os.path.join(strSamplesDir, \"samples.csv\"), index_col=\"RECTIME\")\n",
    "        # 分数csv包含scores列\n",
    "        pdDfScores = fn_score(pdDfPreprocessedSamples)\n",
    "        pdDfScores.index = pdDfSamples.index\n",
    "\n",
    "        pdDfScores.to_csv(os.path.join(strSamplesDir, \"preprocessed/scores.csv\"), index_label=\"RECTIME\")\n",
    "        \n",
    "# Abnormal samples\n",
    "for strJob in os.listdir(strJobsDir):\n",
    "    listDemodDirs = fn_getDemodDirsOfAJob(os.path.join(strJobsDir, strJob))\n",
    "    for strDemodDir in listDemodDirs:\n",
    "        strSamplesDir = os.path.join(strDemodDir, \"parts/sync/bit/samples/abnormal\")\n",
    "        pdDfPreprocessedSamples = pd.read_csv(os.path.join(strSamplesDir, \"preprocessed/samples.csv\"), index_col=\"RECTIME\")\n",
    "        pdDfScores = fn_score(pdDfPreprocessedSamples)\n",
    "\n",
    "        pdDfScores.to_csv(os.path.join(strSamplesDir, \"preprocessed/scores.csv\"), index_label=\"RECTIME\")"
   ]
  },
  {
   "cell_type": "code",
   "execution_count": 21,
   "metadata": {},
   "outputs": [],
   "source": [
    "# 读入正常测试样本和异常测试样本的分数，分别存入numpy数组\n",
    "listScores = []\n",
    "listX = []\n",
    "for strJob in os.listdir(strJobsDir):\n",
    "    strJobDir = os.path.join(strJobsDir, strJob)\n",
    "    listDemodDirs = fn_getDemodDirsOfAJob(strJobDir)\n",
    "    for strDemodDir in listDemodDirs:\n",
    "        strNormalTestingScoresFile = os.path.join(strDemodDir, \\\n",
    "                                                  \"parts/sync/bit/samples/normal/train/preprocessed/scores.csv\")\n",
    "        pdDfNormalTestingScores = pd.read_csv(strNormalTestingScoresFile, index_col=\"RECTIME\")\n",
    "        \n",
    "        if not pdDfNormalTestingScores.empty:\n",
    "            listScores.append(pdDfNormalTestingScores[\"score\"].values)\n",
    "            \n",
    "            # 分数的横坐标——用crc编码“解调器名+上报时间”\n",
    "            strDemod = os.path.split(strDemodDir)[1]\n",
    "            listX.append([hash(strDemod + strIndex) for strIndex in pdDfNormalTestingScores.index])\n",
    "            \n",
    "npNormalScores = np.concatenate(listScores)\n",
    "npNormalX = np.concatenate(listX)"
   ]
  },
  {
   "cell_type": "code",
   "execution_count": 22,
   "metadata": {},
   "outputs": [],
   "source": [
    "listScores = []\n",
    "listX = []\n",
    "for strJob in os.listdir(strJobsDir):\n",
    "    strJobDir = os.path.join(strJobsDir, strJob)\n",
    "    listDemodDirs = fn_getDemodDirsOfAJob(strJobDir)\n",
    "    for strDemodDir in listDemodDirs:\n",
    "        strAbnormalTestingScoresFile = os.path.join(strDemodDir, \\\n",
    "                                                  \"parts/sync/bit/samples/abnormal/preprocessed/scores.csv\")\n",
    "        pdDfAbnormalTestingScores = pd.read_csv(strAbnormalTestingScoresFile, index_col=\"RECTIME\")\n",
    "        if not pdDfAbnormalTestingScores.empty:\n",
    "            listScores.append(pdDfAbnormalTestingScores[\"score\"].values)\n",
    "            \n",
    "             # 分数的横坐标——用crc编码“解调器名+上报时间”\n",
    "            strDemod = os.path.split(strDemodDir)[1]\n",
    "            listX.append([hash(strDemod + strIndex) for strIndex in pdDfAbnormalTestingScores.index])\n",
    "            \n",
    "npAbnormalScores = np.concatenate(listScores)\n",
    "npAbnormalX = np.concatenate(listX)"
   ]
  },
  {
   "cell_type": "code",
   "execution_count": 23,
   "metadata": {},
   "outputs": [],
   "source": [
    "\"\"\"\n",
    "通过正常训练样本的分数计算相应的正太分布，利用正态分布计算异常样本该部分正确的概率\n",
    "\"\"\"\n",
    "fMeanbit = np.mean(npNormalScores)\n",
    "fSigmabit = np.var(npNormalScores)\n",
    "npAbnormalprob = np.apply_along_axis(lambda x: 1 if x <= fMeanbit else ss.norm.sf(x, fMeanbit, fSigmabit), 1, \\\n",
    "     npAbnormalScores[:, np.newaxis])"
   ]
  },
  {
   "cell_type": "code",
   "execution_count": 24,
   "metadata": {},
   "outputs": [
    {
     "data": {
      "image/png": "[encoded data removed]",
      "text/plain": [
       "<Figure size 1080x720 with 1 Axes>"
      ]
     },
     "metadata": {
      "needs_background": "light"
     },
     "output_type": "display_data"
    }
   ],
   "source": [
    "plt.figure(figsize=(15, 10))\n",
    "plt.scatter(npAbnormalX, npAbnormalprob, s=40)\n",
    "plt.show()"
   ]
  },
  {
   "cell_type": "markdown",
   "metadata": {},
   "source": [
    "## 维特比译码"
   ]
  },
  {
   "cell_type": "markdown",
   "metadata": {},
   "source": [
    "### 构造建立模型"
   ]
  },
  {
   "cell_type": "code",
   "execution_count": 175,
   "metadata": {},
   "outputs": [],
   "source": [
    "# 17参数\n",
    "class GANvi(object):\n",
    "    def __init__(self):\n",
    "        self.fn_makeGenerator()\n",
    "        self.fn_makeDiscriminator()\n",
    "        \n",
    "    def fn_makeGenerator(self):\n",
    "        self.oSeqGe = tf.keras.Sequential(name=\"Ge\")\n",
    "        self.oSeqGe.add(tf.keras.Input(shape=(17,)))\n",
    "        self.oSeqGe.add(tf.keras.layers.Dense(8, kernel_initializer=\"he_normal\"))\n",
    "        self.oSeqGe.add(tf.keras.layers.LeakyReLU())\n",
    "        self.oSeqGe.add(tf.keras.layers.BatchNormalization())\n",
    "        self.oSeqGe.add(tf.keras.layers.Dense(8, kernel_initializer=\"he_normal\"))\n",
    "        self.oSeqGe.add(tf.keras.layers.LeakyReLU())\n",
    "\n",
    "        self.oSeqGd = tf.keras.Sequential(name=\"Gd\")\n",
    "        self.oSeqGd.add(tf.keras.Input(shape=(8,)))\n",
    "        self.oSeqGd.add(tf.keras.layers.Dense(8, kernel_initializer=\"he_normal\"))\n",
    "        self.oSeqGd.add(tf.keras.layers.LeakyReLU())\n",
    "        self.oSeqGd.add(tf.keras.layers.BatchNormalization())\n",
    "        self.oSeqGd.add(tf.keras.layers.Dense(17, activation = tf.keras.activations.tanh, kernel_initializer=\"he_normal\"))\n",
    "        \n",
    "        self.oSeqGe1 = tf.keras.Sequential(name=\"Ge1\")\n",
    "        self.oSeqGe1.add(tf.keras.Input(shape=(17,)))\n",
    "        self.oSeqGe1.add(tf.keras.layers.Dense(8, kernel_initializer=\"he_normal\"))\n",
    "        self.oSeqGe1.add(tf.keras.layers.LeakyReLU())\n",
    "        self.oSeqGe1.add(tf.keras.layers.BatchNormalization())\n",
    "        self.oSeqGe1.add(tf.keras.layers.Dense(8, kernel_initializer=\"he_normal\"))\n",
    "        self.oSeqGe1.add(tf.keras.layers.LeakyReLU())\n",
    "        \n",
    "    def fn_makeDiscriminator(self):\n",
    "        self.oSeqDInner = tf.keras.Sequential(name=\"DInner\")\n",
    "        self.oSeqDInner.add(tf.keras.Input(shape=(17,)))\n",
    "        self.oSeqDInner.add(tf.keras.layers.Dense(8, kernel_initializer=\"he_normal\"))\n",
    "        self.oSeqDInner.add(tf.keras.layers.LeakyReLU())\n",
    "        self.oSeqDInner.add(tf.keras.layers.BatchNormalization())\n",
    "        self.oSeqDInner.add(tf.keras.layers.Dense(8, kernel_initializer=\"he_normal\"))\n",
    "        self.oSeqDInner.add(tf.keras.layers.LeakyReLU())\n",
    "        self.oSeqDInner.add(tf.keras.layers.BatchNormalization())\n",
    "\n",
    "        self.oSeqD = tf.keras.Sequential([\n",
    "            self.oSeqDInner,\n",
    "            tf.keras.layers.Dense(1, activation = tf.keras.activations.sigmoid)\n",
    "        ], name=\"D\")"
   ]
  },
  {
   "cell_type": "code",
   "execution_count": 176,
   "metadata": {},
   "outputs": [],
   "source": [
    "# 新建模型\n",
    "tf.keras.backend.clear_session()\n",
    "oGANvi = GANvi()"
   ]
  },
  {
   "cell_type": "markdown",
   "metadata": {},
   "source": [
    "### 构造数据集"
   ]
  },
  {
   "cell_type": "code",
   "execution_count": 177,
   "metadata": {},
   "outputs": [],
   "source": [
    "g_nFeatures = 17\n",
    "g_nBatchSize = 256\n",
    "\n",
    "def fn_splitCsvLine(strLine):\n",
    "    tensorDefs = [0.] * g_nFeatures\n",
    "    tensorRecord = tf.io.decode_csv(strLine, record_defaults=tensorDefs)\n",
    "    tensorX = tf.stack(tensorRecord)\n",
    "    return tensorX\n",
    "\n",
    "oDataset = tf.data.Dataset.list_files(strJobsDir + \"/*/*/parts/sync/vi/samples/normal/train/preprocessed/samples.csv\")\n",
    "oDataset = oDataset.interleave(lambda strSamplesFile: tf.data.TextLineDataset(strSamplesFile).skip(1), \\\n",
    "                              cycle_length=5, num_parallel_calls=5)\n",
    "oDataset = oDataset.map(fn_splitCsvLine, g_nFeatures)\n",
    "oDataset = oDataset.shuffle(1000)\n",
    "oDataset = oDataset.batch(g_nBatchSize)"
   ]
  },
  {
   "cell_type": "code",
   "execution_count": 160,
   "metadata": {},
   "outputs": [],
   "source": [
    "# 读入所有的训练样本，从而通过shape属性得到训练集大小，存入全局变量中\n",
    "listPreprocessedNormalTrainingSamples = []\n",
    "for strJob in os.listdir(strJobsDir):\n",
    "    strJobDir = os.path.join(strJobsDir, strJob)\n",
    "    listDemodDirs = fn_getDemodDirsOfAJob(strJobDir)\n",
    "    for strDemodDir in listDemodDirs:\n",
    "        strPreprocessedNormalTrainingSamplesFile = os.path.join(strDemodDir, \\\n",
    "                                                   \"parts/sync/vi/samples/normal/train/preprocessed/samples.csv\")\n",
    "        pdDfPreprocessedNormalTrainingSamples = pd.read_csv(strPreprocessedNormalTrainingSamplesFile)\n",
    "        listPreprocessedNormalTrainingSamples.append(pdDfPreprocessedNormalTrainingSamples)\n",
    "pdDfPreprocessedNormalTrainingSamples = pd.concat(listPreprocessedNormalTrainingSamples)\n",
    "g_tensorNormalTrainingSamples = tf.constant(pdDfPreprocessedNormalTrainingSamples.values, dtype=tf.float32)\n",
    "g_nTrainingSize = len(g_tensorNormalTrainingSamples)"
   ]
  },
  {
   "cell_type": "markdown",
   "metadata": {},
   "source": [
    "### 训练"
   ]
  },
  {
   "cell_type": "code",
   "execution_count": 178,
   "metadata": {},
   "outputs": [],
   "source": [
    "# g_nTrainingSize在中频控制已经设置好了\n",
    "g_nEpochs = 10000\n",
    "nSteps = g_nEpochs * g_nTrainingSize // g_nBatchSize\n",
    "oExponentialDecay = tf.keras.optimizers.schedules.ExponentialDecay(1e-2, nSteps, 1e-1)\n",
    "oOptimizerG = tf.keras.optimizers.Adam(learning_rate=oExponentialDecay)\n",
    "oOptimizerD = tf.keras.optimizers.SGD(learning_rate=oExponentialDecay)"
   ]
  },
  {
   "cell_type": "code",
   "execution_count": 179,
   "metadata": {},
   "outputs": [],
   "source": [
    "strD = \"(17,8)_D\"\n",
    "strA = \"(17,8)_A\"\n",
    "strRootDir = \"logs/nobranch/sync/vi\"\n",
    "strDDir = os.path.join(strRootDir, strD)\n",
    "strADir = os.path.join(strRootDir, strA)\n",
    "if os.path.exists(strDDir):\n",
    "    shutil.rmtree(strDDir)\n",
    "if os.path.exists(strADir):\n",
    "    shutil.rmtree(strADir)"
   ]
  },
  {
   "cell_type": "code",
   "execution_count": 180,
   "metadata": {},
   "outputs": [],
   "source": [
    "oSummaryWriterDLoss = tf.summary.create_file_writer(strDDir)\n",
    "oSummaryWriterALoss = tf.summary.create_file_writer(strADir)"
   ]
  },
  {
   "cell_type": "code",
   "execution_count": 181,
   "metadata": {},
   "outputs": [
    {
     "name": "stdout",
     "output_type": "stream",
     "text": [
      "1591/10000"
     ]
    },
    {
     "ename": "KeyboardInterrupt",
     "evalue": "",
     "output_type": "error",
     "traceback": [
      "\u001b[1;31m---------------------------------------------------------------------------\u001b[0m",
      "\u001b[1;31mKeyboardInterrupt\u001b[0m                         Traceback (most recent call last)",
      "\u001b[1;32m<ipython-input-181-110ef214f3db>\u001b[0m in \u001b[0;36m<module>\u001b[1;34m\u001b[0m\n\u001b[0;32m      2\u001b[0m \u001b[0moSeqGd\u001b[0m \u001b[1;33m=\u001b[0m \u001b[1;32mNone\u001b[0m\u001b[1;33m\u001b[0m\u001b[1;33m\u001b[0m\u001b[0m\n\u001b[0;32m      3\u001b[0m \u001b[0moSeqGe1\u001b[0m \u001b[1;33m=\u001b[0m \u001b[1;32mNone\u001b[0m\u001b[1;33m\u001b[0m\u001b[1;33m\u001b[0m\u001b[0m\n\u001b[1;32m----> 4\u001b[1;33m \u001b[0mfn_train\u001b[0m\u001b[1;33m(\u001b[0m\u001b[0moGANvi\u001b[0m\u001b[1;33m)\u001b[0m\u001b[1;33m\u001b[0m\u001b[1;33m\u001b[0m\u001b[0m\n\u001b[0m",
      "\u001b[1;32m<ipython-input-72-3855d8924bd9>\u001b[0m in \u001b[0;36mfn_train\u001b[1;34m(oGAN)\u001b[0m\n\u001b[0;32m     49\u001b[0m             \u001b[1;31m# Train genertor\u001b[0m\u001b[1;33m\u001b[0m\u001b[1;33m\u001b[0m\u001b[1;33m\u001b[0m\u001b[0m\n\u001b[0;32m     50\u001b[0m             \u001b[1;32mwith\u001b[0m \u001b[0mtf\u001b[0m\u001b[1;33m.\u001b[0m\u001b[0mGradientTape\u001b[0m\u001b[1;33m(\u001b[0m\u001b[1;33m)\u001b[0m \u001b[1;32mas\u001b[0m \u001b[0moGradientTapeG\u001b[0m\u001b[1;33m:\u001b[0m\u001b[1;33m\u001b[0m\u001b[1;33m\u001b[0m\u001b[0m\n\u001b[1;32m---> 51\u001b[1;33m                 \u001b[0mtensorGLoss\u001b[0m \u001b[1;33m=\u001b[0m \u001b[0mfn_getGLoss\u001b[0m\u001b[1;33m(\u001b[0m\u001b[0mtensorBatch\u001b[0m\u001b[1;33m)\u001b[0m\u001b[1;33m\u001b[0m\u001b[1;33m\u001b[0m\u001b[0m\n\u001b[0m\u001b[0;32m     52\u001b[0m             \u001b[1;31m# Insert all generator trainable variables into a list\u001b[0m\u001b[1;33m\u001b[0m\u001b[1;33m\u001b[0m\u001b[1;33m\u001b[0m\u001b[0m\n\u001b[0;32m     53\u001b[0m             \u001b[0mlistTrainableGVariables\u001b[0m \u001b[1;33m=\u001b[0m \u001b[1;33m[\u001b[0m\u001b[1;33m]\u001b[0m\u001b[1;33m\u001b[0m\u001b[1;33m\u001b[0m\u001b[0m\n",
      "\u001b[1;32m<ipython-input-72-3855d8924bd9>\u001b[0m in \u001b[0;36mfn_getGLoss\u001b[1;34m(tensorInput)\u001b[0m\n\u001b[0;32m      3\u001b[0m         \u001b[1;31m# Apperant loss\u001b[0m\u001b[1;33m\u001b[0m\u001b[1;33m\u001b[0m\u001b[1;33m\u001b[0m\u001b[0m\n\u001b[0;32m      4\u001b[0m         \u001b[0mtensorEncodedSamples\u001b[0m \u001b[1;33m=\u001b[0m \u001b[0moGAN\u001b[0m\u001b[1;33m.\u001b[0m\u001b[0moSeqGe\u001b[0m\u001b[1;33m(\u001b[0m\u001b[0mtensorInput\u001b[0m\u001b[1;33m)\u001b[0m\u001b[1;33m\u001b[0m\u001b[1;33m\u001b[0m\u001b[0m\n\u001b[1;32m----> 5\u001b[1;33m         \u001b[0mtensorFakeSamples\u001b[0m \u001b[1;33m=\u001b[0m \u001b[0moGAN\u001b[0m\u001b[1;33m.\u001b[0m\u001b[0moSeqGd\u001b[0m\u001b[1;33m(\u001b[0m\u001b[0mtensorEncodedSamples\u001b[0m\u001b[1;33m)\u001b[0m\u001b[1;33m\u001b[0m\u001b[1;33m\u001b[0m\u001b[0m\n\u001b[0m\u001b[0;32m      6\u001b[0m         \u001b[0mtensorApperantLoss\u001b[0m \u001b[1;33m=\u001b[0m \u001b[0mtf\u001b[0m\u001b[1;33m.\u001b[0m\u001b[0mreduce_mean\u001b[0m\u001b[1;33m(\u001b[0m\u001b[0mtf\u001b[0m\u001b[1;33m.\u001b[0m\u001b[0mlosses\u001b[0m\u001b[1;33m.\u001b[0m\u001b[0mmean_absolute_error\u001b[0m\u001b[1;33m(\u001b[0m\u001b[0mtensorInput\u001b[0m\u001b[1;33m,\u001b[0m \u001b[0mtensorFakeSamples\u001b[0m\u001b[1;33m)\u001b[0m\u001b[1;33m)\u001b[0m\u001b[1;33m\u001b[0m\u001b[1;33m\u001b[0m\u001b[0m\n\u001b[0;32m      7\u001b[0m \u001b[1;33m\u001b[0m\u001b[0m\n",
      "\u001b[1;32md:\\py_virtualenv\\lib\\site-packages\\tensorflow_core\\python\\keras\\engine\\base_layer.py\u001b[0m in \u001b[0;36m__call__\u001b[1;34m(self, inputs, *args, **kwargs)\u001b[0m\n\u001b[0;32m    889\u001b[0m           with base_layer_utils.autocast_context_manager(\n\u001b[0;32m    890\u001b[0m               self._compute_dtype):\n\u001b[1;32m--> 891\u001b[1;33m             \u001b[0moutputs\u001b[0m \u001b[1;33m=\u001b[0m \u001b[0mself\u001b[0m\u001b[1;33m.\u001b[0m\u001b[0mcall\u001b[0m\u001b[1;33m(\u001b[0m\u001b[0mcast_inputs\u001b[0m\u001b[1;33m,\u001b[0m \u001b[1;33m*\u001b[0m\u001b[0margs\u001b[0m\u001b[1;33m,\u001b[0m \u001b[1;33m**\u001b[0m\u001b[0mkwargs\u001b[0m\u001b[1;33m)\u001b[0m\u001b[1;33m\u001b[0m\u001b[1;33m\u001b[0m\u001b[0m\n\u001b[0m\u001b[0;32m    892\u001b[0m           \u001b[0mself\u001b[0m\u001b[1;33m.\u001b[0m\u001b[0m_handle_activity_regularization\u001b[0m\u001b[1;33m(\u001b[0m\u001b[0minputs\u001b[0m\u001b[1;33m,\u001b[0m \u001b[0moutputs\u001b[0m\u001b[1;33m)\u001b[0m\u001b[1;33m\u001b[0m\u001b[1;33m\u001b[0m\u001b[0m\n\u001b[0;32m    893\u001b[0m           \u001b[0mself\u001b[0m\u001b[1;33m.\u001b[0m\u001b[0m_set_mask_metadata\u001b[0m\u001b[1;33m(\u001b[0m\u001b[0minputs\u001b[0m\u001b[1;33m,\u001b[0m \u001b[0moutputs\u001b[0m\u001b[1;33m,\u001b[0m \u001b[0minput_masks\u001b[0m\u001b[1;33m)\u001b[0m\u001b[1;33m\u001b[0m\u001b[1;33m\u001b[0m\u001b[0m\n",
      "\u001b[1;32md:\\py_virtualenv\\lib\\site-packages\\tensorflow_core\\python\\keras\\engine\\sequential.py\u001b[0m in \u001b[0;36mcall\u001b[1;34m(self, inputs, training, mask)\u001b[0m\n\u001b[0;32m    254\u001b[0m       \u001b[1;32mif\u001b[0m \u001b[1;32mnot\u001b[0m \u001b[0mself\u001b[0m\u001b[1;33m.\u001b[0m\u001b[0mbuilt\u001b[0m\u001b[1;33m:\u001b[0m\u001b[1;33m\u001b[0m\u001b[1;33m\u001b[0m\u001b[0m\n\u001b[0;32m    255\u001b[0m         \u001b[0mself\u001b[0m\u001b[1;33m.\u001b[0m\u001b[0m_init_graph_network\u001b[0m\u001b[1;33m(\u001b[0m\u001b[0mself\u001b[0m\u001b[1;33m.\u001b[0m\u001b[0minputs\u001b[0m\u001b[1;33m,\u001b[0m \u001b[0mself\u001b[0m\u001b[1;33m.\u001b[0m\u001b[0moutputs\u001b[0m\u001b[1;33m,\u001b[0m \u001b[0mname\u001b[0m\u001b[1;33m=\u001b[0m\u001b[0mself\u001b[0m\u001b[1;33m.\u001b[0m\u001b[0mname\u001b[0m\u001b[1;33m)\u001b[0m\u001b[1;33m\u001b[0m\u001b[1;33m\u001b[0m\u001b[0m\n\u001b[1;32m--> 256\u001b[1;33m       \u001b[1;32mreturn\u001b[0m \u001b[0msuper\u001b[0m\u001b[1;33m(\u001b[0m\u001b[0mSequential\u001b[0m\u001b[1;33m,\u001b[0m \u001b[0mself\u001b[0m\u001b[1;33m)\u001b[0m\u001b[1;33m.\u001b[0m\u001b[0mcall\u001b[0m\u001b[1;33m(\u001b[0m\u001b[0minputs\u001b[0m\u001b[1;33m,\u001b[0m \u001b[0mtraining\u001b[0m\u001b[1;33m=\u001b[0m\u001b[0mtraining\u001b[0m\u001b[1;33m,\u001b[0m \u001b[0mmask\u001b[0m\u001b[1;33m=\u001b[0m\u001b[0mmask\u001b[0m\u001b[1;33m)\u001b[0m\u001b[1;33m\u001b[0m\u001b[1;33m\u001b[0m\u001b[0m\n\u001b[0m\u001b[0;32m    257\u001b[0m \u001b[1;33m\u001b[0m\u001b[0m\n\u001b[0;32m    258\u001b[0m     \u001b[0moutputs\u001b[0m \u001b[1;33m=\u001b[0m \u001b[0minputs\u001b[0m  \u001b[1;31m# handle the corner case where self.layers is empty\u001b[0m\u001b[1;33m\u001b[0m\u001b[1;33m\u001b[0m\u001b[0m\n",
      "\u001b[1;32md:\\py_virtualenv\\lib\\site-packages\\tensorflow_core\\python\\keras\\engine\\network.py\u001b[0m in \u001b[0;36mcall\u001b[1;34m(self, inputs, training, mask)\u001b[0m\n\u001b[0;32m    706\u001b[0m     return self._run_internal_graph(\n\u001b[0;32m    707\u001b[0m         \u001b[0minputs\u001b[0m\u001b[1;33m,\u001b[0m \u001b[0mtraining\u001b[0m\u001b[1;33m=\u001b[0m\u001b[0mtraining\u001b[0m\u001b[1;33m,\u001b[0m \u001b[0mmask\u001b[0m\u001b[1;33m=\u001b[0m\u001b[0mmask\u001b[0m\u001b[1;33m,\u001b[0m\u001b[1;33m\u001b[0m\u001b[1;33m\u001b[0m\u001b[0m\n\u001b[1;32m--> 708\u001b[1;33m         convert_kwargs_to_constants=base_layer_utils.call_context().saving)\n\u001b[0m\u001b[0;32m    709\u001b[0m \u001b[1;33m\u001b[0m\u001b[0m\n\u001b[0;32m    710\u001b[0m   \u001b[1;32mdef\u001b[0m \u001b[0mcompute_output_shape\u001b[0m\u001b[1;33m(\u001b[0m\u001b[0mself\u001b[0m\u001b[1;33m,\u001b[0m \u001b[0minput_shape\u001b[0m\u001b[1;33m)\u001b[0m\u001b[1;33m:\u001b[0m\u001b[1;33m\u001b[0m\u001b[1;33m\u001b[0m\u001b[0m\n",
      "\u001b[1;32md:\\py_virtualenv\\lib\\site-packages\\tensorflow_core\\python\\keras\\engine\\network.py\u001b[0m in \u001b[0;36m_run_internal_graph\u001b[1;34m(self, inputs, training, mask, convert_kwargs_to_constants)\u001b[0m\n\u001b[0;32m    858\u001b[0m \u001b[1;33m\u001b[0m\u001b[0m\n\u001b[0;32m    859\u001b[0m           \u001b[1;31m# Compute outputs.\u001b[0m\u001b[1;33m\u001b[0m\u001b[1;33m\u001b[0m\u001b[1;33m\u001b[0m\u001b[0m\n\u001b[1;32m--> 860\u001b[1;33m           \u001b[0moutput_tensors\u001b[0m \u001b[1;33m=\u001b[0m \u001b[0mlayer\u001b[0m\u001b[1;33m(\u001b[0m\u001b[0mcomputed_tensors\u001b[0m\u001b[1;33m,\u001b[0m \u001b[1;33m**\u001b[0m\u001b[0mkwargs\u001b[0m\u001b[1;33m)\u001b[0m\u001b[1;33m\u001b[0m\u001b[1;33m\u001b[0m\u001b[0m\n\u001b[0m\u001b[0;32m    861\u001b[0m \u001b[1;33m\u001b[0m\u001b[0m\n\u001b[0;32m    862\u001b[0m           \u001b[1;31m# Update tensor_dict.\u001b[0m\u001b[1;33m\u001b[0m\u001b[1;33m\u001b[0m\u001b[1;33m\u001b[0m\u001b[0m\n",
      "\u001b[1;32md:\\py_virtualenv\\lib\\site-packages\\tensorflow_core\\python\\keras\\engine\\base_layer.py\u001b[0m in \u001b[0;36m__call__\u001b[1;34m(self, inputs, *args, **kwargs)\u001b[0m\n\u001b[0;32m    889\u001b[0m           with base_layer_utils.autocast_context_manager(\n\u001b[0;32m    890\u001b[0m               self._compute_dtype):\n\u001b[1;32m--> 891\u001b[1;33m             \u001b[0moutputs\u001b[0m \u001b[1;33m=\u001b[0m \u001b[0mself\u001b[0m\u001b[1;33m.\u001b[0m\u001b[0mcall\u001b[0m\u001b[1;33m(\u001b[0m\u001b[0mcast_inputs\u001b[0m\u001b[1;33m,\u001b[0m \u001b[1;33m*\u001b[0m\u001b[0margs\u001b[0m\u001b[1;33m,\u001b[0m \u001b[1;33m**\u001b[0m\u001b[0mkwargs\u001b[0m\u001b[1;33m)\u001b[0m\u001b[1;33m\u001b[0m\u001b[1;33m\u001b[0m\u001b[0m\n\u001b[0m\u001b[0;32m    892\u001b[0m           \u001b[0mself\u001b[0m\u001b[1;33m.\u001b[0m\u001b[0m_handle_activity_regularization\u001b[0m\u001b[1;33m(\u001b[0m\u001b[0minputs\u001b[0m\u001b[1;33m,\u001b[0m \u001b[0moutputs\u001b[0m\u001b[1;33m)\u001b[0m\u001b[1;33m\u001b[0m\u001b[1;33m\u001b[0m\u001b[0m\n\u001b[0;32m    893\u001b[0m           \u001b[0mself\u001b[0m\u001b[1;33m.\u001b[0m\u001b[0m_set_mask_metadata\u001b[0m\u001b[1;33m(\u001b[0m\u001b[0minputs\u001b[0m\u001b[1;33m,\u001b[0m \u001b[0moutputs\u001b[0m\u001b[1;33m,\u001b[0m \u001b[0minput_masks\u001b[0m\u001b[1;33m)\u001b[0m\u001b[1;33m\u001b[0m\u001b[1;33m\u001b[0m\u001b[0m\n",
      "\u001b[1;32md:\\py_virtualenv\\lib\\site-packages\\tensorflow_core\\python\\keras\\layers\\core.py\u001b[0m in \u001b[0;36mcall\u001b[1;34m(self, inputs)\u001b[0m\n\u001b[0;32m   1056\u001b[0m         \u001b[0moutputs\u001b[0m \u001b[1;33m=\u001b[0m \u001b[0mgen_math_ops\u001b[0m\u001b[1;33m.\u001b[0m\u001b[0mmat_mul\u001b[0m\u001b[1;33m(\u001b[0m\u001b[0minputs\u001b[0m\u001b[1;33m,\u001b[0m \u001b[0mself\u001b[0m\u001b[1;33m.\u001b[0m\u001b[0mkernel\u001b[0m\u001b[1;33m)\u001b[0m\u001b[1;33m\u001b[0m\u001b[1;33m\u001b[0m\u001b[0m\n\u001b[0;32m   1057\u001b[0m     \u001b[1;32mif\u001b[0m \u001b[0mself\u001b[0m\u001b[1;33m.\u001b[0m\u001b[0muse_bias\u001b[0m\u001b[1;33m:\u001b[0m\u001b[1;33m\u001b[0m\u001b[1;33m\u001b[0m\u001b[0m\n\u001b[1;32m-> 1058\u001b[1;33m       \u001b[0moutputs\u001b[0m \u001b[1;33m=\u001b[0m \u001b[0mnn\u001b[0m\u001b[1;33m.\u001b[0m\u001b[0mbias_add\u001b[0m\u001b[1;33m(\u001b[0m\u001b[0moutputs\u001b[0m\u001b[1;33m,\u001b[0m \u001b[0mself\u001b[0m\u001b[1;33m.\u001b[0m\u001b[0mbias\u001b[0m\u001b[1;33m)\u001b[0m\u001b[1;33m\u001b[0m\u001b[1;33m\u001b[0m\u001b[0m\n\u001b[0m\u001b[0;32m   1059\u001b[0m     \u001b[1;32mif\u001b[0m \u001b[0mself\u001b[0m\u001b[1;33m.\u001b[0m\u001b[0mactivation\u001b[0m \u001b[1;32mis\u001b[0m \u001b[1;32mnot\u001b[0m \u001b[1;32mNone\u001b[0m\u001b[1;33m:\u001b[0m\u001b[1;33m\u001b[0m\u001b[1;33m\u001b[0m\u001b[0m\n\u001b[0;32m   1060\u001b[0m       \u001b[1;32mreturn\u001b[0m \u001b[0mself\u001b[0m\u001b[1;33m.\u001b[0m\u001b[0mactivation\u001b[0m\u001b[1;33m(\u001b[0m\u001b[0moutputs\u001b[0m\u001b[1;33m)\u001b[0m  \u001b[1;31m# pylint: disable=not-callable\u001b[0m\u001b[1;33m\u001b[0m\u001b[1;33m\u001b[0m\u001b[0m\n",
      "\u001b[1;32md:\\py_virtualenv\\lib\\site-packages\\tensorflow_core\\python\\ops\\nn_ops.py\u001b[0m in \u001b[0;36mbias_add\u001b[1;34m(value, bias, data_format, name)\u001b[0m\n\u001b[0;32m   2716\u001b[0m       \u001b[0mvalue\u001b[0m \u001b[1;33m=\u001b[0m \u001b[0mops\u001b[0m\u001b[1;33m.\u001b[0m\u001b[0mconvert_to_tensor\u001b[0m\u001b[1;33m(\u001b[0m\u001b[0mvalue\u001b[0m\u001b[1;33m,\u001b[0m \u001b[0mname\u001b[0m\u001b[1;33m=\u001b[0m\u001b[1;34m\"input\"\u001b[0m\u001b[1;33m)\u001b[0m\u001b[1;33m\u001b[0m\u001b[1;33m\u001b[0m\u001b[0m\n\u001b[0;32m   2717\u001b[0m       \u001b[0mbias\u001b[0m \u001b[1;33m=\u001b[0m \u001b[0mops\u001b[0m\u001b[1;33m.\u001b[0m\u001b[0mconvert_to_tensor\u001b[0m\u001b[1;33m(\u001b[0m\u001b[0mbias\u001b[0m\u001b[1;33m,\u001b[0m \u001b[0mdtype\u001b[0m\u001b[1;33m=\u001b[0m\u001b[0mvalue\u001b[0m\u001b[1;33m.\u001b[0m\u001b[0mdtype\u001b[0m\u001b[1;33m,\u001b[0m \u001b[0mname\u001b[0m\u001b[1;33m=\u001b[0m\u001b[1;34m\"bias\"\u001b[0m\u001b[1;33m)\u001b[0m\u001b[1;33m\u001b[0m\u001b[1;33m\u001b[0m\u001b[0m\n\u001b[1;32m-> 2718\u001b[1;33m     \u001b[1;32mreturn\u001b[0m \u001b[0mgen_nn_ops\u001b[0m\u001b[1;33m.\u001b[0m\u001b[0mbias_add\u001b[0m\u001b[1;33m(\u001b[0m\u001b[0mvalue\u001b[0m\u001b[1;33m,\u001b[0m \u001b[0mbias\u001b[0m\u001b[1;33m,\u001b[0m \u001b[0mdata_format\u001b[0m\u001b[1;33m=\u001b[0m\u001b[0mdata_format\u001b[0m\u001b[1;33m,\u001b[0m \u001b[0mname\u001b[0m\u001b[1;33m=\u001b[0m\u001b[0mname\u001b[0m\u001b[1;33m)\u001b[0m\u001b[1;33m\u001b[0m\u001b[1;33m\u001b[0m\u001b[0m\n\u001b[0m\u001b[0;32m   2719\u001b[0m \u001b[1;33m\u001b[0m\u001b[0m\n\u001b[0;32m   2720\u001b[0m \u001b[1;33m\u001b[0m\u001b[0m\n",
      "\u001b[1;32md:\\py_virtualenv\\lib\\site-packages\\tensorflow_core\\python\\ops\\gen_nn_ops.py\u001b[0m in \u001b[0;36mbias_add\u001b[1;34m(value, bias, data_format, name)\u001b[0m\n\u001b[0;32m    739\u001b[0m         \u001b[0m_ctx\u001b[0m\u001b[1;33m.\u001b[0m\u001b[0m_context_handle\u001b[0m\u001b[1;33m,\u001b[0m \u001b[0m_ctx\u001b[0m\u001b[1;33m.\u001b[0m\u001b[0m_thread_local_data\u001b[0m\u001b[1;33m.\u001b[0m\u001b[0mdevice_name\u001b[0m\u001b[1;33m,\u001b[0m \u001b[1;34m\"BiasAdd\"\u001b[0m\u001b[1;33m,\u001b[0m\u001b[1;33m\u001b[0m\u001b[1;33m\u001b[0m\u001b[0m\n\u001b[0;32m    740\u001b[0m         \u001b[0mname\u001b[0m\u001b[1;33m,\u001b[0m \u001b[0m_ctx\u001b[0m\u001b[1;33m.\u001b[0m\u001b[0m_post_execution_callbacks\u001b[0m\u001b[1;33m,\u001b[0m \u001b[0mvalue\u001b[0m\u001b[1;33m,\u001b[0m \u001b[0mbias\u001b[0m\u001b[1;33m,\u001b[0m \u001b[1;34m\"data_format\"\u001b[0m\u001b[1;33m,\u001b[0m\u001b[1;33m\u001b[0m\u001b[1;33m\u001b[0m\u001b[0m\n\u001b[1;32m--> 741\u001b[1;33m         data_format)\n\u001b[0m\u001b[0;32m    742\u001b[0m       \u001b[1;32mreturn\u001b[0m \u001b[0m_result\u001b[0m\u001b[1;33m\u001b[0m\u001b[1;33m\u001b[0m\u001b[0m\n\u001b[0;32m    743\u001b[0m     \u001b[1;32mexcept\u001b[0m \u001b[0m_core\u001b[0m\u001b[1;33m.\u001b[0m\u001b[0m_FallbackException\u001b[0m\u001b[1;33m:\u001b[0m\u001b[1;33m\u001b[0m\u001b[1;33m\u001b[0m\u001b[0m\n",
      "\u001b[1;31mKeyboardInterrupt\u001b[0m: "
     ]
    }
   ],
   "source": [
    "oSeqGe = None\n",
    "oSeqGd = None\n",
    "oSeqGe1 = None\n",
    "fn_train(oGANvi)"
   ]
  },
  {
   "cell_type": "code",
   "execution_count": 112,
   "metadata": {},
   "outputs": [],
   "source": [
    "strGe = \"Ge.h5\"\n",
    "strGd = \"Gd.h5\"\n",
    "strGe1 = \"Ge1.h5\"\n",
    "strRootDir = \"models/nobranch/sync/vi\"\n",
    "strModelsDir = os.path.join(strRootDir, \"(17,8)\")\n",
    "strGeFile = os.path.join(strModelsDir, strGe)\n",
    "strGdFile = os.path.join(strModelsDir, strGd)\n",
    "strGe1File = os.path.join(strModelsDir, strGe1)"
   ]
  },
  {
   "cell_type": "code",
   "execution_count": 182,
   "metadata": {},
   "outputs": [],
   "source": [
    "if os.path.exists(strModelsDir):\n",
    "    shutil.rmtree(strModelsDir)\n",
    "os.mkdir(strModelsDir)"
   ]
  },
  {
   "cell_type": "code",
   "execution_count": 183,
   "metadata": {},
   "outputs": [],
   "source": [
    "oSeqGe.save(strGeFile)\n",
    "oSeqGd.save(strGdFile)\n",
    "oSeqGe1.save(strGe1File)"
   ]
  },
  {
   "cell_type": "markdown",
   "metadata": {},
   "source": [
    "### 评估"
   ]
  },
  {
   "cell_type": "code",
   "execution_count": 113,
   "metadata": {},
   "outputs": [
    {
     "name": "stdout",
     "output_type": "stream",
     "text": [
      "WARNING:tensorflow:No training configuration found in save file: the model was *not* compiled. Compile it manually.\n",
      "WARNING:tensorflow:No training configuration found in save file: the model was *not* compiled. Compile it manually.\n",
      "WARNING:tensorflow:No training configuration found in save file: the model was *not* compiled. Compile it manually.\n"
     ]
    }
   ],
   "source": [
    "oSeqGe = tf.keras.models.load_model(strGeFile)\n",
    "oSeqGd = tf.keras.models.load_model(strGdFile)\n",
    "oSeqGe1 = tf.keras.models.load_model(strGe1File)"
   ]
  },
  {
   "cell_type": "code",
   "execution_count": 114,
   "metadata": {},
   "outputs": [],
   "source": [
    "# 算出正常训练集和异常测试集的分数\n",
    "# train samples\n",
    "for strJob in os.listdir(strJobsDir):\n",
    "    listDemodDirs = fn_getDemodDirsOfAJob(os.path.join(strJobsDir, strJob))\n",
    "    for strDemodDir in listDemodDirs:\n",
    "        strSamplesDir = os.path.join(strDemodDir, \"parts/sync/vi/samples/normal/train\")\n",
    "        pdDfPreprocessedSamples = pd.read_csv(\\\n",
    "              os.path.join(strSamplesDir, \"preprocessed/samples.csv\"))\n",
    "        pdDfSamples = pd.read_csv(os.path.join(strSamplesDir, \"samples.csv\"), index_col=\"RECTIME\")\n",
    "        # 分数csv包含scores列\n",
    "        pdDfScores = fn_score(pdDfPreprocessedSamples)\n",
    "        pdDfScores.index = pdDfSamples.index\n",
    "\n",
    "        pdDfScores.to_csv(os.path.join(strSamplesDir, \"preprocessed/scores.csv\"), index_label=\"RECTIME\")\n",
    "        \n",
    "# Abnormal samples\n",
    "for strJob in os.listdir(strJobsDir):\n",
    "    listDemodDirs = fn_getDemodDirsOfAJob(os.path.join(strJobsDir, strJob))\n",
    "    for strDemodDir in listDemodDirs:\n",
    "        strSamplesDir = os.path.join(strDemodDir, \"parts/sync/vi/samples/abnormal\")\n",
    "        pdDfPreprocessedSamples = pd.read_csv(os.path.join(strSamplesDir, \"preprocessed/samples.csv\"), index_col=\"RECTIME\")\n",
    "        pdDfScores = fn_score(pdDfPreprocessedSamples)\n",
    "\n",
    "        pdDfScores.to_csv(os.path.join(strSamplesDir, \"preprocessed/scores.csv\"), index_label=\"RECTIME\")"
   ]
  },
  {
   "cell_type": "code",
   "execution_count": 25,
   "metadata": {},
   "outputs": [],
   "source": [
    "# 读入正常测试样本和异常测试样本的分数，分别存入numpy数组\n",
    "listScores = []\n",
    "listX = []\n",
    "for strJob in os.listdir(strJobsDir):\n",
    "    strJobDir = os.path.join(strJobsDir, strJob)\n",
    "    listDemodDirs = fn_getDemodDirsOfAJob(strJobDir)\n",
    "    for strDemodDir in listDemodDirs:\n",
    "        strNormalTestingScoresFile = os.path.join(strDemodDir, \\\n",
    "                                                  \"parts/sync/vi/samples/normal/train/preprocessed/scores.csv\")\n",
    "        pdDfNormalTestingScores = pd.read_csv(strNormalTestingScoresFile, index_col=\"RECTIME\")\n",
    "        \n",
    "        if not pdDfNormalTestingScores.empty:\n",
    "            listScores.append(pdDfNormalTestingScores[\"score\"].values)\n",
    "            \n",
    "            # 分数的横坐标——用crc编码“解调器名+上报时间”\n",
    "            strDemod = os.path.split(strDemodDir)[1]\n",
    "            listX.append([hash(strDemod + strIndex) for strIndex in pdDfNormalTestingScores.index])\n",
    "            \n",
    "npNormalScores = np.concatenate(listScores)\n",
    "npNormalX = np.concatenate(listX)"
   ]
  },
  {
   "cell_type": "code",
   "execution_count": 26,
   "metadata": {},
   "outputs": [],
   "source": [
    "listScores = []\n",
    "listX = []\n",
    "for strJob in os.listdir(strJobsDir):\n",
    "    strJobDir = os.path.join(strJobsDir, strJob)\n",
    "    listDemodDirs = fn_getDemodDirsOfAJob(strJobDir)\n",
    "    for strDemodDir in listDemodDirs:\n",
    "        strAbnormalTestingScoresFile = os.path.join(strDemodDir, \\\n",
    "                                                  \"parts/sync/vi/samples/abnormal/preprocessed/scores.csv\")\n",
    "        pdDfAbnormalTestingScores = pd.read_csv(strAbnormalTestingScoresFile, index_col=\"RECTIME\")\n",
    "        if not pdDfAbnormalTestingScores.empty:\n",
    "            listScores.append(pdDfAbnormalTestingScores[\"score\"].values)\n",
    "            \n",
    "             # 分数的横坐标——用crc编码“解调器名+上报时间”\n",
    "            strDemod = os.path.split(strDemodDir)[1]\n",
    "            listX.append([hash(strDemod + strIndex) for strIndex in pdDfAbnormalTestingScores.index])\n",
    "            \n",
    "npAbnormalScores = np.concatenate(listScores)\n",
    "npAbnormalX = np.concatenate(listX)"
   ]
  },
  {
   "cell_type": "code",
   "execution_count": 27,
   "metadata": {},
   "outputs": [],
   "source": [
    "\"\"\"\n",
    "通过正常训练样本的分数计算相应的正太分布，利用正态分布计算异常样本该部分正确的概率\n",
    "\"\"\"\n",
    "fMeanvi = np.mean(npNormalScores)\n",
    "fSigmavi = np.var(npNormalScores)\n",
    "npAbnormalprob = np.apply_along_axis(lambda x: 1 if x <= fMeanvi else ss.norm.sf(x, fMeanvi, fSigmavi), 1, \\\n",
    "     npAbnormalScores[:, np.newaxis].astype(np.float64))"
   ]
  },
  {
   "cell_type": "code",
   "execution_count": 28,
   "metadata": {},
   "outputs": [
    {
     "data": {
      "image/png": "[encoded data removed]",
      "text/plain": [
       "<Figure size 1080x720 with 1 Axes>"
      ]
     },
     "metadata": {
      "needs_background": "light"
     },
     "output_type": "display_data"
    }
   ],
   "source": [
    "plt.figure(figsize=(15, 10))\n",
    "plt.scatter(npAbnormalX, npAbnormalprob, s=40)\n",
    "plt.show()"
   ]
  },
  {
   "cell_type": "markdown",
   "metadata": {},
   "source": [
    "## 帧同步"
   ]
  },
  {
   "cell_type": "markdown",
   "metadata": {},
   "source": [
    "### 构造建立模型"
   ]
  },
  {
   "cell_type": "code",
   "execution_count": 157,
   "metadata": {},
   "outputs": [],
   "source": [
    "# 25参数\n",
    "class GANframe(object):\n",
    "    def __init__(self):\n",
    "        self.fn_makeGenerator()\n",
    "        self.fn_makeDiscriminator()\n",
    "        \n",
    "    def fn_makeGenerator(self):\n",
    "        self.oSeqGe = tf.keras.Sequential(name=\"Ge\")\n",
    "        self.oSeqGe.add(tf.keras.Input(shape=(28,)))\n",
    "        self.oSeqGe.add(tf.keras.layers.Dense(14, kernel_initializer=\"he_normal\"))\n",
    "        self.oSeqGe.add(tf.keras.layers.LeakyReLU())\n",
    "        self.oSeqGe.add(tf.keras.layers.BatchNormalization())\n",
    "        self.oSeqGe.add(tf.keras.layers.Dense(14, kernel_initializer=\"he_normal\"))\n",
    "        self.oSeqGe.add(tf.keras.layers.LeakyReLU())\n",
    "\n",
    "        self.oSeqGd = tf.keras.Sequential(name=\"Gd\")\n",
    "        self.oSeqGd.add(tf.keras.Input(shape=(14,)))\n",
    "        self.oSeqGd.add(tf.keras.layers.Dense(14, kernel_initializer=\"he_normal\"))\n",
    "        self.oSeqGd.add(tf.keras.layers.LeakyReLU())\n",
    "        self.oSeqGd.add(tf.keras.layers.BatchNormalization())\n",
    "        self.oSeqGd.add(tf.keras.layers.Dense(28, activation = tf.keras.activations.tanh, kernel_initializer=\"he_normal\"))\n",
    "        \n",
    "        self.oSeqGe1 = tf.keras.Sequential(name=\"Ge1\")\n",
    "        self.oSeqGe1.add(tf.keras.Input(shape=(28,)))\n",
    "        self.oSeqGe1.add(tf.keras.layers.Dense(14, kernel_initializer=\"he_normal\"))\n",
    "        self.oSeqGe1.add(tf.keras.layers.LeakyReLU())\n",
    "        self.oSeqGe1.add(tf.keras.layers.BatchNormalization())\n",
    "        self.oSeqGe1.add(tf.keras.layers.Dense(14, kernel_initializer=\"he_normal\"))\n",
    "        self.oSeqGe1.add(tf.keras.layers.LeakyReLU())\n",
    "        \n",
    "    def fn_makeDiscriminator(self):\n",
    "        self.oSeqDInner = tf.keras.Sequential(name=\"DInner\")\n",
    "        self.oSeqDInner.add(tf.keras.Input(shape=(28,)))\n",
    "        self.oSeqDInner.add(tf.keras.layers.Dense(14, kernel_initializer=\"he_normal\"))\n",
    "        self.oSeqDInner.add(tf.keras.layers.LeakyReLU())\n",
    "        self.oSeqDInner.add(tf.keras.layers.BatchNormalization())\n",
    "        self.oSeqDInner.add(tf.keras.layers.Dense(14, kernel_initializer=\"he_normal\"))\n",
    "        self.oSeqDInner.add(tf.keras.layers.LeakyReLU())\n",
    "        self.oSeqDInner.add(tf.keras.layers.BatchNormalization())\n",
    "\n",
    "        self.oSeqD = tf.keras.Sequential([\n",
    "            self.oSeqDInner,\n",
    "            tf.keras.layers.Dense(1, activation = tf.keras.activations.sigmoid)\n",
    "        ], name=\"D\")"
   ]
  },
  {
   "cell_type": "code",
   "execution_count": 198,
   "metadata": {},
   "outputs": [],
   "source": [
    "# 新建模型\n",
    "tf.keras.backend.clear_session()\n",
    "oGANframe = GANframe()"
   ]
  },
  {
   "cell_type": "markdown",
   "metadata": {},
   "source": [
    "### 构造数据集"
   ]
  },
  {
   "cell_type": "code",
   "execution_count": 199,
   "metadata": {},
   "outputs": [],
   "source": [
    "g_nFeatures = 28\n",
    "g_nBatchSize = 256\n",
    "\n",
    "def fn_splitCsvLine(strLine):\n",
    "    tensorDefs = [0.] * g_nFeatures\n",
    "    tensorRecord = tf.io.decode_csv(strLine, record_defaults=tensorDefs)\n",
    "    tensorX = tf.stack(tensorRecord)\n",
    "    return tensorX\n",
    "\n",
    "# 为了把不做帧同步的部分也作为训练集\n",
    "oDataset = tf.data.Dataset.list_files(strJobsDir + \"/*/*/parts/sync/frame/samples/normal/train/preprocessed/samples*.csv\")\n",
    "oDataset = oDataset.interleave(lambda strSamplesFile: tf.data.TextLineDataset(strSamplesFile).skip(1), \\\n",
    "                              cycle_length=5, num_parallel_calls=5)\n",
    "oDataset = oDataset.map(fn_splitCsvLine, g_nFeatures)\n",
    "oDataset = oDataset.shuffle(1000)\n",
    "oDataset = oDataset.batch(g_nBatchSize)"
   ]
  },
  {
   "cell_type": "code",
   "execution_count": 200,
   "metadata": {},
   "outputs": [],
   "source": [
    "# 读入所有的训练样本，从而通过shape属性得到训练集大小，存入全局变量中\n",
    "listPreprocessedNormalTrainingSamples = []\n",
    "for strJob in os.listdir(strJobsDir):\n",
    "    strJobDir = os.path.join(strJobsDir, strJob)\n",
    "    listDemodDirs = fn_getDemodDirsOfAJob(strJobDir)\n",
    "    for strDemodDir in listDemodDirs:\n",
    "        strPreprocessedNormalTrainingSamplesFile = os.path.join(strDemodDir, \\\n",
    "                                                   \"parts/sync/frame/samples/normal/train/preprocessed/samples.csv\")\n",
    "        pdDfPreprocessedNormalTrainingSamples = pd.read_csv(strPreprocessedNormalTrainingSamplesFile)\n",
    "        listPreprocessedNormalTrainingSamples.append(pdDfPreprocessedNormalTrainingSamples)\n",
    "        \n",
    "        strPreprocessedNormalTrainingSamplesFile = os.path.join(strDemodDir, \\\n",
    "                                           \"parts/sync/frame/samples/normal/train/preprocessed/samples_noframe.csv\")\n",
    "        pdDfPreprocessedNormalTrainingSamples = pd.read_csv(strPreprocessedNormalTrainingSamplesFile)\n",
    "        listPreprocessedNormalTrainingSamples.append(pdDfPreprocessedNormalTrainingSamples)\n",
    "pdDfPreprocessedNormalTrainingSamples = pd.concat(listPreprocessedNormalTrainingSamples)\n",
    "g_tensorNormalTrainingSamples = tf.constant(pdDfPreprocessedNormalTrainingSamples.values, dtype=tf.float32)\n",
    "g_nTrainingSize = len(g_tensorNormalTrainingSamples)"
   ]
  },
  {
   "cell_type": "markdown",
   "metadata": {},
   "source": [
    "### 训练"
   ]
  },
  {
   "cell_type": "code",
   "execution_count": 201,
   "metadata": {},
   "outputs": [],
   "source": [
    "# g_nTrainingSize在中频控制已经设置好了\n",
    "g_nEpochs = 10000\n",
    "nSteps = g_nEpochs * g_nTrainingSize // g_nBatchSize\n",
    "oExponentialDecay = tf.keras.optimizers.schedules.ExponentialDecay(1e-2, nSteps, 1e-1)\n",
    "oOptimizerG = tf.keras.optimizers.Adam(learning_rate=oExponentialDecay)\n",
    "oOptimizerD = tf.keras.optimizers.SGD(learning_rate=oExponentialDecay)"
   ]
  },
  {
   "cell_type": "code",
   "execution_count": 202,
   "metadata": {},
   "outputs": [],
   "source": [
    "strD = \"(28,14)_D\"\n",
    "strA = \"(28,14)_A\"\n",
    "strRootDir = \"logs/nobranch/sync/frame\"\n",
    "strDDir = os.path.join(strRootDir, strD)\n",
    "strADir = os.path.join(strRootDir, strA)"
   ]
  },
  {
   "cell_type": "code",
   "execution_count": 203,
   "metadata": {},
   "outputs": [],
   "source": [
    "if os.path.exists(strDDir):\n",
    "    shutil.rmtree(strDDir)\n",
    "if os.path.exists(strADir):\n",
    "    shutil.rmtree(strADir)"
   ]
  },
  {
   "cell_type": "code",
   "execution_count": 204,
   "metadata": {},
   "outputs": [],
   "source": [
    "oSummaryWriterDLoss = tf.summary.create_file_writer(strDDir)\n",
    "oSummaryWriterALoss = tf.summary.create_file_writer(strADir)"
   ]
  },
  {
   "cell_type": "code",
   "execution_count": 205,
   "metadata": {},
   "outputs": [
    {
     "name": "stdout",
     "output_type": "stream",
     "text": [
      "727/10000"
     ]
    },
    {
     "ename": "KeyboardInterrupt",
     "evalue": "",
     "output_type": "error",
     "traceback": [
      "\u001b[1;31m---------------------------------------------------------------------------\u001b[0m",
      "\u001b[1;31mKeyboardInterrupt\u001b[0m                         Traceback (most recent call last)",
      "\u001b[1;32m<ipython-input-205-1c60a8f3e57a>\u001b[0m in \u001b[0;36m<module>\u001b[1;34m\u001b[0m\n\u001b[0;32m      2\u001b[0m \u001b[0moSeqGd\u001b[0m \u001b[1;33m=\u001b[0m \u001b[1;32mNone\u001b[0m\u001b[1;33m\u001b[0m\u001b[1;33m\u001b[0m\u001b[0m\n\u001b[0;32m      3\u001b[0m \u001b[0moSeqGe1\u001b[0m \u001b[1;33m=\u001b[0m \u001b[1;32mNone\u001b[0m\u001b[1;33m\u001b[0m\u001b[1;33m\u001b[0m\u001b[0m\n\u001b[1;32m----> 4\u001b[1;33m \u001b[0mfn_train\u001b[0m\u001b[1;33m(\u001b[0m\u001b[0moGANframe\u001b[0m\u001b[1;33m)\u001b[0m\u001b[1;33m\u001b[0m\u001b[1;33m\u001b[0m\u001b[0m\n\u001b[0m",
      "\u001b[1;32m<ipython-input-8-3855d8924bd9>\u001b[0m in \u001b[0;36mfn_train\u001b[1;34m(oGAN)\u001b[0m\n\u001b[0;32m     39\u001b[0m                 \u001b[1;31m# Train discriminator with fake samples\u001b[0m\u001b[1;33m\u001b[0m\u001b[1;33m\u001b[0m\u001b[1;33m\u001b[0m\u001b[0m\n\u001b[0;32m     40\u001b[0m                 \u001b[0mtensorLabels\u001b[0m \u001b[1;33m=\u001b[0m \u001b[0mtf\u001b[0m\u001b[1;33m.\u001b[0m\u001b[0mrandom\u001b[0m\u001b[1;33m.\u001b[0m\u001b[0muniform\u001b[0m\u001b[1;33m(\u001b[0m\u001b[0mminval\u001b[0m\u001b[1;33m=\u001b[0m\u001b[1;36m0.\u001b[0m\u001b[1;33m,\u001b[0m \u001b[0mmaxval\u001b[0m\u001b[1;33m=\u001b[0m\u001b[1;36m0.3\u001b[0m\u001b[1;33m,\u001b[0m \u001b[0mseed\u001b[0m \u001b[1;33m=\u001b[0m \u001b[1;36m42\u001b[0m\u001b[1;33m,\u001b[0m \u001b[0mshape\u001b[0m\u001b[1;33m=\u001b[0m\u001b[1;33m(\u001b[0m\u001b[0mtensorFakeSamples\u001b[0m\u001b[1;33m.\u001b[0m\u001b[0mshape\u001b[0m\u001b[1;33m[\u001b[0m\u001b[1;36m0\u001b[0m\u001b[1;33m]\u001b[0m\u001b[1;33m,\u001b[0m \u001b[1;36m1\u001b[0m\u001b[1;33m)\u001b[0m\u001b[1;33m)\u001b[0m\u001b[1;33m\u001b[0m\u001b[1;33m\u001b[0m\u001b[0m\n\u001b[1;32m---> 41\u001b[1;33m                 \u001b[0mtensorPreds\u001b[0m \u001b[1;33m=\u001b[0m \u001b[0moGAN\u001b[0m\u001b[1;33m.\u001b[0m\u001b[0moSeqD\u001b[0m\u001b[1;33m(\u001b[0m\u001b[0mtensorFakeSamples\u001b[0m\u001b[1;33m)\u001b[0m\u001b[1;33m\u001b[0m\u001b[1;33m\u001b[0m\u001b[0m\n\u001b[0m\u001b[0;32m     42\u001b[0m                 \u001b[0mtensorDLossF\u001b[0m \u001b[1;33m=\u001b[0m \u001b[0mtf\u001b[0m\u001b[1;33m.\u001b[0m\u001b[0mreduce_mean\u001b[0m\u001b[1;33m(\u001b[0m\u001b[0mtf\u001b[0m\u001b[1;33m.\u001b[0m\u001b[0mnn\u001b[0m\u001b[1;33m.\u001b[0m\u001b[0msigmoid_cross_entropy_with_logits\u001b[0m\u001b[1;33m(\u001b[0m\u001b[0mtensorLabels\u001b[0m\u001b[1;33m,\u001b[0m \u001b[0mtensorPreds\u001b[0m\u001b[1;33m)\u001b[0m\u001b[1;33m)\u001b[0m\u001b[1;33m\u001b[0m\u001b[1;33m\u001b[0m\u001b[0m\n\u001b[0;32m     43\u001b[0m             \u001b[0mlistDGradients\u001b[0m \u001b[1;33m=\u001b[0m \u001b[0moGradientTapeD\u001b[0m\u001b[1;33m.\u001b[0m\u001b[0mgradient\u001b[0m\u001b[1;33m(\u001b[0m\u001b[0mtensorDLossF\u001b[0m\u001b[1;33m,\u001b[0m \u001b[0moGAN\u001b[0m\u001b[1;33m.\u001b[0m\u001b[0moSeqD\u001b[0m\u001b[1;33m.\u001b[0m\u001b[0mtrainable_variables\u001b[0m\u001b[1;33m)\u001b[0m\u001b[1;33m\u001b[0m\u001b[1;33m\u001b[0m\u001b[0m\n",
      "\u001b[1;32md:\\py_virtualenv\\lib\\site-packages\\tensorflow_core\\python\\keras\\engine\\base_layer.py\u001b[0m in \u001b[0;36m__call__\u001b[1;34m(self, inputs, *args, **kwargs)\u001b[0m\n\u001b[0;32m    889\u001b[0m           with base_layer_utils.autocast_context_manager(\n\u001b[0;32m    890\u001b[0m               self._compute_dtype):\n\u001b[1;32m--> 891\u001b[1;33m             \u001b[0moutputs\u001b[0m \u001b[1;33m=\u001b[0m \u001b[0mself\u001b[0m\u001b[1;33m.\u001b[0m\u001b[0mcall\u001b[0m\u001b[1;33m(\u001b[0m\u001b[0mcast_inputs\u001b[0m\u001b[1;33m,\u001b[0m \u001b[1;33m*\u001b[0m\u001b[0margs\u001b[0m\u001b[1;33m,\u001b[0m \u001b[1;33m**\u001b[0m\u001b[0mkwargs\u001b[0m\u001b[1;33m)\u001b[0m\u001b[1;33m\u001b[0m\u001b[1;33m\u001b[0m\u001b[0m\n\u001b[0m\u001b[0;32m    892\u001b[0m           \u001b[0mself\u001b[0m\u001b[1;33m.\u001b[0m\u001b[0m_handle_activity_regularization\u001b[0m\u001b[1;33m(\u001b[0m\u001b[0minputs\u001b[0m\u001b[1;33m,\u001b[0m \u001b[0moutputs\u001b[0m\u001b[1;33m)\u001b[0m\u001b[1;33m\u001b[0m\u001b[1;33m\u001b[0m\u001b[0m\n\u001b[0;32m    893\u001b[0m           \u001b[0mself\u001b[0m\u001b[1;33m.\u001b[0m\u001b[0m_set_mask_metadata\u001b[0m\u001b[1;33m(\u001b[0m\u001b[0minputs\u001b[0m\u001b[1;33m,\u001b[0m \u001b[0moutputs\u001b[0m\u001b[1;33m,\u001b[0m \u001b[0minput_masks\u001b[0m\u001b[1;33m)\u001b[0m\u001b[1;33m\u001b[0m\u001b[1;33m\u001b[0m\u001b[0m\n",
      "\u001b[1;32md:\\py_virtualenv\\lib\\site-packages\\tensorflow_core\\python\\keras\\engine\\sequential.py\u001b[0m in \u001b[0;36mcall\u001b[1;34m(self, inputs, training, mask)\u001b[0m\n\u001b[0;32m    268\u001b[0m         \u001b[0mkwargs\u001b[0m\u001b[1;33m[\u001b[0m\u001b[1;34m'training'\u001b[0m\u001b[1;33m]\u001b[0m \u001b[1;33m=\u001b[0m \u001b[0mtraining\u001b[0m\u001b[1;33m\u001b[0m\u001b[1;33m\u001b[0m\u001b[0m\n\u001b[0;32m    269\u001b[0m \u001b[1;33m\u001b[0m\u001b[0m\n\u001b[1;32m--> 270\u001b[1;33m       \u001b[0moutputs\u001b[0m \u001b[1;33m=\u001b[0m \u001b[0mlayer\u001b[0m\u001b[1;33m(\u001b[0m\u001b[0minputs\u001b[0m\u001b[1;33m,\u001b[0m \u001b[1;33m**\u001b[0m\u001b[0mkwargs\u001b[0m\u001b[1;33m)\u001b[0m\u001b[1;33m\u001b[0m\u001b[1;33m\u001b[0m\u001b[0m\n\u001b[0m\u001b[0;32m    271\u001b[0m \u001b[1;33m\u001b[0m\u001b[0m\n\u001b[0;32m    272\u001b[0m       \u001b[1;31m# `outputs` will be the inputs to the next layer.\u001b[0m\u001b[1;33m\u001b[0m\u001b[1;33m\u001b[0m\u001b[1;33m\u001b[0m\u001b[0m\n",
      "\u001b[1;32md:\\py_virtualenv\\lib\\site-packages\\tensorflow_core\\python\\keras\\engine\\base_layer.py\u001b[0m in \u001b[0;36m__call__\u001b[1;34m(self, inputs, *args, **kwargs)\u001b[0m\n\u001b[0;32m    889\u001b[0m           with base_layer_utils.autocast_context_manager(\n\u001b[0;32m    890\u001b[0m               self._compute_dtype):\n\u001b[1;32m--> 891\u001b[1;33m             \u001b[0moutputs\u001b[0m \u001b[1;33m=\u001b[0m \u001b[0mself\u001b[0m\u001b[1;33m.\u001b[0m\u001b[0mcall\u001b[0m\u001b[1;33m(\u001b[0m\u001b[0mcast_inputs\u001b[0m\u001b[1;33m,\u001b[0m \u001b[1;33m*\u001b[0m\u001b[0margs\u001b[0m\u001b[1;33m,\u001b[0m \u001b[1;33m**\u001b[0m\u001b[0mkwargs\u001b[0m\u001b[1;33m)\u001b[0m\u001b[1;33m\u001b[0m\u001b[1;33m\u001b[0m\u001b[0m\n\u001b[0m\u001b[0;32m    892\u001b[0m           \u001b[0mself\u001b[0m\u001b[1;33m.\u001b[0m\u001b[0m_handle_activity_regularization\u001b[0m\u001b[1;33m(\u001b[0m\u001b[0minputs\u001b[0m\u001b[1;33m,\u001b[0m \u001b[0moutputs\u001b[0m\u001b[1;33m)\u001b[0m\u001b[1;33m\u001b[0m\u001b[1;33m\u001b[0m\u001b[0m\n\u001b[0;32m    893\u001b[0m           \u001b[0mself\u001b[0m\u001b[1;33m.\u001b[0m\u001b[0m_set_mask_metadata\u001b[0m\u001b[1;33m(\u001b[0m\u001b[0minputs\u001b[0m\u001b[1;33m,\u001b[0m \u001b[0moutputs\u001b[0m\u001b[1;33m,\u001b[0m \u001b[0minput_masks\u001b[0m\u001b[1;33m)\u001b[0m\u001b[1;33m\u001b[0m\u001b[1;33m\u001b[0m\u001b[0m\n",
      "\u001b[1;32md:\\py_virtualenv\\lib\\site-packages\\tensorflow_core\\python\\keras\\engine\\sequential.py\u001b[0m in \u001b[0;36mcall\u001b[1;34m(self, inputs, training, mask)\u001b[0m\n\u001b[0;32m    254\u001b[0m       \u001b[1;32mif\u001b[0m \u001b[1;32mnot\u001b[0m \u001b[0mself\u001b[0m\u001b[1;33m.\u001b[0m\u001b[0mbuilt\u001b[0m\u001b[1;33m:\u001b[0m\u001b[1;33m\u001b[0m\u001b[1;33m\u001b[0m\u001b[0m\n\u001b[0;32m    255\u001b[0m         \u001b[0mself\u001b[0m\u001b[1;33m.\u001b[0m\u001b[0m_init_graph_network\u001b[0m\u001b[1;33m(\u001b[0m\u001b[0mself\u001b[0m\u001b[1;33m.\u001b[0m\u001b[0minputs\u001b[0m\u001b[1;33m,\u001b[0m \u001b[0mself\u001b[0m\u001b[1;33m.\u001b[0m\u001b[0moutputs\u001b[0m\u001b[1;33m,\u001b[0m \u001b[0mname\u001b[0m\u001b[1;33m=\u001b[0m\u001b[0mself\u001b[0m\u001b[1;33m.\u001b[0m\u001b[0mname\u001b[0m\u001b[1;33m)\u001b[0m\u001b[1;33m\u001b[0m\u001b[1;33m\u001b[0m\u001b[0m\n\u001b[1;32m--> 256\u001b[1;33m       \u001b[1;32mreturn\u001b[0m \u001b[0msuper\u001b[0m\u001b[1;33m(\u001b[0m\u001b[0mSequential\u001b[0m\u001b[1;33m,\u001b[0m \u001b[0mself\u001b[0m\u001b[1;33m)\u001b[0m\u001b[1;33m.\u001b[0m\u001b[0mcall\u001b[0m\u001b[1;33m(\u001b[0m\u001b[0minputs\u001b[0m\u001b[1;33m,\u001b[0m \u001b[0mtraining\u001b[0m\u001b[1;33m=\u001b[0m\u001b[0mtraining\u001b[0m\u001b[1;33m,\u001b[0m \u001b[0mmask\u001b[0m\u001b[1;33m=\u001b[0m\u001b[0mmask\u001b[0m\u001b[1;33m)\u001b[0m\u001b[1;33m\u001b[0m\u001b[1;33m\u001b[0m\u001b[0m\n\u001b[0m\u001b[0;32m    257\u001b[0m \u001b[1;33m\u001b[0m\u001b[0m\n\u001b[0;32m    258\u001b[0m     \u001b[0moutputs\u001b[0m \u001b[1;33m=\u001b[0m \u001b[0minputs\u001b[0m  \u001b[1;31m# handle the corner case where self.layers is empty\u001b[0m\u001b[1;33m\u001b[0m\u001b[1;33m\u001b[0m\u001b[0m\n",
      "\u001b[1;32md:\\py_virtualenv\\lib\\site-packages\\tensorflow_core\\python\\keras\\engine\\network.py\u001b[0m in \u001b[0;36mcall\u001b[1;34m(self, inputs, training, mask)\u001b[0m\n\u001b[0;32m    706\u001b[0m     return self._run_internal_graph(\n\u001b[0;32m    707\u001b[0m         \u001b[0minputs\u001b[0m\u001b[1;33m,\u001b[0m \u001b[0mtraining\u001b[0m\u001b[1;33m=\u001b[0m\u001b[0mtraining\u001b[0m\u001b[1;33m,\u001b[0m \u001b[0mmask\u001b[0m\u001b[1;33m=\u001b[0m\u001b[0mmask\u001b[0m\u001b[1;33m,\u001b[0m\u001b[1;33m\u001b[0m\u001b[1;33m\u001b[0m\u001b[0m\n\u001b[1;32m--> 708\u001b[1;33m         convert_kwargs_to_constants=base_layer_utils.call_context().saving)\n\u001b[0m\u001b[0;32m    709\u001b[0m \u001b[1;33m\u001b[0m\u001b[0m\n\u001b[0;32m    710\u001b[0m   \u001b[1;32mdef\u001b[0m \u001b[0mcompute_output_shape\u001b[0m\u001b[1;33m(\u001b[0m\u001b[0mself\u001b[0m\u001b[1;33m,\u001b[0m \u001b[0minput_shape\u001b[0m\u001b[1;33m)\u001b[0m\u001b[1;33m:\u001b[0m\u001b[1;33m\u001b[0m\u001b[1;33m\u001b[0m\u001b[0m\n",
      "\u001b[1;32md:\\py_virtualenv\\lib\\site-packages\\tensorflow_core\\python\\keras\\engine\\network.py\u001b[0m in \u001b[0;36m_run_internal_graph\u001b[1;34m(self, inputs, training, mask, convert_kwargs_to_constants)\u001b[0m\n\u001b[0;32m    858\u001b[0m \u001b[1;33m\u001b[0m\u001b[0m\n\u001b[0;32m    859\u001b[0m           \u001b[1;31m# Compute outputs.\u001b[0m\u001b[1;33m\u001b[0m\u001b[1;33m\u001b[0m\u001b[1;33m\u001b[0m\u001b[0m\n\u001b[1;32m--> 860\u001b[1;33m           \u001b[0moutput_tensors\u001b[0m \u001b[1;33m=\u001b[0m \u001b[0mlayer\u001b[0m\u001b[1;33m(\u001b[0m\u001b[0mcomputed_tensors\u001b[0m\u001b[1;33m,\u001b[0m \u001b[1;33m**\u001b[0m\u001b[0mkwargs\u001b[0m\u001b[1;33m)\u001b[0m\u001b[1;33m\u001b[0m\u001b[1;33m\u001b[0m\u001b[0m\n\u001b[0m\u001b[0;32m    861\u001b[0m \u001b[1;33m\u001b[0m\u001b[0m\n\u001b[0;32m    862\u001b[0m           \u001b[1;31m# Update tensor_dict.\u001b[0m\u001b[1;33m\u001b[0m\u001b[1;33m\u001b[0m\u001b[1;33m\u001b[0m\u001b[0m\n",
      "\u001b[1;32md:\\py_virtualenv\\lib\\site-packages\\tensorflow_core\\python\\keras\\engine\\base_layer.py\u001b[0m in \u001b[0;36m__call__\u001b[1;34m(self, inputs, *args, **kwargs)\u001b[0m\n\u001b[0;32m    889\u001b[0m           with base_layer_utils.autocast_context_manager(\n\u001b[0;32m    890\u001b[0m               self._compute_dtype):\n\u001b[1;32m--> 891\u001b[1;33m             \u001b[0moutputs\u001b[0m \u001b[1;33m=\u001b[0m \u001b[0mself\u001b[0m\u001b[1;33m.\u001b[0m\u001b[0mcall\u001b[0m\u001b[1;33m(\u001b[0m\u001b[0mcast_inputs\u001b[0m\u001b[1;33m,\u001b[0m \u001b[1;33m*\u001b[0m\u001b[0margs\u001b[0m\u001b[1;33m,\u001b[0m \u001b[1;33m**\u001b[0m\u001b[0mkwargs\u001b[0m\u001b[1;33m)\u001b[0m\u001b[1;33m\u001b[0m\u001b[1;33m\u001b[0m\u001b[0m\n\u001b[0m\u001b[0;32m    892\u001b[0m           \u001b[0mself\u001b[0m\u001b[1;33m.\u001b[0m\u001b[0m_handle_activity_regularization\u001b[0m\u001b[1;33m(\u001b[0m\u001b[0minputs\u001b[0m\u001b[1;33m,\u001b[0m \u001b[0moutputs\u001b[0m\u001b[1;33m)\u001b[0m\u001b[1;33m\u001b[0m\u001b[1;33m\u001b[0m\u001b[0m\n\u001b[0;32m    893\u001b[0m           \u001b[0mself\u001b[0m\u001b[1;33m.\u001b[0m\u001b[0m_set_mask_metadata\u001b[0m\u001b[1;33m(\u001b[0m\u001b[0minputs\u001b[0m\u001b[1;33m,\u001b[0m \u001b[0moutputs\u001b[0m\u001b[1;33m,\u001b[0m \u001b[0minput_masks\u001b[0m\u001b[1;33m)\u001b[0m\u001b[1;33m\u001b[0m\u001b[1;33m\u001b[0m\u001b[0m\n",
      "\u001b[1;32md:\\py_virtualenv\\lib\\site-packages\\tensorflow_core\\python\\keras\\layers\\core.py\u001b[0m in \u001b[0;36mcall\u001b[1;34m(self, inputs)\u001b[0m\n\u001b[0;32m   1054\u001b[0m         \u001b[0moutputs\u001b[0m \u001b[1;33m=\u001b[0m \u001b[0msparse_ops\u001b[0m\u001b[1;33m.\u001b[0m\u001b[0msparse_tensor_dense_matmul\u001b[0m\u001b[1;33m(\u001b[0m\u001b[0minputs\u001b[0m\u001b[1;33m,\u001b[0m \u001b[0mself\u001b[0m\u001b[1;33m.\u001b[0m\u001b[0mkernel\u001b[0m\u001b[1;33m)\u001b[0m\u001b[1;33m\u001b[0m\u001b[1;33m\u001b[0m\u001b[0m\n\u001b[0;32m   1055\u001b[0m       \u001b[1;32melse\u001b[0m\u001b[1;33m:\u001b[0m\u001b[1;33m\u001b[0m\u001b[1;33m\u001b[0m\u001b[0m\n\u001b[1;32m-> 1056\u001b[1;33m         \u001b[0moutputs\u001b[0m \u001b[1;33m=\u001b[0m \u001b[0mgen_math_ops\u001b[0m\u001b[1;33m.\u001b[0m\u001b[0mmat_mul\u001b[0m\u001b[1;33m(\u001b[0m\u001b[0minputs\u001b[0m\u001b[1;33m,\u001b[0m \u001b[0mself\u001b[0m\u001b[1;33m.\u001b[0m\u001b[0mkernel\u001b[0m\u001b[1;33m)\u001b[0m\u001b[1;33m\u001b[0m\u001b[1;33m\u001b[0m\u001b[0m\n\u001b[0m\u001b[0;32m   1057\u001b[0m     \u001b[1;32mif\u001b[0m \u001b[0mself\u001b[0m\u001b[1;33m.\u001b[0m\u001b[0muse_bias\u001b[0m\u001b[1;33m:\u001b[0m\u001b[1;33m\u001b[0m\u001b[1;33m\u001b[0m\u001b[0m\n\u001b[0;32m   1058\u001b[0m       \u001b[0moutputs\u001b[0m \u001b[1;33m=\u001b[0m \u001b[0mnn\u001b[0m\u001b[1;33m.\u001b[0m\u001b[0mbias_add\u001b[0m\u001b[1;33m(\u001b[0m\u001b[0moutputs\u001b[0m\u001b[1;33m,\u001b[0m \u001b[0mself\u001b[0m\u001b[1;33m.\u001b[0m\u001b[0mbias\u001b[0m\u001b[1;33m)\u001b[0m\u001b[1;33m\u001b[0m\u001b[1;33m\u001b[0m\u001b[0m\n",
      "\u001b[1;32md:\\py_virtualenv\\lib\\site-packages\\tensorflow_core\\python\\ops\\gen_math_ops.py\u001b[0m in \u001b[0;36mmat_mul\u001b[1;34m(a, b, transpose_a, transpose_b, name)\u001b[0m\n\u001b[0;32m   6109\u001b[0m         \u001b[0m_ctx\u001b[0m\u001b[1;33m.\u001b[0m\u001b[0m_context_handle\u001b[0m\u001b[1;33m,\u001b[0m \u001b[0m_ctx\u001b[0m\u001b[1;33m.\u001b[0m\u001b[0m_thread_local_data\u001b[0m\u001b[1;33m.\u001b[0m\u001b[0mdevice_name\u001b[0m\u001b[1;33m,\u001b[0m \u001b[1;34m\"MatMul\"\u001b[0m\u001b[1;33m,\u001b[0m\u001b[1;33m\u001b[0m\u001b[1;33m\u001b[0m\u001b[0m\n\u001b[0;32m   6110\u001b[0m         \u001b[0mname\u001b[0m\u001b[1;33m,\u001b[0m \u001b[0m_ctx\u001b[0m\u001b[1;33m.\u001b[0m\u001b[0m_post_execution_callbacks\u001b[0m\u001b[1;33m,\u001b[0m \u001b[0ma\u001b[0m\u001b[1;33m,\u001b[0m \u001b[0mb\u001b[0m\u001b[1;33m,\u001b[0m \u001b[1;34m\"transpose_a\"\u001b[0m\u001b[1;33m,\u001b[0m\u001b[1;33m\u001b[0m\u001b[1;33m\u001b[0m\u001b[0m\n\u001b[1;32m-> 6111\u001b[1;33m         transpose_a, \"transpose_b\", transpose_b)\n\u001b[0m\u001b[0;32m   6112\u001b[0m       \u001b[1;32mreturn\u001b[0m \u001b[0m_result\u001b[0m\u001b[1;33m\u001b[0m\u001b[1;33m\u001b[0m\u001b[0m\n\u001b[0;32m   6113\u001b[0m     \u001b[1;32mexcept\u001b[0m \u001b[0m_core\u001b[0m\u001b[1;33m.\u001b[0m\u001b[0m_FallbackException\u001b[0m\u001b[1;33m:\u001b[0m\u001b[1;33m\u001b[0m\u001b[1;33m\u001b[0m\u001b[0m\n",
      "\u001b[1;31mKeyboardInterrupt\u001b[0m: "
     ]
    }
   ],
   "source": [
    "oSeqGe = None\n",
    "oSeqGd = None\n",
    "oSeqGe1 = None\n",
    "fn_train(oGANframe)"
   ]
  },
  {
   "cell_type": "code",
   "execution_count": 206,
   "metadata": {},
   "outputs": [],
   "source": [
    "strGe = \"Ge.h5\"\n",
    "strGd = \"Gd.h5\"\n",
    "strGe1 = \"Ge1.h5\"\n",
    "strRootDir = \"models/nobranch/sync/frame\"\n",
    "strModelsDir = os.path.join(strRootDir, \"(28,14)\")\n",
    "strGeFile = os.path.join(strModelsDir, strGe)\n",
    "strGdFile = os.path.join(strModelsDir, strGd)\n",
    "strGe1File = os.path.join(strModelsDir, strGe1)"
   ]
  },
  {
   "cell_type": "code",
   "execution_count": 207,
   "metadata": {},
   "outputs": [],
   "source": [
    "if os.path.exists(strModelsDir):\n",
    "    shutil.rmtree(strModelsDir)\n",
    "os.mkdir(strModelsDir)"
   ]
  },
  {
   "cell_type": "code",
   "execution_count": 208,
   "metadata": {},
   "outputs": [],
   "source": [
    "oSeqGe.save(strGeFile)\n",
    "oSeqGd.save(strGdFile)\n",
    "oSeqGe1.save(strGe1File)"
   ]
  },
  {
   "cell_type": "markdown",
   "metadata": {},
   "source": [
    "### 评估"
   ]
  },
  {
   "cell_type": "code",
   "execution_count": 209,
   "metadata": {},
   "outputs": [
    {
     "name": "stdout",
     "output_type": "stream",
     "text": [
      "WARNING:tensorflow:No training configuration found in save file: the model was *not* compiled. Compile it manually.\n",
      "WARNING:tensorflow:No training configuration found in save file: the model was *not* compiled. Compile it manually.\n",
      "WARNING:tensorflow:No training configuration found in save file: the model was *not* compiled. Compile it manually.\n"
     ]
    }
   ],
   "source": [
    "oSeqGe = tf.keras.models.load_model(strGeFile)\n",
    "oSeqGd = tf.keras.models.load_model(strGdFile)\n",
    "oSeqGe1 = tf.keras.models.load_model(strGe1File)"
   ]
  },
  {
   "cell_type": "code",
   "execution_count": 210,
   "metadata": {},
   "outputs": [],
   "source": [
    "# 算出正常训练集和异常测试集的分数\n",
    "# train samples\n",
    "for strJob in os.listdir(strJobsDir):\n",
    "    listDemodDirs = fn_getDemodDirsOfAJob(os.path.join(strJobsDir, strJob))\n",
    "    for strDemodDir in listDemodDirs:\n",
    "        strSamplesDir = os.path.join(strDemodDir, \"parts/sync/frame/samples/normal/train\")\n",
    "        pdDfPreprocessedSamples = pd.read_csv(\\\n",
    "              os.path.join(strSamplesDir, \"preprocessed/samples.csv\"))\n",
    "        pdDfSamples = pd.read_csv(os.path.join(strSamplesDir, \"samples.csv\"), index_col=\"RECTIME\")\n",
    "        # 分数csv包含scores列\n",
    "        pdDfScores = fn_score(pdDfPreprocessedSamples)\n",
    "        pdDfScores.index = pdDfSamples.index\n",
    "\n",
    "        pdDfScores.to_csv(os.path.join(strSamplesDir, \"preprocessed/scores.csv\"), index_label=\"RECTIME\")\n",
    "        \n",
    "# Abnormal samples\n",
    "for strJob in os.listdir(strJobsDir):\n",
    "    listDemodDirs = fn_getDemodDirsOfAJob(os.path.join(strJobsDir, strJob))\n",
    "    for strDemodDir in listDemodDirs:\n",
    "        strSamplesDir = os.path.join(strDemodDir, \"parts/sync/frame/samples/abnormal\")\n",
    "        pdDfPreprocessedSamples = pd.read_csv(os.path.join(strSamplesDir, \"preprocessed/samples.csv\"), index_col=\"RECTIME\")\n",
    "        pdDfScores = fn_score(pdDfPreprocessedSamples)\n",
    "\n",
    "        pdDfScores.to_csv(os.path.join(strSamplesDir, \"preprocessed/scores.csv\"), index_label=\"RECTIME\")"
   ]
  },
  {
   "cell_type": "code",
   "execution_count": 29,
   "metadata": {},
   "outputs": [],
   "source": [
    "# 读入正常测试样本和异常测试样本的分数，分别存入numpy数组\n",
    "listScores = []\n",
    "listX = []\n",
    "for strJob in os.listdir(strJobsDir):\n",
    "    strJobDir = os.path.join(strJobsDir, strJob)\n",
    "    listDemodDirs = fn_getDemodDirsOfAJob(strJobDir)\n",
    "    for strDemodDir in listDemodDirs:\n",
    "        strNormalTestingScoresFile = os.path.join(strDemodDir, \\\n",
    "                                                  \"parts/sync/frame/samples/normal/train/preprocessed/scores.csv\")\n",
    "        pdDfNormalTestingScores = pd.read_csv(strNormalTestingScoresFile, index_col=\"RECTIME\")\n",
    "        \n",
    "        if not pdDfNormalTestingScores.empty:\n",
    "            listScores.append(pdDfNormalTestingScores[\"score\"].values)\n",
    "            \n",
    "            # 分数的横坐标——用crc编码“解调器名+上报时间”\n",
    "            strDemod = os.path.split(strDemodDir)[1]\n",
    "            listX.append([hash(strDemod + strIndex) for strIndex in pdDfNormalTestingScores.index])\n",
    "            \n",
    "npNormalScores = np.concatenate(listScores)\n",
    "npNormalX = np.concatenate(listX)"
   ]
  },
  {
   "cell_type": "code",
   "execution_count": 30,
   "metadata": {},
   "outputs": [],
   "source": [
    "listScores = []\n",
    "listX = []\n",
    "for strJob in os.listdir(strJobsDir):\n",
    "    strJobDir = os.path.join(strJobsDir, strJob)\n",
    "    listDemodDirs = fn_getDemodDirsOfAJob(strJobDir)\n",
    "    for strDemodDir in listDemodDirs:\n",
    "        strAbnormalTestingScoresFile = os.path.join(strDemodDir, \\\n",
    "                                                  \"parts/sync/frame/samples/abnormal/preprocessed/scores.csv\")\n",
    "        pdDfAbnormalTestingScores = pd.read_csv(strAbnormalTestingScoresFile, index_col=\"RECTIME\")\n",
    "        if not pdDfAbnormalTestingScores.empty:\n",
    "            listScores.append(pdDfAbnormalTestingScores[\"score\"].values)\n",
    "            \n",
    "             # 分数的横坐标——用crc编码“解调器名+上报时间”\n",
    "            strDemod = os.path.split(strDemodDir)[1]\n",
    "            listX.append([hash(strDemod + strIndex) for strIndex in pdDfAbnormalTestingScores.index])\n",
    "            \n",
    "npAbnormalScores = np.concatenate(listScores)\n",
    "npAbnormalX = np.concatenate(listX)"
   ]
  },
  {
   "cell_type": "code",
   "execution_count": 31,
   "metadata": {},
   "outputs": [],
   "source": [
    "\"\"\"\n",
    "通过正常训练样本的分数计算相应的正太分布，利用正态分布计算异常样本该部分正确的概率\n",
    "\"\"\"\n",
    "fMeanframe = np.mean(npNormalScores)\n",
    "fSigmaframe = np.var(npNormalScores)\n",
    "npAbnormalprob = np.apply_along_axis(lambda x: 1 if x <= fMeanframe else ss.norm.sf(x, fMeanframe, fSigmaframe), 1, \\\n",
    "     npAbnormalScores[:, np.newaxis].astype(np.float64))"
   ]
  },
  {
   "cell_type": "code",
   "execution_count": 214,
   "metadata": {},
   "outputs": [
    {
     "data": {
      "image/png": "[encoded data removed]",
      "text/plain": [
       "<Figure size 1080x720 with 1 Axes>"
      ]
     },
     "metadata": {
      "needs_background": "light"
     },
     "output_type": "display_data"
    }
   ],
   "source": [
    "plt.figure(figsize=(15, 10))\n",
    "plt.scatter(npAbnormalX, npAbnormalprob, s=40)\n",
    "plt.ylim([-0.1, 1.1])\n",
    "plt.show()"
   ]
  },
  {
   "cell_type": "markdown",
   "metadata": {},
   "source": [
    "## 计算正确率并存入json\n",
    "将每一个异常样本存入一个json文件中，文件名为“任务名&解调器名&时间点.json”。\n",
    "\n",
    "json结构如下：\n",
    "* “中频输入”元组\n",
    "    * 各个参数名及对应的参数值\n",
    "    * 正确率\n",
    "* “载波同步”元组\n",
    "* “比特同步”元组\n",
    "* “维特比译码”元组\n",
    "* “帧同步”元组"
   ]
  },
  {
   "cell_type": "code",
   "execution_count": 32,
   "metadata": {},
   "outputs": [],
   "source": [
    "\"\"\"\n",
    "各个部分的异常样本index为准，寻找其对应的记录在分路之后各个部分的原始参数值\n",
    "将每个记录各个阶段的参数键值对存入以该部分的名称为名的字典中，并在最后附加上该部分的正确率\n",
    "最终\n",
    "\"\"\"\n",
    "dictScores = {\"中频输入\": [], \"载波同步\": [], \"比特同步\": [], \"维特比译码\": [], \"帧同步\": []}\n",
    "dictIds = []\n",
    "dictValues = {\"中频输入\": [], \"载波同步\": [], \"比特同步\": [], \"维特比译码\": [], \"帧同步\": []}\n",
    "\n",
    "def fn_combiner(strSection):\n",
    "    dictScores[strSection].append(pdDfScores.values[:, 0])\n",
    "    dictValues[strSection].extend([dict(zip(pdDfStatus.columns, pdDfStatus.loc[strIndex, :])) \n",
    "         for strIndex in pdDfStatus.index])\n",
    "\n",
    "for strJob in os.listdir(strJobsDir):\n",
    "    for strDemodDir in fn_getDemodDirsOfAJob(os.path.join(strJobsDir, strJob)):\n",
    "        strDemod = os.path.split(strDemodDir)[1]\n",
    "        strPartDir = os.path.join(strDemodDir, \"parts/sync\")\n",
    "        \"\"\"中频输入\"\"\"\n",
    "        pdDfScores = pd.read_csv(os.path.join(strPartDir, \"input/samples/abnormal/preprocessed/scores.csv\"), \\\n",
    "            index_col=\"RECTIME\")\n",
    "        pdDfStatus = pd.read_csv(os.path.join(strPartDir, \"input/status.csv\"), index_col=\"RECTIME\")\n",
    "        fn_combiner(\"中频输入\")\n",
    "        oIndex = pdDfScores.index\n",
    "        dictIds.extend([strJob + \"&\" + strDemod + \"&\" + strIndex[-8:].replace(\":\", \"_\") for strIndex in oIndex])\n",
    "\n",
    "        \"\"\"载波同步\"\"\"\n",
    "        pdDfScores = pd.read_csv(os.path.join(strPartDir, \"carrier/samples/abnormal/preprocessed/scores.csv\"), \\\n",
    "            index_col=\"RECTIME\")\n",
    "        pdDfStatus = pd.read_csv(os.path.join(strPartDir, \"carrier/status.csv\"), index_col=\"RECTIME\")\n",
    "        fn_combiner(\"载波同步\")\n",
    "\n",
    "        \"\"\"比特同步\"\"\"\n",
    "        pdDfScores = pd.read_csv(os.path.join(strPartDir, \"bit/samples/abnormal/preprocessed/scores.csv\"), \\\n",
    "             index_col=\"RECTIME\")\n",
    "        pdDfStatus = pd.read_csv(os.path.join(strPartDir, \"bit/status.csv\"), index_col=\"RECTIME\")\n",
    "        fn_combiner(\"比特同步\")\n",
    "\n",
    "        \"\"\"维特比译码\"\"\"\n",
    "        pdDfScores = pd.read_csv(os.path.join(strPartDir, \"vi/samples/abnormal/preprocessed/scores.csv\"), \\\n",
    "             index_col=\"RECTIME\")\n",
    "        pdDfStatus = pd.read_csv(os.path.join(strPartDir, \"vi/status.csv\"), \\\n",
    "              index_col=\"RECTIME\")\n",
    "        fn_combiner(\"维特比译码\")\n",
    "\n",
    "        \"\"\"帧同步\"\"\"\n",
    "        pdDfScores = pd.read_csv(os.path.join(strPartDir, \"frame/samples/abnormal/preprocessed/scores.csv\"), \\\n",
    "             index_col=\"RECTIME\")\n",
    "        pdDfSamples = pd.read_csv(os.path.join(strPartDir, \"frame/status.csv\"), \\\n",
    "              index_col=\"RECTIME\")\n",
    "        fn_combiner(\"帧同步\")"
   ]
  },
  {
   "cell_type": "code",
   "execution_count": 33,
   "metadata": {},
   "outputs": [],
   "source": [
    "\"\"\"将各个部分的均值方差存入字典\"\"\"\n",
    "dictMeans = {\"中频输入\": fMeaninput, \"载波同步\": fMeancarrier, \"比特同步\": fMeanbit, \\\n",
    "     \"维特比译码\": fMeanvi, \"帧同步\": fMeanframe}\n",
    "dictSigmas = {\"中频输入\": fSigmainput, \"载波同步\": fSigmacarrier, \"比特同步\": fSigmabit, \\\n",
    "     \"维特比译码\": fSigmavi, \"帧同步\": fSigmaframe}"
   ]
  },
  {
   "cell_type": "code",
   "execution_count": 34,
   "metadata": {},
   "outputs": [],
   "source": [
    "\"\"\"对异常样本的分数计算正确概率\"\"\"\n",
    "dictProbs = {}\n",
    "\n",
    "for strPara in [\"中频输入\", \"载波同步\", \"比特同步\", \"维特比译码\", \"帧同步\"]:\n",
    "    dictProbs[strPara] = \\\n",
    "        [100 if s <= dictMeans[strPara] else ss.norm.sf(s, dictMeans[strPara], dictSigmas[strPara]) * 100 \\\n",
    "             for s in np.concatenate(dictScores[strPara]).astype(np.float32)]"
   ]
  },
  {
   "cell_type": "code",
   "execution_count": 35,
   "metadata": {},
   "outputs": [],
   "source": [
    "\"\"\"将每个异常样本的各个部分参数的原始值存入一个json文件\n",
    "对于一条记录的相邻两个部分A、B而言，如果B对应的正确率小于A的正确率将近50%，那么判定部分B相对于部分A增加的\n",
    "阶段发生故障，并在该部分对应的字典添上“故障”：Yes键值对，部分B后面的各个阶段的故障与否忽略不计\n",
    "\"\"\"\n",
    "strJsonDir = \"../probs\"\n",
    "if os.path.exists(strJsonDir):\n",
    "    shutil.rmtree(strJsonDir)\n",
    "os.mkdir(strJsonDir)\n",
    "\n",
    "for i in range(len(dictIds)):\n",
    "    dictJson = {}\n",
    "    fLastProb = 100.0\n",
    "    for strPara in [\"中频输入\", \"载波同步\", \"比特同步\", \"维特比译码\", \"帧同步\"]:\n",
    "        dictJson[strPara] = dictValues[strPara][i].copy()\n",
    "        # 如果已经检测出了故障阶段（fLastProb==-1），跳过此步\n",
    "        if not fLastProb == -1 and fLastProb - dictProbs[strPara][i] >= 50.0:\n",
    "            dictJson[strPara][\"故障\"] = \"Yes\"\n",
    "            fLastProb = -1\n",
    "        elif not fLastProb == -1:\n",
    "            # 如果没发现故障阶段，则更新正确概率\n",
    "            fLastProb = dictProbs[strPara][i]\n",
    "    strJson = json.dumps(dictJson, ensure_ascii=False)\n",
    "    with open(os.path.join(strJsonDir, dictIds[i] + \".json\"), \"wb\") as f:\n",
    "        f.write(str.encode(strJson))"
   ]
  },
  {
   "cell_type": "markdown",
   "metadata": {},
   "source": [
    "## 译码"
   ]
  },
  {
   "cell_type": "markdown",
   "metadata": {},
   "source": [
    "### 构造建立模型"
   ]
  },
  {
   "cell_type": "code",
   "execution_count": 21,
   "metadata": {},
   "outputs": [],
   "source": [
    "# 32参数\n",
    "class GANdecode(object):\n",
    "    def __init__(self):\n",
    "        self.fn_makeGenerator()\n",
    "        self.fn_makeDiscriminator()\n",
    "        \n",
    "    def fn_makeGenerator(self):\n",
    "        self.oSeqGe = tf.keras.Sequential(name=\"Ge\")\n",
    "        self.oSeqGe.add(tf.keras.Input(shape=(32,)))\n",
    "        self.oSeqGe.add(tf.keras.layers.Dense(16, kernel_initializer=\"he_normal\"))\n",
    "        self.oSeqGe.add(tf.keras.layers.LeakyReLU())\n",
    "        self.oSeqGe.add(tf.keras.layers.BatchNormalization())\n",
    "        self.oSeqGe.add(tf.keras.layers.Dense(16, kernel_initializer=\"he_normal\"))\n",
    "        self.oSeqGe.add(tf.keras.layers.LeakyReLU())\n",
    "\n",
    "        self.oSeqGd = tf.keras.Sequential(name=\"Gd\")\n",
    "        self.oSeqGd.add(tf.keras.Input(shape=(16,)))\n",
    "        self.oSeqGd.add(tf.keras.layers.Dense(16, kernel_initializer=\"he_normal\"))\n",
    "        self.oSeqGd.add(tf.keras.layers.LeakyReLU())\n",
    "        self.oSeqGd.add(tf.keras.layers.BatchNormalization())\n",
    "        self.oSeqGd.add(tf.keras.layers.Dense(32, activation = tf.keras.activations.tanh, kernel_initializer=\"he_normal\"))\n",
    "        \n",
    "        self.oSeqGe1 = tf.keras.Sequential(name=\"Ge1\")\n",
    "        self.oSeqGe1.add(tf.keras.Input(shape=(32,)))\n",
    "        self.oSeqGe1.add(tf.keras.layers.Dense(16, kernel_initializer=\"he_normal\"))\n",
    "        self.oSeqGe1.add(tf.keras.layers.LeakyReLU())\n",
    "        self.oSeqGe1.add(tf.keras.layers.BatchNormalization())\n",
    "        self.oSeqGe1.add(tf.keras.layers.Dense(16, kernel_initializer=\"he_normal\"))\n",
    "        self.oSeqGe1.add(tf.keras.layers.LeakyReLU())\n",
    "        \n",
    "    def fn_makeDiscriminator(self):\n",
    "        self.oSeqDInner = tf.keras.Sequential(name=\"DInner\")\n",
    "        self.oSeqDInner.add(tf.keras.Input(shape=(32,)))\n",
    "        self.oSeqDInner.add(tf.keras.layers.Dense(16, kernel_initializer=\"he_normal\"))\n",
    "        self.oSeqDInner.add(tf.keras.layers.LeakyReLU())\n",
    "        self.oSeqDInner.add(tf.keras.layers.BatchNormalization())\n",
    "        self.oSeqDInner.add(tf.keras.layers.Dense(16, kernel_initializer=\"he_normal\"))\n",
    "        self.oSeqDInner.add(tf.keras.layers.LeakyReLU())\n",
    "        self.oSeqDInner.add(tf.keras.layers.BatchNormalization())\n",
    "\n",
    "        self.oSeqD = tf.keras.Sequential([\n",
    "            self.oSeqDInner,\n",
    "            tf.keras.layers.Dense(1, activation = tf.keras.activations.sigmoid)\n",
    "        ], name=\"D\")"
   ]
  },
  {
   "cell_type": "code",
   "execution_count": 30,
   "metadata": {},
   "outputs": [],
   "source": [
    "# 新建模型\n",
    "oGANdecode = GANdecode()"
   ]
  },
  {
   "cell_type": "markdown",
   "metadata": {},
   "source": [
    "### 构造数据集"
   ]
  },
  {
   "cell_type": "code",
   "execution_count": 31,
   "metadata": {},
   "outputs": [],
   "source": [
    "g_nFeatures = 32\n",
    "g_nBatchSize = 256\n",
    "\n",
    "def fn_splitCsvLine(strLine):\n",
    "    tensorDefs = [0.] * g_nFeatures\n",
    "    tensorRecord = tf.io.decode_csv(strLine, record_defaults=tensorDefs)\n",
    "    tensorX = tf.stack(tensorRecord)\n",
    "    return tensorX\n",
    "\n",
    "oDataset = tf.data.Dataset.list_files(strJobsDir + \"/*/*/parts/decode/samples/normal/train/preprocessed/samples.csv\")\n",
    "oDataset = oDataset.interleave(lambda strSamplesFile: tf.data.TextLineDataset(strSamplesFile).skip(1), \\\n",
    "                              cycle_length=5, num_parallel_calls=5)\n",
    "oDataset = oDataset.map(fn_splitCsvLine, g_nFeatures)\n",
    "oDataset = oDataset.shuffle(1000)\n",
    "oDataset = oDataset.batch(g_nBatchSize)"
   ]
  },
  {
   "cell_type": "code",
   "execution_count": 32,
   "metadata": {},
   "outputs": [],
   "source": [
    "# 读入所有的训练样本，从而通过shape属性得到训练集大小，存入全局变量中\n",
    "listPreprocessedNormalTrainingSamples = []\n",
    "for strJob in os.listdir(strJobsDir):\n",
    "    strJobDir = os.path.join(strJobsDir, strJob)\n",
    "    listDemodDirs = fn_getDemodDirsOfAJob(strJobDir)\n",
    "    for strDemodDir in listDemodDirs:\n",
    "        strPreprocessedNormalTrainingSamplesFile = os.path.join(strDemodDir, \\\n",
    "                                                   \"parts/decode/samples/normal/train/preprocessed/samples.csv\")\n",
    "        pdDfPreprocessedNormalTrainingSamples = pd.read_csv(strPreprocessedNormalTrainingSamplesFile)\n",
    "        listPreprocessedNormalTrainingSamples.append(pdDfPreprocessedNormalTrainingSamples)\n",
    "pdDfPreprocessedNormalTrainingSamples = pd.concat(listPreprocessedNormalTrainingSamples)\n",
    "g_tensorNormalTrainingSamples = tf.constant(pdDfPreprocessedNormalTrainingSamples.values, dtype=tf.float32)\n",
    "g_nTrainingSize = len(g_tensorNormalTrainingSamples)"
   ]
  },
  {
   "cell_type": "markdown",
   "metadata": {},
   "source": [
    "### 训练"
   ]
  },
  {
   "cell_type": "code",
   "execution_count": 33,
   "metadata": {},
   "outputs": [],
   "source": [
    "# g_nTrainingSize在中频控制已经设置好了\n",
    "g_nEpochs = 10000\n",
    "nSteps = g_nEpochs * g_nTrainingSize // g_nBatchSize\n",
    "oExponentialDecay = tf.keras.optimizers.schedules.ExponentialDecay(1e-2, nSteps, 1e-1)\n",
    "oOptimizerG = tf.keras.optimizers.Adam(learning_rate=oExponentialDecay)\n",
    "oOptimizerD = tf.keras.optimizers.SGD(learning_rate=oExponentialDecay)"
   ]
  },
  {
   "cell_type": "code",
   "execution_count": 34,
   "metadata": {},
   "outputs": [],
   "source": [
    "strD = \"(32,16)_D\"\n",
    "strA = \"(32,16)_A\"\n",
    "strRootDir = \"logs/nobranch/decode\"\n",
    "strDDir = os.path.join(strRootDir, strD)\n",
    "strADir = os.path.join(strRootDir, strA)"
   ]
  },
  {
   "cell_type": "code",
   "execution_count": 35,
   "metadata": {},
   "outputs": [],
   "source": [
    "if os.path.exists(strDDir):\n",
    "    shutil.rmtree(strDDir)\n",
    "if os.path.exists(strADir):\n",
    "    shutil.rmtree(strADir)"
   ]
  },
  {
   "cell_type": "code",
   "execution_count": 36,
   "metadata": {},
   "outputs": [],
   "source": [
    "oSummaryWriterDLoss = tf.summary.create_file_writer(strDDir)\n",
    "oSummaryWriterALoss = tf.summary.create_file_writer(strADir)"
   ]
  },
  {
   "cell_type": "code",
   "execution_count": 37,
   "metadata": {},
   "outputs": [
    {
     "name": "stdout",
     "output_type": "stream",
     "text": [
      "2022/10000"
     ]
    },
    {
     "ename": "KeyboardInterrupt",
     "evalue": "",
     "output_type": "error",
     "traceback": [
      "\u001b[1;31m---------------------------------------------------------------------------\u001b[0m",
      "\u001b[1;31mKeyboardInterrupt\u001b[0m                         Traceback (most recent call last)",
      "\u001b[1;32m<ipython-input-37-22dfa3559308>\u001b[0m in \u001b[0;36m<module>\u001b[1;34m\u001b[0m\n\u001b[0;32m      2\u001b[0m \u001b[0moSeqGd\u001b[0m \u001b[1;33m=\u001b[0m \u001b[1;32mNone\u001b[0m\u001b[1;33m\u001b[0m\u001b[1;33m\u001b[0m\u001b[0m\n\u001b[0;32m      3\u001b[0m \u001b[0moSeqGe1\u001b[0m \u001b[1;33m=\u001b[0m \u001b[1;32mNone\u001b[0m\u001b[1;33m\u001b[0m\u001b[1;33m\u001b[0m\u001b[0m\n\u001b[1;32m----> 4\u001b[1;33m \u001b[0mfn_train\u001b[0m\u001b[1;33m(\u001b[0m\u001b[0moGANdecode\u001b[0m\u001b[1;33m)\u001b[0m\u001b[1;33m\u001b[0m\u001b[1;33m\u001b[0m\u001b[0m\n\u001b[0m",
      "\u001b[1;32m<ipython-input-8-3855d8924bd9>\u001b[0m in \u001b[0;36mfn_train\u001b[1;34m(oGAN)\u001b[0m\n\u001b[0;32m     45\u001b[0m             \u001b[0mtensorDLoss\u001b[0m \u001b[1;33m=\u001b[0m \u001b[0mtensorDLossR\u001b[0m \u001b[1;33m+\u001b[0m \u001b[0mtensorDLossF\u001b[0m\u001b[1;33m\u001b[0m\u001b[1;33m\u001b[0m\u001b[0m\n\u001b[0;32m     46\u001b[0m             \u001b[1;32mwith\u001b[0m \u001b[0moSummaryWriterDLoss\u001b[0m\u001b[1;33m.\u001b[0m\u001b[0mas_default\u001b[0m\u001b[1;33m(\u001b[0m\u001b[1;33m)\u001b[0m\u001b[1;33m:\u001b[0m\u001b[1;33m\u001b[0m\u001b[1;33m\u001b[0m\u001b[0m\n\u001b[1;32m---> 47\u001b[1;33m                 \u001b[0mtf\u001b[0m\u001b[1;33m.\u001b[0m\u001b[0msummary\u001b[0m\u001b[1;33m.\u001b[0m\u001b[0mscalar\u001b[0m\u001b[1;33m(\u001b[0m\u001b[1;34m\"D_Loss\"\u001b[0m\u001b[1;33m,\u001b[0m \u001b[0mtensorDLoss\u001b[0m\u001b[1;33m,\u001b[0m \u001b[0mg_nStep\u001b[0m\u001b[1;33m)\u001b[0m\u001b[1;33m\u001b[0m\u001b[1;33m\u001b[0m\u001b[0m\n\u001b[0m\u001b[0;32m     48\u001b[0m \u001b[1;33m\u001b[0m\u001b[0m\n\u001b[0;32m     49\u001b[0m             \u001b[1;31m# Train genertor\u001b[0m\u001b[1;33m\u001b[0m\u001b[1;33m\u001b[0m\u001b[1;33m\u001b[0m\u001b[0m\n",
      "\u001b[1;32mf:\\python\\python37\\Lib\\contextlib.py\u001b[0m in \u001b[0;36m__exit__\u001b[1;34m(self, type, value, traceback)\u001b[0m\n\u001b[0;32m    117\u001b[0m         \u001b[1;32mif\u001b[0m \u001b[0mtype\u001b[0m \u001b[1;32mis\u001b[0m \u001b[1;32mNone\u001b[0m\u001b[1;33m:\u001b[0m\u001b[1;33m\u001b[0m\u001b[1;33m\u001b[0m\u001b[0m\n\u001b[0;32m    118\u001b[0m             \u001b[1;32mtry\u001b[0m\u001b[1;33m:\u001b[0m\u001b[1;33m\u001b[0m\u001b[1;33m\u001b[0m\u001b[0m\n\u001b[1;32m--> 119\u001b[1;33m                 \u001b[0mnext\u001b[0m\u001b[1;33m(\u001b[0m\u001b[0mself\u001b[0m\u001b[1;33m.\u001b[0m\u001b[0mgen\u001b[0m\u001b[1;33m)\u001b[0m\u001b[1;33m\u001b[0m\u001b[1;33m\u001b[0m\u001b[0m\n\u001b[0m\u001b[0;32m    120\u001b[0m             \u001b[1;32mexcept\u001b[0m \u001b[0mStopIteration\u001b[0m\u001b[1;33m:\u001b[0m\u001b[1;33m\u001b[0m\u001b[1;33m\u001b[0m\u001b[0m\n\u001b[0;32m    121\u001b[0m                 \u001b[1;32mreturn\u001b[0m \u001b[1;32mFalse\u001b[0m\u001b[1;33m\u001b[0m\u001b[1;33m\u001b[0m\u001b[0m\n",
      "\u001b[1;32md:\\py_virtualenv\\lib\\site-packages\\tensorflow_core\\python\\ops\\summary_ops_v2.py\u001b[0m in \u001b[0;36mas_default\u001b[1;34m(self)\u001b[0m\n\u001b[0;32m    237\u001b[0m       \u001b[1;31m# Flushes the summary writer in eager mode or in graph functions, but\u001b[0m\u001b[1;33m\u001b[0m\u001b[1;33m\u001b[0m\u001b[1;33m\u001b[0m\u001b[0m\n\u001b[0;32m    238\u001b[0m       \u001b[1;31m# not in legacy graph mode (you're on your own there).\u001b[0m\u001b[1;33m\u001b[0m\u001b[1;33m\u001b[0m\u001b[1;33m\u001b[0m\u001b[0m\n\u001b[1;32m--> 239\u001b[1;33m       \u001b[0mself\u001b[0m\u001b[1;33m.\u001b[0m\u001b[0mflush\u001b[0m\u001b[1;33m(\u001b[0m\u001b[1;33m)\u001b[0m\u001b[1;33m\u001b[0m\u001b[1;33m\u001b[0m\u001b[0m\n\u001b[0m\u001b[0;32m    240\u001b[0m     \u001b[1;32mfinally\u001b[0m\u001b[1;33m:\u001b[0m\u001b[1;33m\u001b[0m\u001b[1;33m\u001b[0m\u001b[0m\n\u001b[0;32m    241\u001b[0m       \u001b[0mcontext\u001b[0m\u001b[1;33m.\u001b[0m\u001b[0mcontext\u001b[0m\u001b[1;33m(\u001b[0m\u001b[1;33m)\u001b[0m\u001b[1;33m.\u001b[0m\u001b[0msummary_writer\u001b[0m \u001b[1;33m=\u001b[0m \u001b[0mold\u001b[0m\u001b[1;33m\u001b[0m\u001b[1;33m\u001b[0m\u001b[0m\n",
      "\u001b[1;32md:\\py_virtualenv\\lib\\site-packages\\tensorflow_core\\python\\ops\\summary_ops_v2.py\u001b[0m in \u001b[0;36mflush\u001b[1;34m(self)\u001b[0m\n\u001b[0;32m    254\u001b[0m     \u001b[1;32mif\u001b[0m \u001b[0mself\u001b[0m\u001b[1;33m.\u001b[0m\u001b[0m_v2\u001b[0m \u001b[1;32mand\u001b[0m \u001b[0mcontext\u001b[0m\u001b[1;33m.\u001b[0m\u001b[0mexecuting_eagerly\u001b[0m\u001b[1;33m(\u001b[0m\u001b[1;33m)\u001b[0m \u001b[1;32mand\u001b[0m \u001b[0mself\u001b[0m\u001b[1;33m.\u001b[0m\u001b[0m_closed\u001b[0m\u001b[1;33m:\u001b[0m\u001b[1;33m\u001b[0m\u001b[1;33m\u001b[0m\u001b[0m\n\u001b[0;32m    255\u001b[0m       \u001b[1;32mreturn\u001b[0m\u001b[1;33m\u001b[0m\u001b[1;33m\u001b[0m\u001b[0m\n\u001b[1;32m--> 256\u001b[1;33m     \u001b[1;32mreturn\u001b[0m \u001b[0m_flush_fn\u001b[0m\u001b[1;33m(\u001b[0m\u001b[0mwriter\u001b[0m\u001b[1;33m=\u001b[0m\u001b[0mself\u001b[0m\u001b[1;33m)\u001b[0m\u001b[1;33m\u001b[0m\u001b[1;33m\u001b[0m\u001b[0m\n\u001b[0m\u001b[0;32m    257\u001b[0m \u001b[1;33m\u001b[0m\u001b[0m\n\u001b[0;32m    258\u001b[0m   \u001b[1;32mdef\u001b[0m \u001b[0mclose\u001b[0m\u001b[1;33m(\u001b[0m\u001b[0mself\u001b[0m\u001b[1;33m)\u001b[0m\u001b[1;33m:\u001b[0m\u001b[1;33m\u001b[0m\u001b[1;33m\u001b[0m\u001b[0m\n",
      "\u001b[1;32md:\\py_virtualenv\\lib\\site-packages\\tensorflow_core\\python\\ops\\summary_ops_v2.py\u001b[0m in \u001b[0;36mflush\u001b[1;34m(writer, name)\u001b[0m\n\u001b[0;32m    930\u001b[0m     \u001b[0mresource\u001b[0m \u001b[1;33m=\u001b[0m \u001b[0mwriter\u001b[0m\u001b[1;33m\u001b[0m\u001b[1;33m\u001b[0m\u001b[0m\n\u001b[0;32m    931\u001b[0m   \u001b[1;32mwith\u001b[0m \u001b[0mops\u001b[0m\u001b[1;33m.\u001b[0m\u001b[0mdevice\u001b[0m\u001b[1;33m(\u001b[0m\u001b[1;34m\"cpu:0\"\u001b[0m\u001b[1;33m)\u001b[0m\u001b[1;33m:\u001b[0m\u001b[1;33m\u001b[0m\u001b[1;33m\u001b[0m\u001b[0m\n\u001b[1;32m--> 932\u001b[1;33m     \u001b[1;32mreturn\u001b[0m \u001b[0mgen_summary_ops\u001b[0m\u001b[1;33m.\u001b[0m\u001b[0mflush_summary_writer\u001b[0m\u001b[1;33m(\u001b[0m\u001b[0mresource\u001b[0m\u001b[1;33m,\u001b[0m \u001b[0mname\u001b[0m\u001b[1;33m=\u001b[0m\u001b[0mname\u001b[0m\u001b[1;33m)\u001b[0m\u001b[1;33m\u001b[0m\u001b[1;33m\u001b[0m\u001b[0m\n\u001b[0m\u001b[0;32m    933\u001b[0m \u001b[1;33m\u001b[0m\u001b[0m\n\u001b[0;32m    934\u001b[0m \u001b[1;33m\u001b[0m\u001b[0m\n",
      "\u001b[1;32md:\\py_virtualenv\\lib\\site-packages\\tensorflow_core\\python\\ops\\gen_summary_ops.py\u001b[0m in \u001b[0;36mflush_summary_writer\u001b[1;34m(writer, name)\u001b[0m\n\u001b[0;32m    241\u001b[0m       _result = _pywrap_tensorflow.TFE_Py_FastPathExecute(\n\u001b[0;32m    242\u001b[0m         \u001b[0m_ctx\u001b[0m\u001b[1;33m.\u001b[0m\u001b[0m_context_handle\u001b[0m\u001b[1;33m,\u001b[0m \u001b[0m_ctx\u001b[0m\u001b[1;33m.\u001b[0m\u001b[0m_thread_local_data\u001b[0m\u001b[1;33m.\u001b[0m\u001b[0mdevice_name\u001b[0m\u001b[1;33m,\u001b[0m\u001b[1;33m\u001b[0m\u001b[1;33m\u001b[0m\u001b[0m\n\u001b[1;32m--> 243\u001b[1;33m         \"FlushSummaryWriter\", name, _ctx._post_execution_callbacks, writer)\n\u001b[0m\u001b[0;32m    244\u001b[0m       \u001b[1;32mreturn\u001b[0m \u001b[0m_result\u001b[0m\u001b[1;33m\u001b[0m\u001b[1;33m\u001b[0m\u001b[0m\n\u001b[0;32m    245\u001b[0m     \u001b[1;32mexcept\u001b[0m \u001b[0m_core\u001b[0m\u001b[1;33m.\u001b[0m\u001b[0m_FallbackException\u001b[0m\u001b[1;33m:\u001b[0m\u001b[1;33m\u001b[0m\u001b[1;33m\u001b[0m\u001b[0m\n",
      "\u001b[1;31mKeyboardInterrupt\u001b[0m: "
     ]
    }
   ],
   "source": [
    "oSeqGe = None\n",
    "oSeqGd = None\n",
    "oSeqGe1 = None\n",
    "fn_train(oGANdecode)"
   ]
  },
  {
   "cell_type": "code",
   "execution_count": 130,
   "metadata": {},
   "outputs": [],
   "source": [
    "strGe = \"Ge.h5\"\n",
    "strGd = \"Gd.h5\"\n",
    "strGe1 = \"Ge1.h5\"\n",
    "strRootDir = \"models/nobranch/decode\"\n",
    "strModelsDir = os.path.join(strRootDir, \"(32,16)\")\n",
    "strGeFile = os.path.join(strModelsDir, strGe)\n",
    "strGdFile = os.path.join(strModelsDir, strGd)\n",
    "strGe1File = os.path.join(strModelsDir, strGe1)"
   ]
  },
  {
   "cell_type": "code",
   "execution_count": 40,
   "metadata": {},
   "outputs": [],
   "source": [
    "if os.path.exists(strModelsDir):\n",
    "    shutil.rmtree(strModelsDir)\n",
    "os.mkdir(strModelsDir)"
   ]
  },
  {
   "cell_type": "code",
   "execution_count": 41,
   "metadata": {},
   "outputs": [],
   "source": [
    "oSeqGe.save(strGeFile)\n",
    "oSeqGd.save(strGdFile)\n",
    "oSeqGe1.save(strGe1File)"
   ]
  },
  {
   "cell_type": "markdown",
   "metadata": {},
   "source": [
    "### 评估"
   ]
  },
  {
   "cell_type": "code",
   "execution_count": 131,
   "metadata": {},
   "outputs": [
    {
     "name": "stdout",
     "output_type": "stream",
     "text": [
      "WARNING:tensorflow:No training configuration found in save file: the model was *not* compiled. Compile it manually.\n",
      "WARNING:tensorflow:No training configuration found in save file: the model was *not* compiled. Compile it manually.\n",
      "WARNING:tensorflow:No training configuration found in save file: the model was *not* compiled. Compile it manually.\n"
     ]
    }
   ],
   "source": [
    "oSeqGe = tf.keras.models.load_model(strGeFile)\n",
    "oSeqGd = tf.keras.models.load_model(strGdFile)\n",
    "oSeqGe1 = tf.keras.models.load_model(strGe1File)"
   ]
  },
  {
   "cell_type": "code",
   "execution_count": 43,
   "metadata": {},
   "outputs": [],
   "source": [
    "# 算出正常训练集和异常测试集的分数\n",
    "# train samples\n",
    "for strJob in os.listdir(strJobsDir):\n",
    "    listDemodDirs = fn_getDemodDirsOfAJob(os.path.join(strJobsDir, strJob))\n",
    "    for strDemodDir in listDemodDirs:\n",
    "        strSamplesDir = os.path.join(strDemodDir, \"parts/decode/samples/normal/train\")\n",
    "        pdDfPreprocessedSamples = pd.read_csv(\\\n",
    "              os.path.join(strSamplesDir, \"preprocessed/samples.csv\"))\n",
    "        pdDfSamples = pd.read_csv(os.path.join(strSamplesDir, \"samples.csv\"), index_col=\"RECTIME\")\n",
    "        # 分数csv包含scores列\n",
    "        pdDfScores = fn_score(pdDfPreprocessedSamples)\n",
    "        pdDfScores.index = pdDfSamples.index\n",
    "\n",
    "        pdDfScores.to_csv(os.path.join(strSamplesDir, \"preprocessed/scores.csv\"), index_label=\"RECTIME\")\n",
    "        \n",
    "# Abnormal samples\n",
    "for strJob in os.listdir(strJobsDir):\n",
    "    listDemodDirs = fn_getDemodDirsOfAJob(os.path.join(strJobsDir, strJob))\n",
    "    for strDemodDir in listDemodDirs:\n",
    "        strSamplesDir = os.path.join(strDemodDir, \"parts/decode/samples/abnormal\")\n",
    "        pdDfPreprocessedSamples = pd.read_csv(os.path.join(strSamplesDir, \"preprocessed/samples.csv\"), index_col=\"RECTIME\")\n",
    "        pdDfScores = fn_score(pdDfPreprocessedSamples)\n",
    "\n",
    "        pdDfScores.to_csv(os.path.join(strSamplesDir, \"preprocessed/scores.csv\"), index_label=\"RECTIME\")"
   ]
  },
  {
   "cell_type": "code",
   "execution_count": 134,
   "metadata": {},
   "outputs": [],
   "source": [
    "# 读入正常测试样本和异常测试样本的分数，分别存入numpy数组\n",
    "listScores = []\n",
    "listX = []\n",
    "for strJob in os.listdir(strJobsDir):\n",
    "    strJobDir = os.path.join(strJobsDir, strJob)\n",
    "    listDemodDirs = fn_getDemodDirsOfAJob(strJobDir)\n",
    "    for strDemodDir in listDemodDirs:\n",
    "        strNormalTestingScoresFile = os.path.join(strDemodDir, \\\n",
    "                                                  \"parts/decode/samples/normal/train/preprocessed/scores.csv\")\n",
    "        pdDfNormalTestingScores = pd.read_csv(strNormalTestingScoresFile, index_col=\"RECTIME\")\n",
    "        \n",
    "        if not pdDfNormalTestingScores.empty:\n",
    "            listScores.append(pdDfNormalTestingScores[\"score\"].values)\n",
    "            \n",
    "            # 分数的横坐标——用crc编码“解调器名+上报时间”\n",
    "            strDemod = os.path.split(strDemodDir)[1]\n",
    "            listX.append([hash(strDemod + strIndex) for strIndex in pdDfNormalTestingScores.index])\n",
    "            \n",
    "npNormalScores = np.concatenate(listScores)\n",
    "npNormalX = np.concatenate(listX)"
   ]
  },
  {
   "cell_type": "code",
   "execution_count": 135,
   "metadata": {},
   "outputs": [],
   "source": [
    "listScores = []\n",
    "listX = []\n",
    "for strJob in os.listdir(strJobsDir):\n",
    "    strJobDir = os.path.join(strJobsDir, strJob)\n",
    "    listDemodDirs = fn_getDemodDirsOfAJob(strJobDir)\n",
    "    for strDemodDir in listDemodDirs:\n",
    "        strAbnormalTestingScoresFile = os.path.join(strDemodDir, \\\n",
    "                                                  \"parts/decode/samples/abnormal/preprocessed/scores.csv\")\n",
    "        pdDfAbnormalTestingScores = pd.read_csv(strAbnormalTestingScoresFile, index_col=\"RECTIME\")\n",
    "        if not pdDfAbnormalTestingScores.empty:\n",
    "            listScores.append(pdDfAbnormalTestingScores[\"score\"].values)\n",
    "            \n",
    "             # 分数的横坐标——用crc编码“解调器名+上报时间”\n",
    "            strDemod = os.path.split(strDemodDir)[1]\n",
    "            listX.append([hash(strDemod + strIndex) for strIndex in pdDfAbnormalTestingScores.index])\n",
    "            \n",
    "npAbnormalScores = np.concatenate(listScores)\n",
    "npAbnormalX = np.concatenate(listX)"
   ]
  },
  {
   "cell_type": "code",
   "execution_count": 136,
   "metadata": {},
   "outputs": [],
   "source": [
    "\"\"\"\n",
    "通过正常训练样本的分数计算相应的正太分布，利用正态分布计算异常样本该部分正确的概率\n",
    "\"\"\"\n",
    "fMeandecode = np.mean(npNormalScores)\n",
    "fSigmadecode = np.var(npNormalScores)\n",
    "npAbnormalprob = np.apply_along_axis(lambda x: 1 if x <= fMeanframe else ss.norm.sf(x, fMeandecode, fSigmadecode), 1, \\\n",
    "     npAbnormalScores[:, np.newaxis].astype(np.float64))"
   ]
  },
  {
   "cell_type": "code",
   "execution_count": 137,
   "metadata": {},
   "outputs": [
    {
     "data": {
      "image/png": "[encoded data removed]",
      "text/plain": [
       "<Figure size 1080x720 with 1 Axes>"
      ]
     },
     "metadata": {
      "needs_background": "light"
     },
     "output_type": "display_data"
    }
   ],
   "source": [
    "plt.figure(figsize=(15, 10))\n",
    "plt.scatter(npAbnormalX, npAbnormalprob, s=40)\n",
    "plt.show()"
   ]
  },
  {
   "cell_type": "markdown",
   "metadata": {},
   "source": [
    "### 用随机产生的伪样本测试模型的有效性"
   ]
  },
  {
   "cell_type": "code",
   "execution_count": 153,
   "metadata": {},
   "outputs": [],
   "source": [
    "pdDfFakeSamples = pd.DataFrame(data=np.random.randn(100, 32), index=[\"Fake\"] * 100)"
   ]
  },
  {
   "cell_type": "code",
   "execution_count": 154,
   "metadata": {},
   "outputs": [],
   "source": [
    "npAbnormalScores = fn_score(pdDfFakeSamples).values"
   ]
  },
  {
   "cell_type": "code",
   "execution_count": 155,
   "metadata": {},
   "outputs": [],
   "source": [
    "npAbnormalprob = np.apply_along_axis(lambda x: 1 if x <= fMeanframe else ss.norm.sf(x, fMeandecode, fSigmadecode), 1, \\\n",
    "     npAbnormalScores[:, np.newaxis].astype(np.float64))\n",
    "npAbnormalX = range(len(npAbnormalprob))"
   ]
  },
  {
   "cell_type": "code",
   "execution_count": 156,
   "metadata": {},
   "outputs": [
    {
     "data": {
      "image/png": "[encoded data removed]",
      "text/plain": [
       "<Figure size 1080x720 with 1 Axes>"
      ]
     },
     "metadata": {
      "needs_background": "light"
     },
     "output_type": "display_data"
    }
   ],
   "source": [
    "plt.figure(figsize=(15, 10))\n",
    "plt.scatter(npAbnormalX, npAbnormalprob, s=40)\n",
    "plt.ylim([-0.1, 1.1])\n",
    "plt.show()"
   ]
  }
 ],
 "metadata": {
  "kernelspec": {
   "display_name": "Python 3",
   "language": "python",
   "name": "python3"
  },
  "language_info": {
   "codemirror_mode": {
    "name": "ipython",
    "version": 3
   },
   "file_extension": ".py",
   "mimetype": "text/x-python",
   "name": "python",
   "nbconvert_exporter": "python",
   "pygments_lexer": "ipython3",
   "version": "3.7.4"
  },
  "toc": {
   "base_numbering": 1,
   "nav_menu": {},
   "number_sections": true,
   "sideBar": true,
   "skip_h1_title": false,
   "title_cell": "Table of Contents",
   "title_sidebar": "Contents",
   "toc_cell": false,
   "toc_position": {
    "height": "calc(100% - 180px)",
    "left": "10px",
    "top": "150px",
    "width": "307.188px"
   },
   "toc_section_display": true,
   "toc_window_display": true
  }
 },
 "nbformat": 4,
 "nbformat_minor": 2
}
