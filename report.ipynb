{
 "cells": [
  {
   "cell_type": "markdown",
   "metadata": {},
   "source": [
    "* 从zips中提取每个任务的解调器状态csv数据和任务实施前的xml计划文件到对应的任务文件夹中\n",
    "    1. 发现了有一个任务的子文件夹名是？号，可能是因为这个任务是之前系统上线的时候测试任务。\n",
    "    2. 发现有些任务的解调器状态csv数据的测量参数和其它的任务不同。\n",
    "    把上述任务留在一边\n",
    "    \n",
    "    \n",
    "* 将解调器的状态文件读入JOBXXXX/status/raw/status.csv中，再根据任务的计划文件的receivingStartTime和receivingEndTime\n",
    "  提取出在计划的有效接收时间段内的记录，将有效记录存入JOBXXXX/status/valid/status.csv中\n",
    "  \n",
    "  \n",
    "* 在每个任务的解调器状态目录中新建“parts”文件夹。根据不同的标签确定不同的part\n",
    "    1. framesyncstatus为非0，则该行数据帧同步正常，即帧同步之前的所有状态参数均正常，可做为训练样本\n",
    "    2. 目前决定用丢包数来判断其后译码的正确与否\n",
    "    \n",
    "* 在每个part中划分出不同的section，作为诊断的最小单位"
   ]
  }
 ],
 "metadata": {
  "kernelspec": {
   "display_name": "Python 3",
   "language": "python",
   "name": "python3"
  },
  "language_info": {
   "codemirror_mode": {
    "name": "ipython",
    "version": 3
   },
   "file_extension": ".py",
   "mimetype": "text/x-python",
   "name": "python",
   "nbconvert_exporter": "python",
   "pygments_lexer": "ipython3",
   "version": "3.6.8"
  }
 },
 "nbformat": 4,
 "nbformat_minor": 2
}
