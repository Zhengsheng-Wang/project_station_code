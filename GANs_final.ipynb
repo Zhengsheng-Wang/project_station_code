{
 "cells": [
  {
   "cell_type": "markdown",
   "metadata": {},
   "source": [
    "# 导入包\n",
    "把上次的GAN中没用上的防止模型发散的技巧都用上。除了随机翻转训练判断器的标签。\n",
    "\n",
    "没有正常测试样本集，只有正常训练样本集。用训练好的模型直接对正常训练样本集计算分数，用分数拟合正态分布，用正态分布计算每个异常样本部分的正确概率。"
   ]
  },
  {
   "cell_type": "code",
   "execution_count": 1,
   "metadata": {},
   "outputs": [],
   "source": [
    "import pdb, os, shutil, datetime, math, sys"
   ]
  },
  {
   "cell_type": "code",
   "execution_count": 2,
   "metadata": {},
   "outputs": [],
   "source": [
    "import scipy.stats as ss"
   ]
  },
  {
   "cell_type": "code",
   "execution_count": 3,
   "metadata": {},
   "outputs": [],
   "source": [
    "from zlib import crc32"
   ]
  },
  {
   "cell_type": "code",
   "execution_count": 109,
   "metadata": {},
   "outputs": [],
   "source": [
    "import json"
   ]
  },
  {
   "cell_type": "code",
   "execution_count": 4,
   "metadata": {},
   "outputs": [],
   "source": [
    "import matplotlib.pyplot as plt"
   ]
  },
  {
   "cell_type": "code",
   "execution_count": 5,
   "metadata": {},
   "outputs": [],
   "source": [
    "import numpy as np\n",
    "import pandas as pd"
   ]
  },
  {
   "cell_type": "code",
   "execution_count": 6,
   "metadata": {},
   "outputs": [],
   "source": [
    "import tensorflow as tf"
   ]
  },
  {
   "cell_type": "code",
   "execution_count": 7,
   "metadata": {},
   "outputs": [],
   "source": [
    "# 任务路径\n",
    "strJobsDir = \"../jobs_notest\""
   ]
  },
  {
   "cell_type": "markdown",
   "metadata": {},
   "source": [
    "# 帧同步锁前\n",
    "\n",
    "因为在MNIST中的样本有784个属性。用于分类的模型也只有2层。所以在整个解扰前的训练中，我使用的模型的层数均不变。\n",
    "\n",
    "只随着样本属性的增加，增加每层的神经元个数。"
   ]
  },
  {
   "cell_type": "markdown",
   "metadata": {},
   "source": [
    "## 训练函数\n",
    "训练模型，模型用全局变量表示。\n",
    "\n",
    "如果在某个迭代的最终损失不小于前一次迭代，终止循环，返回前一次迭代的生成器的三个元素。"
   ]
  },
  {
   "cell_type": "code",
   "execution_count": 8,
   "metadata": {},
   "outputs": [],
   "source": [
    "def fn_train(oGAN): \n",
    "    def fn_getGLoss(tensorInput):\n",
    "        # Apperant loss\n",
    "        tensorEncodedSamples = oGAN.oSeqGe(tensorInput)\n",
    "        tensorFakeSamples = oGAN.oSeqGd(tensorEncodedSamples)\n",
    "        tensorApperantLoss = tf.reduce_mean(tf.losses.mean_absolute_error(tensorInput, tensorFakeSamples))\n",
    "\n",
    "        # Latent loss\n",
    "        tensorEncoded1Samples = oGAN.oSeqGe1(tensorFakeSamples)\n",
    "        tensorLatentLoss = \\\n",
    "        tf.reduce_mean(tf.losses.mean_squared_error(tensorEncodedSamples, tensorEncoded1Samples))\n",
    "\n",
    "        # Feature matching loss\n",
    "        tensorPredFeatures = oGAN.oSeqDInner(tensorFakeSamples)\n",
    "        tensorTrueFeatures = oGAN.oSeqDInner(tensorInput)\n",
    "        tensorFeatureLoss = tf.reduce_mean(tf.losses.mean_squared_error(tensorPredFeatures, tensorTrueFeatures))\n",
    "\n",
    "        tensorGLoss = tensorApperantLoss + tensorLatentLoss + tensorFeatureLoss\n",
    "        return tensorGLoss\n",
    "    # 在每个epoch后存储最小的ALoss和对应的\n",
    "    fGLossLast = np.inf\n",
    "\n",
    "    # 开始训练，输出训练的开始时间和训练的结束时间\n",
    "    print(datetime.datetime.now())\n",
    "    for nEpoch in range(g_nEpochs):\n",
    "        for tensorBatch in oDataset:\n",
    "            # Train discriminator\n",
    "            # Generator fake samples\n",
    "            tensorEncodedSamples = oGAN.oSeqGe(tensorBatch)\n",
    "            tensorFakeSamples = oGAN.oSeqGd(tensorEncodedSamples)\n",
    "            with tf.GradientTape() as oGradientTapeD:\n",
    "                # Train discriminator with real samples\n",
    "                tensorLabels = tf.random.uniform(minval=0.7, maxval=1.2, seed=42, shape=(tensorBatch.shape[0], 1))\n",
    "                tensorPreds = oGAN.oSeqD(tensorBatch)\n",
    "                tensorDLossR = tf.reduce_mean(tf.nn.sigmoid_cross_entropy_with_logits(tensorLabels, tensorPreds))\n",
    "            listDGradients = oGradientTapeD.gradient(tensorDLossR, oGAN.oSeqD.trainable_variables)\n",
    "            oOptimizerD.apply_gradients(zip(listDGradients, oGAN.oSeqD.trainable_variables))\n",
    "            with tf.GradientTape() as oGradientTapeD:\n",
    "                # Train discriminator with fake samples\n",
    "                tensorLabels = tf.random.uniform(minval=0., maxval=0.3, seed = 42, shape=(tensorFakeSamples.shape[0], 1))\n",
    "                tensorPreds = oGAN.oSeqD(tensorFakeSamples)\n",
    "                tensorDLossF = tf.reduce_mean(tf.nn.sigmoid_cross_entropy_with_logits(tensorLabels, tensorPreds))\n",
    "            listDGradients = oGradientTapeD.gradient(tensorDLossF, oGAN.oSeqD.trainable_variables)\n",
    "            oOptimizerD.apply_gradients(zip(listDGradients, oGAN.oSeqD.trainable_variables))\n",
    "            tensorDLoss = tensorDLossR + tensorDLossF\n",
    "            with oSummaryWriterDLoss.as_default():\n",
    "                tf.summary.scalar(\"D_Loss\", tensorDLoss, g_nStep)\n",
    "\n",
    "            # Train genertor\n",
    "            with tf.GradientTape() as oGradientTapeG:\n",
    "                tensorGLoss = fn_getGLoss(tensorBatch)\n",
    "            # Insert all generator trainable variables into a list\n",
    "            listTrainableGVariables = []\n",
    "            listTrainableGVariables.extend(oGAN.oSeqGe.trainable_variables)\n",
    "            listTrainableGVariables.extend(oGAN.oSeqGd.trainable_variables)\n",
    "            listTrainableGVariables.extend(oGAN.oSeqGe1.trainable_variables)\n",
    "\n",
    "            listGGradients = oGradientTapeG.gradient(tensorGLoss, listTrainableGVariables)\n",
    "            oOptimizerG.apply_gradients(zip(listGGradients, listTrainableGVariables))\n",
    "            with oSummaryWriterALoss.as_default():\n",
    "                tf.summary.scalar(\"A_loss\", tensorGLoss, g_nStep)\n",
    "\n",
    "            g_nStep = g_nStep + 1\n",
    "            \n",
    "        # 在整个训练集上计算generator的损失，并比较和上一次迭代的损失，如果小于上一次迭代，更新损失和最有模型；反之停止训练\n",
    "        tensorGLossOverTotalSamples = fn_getGLoss(g_tensorNormalTrainingSamples)\n",
    "        if fGLossLast > tensorGLossOverTotalSamples.numpy():\n",
    "            fGLossLast = tensorGLossOverTotalSamples.numpy()\n",
    "            oSeqGe = oGAN.oSeqGe\n",
    "            oSeqGd = oGAN.oSeqGd\n",
    "            oSeqGe1 = oGAN.oSeqGe1\n",
    "        # 输出进度\n",
    "        fn_printBar(nEpoch)\n",
    "    print(datetime.datetime.now())\n",
    "\n",
    "    "
   ]
  },
  {
   "cell_type": "markdown",
   "metadata": {},
   "source": [
    "## 算分函数"
   ]
  },
  {
   "cell_type": "markdown",
   "metadata": {},
   "source": [
    "计算分数的函数\n",
    "通过输入样本集和Ge，Gd，Ge1输出样本集中每个样本的分数的函数。"
   ]
  },
  {
   "cell_type": "code",
   "execution_count": 77,
   "metadata": {},
   "outputs": [],
   "source": [
    "def fn_scoreForASample(npSample):\n",
    "    tensorSample = tf.constant(npSample[np.newaxis, :])\n",
    "    tensorEncodedSample = oSeqGe(tensorSample)\n",
    "    tensorFakeSample = oSeqGd(tensorEncodedSample)\n",
    "    # Apperant loss\n",
    "    tensorApperantLoss = tf.reduce_mean(tf.losses.mean_absolute_error(tensorSample, tensorFakeSample))\n",
    "\n",
    "    # Latent loss\n",
    "    tensorEncoded1Sample = oSeqGe1(tensorFakeSample)\n",
    "    tensorLatentLoss = \\\n",
    "        tf.reduce_mean(tf.losses.mean_squared_error(tensorEncodedSample, tensorEncoded1Sample))\n",
    "\n",
    "    tensorScore = tensorApperantLoss + tensorLatentLoss\n",
    "    return tensorScore.numpy()\n",
    "\n",
    "def fn_score(pdDfSamples):\n",
    "    if pdDfSamples.empty:\n",
    "        pdDfScores = pd.DataFrame(columns=[\"score\"])\n",
    "        return pdDfScores\n",
    "    \n",
    "    pdDfScores = pd.DataFrame(data=np.apply_along_axis(fn_scoreForASample, 1, pdDfSamples.values), columns=[\"score\"], \\\n",
    "         index=pdDfSamples.index)\n",
    "    return pdDfScores"
   ]
  },
  {
   "cell_type": "markdown",
   "metadata": {},
   "source": [
    "## 输出训练进度函数"
   ]
  },
  {
   "cell_type": "code",
   "execution_count": 10,
   "metadata": {},
   "outputs": [],
   "source": [
    "def fn_printBar(nEpoch):\n",
    "    sys.stdout.write(f\"\\r{nEpoch:d}/{g_nEpochs}\")\n",
    "    sys.stdout.flush()"
   ]
  },
  {
   "cell_type": "markdown",
   "metadata": {},
   "source": [
    "## 通过任务文件夹路径获取解调器文件夹路径函数"
   ]
  },
  {
   "cell_type": "code",
   "execution_count": 11,
   "metadata": {},
   "outputs": [],
   "source": [
    "def fn_getDemodDirsOfAJob(strJobDir):\n",
    "    liststrDemodDirs = [os.path.join(strJobDir, strName) for strName in os.listdir(strJobDir) if \"Demod\" in strName]\n",
    "    return liststrDemodDirs"
   ]
  },
  {
   "cell_type": "markdown",
   "metadata": {},
   "source": [
    "## 中频控制\n",
    "\n",
    "利用中频控制的训练样本训练模型，再用模型为测试样本打分。分数越高样本越异常。为测试集打分时，测试集中的正常样本应该分数很低，异常样本中的有一部分应该分数低，一部分分数高。"
   ]
  },
  {
   "cell_type": "markdown",
   "metadata": {},
   "source": [
    "### 构造建立模型\n",
    "5个属性\n",
    "\n",
    "为了能够将训练好的模型保存起来，每个独立的模型的第一层都是tf.keras.Input(shape=(inputshape, ))"
   ]
  },
  {
   "cell_type": "code",
   "execution_count": 18,
   "metadata": {},
   "outputs": [],
   "source": [
    "class GANifu(object):\n",
    "    def __init__(self):\n",
    "        self.fn_makeGenerator()\n",
    "        self.fn_makeDiscriminator()\n",
    "        \n",
    "    def fn_makeGenerator(self):\n",
    "        self.oSeqGe = tf.keras.Sequential(name=\"Ge\")\n",
    "        self.oSeqGe.add(tf.keras.Input(shape=(5,)))\n",
    "        self.oSeqGe.add(tf.keras.layers.Dense(2, kernel_initializer=\"he_normal\"))\n",
    "        self.oSeqGe.add(tf.keras.layers.LeakyReLU())\n",
    "        self.oSeqGe.add(tf.keras.layers.BatchNormalization())\n",
    "        self.oSeqGe.add(tf.keras.layers.Dense(2, kernel_initializer=\"he_normal\"))\n",
    "        self.oSeqGe.add(tf.keras.layers.LeakyReLU())\n",
    "\n",
    "        self.oSeqGd = tf.keras.Sequential(name=\"Gd\")\n",
    "        self.oSeqGd.add(tf.keras.Input(shape=(2,)))\n",
    "        self.oSeqGd.add(tf.keras.layers.Dense(2, kernel_initializer=\"he_normal\"))\n",
    "        self.oSeqGd.add(tf.keras.layers.LeakyReLU())\n",
    "        self.oSeqGd.add(tf.keras.layers.BatchNormalization())\n",
    "        self.oSeqGd.add(tf.keras.layers.Dense(5, activation = tf.keras.activations.tanh, kernel_initializer=\"he_normal\"))\n",
    "        \n",
    "        self.oSeqGe1 = tf.keras.Sequential(name=\"Ge1\")\n",
    "        self.oSeqGe1.add(tf.keras.Input(shape=(5,)))\n",
    "        self.oSeqGe1.add(tf.keras.layers.Dense(2, kernel_initializer=\"he_normal\"))\n",
    "        self.oSeqGe1.add(tf.keras.layers.LeakyReLU())\n",
    "        self.oSeqGe1.add(tf.keras.layers.BatchNormalization())\n",
    "        self.oSeqGe1.add(tf.keras.layers.Dense(2, kernel_initializer=\"he_normal\"))\n",
    "        self.oSeqGe1.add(tf.keras.layers.LeakyReLU())\n",
    "        \n",
    "    def fn_makeDiscriminator(self):\n",
    "        self.oSeqDInner = tf.keras.Sequential(name=\"DInner\")\n",
    "        self.oSeqDInner.add(tf.keras.Input(shape=(5,)))\n",
    "        self.oSeqDInner.add(tf.keras.layers.Dense(2, kernel_initializer=\"he_normal\"))\n",
    "        self.oSeqDInner.add(tf.keras.layers.LeakyReLU())\n",
    "        self.oSeqDInner.add(tf.keras.layers.BatchNormalization())\n",
    "        self.oSeqDInner.add(tf.keras.layers.Dense(2, kernel_initializer=\"he_normal\"))\n",
    "        self.oSeqDInner.add(tf.keras.layers.LeakyReLU())\n",
    "        self.oSeqDInner.add(tf.keras.layers.BatchNormalization())\n",
    "\n",
    "        self.oSeqD = tf.keras.Sequential([\n",
    "            self.oSeqDInner,\n",
    "            tf.keras.layers.Dense(1, activation = tf.keras.activations.sigmoid)\n",
    "        ], name=\"D\")"
   ]
  },
  {
   "cell_type": "code",
   "execution_count": 19,
   "metadata": {},
   "outputs": [],
   "source": [
    "# 新建模型\n",
    "tf.keras.backend.clear_session()\n",
    "oGANifu = GANifu()"
   ]
  },
  {
   "cell_type": "markdown",
   "metadata": {},
   "source": [
    "### 构造数据集"
   ]
  },
  {
   "cell_type": "code",
   "execution_count": 20,
   "metadata": {},
   "outputs": [],
   "source": [
    "g_nFeatures = 5\n",
    "g_nBatchSize = 256\n",
    "\n",
    "def fn_splitCsvLine(strLine):\n",
    "    tensorDefs = [0.] * g_nFeatures\n",
    "    tensorRecord = tf.io.decode_csv(strLine, record_defaults=tensorDefs)\n",
    "    tensorX = tf.stack(tensorRecord)\n",
    "    return tensorX\n",
    "\n",
    "oDataset = tf.data.Dataset.list_files(strJobsDir + \"/*/*/parts/sync/ifu/samples/normal/train/preprocessed/samples.csv\")\n",
    "oDataset = oDataset.interleave(lambda strSamplesFile: tf.data.TextLineDataset(strSamplesFile).skip(1), \\\n",
    "                              cycle_length=5, num_parallel_calls=5)\n",
    "oDataset = oDataset.map(fn_splitCsvLine, 5)\n",
    "oDataset = oDataset.shuffle(1000)\n",
    "oDataset= oDataset.batch(g_nBatchSize)"
   ]
  },
  {
   "cell_type": "code",
   "execution_count": 14,
   "metadata": {},
   "outputs": [],
   "source": [
    "# 读入所有的训练样本，从而通过shape属性得到训练集大小，存入全局变量中\n",
    "listPreprocessedNormalTrainingSamples = []\n",
    "for strJob in os.listdir(strJobsDir):\n",
    "    strJobDir = os.path.join(strJobsDir, strJob)\n",
    "    listDemodDirs = fn_getDemodDirsOfAJob(strJobDir)\n",
    "    for strDemodDir in listDemodDirs:\n",
    "        strPreprocessedNormalTrainingSamplesFile = os.path.join(strDemodDir, \\\n",
    "                                                   \"parts/sync/ifu/samples/normal/train/preprocessed/samples.csv\")\n",
    "        pdDfPreprocessedNormalTrainingSamples = pd.read_csv(strPreprocessedNormalTrainingSamplesFile)\n",
    "        listPreprocessedNormalTrainingSamples.append(pdDfPreprocessedNormalTrainingSamples)\n",
    "pdDfPreprocessedNormalTrainingSamples = pd.concat(listPreprocessedNormalTrainingSamples)\n",
    "g_tensorNormalTrainingSamples = tf.constant(pdDfPreprocessedNormalTrainingSamples.values, dtype=tf.float32)\n",
    "g_nTrainingSize = len(g_tensorNormalTrainingSamples)"
   ]
  },
  {
   "cell_type": "markdown",
   "metadata": {},
   "source": [
    "### 训练"
   ]
  },
  {
   "cell_type": "code",
   "execution_count": 21,
   "metadata": {},
   "outputs": [],
   "source": [
    "# 构造优化器。\n",
    "# 利用ExponentialDecay的方法构造优化器。\n",
    "g_nEpochs = 250\n",
    "nSteps = g_nEpochs * g_nTrainingSize // g_nBatchSize\n",
    "oExponentialDecay = tf.keras.optimizers.schedules.ExponentialDecay(1e-2, nSteps, 1e-1)\n",
    "oOptimizerG = tf.keras.optimizers.Adam(learning_rate=oExponentialDecay)\n",
    "oOptimizerD = tf.keras.optimizers.SGD(learning_rate=oExponentialDecay)"
   ]
  },
  {
   "cell_type": "code",
   "execution_count": 22,
   "metadata": {},
   "outputs": [],
   "source": [
    "# 构造日志\n",
    "strPrefix = datetime.datetime.now().strftime(\"%H_%M_%S\")\n",
    "strPrefix = \"{}\".format(strPrefix)\n",
    "oSummaryWriterDLoss = tf.summary.create_file_writer(\"logs/no_test/ifu/\" + strPrefix + \"_D\")\n",
    "oSummaryWriterALoss = tf.summary.create_file_writer(\"logs/no_test/ifu/\" + strPrefix + \"_A\")"
   ]
  },
  {
   "cell_type": "code",
   "execution_count": 23,
   "metadata": {},
   "outputs": [
    {
     "name": "stdout",
     "output_type": "stream",
     "text": [
      "2020-03-01 09:43:04.274688\n",
      "249/250"
     ]
    }
   ],
   "source": [
    "oSeqGe, oSeqGd, oSeqGe1 = fn_train(oGANifu)"
   ]
  },
  {
   "cell_type": "code",
   "execution_count": 27,
   "metadata": {},
   "outputs": [],
   "source": [
    "# 保存模型\n",
    "oSeqGe.save(\"models/no_test/sync/ifu/Ge.h5\")\n",
    "oSeqGd.save(\"models/no_test/sync/ifu/Gd.h5\")\n",
    "oSeqGe1.save(\"models/no_test/sync/ifu/Ge1.h5\")"
   ]
  },
  {
   "cell_type": "markdown",
   "metadata": {},
   "source": [
    "### 评估\n",
    "然后利用训练好的模型算出测试集样本的分数，存档。"
   ]
  },
  {
   "cell_type": "markdown",
   "metadata": {},
   "source": [
    "从文件夹中载入训练好的模型。\n",
    "\n",
    "遍历每个解调器的测试集，将相应的分数存入preprocessed/scores.csv中"
   ]
  },
  {
   "cell_type": "code",
   "execution_count": 137,
   "metadata": {},
   "outputs": [
    {
     "name": "stdout",
     "output_type": "stream",
     "text": [
      "WARNING:tensorflow:No training configuration found in save file: the model was *not* compiled. Compile it manually.\n",
      "WARNING:tensorflow:No training configuration found in save file: the model was *not* compiled. Compile it manually.\n",
      "WARNING:tensorflow:No training configuration found in save file: the model was *not* compiled. Compile it manually.\n"
     ]
    }
   ],
   "source": [
    "oSeqGe = tf.keras.models.load_model(\"models/notest/sync/ifu/Ge.h5\")\n",
    "oSeqGd = tf.keras.models.load_model(\"models/notest/sync/ifu/Gd.h5\")\n",
    "oSeqGe1 = tf.keras.models.load_model(\"models/notest/sync/ifu/Ge1.h5\")"
   ]
  },
  {
   "cell_type": "markdown",
   "metadata": {},
   "source": [
    "计算测试样本分数并存档\n",
    "执行后：\n",
    "* samples/\n",
    "    * normal/\n",
    "        * test/\n",
    "            * preprocessed/\n",
    "                * samples.csv\n",
    "                * scores.csv\n",
    "    * abnormal/\n",
    "        * preprocessed/\n",
    "            * samples.csv\n",
    "            * scores.csv\n",
    "      \n",
    "在分数后面要添上由解调器名和rectime组成的id，方便画图的时候把同一解调器在同一任务的样本分开。画图的时候要把id和总的横坐标值取模，模的结果作为最终的横坐标。"
   ]
  },
  {
   "cell_type": "code",
   "execution_count": 138,
   "metadata": {},
   "outputs": [],
   "source": [
    "# 算出正常训练集和异常测试集的分数\n",
    "# train samples\n",
    "for strJob in os.listdir(strJobsDir):\n",
    "    listDemodDirs = fn_getDemodDirsOfAJob(os.path.join(strJobsDir, strJob))\n",
    "    for strDemodDir in listDemodDirs:\n",
    "        strSamplesDir = os.path.join(strDemodDir, \"parts/sync/ifu/samples/normal/train\")\n",
    "        pdDfPreprocessedSamples = pd.read_csv(\\\n",
    "              os.path.join(strSamplesDir, \"preprocessed/samples.csv\"))\n",
    "        pdDfSamples = pd.read_csv(os.path.join(strSamplesDir, \"samples.csv\"), index_col=\"RECTIME\")\n",
    "        # 分数csv包含scores列\n",
    "        pdDfScores = fn_score(pdDfPreprocessedSamples)\n",
    "        pdDfScores.index = pdDfSamples.index\n",
    "\n",
    "        pdDfScores.to_csv(os.path.join(strSamplesDir, \"preprocessed/scores.csv\"), index_label=\"RECTIME\")\n",
    "        \n",
    "# Abnormal samples\n",
    "for strJob in os.listdir(strJobsDir):\n",
    "    listDemodDirs = fn_getDemodDirsOfAJob(os.path.join(strJobsDir, strJob))\n",
    "    for strDemodDir in listDemodDirs:\n",
    "        strSamplesDir = os.path.join(strDemodDir, \"parts/sync/ifu/samples/abnormal\")\n",
    "        pdDfPreprocessedSamples = pd.read_csv(os.path.join(strSamplesDir, \"preprocessed/samples.csv\"), index_col=\"RECTIME\")\n",
    "        pdDfScores = fn_score(pdDfPreprocessedSamples)\n",
    "\n",
    "        pdDfScores.to_csv(os.path.join(strSamplesDir, \"preprocessed/scores.csv\"), index_label=\"RECTIME\")"
   ]
  },
  {
   "cell_type": "code",
   "execution_count": 139,
   "metadata": {},
   "outputs": [],
   "source": [
    "# 读入正常测试样本的分数，分别存入numpy数组\n",
    "listScores = []\n",
    "listX = []\n",
    "for strJob in os.listdir(strJobsDir):\n",
    "    strJobDir = os.path.join(strJobsDir, strJob)\n",
    "    listDemodDirs = fn_getDemodDirsOfAJob(strJobDir)\n",
    "    for strDemodDir in listDemodDirs:\n",
    "        strNormalTestingScoresFile = os.path.join(strDemodDir, \\\n",
    "                                                  \"parts/sync/ifu/samples/normal/train/preprocessed/scores.csv\")\n",
    "        pdDfNormalTestingScores = pd.read_csv(strNormalTestingScoresFile, index_col=\"RECTIME\")\n",
    "        \n",
    "        if not pdDfNormalTestingScores.empty:\n",
    "            listScores.append(pdDfNormalTestingScores[\"score\"].values)\n",
    "            \n",
    "            # 分数的横坐标——用crc编码“解调器名+上报时间”\n",
    "            strDemod = os.path.split(strDemodDir)[1]\n",
    "            listX.append([crc32(str.encode(strDemod + strIndex)) for strIndex in pdDfNormalTestingScores.index])\n",
    "            \n",
    "npNormalScores = np.concatenate(listScores)\n",
    "npNormalX = np.concatenate(listX)"
   ]
  },
  {
   "cell_type": "code",
   "execution_count": 140,
   "metadata": {},
   "outputs": [],
   "source": [
    "# 读入异常测试样本的分数\n",
    "listScores = []\n",
    "listX = []\n",
    "for strJob in os.listdir(strJobsDir):\n",
    "    strJobDir = os.path.join(strJobsDir, strJob)\n",
    "    listDemodDirs = fn_getDemodDirsOfAJob(strJobDir)\n",
    "    for strDemodDir in listDemodDirs:\n",
    "        strAbnormalTestingScoresFile = os.path.join(strDemodDir, \\\n",
    "                                                  \"parts/sync/ifu/samples/abnormal/preprocessed/scores.csv\")\n",
    "        pdDfAbnormalTestingScores = pd.read_csv(strAbnormalTestingScoresFile, index_col=\"RECTIME\")\n",
    "        if not pdDfAbnormalTestingScores.empty:\n",
    "            listScores.append(pdDfAbnormalTestingScores[\"score\"].values)\n",
    "            \n",
    "             # 分数的横坐标——用crc编码“解调器名+上报时间”\n",
    "            strDemod = os.path.split(strDemodDir)[1]\n",
    "            listX.append([crc32(str.encode(strDemod + strIndex)) for strIndex in pdDfAbnormalTestingScores.index])\n",
    "            \n",
    "npAbnormalScores = np.concatenate(listScores)\n",
    "npAbnormalX = np.concatenate(listX)"
   ]
  },
  {
   "cell_type": "code",
   "execution_count": 141,
   "metadata": {},
   "outputs": [],
   "source": [
    "\"\"\"\n",
    "通过正常训练样本的分数计算相应的正太分布，利用正态分布计算异常样本该部分正确的概率\n",
    "\"\"\"\n",
    "fMeanifu = np.mean(npNormalScores)\n",
    "fSigmaifu = np.var(npNormalScores)\n",
    "npAbnormalprob = np.apply_along_axis(lambda x: 1 if x <= fMeanifu else ss.norm.sf(x, fMeanifu, fSigmaifu), 1, \\\n",
    "     npAbnormalScores[:, np.newaxis])"
   ]
  },
  {
   "cell_type": "code",
   "execution_count": 142,
   "metadata": {},
   "outputs": [
    {
     "data": {
      "image/png": "[encoded data removed]",
      "text/plain": [
       "<Figure size 1080x720 with 1 Axes>"
      ]
     },
     "metadata": {
      "needs_background": "light"
     },
     "output_type": "display_data"
    }
   ],
   "source": [
    "plt.figure(figsize=(15, 10))\n",
    "plt.scatter(npAbnormalX, npAbnormalprob, s=40)\n",
    "plt.show()"
   ]
  },
  {
   "cell_type": "markdown",
   "metadata": {},
   "source": [
    "## 中频输入"
   ]
  },
  {
   "cell_type": "markdown",
   "metadata": {},
   "source": [
    "### 构造建立模型\n",
    "\n",
    "由于有7个属性，所以"
   ]
  },
  {
   "cell_type": "code",
   "execution_count": 25,
   "metadata": {},
   "outputs": [],
   "source": [
    "class GANinput(object):\n",
    "    def __init__(self):\n",
    "        self.fn_makeGenerator()\n",
    "        self.fn_makeDiscriminator()\n",
    "        \n",
    "    def fn_makeGenerator(self):\n",
    "        self.oSeqGe = tf.keras.Sequential(name=\"Ge\")\n",
    "        self.oSeqGe.add(tf.keras.Input(shape=(7,)))\n",
    "        self.oSeqGe.add(tf.keras.layers.Dense(6, kernel_initializer=\"he_normal\"))\n",
    "        self.oSeqGe.add(tf.keras.layers.LeakyReLU())\n",
    "        self.oSeqGe.add(tf.keras.layers.BatchNormalization())\n",
    "        self.oSeqGe.add(tf.keras.layers.Dense(6, kernel_initializer=\"he_normal\"))\n",
    "        self.oSeqGe.add(tf.keras.layers.LeakyReLU())\n",
    "\n",
    "        self.oSeqGd = tf.keras.Sequential(name=\"Gd\")\n",
    "        self.oSeqGd.add(tf.keras.Input(shape=(6,)))\n",
    "        self.oSeqGd.add(tf.keras.layers.Dense(6, kernel_initializer=\"he_normal\"))\n",
    "        self.oSeqGd.add(tf.keras.layers.LeakyReLU())\n",
    "        self.oSeqGd.add(tf.keras.layers.BatchNormalization())\n",
    "        self.oSeqGd.add(tf.keras.layers.Dense(7, activation = tf.keras.activations.tanh, kernel_initializer=\"he_normal\"))\n",
    "        \n",
    "        self.oSeqGe1 = tf.keras.Sequential(name=\"Ge1\")\n",
    "        self.oSeqGe1.add(tf.keras.Input(shape=(7,)))\n",
    "        self.oSeqGe1.add(tf.keras.layers.Dense(6, kernel_initializer=\"he_normal\"))\n",
    "        self.oSeqGe1.add(tf.keras.layers.LeakyReLU())\n",
    "        self.oSeqGe1.add(tf.keras.layers.BatchNormalization())\n",
    "        self.oSeqGe1.add(tf.keras.layers.Dense(6, kernel_initializer=\"he_normal\"))\n",
    "        self.oSeqGe1.add(tf.keras.layers.LeakyReLU())\n",
    "        \n",
    "    def fn_makeDiscriminator(self):\n",
    "        self.oSeqDInner = tf.keras.Sequential(name=\"DInner\")\n",
    "        self.oSeqDInner.add(tf.keras.Input(shape=(7,)))\n",
    "        self.oSeqDInner.add(tf.keras.layers.Dense(6, kernel_initializer=\"he_normal\"))\n",
    "        self.oSeqDInner.add(tf.keras.layers.LeakyReLU())\n",
    "        self.oSeqDInner.add(tf.keras.layers.BatchNormalization())\n",
    "        self.oSeqDInner.add(tf.keras.layers.Dense(6, kernel_initializer=\"he_normal\"))\n",
    "        self.oSeqDInner.add(tf.keras.layers.LeakyReLU())\n",
    "        self.oSeqDInner.add(tf.keras.layers.BatchNormalization())\n",
    "\n",
    "        self.oSeqD = tf.keras.Sequential([\n",
    "            self.oSeqDInner,\n",
    "            tf.keras.layers.Dense(1, activation = tf.keras.activations.sigmoid)\n",
    "        ], name=\"D\")"
   ]
  },
  {
   "cell_type": "code",
   "execution_count": 26,
   "metadata": {},
   "outputs": [],
   "source": [
    "# 新建模型\n",
    "tf.keras.backend.clear_session()\n",
    "oGANinput = GANinput()"
   ]
  },
  {
   "cell_type": "markdown",
   "metadata": {},
   "source": [
    "### 构造数据集"
   ]
  },
  {
   "cell_type": "code",
   "execution_count": 27,
   "metadata": {},
   "outputs": [],
   "source": [
    "g_nFeatures = 7\n",
    "g_nBatchSize = 256\n",
    "\n",
    "def fn_splitCsvLine(strLine):\n",
    "    tensorDefs = [0.] * g_nFeatures\n",
    "    tensorRecord = tf.io.decode_csv(strLine, record_defaults=tensorDefs)\n",
    "    tensorX = tf.stack(tensorRecord)\n",
    "    return tensorX\n",
    "\n",
    "oDataset = tf.data.Dataset.list_files(strJobsDir + \"/*/*/parts/sync/input/samples/normal/train/preprocessed/samples.csv\")\n",
    "oDataset = oDataset.interleave(lambda strSamplesFile: tf.data.TextLineDataset(strSamplesFile).skip(1), \\\n",
    "                              cycle_length=5, num_parallel_calls=5)\n",
    "oDataset = oDataset.map(fn_splitCsvLine, g_nFeatures)\n",
    "oDataset = oDataset.shuffle(1000)\n",
    "oDataset = oDataset.batch(g_nBatchSize)"
   ]
  },
  {
   "cell_type": "code",
   "execution_count": 21,
   "metadata": {},
   "outputs": [],
   "source": [
    "# 读入所有的训练样本，从而通过shape属性得到训练集大小，存入全局变量中\n",
    "listPreprocessedNormalTrainingSamples = []\n",
    "for strJob in os.listdir(strJobsDir):\n",
    "    strJobDir = os.path.join(strJobsDir, strJob)\n",
    "    listDemodDirs = fn_getDemodDirsOfAJob(strJobDir)\n",
    "    for strDemodDir in listDemodDirs:\n",
    "        strPreprocessedNormalTrainingSamplesFile = os.path.join(strDemodDir, \\\n",
    "                                                   \"parts/sync/input/samples/normal/train/preprocessed/samples.csv\")\n",
    "        pdDfPreprocessedNormalTrainingSamples = pd.read_csv(strPreprocessedNormalTrainingSamplesFile)\n",
    "        listPreprocessedNormalTrainingSamples.append(pdDfPreprocessedNormalTrainingSamples)\n",
    "pdDfPreprocessedNormalTrainingSamples = pd.concat(listPreprocessedNormalTrainingSamples)\n",
    "g_tensorNormalTrainingSamples = tf.constant(pdDfPreprocessedNormalTrainingSamples.values, dtype=tf.float32)\n",
    "g_nTrainingSize = len(g_tensorNormalTrainingSamples)"
   ]
  },
  {
   "cell_type": "markdown",
   "metadata": {},
   "source": [
    "### 训练"
   ]
  },
  {
   "cell_type": "code",
   "execution_count": 28,
   "metadata": {},
   "outputs": [],
   "source": [
    "# g_nTrainingSize在中频控制已经设置好了\n",
    "g_nEpochs = 250\n",
    "nSteps = g_nEpochs * g_nTrainingSize // g_nBatchSize\n",
    "oExponentialDecay = tf.keras.optimizers.schedules.ExponentialDecay(1e-2, nSteps, 1e-1)\n",
    "oOptimizerG = tf.keras.optimizers.Adam(learning_rate=oExponentialDecay)\n",
    "oOptimizerD = tf.keras.optimizers.SGD(learning_rate=oExponentialDecay)"
   ]
  },
  {
   "cell_type": "code",
   "execution_count": 29,
   "metadata": {},
   "outputs": [],
   "source": [
    "# 构造日志\n",
    "strPrefix = datetime.datetime.now().strftime(\"%H_%M_%S\")\n",
    "strPrefix = \"{}\".format(strPrefix)\n",
    "oSummaryWriterDLoss = tf.summary.create_file_writer(\"logs/notest/sync/input/\"  + \"(7,6)_D\")\n",
    "oSummaryWriterALoss = tf.summary.create_file_writer(\"logs/notest/sync/input/\" + \"(7,6)_A\")"
   ]
  },
  {
   "cell_type": "code",
   "execution_count": 30,
   "metadata": {},
   "outputs": [
    {
     "name": "stdout",
     "output_type": "stream",
     "text": [
      "2020-03-01 12:52:17.228534\n",
      "249/250"
     ]
    }
   ],
   "source": [
    "oSeqGe, oSeqGd, oSeqGe1 = fn_train(oGANinput)"
   ]
  },
  {
   "cell_type": "markdown",
   "metadata": {},
   "source": [
    "保存模型"
   ]
  },
  {
   "cell_type": "code",
   "execution_count": 32,
   "metadata": {},
   "outputs": [],
   "source": [
    "oSeqGe.save(\"models/notest/sync/input/Ge(7,6).h5\")\n",
    "oSeqGd.save(\"models/notest/sync/input/Gd(7,6).h5\")\n",
    "oSeqGe1.save(\"models/notest/sync/input/Ge1(7,6).h5\")"
   ]
  },
  {
   "cell_type": "markdown",
   "metadata": {},
   "source": [
    "### 评估\n",
    "然后利用训练好的模型算出测试集样本的分数，存档。"
   ]
  },
  {
   "cell_type": "markdown",
   "metadata": {},
   "source": [
    "从文件夹中载入训练好的模型。\n",
    "\n",
    "遍历每个解调器的测试集，将相应的分数存入preprocessed/scores.csv中"
   ]
  },
  {
   "cell_type": "code",
   "execution_count": 146,
   "metadata": {},
   "outputs": [
    {
     "name": "stdout",
     "output_type": "stream",
     "text": [
      "WARNING:tensorflow:No training configuration found in save file: the model was *not* compiled. Compile it manually.\n",
      "WARNING:tensorflow:No training configuration found in save file: the model was *not* compiled. Compile it manually.\n",
      "WARNING:tensorflow:No training configuration found in save file: the model was *not* compiled. Compile it manually.\n"
     ]
    }
   ],
   "source": [
    "oSeqGe = tf.keras.models.load_model(\"models/notest/sync/input/Ge(7,6).h5\")\n",
    "oSeqGd = tf.keras.models.load_model(\"models/notest/sync/input/Gd(7,6).h5\")\n",
    "oSeqGe1 = tf.keras.models.load_model(\"models/notest/sync/input/Ge1(7,6).h5\")"
   ]
  },
  {
   "cell_type": "markdown",
   "metadata": {},
   "source": [
    "计算测试样本分数并存档\n",
    "执行后：\n",
    "* samples/\n",
    "    * normal/\n",
    "        * test/\n",
    "            * preprocessed/\n",
    "                * samples.csv\n",
    "                * scores.csv\n",
    "    * abnormal/\n",
    "        * preprocessed/\n",
    "            * samples.csv\n",
    "            * scores.csv"
   ]
  },
  {
   "cell_type": "code",
   "execution_count": 147,
   "metadata": {},
   "outputs": [],
   "source": [
    "# 算出正常训练集和异常测试集的分数\n",
    "# train samples\n",
    "for strJob in os.listdir(strJobsDir):\n",
    "    listDemodDirs = fn_getDemodDirsOfAJob(os.path.join(strJobsDir, strJob))\n",
    "    for strDemodDir in listDemodDirs:\n",
    "        strSamplesDir = os.path.join(strDemodDir, \"parts/sync/input/samples/normal/train\")\n",
    "        pdDfPreprocessedSamples = pd.read_csv(\\\n",
    "              os.path.join(strSamplesDir, \"preprocessed/samples.csv\"))\n",
    "        pdDfSamples = pd.read_csv(os.path.join(strSamplesDir, \"samples.csv\"), index_col=\"RECTIME\")\n",
    "        # 分数csv包含scores列\n",
    "        pdDfScores = fn_score(pdDfPreprocessedSamples)\n",
    "        pdDfScores.index = pdDfSamples.index\n",
    "\n",
    "        pdDfScores.to_csv(os.path.join(strSamplesDir, \"preprocessed/scores.csv\"), index_label=\"RECTIME\")\n",
    "        \n",
    "# Abnormal samples\n",
    "for strJob in os.listdir(strJobsDir):\n",
    "    listDemodDirs = fn_getDemodDirsOfAJob(os.path.join(strJobsDir, strJob))\n",
    "    for strDemodDir in listDemodDirs:\n",
    "        strSamplesDir = os.path.join(strDemodDir, \"parts/sync/input/samples/abnormal\")\n",
    "        pdDfPreprocessedSamples = pd.read_csv(os.path.join(strSamplesDir, \"preprocessed/samples.csv\"), index_col=\"RECTIME\")\n",
    "        pdDfScores = fn_score(pdDfPreprocessedSamples)\n",
    "\n",
    "        pdDfScores.to_csv(os.path.join(strSamplesDir, \"preprocessed/scores.csv\"), index_label=\"RECTIME\")"
   ]
  },
  {
   "cell_type": "code",
   "execution_count": 148,
   "metadata": {},
   "outputs": [],
   "source": [
    "# 读入正常测试样本和异常测试样本的分数，分别存入numpy数组\n",
    "listScores = []\n",
    "listX = []\n",
    "for strJob in os.listdir(strJobsDir):\n",
    "    strJobDir = os.path.join(strJobsDir, strJob)\n",
    "    listDemodDirs = fn_getDemodDirsOfAJob(strJobDir)\n",
    "    for strDemodDir in listDemodDirs:\n",
    "        strNormalTestingScoresFile = os.path.join(strDemodDir, \\\n",
    "                                                  \"parts/sync/input/samples/normal/train/preprocessed/scores.csv\")\n",
    "        pdDfNormalTestingScores = pd.read_csv(strNormalTestingScoresFile, index_col=\"RECTIME\")\n",
    "        \n",
    "        if not pdDfNormalTestingScores.empty:\n",
    "            listScores.append(pdDfNormalTestingScores[\"score\"].values)\n",
    "            \n",
    "            # 分数的横坐标——用crc编码“解调器名+上报时间”\n",
    "            strDemod = os.path.split(strDemodDir)[1]\n",
    "            listX.append([crc32(str.encode(strDemod + strIndex)) for strIndex in pdDfNormalTestingScores.index])\n",
    "            \n",
    "npNormalScores = np.concatenate(listScores)\n",
    "npNormalX = np.concatenate(listX)"
   ]
  },
  {
   "cell_type": "code",
   "execution_count": 149,
   "metadata": {},
   "outputs": [],
   "source": [
    "listScores = []\n",
    "listX = []\n",
    "for strJob in os.listdir(strJobsDir):\n",
    "    strJobDir = os.path.join(strJobsDir, strJob)\n",
    "    listDemodDirs = fn_getDemodDirsOfAJob(strJobDir)\n",
    "    for strDemodDir in listDemodDirs:\n",
    "        strAbnormalTestingScoresFile = os.path.join(strDemodDir, \\\n",
    "                                                  \"parts/sync/input/samples/abnormal/preprocessed/scores.csv\")\n",
    "        pdDfAbnormalTestingScores = pd.read_csv(strAbnormalTestingScoresFile, index_col=\"RECTIME\")\n",
    "        if not pdDfAbnormalTestingScores.empty:\n",
    "            listScores.append(pdDfAbnormalTestingScores[\"score\"].values)\n",
    "            \n",
    "             # 分数的横坐标——用crc编码“解调器名+上报时间”\n",
    "            strDemod = os.path.split(strDemodDir)[1]\n",
    "            listX.append([crc32(str.encode(strDemod + strIndex)) for strIndex in pdDfAbnormalTestingScores.index])\n",
    "            \n",
    "npAbnormalScores = np.concatenate(listScores)\n",
    "npAbnormalX = np.concatenate(listX)"
   ]
  },
  {
   "cell_type": "code",
   "execution_count": 150,
   "metadata": {},
   "outputs": [],
   "source": [
    "\"\"\"\n",
    "通过正常训练样本的分数计算相应的正太分布，利用正态分布计算异常样本该部分正确的概率\n",
    "\"\"\"\n",
    "fMeaninput = np.mean(npNormalScores)\n",
    "fSigmainput = np.var(npNormalScores)\n",
    "npAbnormalprob = np.apply_along_axis(lambda x: 1 if x <= fMeaninput else ss.norm.sf(x, fMeaninput, fSigmainput), 1, \\\n",
    "     npAbnormalScores[:, np.newaxis])"
   ]
  },
  {
   "cell_type": "code",
   "execution_count": 151,
   "metadata": {},
   "outputs": [
    {
     "data": {
      "image/png": "[encoded data removed]",
      "text/plain": [
       "<Figure size 1080x720 with 1 Axes>"
      ]
     },
     "metadata": {
      "needs_background": "light"
     },
     "output_type": "display_data"
    }
   ],
   "source": [
    "plt.figure(figsize=(15, 10))\n",
    "plt.scatter(npAbnormalX, npAbnormalprob, s=40)\n",
    "plt.show()"
   ]
  },
  {
   "cell_type": "markdown",
   "metadata": {},
   "source": [
    "## 载波同步"
   ]
  },
  {
   "cell_type": "markdown",
   "metadata": {},
   "source": [
    "### 构造建立模型\n",
    "\n",
    "9个属性"
   ]
  },
  {
   "cell_type": "code",
   "execution_count": 89,
   "metadata": {},
   "outputs": [],
   "source": [
    "class GANcarrier(object):\n",
    "    def __init__(self):\n",
    "        self.fn_makeGenerator()\n",
    "        self.fn_makeDiscriminator()\n",
    "        \n",
    "    def fn_makeGenerator(self):\n",
    "        self.oSeqGe = tf.keras.Sequential(name=\"Ge\")\n",
    "        self.oSeqGe.add(tf.keras.Input(shape=(9,)))\n",
    "        self.oSeqGe.add(tf.keras.layers.Dense(7, kernel_initializer=\"he_normal\"))\n",
    "        self.oSeqGe.add(tf.keras.layers.LeakyReLU())\n",
    "        self.oSeqGe.add(tf.keras.layers.BatchNormalization())\n",
    "        self.oSeqGe.add(tf.keras.layers.Dense(7, kernel_initializer=\"he_normal\"))\n",
    "        self.oSeqGe.add(tf.keras.layers.LeakyReLU())\n",
    "\n",
    "        self.oSeqGd = tf.keras.Sequential(name=\"Gd\")\n",
    "        self.oSeqGd.add(tf.keras.Input(shape=(7,)))\n",
    "        self.oSeqGd.add(tf.keras.layers.Dense(7, kernel_initializer=\"he_normal\"))\n",
    "        self.oSeqGd.add(tf.keras.layers.LeakyReLU())\n",
    "        self.oSeqGd.add(tf.keras.layers.BatchNormalization())\n",
    "        self.oSeqGd.add(tf.keras.layers.Dense(9, activation = tf.keras.activations.tanh, kernel_initializer=\"he_normal\"))\n",
    "        \n",
    "        self.oSeqGe1 = tf.keras.Sequential(name=\"Ge1\")\n",
    "        self.oSeqGe1.add(tf.keras.Input(shape=(9,)))\n",
    "        self.oSeqGe1.add(tf.keras.layers.Dense(7, kernel_initializer=\"he_normal\"))\n",
    "        self.oSeqGe1.add(tf.keras.layers.LeakyReLU())\n",
    "        self.oSeqGe1.add(tf.keras.layers.BatchNormalization())\n",
    "        self.oSeqGe1.add(tf.keras.layers.Dense(7, kernel_initializer=\"he_normal\"))\n",
    "        self.oSeqGe1.add(tf.keras.layers.LeakyReLU())\n",
    "        \n",
    "    def fn_makeDiscriminator(self):\n",
    "        self.oSeqDInner = tf.keras.Sequential(name=\"DInner\")\n",
    "        self.oSeqDInner.add(tf.keras.Input(shape=(9,)))\n",
    "        self.oSeqDInner.add(tf.keras.layers.Dense(7, kernel_initializer=\"he_normal\"))\n",
    "        self.oSeqDInner.add(tf.keras.layers.LeakyReLU())\n",
    "        self.oSeqDInner.add(tf.keras.layers.BatchNormalization())\n",
    "        self.oSeqDInner.add(tf.keras.layers.Dense(7, kernel_initializer=\"he_normal\"))\n",
    "        self.oSeqDInner.add(tf.keras.layers.LeakyReLU())\n",
    "        self.oSeqDInner.add(tf.keras.layers.BatchNormalization())\n",
    "\n",
    "        self.oSeqD = tf.keras.Sequential([\n",
    "            self.oSeqDInner,\n",
    "            tf.keras.layers.Dense(1, activation = tf.keras.activations.sigmoid)\n",
    "        ], name=\"D\")"
   ]
  },
  {
   "cell_type": "code",
   "execution_count": 96,
   "metadata": {},
   "outputs": [],
   "source": [
    "# 新建模型\n",
    "tf.keras.backend.clear_session()\n",
    "oGANcarrier = GANcarrier()"
   ]
  },
  {
   "cell_type": "markdown",
   "metadata": {},
   "source": [
    "### 构造数据集"
   ]
  },
  {
   "cell_type": "code",
   "execution_count": 97,
   "metadata": {},
   "outputs": [],
   "source": [
    "g_nFeatures = 9\n",
    "g_nBatchSize = 256\n",
    "\n",
    "def fn_splitCsvLine(strLine):\n",
    "    tensorDefs = [0.] * g_nFeatures\n",
    "    tensorRecord = tf.io.decode_csv(strLine, record_defaults=tensorDefs)\n",
    "    tensorX = tf.stack(tensorRecord)\n",
    "    return tensorX\n",
    "\n",
    "\n",
    "oDataset = tf.data.Dataset.list_files(strJobsDir + \"/*/*/parts/sync/carrier/samples/normal/train/preprocessed/samples.csv\")\n",
    "oDataset = oDataset.interleave(lambda strSamplesFile: tf.data.TextLineDataset(strSamplesFile).skip(1), \\\n",
    "                              cycle_length=5, num_parallel_calls=5)\n",
    "oDataset = oDataset.map(fn_splitCsvLine, g_nFeatures)\n",
    "oDataset = oDataset.shuffle(1000)\n",
    "oDataset = oDataset.batch(g_nBatchSize)"
   ]
  },
  {
   "cell_type": "code",
   "execution_count": 92,
   "metadata": {},
   "outputs": [],
   "source": [
    "# 读入所有的训练样本，从而通过shape属性得到训练集大小，存入全局变量中\n",
    "listPreprocessedNormalTrainingSamples = []\n",
    "for strJob in os.listdir(strJobsDir):\n",
    "    strJobDir = os.path.join(strJobsDir, strJob)\n",
    "    listDemodDirs = fn_getDemodDirsOfAJob(strJobDir)\n",
    "    for strDemodDir in listDemodDirs:\n",
    "        strPreprocessedNormalTrainingSamplesFile = os.path.join(strDemodDir, \\\n",
    "                                                   \"parts/sync/carrier/samples/normal/train/preprocessed/samples.csv\")\n",
    "        pdDfPreprocessedNormalTrainingSamples = pd.read_csv(strPreprocessedNormalTrainingSamplesFile)\n",
    "        listPreprocessedNormalTrainingSamples.append(pdDfPreprocessedNormalTrainingSamples)\n",
    "pdDfPreprocessedNormalTrainingSamples = pd.concat(listPreprocessedNormalTrainingSamples)\n",
    "g_tensorNormalTrainingSamples = tf.constant(pdDfPreprocessedNormalTrainingSamples.values, dtype=tf.float32)\n",
    "g_nTrainingSize = len(g_tensorNormalTrainingSamples)"
   ]
  },
  {
   "cell_type": "markdown",
   "metadata": {},
   "source": [
    "### 训练"
   ]
  },
  {
   "cell_type": "code",
   "execution_count": 98,
   "metadata": {},
   "outputs": [],
   "source": [
    "# g_nTrainingSize在中频控制已经设置好了\n",
    "g_nEpochs = 250\n",
    "nSteps = g_nEpochs * g_nTrainingSize // g_nBatchSize\n",
    "oExponentialDecay = tf.keras.optimizers.schedules.ExponentialDecay(1e-2, nSteps, 1e-1)\n",
    "oOptimizerG = tf.keras.optimizers.Adam(learning_rate=oExponentialDecay)\n",
    "oOptimizerD = tf.keras.optimizers.SGD(learning_rate=oExponentialDecay)"
   ]
  },
  {
   "cell_type": "code",
   "execution_count": 99,
   "metadata": {},
   "outputs": [],
   "source": [
    "# 构造日志\n",
    "strPrefix = datetime.datetime.now().strftime(\"%H_%M_%S\")\n",
    "strPrefix = \"{}\".format(strPrefix)\n",
    "oSummaryWriterDLoss = tf.summary.create_file_writer(\"logs/notest/sync/carrier/\" + \"(9,7)_D\")\n",
    "oSummaryWriterALoss = tf.summary.create_file_writer(\"logs/notest/sync/carrier/\" + \"(9,7)_A\")"
   ]
  },
  {
   "cell_type": "code",
   "execution_count": 100,
   "metadata": {},
   "outputs": [
    {
     "name": "stdout",
     "output_type": "stream",
     "text": [
      "2020-03-01 16:53:05.645670\n",
      "249/250"
     ]
    }
   ],
   "source": [
    "oSeqGe, oSeqGd, oSeqGe1 = fn_train(oGANcarrier)"
   ]
  },
  {
   "cell_type": "code",
   "execution_count": 102,
   "metadata": {},
   "outputs": [],
   "source": [
    "oSeqGe.save(\"models/notest/sync/carrier/Ge(9,7).h5\")\n",
    "oSeqGd.save(\"models/notest/sync/carrier/Gd(9,7).h5\")\n",
    "oSeqGe1.save(\"models/notest/sync/carrier/Ge1(9,7).h5\")"
   ]
  },
  {
   "cell_type": "markdown",
   "metadata": {},
   "source": [
    "### 评估"
   ]
  },
  {
   "cell_type": "code",
   "execution_count": 152,
   "metadata": {},
   "outputs": [
    {
     "name": "stdout",
     "output_type": "stream",
     "text": [
      "WARNING:tensorflow:No training configuration found in save file: the model was *not* compiled. Compile it manually.\n",
      "WARNING:tensorflow:No training configuration found in save file: the model was *not* compiled. Compile it manually.\n",
      "WARNING:tensorflow:No training configuration found in save file: the model was *not* compiled. Compile it manually.\n"
     ]
    }
   ],
   "source": [
    "oSeqGe = tf.keras.models.load_model(\"models/notest/sync/carrier/Ge(9,7).h5\")\n",
    "oSeqGd = tf.keras.models.load_model(\"models/notest/sync/carrier/Gd(9,7).h5\")\n",
    "oSeqGe1 = tf.keras.models.load_model(\"models/notest/sync/carrier/Ge1(9,7).h5\")"
   ]
  },
  {
   "cell_type": "code",
   "execution_count": 153,
   "metadata": {},
   "outputs": [],
   "source": [
    "# 算出正常训练集和异常测试集的分数\n",
    "# train samples\n",
    "for strJob in os.listdir(strJobsDir):\n",
    "    listDemodDirs = fn_getDemodDirsOfAJob(os.path.join(strJobsDir, strJob))\n",
    "    for strDemodDir in listDemodDirs:\n",
    "        strSamplesDir = os.path.join(strDemodDir, \"parts/sync/carrier/samples/normal/train\")\n",
    "        pdDfPreprocessedSamples = pd.read_csv(\\\n",
    "              os.path.join(strSamplesDir, \"preprocessed/samples.csv\"))\n",
    "        pdDfSamples = pd.read_csv(os.path.join(strSamplesDir, \"samples.csv\"), index_col=\"RECTIME\")\n",
    "        # 分数csv包含scores列\n",
    "        pdDfScores = fn_score(pdDfPreprocessedSamples)\n",
    "        pdDfScores.index = pdDfSamples.index\n",
    "\n",
    "        pdDfScores.to_csv(os.path.join(strSamplesDir, \"preprocessed/scores.csv\"), index_label=\"RECTIME\")\n",
    "        \n",
    "# Abnormal samples\n",
    "for strJob in os.listdir(strJobsDir):\n",
    "    listDemodDirs = fn_getDemodDirsOfAJob(os.path.join(strJobsDir, strJob))\n",
    "    for strDemodDir in listDemodDirs:\n",
    "        strSamplesDir = os.path.join(strDemodDir, \"parts/sync/carrier/samples/abnormal\")\n",
    "        pdDfPreprocessedSamples = pd.read_csv(os.path.join(strSamplesDir, \"preprocessed/samples.csv\"), index_col=\"RECTIME\")\n",
    "        pdDfScores = fn_score(pdDfPreprocessedSamples)\n",
    "\n",
    "        pdDfScores.to_csv(os.path.join(strSamplesDir, \"preprocessed/scores.csv\"), index_label=\"RECTIME\")"
   ]
  },
  {
   "cell_type": "code",
   "execution_count": 154,
   "metadata": {},
   "outputs": [],
   "source": [
    "# 读入正常测试样本和异常测试样本的分数，分别存入numpy数组\n",
    "listScores = []\n",
    "listX = []\n",
    "for strJob in os.listdir(strJobsDir):\n",
    "    strJobDir = os.path.join(strJobsDir, strJob)\n",
    "    listDemodDirs = fn_getDemodDirsOfAJob(strJobDir)\n",
    "    for strDemodDir in listDemodDirs:\n",
    "        strNormalTestingScoresFile = os.path.join(strDemodDir, \\\n",
    "                                                  \"parts/sync/carrier/samples/normal/train/preprocessed/scores.csv\")\n",
    "        pdDfNormalTestingScores = pd.read_csv(strNormalTestingScoresFile, index_col=\"RECTIME\")\n",
    "        \n",
    "        if not pdDfNormalTestingScores.empty:\n",
    "            listScores.append(pdDfNormalTestingScores[\"score\"].values)\n",
    "            \n",
    "            # 分数的横坐标——用crc编码“解调器名+上报时间”\n",
    "            strDemod = os.path.split(strDemodDir)[1]\n",
    "            listX.append([crc32(str.encode(strDemod + strIndex)) for strIndex in pdDfNormalTestingScores.index])\n",
    "            \n",
    "npNormalScores = np.concatenate(listScores)\n",
    "npNormalX = np.concatenate(listX)"
   ]
  },
  {
   "cell_type": "code",
   "execution_count": 155,
   "metadata": {},
   "outputs": [],
   "source": [
    "listScores = []\n",
    "listX = []\n",
    "for strJob in os.listdir(strJobsDir):\n",
    "    strJobDir = os.path.join(strJobsDir, strJob)\n",
    "    listDemodDirs = fn_getDemodDirsOfAJob(strJobDir)\n",
    "    for strDemodDir in listDemodDirs:\n",
    "        strAbnormalTestingScoresFile = os.path.join(strDemodDir, \\\n",
    "                                                  \"parts/sync/carrier/samples/abnormal/preprocessed/scores.csv\")\n",
    "        pdDfAbnormalTestingScores = pd.read_csv(strAbnormalTestingScoresFile, index_col=\"RECTIME\")\n",
    "        if not pdDfAbnormalTestingScores.empty:\n",
    "            listScores.append(pdDfAbnormalTestingScores[\"score\"].values)\n",
    "            \n",
    "             # 分数的横坐标——用crc编码“解调器名+上报时间”\n",
    "            strDemod = os.path.split(strDemodDir)[1]\n",
    "            listX.append([crc32(str.encode(strDemod + strIndex)) for strIndex in pdDfAbnormalTestingScores.index])\n",
    "            \n",
    "npAbnormalScores = np.concatenate(listScores)\n",
    "npAbnormalX = np.concatenate(listX)"
   ]
  },
  {
   "cell_type": "code",
   "execution_count": 156,
   "metadata": {},
   "outputs": [],
   "source": [
    "\"\"\"\n",
    "通过正常训练样本的分数计算相应的正太分布，利用正态分布计算异常样本该部分正确的概率\n",
    "\"\"\"\n",
    "fMeancarrier = np.mean(npNormalScores)\n",
    "fSigmacarrier = np.var(npNormalScores)\n",
    "npAbnormalprob = np.apply_along_axis(lambda x: 1 if x <= fMeancarrier else ss.norm.sf(x, fMeancarrier, fSigmacarrier), 1, \\\n",
    "     npAbnormalScores[:, np.newaxis])"
   ]
  },
  {
   "cell_type": "code",
   "execution_count": 157,
   "metadata": {},
   "outputs": [
    {
     "data": {
      "image/png": "[encoded data removed]",
      "text/plain": [
       "<Figure size 1080x720 with 1 Axes>"
      ]
     },
     "metadata": {
      "needs_background": "light"
     },
     "output_type": "display_data"
    }
   ],
   "source": [
    "plt.figure(figsize=(15, 10))\n",
    "plt.scatter(npAbnormalX, npAbnormalprob, s=40)\n",
    "plt.show()"
   ]
  },
  {
   "cell_type": "markdown",
   "metadata": {},
   "source": [
    "## 比特同步"
   ]
  },
  {
   "cell_type": "markdown",
   "metadata": {},
   "source": [
    "### 构造建立模型\n",
    "14个属性"
   ]
  },
  {
   "cell_type": "code",
   "execution_count": 116,
   "metadata": {},
   "outputs": [],
   "source": [
    "class GANbit(object):\n",
    "    def __init__(self):\n",
    "        self.fn_makeGenerator()\n",
    "        self.fn_makeDiscriminator()\n",
    "        \n",
    "    def fn_makeGenerator(self):\n",
    "        self.oSeqGe = tf.keras.Sequential(name=\"Ge\")\n",
    "        self.oSeqGe.add(tf.keras.Input(shape=(14,)))\n",
    "        self.oSeqGe.add(tf.keras.layers.Dense(10, kernel_initializer=\"he_normal\"))\n",
    "        self.oSeqGe.add(tf.keras.layers.LeakyReLU())\n",
    "        self.oSeqGe.add(tf.keras.layers.BatchNormalization())\n",
    "        self.oSeqGe.add(tf.keras.layers.Dense(10, kernel_initializer=\"he_normal\"))\n",
    "        self.oSeqGe.add(tf.keras.layers.LeakyReLU())\n",
    "\n",
    "        self.oSeqGd = tf.keras.Sequential(name=\"Gd\")\n",
    "        self.oSeqGd.add(tf.keras.Input(shape=(10,)))\n",
    "        self.oSeqGd.add(tf.keras.layers.Dense(10, kernel_initializer=\"he_normal\"))\n",
    "        self.oSeqGd.add(tf.keras.layers.LeakyReLU())\n",
    "        self.oSeqGd.add(tf.keras.layers.BatchNormalization())\n",
    "        self.oSeqGd.add(tf.keras.layers.Dense(14, activation = tf.keras.activations.tanh, kernel_initializer=\"he_normal\"))\n",
    "        \n",
    "        self.oSeqGe1 = tf.keras.Sequential(name=\"Ge1\")\n",
    "        self.oSeqGe1.add(tf.keras.Input(shape=(14,)))\n",
    "        self.oSeqGe1.add(tf.keras.layers.Dense(10, kernel_initializer=\"he_normal\"))\n",
    "        self.oSeqGe1.add(tf.keras.layers.LeakyReLU())\n",
    "        self.oSeqGe1.add(tf.keras.layers.BatchNormalization())\n",
    "        self.oSeqGe1.add(tf.keras.layers.Dense(10, kernel_initializer=\"he_normal\"))\n",
    "        self.oSeqGe1.add(tf.keras.layers.LeakyReLU())\n",
    "        \n",
    "    def fn_makeDiscriminator(self):\n",
    "        self.oSeqDInner = tf.keras.Sequential(name=\"DInner\")\n",
    "        self.oSeqDInner.add(tf.keras.Input(shape=(14,)))\n",
    "        self.oSeqDInner.add(tf.keras.layers.Dense(10, kernel_initializer=\"he_normal\"))\n",
    "        self.oSeqDInner.add(tf.keras.layers.LeakyReLU())\n",
    "        self.oSeqDInner.add(tf.keras.layers.BatchNormalization())\n",
    "        self.oSeqDInner.add(tf.keras.layers.Dense(10, kernel_initializer=\"he_normal\"))\n",
    "        self.oSeqDInner.add(tf.keras.layers.LeakyReLU())\n",
    "        self.oSeqDInner.add(tf.keras.layers.BatchNormalization())\n",
    "\n",
    "        self.oSeqD = tf.keras.Sequential([\n",
    "            self.oSeqDInner,\n",
    "            tf.keras.layers.Dense(1, activation = tf.keras.activations.sigmoid)\n",
    "        ], name=\"D\")"
   ]
  },
  {
   "cell_type": "code",
   "execution_count": 127,
   "metadata": {},
   "outputs": [],
   "source": [
    "# 新建模型\n",
    "tf.keras.backend.clear_session()\n",
    "oGANbit = GANbit()"
   ]
  },
  {
   "cell_type": "markdown",
   "metadata": {},
   "source": [
    "### 构造数据集"
   ]
  },
  {
   "cell_type": "code",
   "execution_count": 128,
   "metadata": {},
   "outputs": [],
   "source": [
    "g_nFeatures = 14\n",
    "g_nBatchSize = 256\n",
    "\n",
    "def fn_splitCsvLine(strLine):\n",
    "    tensorDefs = [0.] * g_nFeatures\n",
    "    tensorRecord = tf.io.decode_csv(strLine, record_defaults=tensorDefs)\n",
    "    tensorX = tf.stack(tensorRecord)\n",
    "    return tensorX\n",
    "\n",
    "oDataset = tf.data.Dataset.list_files(strJobsDir + \"/*/*/parts/sync/bit/samples/normal/train/preprocessed/samples.csv\")\n",
    "oDataset = oDataset.interleave(lambda strSamplesFile: tf.data.TextLineDataset(strSamplesFile).skip(1), \\\n",
    "                              cycle_length=5, num_parallel_calls=5)\n",
    "oDataset = oDataset.map(fn_splitCsvLine, g_nFeatures)\n",
    "oDataset = oDataset.shuffle(1000)\n",
    "oDataset = oDataset.batch(g_nBatchSize)"
   ]
  },
  {
   "cell_type": "code",
   "execution_count": 119,
   "metadata": {},
   "outputs": [],
   "source": [
    "# 读入所有的训练样本，从而通过shape属性得到训练集大小，存入全局变量中\n",
    "listPreprocessedNormalTrainingSamples = []\n",
    "for strJob in os.listdir(strJobsDir):\n",
    "    strJobDir = os.path.join(strJobsDir, strJob)\n",
    "    listDemodDirs = fn_getDemodDirsOfAJob(strJobDir)\n",
    "    for strDemodDir in listDemodDirs:\n",
    "        strPreprocessedNormalTrainingSamplesFile = os.path.join(strDemodDir, \\\n",
    "                                                   \"parts/sync/bit/samples/normal/train/preprocessed/samples.csv\")\n",
    "        pdDfPreprocessedNormalTrainingSamples = pd.read_csv(strPreprocessedNormalTrainingSamplesFile)\n",
    "        listPreprocessedNormalTrainingSamples.append(pdDfPreprocessedNormalTrainingSamples)\n",
    "pdDfPreprocessedNormalTrainingSamples = pd.concat(listPreprocessedNormalTrainingSamples)\n",
    "g_tensorNormalTrainingSamples = tf.constant(pdDfPreprocessedNormalTrainingSamples.values, dtype=tf.float32)\n",
    "g_nTrainingSize = len(g_tensorNormalTrainingSamples)"
   ]
  },
  {
   "cell_type": "markdown",
   "metadata": {},
   "source": [
    "### 训练"
   ]
  },
  {
   "cell_type": "code",
   "execution_count": 129,
   "metadata": {},
   "outputs": [],
   "source": [
    "# g_nTrainingSize在中频控制已经设置好了\n",
    "g_nEpochs = 400\n",
    "nSteps = g_nEpochs * g_nTrainingSize // g_nBatchSize\n",
    "oExponentialDecay = tf.keras.optimizers.schedules.ExponentialDecay(1e-2, nSteps, 1e-1)\n",
    "oOptimizerG = tf.keras.optimizers.Adam(learning_rate=oExponentialDecay)\n",
    "oOptimizerD = tf.keras.optimizers.SGD(learning_rate=oExponentialDecay)"
   ]
  },
  {
   "cell_type": "code",
   "execution_count": 130,
   "metadata": {},
   "outputs": [],
   "source": [
    "# 构造日志\n",
    "strPrefix = datetime.datetime.now().strftime(\"%H_%M_%S\")\n",
    "strPrefix = \"{}\".format(\"(14,10)_400Epoch\")\n",
    "oSummaryWriterDLoss = tf.summary.create_file_writer(\"logs/notest/sync/bit/\" + strPrefix + \"_D\")\n",
    "oSummaryWriterALoss = tf.summary.create_file_writer(\"logs/notest/sync/bit/\" + strPrefix + \"_A\")"
   ]
  },
  {
   "cell_type": "code",
   "execution_count": 131,
   "metadata": {},
   "outputs": [
    {
     "name": "stdout",
     "output_type": "stream",
     "text": [
      "2020-03-01 18:09:39.418676\n",
      "399/400"
     ]
    }
   ],
   "source": [
    "oSeqGe, oSeqGd, oSeqGe1 = fn_train(oGANbit)"
   ]
  },
  {
   "cell_type": "code",
   "execution_count": 132,
   "metadata": {},
   "outputs": [],
   "source": [
    "oSeqGe.save(\"models/notest/sync/bit/Ge(14,10).h5\")\n",
    "oSeqGd.save(\"models/notest/sync/bit/Gd(14,10).h5\")\n",
    "oSeqGe1.save(\"models/notest/sync/bit/Ge1(14,10).h5\")"
   ]
  },
  {
   "cell_type": "markdown",
   "metadata": {},
   "source": [
    "### 评估"
   ]
  },
  {
   "cell_type": "code",
   "execution_count": 158,
   "metadata": {},
   "outputs": [
    {
     "name": "stdout",
     "output_type": "stream",
     "text": [
      "WARNING:tensorflow:No training configuration found in save file: the model was *not* compiled. Compile it manually.\n",
      "WARNING:tensorflow:No training configuration found in save file: the model was *not* compiled. Compile it manually.\n",
      "WARNING:tensorflow:No training configuration found in save file: the model was *not* compiled. Compile it manually.\n"
     ]
    }
   ],
   "source": [
    "oSeqGe = tf.keras.models.load_model(\"models/notest/sync/bit/Ge(14,10).h5\")\n",
    "oSeqGd = tf.keras.models.load_model(\"models/notest/sync/bit/Gd(14,10).h5\")\n",
    "oSeqGe1 = tf.keras.models.load_model(\"models/notest/sync/bit/Ge1(14,10).h5\")"
   ]
  },
  {
   "cell_type": "code",
   "execution_count": 159,
   "metadata": {},
   "outputs": [],
   "source": [
    "# 算出正常训练集和异常测试集的分数\n",
    "# train samples\n",
    "for strJob in os.listdir(strJobsDir):\n",
    "    listDemodDirs = fn_getDemodDirsOfAJob(os.path.join(strJobsDir, strJob))\n",
    "    for strDemodDir in listDemodDirs:\n",
    "        strSamplesDir = os.path.join(strDemodDir, \"parts/sync/bit/samples/normal/train\")\n",
    "        pdDfPreprocessedSamples = pd.read_csv(\\\n",
    "              os.path.join(strSamplesDir, \"preprocessed/samples.csv\"))\n",
    "        pdDfSamples = pd.read_csv(os.path.join(strSamplesDir, \"samples.csv\"), index_col=\"RECTIME\")\n",
    "        # 分数csv包含scores列\n",
    "        pdDfScores = fn_score(pdDfPreprocessedSamples)\n",
    "        pdDfScores.index = pdDfSamples.index\n",
    "\n",
    "        pdDfScores.to_csv(os.path.join(strSamplesDir, \"preprocessed/scores.csv\"), index_label=\"RECTIME\")\n",
    "        \n",
    "# Abnormal samples\n",
    "for strJob in os.listdir(strJobsDir):\n",
    "    listDemodDirs = fn_getDemodDirsOfAJob(os.path.join(strJobsDir, strJob))\n",
    "    for strDemodDir in listDemodDirs:\n",
    "        strSamplesDir = os.path.join(strDemodDir, \"parts/sync/bit/samples/abnormal\")\n",
    "        pdDfPreprocessedSamples = pd.read_csv(os.path.join(strSamplesDir, \"preprocessed/samples.csv\"), index_col=\"RECTIME\")\n",
    "        pdDfScores = fn_score(pdDfPreprocessedSamples)\n",
    "\n",
    "        pdDfScores.to_csv(os.path.join(strSamplesDir, \"preprocessed/scores.csv\"), index_label=\"RECTIME\")"
   ]
  },
  {
   "cell_type": "code",
   "execution_count": 160,
   "metadata": {},
   "outputs": [],
   "source": [
    "# 读入正常测试样本和异常测试样本的分数，分别存入numpy数组\n",
    "listScores = []\n",
    "listX = []\n",
    "for strJob in os.listdir(strJobsDir):\n",
    "    strJobDir = os.path.join(strJobsDir, strJob)\n",
    "    listDemodDirs = fn_getDemodDirsOfAJob(strJobDir)\n",
    "    for strDemodDir in listDemodDirs:\n",
    "        strNormalTestingScoresFile = os.path.join(strDemodDir, \\\n",
    "                                                  \"parts/sync/bit/samples/normal/train/preprocessed/scores.csv\")\n",
    "        pdDfNormalTestingScores = pd.read_csv(strNormalTestingScoresFile, index_col=\"RECTIME\")\n",
    "        \n",
    "        if not pdDfNormalTestingScores.empty:\n",
    "            listScores.append(pdDfNormalTestingScores[\"score\"].values)\n",
    "            \n",
    "            # 分数的横坐标——用crc编码“解调器名+上报时间”\n",
    "            strDemod = os.path.split(strDemodDir)[1]\n",
    "            listX.append([crc32(str.encode(strDemod + strIndex)) for strIndex in pdDfNormalTestingScores.index])\n",
    "            \n",
    "npNormalScores = np.concatenate(listScores)\n",
    "npNormalX = np.concatenate(listX)"
   ]
  },
  {
   "cell_type": "code",
   "execution_count": 161,
   "metadata": {},
   "outputs": [],
   "source": [
    "listScores = []\n",
    "listX = []\n",
    "for strJob in os.listdir(strJobsDir):\n",
    "    strJobDir = os.path.join(strJobsDir, strJob)\n",
    "    listDemodDirs = fn_getDemodDirsOfAJob(strJobDir)\n",
    "    for strDemodDir in listDemodDirs:\n",
    "        strAbnormalTestingScoresFile = os.path.join(strDemodDir, \\\n",
    "                                                  \"parts/sync/bit/samples/abnormal/preprocessed/scores.csv\")\n",
    "        pdDfAbnormalTestingScores = pd.read_csv(strAbnormalTestingScoresFile, index_col=\"RECTIME\")\n",
    "        if not pdDfAbnormalTestingScores.empty:\n",
    "            listScores.append(pdDfAbnormalTestingScores[\"score\"].values)\n",
    "            \n",
    "             # 分数的横坐标——用crc编码“解调器名+上报时间”\n",
    "            strDemod = os.path.split(strDemodDir)[1]\n",
    "            listX.append([crc32(str.encode(strDemod + strIndex)) for strIndex in pdDfAbnormalTestingScores.index])\n",
    "            \n",
    "npAbnormalScores = np.concatenate(listScores)\n",
    "npAbnormalX = np.concatenate(listX)"
   ]
  },
  {
   "cell_type": "code",
   "execution_count": 162,
   "metadata": {},
   "outputs": [],
   "source": [
    "\"\"\"\n",
    "通过正常训练样本的分数计算相应的正太分布，利用正态分布计算异常样本该部分正确的概率\n",
    "\"\"\"\n",
    "fMeanbit = np.mean(npNormalScores)\n",
    "fSigmabit = np.var(npNormalScores)\n",
    "npAbnormalprob = np.apply_along_axis(lambda x: 1 if x <= fMeanbit else ss.norm.sf(x, fMeanbit, fSigmabit), 1, \\\n",
    "     npAbnormalScores[:, np.newaxis])"
   ]
  },
  {
   "cell_type": "code",
   "execution_count": 163,
   "metadata": {},
   "outputs": [
    {
     "data": {
      "image/png": "[encoded data removed]",
      "text/plain": [
       "<Figure size 1080x720 with 1 Axes>"
      ]
     },
     "metadata": {
      "needs_background": "light"
     },
     "output_type": "display_data"
    }
   ],
   "source": [
    "plt.figure(figsize=(15, 10))\n",
    "plt.scatter(npAbnormalX, npAbnormalprob, s=40)\n",
    "plt.show()"
   ]
  },
  {
   "cell_type": "markdown",
   "metadata": {},
   "source": [
    "## 维特比译码"
   ]
  },
  {
   "cell_type": "markdown",
   "metadata": {},
   "source": [
    "### 构造建立模型\n",
    "18个属性"
   ]
  },
  {
   "cell_type": "code",
   "execution_count": 140,
   "metadata": {},
   "outputs": [],
   "source": [
    "class GANvi(object):\n",
    "    def __init__(self):\n",
    "        self.fn_makeGenerator()\n",
    "        self.fn_makeDiscriminator()\n",
    "        \n",
    "    def fn_makeGenerator(self):\n",
    "        self.oSeqGe = tf.keras.Sequential(name=\"Ge\")\n",
    "        self.oSeqGe.add(tf.keras.Input(shape=(18,)))\n",
    "        self.oSeqGe.add(tf.keras.layers.Dense(14, kernel_initializer=\"he_normal\"))\n",
    "        self.oSeqGe.add(tf.keras.layers.LeakyReLU())\n",
    "        self.oSeqGe.add(tf.keras.layers.BatchNormalization())\n",
    "        self.oSeqGe.add(tf.keras.layers.Dense(14, kernel_initializer=\"he_normal\"))\n",
    "        self.oSeqGe.add(tf.keras.layers.LeakyReLU())\n",
    "\n",
    "        self.oSeqGd = tf.keras.Sequential(name=\"Gd\")\n",
    "        self.oSeqGd.add(tf.keras.Input(shape=(14,)))\n",
    "        self.oSeqGd.add(tf.keras.layers.Dense(14, kernel_initializer=\"he_normal\"))\n",
    "        self.oSeqGd.add(tf.keras.layers.LeakyReLU())\n",
    "        self.oSeqGd.add(tf.keras.layers.BatchNormalization())\n",
    "        self.oSeqGd.add(tf.keras.layers.Dense(18, activation = tf.keras.activations.tanh, kernel_initializer=\"he_normal\"))\n",
    "        \n",
    "        self.oSeqGe1 = tf.keras.Sequential(name=\"Ge1\")\n",
    "        self.oSeqGe1.add(tf.keras.Input(shape=(18,)))\n",
    "        self.oSeqGe1.add(tf.keras.layers.Dense(14, kernel_initializer=\"he_normal\"))\n",
    "        self.oSeqGe1.add(tf.keras.layers.LeakyReLU())\n",
    "        self.oSeqGe1.add(tf.keras.layers.BatchNormalization())\n",
    "        self.oSeqGe1.add(tf.keras.layers.Dense(14, kernel_initializer=\"he_normal\"))\n",
    "        self.oSeqGe1.add(tf.keras.layers.LeakyReLU())\n",
    "        \n",
    "    def fn_makeDiscriminator(self):\n",
    "        self.oSeqDInner = tf.keras.Sequential(name=\"DInner\")\n",
    "        self.oSeqDInner.add(tf.keras.Input(shape=(18,)))\n",
    "        self.oSeqDInner.add(tf.keras.layers.Dense(14, kernel_initializer=\"he_normal\"))\n",
    "        self.oSeqDInner.add(tf.keras.layers.LeakyReLU())\n",
    "        self.oSeqDInner.add(tf.keras.layers.BatchNormalization())\n",
    "        self.oSeqDInner.add(tf.keras.layers.Dense(14, kernel_initializer=\"he_normal\"))\n",
    "        self.oSeqDInner.add(tf.keras.layers.LeakyReLU())\n",
    "        self.oSeqDInner.add(tf.keras.layers.BatchNormalization())\n",
    "\n",
    "        self.oSeqD = tf.keras.Sequential([\n",
    "            self.oSeqDInner,\n",
    "            tf.keras.layers.Dense(1, activation = tf.keras.activations.sigmoid)\n",
    "        ], name=\"D\")"
   ]
  },
  {
   "cell_type": "code",
   "execution_count": 141,
   "metadata": {},
   "outputs": [],
   "source": [
    "# 新建模型\n",
    "tf.keras.backend.clear_session()\n",
    "oGANvi = GANvi()"
   ]
  },
  {
   "cell_type": "markdown",
   "metadata": {},
   "source": [
    "### 构造数据集"
   ]
  },
  {
   "cell_type": "code",
   "execution_count": 142,
   "metadata": {},
   "outputs": [],
   "source": [
    "g_nFeatures = 18\n",
    "g_nBatchSize = 256\n",
    "\n",
    "def fn_splitCsvLine(strLine):\n",
    "    tensorDefs = [0.] * g_nFeatures\n",
    "    tensorRecord = tf.io.decode_csv(strLine, record_defaults=tensorDefs)\n",
    "    tensorX = tf.stack(tensorRecord)\n",
    "    return tensorX\n",
    "\n",
    "oDataset = tf.data.Dataset.list_files(strJobsDir + \"/*/*/parts/sync/vi/*/samples/normal/train/preprocessed/samples.csv\")\n",
    "oDataset = oDataset.interleave(lambda strSamplesFile: tf.data.TextLineDataset(strSamplesFile).skip(1), \\\n",
    "                              cycle_length=5, num_parallel_calls=5)\n",
    "oDataset = oDataset.map(fn_splitCsvLine, g_nFeatures)\n",
    "oDataset = oDataset.shuffle(1000)\n",
    "oDataset = oDataset.batch(g_nBatchSize)"
   ]
  },
  {
   "cell_type": "code",
   "execution_count": 143,
   "metadata": {},
   "outputs": [],
   "source": [
    "# 读入所有的训练样本，从而通过shape属性得到训练集大小，存入全局变量中\n",
    "# 由于对于分路情况，有I和Q两路样本，所以两路都要读\n",
    "listPreprocessedNormalTrainingSamples = []\n",
    "for strJob in os.listdir(strJobsDir):\n",
    "    strJobDir = os.path.join(strJobsDir, strJob)\n",
    "    listDemodDirs = fn_getDemodDirsOfAJob(strJobDir)\n",
    "    for strDemodDir in listDemodDirs:\n",
    "        # 读入控制文件，方便判断合路、分路 \n",
    "        pdDfControl = pd.read_csv(os.path.join(strDemodDir, \"control.csv\"), index_col=\"RECTIME\")\n",
    "        # 设置部分的文件夹\n",
    "        strSectionDir = os.path.join(strDemodDir, \"parts/sync/vi\")\n",
    "        \n",
    "        # 用dataframe的numpy值存入链表，再收尾连接。因为I和Q的属性名称的后缀不同，直接连接会出现Nan\n",
    "        if pdDfControl[\"DEMOD_FRAMESYNCINPUT\"][0] == 1:\n",
    "            # 合路\n",
    "            listPreprocessedNormalTrainingSamples.append(\\\n",
    "                 pd.read_csv(os.path.join(strSectionDir, \"I/samples/normal/train/preprocessed/samples.csv\")).values)\n",
    "        else:\n",
    "            # 分路\n",
    "            listPreprocessedNormalTrainingSamples.append(\\\n",
    "                 pd.read_csv(os.path.join(strSectionDir, \"I/samples/normal/train/preprocessed/samples.csv\")).values)\n",
    "            listPreprocessedNormalTrainingSamples.append(\\\n",
    "                 pd.read_csv(os.path.join(strSectionDir, \"Q/samples/normal/train/preprocessed/samples.csv\")).values)\n",
    "pdDfPreprocessedNormalTrainingSamples = np.concatenate(listPreprocessedNormalTrainingSamples)\n",
    "g_tensorNormalTrainingSamples = tf.constant(pdDfPreprocessedNormalTrainingSamples, dtype=tf.float32)\n",
    "g_nTrainingSize = len(g_tensorNormalTrainingSamples)"
   ]
  },
  {
   "cell_type": "markdown",
   "metadata": {},
   "source": [
    "### 训练"
   ]
  },
  {
   "cell_type": "code",
   "execution_count": 144,
   "metadata": {},
   "outputs": [],
   "source": [
    "# g_nTrainingSize在中频控制已经设置好了\n",
    "# 存储生成器的解码器和译码器\n",
    "oSeqGe = None\n",
    "oSeqGd = None\n",
    "oSeqGe1 = None\n",
    "\n",
    "g_nEpochs = 400\n",
    "g_nStep = \n",
    "nSteps = g_nEpochs * g_nTrainingSize // g_nBatchSize\n",
    "oExponentialDecay = tf.keras.optimizers.schedules.ExponentialDecay(1e-2, nSteps, 1e-1)\n",
    "oOptimizerG = tf.keras.optimizers.Adam(learning_rate=oExponentialDecay)\n",
    "oOptimizerD = tf.keras.optimizers.SGD(learning_rate=oExponentialDecay)"
   ]
  },
  {
   "cell_type": "code",
   "execution_count": 145,
   "metadata": {},
   "outputs": [],
   "source": [
    "# 构造日志\n",
    "strPrefix = datetime.datetime.now().strftime(\"%H_%M_%S\")\n",
    "strPrefix = \"{}\".format((18,14,400))\n",
    "oSummaryWriterDLoss = tf.summary.create_file_writer(\"logs/notest/sync/vi/\" + strPrefix + \"_D\")\n",
    "oSummaryWriterALoss = tf.summary.create_file_writer(\"logs/notest/sync/vi/\" + strPrefix + \"_A\")"
   ]
  },
  {
   "cell_type": "code",
   "execution_count": 146,
   "metadata": {},
   "outputs": [
    {
     "name": "stdout",
     "output_type": "stream",
     "text": [
      "2020-03-01 19:10:53.608763\n",
      "399/400"
     ]
    }
   ],
   "source": [
    "fn_train(oGANvi)"
   ]
  },
  {
   "cell_type": "code",
   "execution_count": 148,
   "metadata": {},
   "outputs": [],
   "source": [
    "oSeqGe.save(\"models/notest/sync/vi/Ge(18,14,400).h5\")\n",
    "oSeqGd.save(\"models/notest/sync/vi/Gd(18,14,400).h5\")\n",
    "oSeqGe1.save(\"models/notest/sync/vi/Ge1(18,14,400).h5\")"
   ]
  },
  {
   "cell_type": "markdown",
   "metadata": {},
   "source": [
    "### 评估"
   ]
  },
  {
   "cell_type": "code",
   "execution_count": 164,
   "metadata": {},
   "outputs": [
    {
     "name": "stdout",
     "output_type": "stream",
     "text": [
      "WARNING:tensorflow:No training configuration found in save file: the model was *not* compiled. Compile it manually.\n",
      "WARNING:tensorflow:No training configuration found in save file: the model was *not* compiled. Compile it manually.\n",
      "WARNING:tensorflow:No training configuration found in save file: the model was *not* compiled. Compile it manually.\n"
     ]
    }
   ],
   "source": [
    "oSeqGe = tf.keras.models.load_model(\"models/notest/sync/vi/Ge(18,14,400).h5\")\n",
    "oSeqGd = tf.keras.models.load_model(\"models/notest/sync/vi/Gd(18,14,400).h5\")\n",
    "oSeqGe1 = tf.keras.models.load_model(\"models/notest/sync/vi/Ge1(18,14,400).h5\")"
   ]
  },
  {
   "cell_type": "code",
   "execution_count": 165,
   "metadata": {},
   "outputs": [],
   "source": [
    "# 计算分数\n",
    "def fn_scoresIOrQ():\n",
    "    # train samples\n",
    "    pdDfPreprocessedSamples = pd.read_csv(\\\n",
    "          os.path.join(strSamplesDir, \"normal/train/preprocessed/samples.csv\"))\n",
    "    # 分数csv包含scores列\n",
    "    pdDfScores = fn_score(pdDfPreprocessedSamples)\n",
    "    \n",
    "    pdDfSamples = pd.read_csv(os.path.join(strSamplesDir, \"normal/train/samples.csv\"), index_col=\"RECTIME\")\n",
    "    pdDfScores.index = pdDfSamples.index\n",
    "    pdDfScores.to_csv(os.path.join(strSamplesDir, \"normal/train/preprocessed/scores.csv\"), index_label=\"RECTIME\")\n",
    "\n",
    "    # Abnormal samples\n",
    "    pdDfPreprocessedSamples = pd.read_csv(\\\n",
    "          os.path.join(strSamplesDir, \"abnormal/preprocessed/samples.csv\"), index_col=\"RECTIME\")\n",
    "    pdDfScores = fn_score(pdDfPreprocessedSamples)\n",
    "    pdDfScores.to_csv(os.path.join(strSamplesDir, \"abnormal/preprocessed/scores.csv\"), index_label=\"RECTIME\")\n",
    "\n",
    "for strJob in os.listdir(strJobsDir):\n",
    "    listDemodDirs = fn_getDemodDirsOfAJob(os.path.join(strJobsDir, strJob))\n",
    "    for strDemodDir in listDemodDirs:\n",
    "        strSectionDir = os.path.join(strDemodDir, \"parts/sync/vi\")\n",
    "        # 读入控制文件\n",
    "        pdDfControl = pd.read_csv(os.path.join(strDemodDir, \"control.csv\"), index_col=\"RECTIME\")\n",
    "        \n",
    "        if pdDfControl[\"DEMOD_FRAMESYNCINPUT\"][0] == 1:\n",
    "            #合路\n",
    "            strSamplesDir = os.path.join(strSectionDir, \"I/samples\")\n",
    "            fn_scoresIOrQ()\n",
    "        else:\n",
    "            # 分路\n",
    "            strSamplesDir = os.path.join(strSectionDir, \"I/samples\")\n",
    "            fn_scoresIOrQ()\n",
    "            strSamplesDir = os.path.join(strSectionDir, \"Q/samples\")\n",
    "            fn_scoresIOrQ()"
   ]
  },
  {
   "cell_type": "code",
   "execution_count": 170,
   "metadata": {},
   "outputs": [],
   "source": [
    "# 读取正常训练样本分数\n",
    "# 需要读入每个分路正常训练样本的I路和Q路的分数，用于计算阈值\n",
    "listScores = []\n",
    "listX = []\n",
    "for strJob in os.listdir(strJobsDir):\n",
    "    listDemodDirs = fn_getDemodDirsOfAJob(os.path.join(strJobsDir, strJob))\n",
    "    for strDemodDir in listDemodDirs:\n",
    "        pdDfControl = pd.read_csv(os.path.join(strDemodDir, \"control.csv\"), index_col=\"RECTIME\")\n",
    "        strSectionDir = os.path.join(strDemodDir, \"parts/sync/vi\")\n",
    "        \n",
    "        strDemod = os.path.split(strDemodDir)[1]\n",
    "        if pdDfControl[\"DEMOD_FRAMESYNCINPUT\"][0] == 1:\n",
    "            # 合路\n",
    "            pdDfNormalTrainingScores = pd.read_csv(os.path.join(strSectionDir, \\\n",
    "               \"I/samples/normal/train/preprocessed/scores.csv\"), index_col=\"RECTIME\")\n",
    "            listScores.append(pdDfNormalTrainingScores[\"score\"].values)\n",
    "            listX.append([crc32(str.encode(strDemod + strIndex)) for strIndex in pdDfNormalTrainingScores.index])\n",
    "        else:\n",
    "            # 合路\n",
    "            pdDfNormalTrainingScores = pd.read_csv(os.path.join(strSectionDir, \\\n",
    "               \"I/samples/normal/train/preprocessed/scores.csv\"), index_col=\"RECTIME\")\n",
    "            listScores.append(pdDfNormalTrainingScores[\"score\"].values)\n",
    "            listX.append([crc32(str.encode(strDemod + strIndex)) for strIndex in pdDfNormalTrainingScores.index])\n",
    "            \n",
    "            pdDfNormalTrainingScores = pd.read_csv(os.path.join(strSectionDir, \\\n",
    "               \"Q/samples/normal/train/preprocessed/scores.csv\"), index_col=\"RECTIME\")\n",
    "            listScores.append(pdDfNormalTrainingScores[\"score\"].values)\n",
    "            listX.append([crc32(str.encode(strDemod + strIndex)) for strIndex in pdDfNormalTrainingScores.index])\n",
    "npNormalScores = np.concatenate(listScores)\n",
    "npNormalX = np.concatenate(listX)"
   ]
  },
  {
   "cell_type": "code",
   "execution_count": 171,
   "metadata": {},
   "outputs": [],
   "source": [
    "# 读取异常测试样本分数\n",
    "# 只需要读入I路的分数\n",
    "listScores = []\n",
    "listX = []\n",
    "for strJob in os.listdir(strJobsDir):\n",
    "    listDemodDirs = fn_getDemodDirsOfAJob(os.path.join(strJobsDir, strJob))\n",
    "    for strDemodDir in listDemodDirs:\n",
    "        pdDfControl = pd.read_csv(os.path.join(strDemodDir, \"control.csv\"), index_col=\"RECTIME\")\n",
    "        strSectionDir = os.path.join(strDemodDir, \"parts/sync/vi\")\n",
    "        \n",
    "        strDemod = os.path.split(strDemodDir)[1]\n",
    "        pdDfAbnormalTestingScores = pd.read_csv(os.path.join(strSectionDir, \\\n",
    "           \"I/samples/abnormal/preprocessed/scores.csv\"), index_col=\"RECTIME\")\n",
    "        listScores.append(pdDfAbnormalTestingScores[\"score\"].values)\n",
    "        listX.append([crc32(str.encode(strDemod + strIndex)) for strIndex in pdDfAbnormalTestingScores.index])\n",
    "npAbnormalScores = np.concatenate(listScores)\n",
    "npAbnormalX = np.concatenate(listX)"
   ]
  },
  {
   "cell_type": "code",
   "execution_count": 172,
   "metadata": {},
   "outputs": [],
   "source": [
    "\"\"\"\n",
    "通过正常训练样本的分数计算相应的正太分布，利用正态分布计算异常样本该部分正确的概率\n",
    "\"\"\"\n",
    "fMeanvi = np.mean(npNormalScores)\n",
    "fSigmavi = np.var(npNormalScores)\n",
    "npAbnormalprob = np.apply_along_axis(lambda x: 1 if x <= fMeanvi else ss.norm.sf(x, fMeanvi, fSigmavi), 1, \\\n",
    "     npAbnormalScores[:, np.newaxis].astype(np.float64))"
   ]
  },
  {
   "cell_type": "code",
   "execution_count": 173,
   "metadata": {},
   "outputs": [
    {
     "data": {
      "image/png": "[encoded data removed]",
      "text/plain": [
       "<Figure size 1080x720 with 1 Axes>"
      ]
     },
     "metadata": {
      "needs_background": "light"
     },
     "output_type": "display_data"
    }
   ],
   "source": [
    "plt.figure(figsize=(15, 10))\n",
    "plt.scatter(npAbnormalX, npAbnormalprob, s=40)\n",
    "plt.show()"
   ]
  },
  {
   "cell_type": "markdown",
   "metadata": {},
   "source": [
    "## 帧同步"
   ]
  },
  {
   "cell_type": "markdown",
   "metadata": {},
   "source": [
    "### 构造建立模型\n",
    "24个属性"
   ]
  },
  {
   "cell_type": "code",
   "execution_count": 168,
   "metadata": {},
   "outputs": [],
   "source": [
    "class GANframe(object):\n",
    "    def __init__(self):\n",
    "        self.fn_makeGenerator()\n",
    "        self.fn_makeDiscriminator()\n",
    "        \n",
    "    def fn_makeGenerator(self):\n",
    "        self.oSeqGe = tf.keras.Sequential(name=\"Ge\")\n",
    "        self.oSeqGe.add(tf.keras.Input(shape=(24,)))\n",
    "        self.oSeqGe.add(tf.keras.layers.Dense(22, kernel_initializer=\"he_normal\"))\n",
    "        self.oSeqGe.add(tf.keras.layers.LeakyReLU())\n",
    "        self.oSeqGe.add(tf.keras.layers.BatchNormalization())\n",
    "        self.oSeqGe.add(tf.keras.layers.Dense(22, kernel_initializer=\"he_normal\"))\n",
    "        self.oSeqGe.add(tf.keras.layers.LeakyReLU())\n",
    "\n",
    "        self.oSeqGd = tf.keras.Sequential(name=\"Gd\")\n",
    "        self.oSeqGd.add(tf.keras.Input(shape=(22,)))\n",
    "        self.oSeqGd.add(tf.keras.layers.Dense(22, kernel_initializer=\"he_normal\"))\n",
    "        self.oSeqGd.add(tf.keras.layers.LeakyReLU())\n",
    "        self.oSeqGd.add(tf.keras.layers.BatchNormalization())\n",
    "        self.oSeqGd.add(tf.keras.layers.Dense(24, activation = tf.keras.activations.tanh, kernel_initializer=\"he_normal\"))\n",
    "        \n",
    "        self.oSeqGe1 = tf.keras.Sequential(name=\"Ge1\")\n",
    "        self.oSeqGe1.add(tf.keras.Input(shape=(24,)))\n",
    "        self.oSeqGe1.add(tf.keras.layers.Dense(22, kernel_initializer=\"he_normal\"))\n",
    "        self.oSeqGe1.add(tf.keras.layers.LeakyReLU())\n",
    "        self.oSeqGe1.add(tf.keras.layers.BatchNormalization())\n",
    "        self.oSeqGe1.add(tf.keras.layers.Dense(22, kernel_initializer=\"he_normal\"))\n",
    "        self.oSeqGe1.add(tf.keras.layers.LeakyReLU())\n",
    "        \n",
    "    def fn_makeDiscriminator(self):\n",
    "        self.oSeqDInner = tf.keras.Sequential(name=\"DInner\")\n",
    "        self.oSeqDInner.add(tf.keras.Input(shape=(24,)))\n",
    "        self.oSeqDInner.add(tf.keras.layers.Dense(22, kernel_initializer=\"he_normal\"))\n",
    "        self.oSeqDInner.add(tf.keras.layers.LeakyReLU())\n",
    "        self.oSeqDInner.add(tf.keras.layers.BatchNormalization())\n",
    "        self.oSeqDInner.add(tf.keras.layers.Dense(22, kernel_initializer=\"he_normal\"))\n",
    "        self.oSeqDInner.add(tf.keras.layers.LeakyReLU())\n",
    "        self.oSeqDInner.add(tf.keras.layers.BatchNormalization())\n",
    "\n",
    "        self.oSeqD = tf.keras.Sequential([\n",
    "            self.oSeqDInner,\n",
    "            tf.keras.layers.Dense(1, activation = tf.keras.activations.sigmoid)\n",
    "        ], name=\"D\")"
   ]
  },
  {
   "cell_type": "code",
   "execution_count": 180,
   "metadata": {},
   "outputs": [],
   "source": [
    "# 新建模型\n",
    "tf.keras.backend.clear_session()\n",
    "oGAN = GANframe()"
   ]
  },
  {
   "cell_type": "markdown",
   "metadata": {},
   "source": [
    "### 构造数据集"
   ]
  },
  {
   "cell_type": "code",
   "execution_count": 170,
   "metadata": {},
   "outputs": [],
   "source": [
    "g_nFeatures = 24\n",
    "g_nBatchSize = 256\n",
    "\n",
    "def fn_splitCsvLine(strLine):\n",
    "    tensorDefs = [0.] * g_nFeatures\n",
    "    tensorRecord = tf.io.decode_csv(strLine, record_defaults=tensorDefs)\n",
    "    tensorX = tf.stack(tensorRecord)\n",
    "    return tensorX\n",
    "\n",
    "oDataset = tf.data.Dataset.list_files(strJobsDir + \"/*/*/parts/sync/frame/*/samples/normal/train/preprocessed/samples.csv\")\n",
    "oDataset = oDataset.interleave(lambda strSamplesFile: tf.data.TextLineDataset(strSamplesFile).skip(1), \\\n",
    "                              cycle_length=5, num_parallel_calls=5)\n",
    "oDataset = oDataset.map(fn_splitCsvLine, g_nFeatures)\n",
    "oDataset = oDataset.shuffle(1000)\n",
    "oDataset = oDataset.batch(g_nBatchSize)"
   ]
  },
  {
   "cell_type": "code",
   "execution_count": 171,
   "metadata": {},
   "outputs": [],
   "source": [
    "# 读入所有的训练样本，从而通过shape属性得到训练集大小，存入全局变量中，并且要用于每次迭代结束后计算总的损失，从而求得最佳模型\n",
    "# 由于对于分路情况，有I和Q两路样本，所以两路都要读\n",
    "listPreprocessedNormalTrainingSamples = []\n",
    "for strJob in os.listdir(strJobsDir):\n",
    "    strJobDir = os.path.join(strJobsDir, strJob)\n",
    "    listDemodDirs = fn_getDemodDirsOfAJob(strJobDir)\n",
    "    for strDemodDir in listDemodDirs:\n",
    "        # 读入控制文件，方便判断合路、分路 \n",
    "        pdDfControl = pd.read_csv(os.path.join(strDemodDir, \"control.csv\"), index_col=\"RECTIME\")\n",
    "        # 设置部分的文件夹\n",
    "        strSectionDir = os.path.join(strDemodDir, \"parts/sync/frame\")\n",
    "        \n",
    "        # 用dataframe的numpy值存入链表，再收尾连接。因为I和Q的属性名称的后缀不同，直接连接会出现Nan\n",
    "        if pdDfControl[\"DEMOD_FRAMESYNCINPUT\"][0] == 1:\n",
    "            # 合路\n",
    "            listPreprocessedNormalTrainingSamples.append(\\\n",
    "                 pd.read_csv(os.path.join(strSectionDir, \"I/samples/normal/train/preprocessed/samples.csv\")).values)\n",
    "        else:\n",
    "            # 分路\n",
    "            listPreprocessedNormalTrainingSamples.append(\\\n",
    "                 pd.read_csv(os.path.join(strSectionDir, \"I/samples/normal/train/preprocessed/samples.csv\")).values)\n",
    "            listPreprocessedNormalTrainingSamples.append(\\\n",
    "                 pd.read_csv(os.path.join(strSectionDir, \"Q/samples/normal/train/preprocessed/samples.csv\")).values)\n",
    "pdDfPreprocessedNormalTrainingSamples = np.concatenate(listPreprocessedNormalTrainingSamples)\n",
    "g_tensorNormalTrainingSamples = tf.constant(pdDfPreprocessedNormalTrainingSamples, dtype=tf.float32)\n",
    "g_nTrainingSize = len(g_tensorNormalTrainingSamples)"
   ]
  },
  {
   "cell_type": "markdown",
   "metadata": {},
   "source": [
    "### 训练"
   ]
  },
  {
   "cell_type": "code",
   "execution_count": 181,
   "metadata": {},
   "outputs": [],
   "source": [
    "# g_nTrainingSize在中频控制已经设置好了\n",
    "# 存储生成器的解码器和译码器\n",
    "oSeqGe = None\n",
    "oSeqGd = None\n",
    "oSeqGe1 = None\n",
    "\n",
    "g_nEpochs = 1000\n",
    "g_nStep = 0\n",
    "nSteps = g_nEpochs * g_nTrainingSize // g_nBatchSize\n",
    "oExponentialDecay = tf.keras.optimizers.schedules.ExponentialDecay(1e-2, nSteps, 1e-1)\n",
    "oOptimizerG = tf.keras.optimizers.Adam(learning_rate=oExponentialDecay)\n",
    "oOptimizerD = tf.keras.optimizers.SGD(learning_rate=oExponentialDecay)"
   ]
  },
  {
   "cell_type": "code",
   "execution_count": 173,
   "metadata": {},
   "outputs": [],
   "source": [
    "# 构造日志\n",
    "strPrefix = datetime.datetime.now().strftime(\"%H_%M_%S\")\n",
    "strPrefix = \"{}\".format(\"(24,22,1000)\")\n",
    "oSummaryWriterDLoss = tf.summary.create_file_writer(\"logs/notest/sync/frame/\" + strPrefix + \"_D\")\n",
    "oSummaryWriterALoss = tf.summary.create_file_writer(\"logs/notest/sync/frame/\" + strPrefix + \"_A\")"
   ]
  },
  {
   "cell_type": "code",
   "execution_count": 182,
   "metadata": {},
   "outputs": [
    {
     "name": "stdout",
     "output_type": "stream",
     "text": [
      "2020-03-01 21:03:41.616103\n",
      "238/1000"
     ]
    },
    {
     "ename": "KeyboardInterrupt",
     "evalue": "",
     "output_type": "error",
     "traceback": [
      "\u001b[1;31m---------------------------------------------------------------------------\u001b[0m",
      "\u001b[1;31mKeyboardInterrupt\u001b[0m                         Traceback (most recent call last)",
      "\u001b[1;32m<ipython-input-182-f43ce553c3c1>\u001b[0m in \u001b[0;36m<module>\u001b[1;34m\u001b[0m\n\u001b[0;32m     42\u001b[0m             \u001b[0mtensorPreds\u001b[0m \u001b[1;33m=\u001b[0m \u001b[0moGAN\u001b[0m\u001b[1;33m.\u001b[0m\u001b[0moSeqD\u001b[0m\u001b[1;33m(\u001b[0m\u001b[0mtensorFakeSamples\u001b[0m\u001b[1;33m)\u001b[0m\u001b[1;33m\u001b[0m\u001b[1;33m\u001b[0m\u001b[0m\n\u001b[0;32m     43\u001b[0m             \u001b[0mtensorDLossF\u001b[0m \u001b[1;33m=\u001b[0m \u001b[0mtf\u001b[0m\u001b[1;33m.\u001b[0m\u001b[0mreduce_mean\u001b[0m\u001b[1;33m(\u001b[0m\u001b[0mtf\u001b[0m\u001b[1;33m.\u001b[0m\u001b[0mnn\u001b[0m\u001b[1;33m.\u001b[0m\u001b[0msigmoid_cross_entropy_with_logits\u001b[0m\u001b[1;33m(\u001b[0m\u001b[0mtensorLabels\u001b[0m\u001b[1;33m,\u001b[0m \u001b[0mtensorPreds\u001b[0m\u001b[1;33m)\u001b[0m\u001b[1;33m)\u001b[0m\u001b[1;33m\u001b[0m\u001b[1;33m\u001b[0m\u001b[0m\n\u001b[1;32m---> 44\u001b[1;33m         \u001b[0mlistDGradients\u001b[0m \u001b[1;33m=\u001b[0m \u001b[0moGradientTapeD\u001b[0m\u001b[1;33m.\u001b[0m\u001b[0mgradient\u001b[0m\u001b[1;33m(\u001b[0m\u001b[0mtensorDLossF\u001b[0m\u001b[1;33m,\u001b[0m \u001b[0moGAN\u001b[0m\u001b[1;33m.\u001b[0m\u001b[0moSeqD\u001b[0m\u001b[1;33m.\u001b[0m\u001b[0mtrainable_variables\u001b[0m\u001b[1;33m)\u001b[0m\u001b[1;33m\u001b[0m\u001b[1;33m\u001b[0m\u001b[0m\n\u001b[0m\u001b[0;32m     45\u001b[0m         \u001b[0moOptimizerD\u001b[0m\u001b[1;33m.\u001b[0m\u001b[0mapply_gradients\u001b[0m\u001b[1;33m(\u001b[0m\u001b[0mzip\u001b[0m\u001b[1;33m(\u001b[0m\u001b[0mlistDGradients\u001b[0m\u001b[1;33m,\u001b[0m \u001b[0moGAN\u001b[0m\u001b[1;33m.\u001b[0m\u001b[0moSeqD\u001b[0m\u001b[1;33m.\u001b[0m\u001b[0mtrainable_variables\u001b[0m\u001b[1;33m)\u001b[0m\u001b[1;33m)\u001b[0m\u001b[1;33m\u001b[0m\u001b[1;33m\u001b[0m\u001b[0m\n\u001b[0;32m     46\u001b[0m         \u001b[0mtensorDLoss\u001b[0m \u001b[1;33m=\u001b[0m \u001b[0mtensorDLossR\u001b[0m \u001b[1;33m+\u001b[0m \u001b[0mtensorDLossF\u001b[0m\u001b[1;33m\u001b[0m\u001b[1;33m\u001b[0m\u001b[0m\n",
      "\u001b[1;32md:\\py_virtualenv\\lib\\site-packages\\tensorflow_core\\python\\eager\\backprop.py\u001b[0m in \u001b[0;36mgradient\u001b[1;34m(self, target, sources, output_gradients, unconnected_gradients)\u001b[0m\n\u001b[0;32m   1012\u001b[0m         \u001b[0moutput_gradients\u001b[0m\u001b[1;33m=\u001b[0m\u001b[0moutput_gradients\u001b[0m\u001b[1;33m,\u001b[0m\u001b[1;33m\u001b[0m\u001b[1;33m\u001b[0m\u001b[0m\n\u001b[0;32m   1013\u001b[0m         \u001b[0msources_raw\u001b[0m\u001b[1;33m=\u001b[0m\u001b[0mflat_sources_raw\u001b[0m\u001b[1;33m,\u001b[0m\u001b[1;33m\u001b[0m\u001b[1;33m\u001b[0m\u001b[0m\n\u001b[1;32m-> 1014\u001b[1;33m         unconnected_gradients=unconnected_gradients)\n\u001b[0m\u001b[0;32m   1015\u001b[0m \u001b[1;33m\u001b[0m\u001b[0m\n\u001b[0;32m   1016\u001b[0m     \u001b[1;32mif\u001b[0m \u001b[1;32mnot\u001b[0m \u001b[0mself\u001b[0m\u001b[1;33m.\u001b[0m\u001b[0m_persistent\u001b[0m\u001b[1;33m:\u001b[0m\u001b[1;33m\u001b[0m\u001b[1;33m\u001b[0m\u001b[0m\n",
      "\u001b[1;32md:\\py_virtualenv\\lib\\site-packages\\tensorflow_core\\python\\eager\\imperative_grad.py\u001b[0m in \u001b[0;36mimperative_grad\u001b[1;34m(tape, target, sources, output_gradients, sources_raw, unconnected_gradients)\u001b[0m\n\u001b[0;32m     74\u001b[0m       \u001b[0moutput_gradients\u001b[0m\u001b[1;33m,\u001b[0m\u001b[1;33m\u001b[0m\u001b[1;33m\u001b[0m\u001b[0m\n\u001b[0;32m     75\u001b[0m       \u001b[0msources_raw\u001b[0m\u001b[1;33m,\u001b[0m\u001b[1;33m\u001b[0m\u001b[1;33m\u001b[0m\u001b[0m\n\u001b[1;32m---> 76\u001b[1;33m       compat.as_str(unconnected_gradients.value))\n\u001b[0m",
      "\u001b[1;32md:\\py_virtualenv\\lib\\site-packages\\tensorflow_core\\python\\eager\\backprop.py\u001b[0m in \u001b[0;36m_gradient_function\u001b[1;34m(op_name, attr_tuple, num_inputs, inputs, outputs, out_grads, skip_input_indices)\u001b[0m\n\u001b[0;32m    136\u001b[0m     \u001b[1;32mreturn\u001b[0m \u001b[1;33m[\u001b[0m\u001b[1;32mNone\u001b[0m\u001b[1;33m]\u001b[0m \u001b[1;33m*\u001b[0m \u001b[0mnum_inputs\u001b[0m\u001b[1;33m\u001b[0m\u001b[1;33m\u001b[0m\u001b[0m\n\u001b[0;32m    137\u001b[0m \u001b[1;33m\u001b[0m\u001b[0m\n\u001b[1;32m--> 138\u001b[1;33m   \u001b[1;32mreturn\u001b[0m \u001b[0mgrad_fn\u001b[0m\u001b[1;33m(\u001b[0m\u001b[0mmock_op\u001b[0m\u001b[1;33m,\u001b[0m \u001b[1;33m*\u001b[0m\u001b[0mout_grads\u001b[0m\u001b[1;33m)\u001b[0m\u001b[1;33m\u001b[0m\u001b[1;33m\u001b[0m\u001b[0m\n\u001b[0m\u001b[0;32m    139\u001b[0m \u001b[1;33m\u001b[0m\u001b[0m\n\u001b[0;32m    140\u001b[0m \u001b[1;33m\u001b[0m\u001b[0m\n",
      "\u001b[1;32md:\\py_virtualenv\\lib\\site-packages\\tensorflow_core\\python\\ops\\math_grad.py\u001b[0m in \u001b[0;36m_MeanGrad\u001b[1;34m(op, grad)\u001b[0m\n\u001b[0;32m    235\u001b[0m \u001b[1;32mdef\u001b[0m \u001b[0m_MeanGrad\u001b[0m\u001b[1;33m(\u001b[0m\u001b[0mop\u001b[0m\u001b[1;33m,\u001b[0m \u001b[0mgrad\u001b[0m\u001b[1;33m)\u001b[0m\u001b[1;33m:\u001b[0m\u001b[1;33m\u001b[0m\u001b[1;33m\u001b[0m\u001b[0m\n\u001b[0;32m    236\u001b[0m   \u001b[1;34m\"\"\"Gradient for Mean.\"\"\"\u001b[0m\u001b[1;33m\u001b[0m\u001b[1;33m\u001b[0m\u001b[0m\n\u001b[1;32m--> 237\u001b[1;33m   \u001b[0msum_grad\u001b[0m \u001b[1;33m=\u001b[0m \u001b[0m_SumGrad\u001b[0m\u001b[1;33m(\u001b[0m\u001b[0mop\u001b[0m\u001b[1;33m,\u001b[0m \u001b[0mgrad\u001b[0m\u001b[1;33m)\u001b[0m\u001b[1;33m[\u001b[0m\u001b[1;36m0\u001b[0m\u001b[1;33m]\u001b[0m\u001b[1;33m\u001b[0m\u001b[1;33m\u001b[0m\u001b[0m\n\u001b[0m\u001b[0;32m    238\u001b[0m   \u001b[0minput_shape\u001b[0m \u001b[1;33m=\u001b[0m \u001b[0mop\u001b[0m\u001b[1;33m.\u001b[0m\u001b[0minputs\u001b[0m\u001b[1;33m[\u001b[0m\u001b[1;36m0\u001b[0m\u001b[1;33m]\u001b[0m\u001b[1;33m.\u001b[0m\u001b[0m_shape_tuple\u001b[0m\u001b[1;33m(\u001b[0m\u001b[1;33m)\u001b[0m  \u001b[1;31m# pylint: disable=protected-access\u001b[0m\u001b[1;33m\u001b[0m\u001b[1;33m\u001b[0m\u001b[0m\n\u001b[0;32m    239\u001b[0m   \u001b[0moutput_shape\u001b[0m \u001b[1;33m=\u001b[0m \u001b[0mop\u001b[0m\u001b[1;33m.\u001b[0m\u001b[0moutputs\u001b[0m\u001b[1;33m[\u001b[0m\u001b[1;36m0\u001b[0m\u001b[1;33m]\u001b[0m\u001b[1;33m.\u001b[0m\u001b[0m_shape_tuple\u001b[0m\u001b[1;33m(\u001b[0m\u001b[1;33m)\u001b[0m  \u001b[1;31m# pylint: disable=protected-access\u001b[0m\u001b[1;33m\u001b[0m\u001b[1;33m\u001b[0m\u001b[0m\n",
      "\u001b[1;32md:\\py_virtualenv\\lib\\site-packages\\tensorflow_core\\python\\ops\\math_grad.py\u001b[0m in \u001b[0;36m_SumGrad\u001b[1;34m(op, grad)\u001b[0m\n\u001b[0;32m    154\u001b[0m         \u001b[1;32melse\u001b[0m\u001b[1;33m:\u001b[0m\u001b[1;33m\u001b[0m\u001b[1;33m\u001b[0m\u001b[0m\n\u001b[0;32m    155\u001b[0m           \u001b[0mnew_shape\u001b[0m \u001b[1;33m=\u001b[0m \u001b[1;33m[\u001b[0m\u001b[1;36m1\u001b[0m\u001b[1;33m]\u001b[0m \u001b[1;33m*\u001b[0m \u001b[0mrank\u001b[0m\u001b[1;33m\u001b[0m\u001b[1;33m\u001b[0m\u001b[0m\n\u001b[1;32m--> 156\u001b[1;33m         \u001b[0mgrad\u001b[0m \u001b[1;33m=\u001b[0m \u001b[0marray_ops\u001b[0m\u001b[1;33m.\u001b[0m\u001b[0mreshape\u001b[0m\u001b[1;33m(\u001b[0m\u001b[0mgrad\u001b[0m\u001b[1;33m,\u001b[0m \u001b[0mnew_shape\u001b[0m\u001b[1;33m)\u001b[0m\u001b[1;33m\u001b[0m\u001b[1;33m\u001b[0m\u001b[0m\n\u001b[0m\u001b[0;32m    157\u001b[0m         \u001b[1;31m# If shape is not fully defined (but rank is), we use Shape.\u001b[0m\u001b[1;33m\u001b[0m\u001b[1;33m\u001b[0m\u001b[1;33m\u001b[0m\u001b[0m\n\u001b[0;32m    158\u001b[0m         \u001b[1;32mif\u001b[0m \u001b[1;32mNone\u001b[0m \u001b[1;32mnot\u001b[0m \u001b[1;32min\u001b[0m \u001b[0minput_0_shape\u001b[0m\u001b[1;33m:\u001b[0m\u001b[1;33m\u001b[0m\u001b[1;33m\u001b[0m\u001b[0m\n",
      "\u001b[1;32md:\\py_virtualenv\\lib\\site-packages\\tensorflow_core\\python\\ops\\array_ops.py\u001b[0m in \u001b[0;36mreshape\u001b[1;34m(tensor, shape, name)\u001b[0m\n\u001b[0;32m    129\u001b[0m     \u001b[0mA\u001b[0m\u001b[0;31m \u001b[0m\u001b[0;31m`\u001b[0m\u001b[0mTensor\u001b[0m\u001b[0;31m`\u001b[0m\u001b[1;33m.\u001b[0m \u001b[0mHas\u001b[0m \u001b[0mthe\u001b[0m \u001b[0msame\u001b[0m \u001b[0mtype\u001b[0m \u001b[1;32mas\u001b[0m\u001b[0;31m \u001b[0m\u001b[0;31m`\u001b[0m\u001b[0mtensor\u001b[0m\u001b[0;31m`\u001b[0m\u001b[1;33m.\u001b[0m\u001b[1;33m\u001b[0m\u001b[1;33m\u001b[0m\u001b[0m\n\u001b[0;32m    130\u001b[0m   \"\"\"\n\u001b[1;32m--> 131\u001b[1;33m   \u001b[0mresult\u001b[0m \u001b[1;33m=\u001b[0m \u001b[0mgen_array_ops\u001b[0m\u001b[1;33m.\u001b[0m\u001b[0mreshape\u001b[0m\u001b[1;33m(\u001b[0m\u001b[0mtensor\u001b[0m\u001b[1;33m,\u001b[0m \u001b[0mshape\u001b[0m\u001b[1;33m,\u001b[0m \u001b[0mname\u001b[0m\u001b[1;33m)\u001b[0m\u001b[1;33m\u001b[0m\u001b[1;33m\u001b[0m\u001b[0m\n\u001b[0m\u001b[0;32m    132\u001b[0m   \u001b[0mtensor_util\u001b[0m\u001b[1;33m.\u001b[0m\u001b[0mmaybe_set_static_shape\u001b[0m\u001b[1;33m(\u001b[0m\u001b[0mresult\u001b[0m\u001b[1;33m,\u001b[0m \u001b[0mshape\u001b[0m\u001b[1;33m)\u001b[0m\u001b[1;33m\u001b[0m\u001b[1;33m\u001b[0m\u001b[0m\n\u001b[0;32m    133\u001b[0m   \u001b[1;32mreturn\u001b[0m \u001b[0mresult\u001b[0m\u001b[1;33m\u001b[0m\u001b[1;33m\u001b[0m\u001b[0m\n",
      "\u001b[1;32md:\\py_virtualenv\\lib\\site-packages\\tensorflow_core\\python\\ops\\gen_array_ops.py\u001b[0m in \u001b[0;36mreshape\u001b[1;34m(tensor, shape, name)\u001b[0m\n\u001b[0;32m   8098\u001b[0m       _result = _pywrap_tensorflow.TFE_Py_FastPathExecute(\n\u001b[0;32m   8099\u001b[0m         \u001b[0m_ctx\u001b[0m\u001b[1;33m.\u001b[0m\u001b[0m_context_handle\u001b[0m\u001b[1;33m,\u001b[0m \u001b[0m_ctx\u001b[0m\u001b[1;33m.\u001b[0m\u001b[0m_thread_local_data\u001b[0m\u001b[1;33m.\u001b[0m\u001b[0mdevice_name\u001b[0m\u001b[1;33m,\u001b[0m \u001b[1;34m\"Reshape\"\u001b[0m\u001b[1;33m,\u001b[0m\u001b[1;33m\u001b[0m\u001b[1;33m\u001b[0m\u001b[0m\n\u001b[1;32m-> 8100\u001b[1;33m         name, _ctx._post_execution_callbacks, tensor, shape)\n\u001b[0m\u001b[0;32m   8101\u001b[0m       \u001b[1;32mreturn\u001b[0m \u001b[0m_result\u001b[0m\u001b[1;33m\u001b[0m\u001b[1;33m\u001b[0m\u001b[0m\n\u001b[0;32m   8102\u001b[0m     \u001b[1;32mexcept\u001b[0m \u001b[0m_core\u001b[0m\u001b[1;33m.\u001b[0m\u001b[0m_FallbackException\u001b[0m\u001b[1;33m:\u001b[0m\u001b[1;33m\u001b[0m\u001b[1;33m\u001b[0m\u001b[0m\n",
      "\u001b[1;31mKeyboardInterrupt\u001b[0m: "
     ]
    }
   ],
   "source": [
    "# 开始训练\n",
    "\n",
    "def fn_getGLoss(tensorInput):\n",
    "    # Apperant loss\n",
    "    tensorEncodedSamples = oGAN.oSeqGe(tensorInput)\n",
    "    tensorFakeSamples = oGAN.oSeqGd(tensorEncodedSamples)\n",
    "    tensorApperantLoss = tf.reduce_mean(tf.losses.mean_absolute_error(tensorInput, tensorFakeSamples))\n",
    "\n",
    "    # Latent loss\n",
    "    tensorEncoded1Samples = oGAN.oSeqGe1(tensorFakeSamples)\n",
    "    tensorLatentLoss = \\\n",
    "    tf.reduce_mean(tf.losses.mean_squared_error(tensorEncodedSamples, tensorEncoded1Samples))\n",
    "\n",
    "    # Feature matching loss\n",
    "    tensorPredFeatures = oGAN.oSeqDInner(tensorFakeSamples)\n",
    "    tensorTrueFeatures = oGAN.oSeqDInner(tensorInput)\n",
    "    tensorFeatureLoss = tf.reduce_mean(tf.losses.mean_squared_error(tensorPredFeatures, tensorTrueFeatures))\n",
    "\n",
    "    tensorGLoss = tensorApperantLoss + tensorLatentLoss + tensorFeatureLoss\n",
    "    return tensorGLoss\n",
    "\n",
    "# 在每个epoch后存储最小的ALoss和对应的\n",
    "fGLossLast = np.inf\n",
    "# 开始训练，输出训练的开始时间和训练的结束时间\n",
    "print(datetime.datetime.now())\n",
    "for nEpoch in range(g_nEpochs):\n",
    "    for tensorBatch in oDataset:\n",
    "        # Train discriminator\n",
    "        # Generator fake samples\n",
    "        tensorEncodedSamples = oGAN.oSeqGe(tensorBatch)\n",
    "        tensorFakeSamples = oGAN.oSeqGd(tensorEncodedSamples)\n",
    "        with tf.GradientTape() as oGradientTapeD:\n",
    "            # Train discriminator with real samples\n",
    "            tensorLabels = tf.random.uniform(minval=0.7, maxval=1.2, seed=42, shape=(tensorBatch.shape[0], 1))\n",
    "            tensorPreds = oGAN.oSeqD(tensorBatch)\n",
    "            tensorDLossR = tf.reduce_mean(tf.nn.sigmoid_cross_entropy_with_logits(tensorLabels, tensorPreds))\n",
    "        listDGradients = oGradientTapeD.gradient(tensorDLossR, oGAN.oSeqD.trainable_variables)\n",
    "        oOptimizerD.apply_gradients(zip(listDGradients, oGAN.oSeqD.trainable_variables))\n",
    "        with tf.GradientTape() as oGradientTapeD:\n",
    "            # Train discriminator with fake samples\n",
    "            tensorLabels = tf.random.uniform(minval=0., maxval=0.3, seed = 42, shape=(tensorFakeSamples.shape[0], 1))\n",
    "            tensorPreds = oGAN.oSeqD(tensorFakeSamples)\n",
    "            tensorDLossF = tf.reduce_mean(tf.nn.sigmoid_cross_entropy_with_logits(tensorLabels, tensorPreds))\n",
    "        listDGradients = oGradientTapeD.gradient(tensorDLossF, oGAN.oSeqD.trainable_variables)\n",
    "        oOptimizerD.apply_gradients(zip(listDGradients, oGAN.oSeqD.trainable_variables))\n",
    "        tensorDLoss = tensorDLossR + tensorDLossF\n",
    "        with oSummaryWriterDLoss.as_default():\n",
    "            tf.summary.scalar(\"D_Loss\", tensorDLoss, g_nStep)\n",
    "\n",
    "        # Train genertor\n",
    "        with tf.GradientTape() as oGradientTapeG:\n",
    "            tensorGLoss = fn_getGLoss(tensorBatch)\n",
    "        # Insert all generator trainable variables into a list\n",
    "        listTrainableGVariables = []\n",
    "        listTrainableGVariables.extend(oGAN.oSeqGe.trainable_variables)\n",
    "        listTrainableGVariables.extend(oGAN.oSeqGd.trainable_variables)\n",
    "        listTrainableGVariables.extend(oGAN.oSeqGe1.trainable_variables)\n",
    "\n",
    "        listGGradients = oGradientTapeG.gradient(tensorGLoss, listTrainableGVariables)\n",
    "        oOptimizerG.apply_gradients(zip(listGGradients, listTrainableGVariables))\n",
    "        with oSummaryWriterALoss.as_default():\n",
    "            tf.summary.scalar(\"A_loss\", tensorGLoss, g_nStep)\n",
    "\n",
    "        g_nStep = g_nStep + 1\n",
    "\n",
    "    # 在整个训练集上计算generator的损失，并比较和上一次迭代的损失，如果小于上一次迭代，更新损失和最有模型；反之停止训练\n",
    "    tensorGLossOverTotalSamples = fn_getGLoss(g_tensorNormalTrainingSamples)\n",
    "    if fGLossLast > tensorGLossOverTotalSamples.numpy():\n",
    "        fGLossLast = tensorGLossOverTotalSamples.numpy()\n",
    "        oSeqGe = oGAN.oSeqGe\n",
    "        oSeqGd = oGAN.oSeqGd\n",
    "        oSeqGe1 = oGAN.oSeqGe1\n",
    "    # 输出进度\n",
    "    fn_printBar(nEpoch)\n",
    "print(datetime.datetime.now())"
   ]
  },
  {
   "cell_type": "code",
   "execution_count": 184,
   "metadata": {},
   "outputs": [],
   "source": [
    "oSeqGe.save(\"models/notest/sync/frame/Ge(24,22).h5\")\n",
    "oSeqGd.save(\"models/notest/sync/frame/Gd(24,22).h5\")\n",
    "oSeqGe1.save(\"models/notest/sync/frame/Ge1(24,22).h5\")"
   ]
  },
  {
   "cell_type": "markdown",
   "metadata": {},
   "source": [
    "### 评估"
   ]
  },
  {
   "cell_type": "code",
   "execution_count": 168,
   "metadata": {},
   "outputs": [
    {
     "name": "stdout",
     "output_type": "stream",
     "text": [
      "WARNING:tensorflow:No training configuration found in save file: the model was *not* compiled. Compile it manually.\n",
      "WARNING:tensorflow:No training configuration found in save file: the model was *not* compiled. Compile it manually.\n",
      "WARNING:tensorflow:No training configuration found in save file: the model was *not* compiled. Compile it manually.\n"
     ]
    }
   ],
   "source": [
    "oSeqGe = tf.keras.models.load_model(\"models/notest/sync/frame/Ge(24,22).h5\")\n",
    "oSeqGd = tf.keras.models.load_model(\"models/notest/sync/frame/Gd(24,22).h5\")\n",
    "oSeqGe1 = tf.keras.models.load_model(\"models/notest/sync/frame/Ge1(24,22).h5\")"
   ]
  },
  {
   "cell_type": "code",
   "execution_count": 169,
   "metadata": {},
   "outputs": [],
   "source": [
    "# 计算分数\n",
    "def fn_scoresIOrQ():\n",
    "    # train samples\n",
    "    pdDfPreprocessedSamples = pd.read_csv(\\\n",
    "          os.path.join(strSamplesDir, \"normal/train/preprocessed/samples.csv\"))\n",
    "    # 分数csv包含scores列\n",
    "    pdDfScores = fn_score(pdDfPreprocessedSamples)\n",
    "    \n",
    "    pdDfSamples = pd.read_csv(os.path.join(strSamplesDir, \"normal/train/samples.csv\"), index_col=\"RECTIME\")\n",
    "    pdDfScores.index = pdDfSamples.index\n",
    "    pdDfScores.to_csv(os.path.join(strSamplesDir, \"normal/train/preprocessed/scores.csv\"), index_label=\"RECTIME\")\n",
    "\n",
    "    # Abnormal samples\n",
    "    pdDfPreprocessedSamples = pd.read_csv(\\\n",
    "          os.path.join(strSamplesDir, \"abnormal/preprocessed/samples.csv\"), index_col=\"RECTIME\")\n",
    "    pdDfScores = fn_score(pdDfPreprocessedSamples)\n",
    "    pdDfScores.to_csv(os.path.join(strSamplesDir, \"abnormal/preprocessed/scores.csv\"), index_label=\"RECTIME\")\n",
    "\n",
    "for strJob in os.listdir(strJobsDir):\n",
    "    listDemodDirs = fn_getDemodDirsOfAJob(os.path.join(strJobsDir, strJob))\n",
    "    for strDemodDir in listDemodDirs:\n",
    "        strSectionDir = os.path.join(strDemodDir, \"parts/sync/frame\")\n",
    "        # 读入控制文件\n",
    "        pdDfControl = pd.read_csv(os.path.join(strDemodDir, \"control.csv\"), index_col=\"RECTIME\")\n",
    "        \n",
    "        if pdDfControl[\"DEMOD_FRAMESYNCINPUT\"][0] == 1:\n",
    "            #合路\n",
    "            strSamplesDir = os.path.join(strSectionDir, \"I/samples\")\n",
    "            fn_scoresIOrQ()\n",
    "        else:\n",
    "            # 分路\n",
    "            strSamplesDir = os.path.join(strSectionDir, \"I/samples\")\n",
    "            fn_scoresIOrQ()\n",
    "            strSamplesDir = os.path.join(strSectionDir, \"Q/samples\")\n",
    "            fn_scoresIOrQ()"
   ]
  },
  {
   "cell_type": "code",
   "execution_count": 174,
   "metadata": {},
   "outputs": [],
   "source": [
    "# 读取正常训练样本分数\n",
    "# 需要读入每个分路正常训练样本的I路和Q路的分数，用于计算阈值\n",
    "listScores = []\n",
    "listX = []\n",
    "for strJob in os.listdir(strJobsDir):\n",
    "    listDemodDirs = fn_getDemodDirsOfAJob(os.path.join(strJobsDir, strJob))\n",
    "    for strDemodDir in listDemodDirs:\n",
    "        pdDfControl = pd.read_csv(os.path.join(strDemodDir, \"control.csv\"), index_col=\"RECTIME\")\n",
    "        strSectionDir = os.path.join(strDemodDir, \"parts/sync/frame\")\n",
    "        \n",
    "        strDemod = os.path.split(strDemodDir)[1]\n",
    "        if pdDfControl[\"DEMOD_FRAMESYNCINPUT\"][0] == 1:\n",
    "            # 合路\n",
    "            pdDfNormalTrainingScores = pd.read_csv(os.path.join(strSectionDir, \\\n",
    "               \"I/samples/normal/train/preprocessed/scores.csv\"), index_col=\"RECTIME\")\n",
    "            listScores.append(pdDfNormalTrainingScores[\"score\"].values)\n",
    "            listX.append([crc32(str.encode(strDemod + strIndex)) for strIndex in pdDfNormalTrainingScores.index])\n",
    "        else:\n",
    "            # 合路\n",
    "            pdDfNormalTrainingScores = pd.read_csv(os.path.join(strSectionDir, \\\n",
    "               \"I/samples/normal/train/preprocessed/scores.csv\"), index_col=\"RECTIME\")\n",
    "            listScores.append(pdDfNormalTrainingScores[\"score\"].values)\n",
    "            listX.append([crc32(str.encode(strDemod + strIndex)) for strIndex in pdDfNormalTrainingScores.index])\n",
    "            \n",
    "            pdDfNormalTrainingScores = pd.read_csv(os.path.join(strSectionDir, \\\n",
    "               \"Q/samples/normal/train/preprocessed/scores.csv\"), index_col=\"RECTIME\")\n",
    "            listScores.append(pdDfNormalTrainingScores[\"score\"].values)\n",
    "            listX.append([crc32(str.encode(strDemod + strIndex)) for strIndex in pdDfNormalTrainingScores.index])\n",
    "npNormalScores = np.concatenate(listScores)\n",
    "npNormalX = np.concatenate(listX)"
   ]
  },
  {
   "cell_type": "code",
   "execution_count": 175,
   "metadata": {},
   "outputs": [],
   "source": [
    "# 读取异常测试样本分数\n",
    "# 只需要读入I路的分数\n",
    "listScores = []\n",
    "listX = []\n",
    "for strJob in os.listdir(strJobsDir):\n",
    "    listDemodDirs = fn_getDemodDirsOfAJob(os.path.join(strJobsDir, strJob))\n",
    "    for strDemodDir in listDemodDirs:\n",
    "        pdDfControl = pd.read_csv(os.path.join(strDemodDir, \"control.csv\"), index_col=\"RECTIME\")\n",
    "        strSectionDir = os.path.join(strDemodDir, \"parts/sync/frame\")\n",
    "        \n",
    "        strDemod = os.path.split(strDemodDir)[1]\n",
    "        pdDfAbnormalTestingScores = pd.read_csv(os.path.join(strSectionDir, \\\n",
    "           \"I/samples/abnormal/preprocessed/scores.csv\"), index_col=\"RECTIME\")\n",
    "        listScores.append(pdDfAbnormalTestingScores[\"score\"].values)\n",
    "        listX.append([crc32(str.encode(strDemod + strIndex)) for strIndex in pdDfAbnormalTestingScores.index])\n",
    "npAbnormalScores = np.concatenate(listScores)\n",
    "npAbnormalX = np.concatenate(listX)"
   ]
  },
  {
   "cell_type": "code",
   "execution_count": 176,
   "metadata": {},
   "outputs": [],
   "source": [
    "\"\"\"\n",
    "通过正常训练样本的分数计算相应的正太分布，利用正态分布计算异常样本该部分正确的概率\n",
    "\"\"\"\n",
    "fMeanframe = np.mean(npNormalScores)\n",
    "fSigmaframe = np.var(npNormalScores)\n",
    "npAbnormalprob = np.apply_along_axis(lambda x: 1 if x <= fMeanframe else ss.norm.sf(x, fMeanframe, fSigmaframe), 1, \\\n",
    "     npAbnormalScores[:, np.newaxis].astype(np.float64))"
   ]
  },
  {
   "cell_type": "code",
   "execution_count": 177,
   "metadata": {},
   "outputs": [
    {
     "data": {
      "image/png": "[encoded data removed]",
      "text/plain": [
       "<Figure size 1080x720 with 1 Axes>"
      ]
     },
     "metadata": {
      "needs_background": "light"
     },
     "output_type": "display_data"
    }
   ],
   "source": [
    "plt.figure(figsize=(15, 10))\n",
    "plt.scatter(npAbnormalX, npAbnormalprob, s=40)\n",
    "plt.show()"
   ]
  },
  {
   "cell_type": "markdown",
   "metadata": {},
   "source": [
    "## 计算正确率并存入json\n",
    "将每一个异常样本存入一个json文件中，文件名为“任务名&解调器名&时间点.json”。\n",
    "\n",
    "json结构如下：\n",
    "* “中频控制”元组\n",
    "    * 各个参数名及对应的参数值\n",
    "    * 正确率\n",
    "* “中频输入”元组\n",
    "* “载波同步”元组\n",
    "* “比特同步”元组\n",
    "* “维特比译码”元组\n",
    "* “帧同步”元组"
   ]
  },
  {
   "cell_type": "code",
   "execution_count": 280,
   "metadata": {},
   "outputs": [],
   "source": [
    "\"\"\"\n",
    "分路之前的各个部分对应的异常样本相同，分路之后的异常样本可能相比于分路之前的有所增加。\n",
    "以分路之前的各个部分的异常样本index为准，寻找其对应的记录在分路之后各个部分的原始参数值\n",
    "将每个记录各个阶段的参数键值对存入以该部分的名称为名的字典中，并在最后附加上该部分的正确率\n",
    "最终\n",
    "\"\"\"\n",
    "dictScores = {\"中频控制\": [], \"中频输入\": [], \"载波同步\": [], \"比特同步\": [], \"维特比译码\": [], \"帧同步\": []}\n",
    "dictIds = []\n",
    "dictValues = {\"中频控制\": [], \"中频输入\": [], \"载波同步\": [], \"比特同步\": [], \"维特比译码\": [], \"帧同步\": []}\n",
    "\n",
    "def fn_combiner(strSection):\n",
    "    dictScores[strSection].append(pdDfScores.values[:, 0])\n",
    "    dictValues[strSection].extend([dict(zip(pdDfSamples.columns, pdDfSamples.loc[strIndex, :])) \n",
    "         for strIndex in pdDfSamples.index])\n",
    "    \n",
    "def fn_separate(strSection, listFeatures):\n",
    "    dictScores[strSection].append(pdDfScores.values[:, 0])\n",
    "    dictValues[strSection].extend([dict(zip(listFeatures, pdDfSamples.loc[strIndex, listFeatures])) \n",
    "         for strIndex in pdDfSamples.index])\n",
    "\n",
    "for strJob in os.listdir(strJobsDir):\n",
    "    for strDemodDir in fn_getDemodDirsOfAJob(os.path.join(strJobsDir, strJob)):\n",
    "        strDemod = os.path.split(strDemodDir)[1]\n",
    "        strPartDir = os.path.join(strDemodDir, \"parts/sync\")\n",
    "        \"\"\"中频控制\"\"\"\n",
    "        pdDfScores = pd.read_csv(os.path.join(strPartDir, \"ifu/samples/abnormal/preprocessed/scores.csv\"), \\\n",
    "            index_col=\"RECTIME\")\n",
    "        pdDfSamples = pd.read_csv(os.path.join(strPartDir, \"ifu/samples/abnormal/samples.csv\"), index_col=\"RECTIME\")\n",
    "        fn_combiner(\"中频控制\")\n",
    "        oIndex = pdDfScores.index\n",
    "        dictIds.extend([strJob + \"&\" + strDemod + \"&\" + strIndex[-8:].replace(\":\", \"_\") for strIndex in oIndex])\n",
    "\n",
    "\n",
    "        \"\"\"中频输入\"\"\"\n",
    "        pdDfScores = pd.read_csv(os.path.join(strPartDir, \"input/samples/abnormal/preprocessed/scores.csv\"), \\\n",
    "            index_col=\"RECTIME\")\n",
    "        pdDfSamples = pd.read_csv(os.path.join(strPartDir, \"input/samples/abnormal/samples.csv\"), index_col=\"RECTIME\")\n",
    "        fn_combiner(\"中频输入\")\n",
    "\n",
    "        \"\"\"载波同步\"\"\"\n",
    "        pdDfScores = pd.read_csv(os.path.join(strPartDir, \"carrier/samples/abnormal/preprocessed/scores.csv\"), \\\n",
    "            index_col=\"RECTIME\")\n",
    "        pdDfSamples = pd.read_csv(os.path.join(strPartDir, \"carrier/samples/abnormal/samples.csv\"), index_col=\"RECTIME\")\n",
    "        fn_combiner(\"载波同步\")\n",
    "\n",
    "        \"\"\"比特同步\"\"\"\n",
    "        pdDfScores = pd.read_csv(os.path.join(strPartDir, \"bit/samples/abnormal/preprocessed/scores.csv\"), \\\n",
    "             index_col=\"RECTIME\")\n",
    "        pdDfSamples = pd.read_csv(os.path.join(strPartDir, \"bit/samples/abnormal/samples.csv\"), index_col=\"RECTIME\")\n",
    "        fn_combiner(\"比特同步\")\n",
    "\n",
    "        \"\"\"只读入I路\"\"\"\n",
    "        \"\"\"维特比译码\"\"\"\n",
    "        pdDfScores = pd.read_csv(os.path.join(strPartDir, \"vi/I/samples/abnormal/preprocessed/scores.csv\"), \\\n",
    "             index_col=\"RECTIME\").loc[oIndex, :]\n",
    "        pdDfSamples = pd.read_csv(os.path.join(strPartDir, \"vi/I/samples/abnormal/samples.csv\"), \\\n",
    "              index_col=\"RECTIME\").loc[oIndex, :]\n",
    "        fn_separate(\"维特比译码\", [\"DEMOD_VITERBIINPUT\", \"DEMOD_VITERBI1DECODER\",\\\n",
    "            \"DEMOD_VITERBI1TOTALBITNUMBER\", \"DEMOD_VITERBI1ERRORBITNUMBER\"])\n",
    "\n",
    "        \"\"\"帧同步\"\"\"\n",
    "        pdDfScores = pd.read_csv(os.path.join(strPartDir, \"frame/I/samples/abnormal/preprocessed/scores.csv\"), \\\n",
    "             index_col=\"RECTIME\").loc[oIndex, :]\n",
    "        pdDfSamples = pd.read_csv(os.path.join(strPartDir, \"frame/I/samples/abnormal/samples.csv\"), \\\n",
    "              index_col=\"RECTIME\").loc[oIndex, :]\n",
    "        fn_separate(\"帧同步\", [\"DPU_FRAMELEN1\", \"DPU_FRAMEHEADLEN1\", \"DPU_RECEIVEDFRAMECOUNTER1\", \\\n",
    "                     \"DPU_DROPOUTFRAMECOUNTER1\", \"DPU_TOTALBITNUMBER1\", \"DPU_ERRORBITNUMBER1\"])\n"
   ]
  },
  {
   "cell_type": "code",
   "execution_count": 273,
   "metadata": {},
   "outputs": [],
   "source": [
    "\"\"\"将各个部分的均值方差存入字典\"\"\"\n",
    "dictMeans = {\"中频控制\": fMeanifu, \"中频输入\": fMeaninput, \"载波同步\": fMeancarrier, \"比特同步\": fMeanbit, \\\n",
    "     \"维特比译码\": fMeanvi, \"帧同步\": fMeanframe}\n",
    "dictSigmas = {\"中频控制\": fSigmaifu, \"中频输入\": fSigmainput, \"载波同步\": fSigmacarrier, \"比特同步\": fSigmabit, \\\n",
    "     \"维特比译码\": fSigmavi, \"帧同步\": fSigmaframe}"
   ]
  },
  {
   "cell_type": "code",
   "execution_count": 274,
   "metadata": {},
   "outputs": [],
   "source": [
    "\"\"\"对异常样本的分数计算正确概率\"\"\"\n",
    "dictProbs = {}\n",
    "\n",
    "for strPara in [\"中频控制\", \"中频输入\", \"载波同步\", \"比特同步\", \"维特比译码\", \"帧同步\"]:\n",
    "    dictProbs[strPara] = \\\n",
    "        [100 if s <= dictMeans[strPara] else ss.norm.sf(s, dictMeans[strPara], dictSigmas[strPara]) * 100 \\\n",
    "             for s in np.concatenate(dictScores[strPara]).astype(np.float32)]"
   ]
  },
  {
   "cell_type": "code",
   "execution_count": 283,
   "metadata": {},
   "outputs": [],
   "source": [
    "\"\"\"将每个异常样本的各个部分参数的原始值和对应的正确概率存入一个json文件\"\"\"\n",
    "strJsonDir = \"../probs\"\n",
    "if os.path.exists(strJsonDir):\n",
    "    shutil.rmtree(strJsonDir)\n",
    "os.mkdir(strJsonDir)\n",
    "\n",
    "for i in range(len(dictIds)):\n",
    "    dictJson = {}\n",
    "    for strPara in [\"中频控制\", \"中频输入\", \"载波同步\", \"比特同步\", \"维特比译码\", \"帧同步\"]:\n",
    "        dictJson[strPara] = dictValues[strPara][i].copy()\n",
    "        dictJson[strPara][\"正常概率\"] = dictProbs[strPara][i]\n",
    "    strJson = json.dumps(dictJson, ensure_ascii=False)\n",
    "    with open(os.path.join(strJsonDir, dictIds[i] + \".json\"), \"wb\") as f:\n",
    "        f.write(str.encode(strJson))"
   ]
  },
  {
   "cell_type": "code",
   "execution_count": 284,
   "metadata": {},
   "outputs": [
    {
     "name": "stdout",
     "output_type": "stream",
     "text": [
      "JOB202001163324240&KJ_HDemodQH2&15_05_11\n"
     ]
    }
   ],
   "source": [
    "for i in range(len(dictIds)):\n",
    "    dictJson = {}\n",
    "    if dictProbs[\"帧同步\"][i] > 0.9:\n",
    "        print(dictIds[i])"
   ]
  }
 ],
 "metadata": {
  "kernelspec": {
   "display_name": "Python 3",
   "language": "python",
   "name": "python3"
  },
  "language_info": {
   "codemirror_mode": {
    "name": "ipython",
    "version": 3
   },
   "file_extension": ".py",
   "mimetype": "text/x-python",
   "name": "python",
   "nbconvert_exporter": "python",
   "pygments_lexer": "ipython3",
   "version": "3.7.4"
  },
  "toc": {
   "base_numbering": 1,
   "nav_menu": {},
   "number_sections": true,
   "sideBar": true,
   "skip_h1_title": false,
   "title_cell": "Table of Contents",
   "title_sidebar": "Contents",
   "toc_cell": false,
   "toc_position": {
    "height": "calc(100% - 180px)",
    "left": "10px",
    "top": "150px",
    "width": "307.188px"
   },
   "toc_section_display": true,
   "toc_window_display": true
  }
 },
 "nbformat": 4,
 "nbformat_minor": 2
}
