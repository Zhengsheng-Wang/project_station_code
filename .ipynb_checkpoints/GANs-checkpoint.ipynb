{
 "cells": [
  {
   "cell_type": "markdown",
   "metadata": {},
   "source": [
    "# 准备工作"
   ]
  },
  {
   "cell_type": "code",
   "execution_count": 117,
   "metadata": {},
   "outputs": [],
   "source": [
    "import pdb, os, shutil, datetime, math, sys, time, re"
   ]
  },
  {
   "cell_type": "code",
   "execution_count": 120,
   "metadata": {},
   "outputs": [],
   "source": [
    "import zipfile"
   ]
  },
  {
   "cell_type": "code",
   "execution_count": 20,
   "metadata": {},
   "outputs": [],
   "source": [
    "import scipy.stats as ss"
   ]
  },
  {
   "cell_type": "code",
   "execution_count": 21,
   "metadata": {},
   "outputs": [],
   "source": [
    "import json"
   ]
  },
  {
   "cell_type": "code",
   "execution_count": 60,
   "metadata": {},
   "outputs": [],
   "source": [
    "import lxml.etree as etree"
   ]
  },
  {
   "cell_type": "code",
   "execution_count": 22,
   "metadata": {},
   "outputs": [],
   "source": [
    "import matplotlib.pyplot as plt"
   ]
  },
  {
   "cell_type": "code",
   "execution_count": 16,
   "metadata": {},
   "outputs": [],
   "source": [
    "import numpy as np\n",
    "import pandas as pd"
   ]
  },
  {
   "cell_type": "code",
   "execution_count": 15,
   "metadata": {},
   "outputs": [],
   "source": [
    "import tensorflow as tf"
   ]
  },
  {
   "cell_type": "code",
   "execution_count": 254,
   "metadata": {},
   "outputs": [],
   "source": [
    "from sklearn import preprocessing"
   ]
  },
  {
   "cell_type": "code",
   "execution_count": 131,
   "metadata": {},
   "outputs": [],
   "source": [
    "jobsdir = \"../jobs_nobranch\"\n",
    "zipsdir = \"../zips\""
   ]
  },
  {
   "cell_type": "markdown",
   "metadata": {},
   "source": [
    "# 工具"
   ]
  },
  {
   "cell_type": "markdown",
   "metadata": {},
   "source": [
    "## 获取路径"
   ]
  },
  {
   "cell_type": "code",
   "execution_count": 289,
   "metadata": {},
   "outputs": [],
   "source": [
    "\"\"\"\n",
    "返回：解调器文件路径、参数具有某一值的状态或控制文件的路径、返回某卫星得任务路径\n",
    "\"\"\"\n",
    "def getdirs(feature=None, value=None, jobdir=None, sat=None):\n",
    "    # job下的所有解调器文件路径\n",
    "    if jobdir:\n",
    "        return [os.path.join(jobdir, demodname) for demodname in os.listdir(jobdir) if \"Demod\" in demodname]\n",
    "    # 返回某卫星得任务路径\n",
    "    elif sat:\n",
    "        jobdirs = []\n",
    "        for job in os.listdir(jobsdir):\n",
    "            jobdir = os.path.join(jobsdir, job)\n",
    "            tree = etree.parse(os.path.join(jobdir, \"work_sch.xml\"))\n",
    "            if tree.find(\"./content/satelliteName\").text == sat:\n",
    "                jobdirs.append(jobdir)\n",
    "        return jobdirs\n",
    "    # feature参数具有value值得文件路径\n",
    "    else:\n",
    "        assert (feature and value)\n",
    "        demodirs = []\n",
    "        for job in os.listdir(jobsdir):\n",
    "            for demodir in get_dirs(jobdir=os.path.join(jobsdir, job)):\n",
    "                status = pd.read_csv(os.path.join(demodir, \"valid/status.csv\"), index_col=\"RECTIME\")\n",
    "                if value in list(status.loc[:, feature]):\n",
    "                    demodirs.append(demodir)\n",
    "        return demodirs"
   ]
  },
  {
   "cell_type": "markdown",
   "metadata": {},
   "source": [
    "## 辅助观察数据的方法"
   ]
  },
  {
   "cell_type": "markdown",
   "metadata": {},
   "source": [
    "### 查找控制或状态参数的全部值"
   ]
  },
  {
   "cell_type": "code",
   "execution_count": 441,
   "metadata": {},
   "outputs": [],
   "source": [
    "def getvalue(feature, partfile):\n",
    "    features_set = set()\n",
    "    for job in os.listdir(jobsdir):\n",
    "        for demodir in getdirs(jobdir=os.path.join(jobsdir, job)):\n",
    "            file = os.path.join(demodir, partfile)\n",
    "            try:\n",
    "                status = pd.read_csv(file, index_col=\"RECTIME\")\n",
    "                for row in status.loc[:, feature]:\n",
    "                    features_set.add(row)\n",
    "            except:\n",
    "                # 如果该文件里没有查询的参数名，输出文件名\n",
    "                print(demodir)\n",
    "    return features_set"
   ]
  },
  {
   "cell_type": "markdown",
   "metadata": {},
   "source": [
    "# 预处理"
   ]
  },
  {
   "cell_type": "markdown",
   "metadata": {},
   "source": [
    "## 读入任务配置文件"
   ]
  },
  {
   "cell_type": "markdown",
   "metadata": {},
   "source": [
    "### 读入任务计划文件\n",
    "\n",
    "首先清空jobs文件夹。\\\n",
    "WorkSch文件中存放了提前计算出的预计接收开始和结束时间。需利用这个接收开始和结束时间截取出有效时间段。\\\n",
    "可能有多个WorkSch文件，根据它的createdTime选择最新的WorkSch文件。"
   ]
  },
  {
   "cell_type": "code",
   "execution_count": 139,
   "metadata": {},
   "outputs": [],
   "source": [
    "\"\"\"存储zip文件名的链表\"\"\"\n",
    "\n",
    "#pattern = re.compile(r\"Status_.*?Demod((QH)|(RW))[0-9]+?\\.csv\")\n",
    "# 清华解调器的正则\n",
    "pattern = re.compile(r\"Status_.*?Demod(QH)[0-9]+?\\.csv\")\n",
    "\n",
    "zips = [] # 将清华解调器的zip文件路劲存入这个链表中\n",
    "for zipname in os.listdir(zipsdir):\n",
    "    zipath = os.path.join(zipsdir, zipname)\n",
    "    with zipfile.ZipFile(zipath) as zip_opened:\n",
    "        for path in zip_opened.namelist():\n",
    "            if pattern.search(path):\n",
    "                # 如果是清华或者融为解调器的状态文件\n",
    "                zips.append(zipname)\n",
    "zips = list(set(zips))"
   ]
  },
  {
   "cell_type": "code",
   "execution_count": 146,
   "metadata": {},
   "outputs": [],
   "source": [
    "if os.path.exists(jobsdir):\n",
    "    shutil.rmtree(jobsdir)\n",
    "os.mkdir(jobsdir)\n",
    "\n",
    "for zipname in zips:\n",
    "    newest = pd.Timestamp(\"1970-1-1\")\n",
    "    jobdir = os.path.join(jobsdir, os.path.splitext(os.path.split(zipname)[-1])[0])\n",
    "    os.mkdir(jobdir)\n",
    "    \n",
    "    zipath = os.path.join(zipsdir, zipname)\n",
    "    with zipfile.ZipFile(zipath) as zip_opened:\n",
    "        for path in zip_opened.namelist():\n",
    "            if \"WorkSch_TASK\" in path:\n",
    "                workschfile = os.path.join(jobdir, \"work_sch.xml\")\n",
    "                with zip_opened.open(path) as f:\n",
    "                    tree = etree.parse(f)\n",
    "                    # f 文件对象只能在parse中使用一次\n",
    "                    # 找到文件创建时间\n",
    "                    created = pd.Timestamp(\n",
    "                            tree.find(\"./fileHeader/createdTime\").text)\n",
    "                    if created > newest:\n",
    "                    # 提取最新的文件\n",
    "                        newest = created\n",
    "                        tree.write(workschfile)"
   ]
  },
  {
   "cell_type": "markdown",
   "metadata": {},
   "source": [
    "### 读入设备列表文件\n",
    "任务所用的所有设备都在列表文件里。要根据文件中对设备状态文件的属于的设备的描述提取出用于数据接收传输的设备状态文件"
   ]
  },
  {
   "cell_type": "code",
   "execution_count": 148,
   "metadata": {},
   "outputs": [],
   "source": [
    "for zipname in zips:\n",
    "    jobdir = os.path.join(jobsdir, os.path.splitext(os.path.split(zipname)[-1])[0])\n",
    "    zipath = os.path.join(zipsdir, zipname)\n",
    "    with zipfile.ZipFile(zipath) as zip_opened:\n",
    "        for path in zip_opened.namelist():\n",
    "            if \"DeviceList\" in path:\n",
    "                file = os.path.join(jobdir, \"device_list.xml\")\n",
    "                with zip_opened.open(path) as f:\n",
    "                    with open(file, \"wb\") as f1:\n",
    "                        f1.write(f.read())"
   ]
  },
  {
   "cell_type": "markdown",
   "metadata": {},
   "source": [
    "## 解调器预处理描述\n",
    "\n",
    "1. 根据任务的设备列表文件找到解调器的设备ID\n",
    "2. 利用设备ID找到解调器的设备状态文件和控制文件，并保存\n",
    "3. 从任务的任务计划文件中读出接收的开始和结束时间，利用接收时间段截取出有效时间段内的记录\n",
    "4. 将解调器的状态参数按照信号处理流程划分为数个最小模块\n",
    "5. 针对每个最小模块产生训练样本和测试样本"
   ]
  },
  {
   "cell_type": "markdown",
   "metadata": {},
   "source": [
    "## 载入设备状态文件和控制文件\n",
    "\n",
    "1. 清空原有的设备文件夹。\n",
    "2. 在设备列表文件中找到解调器设备ID\n",
    "3. 将相应设备状态文件载入设备文件夹\n",
    "\n",
    "执行完成后，任务文件夹里多出如下文件：\n",
    "* 任务名/\n",
    "    * 解调器名/\n",
    "        * raw/\n",
    "            * status.csv\n",
    "        * control.csv"
   ]
  },
  {
   "cell_type": "code",
   "execution_count": 149,
   "metadata": {},
   "outputs": [],
   "source": [
    "# 从zip文件中解压缩具有设备的状态文件，存入raw\n",
    "def extractfiles(jobdir, ID, zipath):\n",
    "    statusfile = \"Status_\" + ID\n",
    "    with zipfile.ZipFile(zipath) as zip_opened:\n",
    "        for path in zip_opened.namelist():\n",
    "            # 迭代找到zip文件里的解调器的状态文件和控制参数文件\n",
    "            if \"Status_\" + ID in path:\n",
    "                # 状态文件\n",
    "                with zip_opened.open(path) as f:\n",
    "                    with open(os.path.join(jobdir, ID + \"/raw/status.csv\"), \"wb\") as f1:\n",
    "                        f1.write(f.read())\n",
    "            elif \"Control_\" + ID in path:\n",
    "                # 控制文件\n",
    "                with zip_opened.open(path) as f:\n",
    "                    with open(os.path.join(jobdir, ID + \"/control.csv\"), \"wb\") as f1:\n",
    "                        f1.write(f.read())\n",
    "\n",
    "for job in os.listdir(jobsdir):\n",
    "    jobdir = os.path.join(jobsdir, job)\n",
    "    # 删除原有的解调器文件夹\n",
    "    for demodname in os.listdir(jobdir):\n",
    "        if \"Demod\" in demodname:\n",
    "            demodir = os.path.join(jobdir, demodname)\n",
    "            shutil.rmtree(demodir)\n",
    "    \n",
    "    zipath = os.path.join(zipsdir, job + \".zip\")\n",
    "    devicelist = os.path.join(jobdir, \"device_list.xml\")\n",
    "    tree = etree.parse(devicelist)\n",
    "    devices = tree.findall(\"./content/deviceList/Device\")\n",
    "    for device in devices:\n",
    "        ID = device.find(\"DevID\").text\n",
    "        if \"Demod\" in ID:\n",
    "            # 新建解调器文件raw文件夹\n",
    "            os.makedirs(os.path.join(jobdir, ID + \"/raw\"))\n",
    "            extractfiles(jobdir, ID, zipath)"
   ]
  },
  {
   "cell_type": "markdown",
   "metadata": {},
   "source": [
    "## 截取出有效接收时间范围内的记录\n",
    "\n",
    "1. 首先清空每个解调器文件夹下的valid文件夹\n",
    "2. 然后从work_sch.xml文件中读入数据接收的有效时间段\n",
    "3. 根据有效时间段截取每个解调器的设备状态文件的有效记录，存入valid文件夹\n",
    "执行完成后，任务文件里多出了如下文件：\n",
    "* 任务名/\n",
    "    * 解调器名/\n",
    "        * valid/\n",
    "            * status.csv"
   ]
  },
  {
   "cell_type": "code",
   "execution_count": 150,
   "metadata": {},
   "outputs": [],
   "source": [
    "# 从任务文件夹中提取计划的接收任务开始时间和结束时间\n",
    "def getvalidinterval(jobdir):\n",
    "    workschfile = os.path.join(jobdir, \"work_sch.xml\")\n",
    "    tree = etree.parse(workschfile)\n",
    "    startime = \"./content/equipmentInfo/receivingStartTime\"\n",
    "    endtime = \"./content/equipmentInfo/receivingEndTime\"\n",
    "    startime = pd.Timestamp(tree.find(startime).text)\n",
    "    endtime = pd.Timestamp(tree.find(endtime).text)\n",
    "    return startime, endtime\n",
    "\n",
    "# 利用任务的计划接收开始和结束时间截取解调器的有效状态\n",
    "def extract_records(startime, endtime, statusdir):\n",
    "    validir = os.path.join(statusdir, \"valid\")\n",
    "    if os.path.exists(validir):\n",
    "            shutil.rmtree(validir)\n",
    "    os.mkdir(validir)\n",
    "\n",
    "    raw = pd.read_csv(os.path.join(statusdir, \"raw/status.csv\"), index_col=\"RECTIME\")\n",
    "    index = pd.Series(data=raw.index).apply(lambda t: pd.Timestamp(t))\n",
    "    # 在用值为bool的series作为索引之前，要把series转化为list\n",
    "    index = (index >= startime) & (index <= endtime)\n",
    "    valid = raw.loc[index.values, :]\n",
    "    valid.to_csv(os.path.join(validir, \"status.csv\"), index_label=\"RECTIME\")\n",
    "\n",
    "# 截取\n",
    "for job in os.listdir(jobsdir):\n",
    "    jobdir = os.path.join(jobsdir, job)\n",
    "    startime, endtime = getvalidinterval(jobdir)\n",
    "\n",
    "    for demodir in getdirs(jobdir=jobdir):\n",
    "        extract_records(startime,endtime, demodir)"
   ]
  },
  {
   "cell_type": "markdown",
   "metadata": {},
   "source": [
    "## 工具"
   ]
  },
  {
   "cell_type": "markdown",
   "metadata": {},
   "source": [
    "### 得到解调器的正常记录index\n",
    "当一条记录的两个帧同步锁都锁上的时候说明该记录在帧同步锁之前的各个阶段均正常，即帧同步锁之前的各个部分用作正常训练样本。曾经考虑对于分路帧同步的情况，如果分路中某一个同步锁锁上了，则可以认为该记录在维特比译码之前各个阶段均正常，但是在分路的情况下，只有一个分路的帧同步锁上比方说I路，不能说明在分路之前的所有阶段均正确，所以舍弃这种做法。"
   ]
  },
  {
   "cell_type": "code",
   "execution_count": 153,
   "metadata": {},
   "outputs": [],
   "source": [
    "\"\"\"正常样本和异常样本的索引。\n",
    "清华解调器和融为解调器的帧同步合分的开关参数名称相同。\n",
    "如果任务为分路帧同步，则需要I路和Q路的帧同步锁都锁上，才为正常样本；\n",
    "如果任务为合路帧同步，则只需要I路的帧同步锁锁上，就为正常样本\"\"\"\n",
    "def getnormalindex(demodir):\n",
    "    # 都锁上\n",
    "    def isalltrue(arr):\n",
    "        for b in arr:\n",
    "                if not b:\n",
    "                    return False\n",
    "        return True\n",
    "    \n",
    "    validstatus = pd.read_csv(os.path.join(demodir, \"valid/status.csv\"), index_col=\"RECTIME\")\n",
    "    control = pd.read_csv(os.path.join(demodir, \"control.csv\"), index_col=\"RECTIME\")\n",
    "    if control[\"DEMOD_FRAMESYNCINPUT\"][0] == 1:\n",
    "        # 合路，只需要I路的帧同步锁锁上即可\n",
    "        normalindex = (validstatus[\"DPU_FRAMESYNCSTATUS1\"] == 2).values\n",
    "        return normalindex, ~normalindex\n",
    "    elif control[\"DEMOD_FRAMESYNCINPUT\"][0] == 2:\n",
    "        # 分路，需要I、Q两路的帧同步锁都锁上\n",
    "        normalindex = (validstatus.loc[:, [\"DPU_FRAMESYNCSTATUS1\", \"DPU_FRAMESYNCSTATUS2\"]] == 2).values\n",
    "        normalindex = np.apply_along_axis(isalltrue, 1, normalindex)\n",
    "        return normalindex, ~normalindex\n",
    "    else:\n",
    "        # 不做帧同步，直接返回空的numpy数组\n",
    "        assert(control[\"DEMOD_FRAMESYNCINPUT\"][0] == 0)\n",
    "        return np.array([]), np.array([])   "
   ]
  },
  {
   "cell_type": "markdown",
   "metadata": {},
   "source": [
    "### 按照 index拼接样本csv\n",
    "为了解决前后两部分的“生成样本”时，相同的参数在两部分的处理工作重复的问题，设计该函数，把两个dataframe按照前一个打他frame的index进行拼接"
   ]
  },
  {
   "cell_type": "code",
   "execution_count": 161,
   "metadata": {},
   "outputs": [],
   "source": [
    "\"\"\"第一个参数是基准样本文件的文件路径；第二个参数是拼接样本文件的文件路径\"\"\"\n",
    "def concatbyindex(path1, path2):\n",
    "    samples1 = pd.read_csv(path1, index_col=\"RECTIME\")\n",
    "    samples2 = pd.read_csv(path2, index_col=\"RECTIME\")\n",
    "    \n",
    "    return pd.concat([samples1, samples2], axis=1, sort=False, join=\"inner\")"
   ]
  },
  {
   "cell_type": "markdown",
   "metadata": {},
   "source": [
    "### 提取属于某一阶段的参数"
   ]
  },
  {
   "cell_type": "code",
   "execution_count": 418,
   "metadata": {},
   "outputs": [],
   "source": [
    "def extract_features():\n",
    "    for job in os.listdir(jobsdir):\n",
    "        for demodir in getdirs(jobdir=os.path.join(jobsdir, job)):\n",
    "            sectiondir = os.path.join(demodir, partsectiondir)\n",
    "            if os.path.exists(sectiondir):\n",
    "                shutil.rmtree(sectiondir)\n",
    "            os.mkdir(sectiondir)\n",
    "    \n",
    "            # 读入有效解调器设备状态参数\n",
    "            validstatus = pd.read_csv(os.path.join(demodir, \"valid/status.csv\"), index_col=\"RECTIME\")\n",
    "            validstatus[features].to_csv(os.path.join(sectiondir, \"status.csv\"), index_label=\"RECTIME\")"
   ]
  },
  {
   "cell_type": "markdown",
   "metadata": {},
   "source": [
    "### 更改二元属性值\n",
    "把各个二元属性的取值都改为0或1，存入regularized文件夹里\n",
    "\n",
    "利用一个存放二元属性名和对应的应该为1的属性值的字典对原有数据进行更改， 形状如下：\\\n",
    "mappings = {\"name1\": 2, \"name2\": 2}"
   ]
  },
  {
   "cell_type": "code",
   "execution_count": 439,
   "metadata": {},
   "outputs": [],
   "source": [
    "def regularize():\n",
    "    for job in os.listdir(jobsdir):\n",
    "        for demodir in getdirs(jobdir=os.path.join(jobsdir, job)):\n",
    "            srcfile = os.path.join(demodir, partsrcfile)\n",
    "            \n",
    "            status = pd.read_csv(srcfile, index_col=\"RECTIME\")\n",
    "            for key, value in mappings.items():\n",
    "                col = status.loc[:, key]\n",
    "                result = np.zeros(col.size)\n",
    "                result[col == value] = 1\n",
    "                status.loc[:, key] = result\n",
    "                \n",
    "            regularizedir = os.path.join(os.path.join(demodir, partsectiondir), \"regularized\")\n",
    "            if os.path.exists(regularizedir):\n",
    "                shutil.rmtree(regularizedir)\n",
    "            os.mkdir(regularizedir)\n",
    "            status.to_csv(os.path.join(regularizedir, \"status.csv\"), index_label=\"RECTIME\")"
   ]
  },
  {
   "cell_type": "markdown",
   "metadata": {},
   "source": [
    "### 独热编码\n",
    "用独热编码后的二元属性列代替原来的离散属性列\n",
    "\n",
    "输入待独热编码的dataframe；编码规则——{keyname: [(name0, val0), (name1, val1), ..., (namek, valk)]}。\n",
    "\n",
    "例如，如果keyname具有{0，1，2}三个取值，并且输入编码规则为：keyname: [(name0, 0), (name1, 1), (name2, 2)]那么输出的dataframe中不包含keyname列，取而代之的是name0、name1、name2三个列。当keyname取值为0时name0为1，其余两个属性为0；当keyname取值为1时name1为1、其余两个属性为0；当keyname取值为2时，其余两个属性为0"
   ]
  },
  {
   "cell_type": "code",
   "execution_count": 223,
   "metadata": {},
   "outputs": [],
   "source": [
    "\"\"\"传入待独热编码的dataframe。\n",
    "各个待编码的属性名和该属性名对应的取值{name: [(newname0, val0), (newname1, val1), ...]}\"\"\"\n",
    "def onehot(status, **params):\n",
    "    for keyname, rules in params.items():\n",
    "        print(keyname, rules)\n",
    "        for rule in rules:\n",
    "            status[rule[0]] = (status[keyname].eq(rule[1])).astype(\"int32\")\n",
    "        status.drop(keyname, inplace=True, axis=1)\n",
    "    return status"
   ]
  },
  {
   "cell_type": "markdown",
   "metadata": {},
   "source": [
    "### 生成样本\n",
    "通过帧同步锁产生正常和异常样本，或者根据前一部分的样本分别生成正常样本和异常样本"
   ]
  },
  {
   "cell_type": "code",
   "execution_count": 447,
   "metadata": {},
   "outputs": [],
   "source": [
    "def generate_samples():\n",
    "    for job in os.listdir(jobsdir):\n",
    "        for demodir in getdirs(jobdir=os.path.join(jobsdir, job)):\n",
    "            # 读入该阶段的数据\n",
    "            sectiondir = os.path.join(demodir, partsectiondir)\n",
    "            sectionstatus = pd.read_csv(os.path.join(sectiondir, \"status.csv\"), index_col=\"RECTIME\")\n",
    "            # 清空输入部分样本文件夹\n",
    "            \n",
    "            sampledir = os.path.join(demodir, partsampledir)\n",
    "            if os.path.exists(sampledir):\n",
    "                shutil.rmtree(sampledir)\n",
    "            os.mkdir(sampledir)\n",
    "            \n",
    "            # 新建样本文件夹\n",
    "            os.makedirs(os.path.join(sampledir, \"normal/train\"))\n",
    "            os.mkdir(os.path.join(sampledir, \"abnormal\"))\n",
    "            \n",
    "            # 如果是第一阶段\n",
    "            if not partlastsampledir:\n",
    "                # 根据帧同步锁产生正常记录和异常记录的indexes\n",
    "                normalindex, abnormalindex = getnormalindex(demodir)\n",
    "                sectionstatus.loc[normalindex, :].to_csv(os.path.join(sampledir, \"normal/train/samples.csv\"), \\\n",
    "                    index_label=\"RECTIME\")\n",
    "                sectionstatus.loc[abnormalindex, :].to_csv(os.path.join(sampledir, \"abnormal/samples.csv\"), \\\n",
    "                    index_label=\"RECTIME\")\n",
    "            # 如果是下面的阶段\n",
    "            else:\n",
    "                lastsampledir = os.path.join(demodir, partlastsampledir)\n",
    "\n",
    "                normalsamples = concatbyindex(os.path.join(lastsampledir, \"normal/train/samples.csv\"), \\\n",
    "                    os.path.join(sectiondir, \"status.csv\"))\n",
    "                normalsamples.to_csv(os.path.join(sampledir, \"normal/train/samples.csv\"), index_label=\"RECTIME\")\n",
    "                abnormalsamples = concatbyindex(os.path.join(lastsampledir, \"abnormal/samples.csv\"), \\\n",
    "                    os.path.join(sectiondir, \"status.csv\"))\n",
    "                abnormalsamples.to_csv(os.path.join(sampledir, \"abnormal/samples.csv\"), index_label=\"RECTIME\")"
   ]
  },
  {
   "cell_type": "markdown",
   "metadata": {},
   "source": [
    "### 正则化"
   ]
  },
  {
   "cell_type": "code",
   "execution_count": 454,
   "metadata": {},
   "outputs": [],
   "source": [
    "\"\"\"输出拟合好的正则化器\"\"\"\n",
    "def makescaler():\n",
    "    trainsamples = []\n",
    "    part_train_sample_file = os.path.join(partsectiondir, \"samples/normal/train/samples.csv\")\n",
    "    for job in os.listdir(jobsdir):\n",
    "        for demodir in getdirs(jobdir=os.path.join(jobsdir, job)):\n",
    "            trainsample = pd.read_csv(os.path.join(demodir, part_train_sample_file), index_col=\"RECTIME\")\n",
    "            trainsamples.append(trainsample)\n",
    "    trainsamples = pd.concat(trainsamples)\n",
    "    # 拟合\n",
    "    # 正则化器\n",
    "    scaler = preprocessing.MinMaxScaler()\n",
    "    scaler.fit(trainsamples.loc[:, normfeatures])\n",
    "    return scaler\n",
    "\n",
    "\"\"\"用正则化器正则化训练样本和异常样本\"\"\"\n",
    "def scalesamples():\n",
    "    # 构造正则化器\n",
    "    scaler = makescaler()\n",
    "    for job in os.listdir(jobsdir):\n",
    "        for demodir in getdirs(jobdir=os.path.join(jobsdir, job)):\n",
    "            # 该部分的文件夹\n",
    "            sectiondir = os.path.join(demodir, partsectiondir)\n",
    "            \n",
    "            # 正则化正常训练集\n",
    "            prepdir = os.path.join(sectiondir, \"samples/normal/train/preprocessed\")\n",
    "            if os.path.exists(prepdir):\n",
    "                shutil.rmtree(prepdir)\n",
    "            os.mkdir(prepdir)\n",
    "            samples = pd.read_csv(os.path.join(sectiondir, \"samples/normal/train/samples.csv\"), index_col=\"RECTIME\")\n",
    "            \n",
    "            if not samples.empty:\n",
    "                samples.loc[:, normfeatures] = scaler.transform(samples.loc[:, normfeatures])\n",
    "            \"\"\"输出到磁盘的时候应该去除index，因为后面的tf在读取训练数据时不能识别字符串数据\"\"\"\n",
    "            samples.to_csv(os.path.join(prepdir, \"samples.csv\"), index=False)\n",
    "            \n",
    "            \n",
    "            # 正则化异常测试集\n",
    "            prepdir = os.path.join(sectiondir, \"samples/abnormal/preprocessed\")\n",
    "            if os.path.exists(prepdir):\n",
    "                shutil.rmtree(prepdir)\n",
    "            os.mkdir(prepdir)\n",
    "            samples = pd.read_csv(os.path.join(sectiondir, \"samples/abnormal/samples.csv\"), index_col=\"RECTIME\")\n",
    "            \n",
    "            if not samples.empty:\n",
    "                samples.loc[:, normfeatures] = scaler.transform(samples.loc[:, normfeatures])\n",
    "            samples.to_csv(os.path.join(prepdir, \"samples.csv\"), index_label=\"RECTIME\")"
   ]
  },
  {
   "cell_type": "markdown",
   "metadata": {},
   "source": [
    "## 划分描述\n",
    "解调译码过程按照信号处理流程包含如下阶段：\n",
    "* 中频输入\n",
    "* 载波同步\n",
    "* 比特同步\n",
    "* 维特比译码（I/Q路）\n",
    "* 帧同步（I/Q路）\n",
    "* 译码和解扰（I/Q路）\n",
    "\n",
    "新建parts文件夹，存放各部分的数据集"
   ]
  },
  {
   "cell_type": "code",
   "execution_count": 151,
   "metadata": {},
   "outputs": [],
   "source": [
    "for job in os.listdir(jobsdir):\n",
    "    for demodir in getdirs(jobdir=os.path.join(jobsdir, job)):\n",
    "        partsdir = os.path.join(demodir, \"parts\")\n",
    "        if os.path.exists(partsdir):\n",
    "            shutil.rmtree(partsdir)\n",
    "        os.mkdir(partsdir)"
   ]
  },
  {
   "cell_type": "markdown",
   "metadata": {},
   "source": [
    "## 帧同步锁前\n",
    "以帧同步锁为界限，把解调器的解调译码阶段分为两部分——帧同步锁前、帧同步锁后。\n",
    "\n",
    "建立空的sync文件夹，存放帧同步锁前的数据集\n",
    "\n",
    "执行后，文件结构如下：\n",
    "* 任务名/\n",
    "    * 解调器名/\n",
    "        * parts/\n",
    "            * sync/"
   ]
  },
  {
   "cell_type": "code",
   "execution_count": 152,
   "metadata": {},
   "outputs": [],
   "source": [
    "for job in os.listdir(jobsdir):\n",
    "    for demodir in getdirs(jobdir=os.path.join(jobsdir, job)):\n",
    "        syncdir = os.path.join(demodir, \"parts/sync\")\n",
    "        if os.path.exists(syncdir):\n",
    "            shutil.rmtree(syncdir)\n",
    "        os.mkdir(syncdir)"
   ]
  },
  {
   "cell_type": "markdown",
   "metadata": {},
   "source": [
    "### 中频输入"
   ]
  },
  {
   "cell_type": "markdown",
   "metadata": {},
   "source": [
    "#### 载入数据\n",
    "建立空的input文件夹, 并将valid中的属于输入部分的状态参数存入status.csv"
   ]
  },
  {
   "cell_type": "code",
   "execution_count": 246,
   "metadata": {},
   "outputs": [],
   "source": [
    "inputfeatures = [\"DEMOD_IFLEVEL\", \"DEMOD_EBNOVALUE\"]\n",
    "features = inputfeatures.copy()\n",
    "partsectiondir = \"parts/sync/input\"\n",
    "extract_features()"
   ]
  },
  {
   "cell_type": "markdown",
   "metadata": {},
   "source": [
    "#### 生成样本\n",
    "利用帧同步锁生成正常训练样本和异常样本。该步进行完成后，文件夹具有如下结构：\n",
    "* parts/\n",
    "    * sync/\n",
    "        * input/\n",
    "            * status.csv\n",
    "            * samples/\n",
    "                * normal/\n",
    "                    * train/\n",
    "                        * samples.csv\n",
    "                * abnormal/\n",
    "                    * samples.csv"
   ]
  },
  {
   "cell_type": "code",
   "execution_count": 449,
   "metadata": {},
   "outputs": [],
   "source": [
    "partsectiondir = \"parts/sync/input\"\n",
    "partsampledir = \"parts/sync/input/samples\"\n",
    "partlastsampledir = None\n",
    "generate_samples()"
   ]
  },
  {
   "cell_type": "markdown",
   "metadata": {},
   "source": [
    "#### 正则化\n",
    "用正则化器适应训练集，再用正则化器去正则化训练集和测试集中的数值属性。将转化的结果存入preprocessed文件夹。该步执行完后，具有的文件夹结构如下：\n",
    "* input/\n",
    "    * samples/\n",
    "        * normal/\n",
    "            * train/\n",
    "                * samples.csv\n",
    "                * preprocessed/\n",
    "                    * samples.csv\n",
    "            * test/\n",
    "                * samples.csv\n",
    "                * preprocessed/\n",
    "                    * samples.csv\n",
    "        * abnormal/\n",
    "            * samples.csv\n",
    "            * preprocessed/\n",
    "                * samples.csv"
   ]
  },
  {
   "cell_type": "code",
   "execution_count": 455,
   "metadata": {},
   "outputs": [],
   "source": [
    "partsectiondir = \"parts/sync/input\"\n",
    "normfeatures = inputfeatures\n",
    "scalesamples()"
   ]
  },
  {
   "cell_type": "markdown",
   "metadata": {},
   "source": [
    "### 载波同步"
   ]
  },
  {
   "cell_type": "markdown",
   "metadata": {},
   "source": [
    "#### 载入数据"
   ]
  },
  {
   "cell_type": "code",
   "execution_count": 434,
   "metadata": {},
   "outputs": [],
   "source": [
    "carrierfeatures = [\"DEMOD_CARRIEROFFSET\", \"DEMOD_CARRIERLOCK\"]\n",
    "features = carrierfeatures.copy()\n",
    "partsectiondir = \"parts/sync/carrier\"\n",
    "extract_features()"
   ]
  },
  {
   "cell_type": "markdown",
   "metadata": {},
   "source": [
    "#### 更改二元属性值"
   ]
  },
  {
   "cell_type": "markdown",
   "metadata": {},
   "source": [
    "DEMOD_CARRIERLOCK属性为锁上时为2，没锁上为1，在此将锁上改为用1表示：\n",
    "1. 将属性等于2的值改为1\n",
    "2. 将属性等于其它值的域改为0\n",
    "\n",
    "执行完成后文件结构如下：\n",
    "* sync/\n",
    "    * carrier/\n",
    "        * status.csv\n",
    "        * regularized/\n",
    "            * status.csv"
   ]
  },
  {
   "cell_type": "code",
   "execution_count": 440,
   "metadata": {},
   "outputs": [],
   "source": [
    "partsrcfile = \"parts/sync/carrier/status.csv\"\n",
    "mappings = {\"DEMOD_CARRIERLOCK\": 2}\n",
    "regularize()"
   ]
  },
  {
   "cell_type": "markdown",
   "metadata": {},
   "source": [
    "#### 生成样本"
   ]
  },
  {
   "cell_type": "code",
   "execution_count": 462,
   "metadata": {},
   "outputs": [],
   "source": [
    "partsectiondir = \"parts/sync/carrier/regularized\"\n",
    "partsampledir = \"parts/sync/carrier/samples\"\n",
    "partlastsampledir = \"parts/sync/input/samples\"\n",
    "generate_samples()"
   ]
  },
  {
   "cell_type": "markdown",
   "metadata": {},
   "source": [
    "#### 正则化"
   ]
  },
  {
   "cell_type": "code",
   "execution_count": 465,
   "metadata": {},
   "outputs": [],
   "source": [
    "partsectiondir = \"parts/sync/carrier\"\n",
    "normfeatures = inputfeatures + carrierfeatures\n",
    "scalesamples()"
   ]
  },
  {
   "cell_type": "markdown",
   "metadata": {},
   "source": [
    "# 构造、训练、测试模型"
   ]
  },
  {
   "cell_type": "markdown",
   "metadata": {},
   "source": [
    "## 工具"
   ]
  },
  {
   "cell_type": "markdown",
   "metadata": {},
   "source": [
    "### 算分"
   ]
  },
  {
   "cell_type": "code",
   "execution_count": 389,
   "metadata": {},
   "outputs": [],
   "source": [
    "# 算分\n",
    "def score_sample(sample):\n",
    "    sample = tf.constant(sample[np.newaxis, :])\n",
    "    encoded = encoder(sample)\n",
    "    fake = decoder(encoded)\n",
    "    # Apperant loss\n",
    "    apperantloss = tf.reduce_mean(tf.losses.mean_absolute_error(sample, fake))\n",
    "\n",
    "    # Latent loss\n",
    "    encoded1 = encoder1(fake)\n",
    "    latentloss = \\\n",
    "        tf.reduce_mean(tf.losses.mean_squared_error(encoded, encoded1))\n",
    "\n",
    "    score = apperantloss + latentloss\n",
    "    return score.numpy()\n",
    "\n",
    "def score():\n",
    "    for job in os.listdir(jobsdir):\n",
    "        for demodir in getdirs(jobdir=os.path.join(jobsdir, job)):\n",
    "            sampledir = os.path.join(demodir, partsampledir)\n",
    "            \n",
    "            # 如果计算训练数据的分数\n",
    "            if \"train\" in sampledir:\n",
    "                # 没有index\n",
    "                prepsamples = pd.read_csv(os.path.join(sampledir, \"preprocessed/samples.csv\"))\n",
    "                # 但要读入没有预处理的样本文件，以提供index\n",
    "                samples = pd.read_csv(os.path.join(sampledir, \"samples.csv\"), index_col=\"RECTIME\")\n",
    "                # 训练数据为空，分数文件也为空\n",
    "                if prepsamples.empty:\n",
    "                    scores = pd.DataFrame(columns=[\"score\"])\n",
    "                else:\n",
    "                    scores = pd.DataFrame(data=np.apply_along_axis(score_sample, 1, prepsamples.values), \\\n",
    "                          columns=[\"score\"], index=samples.index)\n",
    "            # 计算故障测试样本的分数\n",
    "            else:\n",
    "                prepsamples = pd.read_csv(os.path.join(sampledir, \"preprocessed/samples.csv\"), index_col=\"RECTIME\")\n",
    "                # 训练数据为空，分数文件也为空\n",
    "                if prepsamples.empty:\n",
    "                    scores = pd.DataFrame(columns=[\"score\"])\n",
    "                else:\n",
    "                    scores = pd.DataFrame(data=np.apply_along_axis(score_sample, 1, prepsamples.values), \\\n",
    "                          columns=[\"score\"], index=prepsamples.index)\n",
    "                    \n",
    "            # 存入磁盘        \n",
    "            scores.to_csv(os.path.join(sampledir, \"scores.csv\"), index_label=\"RECTIME\")"
   ]
  },
  {
   "cell_type": "markdown",
   "metadata": {},
   "source": [
    "### 算异常样本的正确概率"
   ]
  },
  {
   "cell_type": "code",
   "execution_count": 644,
   "metadata": {},
   "outputs": [],
   "source": [
    "def prob():\n",
    "    for job in os.listdir(jobsdir):\n",
    "        for demodir in getdirs(jobdir=os.path.join(jobsdir, job)):\n",
    "            scores = pd.read_csv(os.path.join(demodir, partscorefile), index_col=\"RECTIME\")\n",
    "            probs = pd.DataFrame(\\\n",
    "                 data=scores[\"score\"].apply(lambda s: 1 if s < gas_mean else ss.norm.sf(s, gas_mean, gas_sigma)), \\\n",
    "                 index=scores.index)\n",
    "            probs.columns = [\"prob\"]\n",
    "            probs.to_csv(os.path.join(demodir, partprobfile))"
   ]
  },
  {
   "cell_type": "markdown",
   "metadata": {},
   "source": [
    "### 读入分数"
   ]
  },
  {
   "cell_type": "code",
   "execution_count": 417,
   "metadata": {},
   "outputs": [],
   "source": [
    "def readscores():\n",
    "    x = []\n",
    "    y = []\n",
    "    for job in os.listdir(jobsdir):\n",
    "        for demodir in getdirs(jobdir=os.path.join(jobsdir, job)):\n",
    "            #pdb.set_trace()\n",
    "            scorefile = os.path.join(demodir, partscorefile)\n",
    "            scores = pd.read_csv(scorefile, index_col=\"RECTIME\")\n",
    "\n",
    "            demod = os.path.split(demodir)[1]\n",
    "            if not scores.empty:\n",
    "                y.extend(scores[\"score\"].values)\n",
    "                x.extend([hash(demod + x1) for x1 in scores.index])\n",
    "    return x, y"
   ]
  },
  {
   "cell_type": "markdown",
   "metadata": {},
   "source": [
    "### 构造数据集"
   ]
  },
  {
   "cell_type": "code",
   "execution_count": 318,
   "metadata": {},
   "outputs": [],
   "source": [
    "def makedataset():\n",
    "    def split_line(line):\n",
    "        record = tf.io.decode_csv(line, record_defaults=[0.] * featurenum)\n",
    "        return tf.stack(record)\n",
    "    \n",
    "    dataset = tf.data.Dataset.list_files(jobsdir + trainfiles)\n",
    "    dataset = dataset.interleave(lambda file: tf.data.TextLineDataset(file).skip(1), \\\n",
    "                              cycle_length=5, num_parallel_calls=5)\n",
    "    dataset = dataset.map(split_line, featurenum)\n",
    "    dataset = dataset.shuffle(1000)\n",
    "    dataset = dataset.batch(batch_size)\n",
    "    return dataset"
   ]
  },
  {
   "cell_type": "markdown",
   "metadata": {},
   "source": [
    "### 读入所有样本"
   ]
  },
  {
   "cell_type": "code",
   "execution_count": 313,
   "metadata": {},
   "outputs": [],
   "source": [
    "def read_total_samples():\n",
    "    samples_list = []\n",
    "    for job in os.listdir(jobsdir):\n",
    "        for demodir in getdirs(jobdir=os.path.join(jobsdir, job)):\n",
    "            samples = pd.read_csv(os.path.join(demodir, partsamplefile))\n",
    "            samples_list.append(samples)\n",
    "    samples = pd.concat(samples_list)\n",
    "    return tf.constant(samples.values, dtype=tf.float32)"
   ]
  },
  {
   "cell_type": "markdown",
   "metadata": {},
   "source": [
    "### 构造优化器"
   ]
  },
  {
   "cell_type": "code",
   "execution_count": 314,
   "metadata": {},
   "outputs": [],
   "source": [
    "def make_optimizer():\n",
    "    steps = epochs * len(total_samples) // batch_size\n",
    "    decay = tf.keras.optimizers.schedules.ExponentialDecay(1e-2, steps, 1e-1)\n",
    "    generator_optimizer = tf.keras.optimizers.Adam(learning_rate=decay)\n",
    "    discriminator_optimizer = tf.keras.optimizers.SGD(learning_rate=decay)\n",
    "    return generator_optimizer, discriminator_optimizer"
   ]
  },
  {
   "cell_type": "markdown",
   "metadata": {},
   "source": [
    "### 训练"
   ]
  },
  {
   "cell_type": "code",
   "execution_count": 525,
   "metadata": {},
   "outputs": [],
   "source": [
    "# 训练函数\n",
    "def train(): \n",
    "    def getloss(inputs):\n",
    "        # Apperant loss\n",
    "        encoded = gan.encoder(inputs)\n",
    "        fakes = gan.decoder(encoded)\n",
    "        apperantloss = tf.reduce_mean(tf.losses.mean_absolute_error(inputs, fakes))\n",
    "\n",
    "        # Latent loss\n",
    "        encoded1 = gan.encoder1(fakes)\n",
    "        latentloss = \\\n",
    "        tf.reduce_mean(tf.losses.mean_squared_error(encoded, encoded1))\n",
    "\n",
    "        # Feature matching loss\n",
    "        preds = gan.feature_layer(fakes)\n",
    "        reals = gan.feature_layer(inputs)\n",
    "        featureloss = tf.reduce_mean(tf.losses.mean_squared_error(preds, reals))\n",
    "\n",
    "        gloss = apperantloss + latentloss + featureloss\n",
    "        return gloss\n",
    "    \n",
    "    # 在每个epoch后存储最小的ALoss和对应的， 每个epoch画一个点\n",
    "    lastloss = np.inf\n",
    "\n",
    "    for epoch in range(epochs):\n",
    "        for batch in dataset:\n",
    "            # Train discriminator\n",
    "            # Generator fake samples\n",
    "            encoded = gan.encoder(batch)\n",
    "            fakes = gan.decoder(encoded)\n",
    "            with tf.GradientTape() as discriminator_tape:\n",
    "                # Train discriminator with real samples\n",
    "                labels = tf.random.uniform(minval=0.7, maxval=1.2, seed=42, shape=(batch.shape[0], 1))\n",
    "                preds = gan.discriminator(batch)\n",
    "                loss = tf.reduce_mean(tf.nn.sigmoid_cross_entropy_with_logits(labels, preds))\n",
    "            grads = discriminator_tape.gradient(loss, gan.discriminator.trainable_variables)\n",
    "            discriminator_optimizer.apply_gradients(zip(grads, gan.discriminator.trainable_variables))\n",
    "            with tf.GradientTape() as discriminator_tape:\n",
    "                # Train discriminator with fake samples\n",
    "                labels = tf.random.uniform(minval=0., maxval=0.3, seed = 42, shape=(fakes.shape[0], 1))\n",
    "                preds = gan.discriminator(fakes)\n",
    "                loss = tf.reduce_mean(tf.nn.sigmoid_cross_entropy_with_logits(labels, preds))\n",
    "            grads = discriminator_tape.gradient(loss, gan.discriminator.trainable_variables)\n",
    "            discriminator_optimizer.apply_gradients(zip(grads, gan.discriminator.trainable_variables))\n",
    "\n",
    "            # Train genertor\n",
    "            with tf.GradientTape() as generator_tape:\n",
    "                loss = getloss(batch)\n",
    "            # Insert all generator trainable variables into a list\n",
    "            trainable_variables = []\n",
    "            trainable_variables.extend(gan.encoder.trainable_variables)\n",
    "            trainable_variables.extend(gan.decoder.trainable_variables)\n",
    "            trainable_variables.extend(gan.encoder1.trainable_variables)\n",
    "\n",
    "            grads = generator_tape.gradient(loss, trainable_variables)\n",
    "            generator_optimizer.apply_gradients(zip(grads, trainable_variables))\n",
    "            \n",
    "            \n",
    "        # 在整个训练集上计算generator的损失，并比较和上一次迭代的损失，如果小于上一次迭代，更新损失和最有模型；反之停止训练\n",
    "        totaloss = getloss(total_samples)\n",
    "        with summay_writer.as_default():\n",
    "            tf.summary.scalar(\"A_loss\", totaloss, epoch)\n",
    "            \n",
    "        if lastloss > totaloss.numpy():\n",
    "            lastloss = totaloss.numpy()\n",
    "            gan.encoder.save(encoderpath)\n",
    "            gan.decoder.save(decoderpath)\n",
    "            gan.encoder1.save(encoder1path)\n",
    "        # 输出进度\n",
    "        printbar(epoch)\n",
    "        \n",
    "def printbar(epoch):\n",
    "    sys.stdout.write(f\"\\r{epoch:d}/{epochs}\")\n",
    "    sys.stdout.flush()"
   ]
  },
  {
   "cell_type": "markdown",
   "metadata": {},
   "source": [
    "### 读出某个任务某个时刻的分数"
   ]
  },
  {
   "cell_type": "code",
   "execution_count": 602,
   "metadata": {},
   "outputs": [],
   "source": [
    "def getscore():\n",
    "    jobdir = os.path.join(jobsdir, job)\n",
    "    demodir = os.path.join(jobdir, demod)\n",
    "    scorefile = os.path.join(demodir, partscorefile)\n",
    "    scores = pd.read_csv(scorefile, index_col=\"RECTIME\")\n",
    "    row = None\n",
    "    for i in scores.index:\n",
    "        if timestamp in i:\n",
    "            row = i\n",
    "            break\n",
    "    return scores.loc[row, \"score\"]"
   ]
  },
  {
   "cell_type": "markdown",
   "metadata": {},
   "source": [
    "### 输出符合某一规则的所有记录id"
   ]
  },
  {
   "cell_type": "code",
   "execution_count": 634,
   "metadata": {},
   "outputs": [],
   "source": [
    "# 根据分数找到对应的任务名称\n",
    "def findids():\n",
    "    indexs = []\n",
    "    for job in os.listdir(jobsdir):\n",
    "        for demodir in getdirs(jobdir=os.path.join(jobsdir, job)):\n",
    "            scores = pd.read_csv(os.path.join(demodir, partscorefile), \\\n",
    "                 index_col=\"RECTIME\")\n",
    "            if not scores.empty:\n",
    "                indexs.extend([demodir + \"---\" + i for i in scores[tobool(scores)].index])\n",
    "    return indexs"
   ]
  },
  {
   "cell_type": "markdown",
   "metadata": {},
   "source": [
    "## 中频输入"
   ]
  },
  {
   "cell_type": "markdown",
   "metadata": {},
   "source": [
    "### 构造建立模型"
   ]
  },
  {
   "cell_type": "code",
   "execution_count": 353,
   "metadata": {},
   "outputs": [],
   "source": [
    "# 2\n",
    "class GAN(object):\n",
    "    def __init__(self):\n",
    "        self.make_generator()\n",
    "        self.make_discriminator()\n",
    "        \n",
    "    def make_generator(self):\n",
    "        self.encoder = tf.keras.Sequential(name=\"Ge\")\n",
    "        self.encoder.add(tf.keras.Input(shape=(2,)))\n",
    "        self.encoder.add(tf.keras.layers.Dense(1, kernel_initializer=\"he_normal\"))\n",
    "        self.encoder.add(tf.keras.layers.LeakyReLU())\n",
    "\n",
    "        self.decoder = tf.keras.Sequential(name=\"Gd\")\n",
    "        self.decoder.add(tf.keras.Input(shape=(1,)))\n",
    "        self.decoder.add(tf.keras.layers.Dense(2, activation = tf.keras.activations.tanh, kernel_initializer=\"he_normal\"))\n",
    "        \n",
    "        self.encoder1 = tf.keras.Sequential(name=\"Ge1\")\n",
    "        self.encoder1.add(tf.keras.Input(shape=(2,)))\n",
    "        self.encoder1.add(tf.keras.layers.Dense(1, kernel_initializer=\"he_normal\"))\n",
    "        self.encoder1.add(tf.keras.layers.LeakyReLU())\n",
    "        \n",
    "    def make_discriminator(self):\n",
    "        self.feature_layer = tf.keras.Sequential(name=\"DInner\")\n",
    "        self.feature_layer.add(tf.keras.Input(shape=(2,)))\n",
    "        self.feature_layer.add(tf.keras.layers.Dense(2, kernel_initializer=\"he_normal\"))\n",
    "        self.feature_layer.add(tf.keras.layers.LeakyReLU())\n",
    "        self.feature_layer.add(tf.keras.layers.BatchNormalization())\n",
    "\n",
    "        self.discriminator = tf.keras.Sequential([\n",
    "            self.feature_layer,\n",
    "            tf.keras.layers.Dense(1, activation = tf.keras.activations.sigmoid)\n",
    "        ], name=\"D\")"
   ]
  },
  {
   "cell_type": "code",
   "execution_count": 354,
   "metadata": {},
   "outputs": [],
   "source": [
    "# 新建模型\n",
    "gan = GAN()"
   ]
  },
  {
   "cell_type": "markdown",
   "metadata": {},
   "source": [
    "### 构造数据集"
   ]
  },
  {
   "cell_type": "code",
   "execution_count": 355,
   "metadata": {},
   "outputs": [],
   "source": [
    "# 构造dataset\n",
    "trainfiles = \"/*/*/parts/sync/input/samples/normal/train/preprocessed/samples.csv\"\n",
    "featurenum = 2\n",
    "batch_size = 256\n",
    "epochs = 10000\n",
    "dataset = makedataset()"
   ]
  },
  {
   "cell_type": "code",
   "execution_count": 399,
   "metadata": {},
   "outputs": [],
   "source": [
    "# 读入所有训练样本\n",
    "partsamplefile = \"parts/sync/input/samples/normal/train/preprocessed/samples.csv\"\n",
    "total_samples = read_total_samples()"
   ]
  },
  {
   "cell_type": "markdown",
   "metadata": {},
   "source": [
    "### 训练"
   ]
  },
  {
   "cell_type": "code",
   "execution_count": 358,
   "metadata": {},
   "outputs": [],
   "source": [
    "# 清空并新建log\n",
    "logdir = \"logs/ad/sync/input/(2,1)_(2,2)\"\n",
    "if os.path.exists(logdir):\n",
    "        shutil.rmtree(logdir)\n",
    "    os.makedirs(logdir)"
   ]
  },
  {
   "cell_type": "code",
   "execution_count": 359,
   "metadata": {},
   "outputs": [],
   "source": [
    "summay_writer = tf.summary.create_file_writer(logdir)"
   ]
  },
  {
   "cell_type": "code",
   "execution_count": 360,
   "metadata": {},
   "outputs": [],
   "source": [
    "# 优化器\n",
    "generator_optimizer, discriminator_optimizer = make_optimizer()"
   ]
  },
  {
   "cell_type": "code",
   "execution_count": 373,
   "metadata": {},
   "outputs": [],
   "source": [
    "# 保存模型\n",
    "encoderfile = \"encoder.h5\"\n",
    "decoderfile = \"decoder.h5\"\n",
    "encoder1file = \"encoder1.h5\"\n",
    "modeldir = \"models/ad/sync/input/(2,1)_(2,2)\"\n",
    "encoderpath = os.path.join(modeldir, encoderfile)\n",
    "decoderpath = os.path.join(modeldir, decoderfile)\n",
    "encoder1path = os.path.join(modeldir, encoder1file)"
   ]
  },
  {
   "cell_type": "code",
   "execution_count": null,
   "metadata": {},
   "outputs": [],
   "source": [
    "# 清空模型文件夹\n",
    "if os.path.exists(modeldir):\n",
    "    shutil.rmtree(modeldir)\n",
    "os.makedirs(modeldir)"
   ]
  },
  {
   "cell_type": "code",
   "execution_count": 511,
   "metadata": {},
   "outputs": [
    {
     "name": "stdout",
     "output_type": "stream",
     "text": [
      "41/10000"
     ]
    },
    {
     "ename": "KeyboardInterrupt",
     "evalue": "",
     "output_type": "error",
     "traceback": [
      "\u001b[1;31m---------------------------------------------------------------------------\u001b[0m",
      "\u001b[1;31mKeyboardInterrupt\u001b[0m                         Traceback (most recent call last)",
      "\u001b[1;32m<ipython-input-511-0adffea21618>\u001b[0m in \u001b[0;36m<module>\u001b[1;34m\u001b[0m\n\u001b[0;32m      3\u001b[0m \u001b[0mdecoder\u001b[0m \u001b[1;33m=\u001b[0m \u001b[1;32mNone\u001b[0m\u001b[1;33m\u001b[0m\u001b[1;33m\u001b[0m\u001b[0m\n\u001b[0;32m      4\u001b[0m \u001b[0mencoder1\u001b[0m \u001b[1;33m=\u001b[0m \u001b[1;32mNone\u001b[0m\u001b[1;33m\u001b[0m\u001b[1;33m\u001b[0m\u001b[0m\n\u001b[1;32m----> 5\u001b[1;33m \u001b[0mtrain\u001b[0m\u001b[1;33m(\u001b[0m\u001b[1;33m)\u001b[0m\u001b[1;33m\u001b[0m\u001b[1;33m\u001b[0m\u001b[0m\n\u001b[0m",
      "\u001b[1;32m<ipython-input-340-0b1f18721c77>\u001b[0m in \u001b[0;36mtrain\u001b[1;34m()\u001b[0m\n\u001b[0;32m     46\u001b[0m             \u001b[1;31m# Train genertor\u001b[0m\u001b[1;33m\u001b[0m\u001b[1;33m\u001b[0m\u001b[1;33m\u001b[0m\u001b[0m\n\u001b[0;32m     47\u001b[0m             \u001b[1;32mwith\u001b[0m \u001b[0mtf\u001b[0m\u001b[1;33m.\u001b[0m\u001b[0mGradientTape\u001b[0m\u001b[1;33m(\u001b[0m\u001b[1;33m)\u001b[0m \u001b[1;32mas\u001b[0m \u001b[0mgenerator_tape\u001b[0m\u001b[1;33m:\u001b[0m\u001b[1;33m\u001b[0m\u001b[1;33m\u001b[0m\u001b[0m\n\u001b[1;32m---> 48\u001b[1;33m                 \u001b[0mloss\u001b[0m \u001b[1;33m=\u001b[0m \u001b[0mgetloss\u001b[0m\u001b[1;33m(\u001b[0m\u001b[0mbatch\u001b[0m\u001b[1;33m)\u001b[0m\u001b[1;33m\u001b[0m\u001b[1;33m\u001b[0m\u001b[0m\n\u001b[0m\u001b[0;32m     49\u001b[0m             \u001b[1;31m# Insert all generator trainable variables into a list\u001b[0m\u001b[1;33m\u001b[0m\u001b[1;33m\u001b[0m\u001b[1;33m\u001b[0m\u001b[0m\n\u001b[0;32m     50\u001b[0m             \u001b[0mtrainable_variables\u001b[0m \u001b[1;33m=\u001b[0m \u001b[1;33m[\u001b[0m\u001b[1;33m]\u001b[0m\u001b[1;33m\u001b[0m\u001b[1;33m\u001b[0m\u001b[0m\n",
      "\u001b[1;32m<ipython-input-340-0b1f18721c77>\u001b[0m in \u001b[0;36mgetloss\u001b[1;34m(inputs)\u001b[0m\n\u001b[0;32m     14\u001b[0m         \u001b[1;31m# Feature matching loss\u001b[0m\u001b[1;33m\u001b[0m\u001b[1;33m\u001b[0m\u001b[1;33m\u001b[0m\u001b[0m\n\u001b[0;32m     15\u001b[0m         \u001b[0mpreds\u001b[0m \u001b[1;33m=\u001b[0m \u001b[0mgan\u001b[0m\u001b[1;33m.\u001b[0m\u001b[0mfeature_layer\u001b[0m\u001b[1;33m(\u001b[0m\u001b[0mfakes\u001b[0m\u001b[1;33m)\u001b[0m\u001b[1;33m\u001b[0m\u001b[1;33m\u001b[0m\u001b[0m\n\u001b[1;32m---> 16\u001b[1;33m         \u001b[0mreals\u001b[0m \u001b[1;33m=\u001b[0m \u001b[0mgan\u001b[0m\u001b[1;33m.\u001b[0m\u001b[0mfeature_layer\u001b[0m\u001b[1;33m(\u001b[0m\u001b[0minputs\u001b[0m\u001b[1;33m)\u001b[0m\u001b[1;33m\u001b[0m\u001b[1;33m\u001b[0m\u001b[0m\n\u001b[0m\u001b[0;32m     17\u001b[0m         \u001b[0mfeatureloss\u001b[0m \u001b[1;33m=\u001b[0m \u001b[0mtf\u001b[0m\u001b[1;33m.\u001b[0m\u001b[0mreduce_mean\u001b[0m\u001b[1;33m(\u001b[0m\u001b[0mtf\u001b[0m\u001b[1;33m.\u001b[0m\u001b[0mlosses\u001b[0m\u001b[1;33m.\u001b[0m\u001b[0mmean_squared_error\u001b[0m\u001b[1;33m(\u001b[0m\u001b[0mpreds\u001b[0m\u001b[1;33m,\u001b[0m \u001b[0mreals\u001b[0m\u001b[1;33m)\u001b[0m\u001b[1;33m)\u001b[0m\u001b[1;33m\u001b[0m\u001b[1;33m\u001b[0m\u001b[0m\n\u001b[0;32m     18\u001b[0m \u001b[1;33m\u001b[0m\u001b[0m\n",
      "\u001b[1;32md:\\py_virtualenv\\lib\\site-packages\\tensorflow_core\\python\\keras\\engine\\base_layer.py\u001b[0m in \u001b[0;36m__call__\u001b[1;34m(self, inputs, *args, **kwargs)\u001b[0m\n\u001b[0;32m    889\u001b[0m           with base_layer_utils.autocast_context_manager(\n\u001b[0;32m    890\u001b[0m               self._compute_dtype):\n\u001b[1;32m--> 891\u001b[1;33m             \u001b[0moutputs\u001b[0m \u001b[1;33m=\u001b[0m \u001b[0mself\u001b[0m\u001b[1;33m.\u001b[0m\u001b[0mcall\u001b[0m\u001b[1;33m(\u001b[0m\u001b[0mcast_inputs\u001b[0m\u001b[1;33m,\u001b[0m \u001b[1;33m*\u001b[0m\u001b[0margs\u001b[0m\u001b[1;33m,\u001b[0m \u001b[1;33m**\u001b[0m\u001b[0mkwargs\u001b[0m\u001b[1;33m)\u001b[0m\u001b[1;33m\u001b[0m\u001b[1;33m\u001b[0m\u001b[0m\n\u001b[0m\u001b[0;32m    892\u001b[0m           \u001b[0mself\u001b[0m\u001b[1;33m.\u001b[0m\u001b[0m_handle_activity_regularization\u001b[0m\u001b[1;33m(\u001b[0m\u001b[0minputs\u001b[0m\u001b[1;33m,\u001b[0m \u001b[0moutputs\u001b[0m\u001b[1;33m)\u001b[0m\u001b[1;33m\u001b[0m\u001b[1;33m\u001b[0m\u001b[0m\n\u001b[0;32m    893\u001b[0m           \u001b[0mself\u001b[0m\u001b[1;33m.\u001b[0m\u001b[0m_set_mask_metadata\u001b[0m\u001b[1;33m(\u001b[0m\u001b[0minputs\u001b[0m\u001b[1;33m,\u001b[0m \u001b[0moutputs\u001b[0m\u001b[1;33m,\u001b[0m \u001b[0minput_masks\u001b[0m\u001b[1;33m)\u001b[0m\u001b[1;33m\u001b[0m\u001b[1;33m\u001b[0m\u001b[0m\n",
      "\u001b[1;32md:\\py_virtualenv\\lib\\site-packages\\tensorflow_core\\python\\keras\\engine\\sequential.py\u001b[0m in \u001b[0;36mcall\u001b[1;34m(self, inputs, training, mask)\u001b[0m\n\u001b[0;32m    254\u001b[0m       \u001b[1;32mif\u001b[0m \u001b[1;32mnot\u001b[0m \u001b[0mself\u001b[0m\u001b[1;33m.\u001b[0m\u001b[0mbuilt\u001b[0m\u001b[1;33m:\u001b[0m\u001b[1;33m\u001b[0m\u001b[1;33m\u001b[0m\u001b[0m\n\u001b[0;32m    255\u001b[0m         \u001b[0mself\u001b[0m\u001b[1;33m.\u001b[0m\u001b[0m_init_graph_network\u001b[0m\u001b[1;33m(\u001b[0m\u001b[0mself\u001b[0m\u001b[1;33m.\u001b[0m\u001b[0minputs\u001b[0m\u001b[1;33m,\u001b[0m \u001b[0mself\u001b[0m\u001b[1;33m.\u001b[0m\u001b[0moutputs\u001b[0m\u001b[1;33m,\u001b[0m \u001b[0mname\u001b[0m\u001b[1;33m=\u001b[0m\u001b[0mself\u001b[0m\u001b[1;33m.\u001b[0m\u001b[0mname\u001b[0m\u001b[1;33m)\u001b[0m\u001b[1;33m\u001b[0m\u001b[1;33m\u001b[0m\u001b[0m\n\u001b[1;32m--> 256\u001b[1;33m       \u001b[1;32mreturn\u001b[0m \u001b[0msuper\u001b[0m\u001b[1;33m(\u001b[0m\u001b[0mSequential\u001b[0m\u001b[1;33m,\u001b[0m \u001b[0mself\u001b[0m\u001b[1;33m)\u001b[0m\u001b[1;33m.\u001b[0m\u001b[0mcall\u001b[0m\u001b[1;33m(\u001b[0m\u001b[0minputs\u001b[0m\u001b[1;33m,\u001b[0m \u001b[0mtraining\u001b[0m\u001b[1;33m=\u001b[0m\u001b[0mtraining\u001b[0m\u001b[1;33m,\u001b[0m \u001b[0mmask\u001b[0m\u001b[1;33m=\u001b[0m\u001b[0mmask\u001b[0m\u001b[1;33m)\u001b[0m\u001b[1;33m\u001b[0m\u001b[1;33m\u001b[0m\u001b[0m\n\u001b[0m\u001b[0;32m    257\u001b[0m \u001b[1;33m\u001b[0m\u001b[0m\n\u001b[0;32m    258\u001b[0m     \u001b[0moutputs\u001b[0m \u001b[1;33m=\u001b[0m \u001b[0minputs\u001b[0m  \u001b[1;31m# handle the corner case where self.layers is empty\u001b[0m\u001b[1;33m\u001b[0m\u001b[1;33m\u001b[0m\u001b[0m\n",
      "\u001b[1;32md:\\py_virtualenv\\lib\\site-packages\\tensorflow_core\\python\\keras\\engine\\network.py\u001b[0m in \u001b[0;36mcall\u001b[1;34m(self, inputs, training, mask)\u001b[0m\n\u001b[0;32m    706\u001b[0m     return self._run_internal_graph(\n\u001b[0;32m    707\u001b[0m         \u001b[0minputs\u001b[0m\u001b[1;33m,\u001b[0m \u001b[0mtraining\u001b[0m\u001b[1;33m=\u001b[0m\u001b[0mtraining\u001b[0m\u001b[1;33m,\u001b[0m \u001b[0mmask\u001b[0m\u001b[1;33m=\u001b[0m\u001b[0mmask\u001b[0m\u001b[1;33m,\u001b[0m\u001b[1;33m\u001b[0m\u001b[1;33m\u001b[0m\u001b[0m\n\u001b[1;32m--> 708\u001b[1;33m         convert_kwargs_to_constants=base_layer_utils.call_context().saving)\n\u001b[0m\u001b[0;32m    709\u001b[0m \u001b[1;33m\u001b[0m\u001b[0m\n\u001b[0;32m    710\u001b[0m   \u001b[1;32mdef\u001b[0m \u001b[0mcompute_output_shape\u001b[0m\u001b[1;33m(\u001b[0m\u001b[0mself\u001b[0m\u001b[1;33m,\u001b[0m \u001b[0minput_shape\u001b[0m\u001b[1;33m)\u001b[0m\u001b[1;33m:\u001b[0m\u001b[1;33m\u001b[0m\u001b[1;33m\u001b[0m\u001b[0m\n",
      "\u001b[1;32md:\\py_virtualenv\\lib\\site-packages\\tensorflow_core\\python\\keras\\engine\\network.py\u001b[0m in \u001b[0;36m_run_internal_graph\u001b[1;34m(self, inputs, training, mask, convert_kwargs_to_constants)\u001b[0m\n\u001b[0;32m    858\u001b[0m \u001b[1;33m\u001b[0m\u001b[0m\n\u001b[0;32m    859\u001b[0m           \u001b[1;31m# Compute outputs.\u001b[0m\u001b[1;33m\u001b[0m\u001b[1;33m\u001b[0m\u001b[1;33m\u001b[0m\u001b[0m\n\u001b[1;32m--> 860\u001b[1;33m           \u001b[0moutput_tensors\u001b[0m \u001b[1;33m=\u001b[0m \u001b[0mlayer\u001b[0m\u001b[1;33m(\u001b[0m\u001b[0mcomputed_tensors\u001b[0m\u001b[1;33m,\u001b[0m \u001b[1;33m**\u001b[0m\u001b[0mkwargs\u001b[0m\u001b[1;33m)\u001b[0m\u001b[1;33m\u001b[0m\u001b[1;33m\u001b[0m\u001b[0m\n\u001b[0m\u001b[0;32m    861\u001b[0m \u001b[1;33m\u001b[0m\u001b[0m\n\u001b[0;32m    862\u001b[0m           \u001b[1;31m# Update tensor_dict.\u001b[0m\u001b[1;33m\u001b[0m\u001b[1;33m\u001b[0m\u001b[1;33m\u001b[0m\u001b[0m\n",
      "\u001b[1;32md:\\py_virtualenv\\lib\\site-packages\\tensorflow_core\\python\\keras\\engine\\base_layer.py\u001b[0m in \u001b[0;36m__call__\u001b[1;34m(self, inputs, *args, **kwargs)\u001b[0m\n\u001b[0;32m    889\u001b[0m           with base_layer_utils.autocast_context_manager(\n\u001b[0;32m    890\u001b[0m               self._compute_dtype):\n\u001b[1;32m--> 891\u001b[1;33m             \u001b[0moutputs\u001b[0m \u001b[1;33m=\u001b[0m \u001b[0mself\u001b[0m\u001b[1;33m.\u001b[0m\u001b[0mcall\u001b[0m\u001b[1;33m(\u001b[0m\u001b[0mcast_inputs\u001b[0m\u001b[1;33m,\u001b[0m \u001b[1;33m*\u001b[0m\u001b[0margs\u001b[0m\u001b[1;33m,\u001b[0m \u001b[1;33m**\u001b[0m\u001b[0mkwargs\u001b[0m\u001b[1;33m)\u001b[0m\u001b[1;33m\u001b[0m\u001b[1;33m\u001b[0m\u001b[0m\n\u001b[0m\u001b[0;32m    892\u001b[0m           \u001b[0mself\u001b[0m\u001b[1;33m.\u001b[0m\u001b[0m_handle_activity_regularization\u001b[0m\u001b[1;33m(\u001b[0m\u001b[0minputs\u001b[0m\u001b[1;33m,\u001b[0m \u001b[0moutputs\u001b[0m\u001b[1;33m)\u001b[0m\u001b[1;33m\u001b[0m\u001b[1;33m\u001b[0m\u001b[0m\n\u001b[0;32m    893\u001b[0m           \u001b[0mself\u001b[0m\u001b[1;33m.\u001b[0m\u001b[0m_set_mask_metadata\u001b[0m\u001b[1;33m(\u001b[0m\u001b[0minputs\u001b[0m\u001b[1;33m,\u001b[0m \u001b[0moutputs\u001b[0m\u001b[1;33m,\u001b[0m \u001b[0minput_masks\u001b[0m\u001b[1;33m)\u001b[0m\u001b[1;33m\u001b[0m\u001b[1;33m\u001b[0m\u001b[0m\n",
      "\u001b[1;32md:\\py_virtualenv\\lib\\site-packages\\tensorflow_core\\python\\keras\\layers\\core.py\u001b[0m in \u001b[0;36mcall\u001b[1;34m(self, inputs)\u001b[0m\n\u001b[0;32m   1056\u001b[0m         \u001b[0moutputs\u001b[0m \u001b[1;33m=\u001b[0m \u001b[0mgen_math_ops\u001b[0m\u001b[1;33m.\u001b[0m\u001b[0mmat_mul\u001b[0m\u001b[1;33m(\u001b[0m\u001b[0minputs\u001b[0m\u001b[1;33m,\u001b[0m \u001b[0mself\u001b[0m\u001b[1;33m.\u001b[0m\u001b[0mkernel\u001b[0m\u001b[1;33m)\u001b[0m\u001b[1;33m\u001b[0m\u001b[1;33m\u001b[0m\u001b[0m\n\u001b[0;32m   1057\u001b[0m     \u001b[1;32mif\u001b[0m \u001b[0mself\u001b[0m\u001b[1;33m.\u001b[0m\u001b[0muse_bias\u001b[0m\u001b[1;33m:\u001b[0m\u001b[1;33m\u001b[0m\u001b[1;33m\u001b[0m\u001b[0m\n\u001b[1;32m-> 1058\u001b[1;33m       \u001b[0moutputs\u001b[0m \u001b[1;33m=\u001b[0m \u001b[0mnn\u001b[0m\u001b[1;33m.\u001b[0m\u001b[0mbias_add\u001b[0m\u001b[1;33m(\u001b[0m\u001b[0moutputs\u001b[0m\u001b[1;33m,\u001b[0m \u001b[0mself\u001b[0m\u001b[1;33m.\u001b[0m\u001b[0mbias\u001b[0m\u001b[1;33m)\u001b[0m\u001b[1;33m\u001b[0m\u001b[1;33m\u001b[0m\u001b[0m\n\u001b[0m\u001b[0;32m   1059\u001b[0m     \u001b[1;32mif\u001b[0m \u001b[0mself\u001b[0m\u001b[1;33m.\u001b[0m\u001b[0mactivation\u001b[0m \u001b[1;32mis\u001b[0m \u001b[1;32mnot\u001b[0m \u001b[1;32mNone\u001b[0m\u001b[1;33m:\u001b[0m\u001b[1;33m\u001b[0m\u001b[1;33m\u001b[0m\u001b[0m\n\u001b[0;32m   1060\u001b[0m       \u001b[1;32mreturn\u001b[0m \u001b[0mself\u001b[0m\u001b[1;33m.\u001b[0m\u001b[0mactivation\u001b[0m\u001b[1;33m(\u001b[0m\u001b[0moutputs\u001b[0m\u001b[1;33m)\u001b[0m  \u001b[1;31m# pylint: disable=not-callable\u001b[0m\u001b[1;33m\u001b[0m\u001b[1;33m\u001b[0m\u001b[0m\n",
      "\u001b[1;32md:\\py_virtualenv\\lib\\site-packages\\tensorflow_core\\python\\ops\\nn_ops.py\u001b[0m in \u001b[0;36mbias_add\u001b[1;34m(value, bias, data_format, name)\u001b[0m\n\u001b[0;32m   2716\u001b[0m       \u001b[0mvalue\u001b[0m \u001b[1;33m=\u001b[0m \u001b[0mops\u001b[0m\u001b[1;33m.\u001b[0m\u001b[0mconvert_to_tensor\u001b[0m\u001b[1;33m(\u001b[0m\u001b[0mvalue\u001b[0m\u001b[1;33m,\u001b[0m \u001b[0mname\u001b[0m\u001b[1;33m=\u001b[0m\u001b[1;34m\"input\"\u001b[0m\u001b[1;33m)\u001b[0m\u001b[1;33m\u001b[0m\u001b[1;33m\u001b[0m\u001b[0m\n\u001b[0;32m   2717\u001b[0m       \u001b[0mbias\u001b[0m \u001b[1;33m=\u001b[0m \u001b[0mops\u001b[0m\u001b[1;33m.\u001b[0m\u001b[0mconvert_to_tensor\u001b[0m\u001b[1;33m(\u001b[0m\u001b[0mbias\u001b[0m\u001b[1;33m,\u001b[0m \u001b[0mdtype\u001b[0m\u001b[1;33m=\u001b[0m\u001b[0mvalue\u001b[0m\u001b[1;33m.\u001b[0m\u001b[0mdtype\u001b[0m\u001b[1;33m,\u001b[0m \u001b[0mname\u001b[0m\u001b[1;33m=\u001b[0m\u001b[1;34m\"bias\"\u001b[0m\u001b[1;33m)\u001b[0m\u001b[1;33m\u001b[0m\u001b[1;33m\u001b[0m\u001b[0m\n\u001b[1;32m-> 2718\u001b[1;33m     \u001b[1;32mreturn\u001b[0m \u001b[0mgen_nn_ops\u001b[0m\u001b[1;33m.\u001b[0m\u001b[0mbias_add\u001b[0m\u001b[1;33m(\u001b[0m\u001b[0mvalue\u001b[0m\u001b[1;33m,\u001b[0m \u001b[0mbias\u001b[0m\u001b[1;33m,\u001b[0m \u001b[0mdata_format\u001b[0m\u001b[1;33m=\u001b[0m\u001b[0mdata_format\u001b[0m\u001b[1;33m,\u001b[0m \u001b[0mname\u001b[0m\u001b[1;33m=\u001b[0m\u001b[0mname\u001b[0m\u001b[1;33m)\u001b[0m\u001b[1;33m\u001b[0m\u001b[1;33m\u001b[0m\u001b[0m\n\u001b[0m\u001b[0;32m   2719\u001b[0m \u001b[1;33m\u001b[0m\u001b[0m\n\u001b[0;32m   2720\u001b[0m \u001b[1;33m\u001b[0m\u001b[0m\n",
      "\u001b[1;32md:\\py_virtualenv\\lib\\site-packages\\tensorflow_core\\python\\ops\\gen_nn_ops.py\u001b[0m in \u001b[0;36mbias_add\u001b[1;34m(value, bias, data_format, name)\u001b[0m\n\u001b[0;32m    739\u001b[0m         \u001b[0m_ctx\u001b[0m\u001b[1;33m.\u001b[0m\u001b[0m_context_handle\u001b[0m\u001b[1;33m,\u001b[0m \u001b[0m_ctx\u001b[0m\u001b[1;33m.\u001b[0m\u001b[0m_thread_local_data\u001b[0m\u001b[1;33m.\u001b[0m\u001b[0mdevice_name\u001b[0m\u001b[1;33m,\u001b[0m \u001b[1;34m\"BiasAdd\"\u001b[0m\u001b[1;33m,\u001b[0m\u001b[1;33m\u001b[0m\u001b[1;33m\u001b[0m\u001b[0m\n\u001b[0;32m    740\u001b[0m         \u001b[0mname\u001b[0m\u001b[1;33m,\u001b[0m \u001b[0m_ctx\u001b[0m\u001b[1;33m.\u001b[0m\u001b[0m_post_execution_callbacks\u001b[0m\u001b[1;33m,\u001b[0m \u001b[0mvalue\u001b[0m\u001b[1;33m,\u001b[0m \u001b[0mbias\u001b[0m\u001b[1;33m,\u001b[0m \u001b[1;34m\"data_format\"\u001b[0m\u001b[1;33m,\u001b[0m\u001b[1;33m\u001b[0m\u001b[1;33m\u001b[0m\u001b[0m\n\u001b[1;32m--> 741\u001b[1;33m         data_format)\n\u001b[0m\u001b[0;32m    742\u001b[0m       \u001b[1;32mreturn\u001b[0m \u001b[0m_result\u001b[0m\u001b[1;33m\u001b[0m\u001b[1;33m\u001b[0m\u001b[0m\n\u001b[0;32m    743\u001b[0m     \u001b[1;32mexcept\u001b[0m \u001b[0m_core\u001b[0m\u001b[1;33m.\u001b[0m\u001b[0m_FallbackException\u001b[0m\u001b[1;33m:\u001b[0m\u001b[1;33m\u001b[0m\u001b[1;33m\u001b[0m\u001b[0m\n",
      "\u001b[1;31mKeyboardInterrupt\u001b[0m: "
     ]
    }
   ],
   "source": [
    "# 开始训练\n",
    "train()"
   ]
  },
  {
   "cell_type": "markdown",
   "metadata": {},
   "source": [
    "### 评估\n",
    "然后利用训练好的模型算出测试集样本的分数，存档。"
   ]
  },
  {
   "cell_type": "markdown",
   "metadata": {},
   "source": [
    "从文件夹中载入训练好的模型。\n",
    "\n",
    "遍历每个解调器的测试集，将相应的分数存入preprocessed/scores.csv中"
   ]
  },
  {
   "cell_type": "code",
   "execution_count": 374,
   "metadata": {},
   "outputs": [
    {
     "name": "stdout",
     "output_type": "stream",
     "text": [
      "WARNING:tensorflow:No training configuration found in save file: the model was *not* compiled. Compile it manually.\n"
     ]
    },
    {
     "name": "stderr",
     "output_type": "stream",
     "text": [
      "WARNING:tensorflow:No training configuration found in save file: the model was *not* compiled. Compile it manually.\n"
     ]
    },
    {
     "name": "stdout",
     "output_type": "stream",
     "text": [
      "WARNING:tensorflow:No training configuration found in save file: the model was *not* compiled. Compile it manually.\n"
     ]
    },
    {
     "name": "stderr",
     "output_type": "stream",
     "text": [
      "WARNING:tensorflow:No training configuration found in save file: the model was *not* compiled. Compile it manually.\n"
     ]
    },
    {
     "name": "stdout",
     "output_type": "stream",
     "text": [
      "WARNING:tensorflow:No training configuration found in save file: the model was *not* compiled. Compile it manually.\n"
     ]
    },
    {
     "name": "stderr",
     "output_type": "stream",
     "text": [
      "WARNING:tensorflow:No training configuration found in save file: the model was *not* compiled. Compile it manually.\n"
     ]
    }
   ],
   "source": [
    "encoder = tf.keras.models.load_model(encoderpath)\n",
    "decoder = tf.keras.models.load_model(decoderpath)\n",
    "encoder1 = tf.keras.models.load_model(encoder1path)"
   ]
  },
  {
   "cell_type": "markdown",
   "metadata": {},
   "source": [
    "计算测试样本分数并存档\n",
    "执行后：\n",
    "* samples/\n",
    "    * normal/\n",
    "        * test/\n",
    "            * preprocessed/\n",
    "                * samples.csv\n",
    "                * scores.csv\n",
    "    * abnormal/\n",
    "        * preprocessed/\n",
    "            * samples.csv\n",
    "            * scores.csv"
   ]
  },
  {
   "cell_type": "code",
   "execution_count": 456,
   "metadata": {},
   "outputs": [],
   "source": [
    "# 算出正常训练集和异常测试集的分数\n",
    "# train samples\n",
    "partsampledir = \"parts/sync/input/samples/normal/train\"\n",
    "score()\n",
    "\n",
    "# abnormal\n",
    "partsampledir = \"parts/sync/input/samples/abnormal\"\n",
    "score()"
   ]
  },
  {
   "cell_type": "code",
   "execution_count": 646,
   "metadata": {},
   "outputs": [],
   "source": [
    "# 读入正常测试样本和异常测试样本的分数，分别存入numpy数组\n",
    "partscorefile = \"parts/sync/input/samples/normal/train/scores.csv\"\n",
    "normal_x, normal_y = readscores()\n",
    "partscorefile = \"parts/sync/input/samples/abnormal/scores.csv\"\n",
    "abnormal_x, abnormal_y = readscores()\n",
    "\n",
    "\"\"\"\n",
    "通过正常训练样本的分数计算相应的正太分布，利用正态分布计算异常样本该部分正确的概率\n",
    "\"\"\"\n",
    "inputmean = np.mean(normal_y)\n",
    "inputsigma = np.var(normal_y)\n",
    "gas_mean = inputmean\n",
    "gas_sigma = inputsigma\n",
    "partprobfile = \"parts/sync/input/samples/abnormal/probs.csv\"\n",
    "prob()"
   ]
  },
  {
   "cell_type": "code",
   "execution_count": 647,
   "metadata": {},
   "outputs": [
    {
     "data": {
      "image/png": "[encoded data removed]",
      "text/plain": [
       "<Figure size 1080x720 with 1 Axes>"
      ]
     },
     "metadata": {
      "needs_background": "light"
     },
     "output_type": "display_data"
    }
   ],
   "source": [
    "plt.figure(figsize=(15, 10))\n",
    "plt.scatter(abnormal_x, abnormalprobs, s=40)\n",
    "plt.show()"
   ]
  },
  {
   "cell_type": "code",
   "execution_count": 648,
   "metadata": {},
   "outputs": [
    {
     "data": {
      "image/png": "[encoded data removed]",
      "text/plain": [
       "<Figure size 1080x720 with 1 Axes>"
      ]
     },
     "metadata": {
      "needs_background": "light"
     },
     "output_type": "display_data"
    }
   ],
   "source": [
    "# 做出散点图。其中，虚线表示阈值。\n",
    "plt.figure(figsize=(15, 10))\n",
    "plt.scatter(normal_x, normal_y, c=\"green\", s=0.5)\n",
    "plt.scatter(abnormal_x, abnormal_y, c=\"red\", s=0.5)\n",
    "plt.show()"
   ]
  },
  {
   "cell_type": "code",
   "execution_count": 636,
   "metadata": {},
   "outputs": [],
   "source": [
    "def tobool(scores):\n",
    "    return scores[\"score\"].lt(0.25)\n",
    "\n",
    "partscorefile = \"parts/sync/input/samples/abnormal/scores.csv\"\n",
    "ids = findids()"
   ]
  },
  {
   "cell_type": "code",
   "execution_count": 604,
   "metadata": {},
   "outputs": [
    {
     "data": {
      "text/plain": [
       "0.42049790000000004"
      ]
     },
     "execution_count": 604,
     "metadata": {},
     "output_type": "execute_result"
    }
   ],
   "source": [
    "job = \"JOB201912276594418\"\n",
    "demod = \"KJ_HDemodQH1\"\n",
    "partscorefile = \"parts/sync/input/samples/abnormal/scores.csv\"\n",
    "timestamp = \"8:05:57\"\n",
    "getscore()"
   ]
  },
  {
   "cell_type": "code",
   "execution_count": 664,
   "metadata": {},
   "outputs": [],
   "source": [
    "probdir = \"../probs\"\n",
    "if os.path.exists(probdir):\n",
    "    shutil.rmtree(probdir)\n",
    "os.mkdir(probdir)\n",
    "\n",
    "partsampledir = \"parts/sync/input/samples/abnormal\"\n",
    "for job in os.listdir(jobsdir):\n",
    "    for demodir in getdirs(jobdir=os.path.join(jobsdir, job)):\n",
    "        demod = os.path.split(demodir)[1]\n",
    "        \n",
    "        probs = pd.read_csv(os.path.join(demodir, os.path.join(partsampledir, \"probs.csv\")), index_col=\"RECTIME\")\n",
    "        samples = pd.read_csv(os.path.join(demodir, os.path.join(partsampledir, \"samples.csv\")), index_col=\"RECTIME\")\n",
    "        \n",
    "        for i in samples.index:\n",
    "            info = {}\n",
    "            for col in samples.columns:\n",
    "                info[col] = samples.loc[i, col]\n",
    "            info[\"正确率\"] = probs.loc[i, \"prob\"]\n",
    "            info = json.dumps(info, ensure_ascii=False)\n",
    "            with open(os.path.join(probdir, job + \"&\" + demod + \"&\" + i[-8:].replace(\":\", \"_\") + \".json\"), \"wb\") as fb:\n",
    "                fb.write(str.encode(info))"
   ]
  },
  {
   "cell_type": "markdown",
   "metadata": {},
   "source": [
    "## 载波同步"
   ]
  },
  {
   "cell_type": "markdown",
   "metadata": {},
   "source": [
    "### 构造建立模型"
   ]
  },
  {
   "cell_type": "code",
   "execution_count": 515,
   "metadata": {},
   "outputs": [],
   "source": [
    "# 4\n",
    "class GAN(object):\n",
    "    def __init__(self):\n",
    "        self.make_generator()\n",
    "        self.make_discriminator()\n",
    "        \n",
    "    def make_generator(self):\n",
    "        self.encoder = tf.keras.Sequential(name=\"Ge\")\n",
    "        self.encoder.add(tf.keras.Input(shape=(4,)))\n",
    "        self.encoder.add(tf.keras.layers.Dense(2, kernel_initializer=\"he_normal\"))\n",
    "        self.encoder.add(tf.keras.layers.LeakyReLU())\n",
    "        self.encoder.add(tf.keras.layers.BatchNormalization())\n",
    "        self.encoder.add(tf.keras.layers.Dense(2, kernel_initializer=\"he_normal\"))\n",
    "        self.encoder.add(tf.keras.layers.LeakyReLU())\n",
    "\n",
    "        self.decoder = tf.keras.Sequential(name=\"Gd\")\n",
    "        self.decoder.add(tf.keras.Input(shape=(2,)))\n",
    "        self.decoder.add(tf.keras.layers.Dense(2, kernel_initializer=\"he_normal\"))\n",
    "        self.decoder.add(tf.keras.layers.LeakyReLU())\n",
    "        self.decoder.add(tf.keras.layers.BatchNormalization())\n",
    "        self.decoder.add(tf.keras.layers.Dense(4, activation = tf.keras.activations.tanh, kernel_initializer=\"he_normal\"))\n",
    "        \n",
    "        self.encoder1 = tf.keras.Sequential(name=\"Ge1\")\n",
    "        self.encoder1.add(tf.keras.Input(shape=(4,)))\n",
    "        self.encoder1.add(tf.keras.layers.Dense(2, kernel_initializer=\"he_normal\"))\n",
    "        self.encoder1.add(tf.keras.layers.LeakyReLU())\n",
    "        self.encoder1.add(tf.keras.layers.BatchNormalization())\n",
    "        self.encoder1.add(tf.keras.layers.Dense(2, kernel_initializer=\"he_normal\"))\n",
    "        self.encoder1.add(tf.keras.layers.LeakyReLU())\n",
    "        \n",
    "    def make_discriminator(self):\n",
    "        self.feature_layer = tf.keras.Sequential(name=\"DInner\")\n",
    "        self.feature_layer.add(tf.keras.Input(shape=(4,)))\n",
    "        self.feature_layer.add(tf.keras.layers.Dense(2, kernel_initializer=\"he_normal\"))\n",
    "        self.feature_layer.add(tf.keras.layers.LeakyReLU())\n",
    "        self.feature_layer.add(tf.keras.layers.BatchNormalization())\n",
    "        self.feature_layer.add(tf.keras.layers.Dense(2, kernel_initializer=\"he_normal\"))\n",
    "        self.feature_layer.add(tf.keras.layers.LeakyReLU())\n",
    "        self.feature_layer.add(tf.keras.layers.BatchNormalization())\n",
    "\n",
    "        self.discriminator = tf.keras.Sequential([\n",
    "            self.feature_layer,\n",
    "            tf.keras.layers.Dense(1, activation = tf.keras.activations.sigmoid)\n",
    "        ], name=\"D\")"
   ]
  },
  {
   "cell_type": "code",
   "execution_count": 526,
   "metadata": {},
   "outputs": [],
   "source": [
    "# 新建模型\n",
    "tf.keras.backend.clear_session()\n",
    "gan = GAN()"
   ]
  },
  {
   "cell_type": "markdown",
   "metadata": {},
   "source": [
    "### 构造数据集"
   ]
  },
  {
   "cell_type": "code",
   "execution_count": 527,
   "metadata": {},
   "outputs": [],
   "source": [
    "# 构造dataset\n",
    "trainfiles = \"/*/*/parts/sync/carrier/samples/normal/train/preprocessed/samples.csv\"\n",
    "featurenum = 4\n",
    "batch_size = 256\n",
    "epochs = 10000\n",
    "dataset = makedataset()"
   ]
  },
  {
   "cell_type": "code",
   "execution_count": 528,
   "metadata": {},
   "outputs": [],
   "source": [
    "# 读入所有训练样本\n",
    "partsamplefile = \"parts/sync/carrier/samples/normal/train/preprocessed/samples.csv\"\n",
    "total_samples = read_total_samples()"
   ]
  },
  {
   "cell_type": "markdown",
   "metadata": {},
   "source": [
    "### 训练"
   ]
  },
  {
   "cell_type": "code",
   "execution_count": 529,
   "metadata": {},
   "outputs": [],
   "source": [
    "# 清空并新建log\n",
    "logdir = \"logs/ad/sync/carrier/(4,2)_(4,2)\"\n",
    "if os.path.exists(logdir):\n",
    "    shutil.rmtree(logdir)"
   ]
  },
  {
   "cell_type": "code",
   "execution_count": 530,
   "metadata": {},
   "outputs": [],
   "source": [
    "os.makedirs(logdir)\n",
    "summay_writer = tf.summary.create_file_writer(logdir)"
   ]
  },
  {
   "cell_type": "code",
   "execution_count": 531,
   "metadata": {},
   "outputs": [],
   "source": [
    "# 优化器\n",
    "generator_optimizer, discriminator_optimizer = make_optimizer()"
   ]
  },
  {
   "cell_type": "code",
   "execution_count": 652,
   "metadata": {},
   "outputs": [],
   "source": [
    "# 保存模型\n",
    "encoderfile = \"encoder.h5\"\n",
    "decoderfile = \"decoder.h5\"\n",
    "encoder1file = \"encoder1.h5\"\n",
    "\n",
    "modeldir = \"models/ad/sync/carrier/(4,2)_(4,2)\"\n",
    "\n",
    "encoderpath = os.path.join(modeldir, encoderfile)\n",
    "decoderpath = os.path.join(modeldir, decoderfile)\n",
    "encoder1path = os.path.join(modeldir, encoder1file)"
   ]
  },
  {
   "cell_type": "code",
   "execution_count": null,
   "metadata": {},
   "outputs": [],
   "source": [
    "# 清空模型文件夹\n",
    "if os.path.exists(modeldir):\n",
    "    shutil.rmtree(modeldir)\n",
    "os.makedirs(modeldir)"
   ]
  },
  {
   "cell_type": "code",
   "execution_count": 533,
   "metadata": {},
   "outputs": [
    {
     "name": "stdout",
     "output_type": "stream",
     "text": [
      "497/10000"
     ]
    },
    {
     "ename": "KeyboardInterrupt",
     "evalue": "",
     "output_type": "error",
     "traceback": [
      "\u001b[1;31m---------------------------------------------------------------------------\u001b[0m",
      "\u001b[1;31mKeyboardInterrupt\u001b[0m                         Traceback (most recent call last)",
      "\u001b[1;32m<ipython-input-533-fee63ba5ab1f>\u001b[0m in \u001b[0;36m<module>\u001b[1;34m\u001b[0m\n\u001b[0;32m      1\u001b[0m \u001b[1;31m# 开始训练\u001b[0m\u001b[1;33m\u001b[0m\u001b[1;33m\u001b[0m\u001b[1;33m\u001b[0m\u001b[0m\n\u001b[1;32m----> 2\u001b[1;33m \u001b[0mtrain\u001b[0m\u001b[1;33m(\u001b[0m\u001b[1;33m)\u001b[0m\u001b[1;33m\u001b[0m\u001b[1;33m\u001b[0m\u001b[0m\n\u001b[0m",
      "\u001b[1;32m<ipython-input-525-238107cc04cd>\u001b[0m in \u001b[0;36mtrain\u001b[1;34m()\u001b[0m\n\u001b[0;32m     53\u001b[0m             \u001b[0mtrainable_variables\u001b[0m\u001b[1;33m.\u001b[0m\u001b[0mextend\u001b[0m\u001b[1;33m(\u001b[0m\u001b[0mgan\u001b[0m\u001b[1;33m.\u001b[0m\u001b[0mencoder1\u001b[0m\u001b[1;33m.\u001b[0m\u001b[0mtrainable_variables\u001b[0m\u001b[1;33m)\u001b[0m\u001b[1;33m\u001b[0m\u001b[1;33m\u001b[0m\u001b[0m\n\u001b[0;32m     54\u001b[0m \u001b[1;33m\u001b[0m\u001b[0m\n\u001b[1;32m---> 55\u001b[1;33m             \u001b[0mgrads\u001b[0m \u001b[1;33m=\u001b[0m \u001b[0mgenerator_tape\u001b[0m\u001b[1;33m.\u001b[0m\u001b[0mgradient\u001b[0m\u001b[1;33m(\u001b[0m\u001b[0mloss\u001b[0m\u001b[1;33m,\u001b[0m \u001b[0mtrainable_variables\u001b[0m\u001b[1;33m)\u001b[0m\u001b[1;33m\u001b[0m\u001b[1;33m\u001b[0m\u001b[0m\n\u001b[0m\u001b[0;32m     56\u001b[0m             \u001b[0mgenerator_optimizer\u001b[0m\u001b[1;33m.\u001b[0m\u001b[0mapply_gradients\u001b[0m\u001b[1;33m(\u001b[0m\u001b[0mzip\u001b[0m\u001b[1;33m(\u001b[0m\u001b[0mgrads\u001b[0m\u001b[1;33m,\u001b[0m \u001b[0mtrainable_variables\u001b[0m\u001b[1;33m)\u001b[0m\u001b[1;33m)\u001b[0m\u001b[1;33m\u001b[0m\u001b[1;33m\u001b[0m\u001b[0m\n\u001b[0;32m     57\u001b[0m \u001b[1;33m\u001b[0m\u001b[0m\n",
      "\u001b[1;32md:\\py_virtualenv\\lib\\site-packages\\tensorflow_core\\python\\eager\\backprop.py\u001b[0m in \u001b[0;36mgradient\u001b[1;34m(self, target, sources, output_gradients, unconnected_gradients)\u001b[0m\n\u001b[0;32m   1012\u001b[0m         \u001b[0moutput_gradients\u001b[0m\u001b[1;33m=\u001b[0m\u001b[0moutput_gradients\u001b[0m\u001b[1;33m,\u001b[0m\u001b[1;33m\u001b[0m\u001b[1;33m\u001b[0m\u001b[0m\n\u001b[0;32m   1013\u001b[0m         \u001b[0msources_raw\u001b[0m\u001b[1;33m=\u001b[0m\u001b[0mflat_sources_raw\u001b[0m\u001b[1;33m,\u001b[0m\u001b[1;33m\u001b[0m\u001b[1;33m\u001b[0m\u001b[0m\n\u001b[1;32m-> 1014\u001b[1;33m         unconnected_gradients=unconnected_gradients)\n\u001b[0m\u001b[0;32m   1015\u001b[0m \u001b[1;33m\u001b[0m\u001b[0m\n\u001b[0;32m   1016\u001b[0m     \u001b[1;32mif\u001b[0m \u001b[1;32mnot\u001b[0m \u001b[0mself\u001b[0m\u001b[1;33m.\u001b[0m\u001b[0m_persistent\u001b[0m\u001b[1;33m:\u001b[0m\u001b[1;33m\u001b[0m\u001b[1;33m\u001b[0m\u001b[0m\n",
      "\u001b[1;32md:\\py_virtualenv\\lib\\site-packages\\tensorflow_core\\python\\eager\\imperative_grad.py\u001b[0m in \u001b[0;36mimperative_grad\u001b[1;34m(tape, target, sources, output_gradients, sources_raw, unconnected_gradients)\u001b[0m\n\u001b[0;32m     74\u001b[0m       \u001b[0moutput_gradients\u001b[0m\u001b[1;33m,\u001b[0m\u001b[1;33m\u001b[0m\u001b[1;33m\u001b[0m\u001b[0m\n\u001b[0;32m     75\u001b[0m       \u001b[0msources_raw\u001b[0m\u001b[1;33m,\u001b[0m\u001b[1;33m\u001b[0m\u001b[1;33m\u001b[0m\u001b[0m\n\u001b[1;32m---> 76\u001b[1;33m       compat.as_str(unconnected_gradients.value))\n\u001b[0m",
      "\u001b[1;32md:\\py_virtualenv\\lib\\site-packages\\tensorflow_core\\python\\eager\\backprop.py\u001b[0m in \u001b[0;36m_gradient_function\u001b[1;34m(op_name, attr_tuple, num_inputs, inputs, outputs, out_grads, skip_input_indices)\u001b[0m\n\u001b[0;32m    136\u001b[0m     \u001b[1;32mreturn\u001b[0m \u001b[1;33m[\u001b[0m\u001b[1;32mNone\u001b[0m\u001b[1;33m]\u001b[0m \u001b[1;33m*\u001b[0m \u001b[0mnum_inputs\u001b[0m\u001b[1;33m\u001b[0m\u001b[1;33m\u001b[0m\u001b[0m\n\u001b[0;32m    137\u001b[0m \u001b[1;33m\u001b[0m\u001b[0m\n\u001b[1;32m--> 138\u001b[1;33m   \u001b[1;32mreturn\u001b[0m \u001b[0mgrad_fn\u001b[0m\u001b[1;33m(\u001b[0m\u001b[0mmock_op\u001b[0m\u001b[1;33m,\u001b[0m \u001b[1;33m*\u001b[0m\u001b[0mout_grads\u001b[0m\u001b[1;33m)\u001b[0m\u001b[1;33m\u001b[0m\u001b[1;33m\u001b[0m\u001b[0m\n\u001b[0m\u001b[0;32m    139\u001b[0m \u001b[1;33m\u001b[0m\u001b[0m\n\u001b[0;32m    140\u001b[0m \u001b[1;33m\u001b[0m\u001b[0m\n",
      "\u001b[1;32md:\\py_virtualenv\\lib\\site-packages\\tensorflow_core\\python\\ops\\nn_grad.py\u001b[0m in \u001b[0;36m_BiasAddGrad\u001b[1;34m(op, received_grad)\u001b[0m\n\u001b[0;32m    348\u001b[0m   return (received_grad,\n\u001b[0;32m    349\u001b[0m           gen_nn_ops.bias_add_grad(\n\u001b[1;32m--> 350\u001b[1;33m               out_backprop=received_grad, data_format=data_format))\n\u001b[0m\u001b[0;32m    351\u001b[0m \u001b[1;33m\u001b[0m\u001b[0m\n\u001b[0;32m    352\u001b[0m \u001b[1;33m\u001b[0m\u001b[0m\n",
      "\u001b[1;32md:\\py_virtualenv\\lib\\site-packages\\tensorflow_core\\python\\ops\\gen_nn_ops.py\u001b[0m in \u001b[0;36mbias_add_grad\u001b[1;34m(out_backprop, data_format, name)\u001b[0m\n\u001b[0;32m    824\u001b[0m         \u001b[0m_ctx\u001b[0m\u001b[1;33m.\u001b[0m\u001b[0m_context_handle\u001b[0m\u001b[1;33m,\u001b[0m \u001b[0m_ctx\u001b[0m\u001b[1;33m.\u001b[0m\u001b[0m_thread_local_data\u001b[0m\u001b[1;33m.\u001b[0m\u001b[0mdevice_name\u001b[0m\u001b[1;33m,\u001b[0m\u001b[1;33m\u001b[0m\u001b[1;33m\u001b[0m\u001b[0m\n\u001b[0;32m    825\u001b[0m         \u001b[1;34m\"BiasAddGrad\"\u001b[0m\u001b[1;33m,\u001b[0m \u001b[0mname\u001b[0m\u001b[1;33m,\u001b[0m \u001b[0m_ctx\u001b[0m\u001b[1;33m.\u001b[0m\u001b[0m_post_execution_callbacks\u001b[0m\u001b[1;33m,\u001b[0m \u001b[0mout_backprop\u001b[0m\u001b[1;33m,\u001b[0m\u001b[1;33m\u001b[0m\u001b[1;33m\u001b[0m\u001b[0m\n\u001b[1;32m--> 826\u001b[1;33m         \"data_format\", data_format)\n\u001b[0m\u001b[0;32m    827\u001b[0m       \u001b[1;32mreturn\u001b[0m \u001b[0m_result\u001b[0m\u001b[1;33m\u001b[0m\u001b[1;33m\u001b[0m\u001b[0m\n\u001b[0;32m    828\u001b[0m     \u001b[1;32mexcept\u001b[0m \u001b[0m_core\u001b[0m\u001b[1;33m.\u001b[0m\u001b[0m_FallbackException\u001b[0m\u001b[1;33m:\u001b[0m\u001b[1;33m\u001b[0m\u001b[1;33m\u001b[0m\u001b[0m\n",
      "\u001b[1;31mKeyboardInterrupt\u001b[0m: "
     ]
    }
   ],
   "source": [
    "# 开始训练\n",
    "train()"
   ]
  },
  {
   "cell_type": "markdown",
   "metadata": {},
   "source": [
    "### 评估"
   ]
  },
  {
   "cell_type": "code",
   "execution_count": 653,
   "metadata": {},
   "outputs": [
    {
     "name": "stdout",
     "output_type": "stream",
     "text": [
      "WARNING:tensorflow:No training configuration found in save file: the model was *not* compiled. Compile it manually.\n"
     ]
    },
    {
     "name": "stderr",
     "output_type": "stream",
     "text": [
      "WARNING:tensorflow:No training configuration found in save file: the model was *not* compiled. Compile it manually.\n"
     ]
    },
    {
     "name": "stdout",
     "output_type": "stream",
     "text": [
      "WARNING:tensorflow:No training configuration found in save file: the model was *not* compiled. Compile it manually.\n"
     ]
    },
    {
     "name": "stderr",
     "output_type": "stream",
     "text": [
      "WARNING:tensorflow:No training configuration found in save file: the model was *not* compiled. Compile it manually.\n"
     ]
    },
    {
     "name": "stdout",
     "output_type": "stream",
     "text": [
      "WARNING:tensorflow:No training configuration found in save file: the model was *not* compiled. Compile it manually.\n"
     ]
    },
    {
     "name": "stderr",
     "output_type": "stream",
     "text": [
      "WARNING:tensorflow:No training configuration found in save file: the model was *not* compiled. Compile it manually.\n"
     ]
    }
   ],
   "source": [
    "encoder = tf.keras.models.load_model(encoderpath)\n",
    "decoder = tf.keras.models.load_model(decoderpath)\n",
    "encoder1 = tf.keras.models.load_model(encoder1path)"
   ]
  },
  {
   "cell_type": "code",
   "execution_count": 535,
   "metadata": {},
   "outputs": [],
   "source": [
    "# 算出正常训练集和异常测试集的分数\n",
    "# train samples\n",
    "partsampledir = \"parts/sync/carrier/samples/normal/train\"\n",
    "score()\n",
    "\n",
    "# abnormal\n",
    "partsampledir = \"parts/sync/carrier/samples/abnormal\"\n",
    "score()"
   ]
  },
  {
   "cell_type": "code",
   "execution_count": 655,
   "metadata": {},
   "outputs": [],
   "source": [
    "# 读入正常测试样本和异常测试样本的分数，分别存入numpy数组\n",
    "partscorefile = \"parts/sync/carrier/samples/normal/train/scores.csv\"\n",
    "normal_x, normal_y = readscores()\n",
    "partscorefile = \"parts/sync/carrier/samples/abnormal/scores.csv\"\n",
    "abnormal_x, abnormal_y = readscores()\n",
    "\n",
    "\"\"\"\n",
    "通过正常训练样本的分数计算相应的正太分布，利用正态分布计算异常样本该部分正确的概率\n",
    "\"\"\"\n",
    "inputmean = np.mean(normal_y)\n",
    "inputsigma = np.var(normal_y)\n",
    "gas_mean = inputmean\n",
    "gas_sigma = inputsigma\n",
    "partprobfile = \"parts/sync/carrier/samples/abnormal/probs.csv\"\n",
    "prob()"
   ]
  },
  {
   "cell_type": "code",
   "execution_count": 656,
   "metadata": {},
   "outputs": [
    {
     "data": {
      "image/png": "[encoded data removed]",
      "text/plain": [
       "<Figure size 1080x720 with 1 Axes>"
      ]
     },
     "metadata": {
      "needs_background": "light"
     },
     "output_type": "display_data"
    }
   ],
   "source": [
    "plt.figure(figsize=(15, 10))\n",
    "plt.scatter(abnormal_x, abnormalprobs, s=40)\n",
    "plt.show()"
   ]
  },
  {
   "cell_type": "code",
   "execution_count": 657,
   "metadata": {},
   "outputs": [
    {
     "data": {
      "image/png": "[encoded data removed]",
      "text/plain": [
       "<Figure size 1080x720 with 1 Axes>"
      ]
     },
     "metadata": {
      "needs_background": "light"
     },
     "output_type": "display_data"
    }
   ],
   "source": [
    "# 做出散点图。其中，虚线表示阈值。\n",
    "plt.figure(figsize=(15, 10))\n",
    "plt.scatter(normal_x, normal_y, c=\"green\", s=0.5)\n",
    "plt.scatter(abnormal_x, abnormal_y, c=\"red\", s=0.5)\n",
    "plt.show()"
   ]
  },
  {
   "cell_type": "markdown",
   "metadata": {},
   "source": [
    "## 比特同步"
   ]
  },
  {
   "cell_type": "markdown",
   "metadata": {},
   "source": [
    "### 构造建立模型"
   ]
  },
  {
   "cell_type": "code",
   "execution_count": 129,
   "metadata": {},
   "outputs": [],
   "source": [
    "# 10参数\n",
    "class GANbit(object):\n",
    "    def __init__(self):\n",
    "        self.fn_makeGenerator()\n",
    "        self.fn_makeDiscriminator()\n",
    "        \n",
    "    def fn_makeGenerator(self):\n",
    "        self.oSeqGe = tf.keras.Sequential(name=\"Ge\")\n",
    "        self.oSeqGe.add(tf.keras.Input(shape=(10,)))\n",
    "        self.oSeqGe.add(tf.keras.layers.Dense(5, kernel_initializer=\"he_normal\"))\n",
    "        self.oSeqGe.add(tf.keras.layers.LeakyReLU())\n",
    "        self.oSeqGe.add(tf.keras.layers.BatchNormalization())\n",
    "        self.oSeqGe.add(tf.keras.layers.Dense(5, kernel_initializer=\"he_normal\"))\n",
    "        self.oSeqGe.add(tf.keras.layers.LeakyReLU())\n",
    "\n",
    "        self.oSeqGd = tf.keras.Sequential(name=\"Gd\")\n",
    "        self.oSeqGd.add(tf.keras.Input(shape=(5,)))\n",
    "        self.oSeqGd.add(tf.keras.layers.Dense(5, kernel_initializer=\"he_normal\"))\n",
    "        self.oSeqGd.add(tf.keras.layers.LeakyReLU())\n",
    "        self.oSeqGd.add(tf.keras.layers.BatchNormalization())\n",
    "        self.oSeqGd.add(tf.keras.layers.Dense(10, activation = tf.keras.activations.tanh, kernel_initializer=\"he_normal\"))\n",
    "        \n",
    "        self.oSeqGe1 = tf.keras.Sequential(name=\"Ge1\")\n",
    "        self.oSeqGe1.add(tf.keras.Input(shape=(10,)))\n",
    "        self.oSeqGe1.add(tf.keras.layers.Dense(5, kernel_initializer=\"he_normal\"))\n",
    "        self.oSeqGe1.add(tf.keras.layers.LeakyReLU())\n",
    "        self.oSeqGe1.add(tf.keras.layers.BatchNormalization())\n",
    "        self.oSeqGe1.add(tf.keras.layers.Dense(5, kernel_initializer=\"he_normal\"))\n",
    "        self.oSeqGe1.add(tf.keras.layers.LeakyReLU())\n",
    "        \n",
    "    def fn_makeDiscriminator(self):\n",
    "        self.oSeqDInner = tf.keras.Sequential(name=\"DInner\")\n",
    "        self.oSeqDInner.add(tf.keras.Input(shape=(10,)))\n",
    "        self.oSeqDInner.add(tf.keras.layers.Dense(5, kernel_initializer=\"he_normal\"))\n",
    "        self.oSeqDInner.add(tf.keras.layers.LeakyReLU())\n",
    "        self.oSeqDInner.add(tf.keras.layers.BatchNormalization())\n",
    "        self.oSeqDInner.add(tf.keras.layers.Dense(5, kernel_initializer=\"he_normal\"))\n",
    "        self.oSeqDInner.add(tf.keras.layers.LeakyReLU())\n",
    "        self.oSeqDInner.add(tf.keras.layers.BatchNormalization())\n",
    "\n",
    "        self.oSeqD = tf.keras.Sequential([\n",
    "            self.oSeqDInner,\n",
    "            tf.keras.layers.Dense(1, activation = tf.keras.activations.sigmoid)\n",
    "        ], name=\"D\")"
   ]
  },
  {
   "cell_type": "code",
   "execution_count": 130,
   "metadata": {},
   "outputs": [],
   "source": [
    "# 新建模型\n",
    "oGANbit = GANbit()"
   ]
  },
  {
   "cell_type": "markdown",
   "metadata": {},
   "source": [
    "### 构造数据集"
   ]
  },
  {
   "cell_type": "code",
   "execution_count": 131,
   "metadata": {},
   "outputs": [],
   "source": [
    "g_nFeatures = 10\n",
    "g_nBatchSize = 256\n",
    "\n",
    "def fn_splitCsvLine(strLine):\n",
    "    tensorDefs = [0.] * g_nFeatures\n",
    "    tensorRecord = tf.io.decode_csv(strLine, record_defaults=tensorDefs)\n",
    "    tensorX = tf.stack(tensorRecord)\n",
    "    return tensorX\n",
    "\n",
    "oDataset = tf.data.Dataset.list_files(strJobsDir + \"/*/*/parts/sync/bit/samples/normal/train/preprocessed/samples.csv\")\n",
    "oDataset = oDataset.interleave(lambda strSamplesFile: tf.data.TextLineDataset(strSamplesFile).skip(1), \\\n",
    "                              cycle_length=5, num_parallel_calls=5)\n",
    "oDataset = oDataset.map(fn_splitCsvLine, g_nFeatures)\n",
    "oDataset = oDataset.shuffle(1000)\n",
    "oDataset = oDataset.batch(g_nBatchSize)"
   ]
  },
  {
   "cell_type": "code",
   "execution_count": 132,
   "metadata": {},
   "outputs": [],
   "source": [
    "# 读入所有的训练样本，从而通过shape属性得到训练集大小，存入全局变量中\n",
    "listPreprocessedNormalTrainingSamples = []\n",
    "for strJob in os.listdir(strJobsDir):\n",
    "    strJobDir = os.path.join(strJobsDir, strJob)\n",
    "    listDemodDirs = fn_getDemodDirsOfAJob(strJobDir)\n",
    "    for strDemodDir in listDemodDirs:\n",
    "        strPreprocessedNormalTrainingSamplesFile = os.path.join(strDemodDir, \\\n",
    "                                                   \"parts/sync/bit/samples/normal/train/preprocessed/samples.csv\")\n",
    "        pdDfPreprocessedNormalTrainingSamples = pd.read_csv(strPreprocessedNormalTrainingSamplesFile)\n",
    "        listPreprocessedNormalTrainingSamples.append(pdDfPreprocessedNormalTrainingSamples)\n",
    "pdDfPreprocessedNormalTrainingSamples = pd.concat(listPreprocessedNormalTrainingSamples)\n",
    "g_tensorNormalTrainingSamples = tf.constant(pdDfPreprocessedNormalTrainingSamples.values, dtype=tf.float32)\n",
    "g_nTrainingSize = len(g_tensorNormalTrainingSamples)"
   ]
  },
  {
   "cell_type": "markdown",
   "metadata": {},
   "source": [
    "### 训练"
   ]
  },
  {
   "cell_type": "code",
   "execution_count": 133,
   "metadata": {},
   "outputs": [],
   "source": [
    "# g_nTrainingSize在中频控制已经设置好了\n",
    "g_nEpochs = 10000\n",
    "nSteps = g_nEpochs * g_nTrainingSize // g_nBatchSize\n",
    "oExponentialDecay = tf.keras.optimizers.schedules.ExponentialDecay(1e-2, nSteps, 1e-1)\n",
    "oOptimizerG = tf.keras.optimizers.Adam(learning_rate=oExponentialDecay)\n",
    "oOptimizerD = tf.keras.optimizers.SGD(learning_rate=oExponentialDecay)"
   ]
  },
  {
   "cell_type": "code",
   "execution_count": 134,
   "metadata": {},
   "outputs": [],
   "source": [
    "strD = \"(10,5)_D\"\n",
    "strA = \"(10,5)_A\"\n",
    "strRootDir = \"logs/nobranch/sync/bit\"\n",
    "strDDir = os.path.join(strRootDir, strD)\n",
    "strADir = os.path.join(strRootDir, strA)\n",
    "if os.path.exists(strDDir):\n",
    "    shutil.rmtree(strDDir)\n",
    "if os.path.exists(strADir):\n",
    "    shutil.rmtree(strADir)"
   ]
  },
  {
   "cell_type": "code",
   "execution_count": 136,
   "metadata": {},
   "outputs": [],
   "source": [
    "oSummaryWriterDLoss = tf.summary.create_file_writer(strDDir)\n",
    "oSummaryWriterALoss = tf.summary.create_file_writer(strADir)"
   ]
  },
  {
   "cell_type": "code",
   "execution_count": 137,
   "metadata": {},
   "outputs": [
    {
     "name": "stdout",
     "output_type": "stream",
     "text": [
      "397/10000"
     ]
    },
    {
     "ename": "KeyboardInterrupt",
     "evalue": "",
     "output_type": "error",
     "traceback": [
      "\u001b[1;31m---------------------------------------------------------------------------\u001b[0m",
      "\u001b[1;31mKeyboardInterrupt\u001b[0m                         Traceback (most recent call last)",
      "\u001b[1;32m<ipython-input-137-ca30fd47e083>\u001b[0m in \u001b[0;36m<module>\u001b[1;34m\u001b[0m\n\u001b[0;32m      2\u001b[0m \u001b[0moSeqGd\u001b[0m \u001b[1;33m=\u001b[0m \u001b[1;32mNone\u001b[0m\u001b[1;33m\u001b[0m\u001b[1;33m\u001b[0m\u001b[0m\n\u001b[0;32m      3\u001b[0m \u001b[0moSeqGe1\u001b[0m \u001b[1;33m=\u001b[0m \u001b[1;32mNone\u001b[0m\u001b[1;33m\u001b[0m\u001b[1;33m\u001b[0m\u001b[0m\n\u001b[1;32m----> 4\u001b[1;33m \u001b[0mfn_train\u001b[0m\u001b[1;33m(\u001b[0m\u001b[0moGANbit\u001b[0m\u001b[1;33m)\u001b[0m\u001b[1;33m\u001b[0m\u001b[1;33m\u001b[0m\u001b[0m\n\u001b[0m",
      "\u001b[1;32m<ipython-input-72-3855d8924bd9>\u001b[0m in \u001b[0;36mfn_train\u001b[1;34m(oGAN)\u001b[0m\n\u001b[0;32m     56\u001b[0m             \u001b[0mlistTrainableGVariables\u001b[0m\u001b[1;33m.\u001b[0m\u001b[0mextend\u001b[0m\u001b[1;33m(\u001b[0m\u001b[0moGAN\u001b[0m\u001b[1;33m.\u001b[0m\u001b[0moSeqGe1\u001b[0m\u001b[1;33m.\u001b[0m\u001b[0mtrainable_variables\u001b[0m\u001b[1;33m)\u001b[0m\u001b[1;33m\u001b[0m\u001b[1;33m\u001b[0m\u001b[0m\n\u001b[0;32m     57\u001b[0m \u001b[1;33m\u001b[0m\u001b[0m\n\u001b[1;32m---> 58\u001b[1;33m             \u001b[0mlistGGradients\u001b[0m \u001b[1;33m=\u001b[0m \u001b[0moGradientTapeG\u001b[0m\u001b[1;33m.\u001b[0m\u001b[0mgradient\u001b[0m\u001b[1;33m(\u001b[0m\u001b[0mtensorGLoss\u001b[0m\u001b[1;33m,\u001b[0m \u001b[0mlistTrainableGVariables\u001b[0m\u001b[1;33m)\u001b[0m\u001b[1;33m\u001b[0m\u001b[1;33m\u001b[0m\u001b[0m\n\u001b[0m\u001b[0;32m     59\u001b[0m             \u001b[0moOptimizerG\u001b[0m\u001b[1;33m.\u001b[0m\u001b[0mapply_gradients\u001b[0m\u001b[1;33m(\u001b[0m\u001b[0mzip\u001b[0m\u001b[1;33m(\u001b[0m\u001b[0mlistGGradients\u001b[0m\u001b[1;33m,\u001b[0m \u001b[0mlistTrainableGVariables\u001b[0m\u001b[1;33m)\u001b[0m\u001b[1;33m)\u001b[0m\u001b[1;33m\u001b[0m\u001b[1;33m\u001b[0m\u001b[0m\n\u001b[0;32m     60\u001b[0m             \u001b[1;32mwith\u001b[0m \u001b[0moSummaryWriterALoss\u001b[0m\u001b[1;33m.\u001b[0m\u001b[0mas_default\u001b[0m\u001b[1;33m(\u001b[0m\u001b[1;33m)\u001b[0m\u001b[1;33m:\u001b[0m\u001b[1;33m\u001b[0m\u001b[1;33m\u001b[0m\u001b[0m\n",
      "\u001b[1;32md:\\py_virtualenv\\lib\\site-packages\\tensorflow_core\\python\\eager\\backprop.py\u001b[0m in \u001b[0;36mgradient\u001b[1;34m(self, target, sources, output_gradients, unconnected_gradients)\u001b[0m\n\u001b[0;32m   1012\u001b[0m         \u001b[0moutput_gradients\u001b[0m\u001b[1;33m=\u001b[0m\u001b[0moutput_gradients\u001b[0m\u001b[1;33m,\u001b[0m\u001b[1;33m\u001b[0m\u001b[1;33m\u001b[0m\u001b[0m\n\u001b[0;32m   1013\u001b[0m         \u001b[0msources_raw\u001b[0m\u001b[1;33m=\u001b[0m\u001b[0mflat_sources_raw\u001b[0m\u001b[1;33m,\u001b[0m\u001b[1;33m\u001b[0m\u001b[1;33m\u001b[0m\u001b[0m\n\u001b[1;32m-> 1014\u001b[1;33m         unconnected_gradients=unconnected_gradients)\n\u001b[0m\u001b[0;32m   1015\u001b[0m \u001b[1;33m\u001b[0m\u001b[0m\n\u001b[0;32m   1016\u001b[0m     \u001b[1;32mif\u001b[0m \u001b[1;32mnot\u001b[0m \u001b[0mself\u001b[0m\u001b[1;33m.\u001b[0m\u001b[0m_persistent\u001b[0m\u001b[1;33m:\u001b[0m\u001b[1;33m\u001b[0m\u001b[1;33m\u001b[0m\u001b[0m\n",
      "\u001b[1;32md:\\py_virtualenv\\lib\\site-packages\\tensorflow_core\\python\\eager\\imperative_grad.py\u001b[0m in \u001b[0;36mimperative_grad\u001b[1;34m(tape, target, sources, output_gradients, sources_raw, unconnected_gradients)\u001b[0m\n\u001b[0;32m     74\u001b[0m       \u001b[0moutput_gradients\u001b[0m\u001b[1;33m,\u001b[0m\u001b[1;33m\u001b[0m\u001b[1;33m\u001b[0m\u001b[0m\n\u001b[0;32m     75\u001b[0m       \u001b[0msources_raw\u001b[0m\u001b[1;33m,\u001b[0m\u001b[1;33m\u001b[0m\u001b[1;33m\u001b[0m\u001b[0m\n\u001b[1;32m---> 76\u001b[1;33m       compat.as_str(unconnected_gradients.value))\n\u001b[0m",
      "\u001b[1;32md:\\py_virtualenv\\lib\\site-packages\\tensorflow_core\\python\\eager\\backprop.py\u001b[0m in \u001b[0;36m_gradient_function\u001b[1;34m(op_name, attr_tuple, num_inputs, inputs, outputs, out_grads, skip_input_indices)\u001b[0m\n\u001b[0;32m    136\u001b[0m     \u001b[1;32mreturn\u001b[0m \u001b[1;33m[\u001b[0m\u001b[1;32mNone\u001b[0m\u001b[1;33m]\u001b[0m \u001b[1;33m*\u001b[0m \u001b[0mnum_inputs\u001b[0m\u001b[1;33m\u001b[0m\u001b[1;33m\u001b[0m\u001b[0m\n\u001b[0;32m    137\u001b[0m \u001b[1;33m\u001b[0m\u001b[0m\n\u001b[1;32m--> 138\u001b[1;33m   \u001b[1;32mreturn\u001b[0m \u001b[0mgrad_fn\u001b[0m\u001b[1;33m(\u001b[0m\u001b[0mmock_op\u001b[0m\u001b[1;33m,\u001b[0m \u001b[1;33m*\u001b[0m\u001b[0mout_grads\u001b[0m\u001b[1;33m)\u001b[0m\u001b[1;33m\u001b[0m\u001b[1;33m\u001b[0m\u001b[0m\n\u001b[0m\u001b[0;32m    139\u001b[0m \u001b[1;33m\u001b[0m\u001b[0m\n\u001b[0;32m    140\u001b[0m \u001b[1;33m\u001b[0m\u001b[0m\n",
      "\u001b[1;32md:\\py_virtualenv\\lib\\site-packages\\tensorflow_core\\python\\ops\\math_grad.py\u001b[0m in \u001b[0;36m_MeanGrad\u001b[1;34m(op, grad)\u001b[0m\n\u001b[0;32m    235\u001b[0m \u001b[1;32mdef\u001b[0m \u001b[0m_MeanGrad\u001b[0m\u001b[1;33m(\u001b[0m\u001b[0mop\u001b[0m\u001b[1;33m,\u001b[0m \u001b[0mgrad\u001b[0m\u001b[1;33m)\u001b[0m\u001b[1;33m:\u001b[0m\u001b[1;33m\u001b[0m\u001b[1;33m\u001b[0m\u001b[0m\n\u001b[0;32m    236\u001b[0m   \u001b[1;34m\"\"\"Gradient for Mean.\"\"\"\u001b[0m\u001b[1;33m\u001b[0m\u001b[1;33m\u001b[0m\u001b[0m\n\u001b[1;32m--> 237\u001b[1;33m   \u001b[0msum_grad\u001b[0m \u001b[1;33m=\u001b[0m \u001b[0m_SumGrad\u001b[0m\u001b[1;33m(\u001b[0m\u001b[0mop\u001b[0m\u001b[1;33m,\u001b[0m \u001b[0mgrad\u001b[0m\u001b[1;33m)\u001b[0m\u001b[1;33m[\u001b[0m\u001b[1;36m0\u001b[0m\u001b[1;33m]\u001b[0m\u001b[1;33m\u001b[0m\u001b[1;33m\u001b[0m\u001b[0m\n\u001b[0m\u001b[0;32m    238\u001b[0m   \u001b[0minput_shape\u001b[0m \u001b[1;33m=\u001b[0m \u001b[0mop\u001b[0m\u001b[1;33m.\u001b[0m\u001b[0minputs\u001b[0m\u001b[1;33m[\u001b[0m\u001b[1;36m0\u001b[0m\u001b[1;33m]\u001b[0m\u001b[1;33m.\u001b[0m\u001b[0m_shape_tuple\u001b[0m\u001b[1;33m(\u001b[0m\u001b[1;33m)\u001b[0m  \u001b[1;31m# pylint: disable=protected-access\u001b[0m\u001b[1;33m\u001b[0m\u001b[1;33m\u001b[0m\u001b[0m\n\u001b[0;32m    239\u001b[0m   \u001b[0moutput_shape\u001b[0m \u001b[1;33m=\u001b[0m \u001b[0mop\u001b[0m\u001b[1;33m.\u001b[0m\u001b[0moutputs\u001b[0m\u001b[1;33m[\u001b[0m\u001b[1;36m0\u001b[0m\u001b[1;33m]\u001b[0m\u001b[1;33m.\u001b[0m\u001b[0m_shape_tuple\u001b[0m\u001b[1;33m(\u001b[0m\u001b[1;33m)\u001b[0m  \u001b[1;31m# pylint: disable=protected-access\u001b[0m\u001b[1;33m\u001b[0m\u001b[1;33m\u001b[0m\u001b[0m\n",
      "\u001b[1;32md:\\py_virtualenv\\lib\\site-packages\\tensorflow_core\\python\\ops\\math_grad.py\u001b[0m in \u001b[0;36m_SumGrad\u001b[1;34m(op, grad)\u001b[0m\n\u001b[0;32m    198\u001b[0m   \u001b[1;32mwith\u001b[0m \u001b[0mops\u001b[0m\u001b[1;33m.\u001b[0m\u001b[0mcolocate_with\u001b[0m\u001b[1;33m(\u001b[0m\u001b[0minput_shape\u001b[0m\u001b[1;33m)\u001b[0m\u001b[1;33m:\u001b[0m\u001b[1;33m\u001b[0m\u001b[1;33m\u001b[0m\u001b[0m\n\u001b[0;32m    199\u001b[0m     \u001b[0moutput_shape_kept_dims\u001b[0m \u001b[1;33m=\u001b[0m \u001b[0mmath_ops\u001b[0m\u001b[1;33m.\u001b[0m\u001b[0mreduced_shape\u001b[0m\u001b[1;33m(\u001b[0m\u001b[0minput_shape\u001b[0m\u001b[1;33m,\u001b[0m \u001b[0mop\u001b[0m\u001b[1;33m.\u001b[0m\u001b[0minputs\u001b[0m\u001b[1;33m[\u001b[0m\u001b[1;36m1\u001b[0m\u001b[1;33m]\u001b[0m\u001b[1;33m)\u001b[0m\u001b[1;33m\u001b[0m\u001b[1;33m\u001b[0m\u001b[0m\n\u001b[1;32m--> 200\u001b[1;33m     \u001b[0mtile_scaling\u001b[0m \u001b[1;33m=\u001b[0m \u001b[0m_safe_shape_div\u001b[0m\u001b[1;33m(\u001b[0m\u001b[0minput_shape\u001b[0m\u001b[1;33m,\u001b[0m \u001b[0moutput_shape_kept_dims\u001b[0m\u001b[1;33m)\u001b[0m\u001b[1;33m\u001b[0m\u001b[1;33m\u001b[0m\u001b[0m\n\u001b[0m\u001b[0;32m    201\u001b[0m   \u001b[0mgrad\u001b[0m \u001b[1;33m=\u001b[0m \u001b[0marray_ops\u001b[0m\u001b[1;33m.\u001b[0m\u001b[0mreshape\u001b[0m\u001b[1;33m(\u001b[0m\u001b[0mgrad\u001b[0m\u001b[1;33m,\u001b[0m \u001b[0moutput_shape_kept_dims\u001b[0m\u001b[1;33m)\u001b[0m\u001b[1;33m\u001b[0m\u001b[1;33m\u001b[0m\u001b[0m\n\u001b[0;32m    202\u001b[0m   \u001b[1;32mreturn\u001b[0m \u001b[1;33m[\u001b[0m\u001b[0marray_ops\u001b[0m\u001b[1;33m.\u001b[0m\u001b[0mtile\u001b[0m\u001b[1;33m(\u001b[0m\u001b[0mgrad\u001b[0m\u001b[1;33m,\u001b[0m \u001b[0mtile_scaling\u001b[0m\u001b[1;33m)\u001b[0m\u001b[1;33m,\u001b[0m \u001b[1;32mNone\u001b[0m\u001b[1;33m]\u001b[0m\u001b[1;33m\u001b[0m\u001b[1;33m\u001b[0m\u001b[0m\n",
      "\u001b[1;32md:\\py_virtualenv\\lib\\site-packages\\tensorflow_core\\python\\ops\\math_grad.py\u001b[0m in \u001b[0;36m_safe_shape_div\u001b[1;34m(x, y)\u001b[0m\n\u001b[0;32m     36\u001b[0m \u001b[1;32mdef\u001b[0m \u001b[0m_safe_shape_div\u001b[0m\u001b[1;33m(\u001b[0m\u001b[0mx\u001b[0m\u001b[1;33m,\u001b[0m \u001b[0my\u001b[0m\u001b[1;33m)\u001b[0m\u001b[1;33m:\u001b[0m\u001b[1;33m\u001b[0m\u001b[1;33m\u001b[0m\u001b[0m\n\u001b[0;32m     37\u001b[0m   \u001b[1;34m\"\"\"Divides `x / y` assuming `x, y >= 0`, treating `0 / 0 = 0`.\"\"\"\u001b[0m\u001b[1;33m\u001b[0m\u001b[1;33m\u001b[0m\u001b[0m\n\u001b[1;32m---> 38\u001b[1;33m   \u001b[1;32mreturn\u001b[0m \u001b[0mx\u001b[0m \u001b[1;33m//\u001b[0m \u001b[0mmath_ops\u001b[0m\u001b[1;33m.\u001b[0m\u001b[0mmaximum\u001b[0m\u001b[1;33m(\u001b[0m\u001b[0my\u001b[0m\u001b[1;33m,\u001b[0m \u001b[1;36m1\u001b[0m\u001b[1;33m)\u001b[0m\u001b[1;33m\u001b[0m\u001b[1;33m\u001b[0m\u001b[0m\n\u001b[0m\u001b[0;32m     39\u001b[0m \u001b[1;33m\u001b[0m\u001b[0m\n\u001b[0;32m     40\u001b[0m \u001b[1;33m\u001b[0m\u001b[0m\n",
      "\u001b[1;32md:\\py_virtualenv\\lib\\site-packages\\tensorflow_core\\python\\ops\\gen_math_ops.py\u001b[0m in \u001b[0;36mmaximum\u001b[1;34m(x, y, name)\u001b[0m\n\u001b[0;32m   6279\u001b[0m       _result = _pywrap_tensorflow.TFE_Py_FastPathExecute(\n\u001b[0;32m   6280\u001b[0m         \u001b[0m_ctx\u001b[0m\u001b[1;33m.\u001b[0m\u001b[0m_context_handle\u001b[0m\u001b[1;33m,\u001b[0m \u001b[0m_ctx\u001b[0m\u001b[1;33m.\u001b[0m\u001b[0m_thread_local_data\u001b[0m\u001b[1;33m.\u001b[0m\u001b[0mdevice_name\u001b[0m\u001b[1;33m,\u001b[0m \u001b[1;34m\"Maximum\"\u001b[0m\u001b[1;33m,\u001b[0m\u001b[1;33m\u001b[0m\u001b[1;33m\u001b[0m\u001b[0m\n\u001b[1;32m-> 6281\u001b[1;33m         name, _ctx._post_execution_callbacks, x, y)\n\u001b[0m\u001b[0;32m   6282\u001b[0m       \u001b[1;32mreturn\u001b[0m \u001b[0m_result\u001b[0m\u001b[1;33m\u001b[0m\u001b[1;33m\u001b[0m\u001b[0m\n\u001b[0;32m   6283\u001b[0m     \u001b[1;32mexcept\u001b[0m \u001b[0m_core\u001b[0m\u001b[1;33m.\u001b[0m\u001b[0m_FallbackException\u001b[0m\u001b[1;33m:\u001b[0m\u001b[1;33m\u001b[0m\u001b[1;33m\u001b[0m\u001b[0m\n",
      "\u001b[1;31mKeyboardInterrupt\u001b[0m: "
     ]
    }
   ],
   "source": [
    "oSeqGe = None\n",
    "oSeqGd = None\n",
    "oSeqGe1 = None\n",
    "fn_train(oGANbit)"
   ]
  },
  {
   "cell_type": "code",
   "execution_count": 105,
   "metadata": {},
   "outputs": [],
   "source": [
    "strGe = \"Ge.h5\"\n",
    "strGd = \"Gd.h5\"\n",
    "strGe1 = \"Ge1.h5\"\n",
    "strRootDir = \"models/nobranch/sync/bit\"\n",
    "strModelsDir = os.path.join(strRootDir, \"(10,5)\")\n",
    "strGeFile = os.path.join(strModelsDir, strGe)\n",
    "strGdFile = os.path.join(strModelsDir, strGd)\n",
    "strGe1File = os.path.join(strModelsDir, strGe1)"
   ]
  },
  {
   "cell_type": "code",
   "execution_count": 139,
   "metadata": {},
   "outputs": [],
   "source": [
    "if os.path.exists(strModelsDir):\n",
    "    shutil.rmtree(strModelsDir)\n",
    "os.mkdir(strModelsDir)"
   ]
  },
  {
   "cell_type": "code",
   "execution_count": 140,
   "metadata": {},
   "outputs": [],
   "source": [
    "oSeqGe.save(strGeFile)\n",
    "oSeqGd.save(strGdFile)\n",
    "oSeqGe1.save(strGe1File)"
   ]
  },
  {
   "cell_type": "markdown",
   "metadata": {},
   "source": [
    "### 评估"
   ]
  },
  {
   "cell_type": "code",
   "execution_count": 106,
   "metadata": {},
   "outputs": [
    {
     "name": "stdout",
     "output_type": "stream",
     "text": [
      "WARNING:tensorflow:No training configuration found in save file: the model was *not* compiled. Compile it manually.\n",
      "WARNING:tensorflow:No training configuration found in save file: the model was *not* compiled. Compile it manually.\n",
      "WARNING:tensorflow:No training configuration found in save file: the model was *not* compiled. Compile it manually.\n"
     ]
    }
   ],
   "source": [
    "oSeqGe = tf.keras.models.load_model(strGeFile)\n",
    "oSeqGd = tf.keras.models.load_model(strGdFile)\n",
    "oSeqGe1 = tf.keras.models.load_model(strGe1File)"
   ]
  },
  {
   "cell_type": "code",
   "execution_count": 142,
   "metadata": {},
   "outputs": [],
   "source": [
    "# 算出正常训练集和异常测试集的分数\n",
    "# train samples\n",
    "for strJob in os.listdir(strJobsDir):\n",
    "    listDemodDirs = fn_getDemodDirsOfAJob(os.path.join(strJobsDir, strJob))\n",
    "    for strDemodDir in listDemodDirs:\n",
    "        strSamplesDir = os.path.join(strDemodDir, \"parts/sync/bit/samples/normal/train\")\n",
    "        pdDfPreprocessedSamples = pd.read_csv(\\\n",
    "              os.path.join(strSamplesDir, \"preprocessed/samples.csv\"))\n",
    "        pdDfSamples = pd.read_csv(os.path.join(strSamplesDir, \"samples.csv\"), index_col=\"RECTIME\")\n",
    "        # 分数csv包含scores列\n",
    "        pdDfScores = fn_score(pdDfPreprocessedSamples)\n",
    "        pdDfScores.index = pdDfSamples.index\n",
    "\n",
    "        pdDfScores.to_csv(os.path.join(strSamplesDir, \"preprocessed/scores.csv\"), index_label=\"RECTIME\")\n",
    "        \n",
    "# Abnormal samples\n",
    "for strJob in os.listdir(strJobsDir):\n",
    "    listDemodDirs = fn_getDemodDirsOfAJob(os.path.join(strJobsDir, strJob))\n",
    "    for strDemodDir in listDemodDirs:\n",
    "        strSamplesDir = os.path.join(strDemodDir, \"parts/sync/bit/samples/abnormal\")\n",
    "        pdDfPreprocessedSamples = pd.read_csv(os.path.join(strSamplesDir, \"preprocessed/samples.csv\"), index_col=\"RECTIME\")\n",
    "        pdDfScores = fn_score(pdDfPreprocessedSamples)\n",
    "\n",
    "        pdDfScores.to_csv(os.path.join(strSamplesDir, \"preprocessed/scores.csv\"), index_label=\"RECTIME\")"
   ]
  },
  {
   "cell_type": "code",
   "execution_count": 21,
   "metadata": {},
   "outputs": [],
   "source": [
    "# 读入正常测试样本和异常测试样本的分数，分别存入numpy数组\n",
    "listScores = []\n",
    "listX = []\n",
    "for strJob in os.listdir(strJobsDir):\n",
    "    strJobDir = os.path.join(strJobsDir, strJob)\n",
    "    listDemodDirs = fn_getDemodDirsOfAJob(strJobDir)\n",
    "    for strDemodDir in listDemodDirs:\n",
    "        strNormalTestingScoresFile = os.path.join(strDemodDir, \\\n",
    "                                                  \"parts/sync/bit/samples/normal/train/preprocessed/scores.csv\")\n",
    "        pdDfNormalTestingScores = pd.read_csv(strNormalTestingScoresFile, index_col=\"RECTIME\")\n",
    "        \n",
    "        if not pdDfNormalTestingScores.empty:\n",
    "            listScores.append(pdDfNormalTestingScores[\"score\"].values)\n",
    "            \n",
    "            # 分数的横坐标——用crc编码“解调器名+上报时间”\n",
    "            strDemod = os.path.split(strDemodDir)[1]\n",
    "            listX.append([hash(strDemod + strIndex) for strIndex in pdDfNormalTestingScores.index])\n",
    "            \n",
    "npNormalScores = np.concatenate(listScores)\n",
    "npNormalX = np.concatenate(listX)"
   ]
  },
  {
   "cell_type": "code",
   "execution_count": 22,
   "metadata": {},
   "outputs": [],
   "source": [
    "listScores = []\n",
    "listX = []\n",
    "for strJob in os.listdir(strJobsDir):\n",
    "    strJobDir = os.path.join(strJobsDir, strJob)\n",
    "    listDemodDirs = fn_getDemodDirsOfAJob(strJobDir)\n",
    "    for strDemodDir in listDemodDirs:\n",
    "        strAbnormalTestingScoresFile = os.path.join(strDemodDir, \\\n",
    "                                                  \"parts/sync/bit/samples/abnormal/preprocessed/scores.csv\")\n",
    "        pdDfAbnormalTestingScores = pd.read_csv(strAbnormalTestingScoresFile, index_col=\"RECTIME\")\n",
    "        if not pdDfAbnormalTestingScores.empty:\n",
    "            listScores.append(pdDfAbnormalTestingScores[\"score\"].values)\n",
    "            \n",
    "             # 分数的横坐标——用crc编码“解调器名+上报时间”\n",
    "            strDemod = os.path.split(strDemodDir)[1]\n",
    "            listX.append([hash(strDemod + strIndex) for strIndex in pdDfAbnormalTestingScores.index])\n",
    "            \n",
    "npAbnormalScores = np.concatenate(listScores)\n",
    "npAbnormalX = np.concatenate(listX)"
   ]
  },
  {
   "cell_type": "code",
   "execution_count": 23,
   "metadata": {},
   "outputs": [],
   "source": [
    "\"\"\"\n",
    "通过正常训练样本的分数计算相应的正太分布，利用正态分布计算异常样本该部分正确的概率\n",
    "\"\"\"\n",
    "fMeanbit = np.mean(npNormalScores)\n",
    "fSigmabit = np.var(npNormalScores)\n",
    "npAbnormalprob = np.apply_along_axis(lambda x: 1 if x <= fMeanbit else ss.norm.sf(x, fMeanbit, fSigmabit), 1, \\\n",
    "     npAbnormalScores[:, np.newaxis])"
   ]
  },
  {
   "cell_type": "code",
   "execution_count": 24,
   "metadata": {},
   "outputs": [
    {
     "data": {
      "image/png": "[encoded data removed]",
      "text/plain": [
       "<Figure size 1080x720 with 1 Axes>"
      ]
     },
     "metadata": {
      "needs_background": "light"
     },
     "output_type": "display_data"
    }
   ],
   "source": [
    "plt.figure(figsize=(15, 10))\n",
    "plt.scatter(npAbnormalX, npAbnormalprob, s=40)\n",
    "plt.show()"
   ]
  },
  {
   "cell_type": "markdown",
   "metadata": {},
   "source": [
    "## 维特比译码"
   ]
  },
  {
   "cell_type": "markdown",
   "metadata": {},
   "source": [
    "### 构造建立模型"
   ]
  },
  {
   "cell_type": "code",
   "execution_count": 175,
   "metadata": {},
   "outputs": [],
   "source": [
    "# 17参数\n",
    "class GANvi(object):\n",
    "    def __init__(self):\n",
    "        self.fn_makeGenerator()\n",
    "        self.fn_makeDiscriminator()\n",
    "        \n",
    "    def fn_makeGenerator(self):\n",
    "        self.oSeqGe = tf.keras.Sequential(name=\"Ge\")\n",
    "        self.oSeqGe.add(tf.keras.Input(shape=(17,)))\n",
    "        self.oSeqGe.add(tf.keras.layers.Dense(8, kernel_initializer=\"he_normal\"))\n",
    "        self.oSeqGe.add(tf.keras.layers.LeakyReLU())\n",
    "        self.oSeqGe.add(tf.keras.layers.BatchNormalization())\n",
    "        self.oSeqGe.add(tf.keras.layers.Dense(8, kernel_initializer=\"he_normal\"))\n",
    "        self.oSeqGe.add(tf.keras.layers.LeakyReLU())\n",
    "\n",
    "        self.oSeqGd = tf.keras.Sequential(name=\"Gd\")\n",
    "        self.oSeqGd.add(tf.keras.Input(shape=(8,)))\n",
    "        self.oSeqGd.add(tf.keras.layers.Dense(8, kernel_initializer=\"he_normal\"))\n",
    "        self.oSeqGd.add(tf.keras.layers.LeakyReLU())\n",
    "        self.oSeqGd.add(tf.keras.layers.BatchNormalization())\n",
    "        self.oSeqGd.add(tf.keras.layers.Dense(17, activation = tf.keras.activations.tanh, kernel_initializer=\"he_normal\"))\n",
    "        \n",
    "        self.oSeqGe1 = tf.keras.Sequential(name=\"Ge1\")\n",
    "        self.oSeqGe1.add(tf.keras.Input(shape=(17,)))\n",
    "        self.oSeqGe1.add(tf.keras.layers.Dense(8, kernel_initializer=\"he_normal\"))\n",
    "        self.oSeqGe1.add(tf.keras.layers.LeakyReLU())\n",
    "        self.oSeqGe1.add(tf.keras.layers.BatchNormalization())\n",
    "        self.oSeqGe1.add(tf.keras.layers.Dense(8, kernel_initializer=\"he_normal\"))\n",
    "        self.oSeqGe1.add(tf.keras.layers.LeakyReLU())\n",
    "        \n",
    "    def fn_makeDiscriminator(self):\n",
    "        self.oSeqDInner = tf.keras.Sequential(name=\"DInner\")\n",
    "        self.oSeqDInner.add(tf.keras.Input(shape=(17,)))\n",
    "        self.oSeqDInner.add(tf.keras.layers.Dense(8, kernel_initializer=\"he_normal\"))\n",
    "        self.oSeqDInner.add(tf.keras.layers.LeakyReLU())\n",
    "        self.oSeqDInner.add(tf.keras.layers.BatchNormalization())\n",
    "        self.oSeqDInner.add(tf.keras.layers.Dense(8, kernel_initializer=\"he_normal\"))\n",
    "        self.oSeqDInner.add(tf.keras.layers.LeakyReLU())\n",
    "        self.oSeqDInner.add(tf.keras.layers.BatchNormalization())\n",
    "\n",
    "        self.oSeqD = tf.keras.Sequential([\n",
    "            self.oSeqDInner,\n",
    "            tf.keras.layers.Dense(1, activation = tf.keras.activations.sigmoid)\n",
    "        ], name=\"D\")"
   ]
  },
  {
   "cell_type": "code",
   "execution_count": 176,
   "metadata": {},
   "outputs": [],
   "source": [
    "# 新建模型\n",
    "tf.keras.backend.clear_session()\n",
    "oGANvi = GANvi()"
   ]
  },
  {
   "cell_type": "markdown",
   "metadata": {},
   "source": [
    "### 构造数据集"
   ]
  },
  {
   "cell_type": "code",
   "execution_count": 177,
   "metadata": {},
   "outputs": [],
   "source": [
    "g_nFeatures = 17\n",
    "g_nBatchSize = 256\n",
    "\n",
    "def fn_splitCsvLine(strLine):\n",
    "    tensorDefs = [0.] * g_nFeatures\n",
    "    tensorRecord = tf.io.decode_csv(strLine, record_defaults=tensorDefs)\n",
    "    tensorX = tf.stack(tensorRecord)\n",
    "    return tensorX\n",
    "\n",
    "oDataset = tf.data.Dataset.list_files(strJobsDir + \"/*/*/parts/sync/vi/samples/normal/train/preprocessed/samples.csv\")\n",
    "oDataset = oDataset.interleave(lambda strSamplesFile: tf.data.TextLineDataset(strSamplesFile).skip(1), \\\n",
    "                              cycle_length=5, num_parallel_calls=5)\n",
    "oDataset = oDataset.map(fn_splitCsvLine, g_nFeatures)\n",
    "oDataset = oDataset.shuffle(1000)\n",
    "oDataset = oDataset.batch(g_nBatchSize)"
   ]
  },
  {
   "cell_type": "code",
   "execution_count": 160,
   "metadata": {},
   "outputs": [],
   "source": [
    "# 读入所有的训练样本，从而通过shape属性得到训练集大小，存入全局变量中\n",
    "listPreprocessedNormalTrainingSamples = []\n",
    "for strJob in os.listdir(strJobsDir):\n",
    "    strJobDir = os.path.join(strJobsDir, strJob)\n",
    "    listDemodDirs = fn_getDemodDirsOfAJob(strJobDir)\n",
    "    for strDemodDir in listDemodDirs:\n",
    "        strPreprocessedNormalTrainingSamplesFile = os.path.join(strDemodDir, \\\n",
    "                                                   \"parts/sync/vi/samples/normal/train/preprocessed/samples.csv\")\n",
    "        pdDfPreprocessedNormalTrainingSamples = pd.read_csv(strPreprocessedNormalTrainingSamplesFile)\n",
    "        listPreprocessedNormalTrainingSamples.append(pdDfPreprocessedNormalTrainingSamples)\n",
    "pdDfPreprocessedNormalTrainingSamples = pd.concat(listPreprocessedNormalTrainingSamples)\n",
    "g_tensorNormalTrainingSamples = tf.constant(pdDfPreprocessedNormalTrainingSamples.values, dtype=tf.float32)\n",
    "g_nTrainingSize = len(g_tensorNormalTrainingSamples)"
   ]
  },
  {
   "cell_type": "markdown",
   "metadata": {},
   "source": [
    "### 训练"
   ]
  },
  {
   "cell_type": "code",
   "execution_count": 178,
   "metadata": {},
   "outputs": [],
   "source": [
    "# g_nTrainingSize在中频控制已经设置好了\n",
    "g_nEpochs = 10000\n",
    "nSteps = g_nEpochs * g_nTrainingSize // g_nBatchSize\n",
    "oExponentialDecay = tf.keras.optimizers.schedules.ExponentialDecay(1e-2, nSteps, 1e-1)\n",
    "oOptimizerG = tf.keras.optimizers.Adam(learning_rate=oExponentialDecay)\n",
    "oOptimizerD = tf.keras.optimizers.SGD(learning_rate=oExponentialDecay)"
   ]
  },
  {
   "cell_type": "code",
   "execution_count": 179,
   "metadata": {},
   "outputs": [],
   "source": [
    "strD = \"(17,8)_D\"\n",
    "strA = \"(17,8)_A\"\n",
    "strRootDir = \"logs/nobranch/sync/vi\"\n",
    "strDDir = os.path.join(strRootDir, strD)\n",
    "strADir = os.path.join(strRootDir, strA)\n",
    "if os.path.exists(strDDir):\n",
    "    shutil.rmtree(strDDir)\n",
    "if os.path.exists(strADir):\n",
    "    shutil.rmtree(strADir)"
   ]
  },
  {
   "cell_type": "code",
   "execution_count": 180,
   "metadata": {},
   "outputs": [],
   "source": [
    "oSummaryWriterDLoss = tf.summary.create_file_writer(strDDir)\n",
    "oSummaryWriterALoss = tf.summary.create_file_writer(strADir)"
   ]
  },
  {
   "cell_type": "code",
   "execution_count": 181,
   "metadata": {},
   "outputs": [
    {
     "name": "stdout",
     "output_type": "stream",
     "text": [
      "1591/10000"
     ]
    },
    {
     "ename": "KeyboardInterrupt",
     "evalue": "",
     "output_type": "error",
     "traceback": [
      "\u001b[1;31m---------------------------------------------------------------------------\u001b[0m",
      "\u001b[1;31mKeyboardInterrupt\u001b[0m                         Traceback (most recent call last)",
      "\u001b[1;32m<ipython-input-181-110ef214f3db>\u001b[0m in \u001b[0;36m<module>\u001b[1;34m\u001b[0m\n\u001b[0;32m      2\u001b[0m \u001b[0moSeqGd\u001b[0m \u001b[1;33m=\u001b[0m \u001b[1;32mNone\u001b[0m\u001b[1;33m\u001b[0m\u001b[1;33m\u001b[0m\u001b[0m\n\u001b[0;32m      3\u001b[0m \u001b[0moSeqGe1\u001b[0m \u001b[1;33m=\u001b[0m \u001b[1;32mNone\u001b[0m\u001b[1;33m\u001b[0m\u001b[1;33m\u001b[0m\u001b[0m\n\u001b[1;32m----> 4\u001b[1;33m \u001b[0mfn_train\u001b[0m\u001b[1;33m(\u001b[0m\u001b[0moGANvi\u001b[0m\u001b[1;33m)\u001b[0m\u001b[1;33m\u001b[0m\u001b[1;33m\u001b[0m\u001b[0m\n\u001b[0m",
      "\u001b[1;32m<ipython-input-72-3855d8924bd9>\u001b[0m in \u001b[0;36mfn_train\u001b[1;34m(oGAN)\u001b[0m\n\u001b[0;32m     49\u001b[0m             \u001b[1;31m# Train genertor\u001b[0m\u001b[1;33m\u001b[0m\u001b[1;33m\u001b[0m\u001b[1;33m\u001b[0m\u001b[0m\n\u001b[0;32m     50\u001b[0m             \u001b[1;32mwith\u001b[0m \u001b[0mtf\u001b[0m\u001b[1;33m.\u001b[0m\u001b[0mGradientTape\u001b[0m\u001b[1;33m(\u001b[0m\u001b[1;33m)\u001b[0m \u001b[1;32mas\u001b[0m \u001b[0moGradientTapeG\u001b[0m\u001b[1;33m:\u001b[0m\u001b[1;33m\u001b[0m\u001b[1;33m\u001b[0m\u001b[0m\n\u001b[1;32m---> 51\u001b[1;33m                 \u001b[0mtensorGLoss\u001b[0m \u001b[1;33m=\u001b[0m \u001b[0mfn_getGLoss\u001b[0m\u001b[1;33m(\u001b[0m\u001b[0mtensorBatch\u001b[0m\u001b[1;33m)\u001b[0m\u001b[1;33m\u001b[0m\u001b[1;33m\u001b[0m\u001b[0m\n\u001b[0m\u001b[0;32m     52\u001b[0m             \u001b[1;31m# Insert all generator trainable variables into a list\u001b[0m\u001b[1;33m\u001b[0m\u001b[1;33m\u001b[0m\u001b[1;33m\u001b[0m\u001b[0m\n\u001b[0;32m     53\u001b[0m             \u001b[0mlistTrainableGVariables\u001b[0m \u001b[1;33m=\u001b[0m \u001b[1;33m[\u001b[0m\u001b[1;33m]\u001b[0m\u001b[1;33m\u001b[0m\u001b[1;33m\u001b[0m\u001b[0m\n",
      "\u001b[1;32m<ipython-input-72-3855d8924bd9>\u001b[0m in \u001b[0;36mfn_getGLoss\u001b[1;34m(tensorInput)\u001b[0m\n\u001b[0;32m      3\u001b[0m         \u001b[1;31m# Apperant loss\u001b[0m\u001b[1;33m\u001b[0m\u001b[1;33m\u001b[0m\u001b[1;33m\u001b[0m\u001b[0m\n\u001b[0;32m      4\u001b[0m         \u001b[0mtensorEncodedSamples\u001b[0m \u001b[1;33m=\u001b[0m \u001b[0moGAN\u001b[0m\u001b[1;33m.\u001b[0m\u001b[0moSeqGe\u001b[0m\u001b[1;33m(\u001b[0m\u001b[0mtensorInput\u001b[0m\u001b[1;33m)\u001b[0m\u001b[1;33m\u001b[0m\u001b[1;33m\u001b[0m\u001b[0m\n\u001b[1;32m----> 5\u001b[1;33m         \u001b[0mtensorFakeSamples\u001b[0m \u001b[1;33m=\u001b[0m \u001b[0moGAN\u001b[0m\u001b[1;33m.\u001b[0m\u001b[0moSeqGd\u001b[0m\u001b[1;33m(\u001b[0m\u001b[0mtensorEncodedSamples\u001b[0m\u001b[1;33m)\u001b[0m\u001b[1;33m\u001b[0m\u001b[1;33m\u001b[0m\u001b[0m\n\u001b[0m\u001b[0;32m      6\u001b[0m         \u001b[0mtensorApperantLoss\u001b[0m \u001b[1;33m=\u001b[0m \u001b[0mtf\u001b[0m\u001b[1;33m.\u001b[0m\u001b[0mreduce_mean\u001b[0m\u001b[1;33m(\u001b[0m\u001b[0mtf\u001b[0m\u001b[1;33m.\u001b[0m\u001b[0mlosses\u001b[0m\u001b[1;33m.\u001b[0m\u001b[0mmean_absolute_error\u001b[0m\u001b[1;33m(\u001b[0m\u001b[0mtensorInput\u001b[0m\u001b[1;33m,\u001b[0m \u001b[0mtensorFakeSamples\u001b[0m\u001b[1;33m)\u001b[0m\u001b[1;33m)\u001b[0m\u001b[1;33m\u001b[0m\u001b[1;33m\u001b[0m\u001b[0m\n\u001b[0;32m      7\u001b[0m \u001b[1;33m\u001b[0m\u001b[0m\n",
      "\u001b[1;32md:\\py_virtualenv\\lib\\site-packages\\tensorflow_core\\python\\keras\\engine\\base_layer.py\u001b[0m in \u001b[0;36m__call__\u001b[1;34m(self, inputs, *args, **kwargs)\u001b[0m\n\u001b[0;32m    889\u001b[0m           with base_layer_utils.autocast_context_manager(\n\u001b[0;32m    890\u001b[0m               self._compute_dtype):\n\u001b[1;32m--> 891\u001b[1;33m             \u001b[0moutputs\u001b[0m \u001b[1;33m=\u001b[0m \u001b[0mself\u001b[0m\u001b[1;33m.\u001b[0m\u001b[0mcall\u001b[0m\u001b[1;33m(\u001b[0m\u001b[0mcast_inputs\u001b[0m\u001b[1;33m,\u001b[0m \u001b[1;33m*\u001b[0m\u001b[0margs\u001b[0m\u001b[1;33m,\u001b[0m \u001b[1;33m**\u001b[0m\u001b[0mkwargs\u001b[0m\u001b[1;33m)\u001b[0m\u001b[1;33m\u001b[0m\u001b[1;33m\u001b[0m\u001b[0m\n\u001b[0m\u001b[0;32m    892\u001b[0m           \u001b[0mself\u001b[0m\u001b[1;33m.\u001b[0m\u001b[0m_handle_activity_regularization\u001b[0m\u001b[1;33m(\u001b[0m\u001b[0minputs\u001b[0m\u001b[1;33m,\u001b[0m \u001b[0moutputs\u001b[0m\u001b[1;33m)\u001b[0m\u001b[1;33m\u001b[0m\u001b[1;33m\u001b[0m\u001b[0m\n\u001b[0;32m    893\u001b[0m           \u001b[0mself\u001b[0m\u001b[1;33m.\u001b[0m\u001b[0m_set_mask_metadata\u001b[0m\u001b[1;33m(\u001b[0m\u001b[0minputs\u001b[0m\u001b[1;33m,\u001b[0m \u001b[0moutputs\u001b[0m\u001b[1;33m,\u001b[0m \u001b[0minput_masks\u001b[0m\u001b[1;33m)\u001b[0m\u001b[1;33m\u001b[0m\u001b[1;33m\u001b[0m\u001b[0m\n",
      "\u001b[1;32md:\\py_virtualenv\\lib\\site-packages\\tensorflow_core\\python\\keras\\engine\\sequential.py\u001b[0m in \u001b[0;36mcall\u001b[1;34m(self, inputs, training, mask)\u001b[0m\n\u001b[0;32m    254\u001b[0m       \u001b[1;32mif\u001b[0m \u001b[1;32mnot\u001b[0m \u001b[0mself\u001b[0m\u001b[1;33m.\u001b[0m\u001b[0mbuilt\u001b[0m\u001b[1;33m:\u001b[0m\u001b[1;33m\u001b[0m\u001b[1;33m\u001b[0m\u001b[0m\n\u001b[0;32m    255\u001b[0m         \u001b[0mself\u001b[0m\u001b[1;33m.\u001b[0m\u001b[0m_init_graph_network\u001b[0m\u001b[1;33m(\u001b[0m\u001b[0mself\u001b[0m\u001b[1;33m.\u001b[0m\u001b[0minputs\u001b[0m\u001b[1;33m,\u001b[0m \u001b[0mself\u001b[0m\u001b[1;33m.\u001b[0m\u001b[0moutputs\u001b[0m\u001b[1;33m,\u001b[0m \u001b[0mname\u001b[0m\u001b[1;33m=\u001b[0m\u001b[0mself\u001b[0m\u001b[1;33m.\u001b[0m\u001b[0mname\u001b[0m\u001b[1;33m)\u001b[0m\u001b[1;33m\u001b[0m\u001b[1;33m\u001b[0m\u001b[0m\n\u001b[1;32m--> 256\u001b[1;33m       \u001b[1;32mreturn\u001b[0m \u001b[0msuper\u001b[0m\u001b[1;33m(\u001b[0m\u001b[0mSequential\u001b[0m\u001b[1;33m,\u001b[0m \u001b[0mself\u001b[0m\u001b[1;33m)\u001b[0m\u001b[1;33m.\u001b[0m\u001b[0mcall\u001b[0m\u001b[1;33m(\u001b[0m\u001b[0minputs\u001b[0m\u001b[1;33m,\u001b[0m \u001b[0mtraining\u001b[0m\u001b[1;33m=\u001b[0m\u001b[0mtraining\u001b[0m\u001b[1;33m,\u001b[0m \u001b[0mmask\u001b[0m\u001b[1;33m=\u001b[0m\u001b[0mmask\u001b[0m\u001b[1;33m)\u001b[0m\u001b[1;33m\u001b[0m\u001b[1;33m\u001b[0m\u001b[0m\n\u001b[0m\u001b[0;32m    257\u001b[0m \u001b[1;33m\u001b[0m\u001b[0m\n\u001b[0;32m    258\u001b[0m     \u001b[0moutputs\u001b[0m \u001b[1;33m=\u001b[0m \u001b[0minputs\u001b[0m  \u001b[1;31m# handle the corner case where self.layers is empty\u001b[0m\u001b[1;33m\u001b[0m\u001b[1;33m\u001b[0m\u001b[0m\n",
      "\u001b[1;32md:\\py_virtualenv\\lib\\site-packages\\tensorflow_core\\python\\keras\\engine\\network.py\u001b[0m in \u001b[0;36mcall\u001b[1;34m(self, inputs, training, mask)\u001b[0m\n\u001b[0;32m    706\u001b[0m     return self._run_internal_graph(\n\u001b[0;32m    707\u001b[0m         \u001b[0minputs\u001b[0m\u001b[1;33m,\u001b[0m \u001b[0mtraining\u001b[0m\u001b[1;33m=\u001b[0m\u001b[0mtraining\u001b[0m\u001b[1;33m,\u001b[0m \u001b[0mmask\u001b[0m\u001b[1;33m=\u001b[0m\u001b[0mmask\u001b[0m\u001b[1;33m,\u001b[0m\u001b[1;33m\u001b[0m\u001b[1;33m\u001b[0m\u001b[0m\n\u001b[1;32m--> 708\u001b[1;33m         convert_kwargs_to_constants=base_layer_utils.call_context().saving)\n\u001b[0m\u001b[0;32m    709\u001b[0m \u001b[1;33m\u001b[0m\u001b[0m\n\u001b[0;32m    710\u001b[0m   \u001b[1;32mdef\u001b[0m \u001b[0mcompute_output_shape\u001b[0m\u001b[1;33m(\u001b[0m\u001b[0mself\u001b[0m\u001b[1;33m,\u001b[0m \u001b[0minput_shape\u001b[0m\u001b[1;33m)\u001b[0m\u001b[1;33m:\u001b[0m\u001b[1;33m\u001b[0m\u001b[1;33m\u001b[0m\u001b[0m\n",
      "\u001b[1;32md:\\py_virtualenv\\lib\\site-packages\\tensorflow_core\\python\\keras\\engine\\network.py\u001b[0m in \u001b[0;36m_run_internal_graph\u001b[1;34m(self, inputs, training, mask, convert_kwargs_to_constants)\u001b[0m\n\u001b[0;32m    858\u001b[0m \u001b[1;33m\u001b[0m\u001b[0m\n\u001b[0;32m    859\u001b[0m           \u001b[1;31m# Compute outputs.\u001b[0m\u001b[1;33m\u001b[0m\u001b[1;33m\u001b[0m\u001b[1;33m\u001b[0m\u001b[0m\n\u001b[1;32m--> 860\u001b[1;33m           \u001b[0moutput_tensors\u001b[0m \u001b[1;33m=\u001b[0m \u001b[0mlayer\u001b[0m\u001b[1;33m(\u001b[0m\u001b[0mcomputed_tensors\u001b[0m\u001b[1;33m,\u001b[0m \u001b[1;33m**\u001b[0m\u001b[0mkwargs\u001b[0m\u001b[1;33m)\u001b[0m\u001b[1;33m\u001b[0m\u001b[1;33m\u001b[0m\u001b[0m\n\u001b[0m\u001b[0;32m    861\u001b[0m \u001b[1;33m\u001b[0m\u001b[0m\n\u001b[0;32m    862\u001b[0m           \u001b[1;31m# Update tensor_dict.\u001b[0m\u001b[1;33m\u001b[0m\u001b[1;33m\u001b[0m\u001b[1;33m\u001b[0m\u001b[0m\n",
      "\u001b[1;32md:\\py_virtualenv\\lib\\site-packages\\tensorflow_core\\python\\keras\\engine\\base_layer.py\u001b[0m in \u001b[0;36m__call__\u001b[1;34m(self, inputs, *args, **kwargs)\u001b[0m\n\u001b[0;32m    889\u001b[0m           with base_layer_utils.autocast_context_manager(\n\u001b[0;32m    890\u001b[0m               self._compute_dtype):\n\u001b[1;32m--> 891\u001b[1;33m             \u001b[0moutputs\u001b[0m \u001b[1;33m=\u001b[0m \u001b[0mself\u001b[0m\u001b[1;33m.\u001b[0m\u001b[0mcall\u001b[0m\u001b[1;33m(\u001b[0m\u001b[0mcast_inputs\u001b[0m\u001b[1;33m,\u001b[0m \u001b[1;33m*\u001b[0m\u001b[0margs\u001b[0m\u001b[1;33m,\u001b[0m \u001b[1;33m**\u001b[0m\u001b[0mkwargs\u001b[0m\u001b[1;33m)\u001b[0m\u001b[1;33m\u001b[0m\u001b[1;33m\u001b[0m\u001b[0m\n\u001b[0m\u001b[0;32m    892\u001b[0m           \u001b[0mself\u001b[0m\u001b[1;33m.\u001b[0m\u001b[0m_handle_activity_regularization\u001b[0m\u001b[1;33m(\u001b[0m\u001b[0minputs\u001b[0m\u001b[1;33m,\u001b[0m \u001b[0moutputs\u001b[0m\u001b[1;33m)\u001b[0m\u001b[1;33m\u001b[0m\u001b[1;33m\u001b[0m\u001b[0m\n\u001b[0;32m    893\u001b[0m           \u001b[0mself\u001b[0m\u001b[1;33m.\u001b[0m\u001b[0m_set_mask_metadata\u001b[0m\u001b[1;33m(\u001b[0m\u001b[0minputs\u001b[0m\u001b[1;33m,\u001b[0m \u001b[0moutputs\u001b[0m\u001b[1;33m,\u001b[0m \u001b[0minput_masks\u001b[0m\u001b[1;33m)\u001b[0m\u001b[1;33m\u001b[0m\u001b[1;33m\u001b[0m\u001b[0m\n",
      "\u001b[1;32md:\\py_virtualenv\\lib\\site-packages\\tensorflow_core\\python\\keras\\layers\\core.py\u001b[0m in \u001b[0;36mcall\u001b[1;34m(self, inputs)\u001b[0m\n\u001b[0;32m   1056\u001b[0m         \u001b[0moutputs\u001b[0m \u001b[1;33m=\u001b[0m \u001b[0mgen_math_ops\u001b[0m\u001b[1;33m.\u001b[0m\u001b[0mmat_mul\u001b[0m\u001b[1;33m(\u001b[0m\u001b[0minputs\u001b[0m\u001b[1;33m,\u001b[0m \u001b[0mself\u001b[0m\u001b[1;33m.\u001b[0m\u001b[0mkernel\u001b[0m\u001b[1;33m)\u001b[0m\u001b[1;33m\u001b[0m\u001b[1;33m\u001b[0m\u001b[0m\n\u001b[0;32m   1057\u001b[0m     \u001b[1;32mif\u001b[0m \u001b[0mself\u001b[0m\u001b[1;33m.\u001b[0m\u001b[0muse_bias\u001b[0m\u001b[1;33m:\u001b[0m\u001b[1;33m\u001b[0m\u001b[1;33m\u001b[0m\u001b[0m\n\u001b[1;32m-> 1058\u001b[1;33m       \u001b[0moutputs\u001b[0m \u001b[1;33m=\u001b[0m \u001b[0mnn\u001b[0m\u001b[1;33m.\u001b[0m\u001b[0mbias_add\u001b[0m\u001b[1;33m(\u001b[0m\u001b[0moutputs\u001b[0m\u001b[1;33m,\u001b[0m \u001b[0mself\u001b[0m\u001b[1;33m.\u001b[0m\u001b[0mbias\u001b[0m\u001b[1;33m)\u001b[0m\u001b[1;33m\u001b[0m\u001b[1;33m\u001b[0m\u001b[0m\n\u001b[0m\u001b[0;32m   1059\u001b[0m     \u001b[1;32mif\u001b[0m \u001b[0mself\u001b[0m\u001b[1;33m.\u001b[0m\u001b[0mactivation\u001b[0m \u001b[1;32mis\u001b[0m \u001b[1;32mnot\u001b[0m \u001b[1;32mNone\u001b[0m\u001b[1;33m:\u001b[0m\u001b[1;33m\u001b[0m\u001b[1;33m\u001b[0m\u001b[0m\n\u001b[0;32m   1060\u001b[0m       \u001b[1;32mreturn\u001b[0m \u001b[0mself\u001b[0m\u001b[1;33m.\u001b[0m\u001b[0mactivation\u001b[0m\u001b[1;33m(\u001b[0m\u001b[0moutputs\u001b[0m\u001b[1;33m)\u001b[0m  \u001b[1;31m# pylint: disable=not-callable\u001b[0m\u001b[1;33m\u001b[0m\u001b[1;33m\u001b[0m\u001b[0m\n",
      "\u001b[1;32md:\\py_virtualenv\\lib\\site-packages\\tensorflow_core\\python\\ops\\nn_ops.py\u001b[0m in \u001b[0;36mbias_add\u001b[1;34m(value, bias, data_format, name)\u001b[0m\n\u001b[0;32m   2716\u001b[0m       \u001b[0mvalue\u001b[0m \u001b[1;33m=\u001b[0m \u001b[0mops\u001b[0m\u001b[1;33m.\u001b[0m\u001b[0mconvert_to_tensor\u001b[0m\u001b[1;33m(\u001b[0m\u001b[0mvalue\u001b[0m\u001b[1;33m,\u001b[0m \u001b[0mname\u001b[0m\u001b[1;33m=\u001b[0m\u001b[1;34m\"input\"\u001b[0m\u001b[1;33m)\u001b[0m\u001b[1;33m\u001b[0m\u001b[1;33m\u001b[0m\u001b[0m\n\u001b[0;32m   2717\u001b[0m       \u001b[0mbias\u001b[0m \u001b[1;33m=\u001b[0m \u001b[0mops\u001b[0m\u001b[1;33m.\u001b[0m\u001b[0mconvert_to_tensor\u001b[0m\u001b[1;33m(\u001b[0m\u001b[0mbias\u001b[0m\u001b[1;33m,\u001b[0m \u001b[0mdtype\u001b[0m\u001b[1;33m=\u001b[0m\u001b[0mvalue\u001b[0m\u001b[1;33m.\u001b[0m\u001b[0mdtype\u001b[0m\u001b[1;33m,\u001b[0m \u001b[0mname\u001b[0m\u001b[1;33m=\u001b[0m\u001b[1;34m\"bias\"\u001b[0m\u001b[1;33m)\u001b[0m\u001b[1;33m\u001b[0m\u001b[1;33m\u001b[0m\u001b[0m\n\u001b[1;32m-> 2718\u001b[1;33m     \u001b[1;32mreturn\u001b[0m \u001b[0mgen_nn_ops\u001b[0m\u001b[1;33m.\u001b[0m\u001b[0mbias_add\u001b[0m\u001b[1;33m(\u001b[0m\u001b[0mvalue\u001b[0m\u001b[1;33m,\u001b[0m \u001b[0mbias\u001b[0m\u001b[1;33m,\u001b[0m \u001b[0mdata_format\u001b[0m\u001b[1;33m=\u001b[0m\u001b[0mdata_format\u001b[0m\u001b[1;33m,\u001b[0m \u001b[0mname\u001b[0m\u001b[1;33m=\u001b[0m\u001b[0mname\u001b[0m\u001b[1;33m)\u001b[0m\u001b[1;33m\u001b[0m\u001b[1;33m\u001b[0m\u001b[0m\n\u001b[0m\u001b[0;32m   2719\u001b[0m \u001b[1;33m\u001b[0m\u001b[0m\n\u001b[0;32m   2720\u001b[0m \u001b[1;33m\u001b[0m\u001b[0m\n",
      "\u001b[1;32md:\\py_virtualenv\\lib\\site-packages\\tensorflow_core\\python\\ops\\gen_nn_ops.py\u001b[0m in \u001b[0;36mbias_add\u001b[1;34m(value, bias, data_format, name)\u001b[0m\n\u001b[0;32m    739\u001b[0m         \u001b[0m_ctx\u001b[0m\u001b[1;33m.\u001b[0m\u001b[0m_context_handle\u001b[0m\u001b[1;33m,\u001b[0m \u001b[0m_ctx\u001b[0m\u001b[1;33m.\u001b[0m\u001b[0m_thread_local_data\u001b[0m\u001b[1;33m.\u001b[0m\u001b[0mdevice_name\u001b[0m\u001b[1;33m,\u001b[0m \u001b[1;34m\"BiasAdd\"\u001b[0m\u001b[1;33m,\u001b[0m\u001b[1;33m\u001b[0m\u001b[1;33m\u001b[0m\u001b[0m\n\u001b[0;32m    740\u001b[0m         \u001b[0mname\u001b[0m\u001b[1;33m,\u001b[0m \u001b[0m_ctx\u001b[0m\u001b[1;33m.\u001b[0m\u001b[0m_post_execution_callbacks\u001b[0m\u001b[1;33m,\u001b[0m \u001b[0mvalue\u001b[0m\u001b[1;33m,\u001b[0m \u001b[0mbias\u001b[0m\u001b[1;33m,\u001b[0m \u001b[1;34m\"data_format\"\u001b[0m\u001b[1;33m,\u001b[0m\u001b[1;33m\u001b[0m\u001b[1;33m\u001b[0m\u001b[0m\n\u001b[1;32m--> 741\u001b[1;33m         data_format)\n\u001b[0m\u001b[0;32m    742\u001b[0m       \u001b[1;32mreturn\u001b[0m \u001b[0m_result\u001b[0m\u001b[1;33m\u001b[0m\u001b[1;33m\u001b[0m\u001b[0m\n\u001b[0;32m    743\u001b[0m     \u001b[1;32mexcept\u001b[0m \u001b[0m_core\u001b[0m\u001b[1;33m.\u001b[0m\u001b[0m_FallbackException\u001b[0m\u001b[1;33m:\u001b[0m\u001b[1;33m\u001b[0m\u001b[1;33m\u001b[0m\u001b[0m\n",
      "\u001b[1;31mKeyboardInterrupt\u001b[0m: "
     ]
    }
   ],
   "source": [
    "oSeqGe = None\n",
    "oSeqGd = None\n",
    "oSeqGe1 = None\n",
    "fn_train(oGANvi)"
   ]
  },
  {
   "cell_type": "code",
   "execution_count": 112,
   "metadata": {},
   "outputs": [],
   "source": [
    "strGe = \"Ge.h5\"\n",
    "strGd = \"Gd.h5\"\n",
    "strGe1 = \"Ge1.h5\"\n",
    "strRootDir = \"models/nobranch/sync/vi\"\n",
    "strModelsDir = os.path.join(strRootDir, \"(17,8)\")\n",
    "strGeFile = os.path.join(strModelsDir, strGe)\n",
    "strGdFile = os.path.join(strModelsDir, strGd)\n",
    "strGe1File = os.path.join(strModelsDir, strGe1)"
   ]
  },
  {
   "cell_type": "code",
   "execution_count": 182,
   "metadata": {},
   "outputs": [],
   "source": [
    "if os.path.exists(strModelsDir):\n",
    "    shutil.rmtree(strModelsDir)\n",
    "os.mkdir(strModelsDir)"
   ]
  },
  {
   "cell_type": "code",
   "execution_count": 183,
   "metadata": {},
   "outputs": [],
   "source": [
    "oSeqGe.save(strGeFile)\n",
    "oSeqGd.save(strGdFile)\n",
    "oSeqGe1.save(strGe1File)"
   ]
  },
  {
   "cell_type": "markdown",
   "metadata": {},
   "source": [
    "### 评估"
   ]
  },
  {
   "cell_type": "code",
   "execution_count": 113,
   "metadata": {},
   "outputs": [
    {
     "name": "stdout",
     "output_type": "stream",
     "text": [
      "WARNING:tensorflow:No training configuration found in save file: the model was *not* compiled. Compile it manually.\n",
      "WARNING:tensorflow:No training configuration found in save file: the model was *not* compiled. Compile it manually.\n",
      "WARNING:tensorflow:No training configuration found in save file: the model was *not* compiled. Compile it manually.\n"
     ]
    }
   ],
   "source": [
    "oSeqGe = tf.keras.models.load_model(strGeFile)\n",
    "oSeqGd = tf.keras.models.load_model(strGdFile)\n",
    "oSeqGe1 = tf.keras.models.load_model(strGe1File)"
   ]
  },
  {
   "cell_type": "code",
   "execution_count": 114,
   "metadata": {},
   "outputs": [],
   "source": [
    "# 算出正常训练集和异常测试集的分数\n",
    "# train samples\n",
    "for strJob in os.listdir(strJobsDir):\n",
    "    listDemodDirs = fn_getDemodDirsOfAJob(os.path.join(strJobsDir, strJob))\n",
    "    for strDemodDir in listDemodDirs:\n",
    "        strSamplesDir = os.path.join(strDemodDir, \"parts/sync/vi/samples/normal/train\")\n",
    "        pdDfPreprocessedSamples = pd.read_csv(\\\n",
    "              os.path.join(strSamplesDir, \"preprocessed/samples.csv\"))\n",
    "        pdDfSamples = pd.read_csv(os.path.join(strSamplesDir, \"samples.csv\"), index_col=\"RECTIME\")\n",
    "        # 分数csv包含scores列\n",
    "        pdDfScores = fn_score(pdDfPreprocessedSamples)\n",
    "        pdDfScores.index = pdDfSamples.index\n",
    "\n",
    "        pdDfScores.to_csv(os.path.join(strSamplesDir, \"preprocessed/scores.csv\"), index_label=\"RECTIME\")\n",
    "        \n",
    "# Abnormal samples\n",
    "for strJob in os.listdir(strJobsDir):\n",
    "    listDemodDirs = fn_getDemodDirsOfAJob(os.path.join(strJobsDir, strJob))\n",
    "    for strDemodDir in listDemodDirs:\n",
    "        strSamplesDir = os.path.join(strDemodDir, \"parts/sync/vi/samples/abnormal\")\n",
    "        pdDfPreprocessedSamples = pd.read_csv(os.path.join(strSamplesDir, \"preprocessed/samples.csv\"), index_col=\"RECTIME\")\n",
    "        pdDfScores = fn_score(pdDfPreprocessedSamples)\n",
    "\n",
    "        pdDfScores.to_csv(os.path.join(strSamplesDir, \"preprocessed/scores.csv\"), index_label=\"RECTIME\")"
   ]
  },
  {
   "cell_type": "code",
   "execution_count": 25,
   "metadata": {},
   "outputs": [],
   "source": [
    "# 读入正常测试样本和异常测试样本的分数，分别存入numpy数组\n",
    "listScores = []\n",
    "listX = []\n",
    "for strJob in os.listdir(strJobsDir):\n",
    "    strJobDir = os.path.join(strJobsDir, strJob)\n",
    "    listDemodDirs = fn_getDemodDirsOfAJob(strJobDir)\n",
    "    for strDemodDir in listDemodDirs:\n",
    "        strNormalTestingScoresFile = os.path.join(strDemodDir, \\\n",
    "                                                  \"parts/sync/vi/samples/normal/train/preprocessed/scores.csv\")\n",
    "        pdDfNormalTestingScores = pd.read_csv(strNormalTestingScoresFile, index_col=\"RECTIME\")\n",
    "        \n",
    "        if not pdDfNormalTestingScores.empty:\n",
    "            listScores.append(pdDfNormalTestingScores[\"score\"].values)\n",
    "            \n",
    "            # 分数的横坐标——用crc编码“解调器名+上报时间”\n",
    "            strDemod = os.path.split(strDemodDir)[1]\n",
    "            listX.append([hash(strDemod + strIndex) for strIndex in pdDfNormalTestingScores.index])\n",
    "            \n",
    "npNormalScores = np.concatenate(listScores)\n",
    "npNormalX = np.concatenate(listX)"
   ]
  },
  {
   "cell_type": "code",
   "execution_count": 26,
   "metadata": {},
   "outputs": [],
   "source": [
    "listScores = []\n",
    "listX = []\n",
    "for strJob in os.listdir(strJobsDir):\n",
    "    strJobDir = os.path.join(strJobsDir, strJob)\n",
    "    listDemodDirs = fn_getDemodDirsOfAJob(strJobDir)\n",
    "    for strDemodDir in listDemodDirs:\n",
    "        strAbnormalTestingScoresFile = os.path.join(strDemodDir, \\\n",
    "                                                  \"parts/sync/vi/samples/abnormal/preprocessed/scores.csv\")\n",
    "        pdDfAbnormalTestingScores = pd.read_csv(strAbnormalTestingScoresFile, index_col=\"RECTIME\")\n",
    "        if not pdDfAbnormalTestingScores.empty:\n",
    "            listScores.append(pdDfAbnormalTestingScores[\"score\"].values)\n",
    "            \n",
    "             # 分数的横坐标——用crc编码“解调器名+上报时间”\n",
    "            strDemod = os.path.split(strDemodDir)[1]\n",
    "            listX.append([hash(strDemod + strIndex) for strIndex in pdDfAbnormalTestingScores.index])\n",
    "            \n",
    "npAbnormalScores = np.concatenate(listScores)\n",
    "npAbnormalX = np.concatenate(listX)"
   ]
  },
  {
   "cell_type": "code",
   "execution_count": 27,
   "metadata": {},
   "outputs": [],
   "source": [
    "\"\"\"\n",
    "通过正常训练样本的分数计算相应的正太分布，利用正态分布计算异常样本该部分正确的概率\n",
    "\"\"\"\n",
    "fMeanvi = np.mean(npNormalScores)\n",
    "fSigmavi = np.var(npNormalScores)\n",
    "npAbnormalprob = np.apply_along_axis(lambda x: 1 if x <= fMeanvi else ss.norm.sf(x, fMeanvi, fSigmavi), 1, \\\n",
    "     npAbnormalScores[:, np.newaxis].astype(np.float64))"
   ]
  },
  {
   "cell_type": "code",
   "execution_count": 28,
   "metadata": {},
   "outputs": [
    {
     "data": {
      "image/png": "[encoded data removed]",
      "text/plain": [
       "<Figure size 1080x720 with 1 Axes>"
      ]
     },
     "metadata": {
      "needs_background": "light"
     },
     "output_type": "display_data"
    }
   ],
   "source": [
    "plt.figure(figsize=(15, 10))\n",
    "plt.scatter(npAbnormalX, npAbnormalprob, s=40)\n",
    "plt.show()"
   ]
  },
  {
   "cell_type": "markdown",
   "metadata": {},
   "source": [
    "## 帧同步"
   ]
  },
  {
   "cell_type": "markdown",
   "metadata": {},
   "source": [
    "### 构造建立模型"
   ]
  },
  {
   "cell_type": "code",
   "execution_count": 157,
   "metadata": {},
   "outputs": [],
   "source": [
    "# 25参数\n",
    "class GANframe(object):\n",
    "    def __init__(self):\n",
    "        self.fn_makeGenerator()\n",
    "        self.fn_makeDiscriminator()\n",
    "        \n",
    "    def fn_makeGenerator(self):\n",
    "        self.oSeqGe = tf.keras.Sequential(name=\"Ge\")\n",
    "        self.oSeqGe.add(tf.keras.Input(shape=(28,)))\n",
    "        self.oSeqGe.add(tf.keras.layers.Dense(14, kernel_initializer=\"he_normal\"))\n",
    "        self.oSeqGe.add(tf.keras.layers.LeakyReLU())\n",
    "        self.oSeqGe.add(tf.keras.layers.BatchNormalization())\n",
    "        self.oSeqGe.add(tf.keras.layers.Dense(14, kernel_initializer=\"he_normal\"))\n",
    "        self.oSeqGe.add(tf.keras.layers.LeakyReLU())\n",
    "\n",
    "        self.oSeqGd = tf.keras.Sequential(name=\"Gd\")\n",
    "        self.oSeqGd.add(tf.keras.Input(shape=(14,)))\n",
    "        self.oSeqGd.add(tf.keras.layers.Dense(14, kernel_initializer=\"he_normal\"))\n",
    "        self.oSeqGd.add(tf.keras.layers.LeakyReLU())\n",
    "        self.oSeqGd.add(tf.keras.layers.BatchNormalization())\n",
    "        self.oSeqGd.add(tf.keras.layers.Dense(28, activation = tf.keras.activations.tanh, kernel_initializer=\"he_normal\"))\n",
    "        \n",
    "        self.oSeqGe1 = tf.keras.Sequential(name=\"Ge1\")\n",
    "        self.oSeqGe1.add(tf.keras.Input(shape=(28,)))\n",
    "        self.oSeqGe1.add(tf.keras.layers.Dense(14, kernel_initializer=\"he_normal\"))\n",
    "        self.oSeqGe1.add(tf.keras.layers.LeakyReLU())\n",
    "        self.oSeqGe1.add(tf.keras.layers.BatchNormalization())\n",
    "        self.oSeqGe1.add(tf.keras.layers.Dense(14, kernel_initializer=\"he_normal\"))\n",
    "        self.oSeqGe1.add(tf.keras.layers.LeakyReLU())\n",
    "        \n",
    "    def fn_makeDiscriminator(self):\n",
    "        self.oSeqDInner = tf.keras.Sequential(name=\"DInner\")\n",
    "        self.oSeqDInner.add(tf.keras.Input(shape=(28,)))\n",
    "        self.oSeqDInner.add(tf.keras.layers.Dense(14, kernel_initializer=\"he_normal\"))\n",
    "        self.oSeqDInner.add(tf.keras.layers.LeakyReLU())\n",
    "        self.oSeqDInner.add(tf.keras.layers.BatchNormalization())\n",
    "        self.oSeqDInner.add(tf.keras.layers.Dense(14, kernel_initializer=\"he_normal\"))\n",
    "        self.oSeqDInner.add(tf.keras.layers.LeakyReLU())\n",
    "        self.oSeqDInner.add(tf.keras.layers.BatchNormalization())\n",
    "\n",
    "        self.oSeqD = tf.keras.Sequential([\n",
    "            self.oSeqDInner,\n",
    "            tf.keras.layers.Dense(1, activation = tf.keras.activations.sigmoid)\n",
    "        ], name=\"D\")"
   ]
  },
  {
   "cell_type": "code",
   "execution_count": 198,
   "metadata": {},
   "outputs": [],
   "source": [
    "# 新建模型\n",
    "tf.keras.backend.clear_session()\n",
    "oGANframe = GANframe()"
   ]
  },
  {
   "cell_type": "markdown",
   "metadata": {},
   "source": [
    "### 构造数据集"
   ]
  },
  {
   "cell_type": "code",
   "execution_count": 199,
   "metadata": {},
   "outputs": [],
   "source": [
    "g_nFeatures = 28\n",
    "g_nBatchSize = 256\n",
    "\n",
    "def fn_splitCsvLine(strLine):\n",
    "    tensorDefs = [0.] * g_nFeatures\n",
    "    tensorRecord = tf.io.decode_csv(strLine, record_defaults=tensorDefs)\n",
    "    tensorX = tf.stack(tensorRecord)\n",
    "    return tensorX\n",
    "\n",
    "# 为了把不做帧同步的部分也作为训练集\n",
    "oDataset = tf.data.Dataset.list_files(strJobsDir + \"/*/*/parts/sync/frame/samples/normal/train/preprocessed/samples*.csv\")\n",
    "oDataset = oDataset.interleave(lambda strSamplesFile: tf.data.TextLineDataset(strSamplesFile).skip(1), \\\n",
    "                              cycle_length=5, num_parallel_calls=5)\n",
    "oDataset = oDataset.map(fn_splitCsvLine, g_nFeatures)\n",
    "oDataset = oDataset.shuffle(1000)\n",
    "oDataset = oDataset.batch(g_nBatchSize)"
   ]
  },
  {
   "cell_type": "code",
   "execution_count": 200,
   "metadata": {},
   "outputs": [],
   "source": [
    "# 读入所有的训练样本，从而通过shape属性得到训练集大小，存入全局变量中\n",
    "listPreprocessedNormalTrainingSamples = []\n",
    "for strJob in os.listdir(strJobsDir):\n",
    "    strJobDir = os.path.join(strJobsDir, strJob)\n",
    "    listDemodDirs = fn_getDemodDirsOfAJob(strJobDir)\n",
    "    for strDemodDir in listDemodDirs:\n",
    "        strPreprocessedNormalTrainingSamplesFile = os.path.join(strDemodDir, \\\n",
    "                                                   \"parts/sync/frame/samples/normal/train/preprocessed/samples.csv\")\n",
    "        pdDfPreprocessedNormalTrainingSamples = pd.read_csv(strPreprocessedNormalTrainingSamplesFile)\n",
    "        listPreprocessedNormalTrainingSamples.append(pdDfPreprocessedNormalTrainingSamples)\n",
    "        \n",
    "        strPreprocessedNormalTrainingSamplesFile = os.path.join(strDemodDir, \\\n",
    "                                           \"parts/sync/frame/samples/normal/train/preprocessed/samples_noframe.csv\")\n",
    "        pdDfPreprocessedNormalTrainingSamples = pd.read_csv(strPreprocessedNormalTrainingSamplesFile)\n",
    "        listPreprocessedNormalTrainingSamples.append(pdDfPreprocessedNormalTrainingSamples)\n",
    "pdDfPreprocessedNormalTrainingSamples = pd.concat(listPreprocessedNormalTrainingSamples)\n",
    "g_tensorNormalTrainingSamples = tf.constant(pdDfPreprocessedNormalTrainingSamples.values, dtype=tf.float32)\n",
    "g_nTrainingSize = len(g_tensorNormalTrainingSamples)"
   ]
  },
  {
   "cell_type": "markdown",
   "metadata": {},
   "source": [
    "### 训练"
   ]
  },
  {
   "cell_type": "code",
   "execution_count": 201,
   "metadata": {},
   "outputs": [],
   "source": [
    "# g_nTrainingSize在中频控制已经设置好了\n",
    "g_nEpochs = 10000\n",
    "nSteps = g_nEpochs * g_nTrainingSize // g_nBatchSize\n",
    "oExponentialDecay = tf.keras.optimizers.schedules.ExponentialDecay(1e-2, nSteps, 1e-1)\n",
    "oOptimizerG = tf.keras.optimizers.Adam(learning_rate=oExponentialDecay)\n",
    "oOptimizerD = tf.keras.optimizers.SGD(learning_rate=oExponentialDecay)"
   ]
  },
  {
   "cell_type": "code",
   "execution_count": 202,
   "metadata": {},
   "outputs": [],
   "source": [
    "strD = \"(28,14)_D\"\n",
    "strA = \"(28,14)_A\"\n",
    "strRootDir = \"logs/nobranch/sync/frame\"\n",
    "strDDir = os.path.join(strRootDir, strD)\n",
    "strADir = os.path.join(strRootDir, strA)"
   ]
  },
  {
   "cell_type": "code",
   "execution_count": 203,
   "metadata": {},
   "outputs": [],
   "source": [
    "if os.path.exists(strDDir):\n",
    "    shutil.rmtree(strDDir)\n",
    "if os.path.exists(strADir):\n",
    "    shutil.rmtree(strADir)"
   ]
  },
  {
   "cell_type": "code",
   "execution_count": 204,
   "metadata": {},
   "outputs": [],
   "source": [
    "oSummaryWriterDLoss = tf.summary.create_file_writer(strDDir)\n",
    "oSummaryWriterALoss = tf.summary.create_file_writer(strADir)"
   ]
  },
  {
   "cell_type": "code",
   "execution_count": 205,
   "metadata": {},
   "outputs": [
    {
     "name": "stdout",
     "output_type": "stream",
     "text": [
      "727/10000"
     ]
    },
    {
     "ename": "KeyboardInterrupt",
     "evalue": "",
     "output_type": "error",
     "traceback": [
      "\u001b[1;31m---------------------------------------------------------------------------\u001b[0m",
      "\u001b[1;31mKeyboardInterrupt\u001b[0m                         Traceback (most recent call last)",
      "\u001b[1;32m<ipython-input-205-1c60a8f3e57a>\u001b[0m in \u001b[0;36m<module>\u001b[1;34m\u001b[0m\n\u001b[0;32m      2\u001b[0m \u001b[0moSeqGd\u001b[0m \u001b[1;33m=\u001b[0m \u001b[1;32mNone\u001b[0m\u001b[1;33m\u001b[0m\u001b[1;33m\u001b[0m\u001b[0m\n\u001b[0;32m      3\u001b[0m \u001b[0moSeqGe1\u001b[0m \u001b[1;33m=\u001b[0m \u001b[1;32mNone\u001b[0m\u001b[1;33m\u001b[0m\u001b[1;33m\u001b[0m\u001b[0m\n\u001b[1;32m----> 4\u001b[1;33m \u001b[0mfn_train\u001b[0m\u001b[1;33m(\u001b[0m\u001b[0moGANframe\u001b[0m\u001b[1;33m)\u001b[0m\u001b[1;33m\u001b[0m\u001b[1;33m\u001b[0m\u001b[0m\n\u001b[0m",
      "\u001b[1;32m<ipython-input-8-3855d8924bd9>\u001b[0m in \u001b[0;36mfn_train\u001b[1;34m(oGAN)\u001b[0m\n\u001b[0;32m     39\u001b[0m                 \u001b[1;31m# Train discriminator with fake samples\u001b[0m\u001b[1;33m\u001b[0m\u001b[1;33m\u001b[0m\u001b[1;33m\u001b[0m\u001b[0m\n\u001b[0;32m     40\u001b[0m                 \u001b[0mtensorLabels\u001b[0m \u001b[1;33m=\u001b[0m \u001b[0mtf\u001b[0m\u001b[1;33m.\u001b[0m\u001b[0mrandom\u001b[0m\u001b[1;33m.\u001b[0m\u001b[0muniform\u001b[0m\u001b[1;33m(\u001b[0m\u001b[0mminval\u001b[0m\u001b[1;33m=\u001b[0m\u001b[1;36m0.\u001b[0m\u001b[1;33m,\u001b[0m \u001b[0mmaxval\u001b[0m\u001b[1;33m=\u001b[0m\u001b[1;36m0.3\u001b[0m\u001b[1;33m,\u001b[0m \u001b[0mseed\u001b[0m \u001b[1;33m=\u001b[0m \u001b[1;36m42\u001b[0m\u001b[1;33m,\u001b[0m \u001b[0mshape\u001b[0m\u001b[1;33m=\u001b[0m\u001b[1;33m(\u001b[0m\u001b[0mtensorFakeSamples\u001b[0m\u001b[1;33m.\u001b[0m\u001b[0mshape\u001b[0m\u001b[1;33m[\u001b[0m\u001b[1;36m0\u001b[0m\u001b[1;33m]\u001b[0m\u001b[1;33m,\u001b[0m \u001b[1;36m1\u001b[0m\u001b[1;33m)\u001b[0m\u001b[1;33m)\u001b[0m\u001b[1;33m\u001b[0m\u001b[1;33m\u001b[0m\u001b[0m\n\u001b[1;32m---> 41\u001b[1;33m                 \u001b[0mtensorPreds\u001b[0m \u001b[1;33m=\u001b[0m \u001b[0moGAN\u001b[0m\u001b[1;33m.\u001b[0m\u001b[0moSeqD\u001b[0m\u001b[1;33m(\u001b[0m\u001b[0mtensorFakeSamples\u001b[0m\u001b[1;33m)\u001b[0m\u001b[1;33m\u001b[0m\u001b[1;33m\u001b[0m\u001b[0m\n\u001b[0m\u001b[0;32m     42\u001b[0m                 \u001b[0mtensorDLossF\u001b[0m \u001b[1;33m=\u001b[0m \u001b[0mtf\u001b[0m\u001b[1;33m.\u001b[0m\u001b[0mreduce_mean\u001b[0m\u001b[1;33m(\u001b[0m\u001b[0mtf\u001b[0m\u001b[1;33m.\u001b[0m\u001b[0mnn\u001b[0m\u001b[1;33m.\u001b[0m\u001b[0msigmoid_cross_entropy_with_logits\u001b[0m\u001b[1;33m(\u001b[0m\u001b[0mtensorLabels\u001b[0m\u001b[1;33m,\u001b[0m \u001b[0mtensorPreds\u001b[0m\u001b[1;33m)\u001b[0m\u001b[1;33m)\u001b[0m\u001b[1;33m\u001b[0m\u001b[1;33m\u001b[0m\u001b[0m\n\u001b[0;32m     43\u001b[0m             \u001b[0mlistDGradients\u001b[0m \u001b[1;33m=\u001b[0m \u001b[0moGradientTapeD\u001b[0m\u001b[1;33m.\u001b[0m\u001b[0mgradient\u001b[0m\u001b[1;33m(\u001b[0m\u001b[0mtensorDLossF\u001b[0m\u001b[1;33m,\u001b[0m \u001b[0moGAN\u001b[0m\u001b[1;33m.\u001b[0m\u001b[0moSeqD\u001b[0m\u001b[1;33m.\u001b[0m\u001b[0mtrainable_variables\u001b[0m\u001b[1;33m)\u001b[0m\u001b[1;33m\u001b[0m\u001b[1;33m\u001b[0m\u001b[0m\n",
      "\u001b[1;32md:\\py_virtualenv\\lib\\site-packages\\tensorflow_core\\python\\keras\\engine\\base_layer.py\u001b[0m in \u001b[0;36m__call__\u001b[1;34m(self, inputs, *args, **kwargs)\u001b[0m\n\u001b[0;32m    889\u001b[0m           with base_layer_utils.autocast_context_manager(\n\u001b[0;32m    890\u001b[0m               self._compute_dtype):\n\u001b[1;32m--> 891\u001b[1;33m             \u001b[0moutputs\u001b[0m \u001b[1;33m=\u001b[0m \u001b[0mself\u001b[0m\u001b[1;33m.\u001b[0m\u001b[0mcall\u001b[0m\u001b[1;33m(\u001b[0m\u001b[0mcast_inputs\u001b[0m\u001b[1;33m,\u001b[0m \u001b[1;33m*\u001b[0m\u001b[0margs\u001b[0m\u001b[1;33m,\u001b[0m \u001b[1;33m**\u001b[0m\u001b[0mkwargs\u001b[0m\u001b[1;33m)\u001b[0m\u001b[1;33m\u001b[0m\u001b[1;33m\u001b[0m\u001b[0m\n\u001b[0m\u001b[0;32m    892\u001b[0m           \u001b[0mself\u001b[0m\u001b[1;33m.\u001b[0m\u001b[0m_handle_activity_regularization\u001b[0m\u001b[1;33m(\u001b[0m\u001b[0minputs\u001b[0m\u001b[1;33m,\u001b[0m \u001b[0moutputs\u001b[0m\u001b[1;33m)\u001b[0m\u001b[1;33m\u001b[0m\u001b[1;33m\u001b[0m\u001b[0m\n\u001b[0;32m    893\u001b[0m           \u001b[0mself\u001b[0m\u001b[1;33m.\u001b[0m\u001b[0m_set_mask_metadata\u001b[0m\u001b[1;33m(\u001b[0m\u001b[0minputs\u001b[0m\u001b[1;33m,\u001b[0m \u001b[0moutputs\u001b[0m\u001b[1;33m,\u001b[0m \u001b[0minput_masks\u001b[0m\u001b[1;33m)\u001b[0m\u001b[1;33m\u001b[0m\u001b[1;33m\u001b[0m\u001b[0m\n",
      "\u001b[1;32md:\\py_virtualenv\\lib\\site-packages\\tensorflow_core\\python\\keras\\engine\\sequential.py\u001b[0m in \u001b[0;36mcall\u001b[1;34m(self, inputs, training, mask)\u001b[0m\n\u001b[0;32m    268\u001b[0m         \u001b[0mkwargs\u001b[0m\u001b[1;33m[\u001b[0m\u001b[1;34m'training'\u001b[0m\u001b[1;33m]\u001b[0m \u001b[1;33m=\u001b[0m \u001b[0mtraining\u001b[0m\u001b[1;33m\u001b[0m\u001b[1;33m\u001b[0m\u001b[0m\n\u001b[0;32m    269\u001b[0m \u001b[1;33m\u001b[0m\u001b[0m\n\u001b[1;32m--> 270\u001b[1;33m       \u001b[0moutputs\u001b[0m \u001b[1;33m=\u001b[0m \u001b[0mlayer\u001b[0m\u001b[1;33m(\u001b[0m\u001b[0minputs\u001b[0m\u001b[1;33m,\u001b[0m \u001b[1;33m**\u001b[0m\u001b[0mkwargs\u001b[0m\u001b[1;33m)\u001b[0m\u001b[1;33m\u001b[0m\u001b[1;33m\u001b[0m\u001b[0m\n\u001b[0m\u001b[0;32m    271\u001b[0m \u001b[1;33m\u001b[0m\u001b[0m\n\u001b[0;32m    272\u001b[0m       \u001b[1;31m# `outputs` will be the inputs to the next layer.\u001b[0m\u001b[1;33m\u001b[0m\u001b[1;33m\u001b[0m\u001b[1;33m\u001b[0m\u001b[0m\n",
      "\u001b[1;32md:\\py_virtualenv\\lib\\site-packages\\tensorflow_core\\python\\keras\\engine\\base_layer.py\u001b[0m in \u001b[0;36m__call__\u001b[1;34m(self, inputs, *args, **kwargs)\u001b[0m\n\u001b[0;32m    889\u001b[0m           with base_layer_utils.autocast_context_manager(\n\u001b[0;32m    890\u001b[0m               self._compute_dtype):\n\u001b[1;32m--> 891\u001b[1;33m             \u001b[0moutputs\u001b[0m \u001b[1;33m=\u001b[0m \u001b[0mself\u001b[0m\u001b[1;33m.\u001b[0m\u001b[0mcall\u001b[0m\u001b[1;33m(\u001b[0m\u001b[0mcast_inputs\u001b[0m\u001b[1;33m,\u001b[0m \u001b[1;33m*\u001b[0m\u001b[0margs\u001b[0m\u001b[1;33m,\u001b[0m \u001b[1;33m**\u001b[0m\u001b[0mkwargs\u001b[0m\u001b[1;33m)\u001b[0m\u001b[1;33m\u001b[0m\u001b[1;33m\u001b[0m\u001b[0m\n\u001b[0m\u001b[0;32m    892\u001b[0m           \u001b[0mself\u001b[0m\u001b[1;33m.\u001b[0m\u001b[0m_handle_activity_regularization\u001b[0m\u001b[1;33m(\u001b[0m\u001b[0minputs\u001b[0m\u001b[1;33m,\u001b[0m \u001b[0moutputs\u001b[0m\u001b[1;33m)\u001b[0m\u001b[1;33m\u001b[0m\u001b[1;33m\u001b[0m\u001b[0m\n\u001b[0;32m    893\u001b[0m           \u001b[0mself\u001b[0m\u001b[1;33m.\u001b[0m\u001b[0m_set_mask_metadata\u001b[0m\u001b[1;33m(\u001b[0m\u001b[0minputs\u001b[0m\u001b[1;33m,\u001b[0m \u001b[0moutputs\u001b[0m\u001b[1;33m,\u001b[0m \u001b[0minput_masks\u001b[0m\u001b[1;33m)\u001b[0m\u001b[1;33m\u001b[0m\u001b[1;33m\u001b[0m\u001b[0m\n",
      "\u001b[1;32md:\\py_virtualenv\\lib\\site-packages\\tensorflow_core\\python\\keras\\engine\\sequential.py\u001b[0m in \u001b[0;36mcall\u001b[1;34m(self, inputs, training, mask)\u001b[0m\n\u001b[0;32m    254\u001b[0m       \u001b[1;32mif\u001b[0m \u001b[1;32mnot\u001b[0m \u001b[0mself\u001b[0m\u001b[1;33m.\u001b[0m\u001b[0mbuilt\u001b[0m\u001b[1;33m:\u001b[0m\u001b[1;33m\u001b[0m\u001b[1;33m\u001b[0m\u001b[0m\n\u001b[0;32m    255\u001b[0m         \u001b[0mself\u001b[0m\u001b[1;33m.\u001b[0m\u001b[0m_init_graph_network\u001b[0m\u001b[1;33m(\u001b[0m\u001b[0mself\u001b[0m\u001b[1;33m.\u001b[0m\u001b[0minputs\u001b[0m\u001b[1;33m,\u001b[0m \u001b[0mself\u001b[0m\u001b[1;33m.\u001b[0m\u001b[0moutputs\u001b[0m\u001b[1;33m,\u001b[0m \u001b[0mname\u001b[0m\u001b[1;33m=\u001b[0m\u001b[0mself\u001b[0m\u001b[1;33m.\u001b[0m\u001b[0mname\u001b[0m\u001b[1;33m)\u001b[0m\u001b[1;33m\u001b[0m\u001b[1;33m\u001b[0m\u001b[0m\n\u001b[1;32m--> 256\u001b[1;33m       \u001b[1;32mreturn\u001b[0m \u001b[0msuper\u001b[0m\u001b[1;33m(\u001b[0m\u001b[0mSequential\u001b[0m\u001b[1;33m,\u001b[0m \u001b[0mself\u001b[0m\u001b[1;33m)\u001b[0m\u001b[1;33m.\u001b[0m\u001b[0mcall\u001b[0m\u001b[1;33m(\u001b[0m\u001b[0minputs\u001b[0m\u001b[1;33m,\u001b[0m \u001b[0mtraining\u001b[0m\u001b[1;33m=\u001b[0m\u001b[0mtraining\u001b[0m\u001b[1;33m,\u001b[0m \u001b[0mmask\u001b[0m\u001b[1;33m=\u001b[0m\u001b[0mmask\u001b[0m\u001b[1;33m)\u001b[0m\u001b[1;33m\u001b[0m\u001b[1;33m\u001b[0m\u001b[0m\n\u001b[0m\u001b[0;32m    257\u001b[0m \u001b[1;33m\u001b[0m\u001b[0m\n\u001b[0;32m    258\u001b[0m     \u001b[0moutputs\u001b[0m \u001b[1;33m=\u001b[0m \u001b[0minputs\u001b[0m  \u001b[1;31m# handle the corner case where self.layers is empty\u001b[0m\u001b[1;33m\u001b[0m\u001b[1;33m\u001b[0m\u001b[0m\n",
      "\u001b[1;32md:\\py_virtualenv\\lib\\site-packages\\tensorflow_core\\python\\keras\\engine\\network.py\u001b[0m in \u001b[0;36mcall\u001b[1;34m(self, inputs, training, mask)\u001b[0m\n\u001b[0;32m    706\u001b[0m     return self._run_internal_graph(\n\u001b[0;32m    707\u001b[0m         \u001b[0minputs\u001b[0m\u001b[1;33m,\u001b[0m \u001b[0mtraining\u001b[0m\u001b[1;33m=\u001b[0m\u001b[0mtraining\u001b[0m\u001b[1;33m,\u001b[0m \u001b[0mmask\u001b[0m\u001b[1;33m=\u001b[0m\u001b[0mmask\u001b[0m\u001b[1;33m,\u001b[0m\u001b[1;33m\u001b[0m\u001b[1;33m\u001b[0m\u001b[0m\n\u001b[1;32m--> 708\u001b[1;33m         convert_kwargs_to_constants=base_layer_utils.call_context().saving)\n\u001b[0m\u001b[0;32m    709\u001b[0m \u001b[1;33m\u001b[0m\u001b[0m\n\u001b[0;32m    710\u001b[0m   \u001b[1;32mdef\u001b[0m \u001b[0mcompute_output_shape\u001b[0m\u001b[1;33m(\u001b[0m\u001b[0mself\u001b[0m\u001b[1;33m,\u001b[0m \u001b[0minput_shape\u001b[0m\u001b[1;33m)\u001b[0m\u001b[1;33m:\u001b[0m\u001b[1;33m\u001b[0m\u001b[1;33m\u001b[0m\u001b[0m\n",
      "\u001b[1;32md:\\py_virtualenv\\lib\\site-packages\\tensorflow_core\\python\\keras\\engine\\network.py\u001b[0m in \u001b[0;36m_run_internal_graph\u001b[1;34m(self, inputs, training, mask, convert_kwargs_to_constants)\u001b[0m\n\u001b[0;32m    858\u001b[0m \u001b[1;33m\u001b[0m\u001b[0m\n\u001b[0;32m    859\u001b[0m           \u001b[1;31m# Compute outputs.\u001b[0m\u001b[1;33m\u001b[0m\u001b[1;33m\u001b[0m\u001b[1;33m\u001b[0m\u001b[0m\n\u001b[1;32m--> 860\u001b[1;33m           \u001b[0moutput_tensors\u001b[0m \u001b[1;33m=\u001b[0m \u001b[0mlayer\u001b[0m\u001b[1;33m(\u001b[0m\u001b[0mcomputed_tensors\u001b[0m\u001b[1;33m,\u001b[0m \u001b[1;33m**\u001b[0m\u001b[0mkwargs\u001b[0m\u001b[1;33m)\u001b[0m\u001b[1;33m\u001b[0m\u001b[1;33m\u001b[0m\u001b[0m\n\u001b[0m\u001b[0;32m    861\u001b[0m \u001b[1;33m\u001b[0m\u001b[0m\n\u001b[0;32m    862\u001b[0m           \u001b[1;31m# Update tensor_dict.\u001b[0m\u001b[1;33m\u001b[0m\u001b[1;33m\u001b[0m\u001b[1;33m\u001b[0m\u001b[0m\n",
      "\u001b[1;32md:\\py_virtualenv\\lib\\site-packages\\tensorflow_core\\python\\keras\\engine\\base_layer.py\u001b[0m in \u001b[0;36m__call__\u001b[1;34m(self, inputs, *args, **kwargs)\u001b[0m\n\u001b[0;32m    889\u001b[0m           with base_layer_utils.autocast_context_manager(\n\u001b[0;32m    890\u001b[0m               self._compute_dtype):\n\u001b[1;32m--> 891\u001b[1;33m             \u001b[0moutputs\u001b[0m \u001b[1;33m=\u001b[0m \u001b[0mself\u001b[0m\u001b[1;33m.\u001b[0m\u001b[0mcall\u001b[0m\u001b[1;33m(\u001b[0m\u001b[0mcast_inputs\u001b[0m\u001b[1;33m,\u001b[0m \u001b[1;33m*\u001b[0m\u001b[0margs\u001b[0m\u001b[1;33m,\u001b[0m \u001b[1;33m**\u001b[0m\u001b[0mkwargs\u001b[0m\u001b[1;33m)\u001b[0m\u001b[1;33m\u001b[0m\u001b[1;33m\u001b[0m\u001b[0m\n\u001b[0m\u001b[0;32m    892\u001b[0m           \u001b[0mself\u001b[0m\u001b[1;33m.\u001b[0m\u001b[0m_handle_activity_regularization\u001b[0m\u001b[1;33m(\u001b[0m\u001b[0minputs\u001b[0m\u001b[1;33m,\u001b[0m \u001b[0moutputs\u001b[0m\u001b[1;33m)\u001b[0m\u001b[1;33m\u001b[0m\u001b[1;33m\u001b[0m\u001b[0m\n\u001b[0;32m    893\u001b[0m           \u001b[0mself\u001b[0m\u001b[1;33m.\u001b[0m\u001b[0m_set_mask_metadata\u001b[0m\u001b[1;33m(\u001b[0m\u001b[0minputs\u001b[0m\u001b[1;33m,\u001b[0m \u001b[0moutputs\u001b[0m\u001b[1;33m,\u001b[0m \u001b[0minput_masks\u001b[0m\u001b[1;33m)\u001b[0m\u001b[1;33m\u001b[0m\u001b[1;33m\u001b[0m\u001b[0m\n",
      "\u001b[1;32md:\\py_virtualenv\\lib\\site-packages\\tensorflow_core\\python\\keras\\layers\\core.py\u001b[0m in \u001b[0;36mcall\u001b[1;34m(self, inputs)\u001b[0m\n\u001b[0;32m   1054\u001b[0m         \u001b[0moutputs\u001b[0m \u001b[1;33m=\u001b[0m \u001b[0msparse_ops\u001b[0m\u001b[1;33m.\u001b[0m\u001b[0msparse_tensor_dense_matmul\u001b[0m\u001b[1;33m(\u001b[0m\u001b[0minputs\u001b[0m\u001b[1;33m,\u001b[0m \u001b[0mself\u001b[0m\u001b[1;33m.\u001b[0m\u001b[0mkernel\u001b[0m\u001b[1;33m)\u001b[0m\u001b[1;33m\u001b[0m\u001b[1;33m\u001b[0m\u001b[0m\n\u001b[0;32m   1055\u001b[0m       \u001b[1;32melse\u001b[0m\u001b[1;33m:\u001b[0m\u001b[1;33m\u001b[0m\u001b[1;33m\u001b[0m\u001b[0m\n\u001b[1;32m-> 1056\u001b[1;33m         \u001b[0moutputs\u001b[0m \u001b[1;33m=\u001b[0m \u001b[0mgen_math_ops\u001b[0m\u001b[1;33m.\u001b[0m\u001b[0mmat_mul\u001b[0m\u001b[1;33m(\u001b[0m\u001b[0minputs\u001b[0m\u001b[1;33m,\u001b[0m \u001b[0mself\u001b[0m\u001b[1;33m.\u001b[0m\u001b[0mkernel\u001b[0m\u001b[1;33m)\u001b[0m\u001b[1;33m\u001b[0m\u001b[1;33m\u001b[0m\u001b[0m\n\u001b[0m\u001b[0;32m   1057\u001b[0m     \u001b[1;32mif\u001b[0m \u001b[0mself\u001b[0m\u001b[1;33m.\u001b[0m\u001b[0muse_bias\u001b[0m\u001b[1;33m:\u001b[0m\u001b[1;33m\u001b[0m\u001b[1;33m\u001b[0m\u001b[0m\n\u001b[0;32m   1058\u001b[0m       \u001b[0moutputs\u001b[0m \u001b[1;33m=\u001b[0m \u001b[0mnn\u001b[0m\u001b[1;33m.\u001b[0m\u001b[0mbias_add\u001b[0m\u001b[1;33m(\u001b[0m\u001b[0moutputs\u001b[0m\u001b[1;33m,\u001b[0m \u001b[0mself\u001b[0m\u001b[1;33m.\u001b[0m\u001b[0mbias\u001b[0m\u001b[1;33m)\u001b[0m\u001b[1;33m\u001b[0m\u001b[1;33m\u001b[0m\u001b[0m\n",
      "\u001b[1;32md:\\py_virtualenv\\lib\\site-packages\\tensorflow_core\\python\\ops\\gen_math_ops.py\u001b[0m in \u001b[0;36mmat_mul\u001b[1;34m(a, b, transpose_a, transpose_b, name)\u001b[0m\n\u001b[0;32m   6109\u001b[0m         \u001b[0m_ctx\u001b[0m\u001b[1;33m.\u001b[0m\u001b[0m_context_handle\u001b[0m\u001b[1;33m,\u001b[0m \u001b[0m_ctx\u001b[0m\u001b[1;33m.\u001b[0m\u001b[0m_thread_local_data\u001b[0m\u001b[1;33m.\u001b[0m\u001b[0mdevice_name\u001b[0m\u001b[1;33m,\u001b[0m \u001b[1;34m\"MatMul\"\u001b[0m\u001b[1;33m,\u001b[0m\u001b[1;33m\u001b[0m\u001b[1;33m\u001b[0m\u001b[0m\n\u001b[0;32m   6110\u001b[0m         \u001b[0mname\u001b[0m\u001b[1;33m,\u001b[0m \u001b[0m_ctx\u001b[0m\u001b[1;33m.\u001b[0m\u001b[0m_post_execution_callbacks\u001b[0m\u001b[1;33m,\u001b[0m \u001b[0ma\u001b[0m\u001b[1;33m,\u001b[0m \u001b[0mb\u001b[0m\u001b[1;33m,\u001b[0m \u001b[1;34m\"transpose_a\"\u001b[0m\u001b[1;33m,\u001b[0m\u001b[1;33m\u001b[0m\u001b[1;33m\u001b[0m\u001b[0m\n\u001b[1;32m-> 6111\u001b[1;33m         transpose_a, \"transpose_b\", transpose_b)\n\u001b[0m\u001b[0;32m   6112\u001b[0m       \u001b[1;32mreturn\u001b[0m \u001b[0m_result\u001b[0m\u001b[1;33m\u001b[0m\u001b[1;33m\u001b[0m\u001b[0m\n\u001b[0;32m   6113\u001b[0m     \u001b[1;32mexcept\u001b[0m \u001b[0m_core\u001b[0m\u001b[1;33m.\u001b[0m\u001b[0m_FallbackException\u001b[0m\u001b[1;33m:\u001b[0m\u001b[1;33m\u001b[0m\u001b[1;33m\u001b[0m\u001b[0m\n",
      "\u001b[1;31mKeyboardInterrupt\u001b[0m: "
     ]
    }
   ],
   "source": [
    "oSeqGe = None\n",
    "oSeqGd = None\n",
    "oSeqGe1 = None\n",
    "fn_train(oGANframe)"
   ]
  },
  {
   "cell_type": "code",
   "execution_count": 206,
   "metadata": {},
   "outputs": [],
   "source": [
    "strGe = \"Ge.h5\"\n",
    "strGd = \"Gd.h5\"\n",
    "strGe1 = \"Ge1.h5\"\n",
    "strRootDir = \"models/nobranch/sync/frame\"\n",
    "strModelsDir = os.path.join(strRootDir, \"(28,14)\")\n",
    "strGeFile = os.path.join(strModelsDir, strGe)\n",
    "strGdFile = os.path.join(strModelsDir, strGd)\n",
    "strGe1File = os.path.join(strModelsDir, strGe1)"
   ]
  },
  {
   "cell_type": "code",
   "execution_count": 207,
   "metadata": {},
   "outputs": [],
   "source": [
    "if os.path.exists(strModelsDir):\n",
    "    shutil.rmtree(strModelsDir)\n",
    "os.mkdir(strModelsDir)"
   ]
  },
  {
   "cell_type": "code",
   "execution_count": 208,
   "metadata": {},
   "outputs": [],
   "source": [
    "oSeqGe.save(strGeFile)\n",
    "oSeqGd.save(strGdFile)\n",
    "oSeqGe1.save(strGe1File)"
   ]
  },
  {
   "cell_type": "markdown",
   "metadata": {},
   "source": [
    "### 评估"
   ]
  },
  {
   "cell_type": "code",
   "execution_count": 209,
   "metadata": {},
   "outputs": [
    {
     "name": "stdout",
     "output_type": "stream",
     "text": [
      "WARNING:tensorflow:No training configuration found in save file: the model was *not* compiled. Compile it manually.\n",
      "WARNING:tensorflow:No training configuration found in save file: the model was *not* compiled. Compile it manually.\n",
      "WARNING:tensorflow:No training configuration found in save file: the model was *not* compiled. Compile it manually.\n"
     ]
    }
   ],
   "source": [
    "oSeqGe = tf.keras.models.load_model(strGeFile)\n",
    "oSeqGd = tf.keras.models.load_model(strGdFile)\n",
    "oSeqGe1 = tf.keras.models.load_model(strGe1File)"
   ]
  },
  {
   "cell_type": "code",
   "execution_count": 210,
   "metadata": {},
   "outputs": [],
   "source": [
    "# 算出正常训练集和异常测试集的分数\n",
    "# train samples\n",
    "for strJob in os.listdir(strJobsDir):\n",
    "    listDemodDirs = fn_getDemodDirsOfAJob(os.path.join(strJobsDir, strJob))\n",
    "    for strDemodDir in listDemodDirs:\n",
    "        strSamplesDir = os.path.join(strDemodDir, \"parts/sync/frame/samples/normal/train\")\n",
    "        pdDfPreprocessedSamples = pd.read_csv(\\\n",
    "              os.path.join(strSamplesDir, \"preprocessed/samples.csv\"))\n",
    "        pdDfSamples = pd.read_csv(os.path.join(strSamplesDir, \"samples.csv\"), index_col=\"RECTIME\")\n",
    "        # 分数csv包含scores列\n",
    "        pdDfScores = fn_score(pdDfPreprocessedSamples)\n",
    "        pdDfScores.index = pdDfSamples.index\n",
    "\n",
    "        pdDfScores.to_csv(os.path.join(strSamplesDir, \"preprocessed/scores.csv\"), index_label=\"RECTIME\")\n",
    "        \n",
    "# Abnormal samples\n",
    "for strJob in os.listdir(strJobsDir):\n",
    "    listDemodDirs = fn_getDemodDirsOfAJob(os.path.join(strJobsDir, strJob))\n",
    "    for strDemodDir in listDemodDirs:\n",
    "        strSamplesDir = os.path.join(strDemodDir, \"parts/sync/frame/samples/abnormal\")\n",
    "        pdDfPreprocessedSamples = pd.read_csv(os.path.join(strSamplesDir, \"preprocessed/samples.csv\"), index_col=\"RECTIME\")\n",
    "        pdDfScores = fn_score(pdDfPreprocessedSamples)\n",
    "\n",
    "        pdDfScores.to_csv(os.path.join(strSamplesDir, \"preprocessed/scores.csv\"), index_label=\"RECTIME\")"
   ]
  },
  {
   "cell_type": "code",
   "execution_count": 29,
   "metadata": {},
   "outputs": [],
   "source": [
    "# 读入正常测试样本和异常测试样本的分数，分别存入numpy数组\n",
    "listScores = []\n",
    "listX = []\n",
    "for strJob in os.listdir(strJobsDir):\n",
    "    strJobDir = os.path.join(strJobsDir, strJob)\n",
    "    listDemodDirs = fn_getDemodDirsOfAJob(strJobDir)\n",
    "    for strDemodDir in listDemodDirs:\n",
    "        strNormalTestingScoresFile = os.path.join(strDemodDir, \\\n",
    "                                                  \"parts/sync/frame/samples/normal/train/preprocessed/scores.csv\")\n",
    "        pdDfNormalTestingScores = pd.read_csv(strNormalTestingScoresFile, index_col=\"RECTIME\")\n",
    "        \n",
    "        if not pdDfNormalTestingScores.empty:\n",
    "            listScores.append(pdDfNormalTestingScores[\"score\"].values)\n",
    "            \n",
    "            # 分数的横坐标——用crc编码“解调器名+上报时间”\n",
    "            strDemod = os.path.split(strDemodDir)[1]\n",
    "            listX.append([hash(strDemod + strIndex) for strIndex in pdDfNormalTestingScores.index])\n",
    "            \n",
    "npNormalScores = np.concatenate(listScores)\n",
    "npNormalX = np.concatenate(listX)"
   ]
  },
  {
   "cell_type": "code",
   "execution_count": 30,
   "metadata": {},
   "outputs": [],
   "source": [
    "listScores = []\n",
    "listX = []\n",
    "for strJob in os.listdir(strJobsDir):\n",
    "    strJobDir = os.path.join(strJobsDir, strJob)\n",
    "    listDemodDirs = fn_getDemodDirsOfAJob(strJobDir)\n",
    "    for strDemodDir in listDemodDirs:\n",
    "        strAbnormalTestingScoresFile = os.path.join(strDemodDir, \\\n",
    "                                                  \"parts/sync/frame/samples/abnormal/preprocessed/scores.csv\")\n",
    "        pdDfAbnormalTestingScores = pd.read_csv(strAbnormalTestingScoresFile, index_col=\"RECTIME\")\n",
    "        if not pdDfAbnormalTestingScores.empty:\n",
    "            listScores.append(pdDfAbnormalTestingScores[\"score\"].values)\n",
    "            \n",
    "             # 分数的横坐标——用crc编码“解调器名+上报时间”\n",
    "            strDemod = os.path.split(strDemodDir)[1]\n",
    "            listX.append([hash(strDemod + strIndex) for strIndex in pdDfAbnormalTestingScores.index])\n",
    "            \n",
    "npAbnormalScores = np.concatenate(listScores)\n",
    "npAbnormalX = np.concatenate(listX)"
   ]
  },
  {
   "cell_type": "code",
   "execution_count": 31,
   "metadata": {},
   "outputs": [],
   "source": [
    "\"\"\"\n",
    "通过正常训练样本的分数计算相应的正太分布，利用正态分布计算异常样本该部分正确的概率\n",
    "\"\"\"\n",
    "fMeanframe = np.mean(npNormalScores)\n",
    "fSigmaframe = np.var(npNormalScores)\n",
    "npAbnormalprob = np.apply_along_axis(lambda x: 1 if x <= fMeanframe else ss.norm.sf(x, fMeanframe, fSigmaframe), 1, \\\n",
    "     npAbnormalScores[:, np.newaxis].astype(np.float64))"
   ]
  },
  {
   "cell_type": "code",
   "execution_count": 214,
   "metadata": {},
   "outputs": [
    {
     "data": {
      "image/png": "[encoded data removed]",
      "text/plain": [
       "<Figure size 1080x720 with 1 Axes>"
      ]
     },
     "metadata": {
      "needs_background": "light"
     },
     "output_type": "display_data"
    }
   ],
   "source": [
    "plt.figure(figsize=(15, 10))\n",
    "plt.scatter(npAbnormalX, npAbnormalprob, s=40)\n",
    "plt.ylim([-0.1, 1.1])\n",
    "plt.show()"
   ]
  },
  {
   "cell_type": "markdown",
   "metadata": {},
   "source": [
    "## 计算正确率并存入json\n",
    "将每一个异常样本存入一个json文件中，文件名为“任务名&解调器名&时间点.json”。\n",
    "\n",
    "json结构如下：\n",
    "* “中频输入”元组\n",
    "    * 各个参数名及对应的参数值\n",
    "    * 正确率\n",
    "* “载波同步”元组\n",
    "* “比特同步”元组\n",
    "* “维特比译码”元组\n",
    "* “帧同步”元组"
   ]
  },
  {
   "cell_type": "code",
   "execution_count": 666,
   "metadata": {},
   "outputs": [],
   "source": [
    "\"\"\"\n",
    "各个部分的异常样本index为准，寻找其对应的记录在分路之后各个部分的原始参数值\n",
    "将每个记录各个阶段的参数键值对存入以该部分的名称为名的字典中，并在最后附加上该部分的正确率\n",
    "最终\n",
    "\"\"\"\n",
    "sampleprobs = {\"中频输入\": [], \"载波同步\": []}#, \"比特同步\": [], \"维特比译码\": [], \"帧同步\": []}\n",
    "ids = []\n",
    "para_values = {\"中频输入\": [], \"载波同步\": []}#, \"比特同步\": [], \"维特比译码\": [], \"帧同步\": []}\n",
    "\n",
    "def combine(section):\n",
    "    sampleprobs[section].extend(probs.values[:, 0])\n",
    "    para_values[section].extend([dict(zip(samples.columns, samples.loc[ind, :])) \n",
    "         for ind in samples.index])\n",
    "\n",
    "for job in os.listdir(jobsdir):\n",
    "    for demodir in getdirs(jobdir=os.path.join(jobsdir, job)):\n",
    "        demod = os.path.split(demodir)[1]\n",
    "        partdir = os.path.join(demodir, \"parts/sync\")\n",
    "        \n",
    "        \"\"\"中频输入\"\"\"\n",
    "        probs = pd.read_csv(os.path.join(partdir, \"input/samples/abnormal/probs.csv\"), \\\n",
    "            index_col=\"RECTIME\")\n",
    "        samples = pd.read_csv(os.path.join(partdir, \"input/samples/abnormal/samples.csv\"), index_col=\"RECTIME\")\n",
    "        combine(\"中频输入\")\n",
    "        ids.extend([job + \"&\" + demod + \"&\" + ind[-8:].replace(\":\", \"_\") for ind in probs.index])\n",
    "\n",
    "        \"\"\"载波同步\"\"\"\n",
    "        probs = pd.read_csv(os.path.join(partdir, \"carrier/samples/abnormal/probs.csv\"), \\\n",
    "            index_col=\"RECTIME\")\n",
    "        samples = pd.read_csv(os.path.join(partdir, \"carrier/samples/abnormal/samples.csv\"), index_col=\"RECTIME\")\n",
    "        combine(\"载波同步\")\n",
    "        \n",
    "\n",
    "        \"\"\"\n",
    "        #比特同步\n",
    "        probs = pd.read_csv(os.path.join(partdir, \"bit/samples/abnormal/preprocessed/probs.csv\"), \\\n",
    "             index_col=\"RECTIME\")\n",
    "        samples = pd.read_csv(os.path.join(partdir, \"bit/samples.csv\"), index_col=\"RECTIME\")\n",
    "        combine(\"比特同步\")\n",
    "\n",
    "        #维特比译码\n",
    "        probs = pd.read_csv(os.path.join(partdir, \"vi/samples/abnormal/preprocessed/probs.csv\"), \\\n",
    "             index_col=\"RECTIME\")\n",
    "        samples = pd.read_csv(os.path.join(partdir, \"vi/samples.csv\"), \\\n",
    "              index_col=\"RECTIME\")\n",
    "        combine(\"维特比译码\")\n",
    "\n",
    "        #帧同步\n",
    "        probs = pd.read_csv(os.path.join(partdir, \"frame/samples/abnormal/preprocessed/probs.csv\"), \\\n",
    "             index_col=\"RECTIME\")\n",
    "        pdDfSamples = pd.read_csv(os.path.join(partdir, \"frame/samples.csv\"), \\\n",
    "              index_col=\"RECTIME\")\n",
    "        combine(\"帧同步\")\n",
    "        \"\"\""
   ]
  },
  {
   "cell_type": "code",
   "execution_count": 667,
   "metadata": {},
   "outputs": [],
   "source": [
    "\"\"\"将每个异常样本的各个部分参数的原始值存入一个json文件\n",
    "对于一条记录的相邻两个部分A、B而言，如果B对应的正确率小于A的正确率将近50%，那么判定部分B相对于部分A增加的\n",
    "阶段发生故障，并在该部分对应的字典添上“故障”：Yes键值对，部分B后面的各个阶段的故障与否忽略不计\n",
    "\"\"\"\n",
    "jsondir = \"../probs\"\n",
    "if os.path.exists(jsondir):\n",
    "    shutil.rmtree(jsondir)\n",
    "os.mkdir(jsondir)\n",
    "\n",
    "for i in range(len(ids)):\n",
    "    jsonobj = {}\n",
    "    lastprob = 100.0\n",
    "    for para in [\"中频输入\", \"载波同步\"]:#, \"比特同步\", \"维特比译码\", \"帧同步\"]:\n",
    "        jsonobj[para] = para_values[para][i].copy()\n",
    "        # 如果已经检测出了故障阶段（lastprob==-1），跳过此步\n",
    "        if not lastprob == -1 and lastprob - sampleprobs[para][i] >= 50.0:\n",
    "            jsonobj[para][\"故障\"] = \"Yes\"\n",
    "            lastprob = -1\n",
    "        elif not lastprob == -1:\n",
    "            # 如果没发现故障阶段，则更新正确概率\n",
    "            lastprob = sampleprobs[para][i]\n",
    "    jsonstr = json.dumps(jsonobj, ensure_ascii=False)\n",
    "    with open(os.path.join(jsondir, ids[i] + \".json\"), \"wb\") as f:\n",
    "        f.write(str.encode(jsonstr))"
   ]
  },
  {
   "cell_type": "markdown",
   "metadata": {},
   "source": [
    "## 译码"
   ]
  },
  {
   "cell_type": "markdown",
   "metadata": {},
   "source": [
    "### 构造建立模型"
   ]
  },
  {
   "cell_type": "code",
   "execution_count": 21,
   "metadata": {},
   "outputs": [],
   "source": [
    "# 32参数\n",
    "class GANdecode(object):\n",
    "    def __init__(self):\n",
    "        self.fn_makeGenerator()\n",
    "        self.fn_makeDiscriminator()\n",
    "        \n",
    "    def fn_makeGenerator(self):\n",
    "        self.oSeqGe = tf.keras.Sequential(name=\"Ge\")\n",
    "        self.oSeqGe.add(tf.keras.Input(shape=(32,)))\n",
    "        self.oSeqGe.add(tf.keras.layers.Dense(16, kernel_initializer=\"he_normal\"))\n",
    "        self.oSeqGe.add(tf.keras.layers.LeakyReLU())\n",
    "        self.oSeqGe.add(tf.keras.layers.BatchNormalization())\n",
    "        self.oSeqGe.add(tf.keras.layers.Dense(16, kernel_initializer=\"he_normal\"))\n",
    "        self.oSeqGe.add(tf.keras.layers.LeakyReLU())\n",
    "\n",
    "        self.oSeqGd = tf.keras.Sequential(name=\"Gd\")\n",
    "        self.oSeqGd.add(tf.keras.Input(shape=(16,)))\n",
    "        self.oSeqGd.add(tf.keras.layers.Dense(16, kernel_initializer=\"he_normal\"))\n",
    "        self.oSeqGd.add(tf.keras.layers.LeakyReLU())\n",
    "        self.oSeqGd.add(tf.keras.layers.BatchNormalization())\n",
    "        self.oSeqGd.add(tf.keras.layers.Dense(32, activation = tf.keras.activations.tanh, kernel_initializer=\"he_normal\"))\n",
    "        \n",
    "        self.oSeqGe1 = tf.keras.Sequential(name=\"Ge1\")\n",
    "        self.oSeqGe1.add(tf.keras.Input(shape=(32,)))\n",
    "        self.oSeqGe1.add(tf.keras.layers.Dense(16, kernel_initializer=\"he_normal\"))\n",
    "        self.oSeqGe1.add(tf.keras.layers.LeakyReLU())\n",
    "        self.oSeqGe1.add(tf.keras.layers.BatchNormalization())\n",
    "        self.oSeqGe1.add(tf.keras.layers.Dense(16, kernel_initializer=\"he_normal\"))\n",
    "        self.oSeqGe1.add(tf.keras.layers.LeakyReLU())\n",
    "        \n",
    "    def fn_makeDiscriminator(self):\n",
    "        self.oSeqDInner = tf.keras.Sequential(name=\"DInner\")\n",
    "        self.oSeqDInner.add(tf.keras.Input(shape=(32,)))\n",
    "        self.oSeqDInner.add(tf.keras.layers.Dense(16, kernel_initializer=\"he_normal\"))\n",
    "        self.oSeqDInner.add(tf.keras.layers.LeakyReLU())\n",
    "        self.oSeqDInner.add(tf.keras.layers.BatchNormalization())\n",
    "        self.oSeqDInner.add(tf.keras.layers.Dense(16, kernel_initializer=\"he_normal\"))\n",
    "        self.oSeqDInner.add(tf.keras.layers.LeakyReLU())\n",
    "        self.oSeqDInner.add(tf.keras.layers.BatchNormalization())\n",
    "\n",
    "        self.oSeqD = tf.keras.Sequential([\n",
    "            self.oSeqDInner,\n",
    "            tf.keras.layers.Dense(1, activation = tf.keras.activations.sigmoid)\n",
    "        ], name=\"D\")"
   ]
  },
  {
   "cell_type": "code",
   "execution_count": 30,
   "metadata": {},
   "outputs": [],
   "source": [
    "# 新建模型\n",
    "oGANdecode = GANdecode()"
   ]
  },
  {
   "cell_type": "markdown",
   "metadata": {},
   "source": [
    "### 构造数据集"
   ]
  },
  {
   "cell_type": "code",
   "execution_count": 31,
   "metadata": {},
   "outputs": [],
   "source": [
    "g_nFeatures = 32\n",
    "g_nBatchSize = 256\n",
    "\n",
    "def fn_splitCsvLine(strLine):\n",
    "    tensorDefs = [0.] * g_nFeatures\n",
    "    tensorRecord = tf.io.decode_csv(strLine, record_defaults=tensorDefs)\n",
    "    tensorX = tf.stack(tensorRecord)\n",
    "    return tensorX\n",
    "\n",
    "oDataset = tf.data.Dataset.list_files(strJobsDir + \"/*/*/parts/decode/samples/normal/train/preprocessed/samples.csv\")\n",
    "oDataset = oDataset.interleave(lambda strSamplesFile: tf.data.TextLineDataset(strSamplesFile).skip(1), \\\n",
    "                              cycle_length=5, num_parallel_calls=5)\n",
    "oDataset = oDataset.map(fn_splitCsvLine, g_nFeatures)\n",
    "oDataset = oDataset.shuffle(1000)\n",
    "oDataset = oDataset.batch(g_nBatchSize)"
   ]
  },
  {
   "cell_type": "code",
   "execution_count": 32,
   "metadata": {},
   "outputs": [],
   "source": [
    "# 读入所有的训练样本，从而通过shape属性得到训练集大小，存入全局变量中\n",
    "listPreprocessedNormalTrainingSamples = []\n",
    "for strJob in os.listdir(strJobsDir):\n",
    "    strJobDir = os.path.join(strJobsDir, strJob)\n",
    "    listDemodDirs = fn_getDemodDirsOfAJob(strJobDir)\n",
    "    for strDemodDir in listDemodDirs:\n",
    "        strPreprocessedNormalTrainingSamplesFile = os.path.join(strDemodDir, \\\n",
    "                                                   \"parts/decode/samples/normal/train/preprocessed/samples.csv\")\n",
    "        pdDfPreprocessedNormalTrainingSamples = pd.read_csv(strPreprocessedNormalTrainingSamplesFile)\n",
    "        listPreprocessedNormalTrainingSamples.append(pdDfPreprocessedNormalTrainingSamples)\n",
    "pdDfPreprocessedNormalTrainingSamples = pd.concat(listPreprocessedNormalTrainingSamples)\n",
    "g_tensorNormalTrainingSamples = tf.constant(pdDfPreprocessedNormalTrainingSamples.values, dtype=tf.float32)\n",
    "g_nTrainingSize = len(g_tensorNormalTrainingSamples)"
   ]
  },
  {
   "cell_type": "markdown",
   "metadata": {},
   "source": [
    "### 训练"
   ]
  },
  {
   "cell_type": "code",
   "execution_count": 33,
   "metadata": {},
   "outputs": [],
   "source": [
    "# g_nTrainingSize在中频控制已经设置好了\n",
    "g_nEpochs = 10000\n",
    "nSteps = g_nEpochs * g_nTrainingSize // g_nBatchSize\n",
    "oExponentialDecay = tf.keras.optimizers.schedules.ExponentialDecay(1e-2, nSteps, 1e-1)\n",
    "oOptimizerG = tf.keras.optimizers.Adam(learning_rate=oExponentialDecay)\n",
    "oOptimizerD = tf.keras.optimizers.SGD(learning_rate=oExponentialDecay)"
   ]
  },
  {
   "cell_type": "code",
   "execution_count": 34,
   "metadata": {},
   "outputs": [],
   "source": [
    "strD = \"(32,16)_D\"\n",
    "strA = \"(32,16)_A\"\n",
    "strRootDir = \"logs/nobranch/decode\"\n",
    "strDDir = os.path.join(strRootDir, strD)\n",
    "strADir = os.path.join(strRootDir, strA)"
   ]
  },
  {
   "cell_type": "code",
   "execution_count": 35,
   "metadata": {},
   "outputs": [],
   "source": [
    "if os.path.exists(strDDir):\n",
    "    shutil.rmtree(strDDir)\n",
    "if os.path.exists(strADir):\n",
    "    shutil.rmtree(strADir)"
   ]
  },
  {
   "cell_type": "code",
   "execution_count": 36,
   "metadata": {},
   "outputs": [],
   "source": [
    "oSummaryWriterDLoss = tf.summary.create_file_writer(strDDir)\n",
    "oSummaryWriterALoss = tf.summary.create_file_writer(strADir)"
   ]
  },
  {
   "cell_type": "code",
   "execution_count": 37,
   "metadata": {},
   "outputs": [
    {
     "name": "stdout",
     "output_type": "stream",
     "text": [
      "2022/10000"
     ]
    },
    {
     "ename": "KeyboardInterrupt",
     "evalue": "",
     "output_type": "error",
     "traceback": [
      "\u001b[1;31m---------------------------------------------------------------------------\u001b[0m",
      "\u001b[1;31mKeyboardInterrupt\u001b[0m                         Traceback (most recent call last)",
      "\u001b[1;32m<ipython-input-37-22dfa3559308>\u001b[0m in \u001b[0;36m<module>\u001b[1;34m\u001b[0m\n\u001b[0;32m      2\u001b[0m \u001b[0moSeqGd\u001b[0m \u001b[1;33m=\u001b[0m \u001b[1;32mNone\u001b[0m\u001b[1;33m\u001b[0m\u001b[1;33m\u001b[0m\u001b[0m\n\u001b[0;32m      3\u001b[0m \u001b[0moSeqGe1\u001b[0m \u001b[1;33m=\u001b[0m \u001b[1;32mNone\u001b[0m\u001b[1;33m\u001b[0m\u001b[1;33m\u001b[0m\u001b[0m\n\u001b[1;32m----> 4\u001b[1;33m \u001b[0mfn_train\u001b[0m\u001b[1;33m(\u001b[0m\u001b[0moGANdecode\u001b[0m\u001b[1;33m)\u001b[0m\u001b[1;33m\u001b[0m\u001b[1;33m\u001b[0m\u001b[0m\n\u001b[0m",
      "\u001b[1;32m<ipython-input-8-3855d8924bd9>\u001b[0m in \u001b[0;36mfn_train\u001b[1;34m(oGAN)\u001b[0m\n\u001b[0;32m     45\u001b[0m             \u001b[0mtensorDLoss\u001b[0m \u001b[1;33m=\u001b[0m \u001b[0mtensorDLossR\u001b[0m \u001b[1;33m+\u001b[0m \u001b[0mtensorDLossF\u001b[0m\u001b[1;33m\u001b[0m\u001b[1;33m\u001b[0m\u001b[0m\n\u001b[0;32m     46\u001b[0m             \u001b[1;32mwith\u001b[0m \u001b[0moSummaryWriterDLoss\u001b[0m\u001b[1;33m.\u001b[0m\u001b[0mas_default\u001b[0m\u001b[1;33m(\u001b[0m\u001b[1;33m)\u001b[0m\u001b[1;33m:\u001b[0m\u001b[1;33m\u001b[0m\u001b[1;33m\u001b[0m\u001b[0m\n\u001b[1;32m---> 47\u001b[1;33m                 \u001b[0mtf\u001b[0m\u001b[1;33m.\u001b[0m\u001b[0msummary\u001b[0m\u001b[1;33m.\u001b[0m\u001b[0mscalar\u001b[0m\u001b[1;33m(\u001b[0m\u001b[1;34m\"D_Loss\"\u001b[0m\u001b[1;33m,\u001b[0m \u001b[0mtensorDLoss\u001b[0m\u001b[1;33m,\u001b[0m \u001b[0mg_nStep\u001b[0m\u001b[1;33m)\u001b[0m\u001b[1;33m\u001b[0m\u001b[1;33m\u001b[0m\u001b[0m\n\u001b[0m\u001b[0;32m     48\u001b[0m \u001b[1;33m\u001b[0m\u001b[0m\n\u001b[0;32m     49\u001b[0m             \u001b[1;31m# Train genertor\u001b[0m\u001b[1;33m\u001b[0m\u001b[1;33m\u001b[0m\u001b[1;33m\u001b[0m\u001b[0m\n",
      "\u001b[1;32mf:\\python\\python37\\Lib\\contextlib.py\u001b[0m in \u001b[0;36m__exit__\u001b[1;34m(self, type, value, traceback)\u001b[0m\n\u001b[0;32m    117\u001b[0m         \u001b[1;32mif\u001b[0m \u001b[0mtype\u001b[0m \u001b[1;32mis\u001b[0m \u001b[1;32mNone\u001b[0m\u001b[1;33m:\u001b[0m\u001b[1;33m\u001b[0m\u001b[1;33m\u001b[0m\u001b[0m\n\u001b[0;32m    118\u001b[0m             \u001b[1;32mtry\u001b[0m\u001b[1;33m:\u001b[0m\u001b[1;33m\u001b[0m\u001b[1;33m\u001b[0m\u001b[0m\n\u001b[1;32m--> 119\u001b[1;33m                 \u001b[0mnext\u001b[0m\u001b[1;33m(\u001b[0m\u001b[0mself\u001b[0m\u001b[1;33m.\u001b[0m\u001b[0mgen\u001b[0m\u001b[1;33m)\u001b[0m\u001b[1;33m\u001b[0m\u001b[1;33m\u001b[0m\u001b[0m\n\u001b[0m\u001b[0;32m    120\u001b[0m             \u001b[1;32mexcept\u001b[0m \u001b[0mStopIteration\u001b[0m\u001b[1;33m:\u001b[0m\u001b[1;33m\u001b[0m\u001b[1;33m\u001b[0m\u001b[0m\n\u001b[0;32m    121\u001b[0m                 \u001b[1;32mreturn\u001b[0m \u001b[1;32mFalse\u001b[0m\u001b[1;33m\u001b[0m\u001b[1;33m\u001b[0m\u001b[0m\n",
      "\u001b[1;32md:\\py_virtualenv\\lib\\site-packages\\tensorflow_core\\python\\ops\\summary_ops_v2.py\u001b[0m in \u001b[0;36mas_default\u001b[1;34m(self)\u001b[0m\n\u001b[0;32m    237\u001b[0m       \u001b[1;31m# Flushes the summary writer in eager mode or in graph functions, but\u001b[0m\u001b[1;33m\u001b[0m\u001b[1;33m\u001b[0m\u001b[1;33m\u001b[0m\u001b[0m\n\u001b[0;32m    238\u001b[0m       \u001b[1;31m# not in legacy graph mode (you're on your own there).\u001b[0m\u001b[1;33m\u001b[0m\u001b[1;33m\u001b[0m\u001b[1;33m\u001b[0m\u001b[0m\n\u001b[1;32m--> 239\u001b[1;33m       \u001b[0mself\u001b[0m\u001b[1;33m.\u001b[0m\u001b[0mflush\u001b[0m\u001b[1;33m(\u001b[0m\u001b[1;33m)\u001b[0m\u001b[1;33m\u001b[0m\u001b[1;33m\u001b[0m\u001b[0m\n\u001b[0m\u001b[0;32m    240\u001b[0m     \u001b[1;32mfinally\u001b[0m\u001b[1;33m:\u001b[0m\u001b[1;33m\u001b[0m\u001b[1;33m\u001b[0m\u001b[0m\n\u001b[0;32m    241\u001b[0m       \u001b[0mcontext\u001b[0m\u001b[1;33m.\u001b[0m\u001b[0mcontext\u001b[0m\u001b[1;33m(\u001b[0m\u001b[1;33m)\u001b[0m\u001b[1;33m.\u001b[0m\u001b[0msummary_writer\u001b[0m \u001b[1;33m=\u001b[0m \u001b[0mold\u001b[0m\u001b[1;33m\u001b[0m\u001b[1;33m\u001b[0m\u001b[0m\n",
      "\u001b[1;32md:\\py_virtualenv\\lib\\site-packages\\tensorflow_core\\python\\ops\\summary_ops_v2.py\u001b[0m in \u001b[0;36mflush\u001b[1;34m(self)\u001b[0m\n\u001b[0;32m    254\u001b[0m     \u001b[1;32mif\u001b[0m \u001b[0mself\u001b[0m\u001b[1;33m.\u001b[0m\u001b[0m_v2\u001b[0m \u001b[1;32mand\u001b[0m \u001b[0mcontext\u001b[0m\u001b[1;33m.\u001b[0m\u001b[0mexecuting_eagerly\u001b[0m\u001b[1;33m(\u001b[0m\u001b[1;33m)\u001b[0m \u001b[1;32mand\u001b[0m \u001b[0mself\u001b[0m\u001b[1;33m.\u001b[0m\u001b[0m_closed\u001b[0m\u001b[1;33m:\u001b[0m\u001b[1;33m\u001b[0m\u001b[1;33m\u001b[0m\u001b[0m\n\u001b[0;32m    255\u001b[0m       \u001b[1;32mreturn\u001b[0m\u001b[1;33m\u001b[0m\u001b[1;33m\u001b[0m\u001b[0m\n\u001b[1;32m--> 256\u001b[1;33m     \u001b[1;32mreturn\u001b[0m \u001b[0m_flush_fn\u001b[0m\u001b[1;33m(\u001b[0m\u001b[0mwriter\u001b[0m\u001b[1;33m=\u001b[0m\u001b[0mself\u001b[0m\u001b[1;33m)\u001b[0m\u001b[1;33m\u001b[0m\u001b[1;33m\u001b[0m\u001b[0m\n\u001b[0m\u001b[0;32m    257\u001b[0m \u001b[1;33m\u001b[0m\u001b[0m\n\u001b[0;32m    258\u001b[0m   \u001b[1;32mdef\u001b[0m \u001b[0mclose\u001b[0m\u001b[1;33m(\u001b[0m\u001b[0mself\u001b[0m\u001b[1;33m)\u001b[0m\u001b[1;33m:\u001b[0m\u001b[1;33m\u001b[0m\u001b[1;33m\u001b[0m\u001b[0m\n",
      "\u001b[1;32md:\\py_virtualenv\\lib\\site-packages\\tensorflow_core\\python\\ops\\summary_ops_v2.py\u001b[0m in \u001b[0;36mflush\u001b[1;34m(writer, name)\u001b[0m\n\u001b[0;32m    930\u001b[0m     \u001b[0mresource\u001b[0m \u001b[1;33m=\u001b[0m \u001b[0mwriter\u001b[0m\u001b[1;33m\u001b[0m\u001b[1;33m\u001b[0m\u001b[0m\n\u001b[0;32m    931\u001b[0m   \u001b[1;32mwith\u001b[0m \u001b[0mops\u001b[0m\u001b[1;33m.\u001b[0m\u001b[0mdevice\u001b[0m\u001b[1;33m(\u001b[0m\u001b[1;34m\"cpu:0\"\u001b[0m\u001b[1;33m)\u001b[0m\u001b[1;33m:\u001b[0m\u001b[1;33m\u001b[0m\u001b[1;33m\u001b[0m\u001b[0m\n\u001b[1;32m--> 932\u001b[1;33m     \u001b[1;32mreturn\u001b[0m \u001b[0mgen_summary_ops\u001b[0m\u001b[1;33m.\u001b[0m\u001b[0mflush_summary_writer\u001b[0m\u001b[1;33m(\u001b[0m\u001b[0mresource\u001b[0m\u001b[1;33m,\u001b[0m \u001b[0mname\u001b[0m\u001b[1;33m=\u001b[0m\u001b[0mname\u001b[0m\u001b[1;33m)\u001b[0m\u001b[1;33m\u001b[0m\u001b[1;33m\u001b[0m\u001b[0m\n\u001b[0m\u001b[0;32m    933\u001b[0m \u001b[1;33m\u001b[0m\u001b[0m\n\u001b[0;32m    934\u001b[0m \u001b[1;33m\u001b[0m\u001b[0m\n",
      "\u001b[1;32md:\\py_virtualenv\\lib\\site-packages\\tensorflow_core\\python\\ops\\gen_summary_ops.py\u001b[0m in \u001b[0;36mflush_summary_writer\u001b[1;34m(writer, name)\u001b[0m\n\u001b[0;32m    241\u001b[0m       _result = _pywrap_tensorflow.TFE_Py_FastPathExecute(\n\u001b[0;32m    242\u001b[0m         \u001b[0m_ctx\u001b[0m\u001b[1;33m.\u001b[0m\u001b[0m_context_handle\u001b[0m\u001b[1;33m,\u001b[0m \u001b[0m_ctx\u001b[0m\u001b[1;33m.\u001b[0m\u001b[0m_thread_local_data\u001b[0m\u001b[1;33m.\u001b[0m\u001b[0mdevice_name\u001b[0m\u001b[1;33m,\u001b[0m\u001b[1;33m\u001b[0m\u001b[1;33m\u001b[0m\u001b[0m\n\u001b[1;32m--> 243\u001b[1;33m         \"FlushSummaryWriter\", name, _ctx._post_execution_callbacks, writer)\n\u001b[0m\u001b[0;32m    244\u001b[0m       \u001b[1;32mreturn\u001b[0m \u001b[0m_result\u001b[0m\u001b[1;33m\u001b[0m\u001b[1;33m\u001b[0m\u001b[0m\n\u001b[0;32m    245\u001b[0m     \u001b[1;32mexcept\u001b[0m \u001b[0m_core\u001b[0m\u001b[1;33m.\u001b[0m\u001b[0m_FallbackException\u001b[0m\u001b[1;33m:\u001b[0m\u001b[1;33m\u001b[0m\u001b[1;33m\u001b[0m\u001b[0m\n",
      "\u001b[1;31mKeyboardInterrupt\u001b[0m: "
     ]
    }
   ],
   "source": [
    "oSeqGe = None\n",
    "oSeqGd = None\n",
    "oSeqGe1 = None\n",
    "fn_train(oGANdecode)"
   ]
  },
  {
   "cell_type": "code",
   "execution_count": 130,
   "metadata": {},
   "outputs": [],
   "source": [
    "strGe = \"Ge.h5\"\n",
    "strGd = \"Gd.h5\"\n",
    "strGe1 = \"Ge1.h5\"\n",
    "strRootDir = \"models/nobranch/decode\"\n",
    "strModelsDir = os.path.join(strRootDir, \"(32,16)\")\n",
    "strGeFile = os.path.join(strModelsDir, strGe)\n",
    "strGdFile = os.path.join(strModelsDir, strGd)\n",
    "strGe1File = os.path.join(strModelsDir, strGe1)"
   ]
  },
  {
   "cell_type": "code",
   "execution_count": 40,
   "metadata": {},
   "outputs": [],
   "source": [
    "if os.path.exists(strModelsDir):\n",
    "    shutil.rmtree(strModelsDir)\n",
    "os.mkdir(strModelsDir)"
   ]
  },
  {
   "cell_type": "code",
   "execution_count": 41,
   "metadata": {},
   "outputs": [],
   "source": [
    "oSeqGe.save(strGeFile)\n",
    "oSeqGd.save(strGdFile)\n",
    "oSeqGe1.save(strGe1File)"
   ]
  },
  {
   "cell_type": "markdown",
   "metadata": {},
   "source": [
    "### 评估"
   ]
  },
  {
   "cell_type": "code",
   "execution_count": 131,
   "metadata": {},
   "outputs": [
    {
     "name": "stdout",
     "output_type": "stream",
     "text": [
      "WARNING:tensorflow:No training configuration found in save file: the model was *not* compiled. Compile it manually.\n",
      "WARNING:tensorflow:No training configuration found in save file: the model was *not* compiled. Compile it manually.\n",
      "WARNING:tensorflow:No training configuration found in save file: the model was *not* compiled. Compile it manually.\n"
     ]
    }
   ],
   "source": [
    "oSeqGe = tf.keras.models.load_model(strGeFile)\n",
    "oSeqGd = tf.keras.models.load_model(strGdFile)\n",
    "oSeqGe1 = tf.keras.models.load_model(strGe1File)"
   ]
  },
  {
   "cell_type": "code",
   "execution_count": 43,
   "metadata": {},
   "outputs": [],
   "source": [
    "# 算出正常训练集和异常测试集的分数\n",
    "# train samples\n",
    "for strJob in os.listdir(strJobsDir):\n",
    "    listDemodDirs = fn_getDemodDirsOfAJob(os.path.join(strJobsDir, strJob))\n",
    "    for strDemodDir in listDemodDirs:\n",
    "        strSamplesDir = os.path.join(strDemodDir, \"parts/decode/samples/normal/train\")\n",
    "        pdDfPreprocessedSamples = pd.read_csv(\\\n",
    "              os.path.join(strSamplesDir, \"preprocessed/samples.csv\"))\n",
    "        pdDfSamples = pd.read_csv(os.path.join(strSamplesDir, \"samples.csv\"), index_col=\"RECTIME\")\n",
    "        # 分数csv包含scores列\n",
    "        pdDfScores = fn_score(pdDfPreprocessedSamples)\n",
    "        pdDfScores.index = pdDfSamples.index\n",
    "\n",
    "        pdDfScores.to_csv(os.path.join(strSamplesDir, \"preprocessed/scores.csv\"), index_label=\"RECTIME\")\n",
    "        \n",
    "# Abnormal samples\n",
    "for strJob in os.listdir(strJobsDir):\n",
    "    listDemodDirs = fn_getDemodDirsOfAJob(os.path.join(strJobsDir, strJob))\n",
    "    for strDemodDir in listDemodDirs:\n",
    "        strSamplesDir = os.path.join(strDemodDir, \"parts/decode/samples/abnormal\")\n",
    "        pdDfPreprocessedSamples = pd.read_csv(os.path.join(strSamplesDir, \"preprocessed/samples.csv\"), index_col=\"RECTIME\")\n",
    "        pdDfScores = fn_score(pdDfPreprocessedSamples)\n",
    "\n",
    "        pdDfScores.to_csv(os.path.join(strSamplesDir, \"preprocessed/scores.csv\"), index_label=\"RECTIME\")"
   ]
  },
  {
   "cell_type": "code",
   "execution_count": 134,
   "metadata": {},
   "outputs": [],
   "source": [
    "# 读入正常测试样本和异常测试样本的分数，分别存入numpy数组\n",
    "listScores = []\n",
    "listX = []\n",
    "for strJob in os.listdir(strJobsDir):\n",
    "    strJobDir = os.path.join(strJobsDir, strJob)\n",
    "    listDemodDirs = fn_getDemodDirsOfAJob(strJobDir)\n",
    "    for strDemodDir in listDemodDirs:\n",
    "        strNormalTestingScoresFile = os.path.join(strDemodDir, \\\n",
    "                                                  \"parts/decode/samples/normal/train/preprocessed/scores.csv\")\n",
    "        pdDfNormalTestingScores = pd.read_csv(strNormalTestingScoresFile, index_col=\"RECTIME\")\n",
    "        \n",
    "        if not pdDfNormalTestingScores.empty:\n",
    "            listScores.append(pdDfNormalTestingScores[\"score\"].values)\n",
    "            \n",
    "            # 分数的横坐标——用crc编码“解调器名+上报时间”\n",
    "            strDemod = os.path.split(strDemodDir)[1]\n",
    "            listX.append([hash(strDemod + strIndex) for strIndex in pdDfNormalTestingScores.index])\n",
    "            \n",
    "npNormalScores = np.concatenate(listScores)\n",
    "npNormalX = np.concatenate(listX)"
   ]
  },
  {
   "cell_type": "code",
   "execution_count": 135,
   "metadata": {},
   "outputs": [],
   "source": [
    "listScores = []\n",
    "listX = []\n",
    "for strJob in os.listdir(strJobsDir):\n",
    "    strJobDir = os.path.join(strJobsDir, strJob)\n",
    "    listDemodDirs = fn_getDemodDirsOfAJob(strJobDir)\n",
    "    for strDemodDir in listDemodDirs:\n",
    "        strAbnormalTestingScoresFile = os.path.join(strDemodDir, \\\n",
    "                                                  \"parts/decode/samples/abnormal/preprocessed/scores.csv\")\n",
    "        pdDfAbnormalTestingScores = pd.read_csv(strAbnormalTestingScoresFile, index_col=\"RECTIME\")\n",
    "        if not pdDfAbnormalTestingScores.empty:\n",
    "            listScores.append(pdDfAbnormalTestingScores[\"score\"].values)\n",
    "            \n",
    "             # 分数的横坐标——用crc编码“解调器名+上报时间”\n",
    "            strDemod = os.path.split(strDemodDir)[1]\n",
    "            listX.append([hash(strDemod + strIndex) for strIndex in pdDfAbnormalTestingScores.index])\n",
    "            \n",
    "npAbnormalScores = np.concatenate(listScores)\n",
    "npAbnormalX = np.concatenate(listX)"
   ]
  },
  {
   "cell_type": "code",
   "execution_count": 136,
   "metadata": {},
   "outputs": [],
   "source": [
    "\"\"\"\n",
    "通过正常训练样本的分数计算相应的正太分布，利用正态分布计算异常样本该部分正确的概率\n",
    "\"\"\"\n",
    "fMeandecode = np.mean(npNormalScores)\n",
    "fSigmadecode = np.var(npNormalScores)\n",
    "npAbnormalprob = np.apply_along_axis(lambda x: 1 if x <= fMeanframe else ss.norm.sf(x, fMeandecode, fSigmadecode), 1, \\\n",
    "     npAbnormalScores[:, np.newaxis].astype(np.float64))"
   ]
  },
  {
   "cell_type": "code",
   "execution_count": 137,
   "metadata": {},
   "outputs": [
    {
     "data": {
      "image/png": "[encoded data removed]",
      "text/plain": [
       "<Figure size 1080x720 with 1 Axes>"
      ]
     },
     "metadata": {
      "needs_background": "light"
     },
     "output_type": "display_data"
    }
   ],
   "source": [
    "plt.figure(figsize=(15, 10))\n",
    "plt.scatter(npAbnormalX, npAbnormalprob, s=40)\n",
    "plt.show()"
   ]
  },
  {
   "cell_type": "markdown",
   "metadata": {},
   "source": [
    "### 用随机产生的伪样本测试模型的有效性"
   ]
  },
  {
   "cell_type": "code",
   "execution_count": 153,
   "metadata": {},
   "outputs": [],
   "source": [
    "pdDfFakeSamples = pd.DataFrame(data=np.random.randn(100, 32), index=[\"Fake\"] * 100)"
   ]
  },
  {
   "cell_type": "code",
   "execution_count": 154,
   "metadata": {},
   "outputs": [],
   "source": [
    "npAbnormalScores = fn_score(pdDfFakeSamples).values"
   ]
  },
  {
   "cell_type": "code",
   "execution_count": 155,
   "metadata": {},
   "outputs": [],
   "source": [
    "npAbnormalprob = np.apply_along_axis(lambda x: 1 if x <= fMeanframe else ss.norm.sf(x, fMeandecode, fSigmadecode), 1, \\\n",
    "     npAbnormalScores[:, np.newaxis].astype(np.float64))\n",
    "npAbnormalX = range(len(npAbnormalprob))"
   ]
  },
  {
   "cell_type": "code",
   "execution_count": 156,
   "metadata": {},
   "outputs": [
    {
     "data": {
      "image/png": "[encoded data removed]",
      "text/plain": [
       "<Figure size 1080x720 with 1 Axes>"
      ]
     },
     "metadata": {
      "needs_background": "light"
     },
     "output_type": "display_data"
    }
   ],
   "source": [
    "plt.figure(figsize=(15, 10))\n",
    "plt.scatter(npAbnormalX, npAbnormalprob, s=40)\n",
    "plt.ylim([-0.1, 1.1])\n",
    "plt.show()"
   ]
  }
 ],
 "metadata": {
  "kernelspec": {
   "display_name": "Python 3",
   "language": "python",
   "name": "python3"
  },
  "language_info": {
   "codemirror_mode": {
    "name": "ipython",
    "version": 3
   },
   "file_extension": ".py",
   "mimetype": "text/x-python",
   "name": "python",
   "nbconvert_exporter": "python",
   "pygments_lexer": "ipython3",
   "version": "3.7.4"
  },
  "toc": {
   "base_numbering": 1,
   "nav_menu": {},
   "number_sections": true,
   "sideBar": true,
   "skip_h1_title": false,
   "title_cell": "Table of Contents",
   "title_sidebar": "Contents",
   "toc_cell": false,
   "toc_position": {
    "height": "574.4px",
    "left": "53px",
    "top": "143.8px",
    "width": "340.975px"
   },
   "toc_section_display": true,
   "toc_window_display": true
  }
 },
 "nbformat": 4,
 "nbformat_minor": 2
}
