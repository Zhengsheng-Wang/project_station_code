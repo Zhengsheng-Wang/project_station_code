{
 "cells": [
  {
   "cell_type": "markdown",
   "metadata": {},
   "source": [
    "# 导入包"
   ]
  },
  {
   "cell_type": "code",
   "execution_count": 1,
   "metadata": {},
   "outputs": [],
   "source": [
    "import pdb, os, shutil, datetime, math, sys"
   ]
  },
  {
   "cell_type": "code",
   "execution_count": 21,
   "metadata": {},
   "outputs": [],
   "source": [
    "from zlib import crc32"
   ]
  },
  {
   "cell_type": "code",
   "execution_count": 2,
   "metadata": {},
   "outputs": [],
   "source": [
    "import matplotlib.pyplot as plt"
   ]
  },
  {
   "cell_type": "code",
   "execution_count": 4,
   "metadata": {},
   "outputs": [],
   "source": [
    "import numpy as np\n",
    "import pandas as pd"
   ]
  },
  {
   "cell_type": "code",
   "execution_count": 5,
   "metadata": {},
   "outputs": [],
   "source": [
    "import tensorflow as tf"
   ]
  },
  {
   "cell_type": "code",
   "execution_count": 8,
   "metadata": {},
   "outputs": [],
   "source": [
    "# 任务路径\n",
    "strJobsDir = \"../jobs\""
   ]
  },
  {
   "cell_type": "markdown",
   "metadata": {},
   "source": [
    "# 工具函数"
   ]
  },
  {
   "cell_type": "markdown",
   "metadata": {},
   "source": [
    "通过任务文件夹路径获取解调器文件夹路径函数"
   ]
  },
  {
   "cell_type": "code",
   "execution_count": 6,
   "metadata": {},
   "outputs": [],
   "source": [
    "def fn_getDemodDirsOfAJob(strJobDir):\n",
    "    liststrDemodDirs = [os.path.join(strJobDir, strName) for strName in os.listdir(strJobDir) if \"Demod\" in strName]\n",
    "    return liststrDemodDirs"
   ]
  },
  {
   "cell_type": "code",
   "execution_count": 13,
   "metadata": {},
   "outputs": [],
   "source": [
    "def fn_printBar(nEpoch):\n",
    "    sys.stdout.write(f\"\\r{nEpoch:d}/{g_nEpochs}\")\n",
    "    sys.stdout.flush()"
   ]
  },
  {
   "cell_type": "markdown",
   "metadata": {},
   "source": [
    "计算分数的函数\n",
    "通过输入样本集和Ge，Gd，Ge1输出样本集中每个样本的分数的函数。"
   ]
  },
  {
   "cell_type": "code",
   "execution_count": 22,
   "metadata": {},
   "outputs": [],
   "source": [
    "def fn_score(pdDfSamples, oSeqGe, oSeqGd, oSeqGe1):\n",
    "    if pdDfSamples.empty:\n",
    "        pdDfScores = pd.DataFrame(columns=[\"scores\"])\n",
    "        return pdDfScores\n",
    "    \n",
    "    listScores = []\n",
    "    tensorSamples = tf.constant(pdDfSamples.values)\n",
    "    # Apperant loss\n",
    "    for tensorSample in tensorSamples:\n",
    "        tensorSample = tensorSample[tf.newaxis, ...]\n",
    "        tensorEncodedSample = oSeqGe(tensorSample)\n",
    "        tensorFakeSample = oSeqGd(tensorEncodedSample)\n",
    "        tensorApperantLoss = tf.reduce_mean(tf.losses.mean_absolute_error(tensorSample, tensorFakeSample))\n",
    "\n",
    "        # Latent loss\n",
    "        tensorEncoded1Sample = oSeqGe1(tensorFakeSample)\n",
    "        tensorLatentLoss = \\\n",
    "            tf.reduce_mean(tf.losses.mean_squared_error(tensorEncodedSample, tensorEncoded1Sample))\n",
    "        \n",
    "        tensorScore = tensorApperantLoss + tensorLatentLoss\n",
    "        listScores.append(tensorScore.numpy())\n",
    "    pdDfScores = pd.DataFrame(data=listScores, columns=[\"scores\"], index=pdDfSamples.index)\n",
    "    return pdDfScores"
   ]
  },
  {
   "cell_type": "markdown",
   "metadata": {},
   "source": [
    "# 帧同步锁前\n",
    "\n",
    "因为在MNIST中的样本有784个属性。用于分类的模型也只有2层。所以在整个解扰前的训练中，我使用的模型的层数均不变。\n",
    "\n",
    "只随着样本属性的增加，增加每层的神经元个数。"
   ]
  },
  {
   "cell_type": "markdown",
   "metadata": {},
   "source": [
    "## 训练函数\n",
    "训练模型，模型用全局变量表示。\n",
    "\n",
    "如果在某个迭代的最终损失不小于前一次迭代，终止循环，返回前一次迭代的生成器的三个元素。"
   ]
  },
  {
   "cell_type": "code",
   "execution_count": 106,
   "metadata": {},
   "outputs": [],
   "source": [
    "def fn_train(oGAN): \n",
    "    def fn_getGLoss(tensorInput):\n",
    "        # Apperant loss\n",
    "        tensorEncodedSamples = oGAN.oSeqGe(tensorInput)\n",
    "        tensorFakeSamples = oGAN.oSeqGd(tensorEncodedSamples)\n",
    "        tensorApperantLoss = tf.reduce_mean(tf.losses.mean_absolute_error(tensorInput, tensorFakeSamples))\n",
    "\n",
    "        # Latent loss\n",
    "        tensorEncoded1Samples = oGAN.oSeqGe1(tensorFakeSamples)\n",
    "        tensorLatentLoss = \\\n",
    "        tf.reduce_mean(tf.losses.mean_squared_error(tensorEncodedSamples, tensorEncoded1Samples))\n",
    "\n",
    "        # Feature matching loss\n",
    "        tensorPredFeatures = oGAN.oSeqDInner(tensorFakeSamples)\n",
    "        tensorTrueFeatures = oGAN.oSeqDInner(tensorInput)\n",
    "        tensorFeatureLoss = tf.reduce_mean(tf.losses.mean_squared_error(tensorPredFeatures, tensorTrueFeatures))\n",
    "\n",
    "        tensorGLoss = tensorApperantLoss + tensorLatentLoss + tensorFeatureLoss\n",
    "        return tensorGLoss\n",
    "    # 在每个epoch后存储最小的ALoss和对应的\n",
    "    fGLossLast = np.inf\n",
    "    # 存储生成器的解码器和译码器\n",
    "    oSeqLastGe = None\n",
    "    oSeqLastGd = None\n",
    "    oSeqLastGe1 = None\n",
    "    # 开始训练，输出训练的开始时间和训练的结束时间\n",
    "    nStep = 0\n",
    "    print(datetime.datetime.now())\n",
    "    for nEpoch in range(g_nEpochs):\n",
    "        for tensorBatch in oDataset:\n",
    "            # Train discriminator\n",
    "            # Generator fake samples\n",
    "            tensorEncodedSamples = oGAN.oSeqGe(tensorBatch)\n",
    "            tensorFakeSamples = oGAN.oSeqGd(tensorEncodedSamples)\n",
    "            with tf.GradientTape() as oGradientTapeD:\n",
    "                # Train discriminator with real samples\n",
    "                tensorLabels = tf.random.uniform(minval=0.7, maxval=1.2, seed=42, shape=(tensorBatch.shape[0], 1))\n",
    "                tensorPreds = oGAN.oSeqD(tensorBatch)\n",
    "                tensorDLossR = tf.reduce_mean(tf.nn.sigmoid_cross_entropy_with_logits(tensorLabels, tensorPreds))\n",
    "            listDGradients = oGradientTapeD.gradient(tensorDLossR, oGAN.oSeqD.trainable_variables)\n",
    "            oOptimizerD.apply_gradients(zip(listDGradients, oGAN.oSeqD.trainable_variables))\n",
    "            with tf.GradientTape() as oGradientTapeD:\n",
    "                # Train discriminator with fake samples\n",
    "                tensorLabels = tf.random.uniform(minval=0., maxval=0.3, seed = 42, shape=(tensorFakeSamples.shape[0], 1))\n",
    "                tensorPreds = oGAN.oSeqD(tensorFakeSamples)\n",
    "                tensorDLossF = tf.reduce_mean(tf.nn.sigmoid_cross_entropy_with_logits(tensorLabels, tensorPreds))\n",
    "            listDGradients = oGradientTapeD.gradient(tensorDLossF, oGAN.oSeqD.trainable_variables)\n",
    "            oOptimizerD.apply_gradients(zip(listDGradients, oGAN.oSeqD.trainable_variables))\n",
    "            tensorDLoss = tensorDLossR + tensorDLossF\n",
    "            with oSummaryWriterDLoss.as_default():\n",
    "                tf.summary.scalar(\"D_Loss\", tensorDLoss, nStep)\n",
    "\n",
    "            # Train genertor\n",
    "            with tf.GradientTape() as oGradientTapeG:\n",
    "                tensorGLoss = fn_getGLoss(tensorBatch)\n",
    "            # Insert all generator trainable variables into a list\n",
    "            listTrainableGVariables = []\n",
    "            listTrainableGVariables.extend(oGAN.oSeqGe.trainable_variables)\n",
    "            listTrainableGVariables.extend(oGAN.oSeqGd.trainable_variables)\n",
    "            listTrainableGVariables.extend(oGAN.oSeqGe1.trainable_variables)\n",
    "\n",
    "            listGGradients = oGradientTapeG.gradient(tensorGLoss, listTrainableGVariables)\n",
    "            oOptimizerG.apply_gradients(zip(listGGradients, listTrainableGVariables))\n",
    "            with oSummaryWriterALoss.as_default():\n",
    "                tf.summary.scalar(\"A_loss\", tensorGLoss, nStep)\n",
    "\n",
    "            nStep = nStep + 1\n",
    "            \n",
    "        # 在整个训练集上计算generator的损失，并比较和上一次迭代的损失，如果小于上一次迭代，更新损失和最有模型；反之停止训练\n",
    "        tensorGLossOverTotalSamples = fn_getGLoss(g_tensorNormalTrainingSamples)\n",
    "        if fGLossLast > tensorGLossOverTotalSamples.numpy():\n",
    "            fGLossLast = tensorGLossOverTotalSamples.numpy()\n",
    "            oSeqLastGe = oGAN.oSeqGe\n",
    "            oSeqLastGd = oGAN.oSeqGd\n",
    "            oSeqLastGe1 = oGAN.oSeqGe1\n",
    "        # 输出进度\n",
    "        fn_printBar(nEpoch)\n",
    "    return oSeqLastGe, oSeqLastGd, oSeqLastGe1\n",
    "    print(datetime.datetime.now())\n",
    "\n",
    "    "
   ]
  },
  {
   "cell_type": "markdown",
   "metadata": {},
   "source": [
    "## 中频控制\n",
    "\n",
    "利用中频控制的训练样本训练模型，再用模型为测试样本打分。分数越高样本越异常。为测试集打分时，测试集中的正常样本应该分数很低，异常样本中的有一部分应该分数低，一部分分数高。"
   ]
  },
  {
   "cell_type": "markdown",
   "metadata": {},
   "source": [
    "### 构造建立模型\n",
    "\n",
    "为了能够将训练好的模型保存起来，每个独立的模型的第一层都是tf.keras.Input(shape=(inputshape, ))"
   ]
  },
  {
   "cell_type": "code",
   "execution_count": 296,
   "metadata": {},
   "outputs": [],
   "source": [
    "class GANifu(object):\n",
    "    def __init__(self):\n",
    "        self.fn_makeGenerator()\n",
    "        self.fn_makeDiscriminator()\n",
    "        \n",
    "    def fn_makeGenerator(self):\n",
    "        self.oSeqGe = tf.keras.Sequential(name=\"Ge\")\n",
    "        self.oSeqGe.add(tf.keras.Input(shape=(5,)))\n",
    "        self.oSeqGe.add(tf.keras.layers.Dense(3, kernel_initializer=\"he_normal\"))\n",
    "        self.oSeqGe.add(tf.keras.layers.LeakyReLU())\n",
    "        self.oSeqGe.add(tf.keras.layers.BatchNormalization())\n",
    "        self.oSeqGe.add(tf.keras.layers.Dense(3, kernel_initializer=\"he_normal\"))\n",
    "        self.oSeqGe.add(tf.keras.layers.LeakyReLU())\n",
    "\n",
    "        self.oSeqGd = tf.keras.Sequential(name=\"Gd\")\n",
    "        self.oSeqGd.add(tf.keras.Input(shape=(3,)))\n",
    "        self.oSeqGd.add(tf.keras.layers.Dense(3, kernel_initializer=\"he_normal\"))\n",
    "        self.oSeqGd.add(tf.keras.layers.LeakyReLU())\n",
    "        self.oSeqGd.add(tf.keras.layers.BatchNormalization())\n",
    "        self.oSeqGd.add(tf.keras.layers.Dense(5, activation = tf.keras.activations.sigmoid))\n",
    "        \n",
    "        self.oSeqGe1 = tf.keras.Sequential(name=\"Ge1\")\n",
    "        self.oSeqGe1.add(tf.keras.Input(shape=(5,)))\n",
    "        self.oSeqGe1.add(tf.keras.layers.Dense(3, kernel_initializer=\"he_normal\"))\n",
    "        self.oSeqGe1.add(tf.keras.layers.LeakyReLU())\n",
    "        self.oSeqGe1.add(tf.keras.layers.BatchNormalization())\n",
    "        self.oSeqGe1.add(tf.keras.layers.Dense(3, kernel_initializer=\"he_normal\"))\n",
    "        self.oSeqGe1.add(tf.keras.layers.LeakyReLU())\n",
    "        \n",
    "    def fn_makeDiscriminator(self):\n",
    "        self.oSeqDInner = tf.keras.Sequential(name=\"DInner\")\n",
    "        self.oSeqDInner.add(tf.keras.Input(shape=(5,)))\n",
    "        self.oSeqDInner.add(tf.keras.layers.Dense(3, kernel_initializer=\"he_normal\"))\n",
    "        self.oSeqDInner.add(tf.keras.layers.LeakyReLU())\n",
    "        self.oSeqDInner.add(tf.keras.layers.BatchNormalization())\n",
    "        self.oSeqDInner.add(tf.keras.layers.Dense(3, kernel_initializer=\"he_normal\"))\n",
    "        self.oSeqDInner.add(tf.keras.layers.LeakyReLU())\n",
    "        self.oSeqDInner.add(tf.keras.layers.BatchNormalization())\n",
    "\n",
    "        self.oSeqD = tf.keras.Sequential([\n",
    "            self.oSeqDInner,\n",
    "            tf.keras.layers.Dense(1, activation = tf.keras.activations.sigmoid)\n",
    "        ], name=\"D\")"
   ]
  },
  {
   "cell_type": "code",
   "execution_count": 311,
   "metadata": {},
   "outputs": [],
   "source": [
    "# 新建模型\n",
    "tf.keras.backend.clear_session()\n",
    "oGANifu = GANifu()"
   ]
  },
  {
   "cell_type": "markdown",
   "metadata": {},
   "source": [
    "### 构造数据集"
   ]
  },
  {
   "cell_type": "code",
   "execution_count": 312,
   "metadata": {},
   "outputs": [],
   "source": [
    "g_nFeatures = 5\n",
    "g_nBatchSize = 256\n",
    "\n",
    "def fn_splitCsvLine(strLine):\n",
    "    tensorDefs = [0.] * g_nFeatures\n",
    "    tensorRecord = tf.io.decode_csv(strLine, record_defaults=tensorDefs)\n",
    "    tensorX = tf.stack(tensorRecord)\n",
    "    return tensorX\n",
    "\n",
    "oDataset = tf.data.Dataset.list_files(strJobsDir + \"/*/*/parts/sync/ifu/samples/normal/train/preprocessed/samples.csv\")\n",
    "oDataset = oDataset.interleave(lambda strSamplesFile: tf.data.TextLineDataset(strSamplesFile).skip(1), \\\n",
    "                              cycle_length=5, num_parallel_calls=5)\n",
    "oDataset = oDataset.map(fn_splitCsvLine, 5)\n",
    "oDataset = oDataset.shuffle(1000)\n",
    "oDataset= oDataset.batch(g_nBatchSize)"
   ]
  },
  {
   "cell_type": "code",
   "execution_count": 299,
   "metadata": {},
   "outputs": [],
   "source": [
    "# 读入所有的训练样本，从而通过shape属性得到训练集大小，存入全局变量中\n",
    "listPreprocessedNormalTrainingSamples = []\n",
    "for strJob in os.listdir(strJobsDir):\n",
    "    strJobDir = os.path.join(strJobsDir, strJob)\n",
    "    listDemodDirs = fn_getDemodDirsOfAJob(strJobDir)\n",
    "    for strDemodDir in listDemodDirs:\n",
    "        strPreprocessedNormalTrainingSamplesFile = os.path.join(strDemodDir, \\\n",
    "                                                   \"parts/sync/ifu/samples/normal/train/preprocessed/samples.csv\")\n",
    "        pdDfPreprocessedNormalTrainingSamples = pd.read_csv(strPreprocessedNormalTrainingSamplesFile)\n",
    "        listPreprocessedNormalTrainingSamples.append(pdDfPreprocessedNormalTrainingSamples)\n",
    "pdDfPreprocessedNormalTrainingSamples = pd.concat(listPreprocessedNormalTrainingSamples)\n",
    "g_tensorNormalTrainingSamples = tf.constant(pdDfPreprocessedNormalTrainingSamples.values, dtype=tf.float32)\n",
    "g_nTrainingSize = len(g_tensorNormalTrainingSamples)"
   ]
  },
  {
   "cell_type": "markdown",
   "metadata": {},
   "source": [
    "### 训练"
   ]
  },
  {
   "cell_type": "code",
   "execution_count": 313,
   "metadata": {},
   "outputs": [],
   "source": [
    "# 构造优化器。\n",
    "# 利用ExponentialDecay的方法构造优化器。\n",
    "g_nEpochs = 300\n",
    "nSteps = g_nEpochs * g_nTrainingSize // g_nBatchSize\n",
    "oExponentialDecay = tf.keras.optimizers.schedules.ExponentialDecay(1e-2, nSteps, 1e-1)\n",
    "oOptimizerG = tf.keras.optimizers.Adam(learning_rate=oExponentialDecay)\n",
    "oOptimizerD = tf.keras.optimizers.SGD(learning_rate=oExponentialDecay)"
   ]
  },
  {
   "cell_type": "code",
   "execution_count": 314,
   "metadata": {},
   "outputs": [],
   "source": [
    "# 构造日志\n",
    "strPrefix = datetime.datetime.now().strftime(\"%H_%M_%S\")\n",
    "strPrefix = \"{}\".format(strPrefix)\n",
    "oSummaryWriterDLoss = tf.summary.create_file_writer(\"logs/ifu/\" + strPrefix + \"_D\")\n",
    "oSummaryWriterALoss = tf.summary.create_file_writer(\"logs/ifu/\" + strPrefix + \"_A\")"
   ]
  },
  {
   "cell_type": "code",
   "execution_count": 315,
   "metadata": {},
   "outputs": [
    {
     "name": "stdout",
     "output_type": "stream",
     "text": [
      "2020-02-21 19:56:54.293364\n",
      "299/300"
     ]
    }
   ],
   "source": [
    "oSeqGe, oSeqGd, oSeqGe1 = fn_train(oGANifu)"
   ]
  },
  {
   "cell_type": "code",
   "execution_count": 316,
   "metadata": {},
   "outputs": [],
   "source": [
    "# 保存模型\n",
    "oSeqGe.save(\"models/sync/ifu/Ge.h5\")\n",
    "oSeqGd.save(\"models/sync/ifu/Gd.h5\")\n",
    "oSeqGe1.save(\"models/sync/ifu/Ge1.h5\")"
   ]
  },
  {
   "cell_type": "markdown",
   "metadata": {},
   "source": [
    "### 评估\n",
    "然后利用训练好的模型算出测试集样本的分数，存档。"
   ]
  },
  {
   "cell_type": "markdown",
   "metadata": {},
   "source": [
    "从文件夹中载入训练好的模型。\n",
    "\n",
    "遍历每个解调器的测试集，将相应的分数存入preprocessed/scores.csv中"
   ]
  },
  {
   "cell_type": "code",
   "execution_count": 10,
   "metadata": {},
   "outputs": [
    {
     "name": "stdout",
     "output_type": "stream",
     "text": [
      "WARNING:tensorflow:No training configuration found in save file: the model was *not* compiled. Compile it manually.\n",
      "WARNING:tensorflow:No training configuration found in save file: the model was *not* compiled. Compile it manually.\n",
      "WARNING:tensorflow:No training configuration found in save file: the model was *not* compiled. Compile it manually.\n"
     ]
    }
   ],
   "source": [
    "oSeqGe = tf.keras.models.load_model(\"models/sync/ifu/Ge.h5\")\n",
    "oSeqD = tf.keras.models.load_model(\"models/sync/ifu/Gd.h5\")\n",
    "oSeqGe1 = tf.keras.models.load_model(\"models/sync/ifu/Ge1.h5\")"
   ]
  },
  {
   "cell_type": "markdown",
   "metadata": {},
   "source": [
    "计算测试样本分数并存档\n",
    "执行后：\n",
    "* samples/\n",
    "    * normal/\n",
    "        * test/\n",
    "            * preprocessed/\n",
    "                * samples.csv\n",
    "                * scores.csv\n",
    "    * abnormal/\n",
    "        * preprocessed/\n",
    "            * samples.csv\n",
    "            * scores.csv\n",
    "      \n",
    "在分数后面要添上由解调器名和rectime组成的id，方便画图的时候把同一解调器在同一任务的样本分开。画图的时候要把id和总的横坐标值取模，模的结果作为最终的横坐标。"
   ]
  },
  {
   "cell_type": "code",
   "execution_count": 30,
   "metadata": {},
   "outputs": [],
   "source": [
    "# Test samples\n",
    "for strJob in os.listdir(\"../jobs\"):\n",
    "    listDemodDirs = fn_getDemodDirsOfAJob(os.path.join(strJobsDir, strJob))\n",
    "    for strDemodDir in listDemodDirs:\n",
    "        strPreprocessedSamplesDir = os.path.join(strDemodDir, \"parts/sync/ifu/samples/normal/test/preprocessed\")\n",
    "        strPreprocessedSamplesFile = os.path.join(strPreprocessedSamplesDir, \"samples.csv\")\n",
    "        pdDfPreprocessedSamples = pd.read_csv(strPreprocessedSamplesFile, index_col=\"RECTIME\")\n",
    "        # 分数csv包含scores列\n",
    "        pdDfScores = fn_score(pdDfPreprocessedSamples, oSeqGe, oSeqD, \\\n",
    "                              oSeqGe1)\n",
    "        # 下面再csv里面添加id_num\n",
    "        strDemod = os.path.split(strDemodDir)[1]\n",
    "        pdSeriesId = pd.Series(data=pdDfScores.index, name=\"id\")\n",
    "        pdSeriesId = pdSeriesId.apply(lambda id: crc32(str.encode(strDemod + id)))\n",
    "        pdDfScores[\"id\"] = pdSeriesId.values\n",
    "        strScoresFile = os.path.join(strPreprocessedSamplesDir, \"scores.csv\")\n",
    "        pdDfScores.to_csv(strScoresFile, index_label=\"RECTIME\")\n",
    "        \n",
    "# Abnormal samples\n",
    "for strJob in os.listdir(\"../jobs\"):\n",
    "    listDemodDirs = fn_getDemodDirsOfAJob(os.path.join(strJobsDir, strJob))\n",
    "    for strDemodDir in listDemodDirs:\n",
    "        strPreprocessedSamplesDir = os.path.join(strDemodDir, \"parts/sync/ifu/samples/abnormal/preprocessed\")\n",
    "        strPreprocessedSamplesFile = os.path.join(strPreprocessedSamplesDir, \"samples.csv\")\n",
    "        pdDfPreprocessedSamples = pd.read_csv(strPreprocessedSamplesFile, index_col=\"RECTIME\")\n",
    "        pdDfScores = fn_score(pdDfPreprocessedSamples, oSeqGe, oSeqD, \\\n",
    "                              oSeqGe1)\n",
    "        # 下面再csv里面添加id_num\n",
    "        # 用解调器名和分数对应的RECTIME组合成一个大的字符串，然后对这个大的字符串进行crc32编码，编出一个独一无二的大整数\n",
    "        strDemod = os.path.split(strDemodDir)[1]\n",
    "        pdSeriesId = pd.Series(data=pdDfScores.index, name=\"id\")\n",
    "        pdSeriesId = pdSeriesId.apply(lambda id: crc32(str.encode(strDemod + id)))\n",
    "        pdDfScores[\"id\"] = pdSeriesId.values\n",
    "        strScoresFile = os.path.join(strPreprocessedSamplesDir, \"scores.csv\")\n",
    "        pdDfScores.to_csv(strScoresFile, index_label=\"RECTIME\")"
   ]
  },
  {
   "cell_type": "code",
   "execution_count": 121,
   "metadata": {},
   "outputs": [],
   "source": [
    "# 读入正常测试样本和异常测试样本的分数，分别存入numpy数组\n",
    "listScores = []\n",
    "listX = []\n",
    "for strJob in os.listdir(strJobsDir):\n",
    "    strJobDir = os.path.join(strJobsDir, strJob)\n",
    "    listDemodDirs = fn_getDemodDirsOfAJob(strJobDir)\n",
    "    for strDemodDir in listDemodDirs:\n",
    "        strNormalTestingScoresFile = os.path.join(strDemodDir, \\\n",
    "                                                  \"parts/sync/ifu/samples/normal/test/preprocessed/scores.csv\")\n",
    "        pdDfNormalTestingScores = pd.read_csv(strNormalTestingScoresFile, index_col=\"RECTIME\")\n",
    "        if not pdDfNormalTestingScores.empty:\n",
    "            listScores.append(pdDfNormalTestingScores[\"scores\"].values)\n",
    "            # 分数的横坐标\n",
    "            listX.append(pdDfNormalTestingScores[\"id\"].values)\n",
    "npNormalScores = np.concatenate(listScores)\n",
    "npNormalX = np.concatenate(listX)\n",
    "\n",
    "listScores = []\n",
    "listX = []\n",
    "for strJob in os.listdir(strJobsDir):\n",
    "    strJobDir = os.path.join(strJobsDir, strJob)\n",
    "    listDemodDirs = fn_getDemodDirsOfAJob(strJobDir)\n",
    "    for strDemodDir in listDemodDirs:\n",
    "        strAbnormalTestingScoresFile = os.path.join(strDemodDir, \\\n",
    "                                                  \"parts/sync/ifu/samples/abnormal/preprocessed/scores.csv\")\n",
    "        pdDfAbnormalTestingScores = pd.read_csv(strAbnormalTestingScoresFile, index_col=\"RECTIME\")\n",
    "        if not pdDfAbnormalTestingScores.empty:\n",
    "            listScores.append(pdDfAbnormalTestingScores[\"scores\"].values)\n",
    "            # 分数的横坐标\n",
    "            listX.append(pdDfAbnormalTestingScores[\"id\"].values)\n",
    "npAbnormalScores = np.concatenate(listScores)\n",
    "npAbnormalX = np.concatenate(listX)"
   ]
  },
  {
   "cell_type": "code",
   "execution_count": 122,
   "metadata": {},
   "outputs": [],
   "source": [
    "nTotalLen = npNormalX.shape[0] + npAbnormalX.shape[0]"
   ]
  },
  {
   "cell_type": "code",
   "execution_count": 123,
   "metadata": {},
   "outputs": [],
   "source": [
    "# 将正常测试样本的最大分数作为阈值，如果异常测试样本的分数大于该值则判错，小于判对\n",
    "fThreshold = np.sort(npNormalScores)[int(len(npNormalScores) * 0.995)]"
   ]
  },
  {
   "cell_type": "code",
   "execution_count": 124,
   "metadata": {},
   "outputs": [
    {
     "data": {
      "image/png": "[encoded data removed]",
      "text/plain": [
       "<Figure size 1080x720 with 2 Axes>"
      ]
     },
     "metadata": {
      "needs_background": "light"
     },
     "output_type": "display_data"
    }
   ],
   "source": [
    "# 做出散点图。其中，虚线表示阈值。\n",
    "plt.figure(figsize=(15, 10))\n",
    "plt.subplot(2, 1, 1)\n",
    "plt.scatter(npNormalX % nTotalLen, npNormalScores, c=\"green\", s=0.5)\n",
    "plt.hlines(fThreshold, xmin=-100, xmax=nTotalLen + 100, linestyles=\"dashed\")\n",
    "plt.xlim([-100, nTotalLen + 100])\n",
    "plt.ylim([0, 2])\n",
    "\n",
    "plt.subplot(2, 1, 2)\n",
    "plt.scatter(npAbnormalX % nTotalLen, npAbnormalScores, c=\"red\", s=0.5)\n",
    "plt.hlines(fThreshold, xmin=-100, xmax=nTotalLen + 100, linestyles=\"dashed\")\n",
    "plt.xlim([-100, nTotalLen + 100])\n",
    "plt.ylim([0, 2])\n",
    "plt.show()"
   ]
  },
  {
   "cell_type": "markdown",
   "metadata": {},
   "source": [
    "把高于阈值的异常样本存入以部分的名字命名的dataframe文件中。multiindex=任务名+解调器名  域=上报时间点"
   ]
  },
  {
   "cell_type": "code",
   "execution_count": 21,
   "metadata": {},
   "outputs": [],
   "source": [
    "listAbnormalifu = []\n",
    "for strJob in os.listdir(strJobsDir):\n",
    "    listDemodDirs = fn_getDemodDirsOfAJob(os.path.join(strJobsDir, strJob))\n",
    "    for strDemodDir in listDemodDirs:\n",
    "        pdDfScores = pd.read_csv(os.path.join(strDemodDir, \"parts/sync/ifu/samples/abnormal/preprocessed/scores.csv\"), \\\n",
    "                                 index_col=\"RECTIME\")\n",
    "        pdDfSamples = pd.read_csv(os.path.join(strDemodDir, \"parts/sync/ifu/samples/abnormal/samples.csv\"), \\\n",
    "                                    index_col=\"RECTIME\")\n",
    "        for index in pdDfScores.index:\n",
    "            if pdDfScores.loc[index, \"scores\"] > fThreshold:\n",
    "                listAbnormalifu.append(pdDfSamples.loc[index, :])\n",
    "pdDfAbnormalifuRecords = pd.DataFrame(listAbnormalifu)\n",
    "pdDfAbnormalifuRecords.to_csv(\"../ifu.csv\", index_label=\"RECTIME\")"
   ]
  },
  {
   "cell_type": "markdown",
   "metadata": {},
   "source": [
    "## 输入"
   ]
  },
  {
   "cell_type": "markdown",
   "metadata": {},
   "source": [
    "### 构造建立模型\n",
    "\n",
    "由于有7个属性，所以"
   ]
  },
  {
   "cell_type": "code",
   "execution_count": 327,
   "metadata": {},
   "outputs": [],
   "source": [
    "class GANinput(object):\n",
    "    def __init__(self):\n",
    "        self.fn_makeGenerator()\n",
    "        self.fn_makeDiscriminator()\n",
    "        \n",
    "    def fn_makeGenerator(self):\n",
    "        self.oSeqGe = tf.keras.Sequential(name=\"Ge\")\n",
    "        self.oSeqGe.add(tf.keras.Input(shape=(7,)))\n",
    "        self.oSeqGe.add(tf.keras.layers.Dense(5, kernel_initializer=\"he_normal\"))\n",
    "        self.oSeqGe.add(tf.keras.layers.LeakyReLU())\n",
    "        self.oSeqGe.add(tf.keras.layers.BatchNormalization())\n",
    "        self.oSeqGe.add(tf.keras.layers.Dense(5, kernel_initializer=\"he_normal\"))\n",
    "        self.oSeqGe.add(tf.keras.layers.LeakyReLU())\n",
    "\n",
    "        self.oSeqGd = tf.keras.Sequential(name=\"Gd\")\n",
    "        self.oSeqGd.add(tf.keras.Input(shape=(5,)))\n",
    "        self.oSeqGd.add(tf.keras.layers.Dense(5, kernel_initializer=\"he_normal\"))\n",
    "        self.oSeqGd.add(tf.keras.layers.LeakyReLU())\n",
    "        self.oSeqGd.add(tf.keras.layers.BatchNormalization())\n",
    "        self.oSeqGd.add(tf.keras.layers.Dense(7, activation = tf.keras.activations.sigmoid))\n",
    "        \n",
    "        self.oSeqGe1 = tf.keras.Sequential(name=\"Ge1\")\n",
    "        self.oSeqGe1.add(tf.keras.Input(shape=(7,)))\n",
    "        self.oSeqGe1.add(tf.keras.layers.Dense(5, kernel_initializer=\"he_normal\"))\n",
    "        self.oSeqGe1.add(tf.keras.layers.LeakyReLU())\n",
    "        self.oSeqGe1.add(tf.keras.layers.BatchNormalization())\n",
    "        self.oSeqGe1.add(tf.keras.layers.Dense(5, kernel_initializer=\"he_normal\"))\n",
    "        self.oSeqGe1.add(tf.keras.layers.LeakyReLU())\n",
    "        \n",
    "    def fn_makeDiscriminator(self):\n",
    "        self.oSeqDInner = tf.keras.Sequential(name=\"DInner\")\n",
    "        self.oSeqDInner.add(tf.keras.Input(shape=(7,)))\n",
    "        self.oSeqDInner.add(tf.keras.layers.Dense(5, kernel_initializer=\"he_normal\"))\n",
    "        self.oSeqDInner.add(tf.keras.layers.LeakyReLU())\n",
    "        self.oSeqDInner.add(tf.keras.layers.BatchNormalization())\n",
    "        self.oSeqDInner.add(tf.keras.layers.Dense(5, kernel_initializer=\"he_normal\"))\n",
    "        self.oSeqDInner.add(tf.keras.layers.LeakyReLU())\n",
    "        self.oSeqDInner.add(tf.keras.layers.BatchNormalization())\n",
    "\n",
    "        self.oSeqD = tf.keras.Sequential([\n",
    "            self.oSeqDInner,\n",
    "            tf.keras.layers.Dense(1, activation = tf.keras.activations.sigmoid)\n",
    "        ], name=\"D\")"
   ]
  },
  {
   "cell_type": "code",
   "execution_count": 336,
   "metadata": {},
   "outputs": [],
   "source": [
    "# 新建模型\n",
    "tf.keras.backend.clear_session()\n",
    "oGANinput = GANinput()"
   ]
  },
  {
   "cell_type": "markdown",
   "metadata": {},
   "source": [
    "### 构造数据集"
   ]
  },
  {
   "cell_type": "code",
   "execution_count": 331,
   "metadata": {},
   "outputs": [],
   "source": [
    "g_nFeatures = 7\n",
    "g_nBatchSize = 256\n",
    "\n",
    "def fn_splitCsvLine(strLine):\n",
    "    tensorDefs = [0.] * g_nFeatures\n",
    "    tensorRecord = tf.io.decode_csv(strLine, record_defaults=tensorDefs)\n",
    "    tensorX = tf.stack(tensorRecord)\n",
    "    return tensorX\n",
    "\n",
    "oDataset = tf.data.Dataset.list_files(strJobsDir + \"/*/*/parts/sync/input/samples/normal/train/preprocessed/samples.csv\")\n",
    "oDataset = oDataset.interleave(lambda strSamplesFile: tf.data.TextLineDataset(strSamplesFile).skip(1), \\\n",
    "                              cycle_length=5, num_parallel_calls=5)\n",
    "oDataset = oDataset.map(fn_splitCsvLine, g_nFeatures)\n",
    "oDataset = oDataset.shuffle(1000)\n",
    "oDataset = oDataset.batch(g_nBatchSize)"
   ]
  },
  {
   "cell_type": "code",
   "execution_count": 335,
   "metadata": {},
   "outputs": [],
   "source": [
    "# 读入所有的训练样本，从而通过shape属性得到训练集大小，存入全局变量中\n",
    "listPreprocessedNormalTrainingSamples = []\n",
    "for strJob in os.listdir(strJobsDir):\n",
    "    strJobDir = os.path.join(strJobsDir, strJob)\n",
    "    listDemodDirs = fn_getDemodDirsOfAJob(strJobDir)\n",
    "    for strDemodDir in listDemodDirs:\n",
    "        strPreprocessedNormalTrainingSamplesFile = os.path.join(strDemodDir, \\\n",
    "                                                   \"parts/sync/input/samples/normal/train/preprocessed/samples.csv\")\n",
    "        pdDfPreprocessedNormalTrainingSamples = pd.read_csv(strPreprocessedNormalTrainingSamplesFile)\n",
    "        listPreprocessedNormalTrainingSamples.append(pdDfPreprocessedNormalTrainingSamples)\n",
    "pdDfPreprocessedNormalTrainingSamples = pd.concat(listPreprocessedNormalTrainingSamples)\n",
    "g_tensorNormalTrainingSamples = tf.constant(pdDfPreprocessedNormalTrainingSamples.values, dtype=tf.float32)\n",
    "g_nTrainingSize = len(g_tensorNormalTrainingSamples)"
   ]
  },
  {
   "cell_type": "markdown",
   "metadata": {},
   "source": [
    "### 训练"
   ]
  },
  {
   "cell_type": "code",
   "execution_count": 337,
   "metadata": {},
   "outputs": [],
   "source": [
    "# g_nTrainingSize在中频控制已经设置好了\n",
    "g_nEpochs = 300\n",
    "nSteps = g_nEpochs * g_nTrainingSize // g_nBatchSize\n",
    "oExponentialDecay = tf.keras.optimizers.schedules.ExponentialDecay(1e-2, nSteps, 1e-1)\n",
    "oOptimizerG = tf.keras.optimizers.Adam(learning_rate=oExponentialDecay)\n",
    "oOptimizerD = tf.keras.optimizers.SGD(learning_rate=oExponentialDecay)"
   ]
  },
  {
   "cell_type": "code",
   "execution_count": 338,
   "metadata": {},
   "outputs": [],
   "source": [
    "# 构造日志\n",
    "strPrefix = datetime.datetime.now().strftime(\"%H_%M_%S\")\n",
    "strPrefix = \"{}\".format(strPrefix)\n",
    "oSummaryWriterDLoss = tf.summary.create_file_writer(\"logs/input/\" + strPrefix + \"_D\")\n",
    "oSummaryWriterALoss = tf.summary.create_file_writer(\"logs/input/\" + strPrefix + \"_A\")"
   ]
  },
  {
   "cell_type": "code",
   "execution_count": 339,
   "metadata": {},
   "outputs": [
    {
     "name": "stdout",
     "output_type": "stream",
     "text": [
      "2020-02-21 20:43:15.969963\n",
      "299/300"
     ]
    }
   ],
   "source": [
    "oSeqGe, oSeqGd, oSeqGe1 = fn_train(oGANinput)"
   ]
  },
  {
   "cell_type": "markdown",
   "metadata": {},
   "source": [
    "保存模型"
   ]
  },
  {
   "cell_type": "code",
   "execution_count": 340,
   "metadata": {},
   "outputs": [],
   "source": [
    "oSeqGe.save(\"models/sync/input/Ge.h5\")\n",
    "oSeqGd.save(\"models/sync/input/Gd.h5\")\n",
    "oSeqGe1.save(\"models/sync/input/Ge1.h5\")"
   ]
  },
  {
   "cell_type": "markdown",
   "metadata": {},
   "source": [
    "### 评估\n",
    "然后利用训练好的模型算出测试集样本的分数，存档。"
   ]
  },
  {
   "cell_type": "markdown",
   "metadata": {},
   "source": [
    "从文件夹中载入训练好的模型。\n",
    "\n",
    "遍历每个解调器的测试集，将相应的分数存入preprocessed/scores.csv中"
   ]
  },
  {
   "cell_type": "code",
   "execution_count": 79,
   "metadata": {},
   "outputs": [
    {
     "name": "stdout",
     "output_type": "stream",
     "text": [
      "WARNING:tensorflow:No training configuration found in save file: the model was *not* compiled. Compile it manually.\n",
      "WARNING:tensorflow:No training configuration found in save file: the model was *not* compiled. Compile it manually.\n",
      "WARNING:tensorflow:No training configuration found in save file: the model was *not* compiled. Compile it manually.\n"
     ]
    }
   ],
   "source": [
    "oSeqGe = tf.keras.models.load_model(\"models/sync/input/Ge.h5\")\n",
    "oSeqD = tf.keras.models.load_model(\"models/sync/input/Gd.h5\")\n",
    "oSeqGe1 = tf.keras.models.load_model(\"models/sync/input/Ge1.h5\")"
   ]
  },
  {
   "cell_type": "markdown",
   "metadata": {},
   "source": [
    "计算测试样本分数并存档\n",
    "执行后：\n",
    "* samples/\n",
    "    * normal/\n",
    "        * test/\n",
    "            * preprocessed/\n",
    "                * samples.csv\n",
    "                * scores.csv\n",
    "    * abnormal/\n",
    "        * preprocessed/\n",
    "            * samples.csv\n",
    "            * scores.csv"
   ]
  },
  {
   "cell_type": "code",
   "execution_count": 80,
   "metadata": {},
   "outputs": [],
   "source": [
    "# Test samples\n",
    "for strJob in os.listdir(\"../jobs\"):\n",
    "    listDemodDirs = fn_getDemodDirsOfAJob(os.path.join(strJobsDir, strJob))\n",
    "    for strDemodDir in listDemodDirs:\n",
    "        strPreprocessedSamplesDir = os.path.join(strDemodDir, \"parts/sync/input/samples/normal/test/preprocessed\")\n",
    "        strPreprocessedSamplesFile = os.path.join(strPreprocessedSamplesDir, \"samples.csv\")\n",
    "        pdDfPreprocessedSamples = pd.read_csv(strPreprocessedSamplesFile, index_col=\"RECTIME\")\n",
    "        # 分数csv包含scores列\n",
    "        pdDfScores = fn_score(pdDfPreprocessedSamples, oSeqGe, oSeqD, \\\n",
    "                              oSeqGe1)\n",
    "        # 下面再csv里面添加id_num\n",
    "        strDemod = os.path.split(strDemodDir)[1]\n",
    "        pdSeriesId = pd.Series(data=pdDfScores.index, name=\"id\")\n",
    "        pdSeriesId = pdSeriesId.apply(lambda id: crc32(str.encode(strDemod + id)))\n",
    "        pdDfScores[\"id\"] = pdSeriesId.values\n",
    "        strScoresFile = os.path.join(strPreprocessedSamplesDir, \"scores.csv\")\n",
    "        pdDfScores.to_csv(strScoresFile, index_label=\"RECTIME\")\n",
    "        \n",
    "# Abnormal samples\n",
    "for strJob in os.listdir(\"../jobs\"):\n",
    "    listDemodDirs = fn_getDemodDirsOfAJob(os.path.join(strJobsDir, strJob))\n",
    "    for strDemodDir in listDemodDirs:\n",
    "        strPreprocessedSamplesDir = os.path.join(strDemodDir, \"parts/sync/input/samples/abnormal/preprocessed\")\n",
    "        strPreprocessedSamplesFile = os.path.join(strPreprocessedSamplesDir, \"samples.csv\")\n",
    "        pdDfPreprocessedSamples = pd.read_csv(strPreprocessedSamplesFile, index_col=\"RECTIME\")\n",
    "        pdDfScores = fn_score(pdDfPreprocessedSamples, oSeqGe, oSeqD, \\\n",
    "                              oSeqGe1)\n",
    "        # 下面再csv里面添加id_num\n",
    "        # 用解调器名和分数对应的RECTIME组合成一个大的字符串，然后对这个大的字符串进行crc32编码，编出一个独一无二的大整数\n",
    "        strDemod = os.path.split(strDemodDir)[1]\n",
    "        pdSeriesId = pd.Series(data=pdDfScores.index, name=\"id\")\n",
    "        pdSeriesId = pdSeriesId.apply(lambda id: crc32(str.encode(strDemod + id)))\n",
    "        pdDfScores[\"id\"] = pdSeriesId.values\n",
    "        strScoresFile = os.path.join(strPreprocessedSamplesDir, \"scores.csv\")\n",
    "        pdDfScores.to_csv(strScoresFile, index_label=\"RECTIME\")"
   ]
  },
  {
   "cell_type": "code",
   "execution_count": 129,
   "metadata": {},
   "outputs": [],
   "source": [
    "# 读入正常测试样本和异常测试样本的分数，分别存入numpy数组\n",
    "listScores = []\n",
    "listX = []\n",
    "for strJob in os.listdir(strJobsDir):\n",
    "    strJobDir = os.path.join(strJobsDir, strJob)\n",
    "    listDemodDirs = fn_getDemodDirsOfAJob(strJobDir)\n",
    "    for strDemodDir in listDemodDirs:\n",
    "        strNormalTestingScoresFile = os.path.join(strDemodDir, \\\n",
    "                                                  \"parts/sync/input/samples/normal/test/preprocessed/scores.csv\")\n",
    "        pdDfNormalTestingScores = pd.read_csv(strNormalTestingScoresFile, index_col=\"RECTIME\")\n",
    "        if not pdDfNormalTestingScores.empty:\n",
    "            listScores.append(pdDfNormalTestingScores[\"scores\"].values)\n",
    "            # 分数的横坐标\n",
    "            listX.append(pdDfNormalTestingScores[\"id\"].values)\n",
    "npNormalScores = np.concatenate(listScores)\n",
    "npNormalX = np.concatenate(listX)\n",
    "\n",
    "listScores = []\n",
    "listX = []\n",
    "for strJob in os.listdir(strJobsDir):\n",
    "    strJobDir = os.path.join(strJobsDir, strJob)\n",
    "    listDemodDirs = fn_getDemodDirsOfAJob(strJobDir)\n",
    "    for strDemodDir in listDemodDirs:\n",
    "        strAbnormalTestingScoresFile = os.path.join(strDemodDir, \\\n",
    "                                                  \"parts/sync/input/samples/abnormal/preprocessed/scores.csv\")\n",
    "        pdDfAbnormalTestingScores = pd.read_csv(strAbnormalTestingScoresFile, index_col=\"RECTIME\")\n",
    "        if not pdDfAbnormalTestingScores.empty:\n",
    "            listScores.append(pdDfAbnormalTestingScores[\"scores\"].values)\n",
    "            # 分数的横坐标\n",
    "            listX.append(pdDfAbnormalTestingScores[\"id\"].values)\n",
    "npAbnormalScores = np.concatenate(listScores)\n",
    "npAbnormalX = np.concatenate(listX)"
   ]
  },
  {
   "cell_type": "code",
   "execution_count": 130,
   "metadata": {},
   "outputs": [],
   "source": [
    "nTotalLen = npNormalX.shape[0] + npAbnormalX.shape[0]"
   ]
  },
  {
   "cell_type": "code",
   "execution_count": 139,
   "metadata": {},
   "outputs": [],
   "source": [
    "# 将正常测试样本的最大分数作为阈值，如果异常测试样本的分数大于该值则判错，小于判对\n",
    "fThreshold = np.sort(npNormalScores)[int(len(npNormalScores) * 0.99)]"
   ]
  },
  {
   "cell_type": "code",
   "execution_count": 140,
   "metadata": {},
   "outputs": [
    {
     "data": {
      "image/png": "[encoded data removed]",
      "text/plain": [
       "<Figure size 1080x720 with 2 Axes>"
      ]
     },
     "metadata": {
      "needs_background": "light"
     },
     "output_type": "display_data"
    }
   ],
   "source": [
    "# 做出散点图。其中，虚线表示阈值。\n",
    "plt.figure(figsize=(15, 10))\n",
    "plt.subplot(2, 1, 1)\n",
    "plt.scatter(npNormalX % nTotalLen, npNormalScores, c=\"green\", s=0.5)\n",
    "plt.hlines(fThreshold, xmin=-100, xmax=nTotalLen + 100, linestyles=\"dashed\")\n",
    "plt.xlim([-100, nTotalLen + 100])\n",
    "plt.ylim([0, 2])\n",
    "\n",
    "plt.subplot(2, 1, 2)\n",
    "plt.scatter(npAbnormalX % nTotalLen, npAbnormalScores, c=\"red\", s=0.5)\n",
    "plt.hlines(fThreshold, xmin=-100, xmax=nTotalLen + 100, linestyles=\"dashed\")\n",
    "plt.xlim([-100, nTotalLen + 100])\n",
    "plt.ylim([0, 2])\n",
    "plt.show()"
   ]
  },
  {
   "cell_type": "markdown",
   "metadata": {},
   "source": [
    "## 载波同步"
   ]
  },
  {
   "cell_type": "markdown",
   "metadata": {},
   "source": [
    "### 构造建立模型\n",
    "\n",
    "9个属性"
   ]
  },
  {
   "cell_type": "code",
   "execution_count": 375,
   "metadata": {},
   "outputs": [],
   "source": [
    "class GANcarrier(object):\n",
    "    def __init__(self):\n",
    "        self.fn_makeGenerator()\n",
    "        self.fn_makeDiscriminator()\n",
    "        \n",
    "    def fn_makeGenerator(self):\n",
    "        self.oSeqGe = tf.keras.Sequential(name=\"Ge\")\n",
    "        self.oSeqGe.add(tf.keras.Input(shape=(9,)))\n",
    "        self.oSeqGe.add(tf.keras.layers.Dense(7, kernel_initializer=\"he_normal\"))\n",
    "        self.oSeqGe.add(tf.keras.layers.LeakyReLU())\n",
    "        self.oSeqGe.add(tf.keras.layers.BatchNormalization())\n",
    "        self.oSeqGe.add(tf.keras.layers.Dense(7, kernel_initializer=\"he_normal\"))\n",
    "        self.oSeqGe.add(tf.keras.layers.LeakyReLU())\n",
    "\n",
    "        self.oSeqGd = tf.keras.Sequential(name=\"Gd\")\n",
    "        self.oSeqGd.add(tf.keras.Input(shape=(7,)))\n",
    "        self.oSeqGd.add(tf.keras.layers.Dense(7, kernel_initializer=\"he_normal\"))\n",
    "        self.oSeqGd.add(tf.keras.layers.LeakyReLU())\n",
    "        self.oSeqGd.add(tf.keras.layers.BatchNormalization())\n",
    "        self.oSeqGd.add(tf.keras.layers.Dense(9, activation = tf.keras.activations.sigmoid))\n",
    "        \n",
    "        self.oSeqGe1 = tf.keras.Sequential(name=\"Ge1\")\n",
    "        self.oSeqGe1.add(tf.keras.Input(shape=(9,)))\n",
    "        self.oSeqGe1.add(tf.keras.layers.Dense(7, kernel_initializer=\"he_normal\"))\n",
    "        self.oSeqGe1.add(tf.keras.layers.LeakyReLU())\n",
    "        self.oSeqGe1.add(tf.keras.layers.BatchNormalization())\n",
    "        self.oSeqGe1.add(tf.keras.layers.Dense(7, kernel_initializer=\"he_normal\"))\n",
    "        self.oSeqGe1.add(tf.keras.layers.LeakyReLU())\n",
    "        \n",
    "    def fn_makeDiscriminator(self):\n",
    "        self.oSeqDInner = tf.keras.Sequential(name=\"DInner\")\n",
    "        self.oSeqDInner.add(tf.keras.Input(shape=(9,)))\n",
    "        self.oSeqDInner.add(tf.keras.layers.Dense(7, kernel_initializer=\"he_normal\"))\n",
    "        self.oSeqDInner.add(tf.keras.layers.LeakyReLU())\n",
    "        self.oSeqDInner.add(tf.keras.layers.BatchNormalization())\n",
    "        self.oSeqDInner.add(tf.keras.layers.Dense(7, kernel_initializer=\"he_normal\"))\n",
    "        self.oSeqDInner.add(tf.keras.layers.LeakyReLU())\n",
    "        self.oSeqDInner.add(tf.keras.layers.BatchNormalization())\n",
    "\n",
    "        self.oSeqD = tf.keras.Sequential([\n",
    "            self.oSeqDInner,\n",
    "            tf.keras.layers.Dense(1, activation = tf.keras.activations.sigmoid)\n",
    "        ], name=\"D\")"
   ]
  },
  {
   "cell_type": "code",
   "execution_count": 390,
   "metadata": {},
   "outputs": [],
   "source": [
    "# 新建模型\n",
    "tf.keras.backend.clear_session()\n",
    "oGANcarrier = GANcarrier()"
   ]
  },
  {
   "cell_type": "markdown",
   "metadata": {},
   "source": [
    "### 构造数据集"
   ]
  },
  {
   "cell_type": "code",
   "execution_count": 389,
   "metadata": {},
   "outputs": [],
   "source": [
    "g_nFeatures = 9\n",
    "g_nBatchSize = 256\n",
    "\n",
    "def fn_splitCsvLine(strLine):\n",
    "    tensorDefs = [0.] * g_nFeatures\n",
    "    tensorRecord = tf.io.decode_csv(strLine, record_defaults=tensorDefs)\n",
    "    tensorX = tf.stack(tensorRecord)\n",
    "    return tensorX\n",
    "\n",
    "\n",
    "oDataset = tf.data.Dataset.list_files(strJobsDir + \"/*/*/parts/sync/carrier/samples/normal/train/preprocessed/samples.csv\")\n",
    "oDataset = oDataset.interleave(lambda strSamplesFile: tf.data.TextLineDataset(strSamplesFile).skip(1), \\\n",
    "                              cycle_length=5, num_parallel_calls=5)\n",
    "oDataset = oDataset.map(fn_splitCsvLine, g_nFeatures)\n",
    "oDataset = oDataset.shuffle(1000)\n",
    "oDataset = oDataset.batch(g_nBatchSize)"
   ]
  },
  {
   "cell_type": "code",
   "execution_count": 391,
   "metadata": {},
   "outputs": [],
   "source": [
    "# 读入所有的训练样本，从而通过shape属性得到训练集大小，存入全局变量中\n",
    "listPreprocessedNormalTrainingSamples = []\n",
    "for strJob in os.listdir(strJobsDir):\n",
    "    strJobDir = os.path.join(strJobsDir, strJob)\n",
    "    listDemodDirs = fn_getDemodDirsOfAJob(strJobDir)\n",
    "    for strDemodDir in listDemodDirs:\n",
    "        strPreprocessedNormalTrainingSamplesFile = os.path.join(strDemodDir, \\\n",
    "                                                   \"parts/sync/carrier/samples/normal/train/preprocessed/samples.csv\")\n",
    "        pdDfPreprocessedNormalTrainingSamples = pd.read_csv(strPreprocessedNormalTrainingSamplesFile)\n",
    "        listPreprocessedNormalTrainingSamples.append(pdDfPreprocessedNormalTrainingSamples)\n",
    "pdDfPreprocessedNormalTrainingSamples = pd.concat(listPreprocessedNormalTrainingSamples)\n",
    "g_tensorNormalTrainingSamples = tf.constant(pdDfPreprocessedNormalTrainingSamples.values, dtype=tf.float32)\n",
    "g_nTrainingSize = len(g_tensorNormalTrainingSamples)"
   ]
  },
  {
   "cell_type": "markdown",
   "metadata": {},
   "source": [
    "### 训练"
   ]
  },
  {
   "cell_type": "code",
   "execution_count": 392,
   "metadata": {},
   "outputs": [],
   "source": [
    "# g_nTrainingSize在中频控制已经设置好了\n",
    "g_nEpochs = 300\n",
    "nSteps = g_nEpochs * g_nTrainingSize // g_nBatchSize\n",
    "oExponentialDecay = tf.keras.optimizers.schedules.ExponentialDecay(1e-2, nSteps, 1e-1)\n",
    "oOptimizerG = tf.keras.optimizers.Adam(learning_rate=oExponentialDecay)\n",
    "oOptimizerD = tf.keras.optimizers.SGD(learning_rate=oExponentialDecay)"
   ]
  },
  {
   "cell_type": "code",
   "execution_count": 393,
   "metadata": {},
   "outputs": [],
   "source": [
    "# 构造日志\n",
    "strPrefix = datetime.datetime.now().strftime(\"%H_%M_%S\")\n",
    "strPrefix = \"{}\".format(strPrefix)\n",
    "oSummaryWriterDLoss = tf.summary.create_file_writer(\"logs/carrier/\" + strPrefix + \"_D\")\n",
    "oSummaryWriterALoss = tf.summary.create_file_writer(\"logs/carrier/\" + strPrefix + \"_A\")"
   ]
  },
  {
   "cell_type": "code",
   "execution_count": 394,
   "metadata": {},
   "outputs": [
    {
     "name": "stdout",
     "output_type": "stream",
     "text": [
      "2020-02-21 21:35:10.872084\n",
      "299/300"
     ]
    }
   ],
   "source": [
    "oSeqGe, oSeqGd, oSeqGe1 = fn_train(oGANcarrier)"
   ]
  },
  {
   "cell_type": "code",
   "execution_count": 395,
   "metadata": {},
   "outputs": [],
   "source": [
    "oSeqGe.save(\"models/sync/carrier/Ge.h5\")\n",
    "oSeqGd.save(\"models/sync/carrier/Gd.h5\")\n",
    "oSeqGe1.save(\"models/sync/carrier/Ge1.h5\")"
   ]
  },
  {
   "cell_type": "markdown",
   "metadata": {},
   "source": [
    "### 评估"
   ]
  },
  {
   "cell_type": "code",
   "execution_count": 85,
   "metadata": {},
   "outputs": [
    {
     "name": "stdout",
     "output_type": "stream",
     "text": [
      "WARNING:tensorflow:No training configuration found in save file: the model was *not* compiled. Compile it manually.\n",
      "WARNING:tensorflow:No training configuration found in save file: the model was *not* compiled. Compile it manually.\n",
      "WARNING:tensorflow:No training configuration found in save file: the model was *not* compiled. Compile it manually.\n"
     ]
    }
   ],
   "source": [
    "oSeqGe = tf.keras.models.load_model(\"models/sync/carrier/Ge.h5\")\n",
    "oSeqD = tf.keras.models.load_model(\"models/sync/carrier/Gd.h5\")\n",
    "oSeqGe1 = tf.keras.models.load_model(\"models/sync/carrier/Ge1.h5\")"
   ]
  },
  {
   "cell_type": "code",
   "execution_count": 86,
   "metadata": {},
   "outputs": [],
   "source": [
    "# Test samples\n",
    "for strJob in os.listdir(\"../jobs\"):\n",
    "    listDemodDirs = fn_getDemodDirsOfAJob(os.path.join(strJobsDir, strJob))\n",
    "    for strDemodDir in listDemodDirs:\n",
    "        strPreprocessedSamplesDir = os.path.join(strDemodDir, \"parts/sync/carrier/samples/normal/test/preprocessed\")\n",
    "        strPreprocessedSamplesFile = os.path.join(strPreprocessedSamplesDir, \"samples.csv\")\n",
    "        pdDfPreprocessedSamples = pd.read_csv(strPreprocessedSamplesFile, index_col=\"RECTIME\")\n",
    "        # 分数csv包含scores列\n",
    "        pdDfScores = fn_score(pdDfPreprocessedSamples, oSeqGe, oSeqD, \\\n",
    "                              oSeqGe1)\n",
    "        # 下面再csv里面添加id_num\n",
    "        strDemod = os.path.split(strDemodDir)[1]\n",
    "        pdSeriesId = pd.Series(data=pdDfScores.index, name=\"id\")\n",
    "        pdSeriesId = pdSeriesId.apply(lambda id: crc32(str.encode(strDemod + id)))\n",
    "        pdDfScores[\"id\"] = pdSeriesId.values\n",
    "        strScoresFile = os.path.join(strPreprocessedSamplesDir, \"scores.csv\")\n",
    "        pdDfScores.to_csv(strScoresFile, index_label=\"RECTIME\")\n",
    "        \n",
    "# Abnormal samples\n",
    "for strJob in os.listdir(\"../jobs\"):\n",
    "    listDemodDirs = fn_getDemodDirsOfAJob(os.path.join(strJobsDir, strJob))\n",
    "    for strDemodDir in listDemodDirs:\n",
    "        strPreprocessedSamplesDir = os.path.join(strDemodDir, \"parts/sync/carrier/samples/abnormal/preprocessed\")\n",
    "        strPreprocessedSamplesFile = os.path.join(strPreprocessedSamplesDir, \"samples.csv\")\n",
    "        pdDfPreprocessedSamples = pd.read_csv(strPreprocessedSamplesFile, index_col=\"RECTIME\")\n",
    "        pdDfScores = fn_score(pdDfPreprocessedSamples, oSeqGe, oSeqD, \\\n",
    "                              oSeqGe1)\n",
    "        # 下面再csv里面添加id_num\n",
    "        # 用解调器名和分数对应的RECTIME组合成一个大的字符串，然后对这个大的字符串进行crc32编码，编出一个独一无二的大整数\n",
    "        strDemod = os.path.split(strDemodDir)[1]\n",
    "        pdSeriesId = pd.Series(data=pdDfScores.index, name=\"id\")\n",
    "        pdSeriesId = pdSeriesId.apply(lambda id: crc32(str.encode(strDemod + id)))\n",
    "        pdDfScores[\"id\"] = pdSeriesId.values\n",
    "        strScoresFile = os.path.join(strPreprocessedSamplesDir, \"scores.csv\")\n",
    "        pdDfScores.to_csv(strScoresFile, index_label=\"RECTIME\")"
   ]
  },
  {
   "cell_type": "code",
   "execution_count": 125,
   "metadata": {},
   "outputs": [],
   "source": [
    "# 读入正常测试样本和异常测试样本的分数，分别存入numpy数组\n",
    "listScores = []\n",
    "listX = []\n",
    "for strJob in os.listdir(strJobsDir):\n",
    "    strJobDir = os.path.join(strJobsDir, strJob)\n",
    "    listDemodDirs = fn_getDemodDirsOfAJob(strJobDir)\n",
    "    for strDemodDir in listDemodDirs:\n",
    "        strNormalTestingScoresFile = os.path.join(strDemodDir, \\\n",
    "                                                  \"parts/sync/carrier/samples/normal/test/preprocessed/scores.csv\")\n",
    "        pdDfNormalTestingScores = pd.read_csv(strNormalTestingScoresFile, index_col=\"RECTIME\")\n",
    "        if not pdDfNormalTestingScores.empty:\n",
    "            listScores.append(pdDfNormalTestingScores[\"scores\"].values)\n",
    "            # 分数的横坐标\n",
    "            listX.append(pdDfNormalTestingScores[\"id\"].values)\n",
    "npNormalScores = np.concatenate(listScores)\n",
    "npNormalX = np.concatenate(listX)\n",
    "\n",
    "listScores = []\n",
    "listX = []\n",
    "for strJob in os.listdir(strJobsDir):\n",
    "    strJobDir = os.path.join(strJobsDir, strJob)\n",
    "    listDemodDirs = fn_getDemodDirsOfAJob(strJobDir)\n",
    "    for strDemodDir in listDemodDirs:\n",
    "        strAbnormalTestingScoresFile = os.path.join(strDemodDir, \\\n",
    "                                                  \"parts/sync/carrier/samples/abnormal/preprocessed/scores.csv\")\n",
    "        pdDfAbnormalTestingScores = pd.read_csv(strAbnormalTestingScoresFile, index_col=\"RECTIME\")\n",
    "        if not pdDfAbnormalTestingScores.empty:\n",
    "            listScores.append(pdDfAbnormalTestingScores[\"scores\"].values)\n",
    "            # 分数的横坐标\n",
    "            listX.append(pdDfAbnormalTestingScores[\"id\"].values)\n",
    "npAbnormalScores = np.concatenate(listScores)\n",
    "npAbnormalX = np.concatenate(listX)"
   ]
  },
  {
   "cell_type": "code",
   "execution_count": 126,
   "metadata": {},
   "outputs": [],
   "source": [
    "nTotalLen = npNormalX.shape[0] + npAbnormalX.shape[0]"
   ]
  },
  {
   "cell_type": "code",
   "execution_count": 141,
   "metadata": {},
   "outputs": [],
   "source": [
    "# 将正常测试样本的最大分数作为阈值，如果异常测试样本的分数大于该值则判错，小于判对\n",
    "fThreshold = np.sort(npNormalScores)[int(len(npNormalScores) * 0.99)]"
   ]
  },
  {
   "cell_type": "code",
   "execution_count": 142,
   "metadata": {},
   "outputs": [
    {
     "data": {
      "image/png": "[encoded data removed]",
      "text/plain": [
       "<Figure size 1080x720 with 2 Axes>"
      ]
     },
     "metadata": {
      "needs_background": "light"
     },
     "output_type": "display_data"
    }
   ],
   "source": [
    "# 做出散点图。其中，虚线表示阈值。\n",
    "plt.figure(figsize=(15, 10))\n",
    "plt.subplot(2, 1, 1)\n",
    "plt.scatter(npNormalX % nTotalLen, npNormalScores, c=\"green\", s=0.5)\n",
    "plt.hlines(fThreshold, xmin=-100, xmax=nTotalLen + 100, linestyles=\"dashed\")\n",
    "plt.xlim([-100, nTotalLen + 100])\n",
    "plt.ylim([0, 2])\n",
    "\n",
    "plt.subplot(2, 1, 2)\n",
    "plt.scatter(npAbnormalX % nTotalLen, npAbnormalScores, c=\"red\", s=0.5)\n",
    "plt.hlines(fThreshold, xmin=-100, xmax=nTotalLen + 100, linestyles=\"dashed\")\n",
    "plt.xlim([-100, nTotalLen + 100])\n",
    "plt.ylim([0, 2])\n",
    "plt.show()"
   ]
  },
  {
   "cell_type": "markdown",
   "metadata": {},
   "source": [
    "## 比特同步"
   ]
  },
  {
   "cell_type": "markdown",
   "metadata": {},
   "source": [
    "### 构造建立模型\n",
    "14个属性"
   ]
  },
  {
   "cell_type": "code",
   "execution_count": 401,
   "metadata": {},
   "outputs": [],
   "source": [
    "class GANbit(object):\n",
    "    def __init__(self):\n",
    "        self.fn_makeGenerator()\n",
    "        self.fn_makeDiscriminator()\n",
    "        \n",
    "    def fn_makeGenerator(self):\n",
    "        self.oSeqGe = tf.keras.Sequential(name=\"Ge\")\n",
    "        self.oSeqGe.add(tf.keras.Input(shape=(14,)))\n",
    "        self.oSeqGe.add(tf.keras.layers.Dense(10, kernel_initializer=\"he_normal\"))\n",
    "        self.oSeqGe.add(tf.keras.layers.LeakyReLU())\n",
    "        self.oSeqGe.add(tf.keras.layers.BatchNormalization())\n",
    "        self.oSeqGe.add(tf.keras.layers.Dense(10, kernel_initializer=\"he_normal\"))\n",
    "        self.oSeqGe.add(tf.keras.layers.LeakyReLU())\n",
    "\n",
    "        self.oSeqGd = tf.keras.Sequential(name=\"Gd\")\n",
    "        self.oSeqGd.add(tf.keras.Input(shape=(10,)))\n",
    "        self.oSeqGd.add(tf.keras.layers.Dense(10, kernel_initializer=\"he_normal\"))\n",
    "        self.oSeqGd.add(tf.keras.layers.LeakyReLU())\n",
    "        self.oSeqGd.add(tf.keras.layers.BatchNormalization())\n",
    "        self.oSeqGd.add(tf.keras.layers.Dense(14, activation = tf.keras.activations.sigmoid))\n",
    "        \n",
    "        self.oSeqGe1 = tf.keras.Sequential(name=\"Ge1\")\n",
    "        self.oSeqGe1.add(tf.keras.Input(shape=(14,)))\n",
    "        self.oSeqGe1.add(tf.keras.layers.Dense(10, kernel_initializer=\"he_normal\"))\n",
    "        self.oSeqGe1.add(tf.keras.layers.LeakyReLU())\n",
    "        self.oSeqGe1.add(tf.keras.layers.BatchNormalization())\n",
    "        self.oSeqGe1.add(tf.keras.layers.Dense(10, kernel_initializer=\"he_normal\"))\n",
    "        self.oSeqGe1.add(tf.keras.layers.LeakyReLU())\n",
    "        \n",
    "    def fn_makeDiscriminator(self):\n",
    "        self.oSeqDInner = tf.keras.Sequential(name=\"DInner\")\n",
    "        self.oSeqDInner.add(tf.keras.Input(shape=(14,)))\n",
    "        self.oSeqDInner.add(tf.keras.layers.Dense(10, kernel_initializer=\"he_normal\"))\n",
    "        self.oSeqDInner.add(tf.keras.layers.LeakyReLU())\n",
    "        self.oSeqDInner.add(tf.keras.layers.BatchNormalization())\n",
    "        self.oSeqDInner.add(tf.keras.layers.Dense(10, kernel_initializer=\"he_normal\"))\n",
    "        self.oSeqDInner.add(tf.keras.layers.LeakyReLU())\n",
    "        self.oSeqDInner.add(tf.keras.layers.BatchNormalization())\n",
    "\n",
    "        self.oSeqD = tf.keras.Sequential([\n",
    "            self.oSeqDInner,\n",
    "            tf.keras.layers.Dense(1, activation = tf.keras.activations.sigmoid)\n",
    "        ], name=\"D\")"
   ]
  },
  {
   "cell_type": "code",
   "execution_count": 402,
   "metadata": {},
   "outputs": [],
   "source": [
    "# 新建模型\n",
    "tf.keras.backend.clear_session()\n",
    "oGANbit = GANbit()"
   ]
  },
  {
   "cell_type": "markdown",
   "metadata": {},
   "source": [
    "### 构造数据集"
   ]
  },
  {
   "cell_type": "code",
   "execution_count": 403,
   "metadata": {},
   "outputs": [],
   "source": [
    "g_nFeatures = 14\n",
    "g_nBatchSize = 256\n",
    "\n",
    "def fn_splitCsvLine(strLine):\n",
    "    tensorDefs = [0.] * g_nFeatures\n",
    "    tensorRecord = tf.io.decode_csv(strLine, record_defaults=tensorDefs)\n",
    "    tensorX = tf.stack(tensorRecord)\n",
    "    return tensorX\n",
    "\n",
    "oDataset = tf.data.Dataset.list_files(strJobsDir + \"/*/*/parts/sync/bit/samples/normal/train/preprocessed/samples.csv\")\n",
    "oDataset = oDataset.interleave(lambda strSamplesFile: tf.data.TextLineDataset(strSamplesFile).skip(1), \\\n",
    "                              cycle_length=5, num_parallel_calls=5)\n",
    "oDataset = oDataset.map(fn_splitCsvLine, g_nFeatures)\n",
    "oDataset = oDataset.shuffle(1000)\n",
    "oDataset = oDataset.batch(g_nBatchSize)"
   ]
  },
  {
   "cell_type": "code",
   "execution_count": 405,
   "metadata": {},
   "outputs": [],
   "source": [
    "# 读入所有的训练样本，从而通过shape属性得到训练集大小，存入全局变量中\n",
    "listPreprocessedNormalTrainingSamples = []\n",
    "for strJob in os.listdir(strJobsDir):\n",
    "    strJobDir = os.path.join(strJobsDir, strJob)\n",
    "    listDemodDirs = fn_getDemodDirsOfAJob(strJobDir)\n",
    "    for strDemodDir in listDemodDirs:\n",
    "        strPreprocessedNormalTrainingSamplesFile = os.path.join(strDemodDir, \\\n",
    "                                                   \"parts/sync/bit/samples/normal/train/preprocessed/samples.csv\")\n",
    "        pdDfPreprocessedNormalTrainingSamples = pd.read_csv(strPreprocessedNormalTrainingSamplesFile)\n",
    "        listPreprocessedNormalTrainingSamples.append(pdDfPreprocessedNormalTrainingSamples)\n",
    "pdDfPreprocessedNormalTrainingSamples = pd.concat(listPreprocessedNormalTrainingSamples)\n",
    "g_tensorNormalTrainingSamples = tf.constant(pdDfPreprocessedNormalTrainingSamples.values, dtype=tf.float32)\n",
    "g_nTrainingSize = len(g_tensorNormalTrainingSamples)"
   ]
  },
  {
   "cell_type": "markdown",
   "metadata": {},
   "source": [
    "### 训练"
   ]
  },
  {
   "cell_type": "code",
   "execution_count": 406,
   "metadata": {},
   "outputs": [],
   "source": [
    "# g_nTrainingSize在中频控制已经设置好了\n",
    "g_nEpochs = 400\n",
    "nSteps = g_nEpochs * g_nTrainingSize // g_nBatchSize\n",
    "oExponentialDecay = tf.keras.optimizers.schedules.ExponentialDecay(1e-2, nSteps, 1e-1)\n",
    "oOptimizerG = tf.keras.optimizers.Adam(learning_rate=oExponentialDecay)\n",
    "oOptimizerD = tf.keras.optimizers.SGD(learning_rate=oExponentialDecay)"
   ]
  },
  {
   "cell_type": "code",
   "execution_count": 407,
   "metadata": {},
   "outputs": [],
   "source": [
    "# 构造日志\n",
    "strPrefix = datetime.datetime.now().strftime(\"%H_%M_%S\")\n",
    "strPrefix = \"{}\".format(strPrefix)\n",
    "oSummaryWriterDLoss = tf.summary.create_file_writer(\"logs/bit/\" + strPrefix + \"_D\")\n",
    "oSummaryWriterALoss = tf.summary.create_file_writer(\"logs/bit/\" + strPrefix + \"_A\")"
   ]
  },
  {
   "cell_type": "code",
   "execution_count": 408,
   "metadata": {},
   "outputs": [
    {
     "name": "stdout",
     "output_type": "stream",
     "text": [
      "2020-02-21 22:08:55.557098\n",
      "399/400"
     ]
    }
   ],
   "source": [
    "oSeqGe, oSeqGd, oSeqGe1 = fn_train(oGANbit)"
   ]
  },
  {
   "cell_type": "code",
   "execution_count": 409,
   "metadata": {},
   "outputs": [],
   "source": [
    "oSeqGe.save(\"models/sync/bit/Ge.h5\")\n",
    "oSeqGd.save(\"models/sync/bit/Gd.h5\")\n",
    "oSeqGe1.save(\"models/sync/bit/Ge1.h5\")"
   ]
  },
  {
   "cell_type": "markdown",
   "metadata": {},
   "source": [
    "### 评估"
   ]
  },
  {
   "cell_type": "code",
   "execution_count": 91,
   "metadata": {},
   "outputs": [
    {
     "name": "stdout",
     "output_type": "stream",
     "text": [
      "WARNING:tensorflow:No training configuration found in save file: the model was *not* compiled. Compile it manually.\n",
      "WARNING:tensorflow:No training configuration found in save file: the model was *not* compiled. Compile it manually.\n",
      "WARNING:tensorflow:No training configuration found in save file: the model was *not* compiled. Compile it manually.\n"
     ]
    }
   ],
   "source": [
    "oSeqGe = tf.keras.models.load_model(\"models/sync/bit/Ge.h5\")\n",
    "oSeqD = tf.keras.models.load_model(\"models/sync/bit/Gd.h5\")\n",
    "oSeqGe1 = tf.keras.models.load_model(\"models/sync/bit/Ge1.h5\")"
   ]
  },
  {
   "cell_type": "code",
   "execution_count": 92,
   "metadata": {},
   "outputs": [],
   "source": [
    "# Test samples\n",
    "for strJob in os.listdir(\"../jobs\"):\n",
    "    listDemodDirs = fn_getDemodDirsOfAJob(os.path.join(strJobsDir, strJob))\n",
    "    for strDemodDir in listDemodDirs:\n",
    "        strPreprocessedSamplesDir = os.path.join(strDemodDir, \"parts/sync/bit/samples/normal/test/preprocessed\")\n",
    "        strPreprocessedSamplesFile = os.path.join(strPreprocessedSamplesDir, \"samples.csv\")\n",
    "        pdDfPreprocessedSamples = pd.read_csv(strPreprocessedSamplesFile, index_col=\"RECTIME\")\n",
    "        # 分数csv包含scores列\n",
    "        pdDfScores = fn_score(pdDfPreprocessedSamples, oSeqGe, oSeqD, \\\n",
    "                              oSeqGe1)\n",
    "        # 下面再csv里面添加id_num\n",
    "        strDemod = os.path.split(strDemodDir)[1]\n",
    "        pdSeriesId = pd.Series(data=pdDfScores.index, name=\"id\")\n",
    "        pdSeriesId = pdSeriesId.apply(lambda id: crc32(str.encode(strDemod + id)))\n",
    "        pdDfScores[\"id\"] = pdSeriesId.values\n",
    "        strScoresFile = os.path.join(strPreprocessedSamplesDir, \"scores.csv\")\n",
    "        pdDfScores.to_csv(strScoresFile, index_label=\"RECTIME\")\n",
    "        \n",
    "# Abnormal samples\n",
    "for strJob in os.listdir(\"../jobs\"):\n",
    "    listDemodDirs = fn_getDemodDirsOfAJob(os.path.join(strJobsDir, strJob))\n",
    "    for strDemodDir in listDemodDirs:\n",
    "        strPreprocessedSamplesDir = os.path.join(strDemodDir, \"parts/sync/bit/samples/abnormal/preprocessed\")\n",
    "        strPreprocessedSamplesFile = os.path.join(strPreprocessedSamplesDir, \"samples.csv\")\n",
    "        pdDfPreprocessedSamples = pd.read_csv(strPreprocessedSamplesFile, index_col=\"RECTIME\")\n",
    "        pdDfScores = fn_score(pdDfPreprocessedSamples, oSeqGe, oSeqD, \\\n",
    "                              oSeqGe1)\n",
    "        # 下面再csv里面添加id_num\n",
    "        # 用解调器名和分数对应的RECTIME组合成一个大的字符串，然后对这个大的字符串进行crc32编码，编出一个独一无二的大整数\n",
    "        strDemod = os.path.split(strDemodDir)[1]\n",
    "        pdSeriesId = pd.Series(data=pdDfScores.index, name=\"id\")\n",
    "        pdSeriesId = pdSeriesId.apply(lambda id: crc32(str.encode(strDemod + id)))\n",
    "        pdDfScores[\"id\"] = pdSeriesId.values\n",
    "        strScoresFile = os.path.join(strPreprocessedSamplesDir, \"scores.csv\")\n",
    "        pdDfScores.to_csv(strScoresFile, index_label=\"RECTIME\")"
   ]
  },
  {
   "cell_type": "code",
   "execution_count": 143,
   "metadata": {},
   "outputs": [],
   "source": [
    "# 读入正常测试样本和异常测试样本的分数，分别存入numpy数组\n",
    "listScores = []\n",
    "listX = []\n",
    "for strJob in os.listdir(strJobsDir):\n",
    "    strJobDir = os.path.join(strJobsDir, strJob)\n",
    "    listDemodDirs = fn_getDemodDirsOfAJob(strJobDir)\n",
    "    for strDemodDir in listDemodDirs:\n",
    "        strNormalTestingScoresFile = os.path.join(strDemodDir, \\\n",
    "                                                  \"parts/sync/bit/samples/normal/test/preprocessed/scores.csv\")\n",
    "        pdDfNormalTestingScores = pd.read_csv(strNormalTestingScoresFile, index_col=\"RECTIME\")\n",
    "        if not pdDfNormalTestingScores.empty:\n",
    "            listScores.append(pdDfNormalTestingScores[\"scores\"].values)\n",
    "            # 分数的横坐标\n",
    "            listX.append(pdDfNormalTestingScores[\"id\"].values)\n",
    "npNormalScores = np.concatenate(listScores)\n",
    "npNormalX = np.concatenate(listX)\n",
    "\n",
    "listScores = []\n",
    "listX = []\n",
    "for strJob in os.listdir(strJobsDir):\n",
    "    strJobDir = os.path.join(strJobsDir, strJob)\n",
    "    listDemodDirs = fn_getDemodDirsOfAJob(strJobDir)\n",
    "    for strDemodDir in listDemodDirs:\n",
    "        strAbnormalTestingScoresFile = os.path.join(strDemodDir, \\\n",
    "                                                  \"parts/sync/bit/samples/abnormal/preprocessed/scores.csv\")\n",
    "        pdDfAbnormalTestingScores = pd.read_csv(strAbnormalTestingScoresFile, index_col=\"RECTIME\")\n",
    "        if not pdDfAbnormalTestingScores.empty:\n",
    "            listScores.append(pdDfAbnormalTestingScores[\"scores\"].values)\n",
    "            # 分数的横坐标\n",
    "            listX.append(pdDfAbnormalTestingScores[\"id\"].values)\n",
    "npAbnormalScores = np.concatenate(listScores)\n",
    "npAbnormalX = np.concatenate(listX)"
   ]
  },
  {
   "cell_type": "code",
   "execution_count": 144,
   "metadata": {},
   "outputs": [],
   "source": [
    "nTotalLen = npNormalX.shape[0] + npAbnormalX.shape[0]"
   ]
  },
  {
   "cell_type": "code",
   "execution_count": 149,
   "metadata": {},
   "outputs": [],
   "source": [
    "# 将正常测试样本的最大分数作为阈值，如果异常测试样本的分数大于该值则判错，小于判对\n",
    "fThreshold = np.sort(npNormalScores)[int(len(npNormalScores) * 0.995)]"
   ]
  },
  {
   "cell_type": "code",
   "execution_count": 150,
   "metadata": {},
   "outputs": [
    {
     "data": {
      "image/png": "[encoded data removed]",
      "text/plain": [
       "<Figure size 1080x720 with 2 Axes>"
      ]
     },
     "metadata": {
      "needs_background": "light"
     },
     "output_type": "display_data"
    }
   ],
   "source": [
    "# 做出散点图。其中，虚线表示阈值。\n",
    "plt.figure(figsize=(15, 10))\n",
    "plt.subplot(2, 1, 1)\n",
    "plt.scatter(npNormalX % nTotalLen, npNormalScores, c=\"green\", s=0.5)\n",
    "plt.hlines(fThreshold, xmin=-100, xmax=nTotalLen + 100, linestyles=\"dashed\")\n",
    "plt.xlim([-100, nTotalLen + 100])\n",
    "plt.ylim([0, 2])\n",
    "\n",
    "plt.subplot(2, 1, 2)\n",
    "plt.scatter(npAbnormalX % nTotalLen, npAbnormalScores, c=\"red\", s=0.5)\n",
    "plt.hlines(fThreshold, xmin=-100, xmax=nTotalLen + 100, linestyles=\"dashed\")\n",
    "plt.xlim([-100, nTotalLen + 100])\n",
    "plt.ylim([0, 2])\n",
    "plt.show()"
   ]
  },
  {
   "cell_type": "markdown",
   "metadata": {},
   "source": [
    "## 维特比译码"
   ]
  },
  {
   "cell_type": "markdown",
   "metadata": {},
   "source": [
    "### 构造建立模型\n",
    "18个属性"
   ]
  },
  {
   "cell_type": "code",
   "execution_count": 97,
   "metadata": {},
   "outputs": [],
   "source": [
    "class GANvi(object):\n",
    "    def __init__(self):\n",
    "        self.fn_makeGenerator()\n",
    "        self.fn_makeDiscriminator()\n",
    "        \n",
    "    def fn_makeGenerator(self):\n",
    "        self.oSeqGe = tf.keras.Sequential(name=\"Ge\")\n",
    "        self.oSeqGe.add(tf.keras.Input(shape=(18,)))\n",
    "        self.oSeqGe.add(tf.keras.layers.Dense(14, kernel_initializer=\"he_normal\"))\n",
    "        self.oSeqGe.add(tf.keras.layers.LeakyReLU())\n",
    "        self.oSeqGe.add(tf.keras.layers.BatchNormalization())\n",
    "        self.oSeqGe.add(tf.keras.layers.Dense(14, kernel_initializer=\"he_normal\"))\n",
    "        self.oSeqGe.add(tf.keras.layers.LeakyReLU())\n",
    "\n",
    "        self.oSeqGd = tf.keras.Sequential(name=\"Gd\")\n",
    "        self.oSeqGd.add(tf.keras.Input(shape=(14,)))\n",
    "        self.oSeqGd.add(tf.keras.layers.Dense(14, kernel_initializer=\"he_normal\"))\n",
    "        self.oSeqGd.add(tf.keras.layers.LeakyReLU())\n",
    "        self.oSeqGd.add(tf.keras.layers.BatchNormalization())\n",
    "        self.oSeqGd.add(tf.keras.layers.Dense(18, activation = tf.keras.activations.sigmoid))\n",
    "        \n",
    "        self.oSeqGe1 = tf.keras.Sequential(name=\"Ge1\")\n",
    "        self.oSeqGe1.add(tf.keras.Input(shape=(18,)))\n",
    "        self.oSeqGe1.add(tf.keras.layers.Dense(14, kernel_initializer=\"he_normal\"))\n",
    "        self.oSeqGe1.add(tf.keras.layers.LeakyReLU())\n",
    "        self.oSeqGe1.add(tf.keras.layers.BatchNormalization())\n",
    "        self.oSeqGe1.add(tf.keras.layers.Dense(14, kernel_initializer=\"he_normal\"))\n",
    "        self.oSeqGe1.add(tf.keras.layers.LeakyReLU())\n",
    "        \n",
    "    def fn_makeDiscriminator(self):\n",
    "        self.oSeqDInner = tf.keras.Sequential(name=\"DInner\")\n",
    "        self.oSeqDInner.add(tf.keras.Input(shape=(18,)))\n",
    "        self.oSeqDInner.add(tf.keras.layers.Dense(14, kernel_initializer=\"he_normal\"))\n",
    "        self.oSeqDInner.add(tf.keras.layers.LeakyReLU())\n",
    "        self.oSeqDInner.add(tf.keras.layers.BatchNormalization())\n",
    "        self.oSeqDInner.add(tf.keras.layers.Dense(14, kernel_initializer=\"he_normal\"))\n",
    "        self.oSeqDInner.add(tf.keras.layers.LeakyReLU())\n",
    "        self.oSeqDInner.add(tf.keras.layers.BatchNormalization())\n",
    "\n",
    "        self.oSeqD = tf.keras.Sequential([\n",
    "            self.oSeqDInner,\n",
    "            tf.keras.layers.Dense(1, activation = tf.keras.activations.sigmoid)\n",
    "        ], name=\"D\")"
   ]
  },
  {
   "cell_type": "code",
   "execution_count": 108,
   "metadata": {},
   "outputs": [],
   "source": [
    "# 新建模型\n",
    "tf.keras.backend.clear_session()\n",
    "oGANvi = GANvi()"
   ]
  },
  {
   "cell_type": "markdown",
   "metadata": {},
   "source": [
    "### 构造数据集"
   ]
  },
  {
   "cell_type": "code",
   "execution_count": 99,
   "metadata": {},
   "outputs": [],
   "source": [
    "g_nFeatures = 18\n",
    "g_nBatchSize = 256\n",
    "\n",
    "def fn_splitCsvLine(strLine):\n",
    "    tensorDefs = [0.] * g_nFeatures\n",
    "    tensorRecord = tf.io.decode_csv(strLine, record_defaults=tensorDefs)\n",
    "    tensorX = tf.stack(tensorRecord)\n",
    "    return tensorX\n",
    "\n",
    "oDataset = tf.data.Dataset.list_files(strJobsDir + \"/*/*/parts/sync/vi/*/samples/normal/train/preprocessed/samples.csv\")\n",
    "oDataset = oDataset.interleave(lambda strSamplesFile: tf.data.TextLineDataset(strSamplesFile).skip(1), \\\n",
    "                              cycle_length=5, num_parallel_calls=5)\n",
    "oDataset = oDataset.map(fn_splitCsvLine, g_nFeatures)\n",
    "oDataset = oDataset.shuffle(1000)\n",
    "oDataset = oDataset.batch(g_nBatchSize)"
   ]
  },
  {
   "cell_type": "code",
   "execution_count": 112,
   "metadata": {},
   "outputs": [],
   "source": [
    "# 读入所有的训练样本，从而通过shape属性得到训练集大小，存入全局变量中\n",
    "# 由于对于分路情况，有I和Q两路样本，所以两路都要读\n",
    "listPreprocessedNormalTrainingSamples = []\n",
    "for strJob in os.listdir(strJobsDir):\n",
    "    strJobDir = os.path.join(strJobsDir, strJob)\n",
    "    listDemodDirs = fn_getDemodDirsOfAJob(strJobDir)\n",
    "    for strDemodDir in listDemodDirs:\n",
    "        # 读入控制文件，方便判断合路、分路 \n",
    "        pdDfControl = pd.read_csv(os.path.join(strDemodDir, \"control.csv\"), index_col=\"RECTIME\")\n",
    "        # 设置部分的文件夹\n",
    "        strSectionDir = os.path.join(strDemodDir, \"parts/sync/vi\")\n",
    "        \n",
    "        # 用dataframe的numpy值存入链表，再收尾连接。因为I和Q的属性名称的后缀不同，直接连接会出现Nan\n",
    "        if pdDfControl[\"DEMOD_FRAMESYNCINPUT\"][0] == 1:\n",
    "            # 合路\n",
    "            listPreprocessedNormalTrainingSamples.append(\\\n",
    "                 pd.read_csv(os.path.join(strSectionDir, \"I/samples/normal/train/preprocessed/samples.csv\")).values)\n",
    "        else:\n",
    "            # 分路\n",
    "            listPreprocessedNormalTrainingSamples.append(\\\n",
    "                 pd.read_csv(os.path.join(strSectionDir, \"I/samples/normal/train/preprocessed/samples.csv\")).values)\n",
    "            listPreprocessedNormalTrainingSamples.append(\\\n",
    "                 pd.read_csv(os.path.join(strSectionDir, \"Q/samples/normal/train/preprocessed/samples.csv\")).values)\n",
    "pdDfPreprocessedNormalTrainingSamples = np.concatenate(listPreprocessedNormalTrainingSamples)\n",
    "g_tensorNormalTrainingSamples = tf.constant(pdDfPreprocessedNormalTrainingSamples, dtype=tf.float32)\n",
    "g_nTrainingSize = len(g_tensorNormalTrainingSamples)"
   ]
  },
  {
   "cell_type": "markdown",
   "metadata": {},
   "source": [
    "### 训练"
   ]
  },
  {
   "cell_type": "code",
   "execution_count": 103,
   "metadata": {},
   "outputs": [],
   "source": [
    "# g_nTrainingSize在中频控制已经设置好了\n",
    "g_nEpochs = 400\n",
    "nSteps = g_nEpochs * g_nTrainingSize // g_nBatchSize\n",
    "oExponentialDecay = tf.keras.optimizers.schedules.ExponentialDecay(1e-2, nSteps, 1e-1)\n",
    "oOptimizerG = tf.keras.optimizers.Adam(learning_rate=oExponentialDecay)\n",
    "oOptimizerD = tf.keras.optimizers.SGD(learning_rate=oExponentialDecay)"
   ]
  },
  {
   "cell_type": "code",
   "execution_count": 114,
   "metadata": {},
   "outputs": [],
   "source": [
    "# 构造日志\n",
    "strPrefix = datetime.datetime.now().strftime(\"%H_%M_%S\")\n",
    "strPrefix = \"{}\".format(strPrefix)\n",
    "oSummaryWriterDLoss = tf.summary.create_file_writer(\"logs/vi/\" + strPrefix + \"_D\")\n",
    "oSummaryWriterALoss = tf.summary.create_file_writer(\"logs/vi/\" + strPrefix + \"_A\")"
   ]
  },
  {
   "cell_type": "code",
   "execution_count": 115,
   "metadata": {},
   "outputs": [
    {
     "name": "stdout",
     "output_type": "stream",
     "text": [
      "2020-02-28 13:07:22.657416\n",
      "399/400"
     ]
    }
   ],
   "source": [
    "oSeqGe, oSeqGd, oSeqGe1 = fn_train(oGANvi)"
   ]
  },
  {
   "cell_type": "code",
   "execution_count": 117,
   "metadata": {},
   "outputs": [],
   "source": [
    "oSeqGe.save(\"models/sync/vi/Ge.h5\")\n",
    "oSeqGd.save(\"models/sync/vi/Gd.h5\")\n",
    "oSeqGe1.save(\"models/sync/vi/Ge1.h5\")"
   ]
  },
  {
   "cell_type": "markdown",
   "metadata": {},
   "source": [
    "### 评估"
   ]
  },
  {
   "cell_type": "code",
   "execution_count": 118,
   "metadata": {},
   "outputs": [
    {
     "name": "stdout",
     "output_type": "stream",
     "text": [
      "WARNING:tensorflow:No training configuration found in save file: the model was *not* compiled. Compile it manually.\n",
      "WARNING:tensorflow:No training configuration found in save file: the model was *not* compiled. Compile it manually.\n",
      "WARNING:tensorflow:No training configuration found in save file: the model was *not* compiled. Compile it manually.\n"
     ]
    }
   ],
   "source": [
    "oSeqGe = tf.keras.models.load_model(\"models/sync/vi/Ge.h5\")\n",
    "oSeqD = tf.keras.models.load_model(\"models/sync/vi/Gd.h5\")\n",
    "oSeqGe1 = tf.keras.models.load_model(\"models/sync/vi/Ge1.h5\")"
   ]
  },
  {
   "cell_type": "code",
   "execution_count": 173,
   "metadata": {},
   "outputs": [],
   "source": [
    "# 计算分数\n",
    "def fn_scoresIOrQ():\n",
    "    # test samples\n",
    "    pdDfPreprocessedSamples = pd.read_csv(\\\n",
    "          os.path.join(strSamplesDir, \"normal/test/preprocessed/samples.csv\"), index_col=\"RECTIME\")\n",
    "    # 分数csv包含scores列\n",
    "    pdDfScores = fn_score(pdDfPreprocessedSamples, oSeqGe, oSeqD, \\\n",
    "                          oSeqGe1)\n",
    "    # 下面再csv里面添加id_num\n",
    "    strDemod = os.path.split(strDemodDir)[1]\n",
    "    pdSeriesId = pd.Series(data=pdDfScores.index, name=\"id\")\n",
    "    pdSeriesId = pdSeriesId.apply(lambda id: crc32(str.encode(strDemod + id)))\n",
    "    pdDfScores[\"id\"] = pdSeriesId.values\n",
    "    \n",
    "    pdDfScores.to_csv(os.path.join(strSamplesDir, \"normal/test/preprocessed/scores.csv\"), index_label=\"RECTIME\")\n",
    "\n",
    "    # Abnormal samples\n",
    "    pdDfPreprocessedSamples = pd.read_csv(\\\n",
    "          os.path.join(strSamplesDir, \"abnormal/preprocessed/samples.csv\"), index_col=\"RECTIME\")\n",
    "    pdDfScores = fn_score(pdDfPreprocessedSamples, oSeqGe, oSeqD, \\\n",
    "                          oSeqGe1)\n",
    "    # 下面再csv里面添加id_num\n",
    "    # 用解调器名和分数对应的RECTIME组合成一个大的字符串，然后对这个大的字符串进行crc32编码，编出一个独一无二的大整数\n",
    "    strDemod = os.path.split(strDemodDir)[1]\n",
    "    pdSeriesId = pd.Series(data=pdDfScores.index, name=\"id\")\n",
    "    pdSeriesId = pdSeriesId.apply(lambda id: crc32(str.encode(strDemod + id)))\n",
    "    pdDfScores[\"id\"] = pdSeriesId.values\n",
    "    pdDfScores.to_csv(os.path.join(strSamplesDir, \"abnormal/preprocessed/scores.csv\"), index_label=\"RECTIME\")\n",
    "\n",
    "for strJob in os.listdir(strJobsDir):\n",
    "    listDemodDirs = fn_getDemodDirsOfAJob(os.path.join(strJobsDir, strJob))\n",
    "    for strDemodDir in listDemodDirs:\n",
    "        strSectionDir = os.path.join(strDemodDir, \"parts/sync/vi\")\n",
    "        # 读入控制文件\n",
    "        pdDfControl = pd.read_csv(os.path.join(strDemodDir, \"control.csv\"), index_col=\"RECTIME\")\n",
    "        \n",
    "        if pdDfControl[\"DEMOD_FRAMESYNCINPUT\"][0] == 1:\n",
    "            #合路\n",
    "            strSamplesDir = os.path.join(strSectionDir, \"I/samples\")\n",
    "            fn_scoresIOrQ()\n",
    "        else:\n",
    "            # 分路\n",
    "            strSamplesDir = os.path.join(strSectionDir, \"I/samples\")\n",
    "            fn_scoresIOrQ()\n",
    "            strSamplesDir = os.path.join(strSectionDir, \"Q/samples\")\n",
    "            fn_scoresIOrQ()"
   ]
  },
  {
   "cell_type": "code",
   "execution_count": 315,
   "metadata": {},
   "outputs": [],
   "source": [
    "# 读取分数\n",
    "# 需要读入每个分路正常测试样本的I路和Q路的分数，用于计算阈值\n",
    "# 只用读入每个异常测试样本的I路分数用于作图。由于异常测试样本的I路和Q路帧同步锁均没锁上，所以分路的异常测试样本的I路一定\n",
    "# 没有锁上。而且这样一来，用于作图的异常测试样本基本和分路之前的各个部分保持相同，更有利于看出图的变化\n",
    "listScores = []\n",
    "listX = []\n",
    "for strJob in os.listdir(strJobsDir):\n",
    "    listDemodDirs = fn_getDemodDirsOfAJob(os.path.join(strJobsDir, strJob))\n",
    "    for strDemodDir in listDemodDirs:\n",
    "        pdDfControl = pd.read_csv(os.path.join(strDemodDir, \"control.csv\"), index_col=\"RECTIME\")\n",
    "        strSectionDir = os.path.join(strDemodDir, \"parts/sync/vi\")\n",
    "        \n",
    "        if pdDfControl[\"DEMOD_FRAMESYNCINPUT\"][0] == 1:\n",
    "            # 合路\n",
    "            pdDfNormalTestingScores = pd.read_csv(os.path.join(strSectionDir, \\\n",
    "               \"I/samples/normal/test/preprocessed/scores.csv\"), index_col=\"RECTIME\")\n",
    "            listScores.append(pdDfNormalTestingScores[\"scores\"].values)\n",
    "            listX.append(pdDfNormalTestingScores[\"id\"].values)\n",
    "        else:\n",
    "            # 合路\n",
    "            pdDfNormalTestingScores = pd.read_csv(os.path.join(strSectionDir, \\\n",
    "               \"I/samples/normal/test/preprocessed/scores.csv\"), index_col=\"RECTIME\")\n",
    "            listScores.append(pdDfNormalTestingScores[\"scores\"].values)\n",
    "            listX.append(pdDfNormalTestingScores[\"id\"].values)\n",
    "            \n",
    "            pdDfNormalTestingScores = pd.read_csv(os.path.join(strSectionDir, \\\n",
    "               \"Q/samples/normal/test/preprocessed/scores.csv\"), index_col=\"RECTIME\")\n",
    "            listScores.append(pdDfNormalTestingScores[\"scores\"].values)\n",
    "            listX.append(pdDfNormalTestingScores[\"id\"].values)\n",
    "npNormalScores = np.concatenate(listScores)\n",
    "npNormalX = np.concatenate(listX)\n",
    "\n",
    "# 异常样本\n",
    "listScores = []\n",
    "listX = []\n",
    "for strJob in os.listdir(strJobsDir):\n",
    "    listDemodDirs = fn_getDemodDirsOfAJob(os.path.join(strJobsDir, strJob))\n",
    "    for strDemodDir in listDemodDirs:\n",
    "        strSectionDir = os.path.join(strDemodDir, \"parts/sync/vi\")\n",
    "        \n",
    "        pdDfAbnormalTestingScores = pd.read_csv(os.path.join(strSectionDir, \\\n",
    "           \"I/samples/abnormal/preprocessed/scores.csv\"), index_col=\"RECTIME\")\n",
    "        listScores.append(pdDfAbnormalTestingScores[\"scores\"].values)\n",
    "        listX.append(pdDfAbnormalTestingScores[\"id\"].values)\n",
    "npAbnormalScores = np.concatenate(listScores)\n",
    "npAbnormalX = np.concatenate(listX)"
   ]
  },
  {
   "cell_type": "code",
   "execution_count": 316,
   "metadata": {},
   "outputs": [],
   "source": [
    "nTotalLen = npNormalX.shape[0] + npAbnormalX.shape[0]"
   ]
  },
  {
   "cell_type": "code",
   "execution_count": 317,
   "metadata": {},
   "outputs": [],
   "source": [
    "# 将正常测试样本的最大分数作为阈值，如果异常测试样本的分数大于该值则判错，小于判对\n",
    "fThreshold = np.sort(npNormalScores)[int(len(npNormalScores) * 0.98)]"
   ]
  },
  {
   "cell_type": "code",
   "execution_count": 318,
   "metadata": {},
   "outputs": [
    {
     "data": {
      "image/png": "[encoded data removed]",
      "text/plain": [
       "<Figure size 1080x720 with 2 Axes>"
      ]
     },
     "metadata": {
      "needs_background": "light"
     },
     "output_type": "display_data"
    }
   ],
   "source": [
    "# 做出散点图。其中，虚线表示阈值。\n",
    "plt.figure(figsize=(15, 10))\n",
    "plt.subplot(2, 1, 1)\n",
    "plt.scatter(npNormalX % nTotalLen, npNormalScores, c=\"green\", s=0.5)\n",
    "plt.hlines(fThreshold, xmin=-100, xmax=nTotalLen + 100, linestyles=\"dashed\")\n",
    "plt.xlim([-100, nTotalLen + 100])\n",
    "plt.ylim([0, 0.25])\n",
    "\n",
    "plt.subplot(2, 1, 2)\n",
    "plt.scatter(npAbnormalX % nTotalLen, npAbnormalScores, c=\"red\", s=0.5)\n",
    "plt.hlines(fThreshold, xmin=-100, xmax=nTotalLen + 100, linestyles=\"dashed\")\n",
    "plt.xlim([-100, nTotalLen + 100])\n",
    "plt.ylim([0, 0.25])\n",
    "plt.show()"
   ]
  },
  {
   "cell_type": "markdown",
   "metadata": {},
   "source": [
    "## 帧同步"
   ]
  },
  {
   "cell_type": "markdown",
   "metadata": {},
   "source": [
    "### 构造建立模型\n",
    "24个属性"
   ]
  },
  {
   "cell_type": "code",
   "execution_count": 289,
   "metadata": {},
   "outputs": [],
   "source": [
    "class GANframe(object):\n",
    "    def __init__(self):\n",
    "        self.fn_makeGenerator()\n",
    "        self.fn_makeDiscriminator()\n",
    "        \n",
    "    def fn_makeGenerator(self):\n",
    "        self.oSeqGe = tf.keras.Sequential(name=\"Ge\")\n",
    "        self.oSeqGe.add(tf.keras.Input(shape=(24,)))\n",
    "        self.oSeqGe.add(tf.keras.layers.Dense(22, kernel_initializer=\"he_normal\"))\n",
    "        self.oSeqGe.add(tf.keras.layers.LeakyReLU())\n",
    "        self.oSeqGe.add(tf.keras.layers.BatchNormalization())\n",
    "        self.oSeqGe.add(tf.keras.layers.Dense(22, kernel_initializer=\"he_normal\"))\n",
    "        self.oSeqGe.add(tf.keras.layers.LeakyReLU())\n",
    "\n",
    "        self.oSeqGd = tf.keras.Sequential(name=\"Gd\")\n",
    "        self.oSeqGd.add(tf.keras.Input(shape=(22,)))\n",
    "        self.oSeqGd.add(tf.keras.layers.Dense(22, kernel_initializer=\"he_normal\"))\n",
    "        self.oSeqGd.add(tf.keras.layers.LeakyReLU())\n",
    "        self.oSeqGd.add(tf.keras.layers.BatchNormalization())\n",
    "        # 原来的输出层\n",
    "#        self.oSeqGd.add(tf.keras.layers.Dense(24, activation = tf.keras.activations.sigmoid))\n",
    "        # 该成tanh\n",
    "        self.oSeqGd.add(tf.keras.layers.Dense(24, kernel_initializer=\"he_normal\", activation=\"tanh\"))\n",
    "\n",
    "        \n",
    "        self.oSeqGe1 = tf.keras.Sequential(name=\"Ge1\")\n",
    "        self.oSeqGe1.add(tf.keras.Input(shape=(24,)))\n",
    "        self.oSeqGe1.add(tf.keras.layers.Dense(22, kernel_initializer=\"he_normal\"))\n",
    "        self.oSeqGe1.add(tf.keras.layers.LeakyReLU())\n",
    "        self.oSeqGe1.add(tf.keras.layers.BatchNormalization())\n",
    "        self.oSeqGe1.add(tf.keras.layers.Dense(22, kernel_initializer=\"he_normal\"))\n",
    "        self.oSeqGe1.add(tf.keras.layers.LeakyReLU())\n",
    "    def fn_makeDiscriminator(self):\n",
    "        self.oSeqDInner = tf.keras.Sequential(name=\"DInner\")\n",
    "        self.oSeqDInner.add(tf.keras.Input(shape=(24,)))\n",
    "        self.oSeqDInner.add(tf.keras.layers.Dense(22, kernel_initializer=\"he_normal\"))\n",
    "        self.oSeqDInner.add(tf.keras.layers.LeakyReLU())\n",
    "        self.oSeqDInner.add(tf.keras.layers.BatchNormalization())\n",
    "        self.oSeqDInner.add(tf.keras.layers.Dense(22, kernel_initializer=\"he_normal\"))\n",
    "        self.oSeqDInner.add(tf.keras.layers.LeakyReLU())\n",
    "        self.oSeqDInner.add(tf.keras.layers.BatchNormalization())\n",
    "\n",
    "        self.oSeqD = tf.keras.Sequential([\n",
    "            self.oSeqDInner,\n",
    "            tf.keras.layers.Dense(1, activation = tf.keras.activations.sigmoid)\n",
    "        ], name=\"D\")"
   ]
  },
  {
   "cell_type": "code",
   "execution_count": 290,
   "metadata": {},
   "outputs": [],
   "source": [
    "# 新建模型\n",
    "tf.keras.backend.clear_session()\n",
    "oGANframe = GANframe()"
   ]
  },
  {
   "cell_type": "markdown",
   "metadata": {},
   "source": [
    "### 构造数据集"
   ]
  },
  {
   "cell_type": "code",
   "execution_count": 291,
   "metadata": {},
   "outputs": [],
   "source": [
    "g_nFeatures = 24\n",
    "g_nBatchSize = 256\n",
    "\n",
    "def fn_splitCsvLine(strLine):\n",
    "    tensorDefs = [0.] * g_nFeatures\n",
    "    tensorRecord = tf.io.decode_csv(strLine, record_defaults=tensorDefs)\n",
    "    tensorX = tf.stack(tensorRecord)\n",
    "    return tensorX\n",
    "\n",
    "oDataset = tf.data.Dataset.list_files(strJobsDir + \"/*/*/parts/sync/frame/*/samples/normal/train/preprocessed/samples.csv\")\n",
    "oDataset = oDataset.interleave(lambda strSamplesFile: tf.data.TextLineDataset(strSamplesFile).skip(1), \\\n",
    "                              cycle_length=5, num_parallel_calls=5)\n",
    "oDataset = oDataset.map(fn_splitCsvLine, g_nFeatures)\n",
    "oDataset = oDataset.shuffle(1000)\n",
    "oDataset = oDataset.batch(g_nBatchSize)"
   ]
  },
  {
   "cell_type": "code",
   "execution_count": 256,
   "metadata": {},
   "outputs": [],
   "source": [
    "# 读入所有的训练样本，从而通过shape属性得到训练集大小，存入全局变量中，并且要用于每次迭代结束后计算总的损失，从而求得最佳模型\n",
    "# 由于对于分路情况，有I和Q两路样本，所以两路都要读\n",
    "listPreprocessedNormalTrainingSamples = []\n",
    "for strJob in os.listdir(strJobsDir):\n",
    "    strJobDir = os.path.join(strJobsDir, strJob)\n",
    "    listDemodDirs = fn_getDemodDirsOfAJob(strJobDir)\n",
    "    for strDemodDir in listDemodDirs:\n",
    "        # 读入控制文件，方便判断合路、分路 \n",
    "        pdDfControl = pd.read_csv(os.path.join(strDemodDir, \"control.csv\"), index_col=\"RECTIME\")\n",
    "        # 设置部分的文件夹\n",
    "        strSectionDir = os.path.join(strDemodDir, \"parts/sync/frame\")\n",
    "        \n",
    "        # 用dataframe的numpy值存入链表，再收尾连接。因为I和Q的属性名称的后缀不同，直接连接会出现Nan\n",
    "        if pdDfControl[\"DEMOD_FRAMESYNCINPUT\"][0] == 1:\n",
    "            # 合路\n",
    "            listPreprocessedNormalTrainingSamples.append(\\\n",
    "                 pd.read_csv(os.path.join(strSectionDir, \"I/samples/normal/train/preprocessed/samples.csv\")).values)\n",
    "        else:\n",
    "            # 分路\n",
    "            listPreprocessedNormalTrainingSamples.append(\\\n",
    "                 pd.read_csv(os.path.join(strSectionDir, \"I/samples/normal/train/preprocessed/samples.csv\")).values)\n",
    "            listPreprocessedNormalTrainingSamples.append(\\\n",
    "                 pd.read_csv(os.path.join(strSectionDir, \"Q/samples/normal/train/preprocessed/samples.csv\")).values)\n",
    "pdDfPreprocessedNormalTrainingSamples = np.concatenate(listPreprocessedNormalTrainingSamples)\n",
    "g_tensorNormalTrainingSamples = tf.constant(pdDfPreprocessedNormalTrainingSamples, dtype=tf.float32)\n",
    "g_nTrainingSize = len(g_tensorNormalTrainingSamples)"
   ]
  },
  {
   "cell_type": "markdown",
   "metadata": {},
   "source": [
    "### 训练"
   ]
  },
  {
   "cell_type": "code",
   "execution_count": 292,
   "metadata": {},
   "outputs": [],
   "source": [
    "g_nEpochs = 400\n",
    "nSteps = g_nEpochs * g_nTrainingSize // g_nBatchSize\n",
    "oExponentialDecay = tf.keras.optimizers.schedules.ExponentialDecay(1e-2, nSteps, 1e-1)\n",
    "oOptimizerG = tf.keras.optimizers.Adam(learning_rate=oExponentialDecay)\n",
    "oOptimizerD = tf.keras.optimizers.SGD(learning_rate=oExponentialDecay)"
   ]
  },
  {
   "cell_type": "code",
   "execution_count": 293,
   "metadata": {},
   "outputs": [],
   "source": [
    "# 构造日志\n",
    "strPrefix = datetime.datetime.now().strftime(\"%H_%M_%S\")\n",
    "strPrefix = \"{}\".format(\"noflip_tanh_24_22\")\n",
    "oSummaryWriterDLoss = tf.summary.create_file_writer(\"logs/frame/\" + strPrefix + \"_D\")\n",
    "oSummaryWriterALoss = tf.summary.create_file_writer(\"logs/frame/\" + strPrefix + \"_A\")"
   ]
  },
  {
   "cell_type": "code",
   "execution_count": 294,
   "metadata": {},
   "outputs": [
    {
     "name": "stdout",
     "output_type": "stream",
     "text": [
      "2020-02-29 13:14:49.742315\n",
      "399/400"
     ]
    }
   ],
   "source": [
    "def fn_train(oGAN): \n",
    "    def fn_getGLoss(tensorInput):\n",
    "        # Apperant loss\n",
    "        tensorEncodedSamples = oGAN.oSeqGe(tensorInput)\n",
    "        tensorFakeSamples = oGAN.oSeqGd(tensorEncodedSamples)\n",
    "        tensorApperantLoss = tf.reduce_mean(tf.losses.mean_absolute_error(tensorInput, tensorFakeSamples))\n",
    "\n",
    "        # Latent loss\n",
    "        tensorEncoded1Samples = oGAN.oSeqGe1(tensorFakeSamples)\n",
    "        tensorLatentLoss = \\\n",
    "        tf.reduce_mean(tf.losses.mean_squared_error(tensorEncodedSamples, tensorEncoded1Samples))\n",
    "\n",
    "        # Feature matching loss\n",
    "        tensorPredFeatures = oGAN.oSeqDInner(tensorFakeSamples)\n",
    "        tensorTrueFeatures = oGAN.oSeqDInner(tensorInput)\n",
    "        tensorFeatureLoss = tf.reduce_mean(tf.losses.mean_squared_error(tensorPredFeatures, tensorTrueFeatures))\n",
    "\n",
    "        tensorGLoss = tensorApperantLoss + tensorLatentLoss + tensorFeatureLoss\n",
    "        return tensorGLoss\n",
    "    # 在每个epoch后存储最小的ALoss和对应的\n",
    "    fGLossLast = np.inf\n",
    "    # 存储生成器的解码器和译码器\n",
    "    oSeqLastGe = None\n",
    "    oSeqLastGd = None\n",
    "    oSeqLastGe1 = None\n",
    "    # 开始训练，输出训练的开始时间和训练的结束时间\n",
    "    nStep = 0\n",
    "    print(datetime.datetime.now())\n",
    "    for nEpoch in range(g_nEpochs):\n",
    "        for tensorBatch in oDataset:\n",
    "            # Train discriminator\n",
    "            # Generator fake samples\n",
    "            tensorEncodedSamples = oGAN.oSeqGe(tensorBatch)\n",
    "            tensorFakeSamples = oGAN.oSeqGd(tensorEncodedSamples)\n",
    "            with tf.GradientTape() as oGradientTapeD:\n",
    "                # Train discriminator with real samples\n",
    "                npNArrLabels = np.random.uniform(low=0.7, high=1.2, size=(tensorBatch.shape[0], 1))\n",
    "                \"\"\"\n",
    "                #occasionaly flip the labels\n",
    "                nFlipLen = int(0.05 * npNArrLabels.shape[0])\n",
    "                npIndexes = np.random.randint(low=0, high=npNArrLabels.shape[0], size=nFlipLen)\n",
    "                npNArrLabels[npIndexes, 0] = np.random.uniform(low=0, high=0.3, size=nFlipLen)     \n",
    "                \"\"\"\n",
    "                tensorLabels = tf.constant(npNArrLabels, dtype=tf.float32)\n",
    "\n",
    "                tensorPreds = oGAN.oSeqD(tensorBatch)\n",
    "                tensorDLossR = tf.reduce_mean(tf.nn.sigmoid_cross_entropy_with_logits(tensorLabels, tensorPreds))\n",
    "            listDGradients = oGradientTapeD.gradient(tensorDLossR, oGAN.oSeqD.trainable_variables)\n",
    "            oOptimizerD.apply_gradients(zip(listDGradients, oGAN.oSeqD.trainable_variables))\n",
    "            with tf.GradientTape() as oGradientTapeD:\n",
    "               # Train discriminator with fake samples\n",
    "                npNArrLabels = np.random.uniform(low=0., high=0.3, size=(tensorFakeSamples.shape[0], 1))\n",
    "                \"\"\"\n",
    "                # occasionaly flip the labels\n",
    "                #nFlipLen = int(0.05 * npNArrLabels.shape[0])\n",
    "                #npIndexes = np.random.randint(low=0, high=npNArrLabels.shape[0], size=nFlipLen)\n",
    "                #npNArrLabels[npIndexes, 0] = np.random.uniform(low=0.7, high=1.2, size=nFlipLen)     \n",
    "                \"\"\"\n",
    "                tensorLabels = tf.constant(npNArrLabels, dtype=tf.float32)\n",
    "                \n",
    "                tensorPreds = oGAN.oSeqD(tensorFakeSamples)\n",
    "                tensorDLossF = tf.reduce_mean(tf.nn.sigmoid_cross_entropy_with_logits(tensorLabels, tensorPreds))\n",
    "            listDGradients = oGradientTapeD.gradient(tensorDLossF, oGAN.oSeqD.trainable_variables)\n",
    "            oOptimizerD.apply_gradients(zip(listDGradients, oGAN.oSeqD.trainable_variables))\n",
    "            tensorDLoss = tensorDLossR + tensorDLossF\n",
    "            with oSummaryWriterDLoss.as_default():\n",
    "                tf.summary.scalar(\"D_Loss\", tensorDLoss, nStep)\n",
    "\n",
    "            # Train genertor\n",
    "            with tf.GradientTape() as oGradientTapeG:\n",
    "                tensorGLoss = fn_getGLoss(tensorBatch)\n",
    "            # Insert all generator trainable variables into a list\n",
    "            listTrainableGVariables = []\n",
    "            listTrainableGVariables.extend(oGAN.oSeqGe.trainable_variables)\n",
    "            listTrainableGVariables.extend(oGAN.oSeqGd.trainable_variables)\n",
    "            listTrainableGVariables.extend(oGAN.oSeqGe1.trainable_variables)\n",
    "\n",
    "            listGGradients = oGradientTapeG.gradient(tensorGLoss, listTrainableGVariables)\n",
    "            oOptimizerG.apply_gradients(zip(listGGradients, listTrainableGVariables))\n",
    "            with oSummaryWriterALoss.as_default():\n",
    "                tf.summary.scalar(\"A_loss\", tensorGLoss, nStep)\n",
    "\n",
    "            nStep = nStep + 1\n",
    "            \n",
    "        # 在整个训练集上计算generator的损失，并比较和上一次迭代的损失，如果小于上一次迭代，更新损失和最有模型；反之停止训练\n",
    "        tensorGLossOverTotalSamples = fn_getGLoss(g_tensorNormalTrainingSamples)\n",
    "        if fGLossLast > tensorGLossOverTotalSamples.numpy():\n",
    "            fGLossLast = tensorGLossOverTotalSamples.numpy()\n",
    "            oSeqLastGe = oGAN.oSeqGe\n",
    "            oSeqLastGd = oGAN.oSeqGd\n",
    "            oSeqLastGe1 = oGAN.oSeqGe1\n",
    "        # 输出进度\n",
    "        fn_printBar(nEpoch)\n",
    "    return oSeqLastGe, oSeqLastGd, oSeqLastGe1\n",
    "    print(datetime.datetime.now())\n",
    "\n",
    "\n",
    "oSeqGe, oSeqGd, oSeqGe1 = fn_train(oGANframe)"
   ]
  },
  {
   "cell_type": "code",
   "execution_count": 295,
   "metadata": {},
   "outputs": [],
   "source": [
    "oSeqGe.save(\"models/sync/frame/Ge.h5\")\n",
    "oSeqGd.save(\"models/sync/frame/Gd.h5\")\n",
    "oSeqGe1.save(\"models/sync/frame/Ge1.h5\")"
   ]
  },
  {
   "cell_type": "markdown",
   "metadata": {},
   "source": [
    "### 评估"
   ]
  },
  {
   "cell_type": "code",
   "execution_count": 296,
   "metadata": {},
   "outputs": [
    {
     "name": "stdout",
     "output_type": "stream",
     "text": [
      "WARNING:tensorflow:No training configuration found in save file: the model was *not* compiled. Compile it manually.\n",
      "WARNING:tensorflow:No training configuration found in save file: the model was *not* compiled. Compile it manually.\n",
      "WARNING:tensorflow:No training configuration found in save file: the model was *not* compiled. Compile it manually.\n"
     ]
    }
   ],
   "source": [
    "oSeqGe = tf.keras.models.load_model(\"models/sync/frame/Ge.h5\")\n",
    "oSeqD = tf.keras.models.load_model(\"models/sync/frame/Gd.h5\")\n",
    "oSeqGe1 = tf.keras.models.load_model(\"models/sync/frame/Ge1.h5\")"
   ]
  },
  {
   "cell_type": "code",
   "execution_count": 297,
   "metadata": {},
   "outputs": [],
   "source": [
    "# 计算分数\n",
    "def fn_scoresIOrQ():\n",
    "    # test samples\n",
    "    pdDfPreprocessedSamples = pd.read_csv(\\\n",
    "          os.path.join(strSamplesDir, \"normal/test/preprocessed/samples.csv\"), index_col=\"RECTIME\")\n",
    "    # 分数csv包含scores列\n",
    "    pdDfScores = fn_score(pdDfPreprocessedSamples, oSeqGe, oSeqD, \\\n",
    "                          oSeqGe1)\n",
    "    # 下面再csv里面添加id_num\n",
    "    strDemod = os.path.split(strDemodDir)[1]\n",
    "    pdSeriesId = pd.Series(data=pdDfScores.index, name=\"id\")\n",
    "    pdSeriesId = pdSeriesId.apply(lambda id: crc32(str.encode(strDemod + id)))\n",
    "    pdDfScores[\"id\"] = pdSeriesId.values\n",
    "    \n",
    "    pdDfScores.to_csv(os.path.join(strSamplesDir, \"normal/test/preprocessed/scores.csv\"), index_label=\"RECTIME\")\n",
    "\n",
    "    # Abnormal samples\n",
    "    pdDfPreprocessedSamples = pd.read_csv(\\\n",
    "          os.path.join(strSamplesDir, \"abnormal/preprocessed/samples.csv\"), index_col=\"RECTIME\")\n",
    "    pdDfScores = fn_score(pdDfPreprocessedSamples, oSeqGe, oSeqD, \\\n",
    "                          oSeqGe1)\n",
    "    # 下面再csv里面添加id_num\n",
    "    # 用解调器名和分数对应的RECTIME组合成一个大的字符串，然后对这个大的字符串进行crc32编码，编出一个独一无二的大整数\n",
    "    strDemod = os.path.split(strDemodDir)[1]\n",
    "    pdSeriesId = pd.Series(data=pdDfScores.index, name=\"id\")\n",
    "    pdSeriesId = pdSeriesId.apply(lambda id: crc32(str.encode(strDemod + id)))\n",
    "    pdDfScores[\"id\"] = pdSeriesId.values\n",
    "    pdDfScores.to_csv(os.path.join(strSamplesDir, \"abnormal/preprocessed/scores.csv\"), index_label=\"RECTIME\")\n",
    "\n",
    "for strJob in os.listdir(strJobsDir):\n",
    "    listDemodDirs = fn_getDemodDirsOfAJob(os.path.join(strJobsDir, strJob))\n",
    "    for strDemodDir in listDemodDirs:\n",
    "        strSectionDir = os.path.join(strDemodDir, \"parts/sync/frame\")\n",
    "        # 读入控制文件\n",
    "        pdDfControl = pd.read_csv(os.path.join(strDemodDir, \"control.csv\"), index_col=\"RECTIME\")\n",
    "        \n",
    "        if pdDfControl[\"DEMOD_FRAMESYNCINPUT\"][0] == 1:\n",
    "            #合路\n",
    "            strSamplesDir = os.path.join(strSectionDir, \"I/samples\")\n",
    "            fn_scoresIOrQ()\n",
    "        else:\n",
    "            # 分路\n",
    "            strSamplesDir = os.path.join(strSectionDir, \"I/samples\")\n",
    "            fn_scoresIOrQ()\n",
    "            strSamplesDir = os.path.join(strSectionDir, \"Q/samples\")\n",
    "            fn_scoresIOrQ()"
   ]
  },
  {
   "cell_type": "code",
   "execution_count": 319,
   "metadata": {},
   "outputs": [],
   "source": [
    "# 读取分数\n",
    "# 需要读入每个分路正常测试样本的I路和Q路的分数，用于计算阈值\n",
    "# 只用读入每个异常测试样本的I路分数用于作图。由于异常测试样本的I路和Q路帧同步锁均没锁上，所以分路的异常测试样本的I路一定\n",
    "# 没有锁上。而且这样一来，用于作图的异常测试样本基本和分路之前的各个部分保持相同，更有利于看出图的变化\n",
    "listScores = []\n",
    "listX = []\n",
    "for strJob in os.listdir(strJobsDir):\n",
    "    listDemodDirs = fn_getDemodDirsOfAJob(os.path.join(strJobsDir, strJob))\n",
    "    for strDemodDir in listDemodDirs:\n",
    "        pdDfControl = pd.read_csv(os.path.join(strDemodDir, \"control.csv\"), index_col=\"RECTIME\")\n",
    "        strSectionDir = os.path.join(strDemodDir, \"parts/sync/frame\")\n",
    "        \n",
    "        if pdDfControl[\"DEMOD_FRAMESYNCINPUT\"][0] == 1:\n",
    "            # 合路\n",
    "            pdDfNormalTestingScores = pd.read_csv(os.path.join(strSectionDir, \\\n",
    "               \"I/samples/normal/test/preprocessed/scores.csv\"), index_col=\"RECTIME\")\n",
    "            listScores.append(pdDfNormalTestingScores[\"scores\"].values)\n",
    "            listX.append(pdDfNormalTestingScores[\"id\"].values)\n",
    "        else:\n",
    "            # 合路\n",
    "            pdDfNormalTestingScores = pd.read_csv(os.path.join(strSectionDir, \\\n",
    "               \"I/samples/normal/test/preprocessed/scores.csv\"), index_col=\"RECTIME\")\n",
    "            listScores.append(pdDfNormalTestingScores[\"scores\"].values)\n",
    "            listX.append(pdDfNormalTestingScores[\"id\"].values)\n",
    "            \n",
    "            pdDfNormalTestingScores = pd.read_csv(os.path.join(strSectionDir, \\\n",
    "               \"Q/samples/normal/test/preprocessed/scores.csv\"), index_col=\"RECTIME\")\n",
    "            listScores.append(pdDfNormalTestingScores[\"scores\"].values)\n",
    "            listX.append(pdDfNormalTestingScores[\"id\"].values)\n",
    "npNormalScores = np.concatenate(listScores)\n",
    "npNormalX = np.concatenate(listX)\n",
    "\n",
    "# 异常样本\n",
    "listScores = []\n",
    "listX = []\n",
    "for strJob in os.listdir(strJobsDir):\n",
    "    listDemodDirs = fn_getDemodDirsOfAJob(os.path.join(strJobsDir, strJob))\n",
    "    for strDemodDir in listDemodDirs:\n",
    "        strSectionDir = os.path.join(strDemodDir, \"parts/sync/frame\")\n",
    "        \n",
    "        pdDfAbnormalTestingScores = pd.read_csv(os.path.join(strSectionDir, \\\n",
    "           \"I/samples/abnormal/preprocessed/scores.csv\"), index_col=\"RECTIME\")\n",
    "        listScores.append(pdDfAbnormalTestingScores[\"scores\"].values)\n",
    "        listX.append(pdDfAbnormalTestingScores[\"id\"].values)\n",
    "npAbnormalScores = np.concatenate(listScores)\n",
    "npAbnormalX = np.concatenate(listX)"
   ]
  },
  {
   "cell_type": "code",
   "execution_count": 320,
   "metadata": {},
   "outputs": [],
   "source": [
    "nTotalLen = npNormalX.shape[0] + npAbnormalX.shape[0]"
   ]
  },
  {
   "cell_type": "code",
   "execution_count": 321,
   "metadata": {},
   "outputs": [],
   "source": [
    "# 将正常测试样本的最大分数作为阈值，如果异常测试样本的分数大于该值则判错，小于判对\n",
    "fThreshold = np.sort(npNormalScores)[int(len(npNormalScores) * 0.98)]"
   ]
  },
  {
   "cell_type": "code",
   "execution_count": 322,
   "metadata": {},
   "outputs": [
    {
     "data": {
      "image/png": "[encoded data removed]",
      "text/plain": [
       "<Figure size 1080x720 with 2 Axes>"
      ]
     },
     "metadata": {
      "needs_background": "light"
     },
     "output_type": "display_data"
    }
   ],
   "source": [
    "# 做出散点图。其中，虚线表示阈值。\n",
    "plt.figure(figsize=(15, 10))\n",
    "plt.subplot(2, 1, 1)\n",
    "plt.scatter(npNormalX % nTotalLen, npNormalScores, c=\"green\", s=0.5)\n",
    "plt.hlines(fThreshold, xmin=-100, xmax=nTotalLen + 100, linestyles=\"dashed\")\n",
    "plt.xlim([-100, nTotalLen + 100])\n",
    "plt.ylim([0, 0.25])\n",
    "\n",
    "plt.subplot(2, 1, 2)\n",
    "plt.scatter(npAbnormalX % nTotalLen, npAbnormalScores, c=\"red\", s=0.5)\n",
    "plt.hlines(fThreshold, xmin=-100, xmax=nTotalLen + 100, linestyles=\"dashed\")\n",
    "plt.xlim([-100, nTotalLen + 100])\n",
    "plt.ylim([0, 0.25])\n",
    "plt.show()"
   ]
  },
  {
   "cell_type": "code",
   "execution_count": null,
   "metadata": {},
   "outputs": [],
   "source": []
  }
 ],
 "metadata": {
  "kernelspec": {
   "display_name": "Python 3",
   "language": "python",
   "name": "python3"
  },
  "language_info": {
   "codemirror_mode": {
    "name": "ipython",
    "version": 3
   },
   "file_extension": ".py",
   "mimetype": "text/x-python",
   "name": "python",
   "nbconvert_exporter": "python",
   "pygments_lexer": "ipython3",
   "version": "3.7.4"
  },
  "toc": {
   "base_numbering": 1,
   "nav_menu": {},
   "number_sections": true,
   "sideBar": true,
   "skip_h1_title": false,
   "title_cell": "Table of Contents",
   "title_sidebar": "Contents",
   "toc_cell": false,
   "toc_position": {
    "height": "calc(100% - 180px)",
    "left": "10px",
    "top": "150px",
    "width": "307.188px"
   },
   "toc_section_display": true,
   "toc_window_display": true
  }
 },
 "nbformat": 4,
 "nbformat_minor": 2
}
