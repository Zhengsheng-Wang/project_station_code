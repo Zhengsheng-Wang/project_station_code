{
 "cells": [
  {
   "cell_type": "code",
   "execution_count": 1,
   "metadata": {},
   "outputs": [],
   "source": [
    "import pdb"
   ]
  },
  {
   "cell_type": "code",
   "execution_count": 44,
   "metadata": {},
   "outputs": [],
   "source": [
    "import os\n",
    "\n",
    "import numpy as np\n",
    "import pandas as pd\n",
    "\n",
    "def fn_getSamples(bPositive, strPart, strJobsDir):\n",
    "    npNArrTotalSamples = []\n",
    "    for name in os.listdir(strJobsDir):\n",
    "        pdb.set_trace()\n",
    "        strJobDir = os.path.join(strJobsDir, name)\n",
    "        npNArrJobSamples = fn_getSamplesFromAJob(bPositive, strPart, strJobDir)\n",
    "        for npNArr in npNArrJobSamples:\n",
    "            npNArrTotalSamples.append(npNArr)\n",
    "    \n",
    "    npSamples = np.array(npNArrTotalSamples)\n",
    "    return npSamples\n",
    "        \n",
    "        \n",
    "def fn_getSamplesFromAJob(bPositive, strPart, strJobDir):\n",
    "    npNArrSamples = []\n",
    "    strSpecificDir = \"\"\n",
    "    if bPositive:\n",
    "        strSpecificDir = os.path.join(strJobDir, \"samples/positive\")\n",
    "    else:\n",
    "        strSpecificDir = os.path.join(strJobDir, \"samples/negtive\")\n",
    "        \n",
    "    for name in os.listdir(strSpecificDir):\n",
    "        strStatusDir = os.path.join(strSpecificDir, name)\n",
    "        strSectionsDir = os.path.join(strStatusDir, \"sections\")\n",
    "        for name in os.listdir(strSectionsDir):\n",
    "            if name == strPart:\n",
    "                strSectionDir = os.path.join(strSectionsDir, name)\n",
    "                npNArr = np.load(os.path.join(strSectionDir, \"status.npy\"))\n",
    "                npNArrSamples.append(npNArr)\n",
    "                break\n",
    "                \n",
    "    return npNArrSamples"
   ]
  },
  {
   "cell_type": "code",
   "execution_count": 46,
   "metadata": {},
   "outputs": [
    {
     "name": "stdout",
     "output_type": "stream",
     "text": [
      "> <ipython-input-44-c47e951dc13d>(10)fn_getSamples()\n",
      "-> strJobDir = os.path.join(strJobsDir, name)\n",
      "(Pdb) list\n",
      "  5  \t\n",
      "  6  \tdef fn_getSamples(bPositive, strPart, strJobsDir):\n",
      "  7  \t    npNArrTotalSamples = []\n",
      "  8  \t    for name in os.listdir(strJobsDir):\n",
      "  9  \t        pdb.set_trace()\n",
      " 10  ->\t        strJobDir = os.path.join(strJobsDir, name)\n",
      " 11  \t        npNArrJobSamples = fn_getSamplesFromAJob(bPositive, strPart, strJobDir)\n",
      " 12  \t        for npNArr in npNArrJobSamples:\n",
      " 13  \t            npNArrTotalSamples.append(npNArr)\n",
      " 14  \t\n",
      " 15  \t    npSamples = np.array(npNArrTotalSamples)\n",
      "(Pdb) c\n",
      "> <ipython-input-44-c47e951dc13d>(9)fn_getSamples()\n",
      "-> pdb.set_trace()\n",
      "(Pdb) npNArrTotalSamples\n",
      "[array([[-42.1667 ,   0.67019,   0.     ],\n",
      "       [-18.5198 ,  18.773  ,   0.     ],\n",
      "       [-16.4406 ,  19.1835 ,   0.     ],\n",
      "       [-13.896  ,  18.567  ,   0.     ],\n",
      "       [-10.2475 ,  19.1894 ,   0.     ],\n",
      "       [ -7.74753,  20.0617 ,   0.     ],\n",
      "       [ -8.94555,  20.1179 ,   0.     ],\n",
      "       [-12.6485 ,  19.0891 ,   0.     ],\n",
      "       [-15.698  ,  18.5182 ,   0.     ],\n",
      "       [-17.8267 ,  18.7716 ,   0.     ]]), array([[-33.75   ,   3.00932,   0.     ],\n",
      "       [-17.6287 ,  19.4556 ,   0.     ],\n",
      "       [-15.698  ,  20.2057 ,   0.     ],\n",
      "       [-13.2573 ,  20.1782 ,   0.     ],\n",
      "       [-10.8058 ,  20.2392 ,   0.     ],\n",
      "       [ -8.86893,  20.1237 ,   0.     ],\n",
      "       [ -9.85437,  20.6414 ,   0.     ],\n",
      "       [-12.3058 ,  20.5603 ,   0.     ],\n",
      "       [-15.1117 ,  20.5093 ,   0.     ],\n",
      "       [-17.3317 ,  19.6978 ,   0.     ]])]\n",
      "(Pdb) list\n",
      "  4  \timport pandas as pd\n",
      "  5  \t\n",
      "  6  \tdef fn_getSamples(bPositive, strPart, strJobsDir):\n",
      "  7  \t    npNArrTotalSamples = []\n",
      "  8  \t    for name in os.listdir(strJobsDir):\n",
      "  9  ->\t        pdb.set_trace()\n",
      " 10  \t        strJobDir = os.path.join(strJobsDir, name)\n",
      " 11  \t        npNArrJobSamples = fn_getSamplesFromAJob(bPositive, strPart, strJobDir)\n",
      " 12  \t        for npNArr in npNArrJobSamples:\n",
      " 13  \t            npNArrTotalSamples.append(npNArr)\n",
      " 14  \t\n",
      "(Pdb) c\n",
      "> <ipython-input-44-c47e951dc13d>(10)fn_getSamples()\n",
      "-> strJobDir = os.path.join(strJobsDir, name)\n",
      "(Pdb) c\n"
     ]
    },
    {
     "data": {
      "text/plain": [
       "array([[[-42.1667 ,   0.67019,   0.     ],\n",
       "        [-18.5198 ,  18.773  ,   0.     ],\n",
       "        [-16.4406 ,  19.1835 ,   0.     ],\n",
       "        [-13.896  ,  18.567  ,   0.     ],\n",
       "        [-10.2475 ,  19.1894 ,   0.     ],\n",
       "        [ -7.74753,  20.0617 ,   0.     ],\n",
       "        [ -8.94555,  20.1179 ,   0.     ],\n",
       "        [-12.6485 ,  19.0891 ,   0.     ],\n",
       "        [-15.698  ,  18.5182 ,   0.     ],\n",
       "        [-17.8267 ,  18.7716 ,   0.     ]],\n",
       "\n",
       "       [[-33.75   ,   3.00932,   0.     ],\n",
       "        [-17.6287 ,  19.4556 ,   0.     ],\n",
       "        [-15.698  ,  20.2057 ,   0.     ],\n",
       "        [-13.2573 ,  20.1782 ,   0.     ],\n",
       "        [-10.8058 ,  20.2392 ,   0.     ],\n",
       "        [ -8.86893,  20.1237 ,   0.     ],\n",
       "        [ -9.85437,  20.6414 ,   0.     ],\n",
       "        [-12.3058 ,  20.5603 ,   0.     ],\n",
       "        [-15.1117 ,  20.5093 ,   0.     ],\n",
       "        [-17.3317 ,  19.6978 ,   0.     ]],\n",
       "\n",
       "       [[-42.703  ,   3.723  ,   0.     ],\n",
       "        [-19.947  ,  20.178  ,   0.     ],\n",
       "        [-18.398  ,  20.377  ,   0.     ],\n",
       "        [-15.898  ,  21.179  ,   0.     ],\n",
       "        [-13.398  ,  20.11   ,   0.     ],\n",
       "        [-11.433  ,  21.013  ,   0.     ],\n",
       "        [-12.398  ,  19.996  ,   0.     ],\n",
       "        [-14.898  ,  21.355  ,   0.     ],\n",
       "        [-17.433  ,  20.918  ,   0.     ],\n",
       "        [-19.492  ,  20.42   ,   0.     ]],\n",
       "\n",
       "       [[-39.128  ,   3.561  ,   0.     ],\n",
       "        [-20.838  ,  20.598  ,   0.     ],\n",
       "        [-18.873  ,  21.048  ,   0.     ],\n",
       "        [-16.408  ,  21.758  ,   0.     ],\n",
       "        [-13.873  ,  21.756  ,   0.     ],\n",
       "        [-11.698  ,  21.914  ,   0.     ],\n",
       "        [-12.443  ,  22.646  ,   0.     ],\n",
       "        [-15.338  ,  22.16   ,   0.     ],\n",
       "        [-17.908  ,  21.75   ,   0.     ],\n",
       "        [-20.233  ,  20.909  ,   0.     ]],\n",
       "\n",
       "       [[-23.868  ,  18.429  ,   0.     ],\n",
       "        [-22.757  ,  13.91   ,   0.     ],\n",
       "        [-20.107  ,  17.379  ,   0.     ],\n",
       "        [-17.883  ,  18.715  ,   0.     ],\n",
       "        [-14.593  ,  20.46   ,   0.     ],\n",
       "        [-12.523  ,  22.173  ,   0.     ],\n",
       "        [-13.558  ,  21.024  ,   0.     ],\n",
       "        [-17.313  ,  19.859  ,   0.     ],\n",
       "        [-20.527  ,  16.95   ,   0.     ],\n",
       "        [-23.161  ,  13.577  ,   0.     ]]])"
      ]
     },
     "execution_count": 46,
     "metadata": {},
     "output_type": "execute_result"
    }
   ],
   "source": [
    "fn_getSamples(False, \"input\", \"jobs\")"
   ]
  },
  {
   "cell_type": "code",
   "execution_count": 38,
   "metadata": {},
   "outputs": [
    {
     "name": "stdout",
     "output_type": "stream",
     "text": [
      "[[3 4]\n",
      " [8 9]]\n"
     ]
    }
   ],
   "source": [
    "npNArr = np.array([[2, 3, 4], [5, 8, 9]])\n",
    "print(npNArr[:, 1:])"
   ]
  },
  {
   "cell_type": "code",
   "execution_count": 31,
   "metadata": {},
   "outputs": [
    {
     "name": "stdout",
     "output_type": "stream",
     "text": [
      "[[2 3 4]\n",
      " [5 8 9]]\n",
      "[[2 3 4]\n",
      " [5 8 9]]\n"
     ]
    }
   ],
   "source": [
    "npNArr1 = np.array(npNArr)\n",
    "\n",
    "npNArr2 = np.array([npNArr, npNArr1])\n",
    "npNArr2\n",
    "for n in npNArr2:\n",
    "    print(n)"
   ]
  }
 ],
 "metadata": {
  "kernelspec": {
   "display_name": "Python 3",
   "language": "python",
   "name": "python3"
  },
  "language_info": {
   "codemirror_mode": {
    "name": "ipython",
    "version": 3
   },
   "file_extension": ".py",
   "mimetype": "text/x-python",
   "name": "python",
   "nbconvert_exporter": "python",
   "pygments_lexer": "ipython3",
   "version": "3.6.8"
  }
 },
 "nbformat": 4,
 "nbformat_minor": 2
}
