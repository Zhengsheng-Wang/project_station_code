{
 "cells": [
  {
   "cell_type": "code",
   "execution_count": 1,
   "metadata": {},
   "outputs": [],
   "source": [
    "import os\n",
    "import shutil\n",
    "import datetime\n",
    "\n",
    "import random\n",
    "import pandas as pd\n",
    "import numpy as np\n",
    "import pdb"
   ]
  },
  {
   "cell_type": "code",
   "execution_count": 2,
   "metadata": {},
   "outputs": [],
   "source": [
    "import tensorflow as tf\n",
    "import tensorflow.keras as keras\n",
    "from tensorflow.keras.losses import binary_crossentropy, categorical_crossentropy, mean_squared_error\n",
    "from tensorflow.keras import layers\n",
    "from tensorflow.keras.models import Model\n",
    "from tensorflow.keras import Input"
   ]
  },
  {
   "cell_type": "code",
   "execution_count": 3,
   "metadata": {},
   "outputs": [],
   "source": [
    "%load_ext tensorboard"
   ]
  },
  {
   "cell_type": "code",
   "execution_count": 39,
   "metadata": {},
   "outputs": [],
   "source": [
    "keras.backend.clear_session()\n",
    "\n",
    "with tf.name_scope(\"Wong\"):    \n",
    "    inputs = Input(shape=(None, 10), name=\"inputs\")\n",
    "    x = layers.GRU(32, dropout = 0.1, recurrent_dropout=0.5, return_sequences=True, name=\"GRU_1\")(inputs)\n",
    "    outputs = layers.GRU(10, activation='relu', dropout=0.1, recurrent_dropout=0.5, return_sequences=True, name=\"GRU_2\")(x)\n",
    "    model = Model(inputs, outputs)"
   ]
  },
  {
   "cell_type": "code",
   "execution_count": 40,
   "metadata": {},
   "outputs": [],
   "source": [
    "train_data = np.empty((10, 10))\n",
    "for i in range(train_data.shape[0]):\n",
    "    train_data[i, :] = np.concatenate((np.random.randint(0, 2, 2), \n",
    "                                       np.array([0, 1, 0]), 10 * np.random.rand(5)))\n",
    "train_data = np.array([train_data, train_data, train_data])\n",
    "train_data = train_data.astype(np.float32)\n",
    "train_labels = train_data[:]"
   ]
  },
  {
   "cell_type": "code",
   "execution_count": 36,
   "metadata": {},
   "outputs": [
    {
     "name": "stdout",
     "output_type": "stream",
     "text": [
      "(3, 9, 10)\n"
     ]
    }
   ],
   "source": [
    "print(train_data[:, 1:].shape)"
   ]
  },
  {
   "cell_type": "code",
   "execution_count": 26,
   "metadata": {},
   "outputs": [],
   "source": [
    "fn_bce = tf.keras.losses.BinaryCrossentropy()\n",
    "fn_cce = tf.keras.losses.CategoricalCrossentropy()\n",
    "fn_mse = tf.keras.losses.MeanSquaredError()"
   ]
  },
  {
   "cell_type": "code",
   "execution_count": 41,
   "metadata": {},
   "outputs": [],
   "source": [
    "c_nCtg = 2\n",
    "c_nNum = 5\n",
    "c_nSeqsLen = 10\n",
    "c_nBatchLen = 3\n",
    "\n",
    "def fnBatchLoss(y_true, y_pred):\n",
    "    #pdb.set_trace()\n",
    "\n",
    "    fBinLoss = fn_bce(y_true = y_true[:,  :, : c_nCtg], y_pred=y_pred[:, :c_nSeqsLen - 1, : c_nCtg], sample_weight=0.1)\n",
    "    fCtgLoss = fn_cce(y_true=y_true[:, :, c_nCtg: c_nNum], y_pred=y_pred[:, :c_nSeqsLen - 1, c_nCtg : c_nNum], sample_weight=10)\n",
    "    fNumLoss = fn_mse(y_true=y_true[:, :, c_nNum : ], y_pred=y_pred[: , :c_nSeqsLen - 1, c_nNum: ])\n",
    "    \n",
    "    fLoss = tf.add_n([fBinLoss, fCtgLoss, fNumLoss])\n",
    "        \n",
    "    return fLoss\n"
   ]
  },
  {
   "cell_type": "code",
   "execution_count": 17,
   "metadata": {},
   "outputs": [],
   "source": [
    "optimizer = tf.optimizers.SGD()"
   ]
  },
  {
   "cell_type": "code",
   "execution_count": 42,
   "metadata": {},
   "outputs": [],
   "source": [
    "model.compile(loss=fnBatchLoss, optimizer=optimizer)"
   ]
  },
  {
   "cell_type": "code",
   "execution_count": 29,
   "metadata": {},
   "outputs": [],
   "source": [
    "logdir = './tb/'\n",
    "if os.path.exists(logdir):\n",
    "    shutil.rmtree(logdir)"
   ]
  },
  {
   "cell_type": "code",
   "execution_count": 20,
   "metadata": {},
   "outputs": [],
   "source": [
    "tensorboard_callback = keras.callbacks.TensorBoard(log_dir=logdir)"
   ]
  },
  {
   "cell_type": "code",
   "execution_count": 43,
   "metadata": {},
   "outputs": [
    {
     "name": "stdout",
     "output_type": "stream",
     "text": [
      "Train on 3 samples\n",
      "Epoch 1/3\n",
      "3/3 [==============================] - 2s 767ms/sample - loss: 201.7356\n",
      "Epoch 2/3\n",
      "3/3 [==============================] - 0s 6ms/sample - loss: 198.3286\n",
      "Epoch 3/3\n",
      "3/3 [==============================] - 0s 5ms/sample - loss: nan\n"
     ]
    },
    {
     "data": {
      "text/plain": [
       "<tensorflow.python.keras.callbacks.History at 0x7fc0948f3278>"
      ]
     },
     "execution_count": 43,
     "metadata": {},
     "output_type": "execute_result"
    }
   ],
   "source": [
    "model.fit(train_data, train_labels[:, 1:], epochs=3, callbacks=[tensorboard_callback])"
   ]
  },
  {
   "cell_type": "code",
   "execution_count": 44,
   "metadata": {},
   "outputs": [
    {
     "data": {
      "text/plain": [
       "Reusing TensorBoard on port 6008 (pid 72), started 0:30:27 ago. (Use '!kill 72' to kill it.)"
      ]
     },
     "metadata": {},
     "output_type": "display_data"
    },
    {
     "data": {
      "text/html": [
       "\n",
       "      <iframe id=\"tensorboard-frame-2841b7e941ff552b\" width=\"100%\" height=\"800\" frameborder=\"0\">\n",
       "      </iframe>\n",
       "      <script>\n",
       "        (function() {\n",
       "          const frame = document.getElementById(\"tensorboard-frame-2841b7e941ff552b\");\n",
       "          const url = new URL(\"/\", window.location);\n",
       "          url.port = 6008;\n",
       "          frame.src = url;\n",
       "        })();\n",
       "      </script>\n",
       "  "
      ],
      "text/plain": [
       "<IPython.core.display.HTML object>"
      ]
     },
     "metadata": {},
     "output_type": "display_data"
    }
   ],
   "source": [
    "%tensorboard --logdir tb --host 0.0.0.0 --port 6008"
   ]
  },
  {
   "cell_type": "code",
   "execution_count": null,
   "metadata": {},
   "outputs": [],
   "source": []
  }
 ],
 "metadata": {
  "kernelspec": {
   "display_name": "Python 3",
   "language": "python",
   "name": "python3"
  },
  "language_info": {
   "codemirror_mode": {
    "name": "ipython",
    "version": 3
   },
   "file_extension": ".py",
   "mimetype": "text/x-python",
   "name": "python",
   "nbconvert_exporter": "python",
   "pygments_lexer": "ipython3",
   "version": "3.6.8"
  }
 },
 "nbformat": 4,
 "nbformat_minor": 2
}
